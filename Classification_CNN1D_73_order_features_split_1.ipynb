{
  "nbformat": 4,
  "nbformat_minor": 0,
  "metadata": {
    "accelerator": "GPU",
    "colab": {
      "name": "Classification_CNN1D_73_order_features_split_1.ipynb",
      "provenance": [],
      "collapsed_sections": [],
      "include_colab_link": true
    },
    "kernelspec": {
      "display_name": "Python 3",
      "language": "python",
      "name": "python3"
    },
    "language_info": {
      "codemirror_mode": {
        "name": "ipython",
        "version": 3
      },
      "file_extension": ".py",
      "mimetype": "text/x-python",
      "name": "python",
      "nbconvert_exporter": "python",
      "pygments_lexer": "ipython3",
      "version": "3.7.4"
    }
  },
  "cells": [
    {
      "cell_type": "markdown",
      "metadata": {
        "id": "view-in-github",
        "colab_type": "text"
      },
      "source": [
        "<a href=\"https://colab.research.google.com/github/fwangliberty/AIoTDesign-Frontend/blob/master/Classification_CNN1D_73_order_features_split_1.ipynb\" target=\"_parent\"><img src=\"https://colab.research.google.com/assets/colab-badge.svg\" alt=\"Open In Colab\"/></a>"
      ]
    },
    {
      "cell_type": "markdown",
      "metadata": {
        "id": "Lq5p9swvZ04G"
      },
      "source": [
        "# CNN1N for CICIDS 2017 Data Set with ordered 73 Features (1) and SMOTE"
      ]
    },
    {
      "cell_type": "markdown",
      "metadata": {
        "id": "dXg4HMXOZ04H"
      },
      "source": [
        "We use the pre-processing dataset from mlp4nids (Multi-layer perceptron for network intrusion detection) https://github.com/ArnaudRosay/mlp4nids. The train, test and validation sets have \"src host count\" and \"dst host count\" new features. We try to use SMOTE to overcome the imbalanced dataset."
      ]
    },
    {
      "cell_type": "code",
      "metadata": {
        "id": "0SOKT1sRZ04I"
      },
      "source": [
        "import os\n",
        "from os.path import join\n",
        "import glob\n",
        "import pandas as pd\n",
        "import numpy as np\n",
        "import time\n",
        "import seaborn as sns\n",
        "import matplotlib.pyplot as plt"
      ],
      "execution_count": 100,
      "outputs": []
    },
    {
      "cell_type": "code",
      "metadata": {
        "id": "RH9hOnpmzv6-"
      },
      "source": [
        "def display_metrics(y_test, y_pred, label_names):\n",
        "  print('\\nAccuracy: {:.2f}\\n'.format(accuracy_score(y_test, y_pred)))\n",
        "\n",
        "  print('Micro Precision: {:.2f}'.format(precision_score(y_test, y_pred, average='micro')))\n",
        "  print('Micro Recall: {:.2f}'.format(recall_score(y_test, y_pred, average='micro')))\n",
        "  print('Micro F1-score: {:.2f}\\n'.format(f1_score(y_test, y_pred, average='micro')))\n",
        "\n",
        "  print('Macro Precision: {:.2f}'.format(precision_score(y_test, y_pred, average='macro')))\n",
        "  print('Macro Recall: {:.2f}'.format(recall_score(y_test, y_pred, average='macro')))\n",
        "  print('Macro F1-score: {:.2f}\\n'.format(f1_score(y_test, y_pred, average='macro')))\n",
        "\n",
        "  print('Weighted Precision: {:.2f}'.format(precision_score(y_test, y_pred, average='weighted')))\n",
        "  print('Weighted Recall: {:.2f}'.format(recall_score(y_test, y_pred, average='weighted')))\n",
        "  print('Weighted F1-score: {:.2f}'.format(f1_score(y_test, y_pred, average='weighted')))\n",
        "\n",
        "  print('\\nClassification Report\\n')\n",
        "  print(classification_report(y_test, y_pred, target_names=label_names))"
      ],
      "execution_count": 101,
      "outputs": []
    },
    {
      "cell_type": "code",
      "metadata": {
        "id": "xCwZZFMTZ04J"
      },
      "source": [
        "def display_all(df):\n",
        "    with pd.option_context(\"display.max_rows\", 100, \"display.max_columns\", 100): \n",
        "        print(df)"
      ],
      "execution_count": 102,
      "outputs": []
    },
    {
      "cell_type": "code",
      "metadata": {
        "id": "ceDogrv3Z04J"
      },
      "source": [
        "def make_value2index(attacks):\n",
        "    #make dictionary\n",
        "    attacks = sorted(attacks)\n",
        "    d = {}\n",
        "    counter=0\n",
        "    for attack in attacks:\n",
        "        d[attack] = counter\n",
        "        counter+=1\n",
        "    return d"
      ],
      "execution_count": 103,
      "outputs": []
    },
    {
      "cell_type": "code",
      "metadata": {
        "id": "Ht3b8hIQZ04K"
      },
      "source": [
        "# chganges label from string to integer/index\n",
        "def encode_label(Y_str):\n",
        "    labels_d = make_value2index(np.unique(Y_str))\n",
        "    Y = [labels_d[y_str] for y_str  in Y_str]\n",
        "    Y = np.array(Y)\n",
        "    return np.array(Y)"
      ],
      "execution_count": 104,
      "outputs": []
    },
    {
      "cell_type": "markdown",
      "metadata": {
        "id": "PMisXWZWZ04K"
      },
      "source": [
        "## Step 1. Loading csv files"
      ]
    },
    {
      "cell_type": "code",
      "metadata": {
        "id": "cwxZ7DrXZ04L"
      },
      "source": [
        "# All columns\n",
        "col_names = ['dst host count', 'src host count', 'Source Port', 'Destination Port',\n",
        "                      'Protocol', 'Flow Duration', 'Total Fwd Packets', 'Total Backward Packets', 'Total Length of Fwd Packets',\n",
        "                      'Total Length of Bwd Packets', 'Fwd Packet Length Max', 'Fwd Packet Length Min', 'Fwd Packet Length Mean',\n",
        "                      'Fwd Packet Length Std', 'Bwd Packet Length Max', 'Bwd Packet Length Min', 'Bwd Packet Length Mean', 'Bwd Packet Length Std',\n",
        "                      'Flow Bytes/s', 'Flow Packets/s', 'Flow IAT Mean', 'Flow IAT Std', 'Flow IAT Max', 'Flow IAT Min', 'Fwd IAT Total',\n",
        "                      'Fwd IAT Mean', 'Fwd IAT Std', 'Fwd IAT Max', 'Fwd IAT Min', 'Bwd IAT Total', 'Bwd IAT Mean', 'Bwd IAT Std', 'Bwd IAT Max',\n",
        "                      'Bwd IAT Min', 'Fwd PSH Flags', 'Fwd URG Flags', 'Fwd Header Length', 'Bwd Header Length',\n",
        "                      'Fwd Packets/s', 'Bwd Packets/s', 'Min Packet Length', 'Max Packet Length', 'Packet Length Mean', 'Packet Length Std',\n",
        "                      'Packet Length Variance', 'FIN Flag Count', 'SYN Flag Count', 'RST Flag Count', 'PSH Flag Count', 'ACK Flag Count',\n",
        "                      'URG Flag Count', 'CWE Flag Count', 'ECE Flag Count', 'Down/Up Ratio', 'Average Packet Size', 'Avg Fwd Segment Size',\n",
        "                      'Avg Bwd Segment Size','Subflow Fwd Packets', 'Subflow Fwd Bytes',\n",
        "                      'Subflow Bwd Packets', 'Subflow Bwd Bytes', 'Init_Win_bytes_forward', 'Init_Win_bytes_backward',\n",
        "                      'act_data_pkt_fwd', 'min_seg_size_forward', 'Active Mean', 'Active Std', 'Active Max', 'Active Min', 'Idle Mean',\n",
        "                      'Idle Std', 'Idle Max', 'Idle Min', 'Label']"
      ],
      "execution_count": 6,
      "outputs": []
    },
    {
      "cell_type": "code",
      "metadata": {
        "id": "2clW-8iDS309"
      },
      "source": [
        "col_important = np.array(['dst host count', 'src host count', 'Source Port', 'Destination Port', 'Fwd IAT Min', 'Init_Win_bytes_forward', 'Init_Win_bytes_backward', 'Flow IAT Min',\r\n",
        "                      'Flow Duration', 'Total Fwd Packets', 'Total Backward Packets', 'Total Length of Fwd Packets',\r\n",
        "                      'Total Length of Bwd Packets', 'Fwd Packet Length Max', 'Protocol', 'Fwd Packet Length Min', 'Fwd Packet Length Mean',\r\n",
        "                      'Fwd Packet Length Std', 'Bwd Packet Length Max', 'Bwd Packet Length Min', 'Bwd Packet Length Mean', 'Bwd Packet Length Std',\r\n",
        "                      'Flow Bytes/s', 'Flow Packets/s', 'Flow IAT Mean', 'Flow IAT Std', 'Flow IAT Max', 'Fwd IAT Total',\r\n",
        "                      'Fwd IAT Mean', 'Fwd IAT Std', 'Fwd IAT Max', 'Bwd IAT Total', 'Bwd IAT Mean', 'Bwd IAT Std', 'Bwd IAT Max',\r\n",
        "                      'Bwd IAT Min', 'Fwd PSH Flags', 'Fwd URG Flags', 'Fwd Header Length', 'Bwd Header Length',\r\n",
        "                      'Fwd Packets/s', 'Bwd Packets/s', 'Min Packet Length', 'Max Packet Length', 'Packet Length Mean', 'Packet Length Std',\r\n",
        "                      'Packet Length Variance', 'FIN Flag Count', 'SYN Flag Count', 'RST Flag Count', 'PSH Flag Count', 'ACK Flag Count',\r\n",
        "                      'URG Flag Count', 'CWE Flag Count', 'ECE Flag Count', 'Down/Up Ratio', 'Average Packet Size', 'Avg Fwd Segment Size',\r\n",
        "                      'Avg Bwd Segment Size','Subflow Fwd Packets', 'Subflow Fwd Bytes',\r\n",
        "                      'Subflow Bwd Packets', 'Subflow Bwd Bytes', \r\n",
        "                      'act_data_pkt_fwd', 'min_seg_size_forward', 'Active Mean', 'Active Std', 'Active Max', 'Active Min', 'Idle Mean',\r\n",
        "                      'Idle Std', 'Idle Max', 'Idle Min', 'Label'])"
      ],
      "execution_count": 105,
      "outputs": []
    },
    {
      "cell_type": "markdown",
      "metadata": {
        "id": "KoCkMRAcaIA6"
      },
      "source": [
        "### Option 1. Connect to Google Drive"
      ]
    },
    {
      "cell_type": "code",
      "metadata": {
        "colab": {
          "base_uri": "https://localhost:8080/"
        },
        "id": "6uaw_A5kaHSj",
        "outputId": "c87f4495-7678-4245-ff2f-e7f963a8e20c"
      },
      "source": [
        "from google.colab import drive\n",
        "drive.mount('/content/drive')"
      ],
      "execution_count": 106,
      "outputs": [
        {
          "output_type": "stream",
          "text": [
            "Drive already mounted at /content/drive; to attempt to forcibly remount, call drive.mount(\"/content/drive\", force_remount=True).\n"
          ],
          "name": "stdout"
        }
      ]
    },
    {
      "cell_type": "code",
      "metadata": {
        "id": "4qUtBnilZ04M"
      },
      "source": [
        "# load three csv files generated by mlp4nids (Multi-layer perceptron for network intrusion detection )\n",
        "# first load the train set\n",
        "df_train = pd.read_csv('/content/drive/My Drive/CICIDS2017/train_set_ext.csv',names=col_important, skiprows=1)  "
      ],
      "execution_count": 107,
      "outputs": []
    },
    {
      "cell_type": "code",
      "metadata": {
        "colab": {
          "base_uri": "https://localhost:8080/"
        },
        "id": "IBn8DsjhX_U4",
        "outputId": "7147c3cb-52b5-4ad2-ba32-c21732155b35"
      },
      "source": [
        "print('Train set size: ', df_train.shape)"
      ],
      "execution_count": 108,
      "outputs": [
        {
          "output_type": "stream",
          "text": [
            "Train set size:  (556548, 74)\n"
          ],
          "name": "stdout"
        }
      ]
    },
    {
      "cell_type": "code",
      "metadata": {
        "colab": {
          "base_uri": "https://localhost:8080/"
        },
        "id": "YXYvaCAjZ04P",
        "outputId": "0c6973f1-36dc-41f2-93fa-1a79d8444a8f"
      },
      "source": [
        "df_test = pd.read_csv('/content/drive/My Drive/CICIDS2017/test_set_ext.csv',names=col_important, skiprows=1)  \n",
        "print('Test set size: ', df_test.shape)\n",
        "\n",
        "df_val = pd.read_csv('/content/drive/My Drive/CICIDS2017/crossval_set_ext.csv',names=col_important, skiprows=1)  \n",
        "print('Validation set size: ', df_val.shape)"
      ],
      "execution_count": 109,
      "outputs": [
        {
          "output_type": "stream",
          "text": [
            "Test set size:  (278271, 74)\n",
            "Validation set size:  (278271, 74)\n"
          ],
          "name": "stdout"
        }
      ]
    },
    {
      "cell_type": "markdown",
      "metadata": {
        "id": "2cbbuInpXhvz"
      },
      "source": [
        "### Option 2. Load from local machine"
      ]
    },
    {
      "cell_type": "code",
      "metadata": {
        "id": "MLcmd-A8Xhv0",
        "colab": {
          "base_uri": "https://localhost:8080/",
          "height": 387
        },
        "outputId": "9a065bc4-e574-414f-bc39-5523020325c5"
      },
      "source": [
        "dataroot = '../data/cicids2017clean/train_set_ext.csv'\n",
        "df_train = pd.read_csv(dataroot, names=col_names, skiprows=1) "
      ],
      "execution_count": 11,
      "outputs": [
        {
          "output_type": "error",
          "ename": "FileNotFoundError",
          "evalue": "ignored",
          "traceback": [
            "\u001b[0;31m---------------------------------------------------------------------------\u001b[0m",
            "\u001b[0;31mFileNotFoundError\u001b[0m                         Traceback (most recent call last)",
            "\u001b[0;32m<ipython-input-11-ca7fcb300c83>\u001b[0m in \u001b[0;36m<module>\u001b[0;34m()\u001b[0m\n\u001b[1;32m      1\u001b[0m \u001b[0mdataroot\u001b[0m \u001b[0;34m=\u001b[0m \u001b[0;34m'../data/cicids2017clean/train_set_ext.csv'\u001b[0m\u001b[0;34m\u001b[0m\u001b[0;34m\u001b[0m\u001b[0m\n\u001b[0;32m----> 2\u001b[0;31m \u001b[0mdf_train\u001b[0m \u001b[0;34m=\u001b[0m \u001b[0mpd\u001b[0m\u001b[0;34m.\u001b[0m\u001b[0mread_csv\u001b[0m\u001b[0;34m(\u001b[0m\u001b[0mdataroot\u001b[0m\u001b[0;34m,\u001b[0m \u001b[0mnames\u001b[0m\u001b[0;34m=\u001b[0m\u001b[0mcol_names\u001b[0m\u001b[0;34m,\u001b[0m \u001b[0mskiprows\u001b[0m\u001b[0;34m=\u001b[0m\u001b[0;36m1\u001b[0m\u001b[0;34m)\u001b[0m\u001b[0;34m\u001b[0m\u001b[0;34m\u001b[0m\u001b[0m\n\u001b[0m",
            "\u001b[0;32m/usr/local/lib/python3.6/dist-packages/pandas/io/parsers.py\u001b[0m in \u001b[0;36mread_csv\u001b[0;34m(filepath_or_buffer, sep, delimiter, header, names, index_col, usecols, squeeze, prefix, mangle_dupe_cols, dtype, engine, converters, true_values, false_values, skipinitialspace, skiprows, skipfooter, nrows, na_values, keep_default_na, na_filter, verbose, skip_blank_lines, parse_dates, infer_datetime_format, keep_date_col, date_parser, dayfirst, cache_dates, iterator, chunksize, compression, thousands, decimal, lineterminator, quotechar, quoting, doublequote, escapechar, comment, encoding, dialect, error_bad_lines, warn_bad_lines, delim_whitespace, low_memory, memory_map, float_precision)\u001b[0m\n\u001b[1;32m    686\u001b[0m     )\n\u001b[1;32m    687\u001b[0m \u001b[0;34m\u001b[0m\u001b[0m\n\u001b[0;32m--> 688\u001b[0;31m     \u001b[0;32mreturn\u001b[0m \u001b[0m_read\u001b[0m\u001b[0;34m(\u001b[0m\u001b[0mfilepath_or_buffer\u001b[0m\u001b[0;34m,\u001b[0m \u001b[0mkwds\u001b[0m\u001b[0;34m)\u001b[0m\u001b[0;34m\u001b[0m\u001b[0;34m\u001b[0m\u001b[0m\n\u001b[0m\u001b[1;32m    689\u001b[0m \u001b[0;34m\u001b[0m\u001b[0m\n\u001b[1;32m    690\u001b[0m \u001b[0;34m\u001b[0m\u001b[0m\n",
            "\u001b[0;32m/usr/local/lib/python3.6/dist-packages/pandas/io/parsers.py\u001b[0m in \u001b[0;36m_read\u001b[0;34m(filepath_or_buffer, kwds)\u001b[0m\n\u001b[1;32m    452\u001b[0m \u001b[0;34m\u001b[0m\u001b[0m\n\u001b[1;32m    453\u001b[0m     \u001b[0;31m# Create the parser.\u001b[0m\u001b[0;34m\u001b[0m\u001b[0;34m\u001b[0m\u001b[0;34m\u001b[0m\u001b[0m\n\u001b[0;32m--> 454\u001b[0;31m     \u001b[0mparser\u001b[0m \u001b[0;34m=\u001b[0m \u001b[0mTextFileReader\u001b[0m\u001b[0;34m(\u001b[0m\u001b[0mfp_or_buf\u001b[0m\u001b[0;34m,\u001b[0m \u001b[0;34m**\u001b[0m\u001b[0mkwds\u001b[0m\u001b[0;34m)\u001b[0m\u001b[0;34m\u001b[0m\u001b[0;34m\u001b[0m\u001b[0m\n\u001b[0m\u001b[1;32m    455\u001b[0m \u001b[0;34m\u001b[0m\u001b[0m\n\u001b[1;32m    456\u001b[0m     \u001b[0;32mif\u001b[0m \u001b[0mchunksize\u001b[0m \u001b[0;32mor\u001b[0m \u001b[0miterator\u001b[0m\u001b[0;34m:\u001b[0m\u001b[0;34m\u001b[0m\u001b[0;34m\u001b[0m\u001b[0m\n",
            "\u001b[0;32m/usr/local/lib/python3.6/dist-packages/pandas/io/parsers.py\u001b[0m in \u001b[0;36m__init__\u001b[0;34m(self, f, engine, **kwds)\u001b[0m\n\u001b[1;32m    946\u001b[0m             \u001b[0mself\u001b[0m\u001b[0;34m.\u001b[0m\u001b[0moptions\u001b[0m\u001b[0;34m[\u001b[0m\u001b[0;34m\"has_index_names\"\u001b[0m\u001b[0;34m]\u001b[0m \u001b[0;34m=\u001b[0m \u001b[0mkwds\u001b[0m\u001b[0;34m[\u001b[0m\u001b[0;34m\"has_index_names\"\u001b[0m\u001b[0;34m]\u001b[0m\u001b[0;34m\u001b[0m\u001b[0;34m\u001b[0m\u001b[0m\n\u001b[1;32m    947\u001b[0m \u001b[0;34m\u001b[0m\u001b[0m\n\u001b[0;32m--> 948\u001b[0;31m         \u001b[0mself\u001b[0m\u001b[0;34m.\u001b[0m\u001b[0m_make_engine\u001b[0m\u001b[0;34m(\u001b[0m\u001b[0mself\u001b[0m\u001b[0;34m.\u001b[0m\u001b[0mengine\u001b[0m\u001b[0;34m)\u001b[0m\u001b[0;34m\u001b[0m\u001b[0;34m\u001b[0m\u001b[0m\n\u001b[0m\u001b[1;32m    949\u001b[0m \u001b[0;34m\u001b[0m\u001b[0m\n\u001b[1;32m    950\u001b[0m     \u001b[0;32mdef\u001b[0m \u001b[0mclose\u001b[0m\u001b[0;34m(\u001b[0m\u001b[0mself\u001b[0m\u001b[0;34m)\u001b[0m\u001b[0;34m:\u001b[0m\u001b[0;34m\u001b[0m\u001b[0;34m\u001b[0m\u001b[0m\n",
            "\u001b[0;32m/usr/local/lib/python3.6/dist-packages/pandas/io/parsers.py\u001b[0m in \u001b[0;36m_make_engine\u001b[0;34m(self, engine)\u001b[0m\n\u001b[1;32m   1178\u001b[0m     \u001b[0;32mdef\u001b[0m \u001b[0m_make_engine\u001b[0m\u001b[0;34m(\u001b[0m\u001b[0mself\u001b[0m\u001b[0;34m,\u001b[0m \u001b[0mengine\u001b[0m\u001b[0;34m=\u001b[0m\u001b[0;34m\"c\"\u001b[0m\u001b[0;34m)\u001b[0m\u001b[0;34m:\u001b[0m\u001b[0;34m\u001b[0m\u001b[0;34m\u001b[0m\u001b[0m\n\u001b[1;32m   1179\u001b[0m         \u001b[0;32mif\u001b[0m \u001b[0mengine\u001b[0m \u001b[0;34m==\u001b[0m \u001b[0;34m\"c\"\u001b[0m\u001b[0;34m:\u001b[0m\u001b[0;34m\u001b[0m\u001b[0;34m\u001b[0m\u001b[0m\n\u001b[0;32m-> 1180\u001b[0;31m             \u001b[0mself\u001b[0m\u001b[0;34m.\u001b[0m\u001b[0m_engine\u001b[0m \u001b[0;34m=\u001b[0m \u001b[0mCParserWrapper\u001b[0m\u001b[0;34m(\u001b[0m\u001b[0mself\u001b[0m\u001b[0;34m.\u001b[0m\u001b[0mf\u001b[0m\u001b[0;34m,\u001b[0m \u001b[0;34m**\u001b[0m\u001b[0mself\u001b[0m\u001b[0;34m.\u001b[0m\u001b[0moptions\u001b[0m\u001b[0;34m)\u001b[0m\u001b[0;34m\u001b[0m\u001b[0;34m\u001b[0m\u001b[0m\n\u001b[0m\u001b[1;32m   1181\u001b[0m         \u001b[0;32melse\u001b[0m\u001b[0;34m:\u001b[0m\u001b[0;34m\u001b[0m\u001b[0;34m\u001b[0m\u001b[0m\n\u001b[1;32m   1182\u001b[0m             \u001b[0;32mif\u001b[0m \u001b[0mengine\u001b[0m \u001b[0;34m==\u001b[0m \u001b[0;34m\"python\"\u001b[0m\u001b[0;34m:\u001b[0m\u001b[0;34m\u001b[0m\u001b[0;34m\u001b[0m\u001b[0m\n",
            "\u001b[0;32m/usr/local/lib/python3.6/dist-packages/pandas/io/parsers.py\u001b[0m in \u001b[0;36m__init__\u001b[0;34m(self, src, **kwds)\u001b[0m\n\u001b[1;32m   2008\u001b[0m         \u001b[0mkwds\u001b[0m\u001b[0;34m[\u001b[0m\u001b[0;34m\"usecols\"\u001b[0m\u001b[0;34m]\u001b[0m \u001b[0;34m=\u001b[0m \u001b[0mself\u001b[0m\u001b[0;34m.\u001b[0m\u001b[0musecols\u001b[0m\u001b[0;34m\u001b[0m\u001b[0;34m\u001b[0m\u001b[0m\n\u001b[1;32m   2009\u001b[0m \u001b[0;34m\u001b[0m\u001b[0m\n\u001b[0;32m-> 2010\u001b[0;31m         \u001b[0mself\u001b[0m\u001b[0;34m.\u001b[0m\u001b[0m_reader\u001b[0m \u001b[0;34m=\u001b[0m \u001b[0mparsers\u001b[0m\u001b[0;34m.\u001b[0m\u001b[0mTextReader\u001b[0m\u001b[0;34m(\u001b[0m\u001b[0msrc\u001b[0m\u001b[0;34m,\u001b[0m \u001b[0;34m**\u001b[0m\u001b[0mkwds\u001b[0m\u001b[0;34m)\u001b[0m\u001b[0;34m\u001b[0m\u001b[0;34m\u001b[0m\u001b[0m\n\u001b[0m\u001b[1;32m   2011\u001b[0m         \u001b[0mself\u001b[0m\u001b[0;34m.\u001b[0m\u001b[0munnamed_cols\u001b[0m \u001b[0;34m=\u001b[0m \u001b[0mself\u001b[0m\u001b[0;34m.\u001b[0m\u001b[0m_reader\u001b[0m\u001b[0;34m.\u001b[0m\u001b[0munnamed_cols\u001b[0m\u001b[0;34m\u001b[0m\u001b[0;34m\u001b[0m\u001b[0m\n\u001b[1;32m   2012\u001b[0m \u001b[0;34m\u001b[0m\u001b[0m\n",
            "\u001b[0;32mpandas/_libs/parsers.pyx\u001b[0m in \u001b[0;36mpandas._libs.parsers.TextReader.__cinit__\u001b[0;34m()\u001b[0m\n",
            "\u001b[0;32mpandas/_libs/parsers.pyx\u001b[0m in \u001b[0;36mpandas._libs.parsers.TextReader._setup_parser_source\u001b[0;34m()\u001b[0m\n",
            "\u001b[0;31mFileNotFoundError\u001b[0m: [Errno 2] No such file or directory: '../data/cicids2017clean/train_set_ext.csv'"
          ]
        }
      ]
    },
    {
      "cell_type": "code",
      "metadata": {
        "id": "q9oqAbFyXhv0"
      },
      "source": [
        "dataroot = '../data/cicids2017clean/crossval_set_ext.csv'\n",
        "df_val = pd.read_csv(dataroot, names=col_names, skiprows=1) \n",
        "dataroot = '../data/cicids2017clean/test_set_ext.csv'\n",
        "df_test = pd.read_csv(dataroot, names=col_names, skiprows=1) "
      ],
      "execution_count": null,
      "outputs": []
    },
    {
      "cell_type": "markdown",
      "metadata": {
        "id": "ls46tMA9Xhv0"
      },
      "source": [
        "## Step 2. Exploring the dataset"
      ]
    },
    {
      "cell_type": "code",
      "metadata": {
        "colab": {
          "base_uri": "https://localhost:8080/",
          "height": 299
        },
        "id": "q-oBvrtQXhv0",
        "outputId": "623eff4c-2d41-4fc1-d869-aa4cc1dfc945"
      },
      "source": [
        "df_train.head()"
      ],
      "execution_count": 110,
      "outputs": [
        {
          "output_type": "execute_result",
          "data": {
            "text/html": [
              "<div>\n",
              "<style scoped>\n",
              "    .dataframe tbody tr th:only-of-type {\n",
              "        vertical-align: middle;\n",
              "    }\n",
              "\n",
              "    .dataframe tbody tr th {\n",
              "        vertical-align: top;\n",
              "    }\n",
              "\n",
              "    .dataframe thead th {\n",
              "        text-align: right;\n",
              "    }\n",
              "</style>\n",
              "<table border=\"1\" class=\"dataframe\">\n",
              "  <thead>\n",
              "    <tr style=\"text-align: right;\">\n",
              "      <th></th>\n",
              "      <th>dst host count</th>\n",
              "      <th>src host count</th>\n",
              "      <th>Source Port</th>\n",
              "      <th>Destination Port</th>\n",
              "      <th>Fwd IAT Min</th>\n",
              "      <th>Init_Win_bytes_forward</th>\n",
              "      <th>Init_Win_bytes_backward</th>\n",
              "      <th>Flow IAT Min</th>\n",
              "      <th>Flow Duration</th>\n",
              "      <th>Total Fwd Packets</th>\n",
              "      <th>Total Backward Packets</th>\n",
              "      <th>Total Length of Fwd Packets</th>\n",
              "      <th>Total Length of Bwd Packets</th>\n",
              "      <th>Fwd Packet Length Max</th>\n",
              "      <th>Protocol</th>\n",
              "      <th>Fwd Packet Length Min</th>\n",
              "      <th>Fwd Packet Length Mean</th>\n",
              "      <th>Fwd Packet Length Std</th>\n",
              "      <th>Bwd Packet Length Max</th>\n",
              "      <th>Bwd Packet Length Min</th>\n",
              "      <th>Bwd Packet Length Mean</th>\n",
              "      <th>Bwd Packet Length Std</th>\n",
              "      <th>Flow Bytes/s</th>\n",
              "      <th>Flow Packets/s</th>\n",
              "      <th>Flow IAT Mean</th>\n",
              "      <th>Flow IAT Std</th>\n",
              "      <th>Flow IAT Max</th>\n",
              "      <th>Fwd IAT Total</th>\n",
              "      <th>Fwd IAT Mean</th>\n",
              "      <th>Fwd IAT Std</th>\n",
              "      <th>Fwd IAT Max</th>\n",
              "      <th>Bwd IAT Total</th>\n",
              "      <th>Bwd IAT Mean</th>\n",
              "      <th>Bwd IAT Std</th>\n",
              "      <th>Bwd IAT Max</th>\n",
              "      <th>Bwd IAT Min</th>\n",
              "      <th>Fwd PSH Flags</th>\n",
              "      <th>Fwd URG Flags</th>\n",
              "      <th>Fwd Header Length</th>\n",
              "      <th>Bwd Header Length</th>\n",
              "      <th>Fwd Packets/s</th>\n",
              "      <th>Bwd Packets/s</th>\n",
              "      <th>Min Packet Length</th>\n",
              "      <th>Max Packet Length</th>\n",
              "      <th>Packet Length Mean</th>\n",
              "      <th>Packet Length Std</th>\n",
              "      <th>Packet Length Variance</th>\n",
              "      <th>FIN Flag Count</th>\n",
              "      <th>SYN Flag Count</th>\n",
              "      <th>RST Flag Count</th>\n",
              "      <th>PSH Flag Count</th>\n",
              "      <th>ACK Flag Count</th>\n",
              "      <th>URG Flag Count</th>\n",
              "      <th>CWE Flag Count</th>\n",
              "      <th>ECE Flag Count</th>\n",
              "      <th>Down/Up Ratio</th>\n",
              "      <th>Average Packet Size</th>\n",
              "      <th>Avg Fwd Segment Size</th>\n",
              "      <th>Avg Bwd Segment Size</th>\n",
              "      <th>Subflow Fwd Packets</th>\n",
              "      <th>Subflow Fwd Bytes</th>\n",
              "      <th>Subflow Bwd Packets</th>\n",
              "      <th>Subflow Bwd Bytes</th>\n",
              "      <th>act_data_pkt_fwd</th>\n",
              "      <th>min_seg_size_forward</th>\n",
              "      <th>Active Mean</th>\n",
              "      <th>Active Std</th>\n",
              "      <th>Active Max</th>\n",
              "      <th>Active Min</th>\n",
              "      <th>Idle Mean</th>\n",
              "      <th>Idle Std</th>\n",
              "      <th>Idle Max</th>\n",
              "      <th>Idle Min</th>\n",
              "      <th>Label</th>\n",
              "    </tr>\n",
              "  </thead>\n",
              "  <tbody>\n",
              "    <tr>\n",
              "      <th>97267</th>\n",
              "      <td>100</td>\n",
              "      <td>100</td>\n",
              "      <td>49802</td>\n",
              "      <td>80</td>\n",
              "      <td>6</td>\n",
              "      <td>81106330</td>\n",
              "      <td>8</td>\n",
              "      <td>4</td>\n",
              "      <td>56</td>\n",
              "      <td>11601</td>\n",
              "      <td>20</td>\n",
              "      <td>0</td>\n",
              "      <td>7.0</td>\n",
              "      <td>5.656854</td>\n",
              "      <td>8675</td>\n",
              "      <td>0</td>\n",
              "      <td>2900.25</td>\n",
              "      <td>4088.041942</td>\n",
              "      <td>1.437249e+02</td>\n",
              "      <td>1.479539e-01</td>\n",
              "      <td>7.373303e+06</td>\n",
              "      <td>2.180000e+07</td>\n",
              "      <td>72500000</td>\n",
              "      <td>1</td>\n",
              "      <td>80700000</td>\n",
              "      <td>11500000.0</td>\n",
              "      <td>27100000.0</td>\n",
              "      <td>72500000</td>\n",
              "      <td>1</td>\n",
              "      <td>423439</td>\n",
              "      <td>141146.3333</td>\n",
              "      <td>234485.28</td>\n",
              "      <td>411829</td>\n",
              "      <td>191</td>\n",
              "      <td>0</td>\n",
              "      <td>0</td>\n",
              "      <td>172</td>\n",
              "      <td>92</td>\n",
              "      <td>9.863595e-02</td>\n",
              "      <td>0.049318</td>\n",
              "      <td>0</td>\n",
              "      <td>8675</td>\n",
              "      <td>897.153846</td>\n",
              "      <td>2471.828063</td>\n",
              "      <td>6109933.974</td>\n",
              "      <td>0</td>\n",
              "      <td>0</td>\n",
              "      <td>0</td>\n",
              "      <td>0</td>\n",
              "      <td>1</td>\n",
              "      <td>0</td>\n",
              "      <td>0</td>\n",
              "      <td>0</td>\n",
              "      <td>0</td>\n",
              "      <td>971.916667</td>\n",
              "      <td>7.0</td>\n",
              "      <td>2900.25</td>\n",
              "      <td>8</td>\n",
              "      <td>56</td>\n",
              "      <td>4</td>\n",
              "      <td>11601</td>\n",
              "      <td>256</td>\n",
              "      <td>229</td>\n",
              "      <td>6</td>\n",
              "      <td>20</td>\n",
              "      <td>1002.0</td>\n",
              "      <td>0.0</td>\n",
              "      <td>1002</td>\n",
              "      <td>1002</td>\n",
              "      <td>40300000.0</td>\n",
              "      <td>45500000.0</td>\n",
              "      <td>72500000</td>\n",
              "      <td>8137801</td>\n",
              "      <td>DDoS</td>\n",
              "    </tr>\n",
              "    <tr>\n",
              "      <th>248498</th>\n",
              "      <td>19</td>\n",
              "      <td>19</td>\n",
              "      <td>57027</td>\n",
              "      <td>53</td>\n",
              "      <td>17</td>\n",
              "      <td>139</td>\n",
              "      <td>2</td>\n",
              "      <td>2</td>\n",
              "      <td>76</td>\n",
              "      <td>108</td>\n",
              "      <td>38</td>\n",
              "      <td>38</td>\n",
              "      <td>38.0</td>\n",
              "      <td>0.000000</td>\n",
              "      <td>54</td>\n",
              "      <td>54</td>\n",
              "      <td>54.00</td>\n",
              "      <td>0.000000</td>\n",
              "      <td>1.323741e+06</td>\n",
              "      <td>2.877698e+04</td>\n",
              "      <td>4.633333e+01</td>\n",
              "      <td>7.505553e+01</td>\n",
              "      <td>133</td>\n",
              "      <td>3</td>\n",
              "      <td>3</td>\n",
              "      <td>3.0</td>\n",
              "      <td>0.0</td>\n",
              "      <td>3</td>\n",
              "      <td>3</td>\n",
              "      <td>3</td>\n",
              "      <td>3.0000</td>\n",
              "      <td>0.00</td>\n",
              "      <td>3</td>\n",
              "      <td>3</td>\n",
              "      <td>0</td>\n",
              "      <td>0</td>\n",
              "      <td>40</td>\n",
              "      <td>40</td>\n",
              "      <td>1.438849e+04</td>\n",
              "      <td>14388.489210</td>\n",
              "      <td>38</td>\n",
              "      <td>54</td>\n",
              "      <td>44.400000</td>\n",
              "      <td>8.763561</td>\n",
              "      <td>76.800</td>\n",
              "      <td>0</td>\n",
              "      <td>0</td>\n",
              "      <td>0</td>\n",
              "      <td>0</td>\n",
              "      <td>0</td>\n",
              "      <td>0</td>\n",
              "      <td>0</td>\n",
              "      <td>0</td>\n",
              "      <td>1</td>\n",
              "      <td>55.500000</td>\n",
              "      <td>38.0</td>\n",
              "      <td>54.00</td>\n",
              "      <td>2</td>\n",
              "      <td>76</td>\n",
              "      <td>2</td>\n",
              "      <td>108</td>\n",
              "      <td>-1</td>\n",
              "      <td>-1</td>\n",
              "      <td>1</td>\n",
              "      <td>20</td>\n",
              "      <td>0.0</td>\n",
              "      <td>0.0</td>\n",
              "      <td>0</td>\n",
              "      <td>0</td>\n",
              "      <td>0.0</td>\n",
              "      <td>0.0</td>\n",
              "      <td>0</td>\n",
              "      <td>0</td>\n",
              "      <td>BENIGN</td>\n",
              "    </tr>\n",
              "    <tr>\n",
              "      <th>2311978</th>\n",
              "      <td>94</td>\n",
              "      <td>94</td>\n",
              "      <td>58114</td>\n",
              "      <td>80</td>\n",
              "      <td>6</td>\n",
              "      <td>1</td>\n",
              "      <td>2</td>\n",
              "      <td>0</td>\n",
              "      <td>0</td>\n",
              "      <td>0</td>\n",
              "      <td>0</td>\n",
              "      <td>0</td>\n",
              "      <td>0.0</td>\n",
              "      <td>0.000000</td>\n",
              "      <td>0</td>\n",
              "      <td>0</td>\n",
              "      <td>0.00</td>\n",
              "      <td>0.000000</td>\n",
              "      <td>0.000000e+00</td>\n",
              "      <td>2.000000e+06</td>\n",
              "      <td>1.000000e+00</td>\n",
              "      <td>0.000000e+00</td>\n",
              "      <td>1</td>\n",
              "      <td>1</td>\n",
              "      <td>1</td>\n",
              "      <td>1.0</td>\n",
              "      <td>0.0</td>\n",
              "      <td>1</td>\n",
              "      <td>1</td>\n",
              "      <td>0</td>\n",
              "      <td>0.0000</td>\n",
              "      <td>0.00</td>\n",
              "      <td>0</td>\n",
              "      <td>0</td>\n",
              "      <td>0</td>\n",
              "      <td>0</td>\n",
              "      <td>64</td>\n",
              "      <td>0</td>\n",
              "      <td>2.000000e+06</td>\n",
              "      <td>0.000000</td>\n",
              "      <td>0</td>\n",
              "      <td>0</td>\n",
              "      <td>0.000000</td>\n",
              "      <td>0.000000</td>\n",
              "      <td>0.000</td>\n",
              "      <td>0</td>\n",
              "      <td>0</td>\n",
              "      <td>0</td>\n",
              "      <td>0</td>\n",
              "      <td>1</td>\n",
              "      <td>0</td>\n",
              "      <td>0</td>\n",
              "      <td>0</td>\n",
              "      <td>0</td>\n",
              "      <td>0.000000</td>\n",
              "      <td>0.0</td>\n",
              "      <td>0.00</td>\n",
              "      <td>2</td>\n",
              "      <td>0</td>\n",
              "      <td>0</td>\n",
              "      <td>0</td>\n",
              "      <td>251</td>\n",
              "      <td>-1</td>\n",
              "      <td>0</td>\n",
              "      <td>32</td>\n",
              "      <td>0.0</td>\n",
              "      <td>0.0</td>\n",
              "      <td>0</td>\n",
              "      <td>0</td>\n",
              "      <td>0.0</td>\n",
              "      <td>0.0</td>\n",
              "      <td>0</td>\n",
              "      <td>0</td>\n",
              "      <td>DoS Hulk</td>\n",
              "    </tr>\n",
              "    <tr>\n",
              "      <th>556086</th>\n",
              "      <td>6</td>\n",
              "      <td>6</td>\n",
              "      <td>443</td>\n",
              "      <td>2123</td>\n",
              "      <td>6</td>\n",
              "      <td>34</td>\n",
              "      <td>1</td>\n",
              "      <td>1</td>\n",
              "      <td>6</td>\n",
              "      <td>6</td>\n",
              "      <td>6</td>\n",
              "      <td>6</td>\n",
              "      <td>6.0</td>\n",
              "      <td>0.000000</td>\n",
              "      <td>6</td>\n",
              "      <td>6</td>\n",
              "      <td>6.00</td>\n",
              "      <td>0.000000</td>\n",
              "      <td>3.529412e+05</td>\n",
              "      <td>5.882353e+04</td>\n",
              "      <td>3.400000e+01</td>\n",
              "      <td>0.000000e+00</td>\n",
              "      <td>34</td>\n",
              "      <td>34</td>\n",
              "      <td>0</td>\n",
              "      <td>0.0</td>\n",
              "      <td>0.0</td>\n",
              "      <td>0</td>\n",
              "      <td>0</td>\n",
              "      <td>0</td>\n",
              "      <td>0.0000</td>\n",
              "      <td>0.00</td>\n",
              "      <td>0</td>\n",
              "      <td>0</td>\n",
              "      <td>0</td>\n",
              "      <td>0</td>\n",
              "      <td>20</td>\n",
              "      <td>20</td>\n",
              "      <td>2.941176e+04</td>\n",
              "      <td>29411.764710</td>\n",
              "      <td>6</td>\n",
              "      <td>6</td>\n",
              "      <td>6.000000</td>\n",
              "      <td>0.000000</td>\n",
              "      <td>0.000</td>\n",
              "      <td>0</td>\n",
              "      <td>0</td>\n",
              "      <td>0</td>\n",
              "      <td>0</td>\n",
              "      <td>1</td>\n",
              "      <td>1</td>\n",
              "      <td>0</td>\n",
              "      <td>0</td>\n",
              "      <td>1</td>\n",
              "      <td>9.000000</td>\n",
              "      <td>6.0</td>\n",
              "      <td>6.00</td>\n",
              "      <td>1</td>\n",
              "      <td>6</td>\n",
              "      <td>1</td>\n",
              "      <td>6</td>\n",
              "      <td>119</td>\n",
              "      <td>16355</td>\n",
              "      <td>0</td>\n",
              "      <td>20</td>\n",
              "      <td>0.0</td>\n",
              "      <td>0.0</td>\n",
              "      <td>0</td>\n",
              "      <td>0</td>\n",
              "      <td>0.0</td>\n",
              "      <td>0.0</td>\n",
              "      <td>0</td>\n",
              "      <td>0</td>\n",
              "      <td>BENIGN</td>\n",
              "    </tr>\n",
              "    <tr>\n",
              "      <th>2310971</th>\n",
              "      <td>90</td>\n",
              "      <td>90</td>\n",
              "      <td>54422</td>\n",
              "      <td>80</td>\n",
              "      <td>6</td>\n",
              "      <td>1</td>\n",
              "      <td>2</td>\n",
              "      <td>0</td>\n",
              "      <td>0</td>\n",
              "      <td>0</td>\n",
              "      <td>0</td>\n",
              "      <td>0</td>\n",
              "      <td>0.0</td>\n",
              "      <td>0.000000</td>\n",
              "      <td>0</td>\n",
              "      <td>0</td>\n",
              "      <td>0.00</td>\n",
              "      <td>0.000000</td>\n",
              "      <td>0.000000e+00</td>\n",
              "      <td>2.000000e+06</td>\n",
              "      <td>1.000000e+00</td>\n",
              "      <td>0.000000e+00</td>\n",
              "      <td>1</td>\n",
              "      <td>1</td>\n",
              "      <td>1</td>\n",
              "      <td>1.0</td>\n",
              "      <td>0.0</td>\n",
              "      <td>1</td>\n",
              "      <td>1</td>\n",
              "      <td>0</td>\n",
              "      <td>0.0000</td>\n",
              "      <td>0.00</td>\n",
              "      <td>0</td>\n",
              "      <td>0</td>\n",
              "      <td>0</td>\n",
              "      <td>0</td>\n",
              "      <td>64</td>\n",
              "      <td>0</td>\n",
              "      <td>2.000000e+06</td>\n",
              "      <td>0.000000</td>\n",
              "      <td>0</td>\n",
              "      <td>0</td>\n",
              "      <td>0.000000</td>\n",
              "      <td>0.000000</td>\n",
              "      <td>0.000</td>\n",
              "      <td>0</td>\n",
              "      <td>0</td>\n",
              "      <td>0</td>\n",
              "      <td>0</td>\n",
              "      <td>1</td>\n",
              "      <td>0</td>\n",
              "      <td>0</td>\n",
              "      <td>0</td>\n",
              "      <td>0</td>\n",
              "      <td>0.000000</td>\n",
              "      <td>0.0</td>\n",
              "      <td>0.00</td>\n",
              "      <td>2</td>\n",
              "      <td>0</td>\n",
              "      <td>0</td>\n",
              "      <td>0</td>\n",
              "      <td>251</td>\n",
              "      <td>-1</td>\n",
              "      <td>0</td>\n",
              "      <td>32</td>\n",
              "      <td>0.0</td>\n",
              "      <td>0.0</td>\n",
              "      <td>0</td>\n",
              "      <td>0</td>\n",
              "      <td>0.0</td>\n",
              "      <td>0.0</td>\n",
              "      <td>0</td>\n",
              "      <td>0</td>\n",
              "      <td>DoS Hulk</td>\n",
              "    </tr>\n",
              "  </tbody>\n",
              "</table>\n",
              "</div>"
            ],
            "text/plain": [
              "         dst host count  src host count  ...  Idle Min     Label\n",
              "97267               100             100  ...   8137801      DDoS\n",
              "248498               19              19  ...         0    BENIGN\n",
              "2311978              94              94  ...         0  DoS Hulk\n",
              "556086                6               6  ...         0    BENIGN\n",
              "2310971              90              90  ...         0  DoS Hulk\n",
              "\n",
              "[5 rows x 74 columns]"
            ]
          },
          "metadata": {
            "tags": []
          },
          "execution_count": 110
        }
      ]
    },
    {
      "cell_type": "markdown",
      "metadata": {
        "id": "miDxhmNyZ04N"
      },
      "source": [
        "Count the number of attacks"
      ]
    },
    {
      "cell_type": "code",
      "metadata": {
        "colab": {
          "base_uri": "https://localhost:8080/"
        },
        "id": "CpKy7b9fZ04O",
        "scrolled": true,
        "outputId": "56123e59-25ef-4ddc-a2ff-dc72d2f1c757"
      },
      "source": [
        "df_train['Label'].value_counts()"
      ],
      "execution_count": null,
      "outputs": [
        {
          "output_type": "execute_result",
          "data": {
            "text/plain": [
              "BENIGN                        278274\n",
              "DoS Hulk                      115062\n",
              "PortScan                       79402\n",
              "DDoS                           64012\n",
              "DoS GoldenEye                   5146\n",
              "FTP-Patator                     3967\n",
              "SSH-Patator                     2948\n",
              "DoS slowloris                   2898\n",
              "DoS Slowhttptest                2749\n",
              "Bot                              978\n",
              "Web Attack � Brute Force         753\n",
              "Web Attack � XSS                 326\n",
              "Infiltration                      18\n",
              "Web Attack � Sql Injection        10\n",
              "Heartbleed                         5\n",
              "Name: Label, dtype: int64"
            ]
          },
          "metadata": {
            "tags": []
          },
          "execution_count": 10
        }
      ]
    },
    {
      "cell_type": "code",
      "metadata": {
        "colab": {
          "base_uri": "https://localhost:8080/",
          "height": 338
        },
        "id": "TP5wXlnNtCXd",
        "outputId": "e8181bd5-0791-4b46-c44e-64678b938af3"
      },
      "source": [
        "df_train.describe()"
      ],
      "execution_count": null,
      "outputs": [
        {
          "output_type": "execute_result",
          "data": {
            "text/html": [
              "<div>\n",
              "<style scoped>\n",
              "    .dataframe tbody tr th:only-of-type {\n",
              "        vertical-align: middle;\n",
              "    }\n",
              "\n",
              "    .dataframe tbody tr th {\n",
              "        vertical-align: top;\n",
              "    }\n",
              "\n",
              "    .dataframe thead th {\n",
              "        text-align: right;\n",
              "    }\n",
              "</style>\n",
              "<table border=\"1\" class=\"dataframe\">\n",
              "  <thead>\n",
              "    <tr style=\"text-align: right;\">\n",
              "      <th></th>\n",
              "      <th>dst host count</th>\n",
              "      <th>src host count</th>\n",
              "      <th>Source Port</th>\n",
              "      <th>Destination Port</th>\n",
              "      <th>Protocol</th>\n",
              "      <th>Flow Duration</th>\n",
              "      <th>Total Fwd Packets</th>\n",
              "      <th>Total Backward Packets</th>\n",
              "      <th>Total Length of Fwd Packets</th>\n",
              "      <th>Total Length of Bwd Packets</th>\n",
              "      <th>...</th>\n",
              "      <th>act_data_pkt_fwd</th>\n",
              "      <th>min_seg_size_forward</th>\n",
              "      <th>Active Mean</th>\n",
              "      <th>Active Std</th>\n",
              "      <th>Active Max</th>\n",
              "      <th>Active Min</th>\n",
              "      <th>Idle Mean</th>\n",
              "      <th>Idle Std</th>\n",
              "      <th>Idle Max</th>\n",
              "      <th>Idle Min</th>\n",
              "    </tr>\n",
              "  </thead>\n",
              "  <tbody>\n",
              "    <tr>\n",
              "      <td>count</td>\n",
              "      <td>556548.000000</td>\n",
              "      <td>556548.000000</td>\n",
              "      <td>556548.000000</td>\n",
              "      <td>556548.000000</td>\n",
              "      <td>556548.000000</td>\n",
              "      <td>5.565480e+05</td>\n",
              "      <td>556548.000000</td>\n",
              "      <td>556548.000000</td>\n",
              "      <td>5.565480e+05</td>\n",
              "      <td>5.565480e+05</td>\n",
              "      <td>...</td>\n",
              "      <td>556548.000000</td>\n",
              "      <td>556548.000000</td>\n",
              "      <td>5.565480e+05</td>\n",
              "      <td>5.565480e+05</td>\n",
              "      <td>5.565480e+05</td>\n",
              "      <td>5.565480e+05</td>\n",
              "      <td>5.565480e+05</td>\n",
              "      <td>5.565480e+05</td>\n",
              "      <td>5.565480e+05</td>\n",
              "      <td>5.565480e+05</td>\n",
              "    </tr>\n",
              "    <tr>\n",
              "      <td>mean</td>\n",
              "      <td>63.986114</td>\n",
              "      <td>71.911368</td>\n",
              "      <td>41059.562686</td>\n",
              "      <td>7182.692884</td>\n",
              "      <td>8.358620</td>\n",
              "      <td>2.159931e+07</td>\n",
              "      <td>7.561386</td>\n",
              "      <td>8.259167</td>\n",
              "      <td>6.822941e+02</td>\n",
              "      <td>1.265955e+04</td>\n",
              "      <td>...</td>\n",
              "      <td>4.883591</td>\n",
              "      <td>25.540766</td>\n",
              "      <td>1.082361e+05</td>\n",
              "      <td>3.242660e+04</td>\n",
              "      <td>1.571849e+05</td>\n",
              "      <td>8.865328e+04</td>\n",
              "      <td>1.640646e+07</td>\n",
              "      <td>1.206008e+06</td>\n",
              "      <td>1.730500e+07</td>\n",
              "      <td>1.552621e+07</td>\n",
              "    </tr>\n",
              "    <tr>\n",
              "      <td>std</td>\n",
              "      <td>40.704131</td>\n",
              "      <td>36.408934</td>\n",
              "      <td>20762.257722</td>\n",
              "      <td>16999.053361</td>\n",
              "      <td>4.518634</td>\n",
              "      <td>3.824665e+07</td>\n",
              "      <td>641.917381</td>\n",
              "      <td>865.356666</td>\n",
              "      <td>8.207379e+03</td>\n",
              "      <td>1.934124e+06</td>\n",
              "      <td>...</td>\n",
              "      <td>612.739185</td>\n",
              "      <td>6.418384</td>\n",
              "      <td>7.164700e+05</td>\n",
              "      <td>3.567006e+05</td>\n",
              "      <td>9.588739e+05</td>\n",
              "      <td>6.668469e+05</td>\n",
              "      <td>3.283531e+07</td>\n",
              "      <td>7.260774e+06</td>\n",
              "      <td>3.390042e+07</td>\n",
              "      <td>3.259279e+07</td>\n",
              "    </tr>\n",
              "    <tr>\n",
              "      <td>min</td>\n",
              "      <td>1.000000</td>\n",
              "      <td>1.000000</td>\n",
              "      <td>0.000000</td>\n",
              "      <td>0.000000</td>\n",
              "      <td>0.000000</td>\n",
              "      <td>-1.300000e+01</td>\n",
              "      <td>1.000000</td>\n",
              "      <td>0.000000</td>\n",
              "      <td>0.000000e+00</td>\n",
              "      <td>0.000000e+00</td>\n",
              "      <td>...</td>\n",
              "      <td>0.000000</td>\n",
              "      <td>0.000000</td>\n",
              "      <td>0.000000e+00</td>\n",
              "      <td>0.000000e+00</td>\n",
              "      <td>0.000000e+00</td>\n",
              "      <td>0.000000e+00</td>\n",
              "      <td>0.000000e+00</td>\n",
              "      <td>0.000000e+00</td>\n",
              "      <td>0.000000e+00</td>\n",
              "      <td>0.000000e+00</td>\n",
              "    </tr>\n",
              "    <tr>\n",
              "      <td>25%</td>\n",
              "      <td>19.000000</td>\n",
              "      <td>42.000000</td>\n",
              "      <td>33830.000000</td>\n",
              "      <td>80.000000</td>\n",
              "      <td>6.000000</td>\n",
              "      <td>1.120000e+02</td>\n",
              "      <td>1.000000</td>\n",
              "      <td>1.000000</td>\n",
              "      <td>6.000000e+00</td>\n",
              "      <td>6.000000e+00</td>\n",
              "      <td>...</td>\n",
              "      <td>0.000000</td>\n",
              "      <td>20.000000</td>\n",
              "      <td>0.000000e+00</td>\n",
              "      <td>0.000000e+00</td>\n",
              "      <td>0.000000e+00</td>\n",
              "      <td>0.000000e+00</td>\n",
              "      <td>0.000000e+00</td>\n",
              "      <td>0.000000e+00</td>\n",
              "      <td>0.000000e+00</td>\n",
              "      <td>0.000000e+00</td>\n",
              "    </tr>\n",
              "    <tr>\n",
              "      <td>50%</td>\n",
              "      <td>96.000000</td>\n",
              "      <td>97.000000</td>\n",
              "      <td>49512.000000</td>\n",
              "      <td>80.000000</td>\n",
              "      <td>6.000000</td>\n",
              "      <td>6.867450e+04</td>\n",
              "      <td>2.000000</td>\n",
              "      <td>2.000000</td>\n",
              "      <td>5.600000e+01</td>\n",
              "      <td>1.120000e+02</td>\n",
              "      <td>...</td>\n",
              "      <td>1.000000</td>\n",
              "      <td>20.000000</td>\n",
              "      <td>0.000000e+00</td>\n",
              "      <td>0.000000e+00</td>\n",
              "      <td>0.000000e+00</td>\n",
              "      <td>0.000000e+00</td>\n",
              "      <td>0.000000e+00</td>\n",
              "      <td>0.000000e+00</td>\n",
              "      <td>0.000000e+00</td>\n",
              "      <td>0.000000e+00</td>\n",
              "    </tr>\n",
              "    <tr>\n",
              "      <td>75%</td>\n",
              "      <td>100.000000</td>\n",
              "      <td>100.000000</td>\n",
              "      <td>57000.000000</td>\n",
              "      <td>1034.000000</td>\n",
              "      <td>6.000000</td>\n",
              "      <td>1.104332e+07</td>\n",
              "      <td>6.000000</td>\n",
              "      <td>6.000000</td>\n",
              "      <td>3.380000e+02</td>\n",
              "      <td>1.159500e+04</td>\n",
              "      <td>...</td>\n",
              "      <td>2.000000</td>\n",
              "      <td>32.000000</td>\n",
              "      <td>9.530000e+02</td>\n",
              "      <td>0.000000e+00</td>\n",
              "      <td>9.530000e+02</td>\n",
              "      <td>8.820000e+02</td>\n",
              "      <td>9.553880e+06</td>\n",
              "      <td>0.000000e+00</td>\n",
              "      <td>9.803576e+06</td>\n",
              "      <td>7.462839e+06</td>\n",
              "    </tr>\n",
              "    <tr>\n",
              "      <td>max</td>\n",
              "      <td>100.000000</td>\n",
              "      <td>100.000000</td>\n",
              "      <td>65535.000000</td>\n",
              "      <td>65532.000000</td>\n",
              "      <td>17.000000</td>\n",
              "      <td>1.199999e+08</td>\n",
              "      <td>207964.000000</td>\n",
              "      <td>284602.000000</td>\n",
              "      <td>2.866110e+06</td>\n",
              "      <td>6.270000e+08</td>\n",
              "      <td>...</td>\n",
              "      <td>198636.000000</td>\n",
              "      <td>60.000000</td>\n",
              "      <td>1.100000e+08</td>\n",
              "      <td>7.050000e+07</td>\n",
              "      <td>1.100000e+08</td>\n",
              "      <td>1.100000e+08</td>\n",
              "      <td>1.200000e+08</td>\n",
              "      <td>7.420000e+07</td>\n",
              "      <td>1.200000e+08</td>\n",
              "      <td>1.200000e+08</td>\n",
              "    </tr>\n",
              "  </tbody>\n",
              "</table>\n",
              "<p>8 rows × 73 columns</p>\n",
              "</div>"
            ],
            "text/plain": [
              "       dst host count  src host count    Source Port  Destination Port  \\\n",
              "count   556548.000000   556548.000000  556548.000000     556548.000000   \n",
              "mean        63.986114       71.911368   41059.562686       7182.692884   \n",
              "std         40.704131       36.408934   20762.257722      16999.053361   \n",
              "min          1.000000        1.000000       0.000000          0.000000   \n",
              "25%         19.000000       42.000000   33830.000000         80.000000   \n",
              "50%         96.000000       97.000000   49512.000000         80.000000   \n",
              "75%        100.000000      100.000000   57000.000000       1034.000000   \n",
              "max        100.000000      100.000000   65535.000000      65532.000000   \n",
              "\n",
              "            Protocol  Flow Duration  Total Fwd Packets  \\\n",
              "count  556548.000000   5.565480e+05      556548.000000   \n",
              "mean        8.358620   2.159931e+07           7.561386   \n",
              "std         4.518634   3.824665e+07         641.917381   \n",
              "min         0.000000  -1.300000e+01           1.000000   \n",
              "25%         6.000000   1.120000e+02           1.000000   \n",
              "50%         6.000000   6.867450e+04           2.000000   \n",
              "75%         6.000000   1.104332e+07           6.000000   \n",
              "max        17.000000   1.199999e+08      207964.000000   \n",
              "\n",
              "       Total Backward Packets  Total Length of Fwd Packets  \\\n",
              "count           556548.000000                 5.565480e+05   \n",
              "mean                 8.259167                 6.822941e+02   \n",
              "std                865.356666                 8.207379e+03   \n",
              "min                  0.000000                 0.000000e+00   \n",
              "25%                  1.000000                 6.000000e+00   \n",
              "50%                  2.000000                 5.600000e+01   \n",
              "75%                  6.000000                 3.380000e+02   \n",
              "max             284602.000000                 2.866110e+06   \n",
              "\n",
              "       Total Length of Bwd Packets  ...  act_data_pkt_fwd  \\\n",
              "count                 5.565480e+05  ...     556548.000000   \n",
              "mean                  1.265955e+04  ...          4.883591   \n",
              "std                   1.934124e+06  ...        612.739185   \n",
              "min                   0.000000e+00  ...          0.000000   \n",
              "25%                   6.000000e+00  ...          0.000000   \n",
              "50%                   1.120000e+02  ...          1.000000   \n",
              "75%                   1.159500e+04  ...          2.000000   \n",
              "max                   6.270000e+08  ...     198636.000000   \n",
              "\n",
              "       min_seg_size_forward   Active Mean    Active Std    Active Max  \\\n",
              "count         556548.000000  5.565480e+05  5.565480e+05  5.565480e+05   \n",
              "mean              25.540766  1.082361e+05  3.242660e+04  1.571849e+05   \n",
              "std                6.418384  7.164700e+05  3.567006e+05  9.588739e+05   \n",
              "min                0.000000  0.000000e+00  0.000000e+00  0.000000e+00   \n",
              "25%               20.000000  0.000000e+00  0.000000e+00  0.000000e+00   \n",
              "50%               20.000000  0.000000e+00  0.000000e+00  0.000000e+00   \n",
              "75%               32.000000  9.530000e+02  0.000000e+00  9.530000e+02   \n",
              "max               60.000000  1.100000e+08  7.050000e+07  1.100000e+08   \n",
              "\n",
              "         Active Min     Idle Mean      Idle Std      Idle Max      Idle Min  \n",
              "count  5.565480e+05  5.565480e+05  5.565480e+05  5.565480e+05  5.565480e+05  \n",
              "mean   8.865328e+04  1.640646e+07  1.206008e+06  1.730500e+07  1.552621e+07  \n",
              "std    6.668469e+05  3.283531e+07  7.260774e+06  3.390042e+07  3.259279e+07  \n",
              "min    0.000000e+00  0.000000e+00  0.000000e+00  0.000000e+00  0.000000e+00  \n",
              "25%    0.000000e+00  0.000000e+00  0.000000e+00  0.000000e+00  0.000000e+00  \n",
              "50%    0.000000e+00  0.000000e+00  0.000000e+00  0.000000e+00  0.000000e+00  \n",
              "75%    8.820000e+02  9.553880e+06  0.000000e+00  9.803576e+06  7.462839e+06  \n",
              "max    1.100000e+08  1.200000e+08  7.420000e+07  1.200000e+08  1.200000e+08  \n",
              "\n",
              "[8 rows x 73 columns]"
            ]
          },
          "metadata": {
            "tags": []
          },
          "execution_count": 11
        }
      ]
    },
    {
      "cell_type": "markdown",
      "metadata": {
        "id": "q2X3KG4zZ04P"
      },
      "source": [
        "Read test and validation sets"
      ]
    },
    {
      "cell_type": "code",
      "metadata": {
        "colab": {
          "base_uri": "https://localhost:8080/"
        },
        "id": "U5hWm9Q-Z04Q",
        "outputId": "b3e5fc1b-1860-45ea-c804-97b540553d1b"
      },
      "source": [
        "print('Test set: ')\n",
        "df_test['Label'].value_counts()"
      ],
      "execution_count": null,
      "outputs": [
        {
          "output_type": "stream",
          "text": [
            "Test set: \n"
          ],
          "name": "stdout"
        },
        {
          "output_type": "execute_result",
          "data": {
            "text/plain": [
              "BENIGN                        139135\n",
              "DoS Hulk                       57531\n",
              "PortScan                       39701\n",
              "DDoS                           32006\n",
              "DoS GoldenEye                   2573\n",
              "FTP-Patator                     1983\n",
              "SSH-Patator                     1474\n",
              "DoS slowloris                   1449\n",
              "DoS Slowhttptest                1374\n",
              "Bot                              489\n",
              "Web Attack � Brute Force         376\n",
              "Web Attack � XSS                 163\n",
              "Infiltration                       9\n",
              "Web Attack � Sql Injection         5\n",
              "Heartbleed                         3\n",
              "Name: Label, dtype: int64"
            ]
          },
          "metadata": {
            "tags": []
          },
          "execution_count": 12
        }
      ]
    },
    {
      "cell_type": "code",
      "metadata": {
        "colab": {
          "base_uri": "https://localhost:8080/",
          "height": 338
        },
        "id": "i5H5oCfvtMm-",
        "outputId": "12508bc0-27a7-4644-bf98-47b34e526bd5"
      },
      "source": [
        "df_test.describe()"
      ],
      "execution_count": null,
      "outputs": [
        {
          "output_type": "execute_result",
          "data": {
            "text/html": [
              "<div>\n",
              "<style scoped>\n",
              "    .dataframe tbody tr th:only-of-type {\n",
              "        vertical-align: middle;\n",
              "    }\n",
              "\n",
              "    .dataframe tbody tr th {\n",
              "        vertical-align: top;\n",
              "    }\n",
              "\n",
              "    .dataframe thead th {\n",
              "        text-align: right;\n",
              "    }\n",
              "</style>\n",
              "<table border=\"1\" class=\"dataframe\">\n",
              "  <thead>\n",
              "    <tr style=\"text-align: right;\">\n",
              "      <th></th>\n",
              "      <th>Source Port</th>\n",
              "      <th>Destination Port</th>\n",
              "      <th>Protocol</th>\n",
              "      <th>Flow Duration</th>\n",
              "      <th>Total Fwd Packets</th>\n",
              "      <th>Total Backward Packets</th>\n",
              "      <th>Total Length of Fwd Packets</th>\n",
              "      <th>Total Length of Bwd Packets</th>\n",
              "      <th>Fwd Packet Length Max</th>\n",
              "      <th>Fwd Packet Length Min</th>\n",
              "      <th>Fwd Packet Length Mean</th>\n",
              "      <th>Fwd Packet Length Std</th>\n",
              "      <th>Bwd Packet Length Max</th>\n",
              "      <th>Bwd Packet Length Min</th>\n",
              "      <th>Bwd Packet Length Mean</th>\n",
              "      <th>Bwd Packet Length Std</th>\n",
              "      <th>Flow Bytes/s</th>\n",
              "      <th>Flow Packets/s</th>\n",
              "      <th>Flow IAT Mean</th>\n",
              "      <th>Flow IAT Std</th>\n",
              "      <th>Flow IAT Max</th>\n",
              "      <th>Flow IAT Min</th>\n",
              "      <th>Fwd IAT Total</th>\n",
              "      <th>Fwd IAT Mean</th>\n",
              "      <th>Fwd IAT Std</th>\n",
              "      <th>Fwd IAT Max</th>\n",
              "      <th>Fwd IAT Min</th>\n",
              "      <th>Bwd IAT Total</th>\n",
              "      <th>Bwd IAT Mean</th>\n",
              "      <th>Bwd IAT Std</th>\n",
              "      <th>Bwd IAT Max</th>\n",
              "      <th>Bwd IAT Min</th>\n",
              "      <th>Fwd PSH Flags</th>\n",
              "      <th>Fwd URG Flags</th>\n",
              "      <th>Fwd Header Length</th>\n",
              "      <th>Bwd Header Length</th>\n",
              "      <th>Fwd Packets/s</th>\n",
              "      <th>Bwd Packets/s</th>\n",
              "      <th>Min Packet Length</th>\n",
              "      <th>Max Packet Length</th>\n",
              "      <th>Packet Length Mean</th>\n",
              "      <th>Packet Length Std</th>\n",
              "      <th>Packet Length Variance</th>\n",
              "      <th>FIN Flag Count</th>\n",
              "      <th>SYN Flag Count</th>\n",
              "      <th>RST Flag Count</th>\n",
              "      <th>PSH Flag Count</th>\n",
              "      <th>ACK Flag Count</th>\n",
              "      <th>URG Flag Count</th>\n",
              "      <th>CWE Flag Count</th>\n",
              "      <th>ECE Flag Count</th>\n",
              "      <th>Down/Up Ratio</th>\n",
              "      <th>Average Packet Size</th>\n",
              "      <th>Avg Fwd Segment Size</th>\n",
              "      <th>Avg Bwd Segment Size</th>\n",
              "      <th>Subflow Fwd Packets</th>\n",
              "      <th>Subflow Fwd Bytes</th>\n",
              "      <th>Subflow Bwd Packets</th>\n",
              "      <th>Subflow Bwd Bytes</th>\n",
              "      <th>Init_Win_bytes_forward</th>\n",
              "      <th>Init_Win_bytes_backward</th>\n",
              "      <th>act_data_pkt_fwd</th>\n",
              "      <th>min_seg_size_forward</th>\n",
              "      <th>Active Mean</th>\n",
              "      <th>Active Std</th>\n",
              "      <th>Active Max</th>\n",
              "      <th>Active Min</th>\n",
              "      <th>Idle Mean</th>\n",
              "      <th>Idle Std</th>\n",
              "      <th>Idle Max</th>\n",
              "      <th>Idle Min</th>\n",
              "    </tr>\n",
              "  </thead>\n",
              "  <tbody>\n",
              "    <tr>\n",
              "      <th>count</th>\n",
              "      <td>278270.000000</td>\n",
              "      <td>278270.000000</td>\n",
              "      <td>278270.000000</td>\n",
              "      <td>2.782700e+05</td>\n",
              "      <td>278270.000000</td>\n",
              "      <td>278270.000000</td>\n",
              "      <td>2.782700e+05</td>\n",
              "      <td>2.782700e+05</td>\n",
              "      <td>278270.000000</td>\n",
              "      <td>278270.000000</td>\n",
              "      <td>278270.000000</td>\n",
              "      <td>278270.000000</td>\n",
              "      <td>278270.000000</td>\n",
              "      <td>278270.000000</td>\n",
              "      <td>278270.000000</td>\n",
              "      <td>278270.000000</td>\n",
              "      <td>2.782700e+05</td>\n",
              "      <td>2.782700e+05</td>\n",
              "      <td>2.782700e+05</td>\n",
              "      <td>2.782700e+05</td>\n",
              "      <td>2.782700e+05</td>\n",
              "      <td>2.782700e+05</td>\n",
              "      <td>2.782700e+05</td>\n",
              "      <td>2.782700e+05</td>\n",
              "      <td>2.782700e+05</td>\n",
              "      <td>2.782700e+05</td>\n",
              "      <td>2.782700e+05</td>\n",
              "      <td>2.782700e+05</td>\n",
              "      <td>2.782700e+05</td>\n",
              "      <td>2.782700e+05</td>\n",
              "      <td>2.782700e+05</td>\n",
              "      <td>2.782700e+05</td>\n",
              "      <td>278270.000000</td>\n",
              "      <td>278270.0</td>\n",
              "      <td>2.782700e+05</td>\n",
              "      <td>2.782700e+05</td>\n",
              "      <td>2.782700e+05</td>\n",
              "      <td>2.782700e+05</td>\n",
              "      <td>278270.000000</td>\n",
              "      <td>278270.000000</td>\n",
              "      <td>278270.000000</td>\n",
              "      <td>278270.000000</td>\n",
              "      <td>2.782700e+05</td>\n",
              "      <td>278270.000000</td>\n",
              "      <td>278270.000000</td>\n",
              "      <td>278270.000000</td>\n",
              "      <td>278270.000000</td>\n",
              "      <td>278270.000000</td>\n",
              "      <td>278270.000000</td>\n",
              "      <td>278270.0</td>\n",
              "      <td>278270.000000</td>\n",
              "      <td>278270.000000</td>\n",
              "      <td>278270.000000</td>\n",
              "      <td>278270.000000</td>\n",
              "      <td>278270.000000</td>\n",
              "      <td>278270.000000</td>\n",
              "      <td>2.782700e+05</td>\n",
              "      <td>278270.000000</td>\n",
              "      <td>2.782700e+05</td>\n",
              "      <td>278270.000000</td>\n",
              "      <td>278270.000000</td>\n",
              "      <td>278270.000000</td>\n",
              "      <td>278270.000000</td>\n",
              "      <td>2.782700e+05</td>\n",
              "      <td>2.782700e+05</td>\n",
              "      <td>2.782700e+05</td>\n",
              "      <td>2.782700e+05</td>\n",
              "      <td>2.782700e+05</td>\n",
              "      <td>2.782700e+05</td>\n",
              "      <td>2.782700e+05</td>\n",
              "      <td>2.782700e+05</td>\n",
              "    </tr>\n",
              "    <tr>\n",
              "      <th>mean</th>\n",
              "      <td>45364.905750</td>\n",
              "      <td>5840.633640</td>\n",
              "      <td>7.480749</td>\n",
              "      <td>2.018494e+07</td>\n",
              "      <td>13.425781</td>\n",
              "      <td>15.071391</td>\n",
              "      <td>5.018160e+02</td>\n",
              "      <td>2.777075e+04</td>\n",
              "      <td>185.079276</td>\n",
              "      <td>9.858127</td>\n",
              "      <td>42.498337</td>\n",
              "      <td>62.543191</td>\n",
              "      <td>1437.918892</td>\n",
              "      <td>16.702825</td>\n",
              "      <td>472.989076</td>\n",
              "      <td>598.916973</td>\n",
              "      <td>1.319690e+06</td>\n",
              "      <td>9.153090e+04</td>\n",
              "      <td>2.091054e+06</td>\n",
              "      <td>4.928267e+06</td>\n",
              "      <td>1.541155e+07</td>\n",
              "      <td>2.119001e+05</td>\n",
              "      <td>1.981716e+07</td>\n",
              "      <td>4.173283e+06</td>\n",
              "      <td>5.569102e+06</td>\n",
              "      <td>1.522487e+07</td>\n",
              "      <td>1.619357e+06</td>\n",
              "      <td>1.058695e+07</td>\n",
              "      <td>2.418274e+06</td>\n",
              "      <td>2.028897e+06</td>\n",
              "      <td>6.305801e+06</td>\n",
              "      <td>1.360565e+06</td>\n",
              "      <td>0.055008</td>\n",
              "      <td>0.0</td>\n",
              "      <td>3.183946e+02</td>\n",
              "      <td>3.384120e+02</td>\n",
              "      <td>8.541160e+04</td>\n",
              "      <td>6.162424e+03</td>\n",
              "      <td>7.706957</td>\n",
              "      <td>1472.163140</td>\n",
              "      <td>241.332367</td>\n",
              "      <td>466.822599</td>\n",
              "      <td>8.970325e+05</td>\n",
              "      <td>0.058659</td>\n",
              "      <td>0.055008</td>\n",
              "      <td>0.000079</td>\n",
              "      <td>0.423420</td>\n",
              "      <td>0.383936</td>\n",
              "      <td>0.024473</td>\n",
              "      <td>0.0</td>\n",
              "      <td>0.000079</td>\n",
              "      <td>0.515485</td>\n",
              "      <td>266.229446</td>\n",
              "      <td>42.498337</td>\n",
              "      <td>472.989076</td>\n",
              "      <td>13.425781</td>\n",
              "      <td>5.018160e+02</td>\n",
              "      <td>15.071391</td>\n",
              "      <td>2.777075e+04</td>\n",
              "      <td>10570.921080</td>\n",
              "      <td>1731.267470</td>\n",
              "      <td>10.076965</td>\n",
              "      <td>26.450577</td>\n",
              "      <td>9.950258e+04</td>\n",
              "      <td>4.357601e+04</td>\n",
              "      <td>1.635863e+05</td>\n",
              "      <td>7.265777e+04</td>\n",
              "      <td>1.389976e+07</td>\n",
              "      <td>9.310342e+05</td>\n",
              "      <td>1.461183e+07</td>\n",
              "      <td>1.319746e+07</td>\n",
              "    </tr>\n",
              "    <tr>\n",
              "      <th>std</th>\n",
              "      <td>17986.051427</td>\n",
              "      <td>15731.041102</td>\n",
              "      <td>3.759347</td>\n",
              "      <td>3.747672e+07</td>\n",
              "      <td>1208.778536</td>\n",
              "      <td>1591.037162</td>\n",
              "      <td>7.898116e+03</td>\n",
              "      <td>3.604963e+06</td>\n",
              "      <td>392.614677</td>\n",
              "      <td>61.235977</td>\n",
              "      <td>99.578231</td>\n",
              "      <td>132.298567</td>\n",
              "      <td>2586.487090</td>\n",
              "      <td>46.983524</td>\n",
              "      <td>797.823718</td>\n",
              "      <td>1144.520735</td>\n",
              "      <td>2.365354e+07</td>\n",
              "      <td>2.939540e+05</td>\n",
              "      <td>5.446991e+06</td>\n",
              "      <td>1.046406e+07</td>\n",
              "      <td>3.156539e+07</td>\n",
              "      <td>3.035605e+06</td>\n",
              "      <td>3.741861e+07</td>\n",
              "      <td>1.178049e+07</td>\n",
              "      <td>1.262896e+07</td>\n",
              "      <td>3.161073e+07</td>\n",
              "      <td>1.066533e+07</td>\n",
              "      <td>2.913323e+07</td>\n",
              "      <td>1.045182e+07</td>\n",
              "      <td>7.731527e+06</td>\n",
              "      <td>2.046630e+07</td>\n",
              "      <td>9.753000e+06</td>\n",
              "      <td>0.227996</td>\n",
              "      <td>0.0</td>\n",
              "      <td>2.524765e+04</td>\n",
              "      <td>3.182466e+04</td>\n",
              "      <td>2.889885e+05</td>\n",
              "      <td>3.511581e+04</td>\n",
              "      <td>17.933308</td>\n",
              "      <td>2584.335069</td>\n",
              "      <td>383.113699</td>\n",
              "      <td>824.111902</td>\n",
              "      <td>2.290032e+06</td>\n",
              "      <td>0.234986</td>\n",
              "      <td>0.227996</td>\n",
              "      <td>0.008891</td>\n",
              "      <td>0.494102</td>\n",
              "      <td>0.486344</td>\n",
              "      <td>0.154512</td>\n",
              "      <td>0.0</td>\n",
              "      <td>0.008891</td>\n",
              "      <td>0.551013</td>\n",
              "      <td>420.649091</td>\n",
              "      <td>99.578231</td>\n",
              "      <td>797.823718</td>\n",
              "      <td>1208.778536</td>\n",
              "      <td>7.898116e+03</td>\n",
              "      <td>1591.037162</td>\n",
              "      <td>3.604963e+06</td>\n",
              "      <td>17760.016938</td>\n",
              "      <td>7434.284715</td>\n",
              "      <td>1153.408495</td>\n",
              "      <td>6.864564</td>\n",
              "      <td>7.423962e+05</td>\n",
              "      <td>4.382250e+05</td>\n",
              "      <td>1.087195e+06</td>\n",
              "      <td>6.664087e+05</td>\n",
              "      <td>3.055265e+07</td>\n",
              "      <td>6.557272e+06</td>\n",
              "      <td>3.158812e+07</td>\n",
              "      <td>3.024680e+07</td>\n",
              "    </tr>\n",
              "    <tr>\n",
              "      <th>min</th>\n",
              "      <td>0.000000</td>\n",
              "      <td>0.000000</td>\n",
              "      <td>0.000000</td>\n",
              "      <td>-1.000000e+00</td>\n",
              "      <td>1.000000</td>\n",
              "      <td>0.000000</td>\n",
              "      <td>0.000000e+00</td>\n",
              "      <td>0.000000e+00</td>\n",
              "      <td>0.000000</td>\n",
              "      <td>0.000000</td>\n",
              "      <td>0.000000</td>\n",
              "      <td>0.000000</td>\n",
              "      <td>0.000000</td>\n",
              "      <td>0.000000</td>\n",
              "      <td>0.000000</td>\n",
              "      <td>0.000000</td>\n",
              "      <td>-1.200000e+07</td>\n",
              "      <td>-2.000000e+06</td>\n",
              "      <td>-1.000000e+00</td>\n",
              "      <td>0.000000e+00</td>\n",
              "      <td>-1.000000e+00</td>\n",
              "      <td>-1.300000e+01</td>\n",
              "      <td>0.000000e+00</td>\n",
              "      <td>0.000000e+00</td>\n",
              "      <td>0.000000e+00</td>\n",
              "      <td>0.000000e+00</td>\n",
              "      <td>-1.000000e+00</td>\n",
              "      <td>0.000000e+00</td>\n",
              "      <td>0.000000e+00</td>\n",
              "      <td>0.000000e+00</td>\n",
              "      <td>0.000000e+00</td>\n",
              "      <td>0.000000e+00</td>\n",
              "      <td>0.000000</td>\n",
              "      <td>0.0</td>\n",
              "      <td>0.000000e+00</td>\n",
              "      <td>0.000000e+00</td>\n",
              "      <td>0.000000e+00</td>\n",
              "      <td>0.000000e+00</td>\n",
              "      <td>0.000000</td>\n",
              "      <td>0.000000</td>\n",
              "      <td>0.000000</td>\n",
              "      <td>0.000000</td>\n",
              "      <td>0.000000e+00</td>\n",
              "      <td>0.000000</td>\n",
              "      <td>0.000000</td>\n",
              "      <td>0.000000</td>\n",
              "      <td>0.000000</td>\n",
              "      <td>0.000000</td>\n",
              "      <td>0.000000</td>\n",
              "      <td>0.0</td>\n",
              "      <td>0.000000</td>\n",
              "      <td>0.000000</td>\n",
              "      <td>0.000000</td>\n",
              "      <td>0.000000</td>\n",
              "      <td>0.000000</td>\n",
              "      <td>1.000000</td>\n",
              "      <td>0.000000e+00</td>\n",
              "      <td>0.000000</td>\n",
              "      <td>0.000000e+00</td>\n",
              "      <td>-1.000000</td>\n",
              "      <td>-1.000000</td>\n",
              "      <td>0.000000</td>\n",
              "      <td>0.000000</td>\n",
              "      <td>0.000000e+00</td>\n",
              "      <td>0.000000e+00</td>\n",
              "      <td>0.000000e+00</td>\n",
              "      <td>0.000000e+00</td>\n",
              "      <td>0.000000e+00</td>\n",
              "      <td>0.000000e+00</td>\n",
              "      <td>0.000000e+00</td>\n",
              "      <td>0.000000e+00</td>\n",
              "    </tr>\n",
              "    <tr>\n",
              "      <th>25%</th>\n",
              "      <td>39814.000000</td>\n",
              "      <td>80.000000</td>\n",
              "      <td>6.000000</td>\n",
              "      <td>8.000000e+01</td>\n",
              "      <td>2.000000</td>\n",
              "      <td>1.000000</td>\n",
              "      <td>2.000000e+00</td>\n",
              "      <td>0.000000e+00</td>\n",
              "      <td>2.000000</td>\n",
              "      <td>0.000000</td>\n",
              "      <td>2.000000</td>\n",
              "      <td>0.000000</td>\n",
              "      <td>0.000000</td>\n",
              "      <td>0.000000</td>\n",
              "      <td>0.000000</td>\n",
              "      <td>0.000000</td>\n",
              "      <td>4.187093e+01</td>\n",
              "      <td>7.809336e-01</td>\n",
              "      <td>7.100000e+01</td>\n",
              "      <td>0.000000e+00</td>\n",
              "      <td>7.800000e+01</td>\n",
              "      <td>3.000000e+00</td>\n",
              "      <td>1.000000e+00</td>\n",
              "      <td>1.000000e+00</td>\n",
              "      <td>0.000000e+00</td>\n",
              "      <td>1.000000e+00</td>\n",
              "      <td>0.000000e+00</td>\n",
              "      <td>0.000000e+00</td>\n",
              "      <td>0.000000e+00</td>\n",
              "      <td>0.000000e+00</td>\n",
              "      <td>0.000000e+00</td>\n",
              "      <td>0.000000e+00</td>\n",
              "      <td>0.000000</td>\n",
              "      <td>0.0</td>\n",
              "      <td>4.000000e+01</td>\n",
              "      <td>2.000000e+01</td>\n",
              "      <td>5.793178e-01</td>\n",
              "      <td>8.503405e-03</td>\n",
              "      <td>0.000000</td>\n",
              "      <td>6.000000</td>\n",
              "      <td>3.333333</td>\n",
              "      <td>2.309401</td>\n",
              "      <td>5.333333e+00</td>\n",
              "      <td>0.000000</td>\n",
              "      <td>0.000000</td>\n",
              "      <td>0.000000</td>\n",
              "      <td>0.000000</td>\n",
              "      <td>0.000000</td>\n",
              "      <td>0.000000</td>\n",
              "      <td>0.0</td>\n",
              "      <td>0.000000</td>\n",
              "      <td>0.000000</td>\n",
              "      <td>5.000000</td>\n",
              "      <td>2.000000</td>\n",
              "      <td>0.000000</td>\n",
              "      <td>2.000000</td>\n",
              "      <td>2.000000e+00</td>\n",
              "      <td>1.000000</td>\n",
              "      <td>0.000000e+00</td>\n",
              "      <td>251.000000</td>\n",
              "      <td>-1.000000</td>\n",
              "      <td>0.000000</td>\n",
              "      <td>20.000000</td>\n",
              "      <td>0.000000e+00</td>\n",
              "      <td>0.000000e+00</td>\n",
              "      <td>0.000000e+00</td>\n",
              "      <td>0.000000e+00</td>\n",
              "      <td>0.000000e+00</td>\n",
              "      <td>0.000000e+00</td>\n",
              "      <td>0.000000e+00</td>\n",
              "      <td>0.000000e+00</td>\n",
              "    </tr>\n",
              "    <tr>\n",
              "      <th>50%</th>\n",
              "      <td>50634.000000</td>\n",
              "      <td>80.000000</td>\n",
              "      <td>6.000000</td>\n",
              "      <td>8.538300e+04</td>\n",
              "      <td>3.000000</td>\n",
              "      <td>1.000000</td>\n",
              "      <td>3.700000e+01</td>\n",
              "      <td>6.100000e+01</td>\n",
              "      <td>30.000000</td>\n",
              "      <td>0.000000</td>\n",
              "      <td>10.900480</td>\n",
              "      <td>0.000000</td>\n",
              "      <td>48.000000</td>\n",
              "      <td>0.000000</td>\n",
              "      <td>41.000000</td>\n",
              "      <td>0.000000</td>\n",
              "      <td>1.179980e+03</td>\n",
              "      <td>6.026881e+01</td>\n",
              "      <td>2.694690e+04</td>\n",
              "      <td>1.009884e+04</td>\n",
              "      <td>5.489350e+04</td>\n",
              "      <td>1.200000e+01</td>\n",
              "      <td>7.013000e+03</td>\n",
              "      <td>3.503500e+03</td>\n",
              "      <td>3.351686e+02</td>\n",
              "      <td>6.663000e+03</td>\n",
              "      <td>3.000000e+00</td>\n",
              "      <td>0.000000e+00</td>\n",
              "      <td>0.000000e+00</td>\n",
              "      <td>0.000000e+00</td>\n",
              "      <td>0.000000e+00</td>\n",
              "      <td>0.000000e+00</td>\n",
              "      <td>0.000000</td>\n",
              "      <td>0.0</td>\n",
              "      <td>7.200000e+01</td>\n",
              "      <td>3.200000e+01</td>\n",
              "      <td>3.205693e+01</td>\n",
              "      <td>7.639334e-01</td>\n",
              "      <td>0.000000</td>\n",
              "      <td>56.000000</td>\n",
              "      <td>48.000000</td>\n",
              "      <td>18.622567</td>\n",
              "      <td>3.468000e+02</td>\n",
              "      <td>0.000000</td>\n",
              "      <td>0.000000</td>\n",
              "      <td>0.000000</td>\n",
              "      <td>0.000000</td>\n",
              "      <td>0.000000</td>\n",
              "      <td>0.000000</td>\n",
              "      <td>0.0</td>\n",
              "      <td>0.000000</td>\n",
              "      <td>0.000000</td>\n",
              "      <td>59.750000</td>\n",
              "      <td>10.900480</td>\n",
              "      <td>41.000000</td>\n",
              "      <td>3.000000</td>\n",
              "      <td>3.700000e+01</td>\n",
              "      <td>1.000000</td>\n",
              "      <td>6.100000e+01</td>\n",
              "      <td>304.000000</td>\n",
              "      <td>0.000000</td>\n",
              "      <td>1.000000</td>\n",
              "      <td>24.000000</td>\n",
              "      <td>0.000000e+00</td>\n",
              "      <td>0.000000e+00</td>\n",
              "      <td>0.000000e+00</td>\n",
              "      <td>0.000000e+00</td>\n",
              "      <td>0.000000e+00</td>\n",
              "      <td>0.000000e+00</td>\n",
              "      <td>0.000000e+00</td>\n",
              "      <td>0.000000e+00</td>\n",
              "    </tr>\n",
              "    <tr>\n",
              "      <th>75%</th>\n",
              "      <td>58142.000000</td>\n",
              "      <td>443.000000</td>\n",
              "      <td>6.000000</td>\n",
              "      <td>9.936814e+06</td>\n",
              "      <td>7.000000</td>\n",
              "      <td>6.000000</td>\n",
              "      <td>3.560000e+02</td>\n",
              "      <td>4.532000e+03</td>\n",
              "      <td>321.000000</td>\n",
              "      <td>6.000000</td>\n",
              "      <td>54.333333</td>\n",
              "      <td>111.538871</td>\n",
              "      <td>1460.000000</td>\n",
              "      <td>6.000000</td>\n",
              "      <td>542.958333</td>\n",
              "      <td>663.236171</td>\n",
              "      <td>7.400125e+04</td>\n",
              "      <td>2.631579e+04</td>\n",
              "      <td>1.557685e+06</td>\n",
              "      <td>2.991012e+06</td>\n",
              "      <td>8.012042e+06</td>\n",
              "      <td>7.200000e+01</td>\n",
              "      <td>8.004861e+06</td>\n",
              "      <td>2.007233e+06</td>\n",
              "      <td>2.359285e+06</td>\n",
              "      <td>6.955281e+06</td>\n",
              "      <td>1.450000e+02</td>\n",
              "      <td>2.174638e+05</td>\n",
              "      <td>4.452351e+04</td>\n",
              "      <td>5.501563e+04</td>\n",
              "      <td>1.481998e+05</td>\n",
              "      <td>4.500000e+01</td>\n",
              "      <td>0.000000</td>\n",
              "      <td>0.0</td>\n",
              "      <td>1.720000e+02</td>\n",
              "      <td>1.520000e+02</td>\n",
              "      <td>1.388889e+04</td>\n",
              "      <td>6.120382e+01</td>\n",
              "      <td>6.000000</td>\n",
              "      <td>1460.000000</td>\n",
              "      <td>298.055556</td>\n",
              "      <td>533.916876</td>\n",
              "      <td>2.850672e+05</td>\n",
              "      <td>0.000000</td>\n",
              "      <td>0.000000</td>\n",
              "      <td>0.000000</td>\n",
              "      <td>1.000000</td>\n",
              "      <td>1.000000</td>\n",
              "      <td>0.000000</td>\n",
              "      <td>0.0</td>\n",
              "      <td>0.000000</td>\n",
              "      <td>1.000000</td>\n",
              "      <td>315.055556</td>\n",
              "      <td>54.333333</td>\n",
              "      <td>542.958333</td>\n",
              "      <td>7.000000</td>\n",
              "      <td>3.560000e+02</td>\n",
              "      <td>6.000000</td>\n",
              "      <td>4.532000e+03</td>\n",
              "      <td>8192.000000</td>\n",
              "      <td>235.000000</td>\n",
              "      <td>3.000000</td>\n",
              "      <td>32.000000</td>\n",
              "      <td>5.000000e+00</td>\n",
              "      <td>0.000000e+00</td>\n",
              "      <td>5.000000e+00</td>\n",
              "      <td>5.000000e+00</td>\n",
              "      <td>5.853280e+06</td>\n",
              "      <td>0.000000e+00</td>\n",
              "      <td>5.860882e+06</td>\n",
              "      <td>5.499876e+06</td>\n",
              "    </tr>\n",
              "    <tr>\n",
              "      <th>max</th>\n",
              "      <td>65534.000000</td>\n",
              "      <td>65534.000000</td>\n",
              "      <td>17.000000</td>\n",
              "      <td>1.199999e+08</td>\n",
              "      <td>219759.000000</td>\n",
              "      <td>291922.000000</td>\n",
              "      <td>1.323378e+06</td>\n",
              "      <td>6.554530e+08</td>\n",
              "      <td>23360.000000</td>\n",
              "      <td>2065.000000</td>\n",
              "      <td>4638.923469</td>\n",
              "      <td>7125.596846</td>\n",
              "      <td>17376.000000</td>\n",
              "      <td>2146.000000</td>\n",
              "      <td>3884.924556</td>\n",
              "      <td>6715.738331</td>\n",
              "      <td>2.071000e+09</td>\n",
              "      <td>3.000000e+06</td>\n",
              "      <td>1.143926e+08</td>\n",
              "      <td>8.478172e+07</td>\n",
              "      <td>1.199946e+08</td>\n",
              "      <td>1.143926e+08</td>\n",
              "      <td>1.199998e+08</td>\n",
              "      <td>1.199610e+08</td>\n",
              "      <td>8.460293e+07</td>\n",
              "      <td>1.199948e+08</td>\n",
              "      <td>1.199610e+08</td>\n",
              "      <td>1.199996e+08</td>\n",
              "      <td>1.199741e+08</td>\n",
              "      <td>8.441801e+07</td>\n",
              "      <td>1.199741e+08</td>\n",
              "      <td>1.199741e+08</td>\n",
              "      <td>1.000000</td>\n",
              "      <td>0.0</td>\n",
              "      <td>4.644908e+06</td>\n",
              "      <td>5.838440e+06</td>\n",
              "      <td>3.000000e+06</td>\n",
              "      <td>2.000000e+06</td>\n",
              "      <td>389.000000</td>\n",
              "      <td>23360.000000</td>\n",
              "      <td>1877.272727</td>\n",
              "      <td>4414.547151</td>\n",
              "      <td>1.948823e+07</td>\n",
              "      <td>1.000000</td>\n",
              "      <td>1.000000</td>\n",
              "      <td>1.000000</td>\n",
              "      <td>1.000000</td>\n",
              "      <td>1.000000</td>\n",
              "      <td>1.000000</td>\n",
              "      <td>0.0</td>\n",
              "      <td>1.000000</td>\n",
              "      <td>7.000000</td>\n",
              "      <td>2068.000000</td>\n",
              "      <td>4638.923469</td>\n",
              "      <td>3884.924556</td>\n",
              "      <td>219759.000000</td>\n",
              "      <td>1.323378e+06</td>\n",
              "      <td>291922.000000</td>\n",
              "      <td>6.554530e+08</td>\n",
              "      <td>65535.000000</td>\n",
              "      <td>65535.000000</td>\n",
              "      <td>213557.000000</td>\n",
              "      <td>93.000000</td>\n",
              "      <td>1.016597e+08</td>\n",
              "      <td>6.434950e+07</td>\n",
              "      <td>1.016597e+08</td>\n",
              "      <td>1.016597e+08</td>\n",
              "      <td>1.199946e+08</td>\n",
              "      <td>7.353239e+07</td>\n",
              "      <td>1.199946e+08</td>\n",
              "      <td>1.199946e+08</td>\n",
              "    </tr>\n",
              "  </tbody>\n",
              "</table>\n",
              "</div>"
            ],
            "text/plain": [
              "         Source Port  Destination Port  ...      Idle Max      Idle Min\n",
              "count  278270.000000     278270.000000  ...  2.782700e+05  2.782700e+05\n",
              "mean    45364.905750       5840.633640  ...  1.461183e+07  1.319746e+07\n",
              "std     17986.051427      15731.041102  ...  3.158812e+07  3.024680e+07\n",
              "min         0.000000          0.000000  ...  0.000000e+00  0.000000e+00\n",
              "25%     39814.000000         80.000000  ...  0.000000e+00  0.000000e+00\n",
              "50%     50634.000000         80.000000  ...  0.000000e+00  0.000000e+00\n",
              "75%     58142.000000        443.000000  ...  5.860882e+06  5.499876e+06\n",
              "max     65534.000000      65534.000000  ...  1.199946e+08  1.199946e+08\n",
              "\n",
              "[8 rows x 71 columns]"
            ]
          },
          "metadata": {
            "tags": []
          },
          "execution_count": 15
        }
      ]
    },
    {
      "cell_type": "code",
      "metadata": {
        "colab": {
          "base_uri": "https://localhost:8080/"
        },
        "id": "B0-lHNicZ04Q",
        "outputId": "04ed9641-b558-40d6-be3d-aa6715a78e50"
      },
      "source": [
        "print('Validation set: ')\n",
        "df_val['Label'].value_counts()"
      ],
      "execution_count": null,
      "outputs": [
        {
          "output_type": "stream",
          "text": [
            "Validation set: \n"
          ],
          "name": "stdout"
        },
        {
          "output_type": "execute_result",
          "data": {
            "text/plain": [
              "BENIGN                        139135\n",
              "DoS Hulk                       57531\n",
              "PortScan                       39701\n",
              "DDoS                           32006\n",
              "DoS GoldenEye                   2573\n",
              "FTP-Patator                     1983\n",
              "SSH-Patator                     1474\n",
              "DoS slowloris                   1449\n",
              "DoS Slowhttptest                1374\n",
              "Bot                              489\n",
              "Web Attack � Brute Force         376\n",
              "Web Attack � XSS                 163\n",
              "Infiltration                       9\n",
              "Web Attack � Sql Injection         5\n",
              "Heartbleed                         3\n",
              "Name: Label, dtype: int64"
            ]
          },
          "metadata": {
            "tags": []
          },
          "execution_count": 13
        }
      ]
    },
    {
      "cell_type": "code",
      "metadata": {
        "colab": {
          "base_uri": "https://localhost:8080/",
          "height": 338
        },
        "id": "jdr4JCpftQvk",
        "outputId": "b9e26e02-ecf1-487b-d241-8ebd703c7c31"
      },
      "source": [
        "df_val.describe()"
      ],
      "execution_count": null,
      "outputs": [
        {
          "output_type": "execute_result",
          "data": {
            "text/html": [
              "<div>\n",
              "<style scoped>\n",
              "    .dataframe tbody tr th:only-of-type {\n",
              "        vertical-align: middle;\n",
              "    }\n",
              "\n",
              "    .dataframe tbody tr th {\n",
              "        vertical-align: top;\n",
              "    }\n",
              "\n",
              "    .dataframe thead th {\n",
              "        text-align: right;\n",
              "    }\n",
              "</style>\n",
              "<table border=\"1\" class=\"dataframe\">\n",
              "  <thead>\n",
              "    <tr style=\"text-align: right;\">\n",
              "      <th></th>\n",
              "      <th>Source Port</th>\n",
              "      <th>Destination Port</th>\n",
              "      <th>Protocol</th>\n",
              "      <th>Flow Duration</th>\n",
              "      <th>Total Fwd Packets</th>\n",
              "      <th>Total Backward Packets</th>\n",
              "      <th>Total Length of Fwd Packets</th>\n",
              "      <th>Total Length of Bwd Packets</th>\n",
              "      <th>Fwd Packet Length Max</th>\n",
              "      <th>Fwd Packet Length Min</th>\n",
              "      <th>Fwd Packet Length Mean</th>\n",
              "      <th>Fwd Packet Length Std</th>\n",
              "      <th>Bwd Packet Length Max</th>\n",
              "      <th>Bwd Packet Length Min</th>\n",
              "      <th>Bwd Packet Length Mean</th>\n",
              "      <th>Bwd Packet Length Std</th>\n",
              "      <th>Flow Bytes/s</th>\n",
              "      <th>Flow Packets/s</th>\n",
              "      <th>Flow IAT Mean</th>\n",
              "      <th>Flow IAT Std</th>\n",
              "      <th>Flow IAT Max</th>\n",
              "      <th>Flow IAT Min</th>\n",
              "      <th>Fwd IAT Total</th>\n",
              "      <th>Fwd IAT Mean</th>\n",
              "      <th>Fwd IAT Std</th>\n",
              "      <th>Fwd IAT Max</th>\n",
              "      <th>Fwd IAT Min</th>\n",
              "      <th>Bwd IAT Total</th>\n",
              "      <th>Bwd IAT Mean</th>\n",
              "      <th>Bwd IAT Std</th>\n",
              "      <th>Bwd IAT Max</th>\n",
              "      <th>Bwd IAT Min</th>\n",
              "      <th>Fwd PSH Flags</th>\n",
              "      <th>Fwd URG Flags</th>\n",
              "      <th>Fwd Header Length</th>\n",
              "      <th>Bwd Header Length</th>\n",
              "      <th>Fwd Packets/s</th>\n",
              "      <th>Bwd Packets/s</th>\n",
              "      <th>Min Packet Length</th>\n",
              "      <th>Max Packet Length</th>\n",
              "      <th>Packet Length Mean</th>\n",
              "      <th>Packet Length Std</th>\n",
              "      <th>Packet Length Variance</th>\n",
              "      <th>FIN Flag Count</th>\n",
              "      <th>SYN Flag Count</th>\n",
              "      <th>RST Flag Count</th>\n",
              "      <th>PSH Flag Count</th>\n",
              "      <th>ACK Flag Count</th>\n",
              "      <th>URG Flag Count</th>\n",
              "      <th>CWE Flag Count</th>\n",
              "      <th>ECE Flag Count</th>\n",
              "      <th>Down/Up Ratio</th>\n",
              "      <th>Average Packet Size</th>\n",
              "      <th>Avg Fwd Segment Size</th>\n",
              "      <th>Avg Bwd Segment Size</th>\n",
              "      <th>Subflow Fwd Packets</th>\n",
              "      <th>Subflow Fwd Bytes</th>\n",
              "      <th>Subflow Bwd Packets</th>\n",
              "      <th>Subflow Bwd Bytes</th>\n",
              "      <th>Init_Win_bytes_forward</th>\n",
              "      <th>Init_Win_bytes_backward</th>\n",
              "      <th>act_data_pkt_fwd</th>\n",
              "      <th>min_seg_size_forward</th>\n",
              "      <th>Active Mean</th>\n",
              "      <th>Active Std</th>\n",
              "      <th>Active Max</th>\n",
              "      <th>Active Min</th>\n",
              "      <th>Idle Mean</th>\n",
              "      <th>Idle Std</th>\n",
              "      <th>Idle Max</th>\n",
              "      <th>Idle Min</th>\n",
              "    </tr>\n",
              "  </thead>\n",
              "  <tbody>\n",
              "    <tr>\n",
              "      <th>count</th>\n",
              "      <td>278270.000000</td>\n",
              "      <td>278270.000000</td>\n",
              "      <td>278270.000000</td>\n",
              "      <td>2.782700e+05</td>\n",
              "      <td>278270.000000</td>\n",
              "      <td>278270.000000</td>\n",
              "      <td>278270.000000</td>\n",
              "      <td>2.782700e+05</td>\n",
              "      <td>278270.000000</td>\n",
              "      <td>278270.000000</td>\n",
              "      <td>278270.000000</td>\n",
              "      <td>278270.000000</td>\n",
              "      <td>278270.000000</td>\n",
              "      <td>278270.000000</td>\n",
              "      <td>278270.000000</td>\n",
              "      <td>278270.000000</td>\n",
              "      <td>2.782700e+05</td>\n",
              "      <td>2.782700e+05</td>\n",
              "      <td>2.782700e+05</td>\n",
              "      <td>2.782700e+05</td>\n",
              "      <td>2.782700e+05</td>\n",
              "      <td>2.782700e+05</td>\n",
              "      <td>2.782700e+05</td>\n",
              "      <td>2.782700e+05</td>\n",
              "      <td>2.782700e+05</td>\n",
              "      <td>2.782700e+05</td>\n",
              "      <td>2.782700e+05</td>\n",
              "      <td>2.782700e+05</td>\n",
              "      <td>2.782700e+05</td>\n",
              "      <td>2.782700e+05</td>\n",
              "      <td>2.782700e+05</td>\n",
              "      <td>2.782700e+05</td>\n",
              "      <td>278270.000000</td>\n",
              "      <td>278270.0</td>\n",
              "      <td>2.782700e+05</td>\n",
              "      <td>2.782700e+05</td>\n",
              "      <td>2.782700e+05</td>\n",
              "      <td>2.782700e+05</td>\n",
              "      <td>278270.000000</td>\n",
              "      <td>278270.000000</td>\n",
              "      <td>278270.000000</td>\n",
              "      <td>278270.000000</td>\n",
              "      <td>2.782700e+05</td>\n",
              "      <td>278270.000000</td>\n",
              "      <td>278270.000000</td>\n",
              "      <td>278270.000000</td>\n",
              "      <td>278270.000000</td>\n",
              "      <td>278270.000000</td>\n",
              "      <td>278270.000000</td>\n",
              "      <td>278270.0</td>\n",
              "      <td>278270.000000</td>\n",
              "      <td>278270.000000</td>\n",
              "      <td>278270.000000</td>\n",
              "      <td>278270.000000</td>\n",
              "      <td>278270.000000</td>\n",
              "      <td>278270.000000</td>\n",
              "      <td>278270.000000</td>\n",
              "      <td>278270.000000</td>\n",
              "      <td>2.782700e+05</td>\n",
              "      <td>278270.000000</td>\n",
              "      <td>278270.000000</td>\n",
              "      <td>278270.000000</td>\n",
              "      <td>2.782700e+05</td>\n",
              "      <td>2.782700e+05</td>\n",
              "      <td>2.782700e+05</td>\n",
              "      <td>2.782700e+05</td>\n",
              "      <td>2.782700e+05</td>\n",
              "      <td>2.782700e+05</td>\n",
              "      <td>2.782700e+05</td>\n",
              "      <td>2.782700e+05</td>\n",
              "      <td>2.782700e+05</td>\n",
              "    </tr>\n",
              "    <tr>\n",
              "      <th>mean</th>\n",
              "      <td>42404.657796</td>\n",
              "      <td>4584.284134</td>\n",
              "      <td>8.772361</td>\n",
              "      <td>2.267720e+07</td>\n",
              "      <td>5.697168</td>\n",
              "      <td>5.401071</td>\n",
              "      <td>363.328418</td>\n",
              "      <td>6.993901e+03</td>\n",
              "      <td>146.271053</td>\n",
              "      <td>12.216883</td>\n",
              "      <td>37.118951</td>\n",
              "      <td>48.506259</td>\n",
              "      <td>1644.006185</td>\n",
              "      <td>31.044985</td>\n",
              "      <td>545.020851</td>\n",
              "      <td>677.301293</td>\n",
              "      <td>1.026168e+06</td>\n",
              "      <td>7.647836e+04</td>\n",
              "      <td>2.035292e+06</td>\n",
              "      <td>5.660128e+06</td>\n",
              "      <td>1.867983e+07</td>\n",
              "      <td>1.176209e+05</td>\n",
              "      <td>2.242947e+07</td>\n",
              "      <td>4.097971e+06</td>\n",
              "      <td>7.275898e+06</td>\n",
              "      <td>1.857577e+07</td>\n",
              "      <td>8.532117e+05</td>\n",
              "      <td>1.033244e+07</td>\n",
              "      <td>2.108780e+06</td>\n",
              "      <td>2.497470e+06</td>\n",
              "      <td>6.852268e+06</td>\n",
              "      <td>8.777106e+05</td>\n",
              "      <td>0.032285</td>\n",
              "      <td>0.0</td>\n",
              "      <td>-1.853584e+04</td>\n",
              "      <td>-6.184786e+03</td>\n",
              "      <td>6.922916e+04</td>\n",
              "      <td>7.292921e+03</td>\n",
              "      <td>11.819104</td>\n",
              "      <td>1667.675854</td>\n",
              "      <td>265.849753</td>\n",
              "      <td>521.021331</td>\n",
              "      <td>1.032910e+06</td>\n",
              "      <td>0.063622</td>\n",
              "      <td>0.032285</td>\n",
              "      <td>0.000111</td>\n",
              "      <td>0.325008</td>\n",
              "      <td>0.360617</td>\n",
              "      <td>0.052697</td>\n",
              "      <td>0.0</td>\n",
              "      <td>0.000111</td>\n",
              "      <td>0.635189</td>\n",
              "      <td>293.529747</td>\n",
              "      <td>37.118951</td>\n",
              "      <td>545.020851</td>\n",
              "      <td>5.697168</td>\n",
              "      <td>363.328418</td>\n",
              "      <td>5.401071</td>\n",
              "      <td>6.994360e+03</td>\n",
              "      <td>8300.353962</td>\n",
              "      <td>1196.878449</td>\n",
              "      <td>2.850606</td>\n",
              "      <td>-6.302925e+03</td>\n",
              "      <td>1.011663e+05</td>\n",
              "      <td>3.866528e+04</td>\n",
              "      <td>1.584032e+05</td>\n",
              "      <td>7.772919e+04</td>\n",
              "      <td>1.758377e+07</td>\n",
              "      <td>9.337417e+05</td>\n",
              "      <td>1.829755e+07</td>\n",
              "      <td>1.689405e+07</td>\n",
              "    </tr>\n",
              "    <tr>\n",
              "      <th>std</th>\n",
              "      <td>18921.321337</td>\n",
              "      <td>13260.493797</td>\n",
              "      <td>4.780477</td>\n",
              "      <td>3.957518e+07</td>\n",
              "      <td>67.142466</td>\n",
              "      <td>87.166823</td>\n",
              "      <td>3246.913595</td>\n",
              "      <td>2.585565e+05</td>\n",
              "      <td>380.776699</td>\n",
              "      <td>29.589643</td>\n",
              "      <td>80.881268</td>\n",
              "      <td>118.838474</td>\n",
              "      <td>2798.340693</td>\n",
              "      <td>63.404307</td>\n",
              "      <td>851.938455</td>\n",
              "      <td>1229.566919</td>\n",
              "      <td>1.848896e+07</td>\n",
              "      <td>2.733855e+05</td>\n",
              "      <td>4.353752e+06</td>\n",
              "      <td>1.081619e+07</td>\n",
              "      <td>3.532609e+07</td>\n",
              "      <td>1.940212e+06</td>\n",
              "      <td>3.955407e+07</td>\n",
              "      <td>9.992215e+06</td>\n",
              "      <td>1.450108e+07</td>\n",
              "      <td>3.536583e+07</td>\n",
              "      <td>7.979563e+06</td>\n",
              "      <td>2.928691e+07</td>\n",
              "      <td>9.212534e+06</td>\n",
              "      <td>9.080364e+06</td>\n",
              "      <td>2.268132e+07</td>\n",
              "      <td>8.098570e+06</td>\n",
              "      <td>0.176757</td>\n",
              "      <td>0.0</td>\n",
              "      <td>4.255039e+06</td>\n",
              "      <td>8.563325e+05</td>\n",
              "      <td>2.681766e+05</td>\n",
              "      <td>3.540818e+04</td>\n",
              "      <td>21.282926</td>\n",
              "      <td>2802.004249</td>\n",
              "      <td>395.033818</td>\n",
              "      <td>872.649085</td>\n",
              "      <td>2.337799e+06</td>\n",
              "      <td>0.244078</td>\n",
              "      <td>0.176757</td>\n",
              "      <td>0.010554</td>\n",
              "      <td>0.468379</td>\n",
              "      <td>0.480181</td>\n",
              "      <td>0.223428</td>\n",
              "      <td>0.0</td>\n",
              "      <td>0.010554</td>\n",
              "      <td>0.543604</td>\n",
              "      <td>431.308583</td>\n",
              "      <td>80.881268</td>\n",
              "      <td>851.938455</td>\n",
              "      <td>67.142466</td>\n",
              "      <td>3246.913595</td>\n",
              "      <td>87.166823</td>\n",
              "      <td>2.586082e+05</td>\n",
              "      <td>13668.065695</td>\n",
              "      <td>6710.083319</td>\n",
              "      <td>32.991321</td>\n",
              "      <td>7.286969e+05</td>\n",
              "      <td>8.404515e+05</td>\n",
              "      <td>4.487356e+05</td>\n",
              "      <td>1.167019e+06</td>\n",
              "      <td>7.582087e+05</td>\n",
              "      <td>3.455426e+07</td>\n",
              "      <td>6.638199e+06</td>\n",
              "      <td>3.540421e+07</td>\n",
              "      <td>3.437331e+07</td>\n",
              "    </tr>\n",
              "    <tr>\n",
              "      <th>min</th>\n",
              "      <td>0.000000</td>\n",
              "      <td>0.000000</td>\n",
              "      <td>0.000000</td>\n",
              "      <td>-1.200000e+01</td>\n",
              "      <td>1.000000</td>\n",
              "      <td>0.000000</td>\n",
              "      <td>0.000000</td>\n",
              "      <td>0.000000e+00</td>\n",
              "      <td>0.000000</td>\n",
              "      <td>0.000000</td>\n",
              "      <td>0.000000</td>\n",
              "      <td>0.000000</td>\n",
              "      <td>0.000000</td>\n",
              "      <td>0.000000</td>\n",
              "      <td>0.000000</td>\n",
              "      <td>0.000000</td>\n",
              "      <td>-1.200000e+07</td>\n",
              "      <td>-2.000000e+06</td>\n",
              "      <td>-1.200000e+01</td>\n",
              "      <td>0.000000e+00</td>\n",
              "      <td>-1.200000e+01</td>\n",
              "      <td>-1.200000e+01</td>\n",
              "      <td>0.000000e+00</td>\n",
              "      <td>0.000000e+00</td>\n",
              "      <td>0.000000e+00</td>\n",
              "      <td>0.000000e+00</td>\n",
              "      <td>-1.000000e+00</td>\n",
              "      <td>0.000000e+00</td>\n",
              "      <td>0.000000e+00</td>\n",
              "      <td>0.000000e+00</td>\n",
              "      <td>0.000000e+00</td>\n",
              "      <td>0.000000e+00</td>\n",
              "      <td>0.000000</td>\n",
              "      <td>0.0</td>\n",
              "      <td>-1.929350e+09</td>\n",
              "      <td>-1.677705e+08</td>\n",
              "      <td>0.000000e+00</td>\n",
              "      <td>0.000000e+00</td>\n",
              "      <td>0.000000</td>\n",
              "      <td>0.000000</td>\n",
              "      <td>0.000000</td>\n",
              "      <td>0.000000</td>\n",
              "      <td>0.000000e+00</td>\n",
              "      <td>0.000000</td>\n",
              "      <td>0.000000</td>\n",
              "      <td>0.000000</td>\n",
              "      <td>0.000000</td>\n",
              "      <td>0.000000</td>\n",
              "      <td>0.000000</td>\n",
              "      <td>0.0</td>\n",
              "      <td>0.000000</td>\n",
              "      <td>0.000000</td>\n",
              "      <td>0.000000</td>\n",
              "      <td>0.000000</td>\n",
              "      <td>0.000000</td>\n",
              "      <td>1.000000</td>\n",
              "      <td>0.000000</td>\n",
              "      <td>0.000000</td>\n",
              "      <td>0.000000e+00</td>\n",
              "      <td>-1.000000</td>\n",
              "      <td>-1.000000</td>\n",
              "      <td>0.000000</td>\n",
              "      <td>-8.388531e+07</td>\n",
              "      <td>0.000000e+00</td>\n",
              "      <td>0.000000e+00</td>\n",
              "      <td>0.000000e+00</td>\n",
              "      <td>0.000000e+00</td>\n",
              "      <td>0.000000e+00</td>\n",
              "      <td>0.000000e+00</td>\n",
              "      <td>0.000000e+00</td>\n",
              "      <td>0.000000e+00</td>\n",
              "    </tr>\n",
              "    <tr>\n",
              "      <th>25%</th>\n",
              "      <td>35454.000000</td>\n",
              "      <td>53.000000</td>\n",
              "      <td>6.000000</td>\n",
              "      <td>8.700000e+01</td>\n",
              "      <td>1.000000</td>\n",
              "      <td>1.000000</td>\n",
              "      <td>0.000000</td>\n",
              "      <td>6.000000e+00</td>\n",
              "      <td>0.000000</td>\n",
              "      <td>0.000000</td>\n",
              "      <td>0.000000</td>\n",
              "      <td>0.000000</td>\n",
              "      <td>6.000000</td>\n",
              "      <td>0.000000</td>\n",
              "      <td>6.000000</td>\n",
              "      <td>0.000000</td>\n",
              "      <td>1.197319e+02</td>\n",
              "      <td>6.190867e-01</td>\n",
              "      <td>6.200000e+01</td>\n",
              "      <td>0.000000e+00</td>\n",
              "      <td>8.500000e+01</td>\n",
              "      <td>2.000000e+00</td>\n",
              "      <td>0.000000e+00</td>\n",
              "      <td>0.000000e+00</td>\n",
              "      <td>0.000000e+00</td>\n",
              "      <td>0.000000e+00</td>\n",
              "      <td>0.000000e+00</td>\n",
              "      <td>0.000000e+00</td>\n",
              "      <td>0.000000e+00</td>\n",
              "      <td>0.000000e+00</td>\n",
              "      <td>0.000000e+00</td>\n",
              "      <td>0.000000e+00</td>\n",
              "      <td>0.000000</td>\n",
              "      <td>0.0</td>\n",
              "      <td>4.000000e+01</td>\n",
              "      <td>2.000000e+01</td>\n",
              "      <td>4.824028e-01</td>\n",
              "      <td>6.077324e-02</td>\n",
              "      <td>0.000000</td>\n",
              "      <td>6.000000</td>\n",
              "      <td>2.000000</td>\n",
              "      <td>3.464102</td>\n",
              "      <td>1.200000e+01</td>\n",
              "      <td>0.000000</td>\n",
              "      <td>0.000000</td>\n",
              "      <td>0.000000</td>\n",
              "      <td>0.000000</td>\n",
              "      <td>0.000000</td>\n",
              "      <td>0.000000</td>\n",
              "      <td>0.0</td>\n",
              "      <td>0.000000</td>\n",
              "      <td>0.000000</td>\n",
              "      <td>3.000000</td>\n",
              "      <td>0.000000</td>\n",
              "      <td>6.000000</td>\n",
              "      <td>1.000000</td>\n",
              "      <td>0.000000</td>\n",
              "      <td>1.000000</td>\n",
              "      <td>6.000000e+00</td>\n",
              "      <td>-1.000000</td>\n",
              "      <td>-1.000000</td>\n",
              "      <td>0.000000</td>\n",
              "      <td>2.000000e+01</td>\n",
              "      <td>0.000000e+00</td>\n",
              "      <td>0.000000e+00</td>\n",
              "      <td>0.000000e+00</td>\n",
              "      <td>0.000000e+00</td>\n",
              "      <td>0.000000e+00</td>\n",
              "      <td>0.000000e+00</td>\n",
              "      <td>0.000000e+00</td>\n",
              "      <td>0.000000e+00</td>\n",
              "    </tr>\n",
              "    <tr>\n",
              "      <th>50%</th>\n",
              "      <td>49688.000000</td>\n",
              "      <td>80.000000</td>\n",
              "      <td>6.000000</td>\n",
              "      <td>4.852000e+04</td>\n",
              "      <td>2.000000</td>\n",
              "      <td>2.000000</td>\n",
              "      <td>56.000000</td>\n",
              "      <td>1.380000e+02</td>\n",
              "      <td>32.000000</td>\n",
              "      <td>0.000000</td>\n",
              "      <td>30.000000</td>\n",
              "      <td>0.000000</td>\n",
              "      <td>87.000000</td>\n",
              "      <td>0.000000</td>\n",
              "      <td>79.000000</td>\n",
              "      <td>0.000000</td>\n",
              "      <td>3.111790e+03</td>\n",
              "      <td>7.889413e+01</td>\n",
              "      <td>1.977895e+04</td>\n",
              "      <td>1.062092e+04</td>\n",
              "      <td>4.508800e+04</td>\n",
              "      <td>4.000000e+00</td>\n",
              "      <td>7.600000e+01</td>\n",
              "      <td>6.900000e+01</td>\n",
              "      <td>0.000000e+00</td>\n",
              "      <td>7.400000e+01</td>\n",
              "      <td>3.000000e+00</td>\n",
              "      <td>3.000000e+00</td>\n",
              "      <td>3.000000e+00</td>\n",
              "      <td>0.000000e+00</td>\n",
              "      <td>3.000000e+00</td>\n",
              "      <td>2.000000e+00</td>\n",
              "      <td>0.000000</td>\n",
              "      <td>0.0</td>\n",
              "      <td>6.400000e+01</td>\n",
              "      <td>4.000000e+01</td>\n",
              "      <td>3.994567e+01</td>\n",
              "      <td>7.588463e+00</td>\n",
              "      <td>0.000000</td>\n",
              "      <td>94.000000</td>\n",
              "      <td>59.600000</td>\n",
              "      <td>28.481573</td>\n",
              "      <td>8.112000e+02</td>\n",
              "      <td>0.000000</td>\n",
              "      <td>0.000000</td>\n",
              "      <td>0.000000</td>\n",
              "      <td>0.000000</td>\n",
              "      <td>0.000000</td>\n",
              "      <td>0.000000</td>\n",
              "      <td>0.0</td>\n",
              "      <td>0.000000</td>\n",
              "      <td>1.000000</td>\n",
              "      <td>75.500000</td>\n",
              "      <td>30.000000</td>\n",
              "      <td>79.000000</td>\n",
              "      <td>2.000000</td>\n",
              "      <td>56.000000</td>\n",
              "      <td>2.000000</td>\n",
              "      <td>1.380000e+02</td>\n",
              "      <td>256.000000</td>\n",
              "      <td>0.000000</td>\n",
              "      <td>1.000000</td>\n",
              "      <td>3.200000e+01</td>\n",
              "      <td>0.000000e+00</td>\n",
              "      <td>0.000000e+00</td>\n",
              "      <td>0.000000e+00</td>\n",
              "      <td>0.000000e+00</td>\n",
              "      <td>0.000000e+00</td>\n",
              "      <td>0.000000e+00</td>\n",
              "      <td>0.000000e+00</td>\n",
              "      <td>0.000000e+00</td>\n",
              "    </tr>\n",
              "    <tr>\n",
              "      <th>75%</th>\n",
              "      <td>55812.000000</td>\n",
              "      <td>443.000000</td>\n",
              "      <td>17.000000</td>\n",
              "      <td>1.181203e+07</td>\n",
              "      <td>6.000000</td>\n",
              "      <td>5.000000</td>\n",
              "      <td>317.000000</td>\n",
              "      <td>6.899000e+03</td>\n",
              "      <td>231.000000</td>\n",
              "      <td>25.000000</td>\n",
              "      <td>49.000000</td>\n",
              "      <td>79.203964</td>\n",
              "      <td>2052.000000</td>\n",
              "      <td>46.000000</td>\n",
              "      <td>702.750000</td>\n",
              "      <td>757.420270</td>\n",
              "      <td>1.224490e+05</td>\n",
              "      <td>2.597403e+04</td>\n",
              "      <td>1.982858e+06</td>\n",
              "      <td>3.728053e+06</td>\n",
              "      <td>9.999176e+06</td>\n",
              "      <td>5.500000e+01</td>\n",
              "      <td>1.070000e+07</td>\n",
              "      <td>2.714097e+06</td>\n",
              "      <td>3.740416e+06</td>\n",
              "      <td>1.000000e+07</td>\n",
              "      <td>4.800000e+01</td>\n",
              "      <td>1.524908e+05</td>\n",
              "      <td>3.187914e+04</td>\n",
              "      <td>5.662772e+04</td>\n",
              "      <td>1.364448e+05</td>\n",
              "      <td>4.600000e+01</td>\n",
              "      <td>0.000000</td>\n",
              "      <td>0.0</td>\n",
              "      <td>1.640000e+02</td>\n",
              "      <td>1.320000e+02</td>\n",
              "      <td>1.333333e+04</td>\n",
              "      <td>8.474576e+03</td>\n",
              "      <td>23.000000</td>\n",
              "      <td>2313.000000</td>\n",
              "      <td>384.862121</td>\n",
              "      <td>682.325913</td>\n",
              "      <td>4.655687e+05</td>\n",
              "      <td>0.000000</td>\n",
              "      <td>0.000000</td>\n",
              "      <td>0.000000</td>\n",
              "      <td>1.000000</td>\n",
              "      <td>1.000000</td>\n",
              "      <td>0.000000</td>\n",
              "      <td>0.0</td>\n",
              "      <td>0.000000</td>\n",
              "      <td>1.000000</td>\n",
              "      <td>408.011858</td>\n",
              "      <td>49.000000</td>\n",
              "      <td>702.750000</td>\n",
              "      <td>6.000000</td>\n",
              "      <td>317.000000</td>\n",
              "      <td>5.000000</td>\n",
              "      <td>6.899000e+03</td>\n",
              "      <td>8192.000000</td>\n",
              "      <td>235.000000</td>\n",
              "      <td>2.000000</td>\n",
              "      <td>3.200000e+01</td>\n",
              "      <td>6.520000e+02</td>\n",
              "      <td>0.000000e+00</td>\n",
              "      <td>6.520000e+02</td>\n",
              "      <td>5.047500e+02</td>\n",
              "      <td>9.604032e+06</td>\n",
              "      <td>0.000000e+00</td>\n",
              "      <td>9.992129e+06</td>\n",
              "      <td>7.454226e+06</td>\n",
              "    </tr>\n",
              "    <tr>\n",
              "      <th>max</th>\n",
              "      <td>65535.000000</td>\n",
              "      <td>65389.000000</td>\n",
              "      <td>17.000000</td>\n",
              "      <td>1.200000e+08</td>\n",
              "      <td>16412.000000</td>\n",
              "      <td>20326.000000</td>\n",
              "      <td>624920.000000</td>\n",
              "      <td>7.490000e+07</td>\n",
              "      <td>24820.000000</td>\n",
              "      <td>2325.000000</td>\n",
              "      <td>5177.256410</td>\n",
              "      <td>5199.042702</td>\n",
              "      <td>15928.000000</td>\n",
              "      <td>1983.000000</td>\n",
              "      <td>5800.500000</td>\n",
              "      <td>8194.660487</td>\n",
              "      <td>2.070000e+09</td>\n",
              "      <td>3.000000e+06</td>\n",
              "      <td>1.190000e+08</td>\n",
              "      <td>8.480000e+07</td>\n",
              "      <td>1.200000e+08</td>\n",
              "      <td>1.190000e+08</td>\n",
              "      <td>1.200000e+08</td>\n",
              "      <td>1.200000e+08</td>\n",
              "      <td>8.370000e+07</td>\n",
              "      <td>1.200000e+08</td>\n",
              "      <td>1.200000e+08</td>\n",
              "      <td>1.200000e+08</td>\n",
              "      <td>1.200000e+08</td>\n",
              "      <td>8.340000e+07</td>\n",
              "      <td>1.200000e+08</td>\n",
              "      <td>1.200000e+08</td>\n",
              "      <td>1.000000</td>\n",
              "      <td>0.0</td>\n",
              "      <td>5.335800e+05</td>\n",
              "      <td>6.504400e+05</td>\n",
              "      <td>3.000000e+06</td>\n",
              "      <td>2.000000e+06</td>\n",
              "      <td>1306.000000</td>\n",
              "      <td>24820.000000</td>\n",
              "      <td>2265.586207</td>\n",
              "      <td>4731.522394</td>\n",
              "      <td>2.240000e+07</td>\n",
              "      <td>1.000000</td>\n",
              "      <td>1.000000</td>\n",
              "      <td>1.000000</td>\n",
              "      <td>1.000000</td>\n",
              "      <td>1.000000</td>\n",
              "      <td>1.000000</td>\n",
              "      <td>0.0</td>\n",
              "      <td>1.000000</td>\n",
              "      <td>8.000000</td>\n",
              "      <td>2328.000000</td>\n",
              "      <td>5177.256410</td>\n",
              "      <td>5800.500000</td>\n",
              "      <td>16412.000000</td>\n",
              "      <td>624920.000000</td>\n",
              "      <td>20326.000000</td>\n",
              "      <td>7.487024e+07</td>\n",
              "      <td>65535.000000</td>\n",
              "      <td>65535.000000</td>\n",
              "      <td>6697.000000</td>\n",
              "      <td>5.600000e+01</td>\n",
              "      <td>1.060000e+08</td>\n",
              "      <td>5.040000e+07</td>\n",
              "      <td>1.060000e+08</td>\n",
              "      <td>1.060000e+08</td>\n",
              "      <td>1.200000e+08</td>\n",
              "      <td>7.660000e+07</td>\n",
              "      <td>1.200000e+08</td>\n",
              "      <td>1.200000e+08</td>\n",
              "    </tr>\n",
              "  </tbody>\n",
              "</table>\n",
              "</div>"
            ],
            "text/plain": [
              "         Source Port  Destination Port  ...      Idle Max      Idle Min\n",
              "count  278270.000000     278270.000000  ...  2.782700e+05  2.782700e+05\n",
              "mean    42404.657796       4584.284134  ...  1.829755e+07  1.689405e+07\n",
              "std     18921.321337      13260.493797  ...  3.540421e+07  3.437331e+07\n",
              "min         0.000000          0.000000  ...  0.000000e+00  0.000000e+00\n",
              "25%     35454.000000         53.000000  ...  0.000000e+00  0.000000e+00\n",
              "50%     49688.000000         80.000000  ...  0.000000e+00  0.000000e+00\n",
              "75%     55812.000000        443.000000  ...  9.992129e+06  7.454226e+06\n",
              "max     65535.000000      65389.000000  ...  1.200000e+08  1.200000e+08\n",
              "\n",
              "[8 rows x 71 columns]"
            ]
          },
          "metadata": {
            "tags": []
          },
          "execution_count": 16
        }
      ]
    },
    {
      "cell_type": "markdown",
      "metadata": {
        "id": "w0O9ZuKoXhv3"
      },
      "source": [
        "## Step 3. Encode Datasets"
      ]
    },
    {
      "cell_type": "markdown",
      "metadata": {
        "id": "qwXKhZOjXhv3"
      },
      "source": [
        "Encoding the labels, and generate numpy array. Note that the label has not been encoded as one-hot coding. We will use one-hot code later. "
      ]
    },
    {
      "cell_type": "markdown",
      "metadata": {
        "id": "jyAnny9yZ04R"
      },
      "source": [
        "### Step 3.1 Encoding train dataset"
      ]
    },
    {
      "cell_type": "code",
      "metadata": {
        "id": "SsR6_hJDZ04R"
      },
      "source": [
        "df_label = df_train['Label']\n",
        "data = df_train.drop(columns=['Label'])\n",
        "Xtrain = data.values\n",
        "y_train = encode_label(df_label.values)"
      ],
      "execution_count": 111,
      "outputs": []
    },
    {
      "cell_type": "markdown",
      "metadata": {
        "id": "2dxlCA2f07Cm"
      },
      "source": [
        " ### Step 3.2. SMOTE train data set  "
      ]
    },
    {
      "cell_type": "code",
      "metadata": {
        "id": "3YdJjevD06mY"
      },
      "source": [
        "label = encode_label(df_label.values)\r\n",
        "bb=label.reshape(label.shape[0],)    \r\n",
        "y10 = np.int32(bb)"
      ],
      "execution_count": 112,
      "outputs": []
    },
    {
      "cell_type": "code",
      "metadata": {
        "colab": {
          "base_uri": "https://localhost:8080/"
        },
        "id": "9f9tVxQG1Cts",
        "outputId": "8bf3ba08-aec9-4546-b1f2-4b0c8964ca9a"
      },
      "source": [
        "from collections import Counter\r\n",
        "\r\n",
        "sorted(Counter(y10).items())"
      ],
      "execution_count": 113,
      "outputs": [
        {
          "output_type": "execute_result",
          "data": {
            "text/plain": [
              "[(0, 278274),\n",
              " (1, 978),\n",
              " (2, 64012),\n",
              " (3, 5146),\n",
              " (4, 115062),\n",
              " (5, 2749),\n",
              " (6, 2898),\n",
              " (7, 3967),\n",
              " (8, 5),\n",
              " (9, 18),\n",
              " (10, 79402),\n",
              " (11, 2948),\n",
              " (12, 753),\n",
              " (13, 10),\n",
              " (14, 326)]"
            ]
          },
          "metadata": {
            "tags": []
          },
          "execution_count": 113
        }
      ]
    },
    {
      "cell_type": "code",
      "metadata": {
        "colab": {
          "base_uri": "https://localhost:8080/"
        },
        "id": "9-Yhl0JM1DU-",
        "outputId": "496e7db3-d10d-4314-afe3-72d96fb5b3cf"
      },
      "source": [
        "from imblearn.over_sampling import SMOTE\r\n",
        "import time\r\n",
        "time_start = time.time()\r\n",
        "\r\n",
        "guo = 5000  #Oversampling samples\r\n",
        "\r\n",
        "smo = SMOTE(sampling_strategy={1:guo,5:guo,6:guo,7:guo,8:guo,9:guo,11:guo,12:guo,13:guo,14:guo},random_state=42,k_neighbors=4)\r\n",
        "\r\n",
        "Xtrain_smo, ytrain_smo = smo.fit_sample(Xtrain, y10)   \r\n",
        "print(sorted(Counter(ytrain_smo).items()))\r\n",
        "\r\n",
        "time_end = time.time()\r\n",
        "time = time_end - time_start\r\n",
        "print(\"time:\",time)"
      ],
      "execution_count": 114,
      "outputs": [
        {
          "output_type": "stream",
          "text": [
            "/usr/local/lib/python3.6/dist-packages/sklearn/utils/deprecation.py:87: FutureWarning: Function safe_indexing is deprecated; safe_indexing is deprecated in version 0.22 and will be removed in version 0.24.\n",
            "  warnings.warn(msg, category=FutureWarning)\n",
            "/usr/local/lib/python3.6/dist-packages/sklearn/utils/deprecation.py:87: FutureWarning: Function safe_indexing is deprecated; safe_indexing is deprecated in version 0.22 and will be removed in version 0.24.\n",
            "  warnings.warn(msg, category=FutureWarning)\n",
            "/usr/local/lib/python3.6/dist-packages/sklearn/utils/deprecation.py:87: FutureWarning: Function safe_indexing is deprecated; safe_indexing is deprecated in version 0.22 and will be removed in version 0.24.\n",
            "  warnings.warn(msg, category=FutureWarning)\n",
            "/usr/local/lib/python3.6/dist-packages/sklearn/utils/deprecation.py:87: FutureWarning: Function safe_indexing is deprecated; safe_indexing is deprecated in version 0.22 and will be removed in version 0.24.\n",
            "  warnings.warn(msg, category=FutureWarning)\n",
            "/usr/local/lib/python3.6/dist-packages/sklearn/utils/deprecation.py:87: FutureWarning: Function safe_indexing is deprecated; safe_indexing is deprecated in version 0.22 and will be removed in version 0.24.\n",
            "  warnings.warn(msg, category=FutureWarning)\n",
            "/usr/local/lib/python3.6/dist-packages/sklearn/utils/deprecation.py:87: FutureWarning: Function safe_indexing is deprecated; safe_indexing is deprecated in version 0.22 and will be removed in version 0.24.\n",
            "  warnings.warn(msg, category=FutureWarning)\n",
            "/usr/local/lib/python3.6/dist-packages/sklearn/utils/deprecation.py:87: FutureWarning: Function safe_indexing is deprecated; safe_indexing is deprecated in version 0.22 and will be removed in version 0.24.\n",
            "  warnings.warn(msg, category=FutureWarning)\n",
            "/usr/local/lib/python3.6/dist-packages/sklearn/utils/deprecation.py:87: FutureWarning: Function safe_indexing is deprecated; safe_indexing is deprecated in version 0.22 and will be removed in version 0.24.\n",
            "  warnings.warn(msg, category=FutureWarning)\n",
            "/usr/local/lib/python3.6/dist-packages/sklearn/utils/deprecation.py:87: FutureWarning: Function safe_indexing is deprecated; safe_indexing is deprecated in version 0.22 and will be removed in version 0.24.\n",
            "  warnings.warn(msg, category=FutureWarning)\n"
          ],
          "name": "stderr"
        },
        {
          "output_type": "stream",
          "text": [
            "[(0, 278274), (1, 5000), (2, 64012), (3, 5146), (4, 115062), (5, 5000), (6, 5000), (7, 5000), (8, 5000), (9, 5000), (10, 79402), (11, 5000), (12, 5000), (13, 5000), (14, 5000)]\n",
            "time: 2.867403984069824\n"
          ],
          "name": "stdout"
        },
        {
          "output_type": "stream",
          "text": [
            "/usr/local/lib/python3.6/dist-packages/sklearn/utils/deprecation.py:87: FutureWarning: Function safe_indexing is deprecated; safe_indexing is deprecated in version 0.22 and will be removed in version 0.24.\n",
            "  warnings.warn(msg, category=FutureWarning)\n"
          ],
          "name": "stderr"
        }
      ]
    },
    {
      "cell_type": "code",
      "metadata": {
        "colab": {
          "base_uri": "https://localhost:8080/"
        },
        "id": "ZyYGU93j1KVn",
        "outputId": "a0aa599f-73aa-4fa2-89d2-bc4b9cf07825"
      },
      "source": [
        "sorted(Counter(ytrain_smo).items())"
      ],
      "execution_count": 115,
      "outputs": [
        {
          "output_type": "execute_result",
          "data": {
            "text/plain": [
              "[(0, 278274),\n",
              " (1, 5000),\n",
              " (2, 64012),\n",
              " (3, 5146),\n",
              " (4, 115062),\n",
              " (5, 5000),\n",
              " (6, 5000),\n",
              " (7, 5000),\n",
              " (8, 5000),\n",
              " (9, 5000),\n",
              " (10, 79402),\n",
              " (11, 5000),\n",
              " (12, 5000),\n",
              " (13, 5000),\n",
              " (14, 5000)]"
            ]
          },
          "metadata": {
            "tags": []
          },
          "execution_count": 115
        }
      ]
    },
    {
      "cell_type": "markdown",
      "metadata": {
        "id": "7XlV2AK3Z04S"
      },
      "source": [
        "### Step 3.3. Encoding test dataset"
      ]
    },
    {
      "cell_type": "code",
      "metadata": {
        "id": "GVSrGExFZ04S",
        "scrolled": true
      },
      "source": [
        "df_label = df_test['Label']\n",
        "data = df_test.drop(columns=['Label'])\n",
        "Xtest = data.values\n",
        "y_test = encode_label(df_label.values)"
      ],
      "execution_count": 116,
      "outputs": []
    },
    {
      "cell_type": "markdown",
      "metadata": {
        "id": "lO3PgredZ04T"
      },
      "source": [
        "### Step 3.4 Encoding validation dataset"
      ]
    },
    {
      "cell_type": "code",
      "metadata": {
        "id": "IQ2wDKpZZ04T"
      },
      "source": [
        "df_label = df_val['Label']\n",
        "data = df_val.drop(columns=['Label'])\n",
        "Xval = data.values\n",
        "y_val = encode_label(df_label.values)"
      ],
      "execution_count": 117,
      "outputs": []
    },
    {
      "cell_type": "markdown",
      "metadata": {
        "id": "viMki-R0Z04Q"
      },
      "source": [
        "## Step 4. Normalization or Standardization\n",
        "\n",
        "The continuous feature values are normalized into the same feature space. This is important when using features that have different measurements, and is a general requirement of many machine learning algorithms. We implement the two methods to see the impact on the final classifications. "
      ]
    },
    {
      "cell_type": "markdown",
      "metadata": {
        "id": "N8ERJidxXhv5"
      },
      "source": [
        "## Option 1. Normalization\n",
        "\n",
        "The values of the datasets are normalized using the Min-Max scaling technique, bringing them all within a range of [0,1]."
      ]
    },
    {
      "cell_type": "markdown",
      "metadata": {
        "id": "c523vLd-Z04R"
      },
      "source": [
        "### Step 4.1 Normalizing train dataset"
      ]
    },
    {
      "cell_type": "code",
      "metadata": {
        "id": "z5izaj07Z04R"
      },
      "source": [
        "from sklearn.preprocessing import MinMaxScaler"
      ],
      "execution_count": null,
      "outputs": []
    },
    {
      "cell_type": "code",
      "metadata": {
        "colab": {
          "base_uri": "https://localhost:8080/"
        },
        "id": "pbYQFmfgZ04S",
        "scrolled": true,
        "outputId": "6de856d7-25cd-4a76-d092-be7170475cff"
      },
      "source": [
        "scaler = MinMaxScaler()\n",
        "X_train = scaler.fit_transform(Xtrain)\n",
        "X_train"
      ],
      "execution_count": null,
      "outputs": [
        {
          "output_type": "execute_result",
          "data": {
            "text/plain": [
              "array([[7.66048676e-01, 5.93603125e-03, 1.00000000e+00, ...,\n",
              "        0.00000000e+00, 0.00000000e+00, 0.00000000e+00],\n",
              "       [7.29167620e-01, 1.22077764e-03, 3.52941176e-01, ...,\n",
              "        0.00000000e+00, 7.12500000e-01, 7.12500000e-01],\n",
              "       [7.86144808e-01, 6.76005616e-03, 3.52941176e-01, ...,\n",
              "        8.96864890e-03, 4.90833333e-01, 4.83333333e-01],\n",
              "       ...,\n",
              "       [2.53009842e-01, 1.22077764e-03, 3.52941176e-01, ...,\n",
              "        0.00000000e+00, 0.00000000e+00, 0.00000000e+00],\n",
              "       [7.85610742e-01, 8.08765183e-04, 1.00000000e+00, ...,\n",
              "        0.00000000e+00, 0.00000000e+00, 0.00000000e+00],\n",
              "       [8.26276036e-01, 1.22077764e-03, 3.52941176e-01, ...,\n",
              "        0.00000000e+00, 0.00000000e+00, 0.00000000e+00]])"
            ]
          },
          "metadata": {
            "tags": []
          },
          "execution_count": 15
        }
      ]
    },
    {
      "cell_type": "markdown",
      "metadata": {
        "id": "zQ5x1QxAXhv5"
      },
      "source": [
        "### Step 4.2. Normalizing validation dataset"
      ]
    },
    {
      "cell_type": "code",
      "metadata": {
        "colab": {
          "base_uri": "https://localhost:8080/"
        },
        "id": "S-_BpWSsXhv6",
        "outputId": "90111a78-a086-461d-a4c4-0979e500e1f8"
      },
      "source": [
        "X_val = scaler.fit_transform(Xval)\n",
        "X_val"
      ],
      "execution_count": null,
      "outputs": [
        {
          "output_type": "execute_result",
          "data": {
            "text/plain": [
              "array([[4.37994965e-01, 1.22344737e-03, 3.52941176e-01, ...,\n",
              "        0.00000000e+00, 0.00000000e+00, 0.00000000e+00],\n",
              "       [8.41290913e-01, 6.12488339e-02, 3.52941176e-01, ...,\n",
              "        0.00000000e+00, 0.00000000e+00, 0.00000000e+00],\n",
              "       [2.87327382e-02, 6.77483980e-03, 3.52941176e-01, ...,\n",
              "        5.68691207e-05, 8.33333333e-02, 8.32947583e-02],\n",
              "       ...,\n",
              "       [9.30510414e-01, 8.10533882e-04, 1.00000000e+00, ...,\n",
              "        0.00000000e+00, 0.00000000e+00, 0.00000000e+00],\n",
              "       [6.50492103e-01, 8.68494701e-02, 3.52941176e-01, ...,\n",
              "        0.00000000e+00, 0.00000000e+00, 0.00000000e+00],\n",
              "       [4.24353399e-01, 1.22344737e-03, 3.52941176e-01, ...,\n",
              "        0.00000000e+00, 0.00000000e+00, 0.00000000e+00]])"
            ]
          },
          "metadata": {
            "tags": []
          },
          "execution_count": 16
        }
      ]
    },
    {
      "cell_type": "markdown",
      "metadata": {
        "id": "TItkmTF1Z04S"
      },
      "source": [
        "### Step 4.3. Normalizing test dataset"
      ]
    },
    {
      "cell_type": "code",
      "metadata": {
        "colab": {
          "base_uri": "https://localhost:8080/"
        },
        "id": "lXmp2w2bZ04T",
        "outputId": "e8c141dc-efba-4c1c-d4ec-7d451e0de593"
      },
      "source": [
        "X_test = scaler.fit_transform(Xtest)\n",
        "X_test"
      ],
      "execution_count": null,
      "outputs": [
        {
          "output_type": "execute_result",
          "data": {
            "text/plain": [
              "array([[5.45487838e-01, 9.66383862e-01, 3.52941176e-01, ...,\n",
              "        0.00000000e+00, 0.00000000e+00, 0.00000000e+00],\n",
              "       [9.17142247e-01, 1.22074038e-03, 3.52941176e-01, ...,\n",
              "        0.00000000e+00, 0.00000000e+00, 0.00000000e+00],\n",
              "       [7.92001099e-01, 7.97448653e-02, 3.52941176e-01, ...,\n",
              "        0.00000000e+00, 0.00000000e+00, 0.00000000e+00],\n",
              "       ...,\n",
              "       [9.04507584e-01, 1.22074038e-03, 3.52941176e-01, ...,\n",
              "        0.00000000e+00, 8.33370661e-01, 8.33370661e-01],\n",
              "       [9.22345653e-01, 8.08740501e-04, 1.00000000e+00, ...,\n",
              "        0.00000000e+00, 0.00000000e+00, 0.00000000e+00],\n",
              "       [5.45030061e-01, 6.75984985e-03, 3.52941176e-01, ...,\n",
              "        5.01804492e-03, 4.88761059e-01, 4.84412289e-01]])"
            ]
          },
          "metadata": {
            "tags": []
          },
          "execution_count": 17
        }
      ]
    },
    {
      "cell_type": "markdown",
      "metadata": {
        "id": "Ge2XVkhTXhv6"
      },
      "source": [
        "## Option 2. Standardization"
      ]
    },
    {
      "cell_type": "code",
      "metadata": {
        "id": "Fu459dh3Xhv7"
      },
      "source": [
        "from sklearn.preprocessing import StandardScaler"
      ],
      "execution_count": 118,
      "outputs": []
    },
    {
      "cell_type": "code",
      "metadata": {
        "colab": {
          "base_uri": "https://localhost:8080/"
        },
        "id": "QOJud1h5Xhv7",
        "outputId": "b7375509-9f1b-423a-d128-e71a1b86dfb0"
      },
      "source": [
        "scaler = StandardScaler()\n",
        "\n",
        "X_train = scaler.fit_transform(Xtrain_smo)\n",
        "X_val = scaler.fit_transform(Xval)\n",
        "X_test = scaler.fit_transform(Xtest)\n",
        "\n",
        "X_train"
      ],
      "execution_count": 119,
      "outputs": [
        {
          "output_type": "execute_result",
          "data": {
            "text/plain": [
              "array([[ 0.93557229,  0.82244604,  0.41557473, ...,  6.21513618,\n",
              "         1.67674695, -0.20936771],\n",
              "       [-1.01166095, -1.29871243,  0.76946389, ..., -0.17047892,\n",
              "        -0.50041048, -0.46384333],\n",
              "       [ 0.79133279,  0.66532319,  0.82270645, ..., -0.17047892,\n",
              "        -0.50041048, -0.46384333],\n",
              "       ...,\n",
              "       [-1.06186019, -1.45583528,  0.65195724, ..., -0.17047892,\n",
              "        -0.50041048, -0.46384333],\n",
              "       [-1.19808882, -1.5130887 ,  0.59009003, ..., -0.17047892,\n",
              "        -0.50041048, -0.46384333],\n",
              "       [-1.15878669, -1.60682354,  0.67217655, ..., -0.17047892,\n",
              "        -0.50041048, -0.46384333]])"
            ]
          },
          "metadata": {
            "tags": []
          },
          "execution_count": 119
        }
      ]
    },
    {
      "cell_type": "markdown",
      "metadata": {
        "id": "reoNDQZhZ04T"
      },
      "source": [
        "## Step 5 One-hot encoding for labels"
      ]
    },
    {
      "cell_type": "markdown",
      "metadata": {
        "id": "So8gvIF8Z04T"
      },
      "source": [
        "y_train, y_test and y_val have to be one-hot-encoded. That means they must have dimension (number_of_samples, 15), where 15 denotes number of classes."
      ]
    },
    {
      "cell_type": "code",
      "metadata": {
        "id": "Yc97u4oZZ04U"
      },
      "source": [
        "from tensorflow.keras.utils import to_categorical"
      ],
      "execution_count": 120,
      "outputs": []
    },
    {
      "cell_type": "markdown",
      "metadata": {
        "id": "rfeM_ZzsXhv8"
      },
      "source": [
        "Save the labels for AdaBoostClassifier"
      ]
    },
    {
      "cell_type": "code",
      "metadata": {
        "id": "8N0GfC_zXhv8"
      },
      "source": [
        "y_train_ada = y_train\n",
        "y_test_ada = y_test\n",
        "y_val_ada = y_val"
      ],
      "execution_count": 121,
      "outputs": []
    },
    {
      "cell_type": "code",
      "metadata": {
        "id": "MQVqV19KZ04U"
      },
      "source": [
        "y_train = to_categorical(ytrain_smo, 15)\n",
        "y_test = to_categorical(y_test, 15)\n",
        "y_val = to_categorical(y_val, 15)"
      ],
      "execution_count": 122,
      "outputs": []
    },
    {
      "cell_type": "markdown",
      "metadata": {
        "id": "Yd9_XX_5Xhv8"
      },
      "source": [
        "## Step 6. Define the metrics"
      ]
    },
    {
      "cell_type": "code",
      "metadata": {
        "id": "dqOSi1KcXhv8"
      },
      "source": [
        "import tensorflow as tf\n",
        "from sklearn.ensemble import RandomForestClassifier\n",
        "\n",
        "#importing confusion matrix\n",
        "from sklearn.metrics import confusion_matrix\n",
        "from sklearn.metrics import classification_report\n",
        "\n",
        "from sklearn import metrics\n",
        "from sklearn.metrics import accuracy_score\n",
        "\n",
        "#importing accuracy_score, precision_score, recall_score, f1_score\n",
        "from sklearn.metrics import accuracy_score, precision_score, recall_score, f1_score\n",
        "from sklearn.metrics import mean_squared_error,mean_absolute_error"
      ],
      "execution_count": 123,
      "outputs": []
    },
    {
      "cell_type": "markdown",
      "metadata": {
        "id": "VxRNywIXXhwC"
      },
      "source": [
        "Get the attacks' names"
      ]
    },
    {
      "cell_type": "code",
      "metadata": {
        "id": "q9AlIiTKXhwC"
      },
      "source": [
        "labels_d = make_value2index(df_test['Label'])"
      ],
      "execution_count": 124,
      "outputs": []
    },
    {
      "cell_type": "code",
      "metadata": {
        "colab": {
          "base_uri": "https://localhost:8080/"
        },
        "id": "l1vqAhE1XhwC",
        "outputId": "ff1858ea-7282-4156-8b55-95ff4aa25fb9"
      },
      "source": [
        "print(labels_d)"
      ],
      "execution_count": 125,
      "outputs": [
        {
          "output_type": "stream",
          "text": [
            "{'BENIGN': 139134, 'Bot': 139623, 'DDoS': 171629, 'DoS GoldenEye': 174202, 'DoS Hulk': 231733, 'DoS Slowhttptest': 233107, 'DoS slowloris': 234556, 'FTP-Patator': 236539, 'Heartbleed': 236542, 'Infiltration': 236551, 'PortScan': 276252, 'SSH-Patator': 277726, 'Web Attack � Brute Force': 278102, 'Web Attack � Sql Injection': 278107, 'Web Attack � XSS': 278270}\n"
          ],
          "name": "stdout"
        }
      ]
    },
    {
      "cell_type": "markdown",
      "metadata": {
        "id": "erUa8gpIZ04U"
      },
      "source": [
        "# CNN1D Model "
      ]
    },
    {
      "cell_type": "code",
      "metadata": {
        "id": "yTmLBZDpZ04U"
      },
      "source": [
        "from tensorflow.keras.models import Sequential\n",
        "from tensorflow.keras.layers import Conv1D, BatchNormalization, Flatten, Dense, Activation,Dropout,MaxPooling1D\n",
        "from tensorflow.keras.constraints import max_norm"
      ],
      "execution_count": 126,
      "outputs": []
    },
    {
      "cell_type": "code",
      "metadata": {
        "colab": {
          "base_uri": "https://localhost:8080/"
        },
        "id": "xLXy3meMZ04U",
        "outputId": "e4c86691-cf0b-406d-94b0-728f4a20fdc0"
      },
      "source": [
        "#hyper-params\n",
        "batch_size = 7000 # increasing batch size with more gpu added\n",
        "input_dim = X_train.shape[1]\n",
        "num_class = 15                   # 15 intrusion classes, including benign traffic class\n",
        "num_epochs = 30\n",
        "learning_rates = 1e-4\n",
        "regularizations = 1e-3\n",
        "optim = tf.keras.optimizers.Adam(lr=learning_rates, beta_1=0.9, beta_2=0.999, epsilon=1e-8)\n",
        "\n",
        "print(input_dim)\n",
        "print(num_class)"
      ],
      "execution_count": 127,
      "outputs": [
        {
          "output_type": "stream",
          "text": [
            "73\n",
            "15\n"
          ],
          "name": "stdout"
        }
      ]
    },
    {
      "cell_type": "code",
      "metadata": {
        "colab": {
          "base_uri": "https://localhost:8080/"
        },
        "id": "mNRbsq6CZ04V",
        "outputId": "4d1ab05f-d96f-43b6-9506-1ccd69e97ba9"
      },
      "source": [
        "#X_train_r = np.reshape(X_train, (X_train.shape[0], X_train.shape[1], 1))\n",
        "X_train_r = np.zeros((len(X_train), input_dim, 1))\n",
        "X_train_r[:, :, 0] = X_train[:, :input_dim]\n",
        "print(X_train_r.shape)"
      ],
      "execution_count": 128,
      "outputs": [
        {
          "output_type": "stream",
          "text": [
            "(591896, 73, 1)\n"
          ],
          "name": "stdout"
        }
      ]
    },
    {
      "cell_type": "code",
      "metadata": {
        "colab": {
          "base_uri": "https://localhost:8080/"
        },
        "id": "UjmIpn1HZ04W",
        "outputId": "e85e4be5-d876-496e-ccc9-bb070dad40b9"
      },
      "source": [
        "X_test_r = np.zeros((len(X_test), input_dim, 1))\n",
        "X_test_r[:, :, 0] = X_test[:, :input_dim]\n",
        "print(X_test_r.shape)"
      ],
      "execution_count": 129,
      "outputs": [
        {
          "output_type": "stream",
          "text": [
            "(278271, 73, 1)\n"
          ],
          "name": "stdout"
        }
      ]
    },
    {
      "cell_type": "code",
      "metadata": {
        "colab": {
          "base_uri": "https://localhost:8080/"
        },
        "id": "m_KlI1VeZ04W",
        "outputId": "f8ca3f73-b9da-465b-9c15-22c449389e36"
      },
      "source": [
        "X_val_r = np.zeros((len(X_val), input_dim, 1))\n",
        "X_val_r[:, :, 0] = X_val[:, :input_dim]\n",
        "print(X_val_r.shape)"
      ],
      "execution_count": 130,
      "outputs": [
        {
          "output_type": "stream",
          "text": [
            "(278271, 73, 1)\n"
          ],
          "name": "stdout"
        }
      ]
    },
    {
      "cell_type": "code",
      "metadata": {
        "colab": {
          "base_uri": "https://localhost:8080/"
        },
        "id": "jpTZU5OPZ04W",
        "outputId": "7b93c181-80a4-4759-e3f8-884578dcfba9"
      },
      "source": [
        "model = Sequential()\n",
        "\n",
        "# input layer\n",
        "model.add(Conv1D(filters=32, kernel_size=23, activation='relu', padding='same', kernel_initializer='he_uniform', input_shape=(73,1)))\n",
        "model.add(Conv1D(filters=32, kernel_size=19, activation='relu', padding='same', kernel_initializer='he_uniform'))\n",
        "model.add(MaxPooling1D(pool_size=2,strides=2))\n",
        "model.add(Dropout(0.3))\n",
        "model.add(BatchNormalization(axis=1))\n",
        "\n",
        "model.add(Conv1D(filters=64, kernel_size=23, activation='relu', padding='same', kernel_initializer='he_uniform'))\n",
        "model.add(Conv1D(filters=64, kernel_size=19, activation='relu', padding='same', kernel_initializer='he_uniform'))\n",
        "model.add(MaxPooling1D(pool_size=2,strides=2))\n",
        "model.add(Dropout(0.3))\n",
        "model.add(BatchNormalization(axis=1)) \n",
        "\n",
        "model.add(Flatten())\n",
        "model.add(Dense(32, activation='relu'))\n",
        "model.add(Dropout(0.3))\n",
        "model.add(Dense(num_class))\n",
        "model.add(Activation('softmax'))\n",
        "\n",
        "model.summary()"
      ],
      "execution_count": 138,
      "outputs": [
        {
          "output_type": "stream",
          "text": [
            "Model: \"sequential_30\"\n",
            "_________________________________________________________________\n",
            "Layer (type)                 Output Shape              Param #   \n",
            "=================================================================\n",
            "conv1d_120 (Conv1D)          (None, 73, 32)            768       \n",
            "_________________________________________________________________\n",
            "conv1d_121 (Conv1D)          (None, 73, 32)            19488     \n",
            "_________________________________________________________________\n",
            "max_pooling1d_60 (MaxPooling (None, 36, 32)            0         \n",
            "_________________________________________________________________\n",
            "dropout_80 (Dropout)         (None, 36, 32)            0         \n",
            "_________________________________________________________________\n",
            "batch_normalization_60 (Batc (None, 36, 32)            144       \n",
            "_________________________________________________________________\n",
            "conv1d_122 (Conv1D)          (None, 36, 64)            47168     \n",
            "_________________________________________________________________\n",
            "conv1d_123 (Conv1D)          (None, 36, 64)            77888     \n",
            "_________________________________________________________________\n",
            "max_pooling1d_61 (MaxPooling (None, 18, 64)            0         \n",
            "_________________________________________________________________\n",
            "dropout_81 (Dropout)         (None, 18, 64)            0         \n",
            "_________________________________________________________________\n",
            "batch_normalization_61 (Batc (None, 18, 64)            72        \n",
            "_________________________________________________________________\n",
            "flatten_30 (Flatten)         (None, 1152)              0         \n",
            "_________________________________________________________________\n",
            "dense_60 (Dense)             (None, 32)                36896     \n",
            "_________________________________________________________________\n",
            "dropout_82 (Dropout)         (None, 32)                0         \n",
            "_________________________________________________________________\n",
            "dense_61 (Dense)             (None, 15)                495       \n",
            "_________________________________________________________________\n",
            "activation_30 (Activation)   (None, 15)                0         \n",
            "=================================================================\n",
            "Total params: 182,919\n",
            "Trainable params: 182,811\n",
            "Non-trainable params: 108\n",
            "_________________________________________________________________\n"
          ],
          "name": "stdout"
        }
      ]
    },
    {
      "cell_type": "code",
      "metadata": {
        "colab": {
          "base_uri": "https://localhost:8080/"
        },
        "id": "ldBRHXx_50pg",
        "outputId": "d6ca7b84-5529-474c-c5d2-dfd1bc32e160"
      },
      "source": [
        "from keras.optimizers import Nadam, Adam, RMSprop, SGD\n",
        "from keras.callbacks import LearningRateScheduler, ModelCheckpoint\n",
        "import keras\n",
        "import time\n",
        "time_start = time.time()\n",
        "\n",
        "reduce_lr = keras.callbacks.ReduceLROnPlateau(moniter='val_loss',\n",
        "                                              factor=0.1,\n",
        "                                              patience=10)\n",
        "#optimizer = SGD(lr=0.01, decay=1e-6, momentum=0.9, nesterov=True)\n",
        "#optimizer = RMSprop(lr=0.001, rho=0.9, epsilon=1e-08, decay=0.004)\n",
        "# optimizer =  Adam(lr=0.001, beta_1=0.9, beta_2=0.999, epsilon=1e-08, decay=0.0)\n",
        "optimizer = Nadam(lr=0.001, beta_1=0.9, beta_2=0.999, epsilon=1e-08, schedule_decay=0.0001)\n",
        "model.compile(loss = \"categorical_crossentropy\",optimizer = optimizer, metrics = [\"accuracy\"])\n",
        "\n",
        "history = model.fit(X_train_r, y_train, \n",
        "                    epochs=10, \n",
        "                    batch_size=batch_size, \n",
        "                    verbose=2,\n",
        "                    validation_data=(X_val_r, y_val),\n",
        "                    callbacks=[reduce_lr])\n",
        "time_end = time.time()\n",
        "train_time = time_end - time_start\n",
        "print(\"train_time:\",train_time)"
      ],
      "execution_count": 139,
      "outputs": [
        {
          "output_type": "stream",
          "text": [
            "Epoch 1/10\n",
            "85/85 - 15s - loss: 0.5806 - accuracy: 0.8390 - val_loss: 0.2371 - val_accuracy: 0.9737\n",
            "Epoch 2/10\n",
            "85/85 - 14s - loss: 0.1020 - accuracy: 0.9678 - val_loss: 0.0937 - val_accuracy: 0.9762\n",
            "Epoch 3/10\n",
            "85/85 - 14s - loss: 0.0635 - accuracy: 0.9795 - val_loss: 0.0591 - val_accuracy: 0.9749\n",
            "Epoch 4/10\n",
            "85/85 - 13s - loss: 0.0459 - accuracy: 0.9849 - val_loss: 0.0424 - val_accuracy: 0.9874\n",
            "Epoch 5/10\n",
            "85/85 - 13s - loss: 0.0383 - accuracy: 0.9875 - val_loss: 0.0410 - val_accuracy: 0.9884\n",
            "Epoch 6/10\n",
            "85/85 - 13s - loss: 0.0328 - accuracy: 0.9890 - val_loss: 0.0494 - val_accuracy: 0.9867\n",
            "Epoch 7/10\n",
            "85/85 - 13s - loss: 0.3878 - accuracy: 0.9078 - val_loss: 0.0625 - val_accuracy: 0.9744\n",
            "Epoch 8/10\n",
            "85/85 - 13s - loss: 0.0448 - accuracy: 0.9855 - val_loss: 0.0535 - val_accuracy: 0.9821\n",
            "Epoch 9/10\n",
            "85/85 - 13s - loss: 0.0340 - accuracy: 0.9888 - val_loss: 0.0529 - val_accuracy: 0.9834\n",
            "Epoch 10/10\n",
            "85/85 - 13s - loss: 0.0295 - accuracy: 0.9900 - val_loss: 0.0491 - val_accuracy: 0.9857\n",
            "train_time: 134.6045801639557\n"
          ],
          "name": "stdout"
        }
      ]
    },
    {
      "cell_type": "markdown",
      "metadata": {
        "id": "uT635dAfpOVN"
      },
      "source": [
        "## Get the metrics"
      ]
    },
    {
      "cell_type": "code",
      "metadata": {
        "colab": {
          "base_uri": "https://localhost:8080/"
        },
        "id": "VSo0TpT5Z04X",
        "outputId": "331dd44c-998f-4118-9006-aeb50f2d7483"
      },
      "source": [
        "# evaluate model\n",
        "accuracy = model.evaluate(X_test_r, y_test, batch_size=batch_size, verbose=1)"
      ],
      "execution_count": 140,
      "outputs": [
        {
          "output_type": "stream",
          "text": [
            "40/40 [==============================] - 2s 37ms/step - loss: 0.1467 - accuracy: 0.9751\n"
          ],
          "name": "stdout"
        }
      ]
    },
    {
      "cell_type": "code",
      "metadata": {
        "id": "kqGNmOrhH1CL"
      },
      "source": [
        "y_pred=model.predict(X_test_r)"
      ],
      "execution_count": 141,
      "outputs": []
    },
    {
      "cell_type": "code",
      "metadata": {
        "colab": {
          "base_uri": "https://localhost:8080/"
        },
        "id": "ltyd2KVLIBCK",
        "outputId": "6c34f433-52f5-4c78-b254-c1ed3c93e72f"
      },
      "source": [
        "display_metrics(y_test_ada, np.argmax(y_pred, axis = 1), labels_d)"
      ],
      "execution_count": 142,
      "outputs": [
        {
          "output_type": "stream",
          "text": [
            "\n",
            "Accuracy: 0.98\n",
            "\n",
            "Micro Precision: 0.98\n",
            "Micro Recall: 0.98\n",
            "Micro F1-score: 0.98\n",
            "\n",
            "Macro Precision: 0.61\n",
            "Macro Recall: 0.65\n",
            "Macro F1-score: 0.60\n",
            "\n",
            "Weighted Precision: 0.98\n",
            "Weighted Recall: 0.98\n",
            "Weighted F1-score: 0.97\n",
            "\n",
            "Classification Report\n",
            "\n",
            "                            precision    recall  f1-score   support\n",
            "\n",
            "                    BENIGN       0.99      0.99      0.99    139135\n",
            "                       Bot       0.00      0.00      0.00       489\n",
            "                      DDoS       0.94      1.00      0.97     32006\n",
            "             DoS GoldenEye       0.97      0.84      0.90      2573\n",
            "                  DoS Hulk       0.99      0.96      0.98     57531\n",
            "          DoS Slowhttptest       0.61      0.77      0.68      1374\n",
            "             DoS slowloris       0.74      0.50      0.59      1449\n",
            "               FTP-Patator       0.95      0.97      0.96      1983\n",
            "                Heartbleed       0.50      1.00      0.67         3\n",
            "              Infiltration       0.00      0.00      0.00         9\n",
            "                  PortScan       1.00      1.00      1.00     39701\n",
            "               SSH-Patator       0.99      0.50      0.66      1474\n",
            "  Web Attack � Brute Force       0.50      0.82      0.62       376\n",
            "Web Attack � Sql Injection       0.01      0.40      0.02         5\n",
            "          Web Attack � XSS       0.00      0.00      0.00       163\n",
            "\n",
            "                  accuracy                           0.98    278271\n",
            "                 macro avg       0.61      0.65      0.60    278271\n",
            "              weighted avg       0.98      0.98      0.97    278271\n",
            "\n"
          ],
          "name": "stdout"
        }
      ]
    },
    {
      "cell_type": "code",
      "metadata": {
        "id": "6PYCLYRqRnSo"
      },
      "source": [
        ""
      ],
      "execution_count": null,
      "outputs": []
    },
    {
      "cell_type": "markdown",
      "metadata": {
        "id": "kbhp6oW_Z04X"
      },
      "source": [
        ""
      ]
    }
  ]
}