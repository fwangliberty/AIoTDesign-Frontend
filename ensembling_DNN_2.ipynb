{
  "nbformat": 4,
  "nbformat_minor": 0,
  "metadata": {
    "accelerator": "GPU",
    "colab": {
      "name": "ensembling_DNN_2.ipynb",
      "provenance": [],
      "collapsed_sections": [
        "9rNnA7pQvHib"
      ],
      "include_colab_link": true
    },
    "kernelspec": {
      "display_name": "Python 3",
      "language": "python",
      "name": "python3"
    },
    "language_info": {
      "codemirror_mode": {
        "name": "ipython",
        "version": 3
      },
      "file_extension": ".py",
      "mimetype": "text/x-python",
      "name": "python",
      "nbconvert_exporter": "python",
      "pygments_lexer": "ipython3",
      "version": "3.7.4"
    }
  },
  "cells": [
    {
      "cell_type": "markdown",
      "metadata": {
        "id": "view-in-github",
        "colab_type": "text"
      },
      "source": [
        "<a href=\"https://colab.research.google.com/github/fwangliberty/AIoTDesign-Frontend/blob/master/ensembling_DNN_2.ipynb\" target=\"_parent\"><img src=\"https://colab.research.google.com/assets/colab-badge.svg\" alt=\"Open In Colab\"/></a>"
      ]
    },
    {
      "cell_type": "markdown",
      "metadata": {
        "id": "5CMLJRSjvHhy"
      },
      "source": [
        "# Ensembling DNN, Random Forest and DecisionTree based on Normalization and Standardization Datasets\n",
        "\n",
        "\n",
        "We will use the same DNN model, Random Forest and Decision Tree to classify network anormalies in CICIDS2017 dataset. More specifically, the dataset has been augmented by adding 7 new connection based features. We will use normalized and standardized datasets to train the DNN model. Random Foresty model is not sensitive to the normalization method. Then each model will be evaluated using the test set with the corresponding normalized dataset. After that, we put all two models in an ensemble and evaluate it. It is expected that the ensemble will perform better on a test set that any single model in the ensemble separately.\n",
        "\n",
        "There are many different types of ensembles; stacking is one of them. It is one of the more general types and can theoretically represent any other ensemble technique. Stacking involves training a learning algorithm to combine the predictions of several other learning algorithms. For the sake of this example, I will use one of the simplest forms of Stacking, which involves taking an average of outputs of models in the ensemble. Since averaging doesn't take any parameters, there is no need to train this ensemble (only its models)."
      ]
    },
    {
      "cell_type": "markdown",
      "metadata": {
        "id": "_Oxcy4_5vHh1"
      },
      "source": [
        "## Preparing the data\n",
        "First, import dependencies."
      ]
    },
    {
      "cell_type": "code",
      "metadata": {
        "id": "4pwXf8xYvHh1",
        "scrolled": true
      },
      "source": [
        "from keras.callbacks import History\n",
        "from keras.callbacks import ModelCheckpoint, TensorBoard\n",
        "from keras.engine import training\n",
        "from keras.layers import Conv2D, MaxPooling2D, GlobalAveragePooling2D, Dropout, Activation, Average\n",
        "from keras.losses import categorical_crossentropy\n",
        "from keras.models import Model, Input\n",
        "from keras.optimizers import Adam\n",
        "from keras.utils import to_categorical\n",
        "from tensorflow.python.framework.ops import Tensor\n",
        "from typing import Tuple, List\n",
        "import glob\n",
        "import numpy as np\n",
        "import os\n",
        "from os.path import join\n",
        "import pandas as pd\n",
        "import numpy as np\n",
        "import time\n",
        "import seaborn as sns\n",
        "import matplotlib.pyplot as plt\n"
      ],
      "execution_count": null,
      "outputs": []
    },
    {
      "cell_type": "markdown",
      "metadata": {
        "id": "TVDMzcMtvHh2"
      },
      "source": [
        "### Define Metrics"
      ]
    },
    {
      "cell_type": "code",
      "metadata": {
        "id": "Oj2l_sYhvHh3"
      },
      "source": [
        "def display_metrics(y_test, y_pred, label_names):\n",
        "  print('\\nAccuracy: {:.2f}\\n'.format(accuracy_score(y_test, y_pred)))\n",
        "\n",
        "  print('Micro Precision: {:.2f}'.format(precision_score(y_test, y_pred, average='micro')))\n",
        "  print('Micro Recall: {:.2f}'.format(recall_score(y_test, y_pred, average='micro')))\n",
        "  print('Micro F1-score: {:.2f}\\n'.format(f1_score(y_test, y_pred, average='micro')))\n",
        "\n",
        "  print('Macro Precision: {:.2f}'.format(precision_score(y_test, y_pred, average='macro')))\n",
        "  print('Macro Recall: {:.2f}'.format(recall_score(y_test, y_pred, average='macro')))\n",
        "  print('Macro F1-score: {:.2f}\\n'.format(f1_score(y_test, y_pred, average='macro')))\n",
        "\n",
        "  print('Weighted Precision: {:.2f}'.format(precision_score(y_test, y_pred, average='weighted')))\n",
        "  print('Weighted Recall: {:.2f}'.format(recall_score(y_test, y_pred, average='weighted')))\n",
        "  print('Weighted F1-score: {:.2f}'.format(f1_score(y_test, y_pred, average='weighted')))\n",
        "\n",
        "  print('\\nClassification Report\\n')\n",
        "  print(classification_report(y_test, y_pred, target_names=label_names))"
      ],
      "execution_count": null,
      "outputs": []
    },
    {
      "cell_type": "code",
      "metadata": {
        "id": "G_woGqh6vHh3"
      },
      "source": [
        "def make_value2index(attacks):\n",
        "    #make dictionary\n",
        "    attacks = sorted(attacks)\n",
        "    d = {}\n",
        "    counter=0\n",
        "    for attack in attacks:\n",
        "        d[attack] = counter\n",
        "        counter+=1\n",
        "    return d"
      ],
      "execution_count": null,
      "outputs": []
    },
    {
      "cell_type": "code",
      "metadata": {
        "id": "-VQTZkE2vHh4"
      },
      "source": [
        "# chganges label from string to integer/index\n",
        "def encode_label(Y_str):\n",
        "    labels_d = make_value2index(np.unique(Y_str))\n",
        "    Y = [labels_d[y_str] for y_str  in Y_str]\n",
        "    Y = np.array(Y)\n",
        "    return np.array(Y)"
      ],
      "execution_count": null,
      "outputs": []
    },
    {
      "cell_type": "markdown",
      "metadata": {
        "id": "9PTf4KEcvHh4"
      },
      "source": [
        "# 1. Locating CSV files"
      ]
    },
    {
      "cell_type": "code",
      "metadata": {
        "id": "i3pqhY7KvHh4"
      },
      "source": [
        "# All columns\n",
        "col_names = np.array(['dst sport count', 'src dport count', 'dst src count', 'dport count', 'sport count', 'dst host count','src host count','Source Port', 'Destination Port',\n",
        "                      'Protocol', 'Flow Duration', 'Total Fwd Packets', 'Total Backward Packets', 'Total Length of Fwd Packets',\n",
        "                      'Total Length of Bwd Packets', 'Fwd Packet Length Max', 'Fwd Packet Length Min', 'Fwd Packet Length Mean',\n",
        "                      'Fwd Packet Length Std', 'Bwd Packet Length Max', 'Bwd Packet Length Min', 'Bwd Packet Length Mean', 'Bwd Packet Length Std',\n",
        "                      'Flow Bytes/s', 'Flow Packets/s', 'Flow IAT Mean', 'Flow IAT Std', 'Flow IAT Max', 'Flow IAT Min', 'Fwd IAT Total',\n",
        "                      'Fwd IAT Mean', 'Fwd IAT Std', 'Fwd IAT Max', 'Fwd IAT Min', 'Bwd IAT Total', 'Bwd IAT Mean', 'Bwd IAT Std', 'Bwd IAT Max',\n",
        "                      'Bwd IAT Min', 'Fwd PSH Flags', 'Fwd URG Flags', 'Fwd Header Length', 'Bwd Header Length',\n",
        "                      'Fwd Packets/s', 'Bwd Packets/s', 'Min Packet Length', 'Max Packet Length', 'Packet Length Mean', 'Packet Length Std',\n",
        "                      'Packet Length Variance', 'FIN Flag Count', 'SYN Flag Count', 'RST Flag Count', 'PSH Flag Count', 'ACK Flag Count',\n",
        "                      'URG Flag Count', 'CWE Flag Count', 'ECE Flag Count', 'Down/Up Ratio', 'Average Packet Size', 'Avg Fwd Segment Size',\n",
        "                      'Avg Bwd Segment Size','Subflow Fwd Packets', 'Subflow Fwd Bytes',\n",
        "                      'Subflow Bwd Packets', 'Subflow Bwd Bytes', 'Init_Win_bytes_forward', 'Init_Win_bytes_backward',\n",
        "                      'act_data_pkt_fwd', 'min_seg_size_forward', 'Active Mean', 'Active Std', 'Active Max', 'Active Min', 'Idle Mean',\n",
        "                      'Idle Std', 'Idle Max', 'Idle Min', 'Label'])"
      ],
      "execution_count": null,
      "outputs": []
    },
    {
      "cell_type": "markdown",
      "metadata": {
        "id": "VEsdHohBvHh5"
      },
      "source": [
        "### Option 1. Connect to Google Drive "
      ]
    },
    {
      "cell_type": "code",
      "metadata": {
        "colab": {
          "base_uri": "https://localhost:8080/"
        },
        "id": "1EodQrDevHh6",
        "outputId": "026ec93f-63e2-48ea-82f4-e42036d3464e"
      },
      "source": [
        "from google.colab import drive\n",
        "drive.mount('/content/drive')"
      ],
      "execution_count": null,
      "outputs": [
        {
          "output_type": "stream",
          "text": [
            "Mounted at /content/drive\n"
          ],
          "name": "stdout"
        }
      ]
    },
    {
      "cell_type": "code",
      "metadata": {
        "id": "u9NQjXOxvHh6"
      },
      "source": [
        "train_path='/content/drive/My Drive/CICIDS2017/train_set_ext78_2.csv'"
      ],
      "execution_count": null,
      "outputs": []
    },
    {
      "cell_type": "code",
      "metadata": {
        "id": "9t6ZKW00vHh6"
      },
      "source": [
        "validation_path = '/content/drive/My Drive/CICIDS2017/crossval_set_ext78_2.csv'\n",
        "test_path = '/content/drive/My Drive/CICIDS2017/test_set_ext78_2.csv'"
      ],
      "execution_count": null,
      "outputs": []
    },
    {
      "cell_type": "markdown",
      "metadata": {
        "id": "Mpqmwng8vHh6"
      },
      "source": [
        "### Option 2. Connect to Local Machine"
      ]
    },
    {
      "cell_type": "code",
      "metadata": {
        "id": "c2KQvZVOvHh7"
      },
      "source": [
        "train_path = '../data/cicids2017clean/train_set_ext78_2.csv'\n",
        "validation_path = '../data/cicids2017clean/crossval_set_ext78_2.csv'\n",
        "test_path = '../data/cicids2017clean/test_set_ext78_2.csv'"
      ],
      "execution_count": null,
      "outputs": []
    },
    {
      "cell_type": "markdown",
      "metadata": {
        "id": "4VfURqRcvHh7"
      },
      "source": [
        "# 2. Loading CSV Datasets"
      ]
    },
    {
      "cell_type": "code",
      "metadata": {
        "id": "cH0K1PybvHh7"
      },
      "source": [
        "# load three csv files generated by mlp4nids (Multi-layer perceptron for network intrusion detection )\n",
        "# first load the train set\n",
        "df_train = pd.read_csv(train_path,names=col_names, skiprows=1)  "
      ],
      "execution_count": null,
      "outputs": []
    },
    {
      "cell_type": "code",
      "metadata": {
        "colab": {
          "base_uri": "https://localhost:8080/"
        },
        "id": "1rARYe97vHh8",
        "outputId": "f73bcdc1-fd39-4759-9274-a20aa9fe1fa3"
      },
      "source": [
        "print('Train set size: ', df_train.shape)"
      ],
      "execution_count": null,
      "outputs": [
        {
          "output_type": "stream",
          "text": [
            "Train set size:  (879589, 79)\n"
          ],
          "name": "stdout"
        }
      ]
    },
    {
      "cell_type": "code",
      "metadata": {
        "colab": {
          "base_uri": "https://localhost:8080/"
        },
        "id": "6QnvIzTyvHh8",
        "outputId": "cedcdf03-a823-4f4f-e43e-e530b68f9e58"
      },
      "source": [
        "df_test = pd.read_csv(test_path, names=col_names, skiprows=1)  \n",
        "print('Test set size: ', df_test.shape)\n",
        "\n",
        "df_val = pd.read_csv(validation_path,names=col_names, skiprows=1)  \n",
        "print('Validation set size: ', df_val.shape)"
      ],
      "execution_count": null,
      "outputs": [
        {
          "output_type": "stream",
          "text": [
            "Test set size:  (188483, 79)\n",
            "Validation set size:  (188484, 79)\n"
          ],
          "name": "stdout"
        }
      ]
    },
    {
      "cell_type": "code",
      "metadata": {
        "colab": {
          "base_uri": "https://localhost:8080/",
          "height": 338
        },
        "id": "6TJbg6HSZc5W",
        "outputId": "a8d2e64c-45cb-4858-e386-74f440f06d6f"
      },
      "source": [
        "df_train.describe()"
      ],
      "execution_count": null,
      "outputs": [
        {
          "output_type": "execute_result",
          "data": {
            "text/html": [
              "<div>\n",
              "<style scoped>\n",
              "    .dataframe tbody tr th:only-of-type {\n",
              "        vertical-align: middle;\n",
              "    }\n",
              "\n",
              "    .dataframe tbody tr th {\n",
              "        vertical-align: top;\n",
              "    }\n",
              "\n",
              "    .dataframe thead th {\n",
              "        text-align: right;\n",
              "    }\n",
              "</style>\n",
              "<table border=\"1\" class=\"dataframe\">\n",
              "  <thead>\n",
              "    <tr style=\"text-align: right;\">\n",
              "      <th></th>\n",
              "      <th>dst sport count</th>\n",
              "      <th>src dport count</th>\n",
              "      <th>dst src count</th>\n",
              "      <th>dport count</th>\n",
              "      <th>sport count</th>\n",
              "      <th>dst host count</th>\n",
              "      <th>src host count</th>\n",
              "      <th>Source Port</th>\n",
              "      <th>Destination Port</th>\n",
              "      <th>Protocol</th>\n",
              "      <th>Flow Duration</th>\n",
              "      <th>Total Fwd Packets</th>\n",
              "      <th>Total Backward Packets</th>\n",
              "      <th>Total Length of Fwd Packets</th>\n",
              "      <th>Total Length of Bwd Packets</th>\n",
              "      <th>Fwd Packet Length Max</th>\n",
              "      <th>Fwd Packet Length Min</th>\n",
              "      <th>Fwd Packet Length Mean</th>\n",
              "      <th>Fwd Packet Length Std</th>\n",
              "      <th>Bwd Packet Length Max</th>\n",
              "      <th>Bwd Packet Length Min</th>\n",
              "      <th>Bwd Packet Length Mean</th>\n",
              "      <th>Bwd Packet Length Std</th>\n",
              "      <th>Flow Bytes/s</th>\n",
              "      <th>Flow Packets/s</th>\n",
              "      <th>Flow IAT Mean</th>\n",
              "      <th>Flow IAT Std</th>\n",
              "      <th>Flow IAT Max</th>\n",
              "      <th>Flow IAT Min</th>\n",
              "      <th>Fwd IAT Total</th>\n",
              "      <th>Fwd IAT Mean</th>\n",
              "      <th>Fwd IAT Std</th>\n",
              "      <th>Fwd IAT Max</th>\n",
              "      <th>Fwd IAT Min</th>\n",
              "      <th>Bwd IAT Total</th>\n",
              "      <th>Bwd IAT Mean</th>\n",
              "      <th>Bwd IAT Std</th>\n",
              "      <th>Bwd IAT Max</th>\n",
              "      <th>Bwd IAT Min</th>\n",
              "      <th>Fwd PSH Flags</th>\n",
              "      <th>Fwd URG Flags</th>\n",
              "      <th>Fwd Header Length</th>\n",
              "      <th>Bwd Header Length</th>\n",
              "      <th>Fwd Packets/s</th>\n",
              "      <th>Bwd Packets/s</th>\n",
              "      <th>Min Packet Length</th>\n",
              "      <th>Max Packet Length</th>\n",
              "      <th>Packet Length Mean</th>\n",
              "      <th>Packet Length Std</th>\n",
              "      <th>Packet Length Variance</th>\n",
              "      <th>FIN Flag Count</th>\n",
              "      <th>SYN Flag Count</th>\n",
              "      <th>RST Flag Count</th>\n",
              "      <th>PSH Flag Count</th>\n",
              "      <th>ACK Flag Count</th>\n",
              "      <th>URG Flag Count</th>\n",
              "      <th>CWE Flag Count</th>\n",
              "      <th>ECE Flag Count</th>\n",
              "      <th>Down/Up Ratio</th>\n",
              "      <th>Average Packet Size</th>\n",
              "      <th>Avg Fwd Segment Size</th>\n",
              "      <th>Avg Bwd Segment Size</th>\n",
              "      <th>Subflow Fwd Packets</th>\n",
              "      <th>Subflow Fwd Bytes</th>\n",
              "      <th>Subflow Bwd Packets</th>\n",
              "      <th>Subflow Bwd Bytes</th>\n",
              "      <th>Init_Win_bytes_forward</th>\n",
              "      <th>Init_Win_bytes_backward</th>\n",
              "      <th>act_data_pkt_fwd</th>\n",
              "      <th>min_seg_size_forward</th>\n",
              "      <th>Active Mean</th>\n",
              "      <th>Active Std</th>\n",
              "      <th>Active Max</th>\n",
              "      <th>Active Min</th>\n",
              "      <th>Idle Mean</th>\n",
              "      <th>Idle Std</th>\n",
              "      <th>Idle Max</th>\n",
              "      <th>Idle Min</th>\n",
              "    </tr>\n",
              "  </thead>\n",
              "  <tbody>\n",
              "    <tr>\n",
              "      <th>count</th>\n",
              "      <td>879589.000000</td>\n",
              "      <td>879589.000000</td>\n",
              "      <td>879589.000000</td>\n",
              "      <td>879589.000000</td>\n",
              "      <td>879589.000000</td>\n",
              "      <td>879589.000000</td>\n",
              "      <td>879589.000000</td>\n",
              "      <td>879589.000000</td>\n",
              "      <td>879589.000000</td>\n",
              "      <td>879589.000000</td>\n",
              "      <td>8.795890e+05</td>\n",
              "      <td>879589.000000</td>\n",
              "      <td>879589.000000</td>\n",
              "      <td>8.795890e+05</td>\n",
              "      <td>8.795890e+05</td>\n",
              "      <td>879589.000000</td>\n",
              "      <td>879589.000000</td>\n",
              "      <td>879589.000000</td>\n",
              "      <td>879589.000000</td>\n",
              "      <td>879589.000000</td>\n",
              "      <td>879589.000000</td>\n",
              "      <td>879589.000000</td>\n",
              "      <td>879589.000000</td>\n",
              "      <td>8.795890e+05</td>\n",
              "      <td>8.795890e+05</td>\n",
              "      <td>8.795890e+05</td>\n",
              "      <td>8.795890e+05</td>\n",
              "      <td>8.795890e+05</td>\n",
              "      <td>8.795890e+05</td>\n",
              "      <td>8.795890e+05</td>\n",
              "      <td>8.795890e+05</td>\n",
              "      <td>8.795890e+05</td>\n",
              "      <td>8.795890e+05</td>\n",
              "      <td>8.795890e+05</td>\n",
              "      <td>8.795890e+05</td>\n",
              "      <td>8.795890e+05</td>\n",
              "      <td>8.795890e+05</td>\n",
              "      <td>8.795890e+05</td>\n",
              "      <td>8.795890e+05</td>\n",
              "      <td>879589.000000</td>\n",
              "      <td>879589.000000</td>\n",
              "      <td>8.795890e+05</td>\n",
              "      <td>8.795890e+05</td>\n",
              "      <td>8.795890e+05</td>\n",
              "      <td>8.795890e+05</td>\n",
              "      <td>879589.000000</td>\n",
              "      <td>879589.000000</td>\n",
              "      <td>879589.000000</td>\n",
              "      <td>879589.000000</td>\n",
              "      <td>8.795890e+05</td>\n",
              "      <td>879589.000000</td>\n",
              "      <td>879589.000000</td>\n",
              "      <td>879589.000000</td>\n",
              "      <td>879589.000000</td>\n",
              "      <td>879589.000000</td>\n",
              "      <td>879589.000000</td>\n",
              "      <td>879589.000000</td>\n",
              "      <td>879589.000000</td>\n",
              "      <td>879589.000000</td>\n",
              "      <td>879589.000000</td>\n",
              "      <td>879589.000000</td>\n",
              "      <td>879589.000000</td>\n",
              "      <td>879589.000000</td>\n",
              "      <td>8.795890e+05</td>\n",
              "      <td>879589.000000</td>\n",
              "      <td>8.795890e+05</td>\n",
              "      <td>879589.000000</td>\n",
              "      <td>879589.000000</td>\n",
              "      <td>879589.000000</td>\n",
              "      <td>8.795890e+05</td>\n",
              "      <td>8.795890e+05</td>\n",
              "      <td>8.795890e+05</td>\n",
              "      <td>8.795890e+05</td>\n",
              "      <td>8.795890e+05</td>\n",
              "      <td>8.795890e+05</td>\n",
              "      <td>8.795890e+05</td>\n",
              "      <td>8.795890e+05</td>\n",
              "      <td>8.795890e+05</td>\n",
              "    </tr>\n",
              "    <tr>\n",
              "      <th>mean</th>\n",
              "      <td>9.655316</td>\n",
              "      <td>37.867227</td>\n",
              "      <td>49.836973</td>\n",
              "      <td>48.006394</td>\n",
              "      <td>10.465226</td>\n",
              "      <td>55.566170</td>\n",
              "      <td>57.243626</td>\n",
              "      <td>42882.307181</td>\n",
              "      <td>6397.910982</td>\n",
              "      <td>8.693028</td>\n",
              "      <td>1.923037e+07</td>\n",
              "      <td>8.214027</td>\n",
              "      <td>8.823871</td>\n",
              "      <td>4.403727e+02</td>\n",
              "      <td>1.417082e+04</td>\n",
              "      <td>179.036862</td>\n",
              "      <td>13.701055</td>\n",
              "      <td>48.020170</td>\n",
              "      <td>61.747571</td>\n",
              "      <td>1463.559232</td>\n",
              "      <td>29.061780</td>\n",
              "      <td>487.495944</td>\n",
              "      <td>600.398140</td>\n",
              "      <td>1.154200e+06</td>\n",
              "      <td>7.835547e+04</td>\n",
              "      <td>1.785500e+06</td>\n",
              "      <td>4.593409e+06</td>\n",
              "      <td>1.505781e+07</td>\n",
              "      <td>1.817909e+05</td>\n",
              "      <td>1.895005e+07</td>\n",
              "      <td>3.497445e+06</td>\n",
              "      <td>5.784826e+06</td>\n",
              "      <td>1.493529e+07</td>\n",
              "      <td>8.764154e+05</td>\n",
              "      <td>9.546793e+06</td>\n",
              "      <td>1.832198e+06</td>\n",
              "      <td>2.096462e+06</td>\n",
              "      <td>5.847373e+06</td>\n",
              "      <td>7.775011e+05</td>\n",
              "      <td>0.035845</td>\n",
              "      <td>0.000069</td>\n",
              "      <td>-1.779193e+03</td>\n",
              "      <td>-1.391305e+03</td>\n",
              "      <td>7.066763e+04</td>\n",
              "      <td>7.731049e+03</td>\n",
              "      <td>11.697604</td>\n",
              "      <td>1520.444635</td>\n",
              "      <td>250.439207</td>\n",
              "      <td>478.990505</td>\n",
              "      <td>9.488540e+05</td>\n",
              "      <td>0.056930</td>\n",
              "      <td>0.035845</td>\n",
              "      <td>0.000164</td>\n",
              "      <td>0.348102</td>\n",
              "      <td>0.351718</td>\n",
              "      <td>0.068783</td>\n",
              "      <td>0.000069</td>\n",
              "      <td>0.000164</td>\n",
              "      <td>0.662657</td>\n",
              "      <td>277.045229</td>\n",
              "      <td>48.020170</td>\n",
              "      <td>487.495944</td>\n",
              "      <td>8.214027</td>\n",
              "      <td>4.403727e+02</td>\n",
              "      <td>8.823871</td>\n",
              "      <td>1.416974e+04</td>\n",
              "      <td>7118.105536</td>\n",
              "      <td>1463.521291</td>\n",
              "      <td>4.322587</td>\n",
              "      <td>-1.156058e+03</td>\n",
              "      <td>8.722149e+04</td>\n",
              "      <td>3.427464e+04</td>\n",
              "      <td>1.409675e+05</td>\n",
              "      <td>6.695474e+04</td>\n",
              "      <td>1.402000e+07</td>\n",
              "      <td>8.088585e+05</td>\n",
              "      <td>1.463478e+07</td>\n",
              "      <td>1.341685e+07</td>\n",
              "    </tr>\n",
              "    <tr>\n",
              "      <th>std</th>\n",
              "      <td>25.810487</td>\n",
              "      <td>40.954725</td>\n",
              "      <td>44.142062</td>\n",
              "      <td>39.181947</td>\n",
              "      <td>25.970811</td>\n",
              "      <td>41.115493</td>\n",
              "      <td>40.505493</td>\n",
              "      <td>19661.359246</td>\n",
              "      <td>16111.253716</td>\n",
              "      <td>4.734203</td>\n",
              "      <td>3.711919e+07</td>\n",
              "      <td>685.761027</td>\n",
              "      <td>912.882257</td>\n",
              "      <td>6.605092e+03</td>\n",
              "      <td>2.075330e+06</td>\n",
              "      <td>610.645248</td>\n",
              "      <td>57.039193</td>\n",
              "      <td>160.224075</td>\n",
              "      <td>237.180304</td>\n",
              "      <td>2657.258586</td>\n",
              "      <td>60.386127</td>\n",
              "      <td>814.918490</td>\n",
              "      <td>1167.665597</td>\n",
              "      <td>2.334998e+07</td>\n",
              "      <td>2.713128e+05</td>\n",
              "      <td>4.929222e+06</td>\n",
              "      <td>9.877418e+06</td>\n",
              "      <td>3.194961e+07</td>\n",
              "      <td>3.274780e+06</td>\n",
              "      <td>3.708712e+07</td>\n",
              "      <td>9.762596e+06</td>\n",
              "      <td>1.305067e+07</td>\n",
              "      <td>3.201589e+07</td>\n",
              "      <td>8.098459e+06</td>\n",
              "      <td>2.816566e+07</td>\n",
              "      <td>8.481475e+06</td>\n",
              "      <td>8.133173e+06</td>\n",
              "      <td>2.054948e+07</td>\n",
              "      <td>7.499528e+06</td>\n",
              "      <td>0.185904</td>\n",
              "      <td>0.008327</td>\n",
              "      <td>1.186150e+06</td>\n",
              "      <td>1.158914e+06</td>\n",
              "      <td>2.652601e+05</td>\n",
              "      <td>3.809361e+04</td>\n",
              "      <td>22.706568</td>\n",
              "      <td>2687.748532</td>\n",
              "      <td>394.185794</td>\n",
              "      <td>848.222439</td>\n",
              "      <td>2.302125e+06</td>\n",
              "      <td>0.231709</td>\n",
              "      <td>0.185904</td>\n",
              "      <td>0.012794</td>\n",
              "      <td>0.476369</td>\n",
              "      <td>0.477507</td>\n",
              "      <td>0.253085</td>\n",
              "      <td>0.008327</td>\n",
              "      <td>0.012794</td>\n",
              "      <td>0.643625</td>\n",
              "      <td>431.918903</td>\n",
              "      <td>160.224075</td>\n",
              "      <td>814.918490</td>\n",
              "      <td>685.761027</td>\n",
              "      <td>6.605092e+03</td>\n",
              "      <td>912.882257</td>\n",
              "      <td>2.075043e+06</td>\n",
              "      <td>13584.239160</td>\n",
              "      <td>7163.856980</td>\n",
              "      <td>537.436126</td>\n",
              "      <td>6.129328e+05</td>\n",
              "      <td>6.487369e+05</td>\n",
              "      <td>3.700512e+05</td>\n",
              "      <td>9.505822e+05</td>\n",
              "      <td>5.900885e+05</td>\n",
              "      <td>3.114625e+07</td>\n",
              "      <td>6.040495e+06</td>\n",
              "      <td>3.199113e+07</td>\n",
              "      <td>3.091560e+07</td>\n",
              "    </tr>\n",
              "    <tr>\n",
              "      <th>min</th>\n",
              "      <td>1.000000</td>\n",
              "      <td>1.000000</td>\n",
              "      <td>1.000000</td>\n",
              "      <td>1.000000</td>\n",
              "      <td>1.000000</td>\n",
              "      <td>1.000000</td>\n",
              "      <td>1.000000</td>\n",
              "      <td>0.000000</td>\n",
              "      <td>0.000000</td>\n",
              "      <td>0.000000</td>\n",
              "      <td>-1.000000e+00</td>\n",
              "      <td>1.000000</td>\n",
              "      <td>0.000000</td>\n",
              "      <td>0.000000e+00</td>\n",
              "      <td>0.000000e+00</td>\n",
              "      <td>0.000000</td>\n",
              "      <td>0.000000</td>\n",
              "      <td>0.000000</td>\n",
              "      <td>0.000000</td>\n",
              "      <td>0.000000</td>\n",
              "      <td>0.000000</td>\n",
              "      <td>0.000000</td>\n",
              "      <td>0.000000</td>\n",
              "      <td>-1.200000e+07</td>\n",
              "      <td>-2.000000e+06</td>\n",
              "      <td>-1.000000e+00</td>\n",
              "      <td>0.000000e+00</td>\n",
              "      <td>-1.000000e+00</td>\n",
              "      <td>-1.300000e+01</td>\n",
              "      <td>0.000000e+00</td>\n",
              "      <td>0.000000e+00</td>\n",
              "      <td>0.000000e+00</td>\n",
              "      <td>0.000000e+00</td>\n",
              "      <td>-1.200000e+01</td>\n",
              "      <td>0.000000e+00</td>\n",
              "      <td>0.000000e+00</td>\n",
              "      <td>0.000000e+00</td>\n",
              "      <td>0.000000e+00</td>\n",
              "      <td>0.000000e+00</td>\n",
              "      <td>0.000000</td>\n",
              "      <td>0.000000</td>\n",
              "      <td>-1.073741e+09</td>\n",
              "      <td>-1.073741e+09</td>\n",
              "      <td>0.000000e+00</td>\n",
              "      <td>0.000000e+00</td>\n",
              "      <td>0.000000</td>\n",
              "      <td>0.000000</td>\n",
              "      <td>0.000000</td>\n",
              "      <td>0.000000</td>\n",
              "      <td>0.000000e+00</td>\n",
              "      <td>0.000000</td>\n",
              "      <td>0.000000</td>\n",
              "      <td>0.000000</td>\n",
              "      <td>0.000000</td>\n",
              "      <td>0.000000</td>\n",
              "      <td>0.000000</td>\n",
              "      <td>0.000000</td>\n",
              "      <td>0.000000</td>\n",
              "      <td>0.000000</td>\n",
              "      <td>0.000000</td>\n",
              "      <td>0.000000</td>\n",
              "      <td>0.000000</td>\n",
              "      <td>1.000000</td>\n",
              "      <td>0.000000e+00</td>\n",
              "      <td>0.000000</td>\n",
              "      <td>0.000000e+00</td>\n",
              "      <td>-1.000000</td>\n",
              "      <td>-1.000000</td>\n",
              "      <td>0.000000</td>\n",
              "      <td>-5.368707e+08</td>\n",
              "      <td>0.000000e+00</td>\n",
              "      <td>0.000000e+00</td>\n",
              "      <td>0.000000e+00</td>\n",
              "      <td>0.000000e+00</td>\n",
              "      <td>0.000000e+00</td>\n",
              "      <td>0.000000e+00</td>\n",
              "      <td>0.000000e+00</td>\n",
              "      <td>0.000000e+00</td>\n",
              "    </tr>\n",
              "    <tr>\n",
              "      <th>25%</th>\n",
              "      <td>1.000000</td>\n",
              "      <td>1.000000</td>\n",
              "      <td>4.000000</td>\n",
              "      <td>2.000000</td>\n",
              "      <td>1.000000</td>\n",
              "      <td>8.000000</td>\n",
              "      <td>11.000000</td>\n",
              "      <td>36053.000000</td>\n",
              "      <td>53.000000</td>\n",
              "      <td>6.000000</td>\n",
              "      <td>8.100000e+01</td>\n",
              "      <td>1.000000</td>\n",
              "      <td>1.000000</td>\n",
              "      <td>2.000000e+00</td>\n",
              "      <td>0.000000e+00</td>\n",
              "      <td>2.000000</td>\n",
              "      <td>0.000000</td>\n",
              "      <td>2.000000</td>\n",
              "      <td>0.000000</td>\n",
              "      <td>0.000000</td>\n",
              "      <td>0.000000</td>\n",
              "      <td>0.000000</td>\n",
              "      <td>0.000000</td>\n",
              "      <td>1.185832e+02</td>\n",
              "      <td>1.130725e+00</td>\n",
              "      <td>5.966667e+01</td>\n",
              "      <td>0.000000e+00</td>\n",
              "      <td>7.700000e+01</td>\n",
              "      <td>3.000000e+00</td>\n",
              "      <td>0.000000e+00</td>\n",
              "      <td>0.000000e+00</td>\n",
              "      <td>0.000000e+00</td>\n",
              "      <td>0.000000e+00</td>\n",
              "      <td>0.000000e+00</td>\n",
              "      <td>0.000000e+00</td>\n",
              "      <td>0.000000e+00</td>\n",
              "      <td>0.000000e+00</td>\n",
              "      <td>0.000000e+00</td>\n",
              "      <td>0.000000e+00</td>\n",
              "      <td>0.000000</td>\n",
              "      <td>0.000000</td>\n",
              "      <td>4.000000e+01</td>\n",
              "      <td>2.000000e+01</td>\n",
              "      <td>7.750416e-01</td>\n",
              "      <td>6.135056e-02</td>\n",
              "      <td>0.000000</td>\n",
              "      <td>6.000000</td>\n",
              "      <td>3.333333</td>\n",
              "      <td>2.190890</td>\n",
              "      <td>4.800000e+00</td>\n",
              "      <td>0.000000</td>\n",
              "      <td>0.000000</td>\n",
              "      <td>0.000000</td>\n",
              "      <td>0.000000</td>\n",
              "      <td>0.000000</td>\n",
              "      <td>0.000000</td>\n",
              "      <td>0.000000</td>\n",
              "      <td>0.000000</td>\n",
              "      <td>0.000000</td>\n",
              "      <td>5.000000</td>\n",
              "      <td>2.000000</td>\n",
              "      <td>0.000000</td>\n",
              "      <td>1.000000</td>\n",
              "      <td>2.000000e+00</td>\n",
              "      <td>1.000000</td>\n",
              "      <td>0.000000e+00</td>\n",
              "      <td>0.000000</td>\n",
              "      <td>-1.000000</td>\n",
              "      <td>0.000000</td>\n",
              "      <td>2.000000e+01</td>\n",
              "      <td>0.000000e+00</td>\n",
              "      <td>0.000000e+00</td>\n",
              "      <td>0.000000e+00</td>\n",
              "      <td>0.000000e+00</td>\n",
              "      <td>0.000000e+00</td>\n",
              "      <td>0.000000e+00</td>\n",
              "      <td>0.000000e+00</td>\n",
              "      <td>0.000000e+00</td>\n",
              "    </tr>\n",
              "    <tr>\n",
              "      <th>50%</th>\n",
              "      <td>1.000000</td>\n",
              "      <td>16.000000</td>\n",
              "      <td>37.000000</td>\n",
              "      <td>48.000000</td>\n",
              "      <td>1.000000</td>\n",
              "      <td>60.000000</td>\n",
              "      <td>64.000000</td>\n",
              "      <td>50214.000000</td>\n",
              "      <td>80.000000</td>\n",
              "      <td>6.000000</td>\n",
              "      <td>4.002600e+04</td>\n",
              "      <td>2.000000</td>\n",
              "      <td>2.000000</td>\n",
              "      <td>5.100000e+01</td>\n",
              "      <td>1.140000e+02</td>\n",
              "      <td>31.000000</td>\n",
              "      <td>0.000000</td>\n",
              "      <td>27.000000</td>\n",
              "      <td>0.000000</td>\n",
              "      <td>70.000000</td>\n",
              "      <td>0.000000</td>\n",
              "      <td>63.000000</td>\n",
              "      <td>0.000000</td>\n",
              "      <td>3.542475e+03</td>\n",
              "      <td>9.014017e+01</td>\n",
              "      <td>1.400680e+04</td>\n",
              "      <td>4.520698e+03</td>\n",
              "      <td>3.163200e+04</td>\n",
              "      <td>4.000000e+00</td>\n",
              "      <td>4.900000e+01</td>\n",
              "      <td>4.900000e+01</td>\n",
              "      <td>0.000000e+00</td>\n",
              "      <td>4.900000e+01</td>\n",
              "      <td>3.000000e+00</td>\n",
              "      <td>3.000000e+00</td>\n",
              "      <td>3.000000e+00</td>\n",
              "      <td>0.000000e+00</td>\n",
              "      <td>3.000000e+00</td>\n",
              "      <td>1.000000e+00</td>\n",
              "      <td>0.000000</td>\n",
              "      <td>0.000000</td>\n",
              "      <td>6.400000e+01</td>\n",
              "      <td>4.000000e+01</td>\n",
              "      <td>4.788519e+01</td>\n",
              "      <td>1.054819e+01</td>\n",
              "      <td>0.000000</td>\n",
              "      <td>79.000000</td>\n",
              "      <td>54.200000</td>\n",
              "      <td>21.361960</td>\n",
              "      <td>4.563333e+02</td>\n",
              "      <td>0.000000</td>\n",
              "      <td>0.000000</td>\n",
              "      <td>0.000000</td>\n",
              "      <td>0.000000</td>\n",
              "      <td>0.000000</td>\n",
              "      <td>0.000000</td>\n",
              "      <td>0.000000</td>\n",
              "      <td>0.000000</td>\n",
              "      <td>1.000000</td>\n",
              "      <td>69.250000</td>\n",
              "      <td>27.000000</td>\n",
              "      <td>63.000000</td>\n",
              "      <td>2.000000</td>\n",
              "      <td>5.100000e+01</td>\n",
              "      <td>2.000000</td>\n",
              "      <td>1.140000e+02</td>\n",
              "      <td>256.000000</td>\n",
              "      <td>0.000000</td>\n",
              "      <td>1.000000</td>\n",
              "      <td>2.400000e+01</td>\n",
              "      <td>0.000000e+00</td>\n",
              "      <td>0.000000e+00</td>\n",
              "      <td>0.000000e+00</td>\n",
              "      <td>0.000000e+00</td>\n",
              "      <td>0.000000e+00</td>\n",
              "      <td>0.000000e+00</td>\n",
              "      <td>0.000000e+00</td>\n",
              "      <td>0.000000e+00</td>\n",
              "    </tr>\n",
              "    <tr>\n",
              "      <th>75%</th>\n",
              "      <td>2.000000</td>\n",
              "      <td>95.000000</td>\n",
              "      <td>99.000000</td>\n",
              "      <td>95.000000</td>\n",
              "      <td>2.000000</td>\n",
              "      <td>99.000000</td>\n",
              "      <td>99.000000</td>\n",
              "      <td>57335.000000</td>\n",
              "      <td>443.000000</td>\n",
              "      <td>6.000000</td>\n",
              "      <td>6.453224e+06</td>\n",
              "      <td>5.000000</td>\n",
              "      <td>5.000000</td>\n",
              "      <td>3.100000e+02</td>\n",
              "      <td>4.211000e+03</td>\n",
              "      <td>201.000000</td>\n",
              "      <td>6.000000</td>\n",
              "      <td>48.750000</td>\n",
              "      <td>72.555151</td>\n",
              "      <td>1460.000000</td>\n",
              "      <td>6.000000</td>\n",
              "      <td>453.400000</td>\n",
              "      <td>630.000000</td>\n",
              "      <td>1.363636e+05</td>\n",
              "      <td>2.739726e+04</td>\n",
              "      <td>1.033201e+06</td>\n",
              "      <td>2.212140e+06</td>\n",
              "      <td>5.702855e+06</td>\n",
              "      <td>5.400000e+01</td>\n",
              "      <td>5.871722e+06</td>\n",
              "      <td>1.273712e+06</td>\n",
              "      <td>2.006017e+06</td>\n",
              "      <td>5.487049e+06</td>\n",
              "      <td>4.800000e+01</td>\n",
              "      <td>1.475960e+05</td>\n",
              "      <td>2.948780e+04</td>\n",
              "      <td>4.465791e+04</td>\n",
              "      <td>1.319900e+05</td>\n",
              "      <td>4.500000e+01</td>\n",
              "      <td>0.000000</td>\n",
              "      <td>0.000000</td>\n",
              "      <td>1.440000e+02</td>\n",
              "      <td>1.320000e+02</td>\n",
              "      <td>1.408451e+04</td>\n",
              "      <td>8.620690e+03</td>\n",
              "      <td>6.000000</td>\n",
              "      <td>1472.000000</td>\n",
              "      <td>283.500000</td>\n",
              "      <td>533.098083</td>\n",
              "      <td>2.841936e+05</td>\n",
              "      <td>0.000000</td>\n",
              "      <td>0.000000</td>\n",
              "      <td>0.000000</td>\n",
              "      <td>1.000000</td>\n",
              "      <td>1.000000</td>\n",
              "      <td>0.000000</td>\n",
              "      <td>0.000000</td>\n",
              "      <td>0.000000</td>\n",
              "      <td>1.000000</td>\n",
              "      <td>300.000000</td>\n",
              "      <td>48.750000</td>\n",
              "      <td>453.400000</td>\n",
              "      <td>5.000000</td>\n",
              "      <td>3.100000e+02</td>\n",
              "      <td>5.000000</td>\n",
              "      <td>4.211000e+03</td>\n",
              "      <td>8192.000000</td>\n",
              "      <td>235.000000</td>\n",
              "      <td>2.000000</td>\n",
              "      <td>3.200000e+01</td>\n",
              "      <td>0.000000e+00</td>\n",
              "      <td>0.000000e+00</td>\n",
              "      <td>0.000000e+00</td>\n",
              "      <td>0.000000e+00</td>\n",
              "      <td>5.187895e+06</td>\n",
              "      <td>0.000000e+00</td>\n",
              "      <td>5.187896e+06</td>\n",
              "      <td>5.104746e+06</td>\n",
              "    </tr>\n",
              "    <tr>\n",
              "      <th>max</th>\n",
              "      <td>100.000000</td>\n",
              "      <td>100.000000</td>\n",
              "      <td>100.000000</td>\n",
              "      <td>100.000000</td>\n",
              "      <td>100.000000</td>\n",
              "      <td>100.000000</td>\n",
              "      <td>100.000000</td>\n",
              "      <td>65536.000000</td>\n",
              "      <td>65536.000000</td>\n",
              "      <td>17.000000</td>\n",
              "      <td>1.200000e+08</td>\n",
              "      <td>217797.000000</td>\n",
              "      <td>289585.000000</td>\n",
              "      <td>2.866110e+06</td>\n",
              "      <td>6.396506e+08</td>\n",
              "      <td>24820.000000</td>\n",
              "      <td>2065.000000</td>\n",
              "      <td>5939.285714</td>\n",
              "      <td>6692.644993</td>\n",
              "      <td>17376.000000</td>\n",
              "      <td>1983.000000</td>\n",
              "      <td>4370.686524</td>\n",
              "      <td>6715.738331</td>\n",
              "      <td>2.071000e+09</td>\n",
              "      <td>3.000000e+06</td>\n",
              "      <td>1.200000e+08</td>\n",
              "      <td>8.480000e+07</td>\n",
              "      <td>1.200000e+08</td>\n",
              "      <td>1.200000e+08</td>\n",
              "      <td>1.200000e+08</td>\n",
              "      <td>1.200000e+08</td>\n",
              "      <td>8.370000e+07</td>\n",
              "      <td>1.200000e+08</td>\n",
              "      <td>1.200000e+08</td>\n",
              "      <td>1.200000e+08</td>\n",
              "      <td>1.200000e+08</td>\n",
              "      <td>8.299341e+07</td>\n",
              "      <td>1.200000e+08</td>\n",
              "      <td>1.200000e+08</td>\n",
              "      <td>1.000000</td>\n",
              "      <td>1.000000</td>\n",
              "      <td>4.617240e+06</td>\n",
              "      <td>5.791700e+06</td>\n",
              "      <td>3.000000e+06</td>\n",
              "      <td>2.000000e+06</td>\n",
              "      <td>1448.000000</td>\n",
              "      <td>24820.000000</td>\n",
              "      <td>2920.000000</td>\n",
              "      <td>4731.522394</td>\n",
              "      <td>2.240000e+07</td>\n",
              "      <td>1.000000</td>\n",
              "      <td>1.000000</td>\n",
              "      <td>1.000000</td>\n",
              "      <td>1.000000</td>\n",
              "      <td>1.000000</td>\n",
              "      <td>1.000000</td>\n",
              "      <td>1.000000</td>\n",
              "      <td>1.000000</td>\n",
              "      <td>29.000000</td>\n",
              "      <td>3337.142857</td>\n",
              "      <td>5939.285714</td>\n",
              "      <td>4370.686524</td>\n",
              "      <td>217797.000000</td>\n",
              "      <td>2.866110e+06</td>\n",
              "      <td>289585.000000</td>\n",
              "      <td>6.396506e+08</td>\n",
              "      <td>65535.000000</td>\n",
              "      <td>65535.000000</td>\n",
              "      <td>207409.000000</td>\n",
              "      <td>6.000000e+01</td>\n",
              "      <td>1.000000e+08</td>\n",
              "      <td>6.380000e+07</td>\n",
              "      <td>1.000000e+08</td>\n",
              "      <td>1.000000e+08</td>\n",
              "      <td>1.200000e+08</td>\n",
              "      <td>7.560000e+07</td>\n",
              "      <td>1.200000e+08</td>\n",
              "      <td>1.200000e+08</td>\n",
              "    </tr>\n",
              "  </tbody>\n",
              "</table>\n",
              "</div>"
            ],
            "text/plain": [
              "       dst sport count  src dport count  ...      Idle Max      Idle Min\n",
              "count    879589.000000    879589.000000  ...  8.795890e+05  8.795890e+05\n",
              "mean          9.655316        37.867227  ...  1.463478e+07  1.341685e+07\n",
              "std          25.810487        40.954725  ...  3.199113e+07  3.091560e+07\n",
              "min           1.000000         1.000000  ...  0.000000e+00  0.000000e+00\n",
              "25%           1.000000         1.000000  ...  0.000000e+00  0.000000e+00\n",
              "50%           1.000000        16.000000  ...  0.000000e+00  0.000000e+00\n",
              "75%           2.000000        95.000000  ...  5.187896e+06  5.104746e+06\n",
              "max         100.000000       100.000000  ...  1.200000e+08  1.200000e+08\n",
              "\n",
              "[8 rows x 78 columns]"
            ]
          },
          "metadata": {
            "tags": []
          },
          "execution_count": 12
        }
      ]
    },
    {
      "cell_type": "code",
      "metadata": {
        "colab": {
          "base_uri": "https://localhost:8080/",
          "height": 338
        },
        "id": "sLiNbCVJZnu8",
        "outputId": "736f5613-a6e2-4edc-b8ca-ab7fb285dc7b"
      },
      "source": [
        "df_test.describe()"
      ],
      "execution_count": null,
      "outputs": [
        {
          "output_type": "execute_result",
          "data": {
            "text/html": [
              "<div>\n",
              "<style scoped>\n",
              "    .dataframe tbody tr th:only-of-type {\n",
              "        vertical-align: middle;\n",
              "    }\n",
              "\n",
              "    .dataframe tbody tr th {\n",
              "        vertical-align: top;\n",
              "    }\n",
              "\n",
              "    .dataframe thead th {\n",
              "        text-align: right;\n",
              "    }\n",
              "</style>\n",
              "<table border=\"1\" class=\"dataframe\">\n",
              "  <thead>\n",
              "    <tr style=\"text-align: right;\">\n",
              "      <th></th>\n",
              "      <th>dst sport count</th>\n",
              "      <th>src dport count</th>\n",
              "      <th>dst src count</th>\n",
              "      <th>dport count</th>\n",
              "      <th>sport count</th>\n",
              "      <th>dst host count</th>\n",
              "      <th>src host count</th>\n",
              "      <th>Source Port</th>\n",
              "      <th>Destination Port</th>\n",
              "      <th>Protocol</th>\n",
              "      <th>Flow Duration</th>\n",
              "      <th>Total Fwd Packets</th>\n",
              "      <th>Total Backward Packets</th>\n",
              "      <th>Total Length of Fwd Packets</th>\n",
              "      <th>Total Length of Bwd Packets</th>\n",
              "      <th>Fwd Packet Length Max</th>\n",
              "      <th>Fwd Packet Length Min</th>\n",
              "      <th>Fwd Packet Length Mean</th>\n",
              "      <th>Fwd Packet Length Std</th>\n",
              "      <th>Bwd Packet Length Max</th>\n",
              "      <th>Bwd Packet Length Min</th>\n",
              "      <th>Bwd Packet Length Mean</th>\n",
              "      <th>Bwd Packet Length Std</th>\n",
              "      <th>Flow Bytes/s</th>\n",
              "      <th>Flow Packets/s</th>\n",
              "      <th>Flow IAT Mean</th>\n",
              "      <th>Flow IAT Std</th>\n",
              "      <th>Flow IAT Max</th>\n",
              "      <th>Flow IAT Min</th>\n",
              "      <th>Fwd IAT Total</th>\n",
              "      <th>Fwd IAT Mean</th>\n",
              "      <th>Fwd IAT Std</th>\n",
              "      <th>Fwd IAT Max</th>\n",
              "      <th>Fwd IAT Min</th>\n",
              "      <th>Bwd IAT Total</th>\n",
              "      <th>Bwd IAT Mean</th>\n",
              "      <th>Bwd IAT Std</th>\n",
              "      <th>Bwd IAT Max</th>\n",
              "      <th>Bwd IAT Min</th>\n",
              "      <th>Fwd PSH Flags</th>\n",
              "      <th>Fwd URG Flags</th>\n",
              "      <th>Fwd Header Length</th>\n",
              "      <th>Bwd Header Length</th>\n",
              "      <th>Fwd Packets/s</th>\n",
              "      <th>Bwd Packets/s</th>\n",
              "      <th>Min Packet Length</th>\n",
              "      <th>Max Packet Length</th>\n",
              "      <th>Packet Length Mean</th>\n",
              "      <th>Packet Length Std</th>\n",
              "      <th>Packet Length Variance</th>\n",
              "      <th>FIN Flag Count</th>\n",
              "      <th>SYN Flag Count</th>\n",
              "      <th>RST Flag Count</th>\n",
              "      <th>PSH Flag Count</th>\n",
              "      <th>ACK Flag Count</th>\n",
              "      <th>URG Flag Count</th>\n",
              "      <th>CWE Flag Count</th>\n",
              "      <th>ECE Flag Count</th>\n",
              "      <th>Down/Up Ratio</th>\n",
              "      <th>Average Packet Size</th>\n",
              "      <th>Avg Fwd Segment Size</th>\n",
              "      <th>Avg Bwd Segment Size</th>\n",
              "      <th>Subflow Fwd Packets</th>\n",
              "      <th>Subflow Fwd Bytes</th>\n",
              "      <th>Subflow Bwd Packets</th>\n",
              "      <th>Subflow Bwd Bytes</th>\n",
              "      <th>Init_Win_bytes_forward</th>\n",
              "      <th>Init_Win_bytes_backward</th>\n",
              "      <th>act_data_pkt_fwd</th>\n",
              "      <th>min_seg_size_forward</th>\n",
              "      <th>Active Mean</th>\n",
              "      <th>Active Std</th>\n",
              "      <th>Active Max</th>\n",
              "      <th>Active Min</th>\n",
              "      <th>Idle Mean</th>\n",
              "      <th>Idle Std</th>\n",
              "      <th>Idle Max</th>\n",
              "      <th>Idle Min</th>\n",
              "    </tr>\n",
              "  </thead>\n",
              "  <tbody>\n",
              "    <tr>\n",
              "      <th>count</th>\n",
              "      <td>188483.000000</td>\n",
              "      <td>188483.000000</td>\n",
              "      <td>188483.000000</td>\n",
              "      <td>188483.000000</td>\n",
              "      <td>188483.000000</td>\n",
              "      <td>188483.000000</td>\n",
              "      <td>188483.000000</td>\n",
              "      <td>188483.000000</td>\n",
              "      <td>188483.000000</td>\n",
              "      <td>188483.000000</td>\n",
              "      <td>1.884830e+05</td>\n",
              "      <td>188483.000000</td>\n",
              "      <td>188483.000000</td>\n",
              "      <td>188483.000000</td>\n",
              "      <td>1.884830e+05</td>\n",
              "      <td>188483.000000</td>\n",
              "      <td>188483.000000</td>\n",
              "      <td>188483.000000</td>\n",
              "      <td>188483.000000</td>\n",
              "      <td>188483.000000</td>\n",
              "      <td>188483.000000</td>\n",
              "      <td>188483.000000</td>\n",
              "      <td>188483.000000</td>\n",
              "      <td>1.884830e+05</td>\n",
              "      <td>1.884830e+05</td>\n",
              "      <td>1.884830e+05</td>\n",
              "      <td>1.884830e+05</td>\n",
              "      <td>1.884830e+05</td>\n",
              "      <td>1.884830e+05</td>\n",
              "      <td>1.884830e+05</td>\n",
              "      <td>1.884830e+05</td>\n",
              "      <td>1.884830e+05</td>\n",
              "      <td>1.884830e+05</td>\n",
              "      <td>1.884830e+05</td>\n",
              "      <td>1.884830e+05</td>\n",
              "      <td>1.884830e+05</td>\n",
              "      <td>1.884830e+05</td>\n",
              "      <td>1.884830e+05</td>\n",
              "      <td>1.884830e+05</td>\n",
              "      <td>188483.000000</td>\n",
              "      <td>188483.000000</td>\n",
              "      <td>1.884830e+05</td>\n",
              "      <td>1.884830e+05</td>\n",
              "      <td>1.884830e+05</td>\n",
              "      <td>1.884830e+05</td>\n",
              "      <td>188483.000000</td>\n",
              "      <td>188483.000000</td>\n",
              "      <td>188483.000000</td>\n",
              "      <td>188483.000000</td>\n",
              "      <td>1.884830e+05</td>\n",
              "      <td>188483.000000</td>\n",
              "      <td>188483.000000</td>\n",
              "      <td>188483.000000</td>\n",
              "      <td>188483.000000</td>\n",
              "      <td>188483.000000</td>\n",
              "      <td>188483.000000</td>\n",
              "      <td>188483.000000</td>\n",
              "      <td>188483.000000</td>\n",
              "      <td>188483.000000</td>\n",
              "      <td>188483.000000</td>\n",
              "      <td>188483.000000</td>\n",
              "      <td>188483.000000</td>\n",
              "      <td>188483.000000</td>\n",
              "      <td>188483.000000</td>\n",
              "      <td>188483.000000</td>\n",
              "      <td>1.884830e+05</td>\n",
              "      <td>188483.000000</td>\n",
              "      <td>188483.000000</td>\n",
              "      <td>188483.000000</td>\n",
              "      <td>1.884830e+05</td>\n",
              "      <td>1.884830e+05</td>\n",
              "      <td>1.884830e+05</td>\n",
              "      <td>1.884830e+05</td>\n",
              "      <td>1.884830e+05</td>\n",
              "      <td>1.884830e+05</td>\n",
              "      <td>1.884830e+05</td>\n",
              "      <td>1.884830e+05</td>\n",
              "      <td>1.884830e+05</td>\n",
              "    </tr>\n",
              "    <tr>\n",
              "      <th>mean</th>\n",
              "      <td>9.625308</td>\n",
              "      <td>37.861701</td>\n",
              "      <td>49.864025</td>\n",
              "      <td>48.026984</td>\n",
              "      <td>10.434315</td>\n",
              "      <td>55.607434</td>\n",
              "      <td>57.249322</td>\n",
              "      <td>42825.772430</td>\n",
              "      <td>6398.028565</td>\n",
              "      <td>8.699867</td>\n",
              "      <td>1.937297e+07</td>\n",
              "      <td>6.393341</td>\n",
              "      <td>6.290955</td>\n",
              "      <td>425.507547</td>\n",
              "      <td>9.614426e+03</td>\n",
              "      <td>180.326422</td>\n",
              "      <td>13.616549</td>\n",
              "      <td>48.088141</td>\n",
              "      <td>62.258627</td>\n",
              "      <td>1471.358101</td>\n",
              "      <td>29.252240</td>\n",
              "      <td>489.581182</td>\n",
              "      <td>604.521501</td>\n",
              "      <td>1.141231e+06</td>\n",
              "      <td>7.836992e+04</td>\n",
              "      <td>1.791253e+06</td>\n",
              "      <td>4.628396e+06</td>\n",
              "      <td>1.515027e+07</td>\n",
              "      <td>1.736502e+05</td>\n",
              "      <td>1.910116e+07</td>\n",
              "      <td>3.521722e+06</td>\n",
              "      <td>5.821567e+06</td>\n",
              "      <td>1.502940e+07</td>\n",
              "      <td>8.824922e+05</td>\n",
              "      <td>9.685500e+06</td>\n",
              "      <td>1.863613e+06</td>\n",
              "      <td>2.133658e+06</td>\n",
              "      <td>5.939107e+06</td>\n",
              "      <td>7.890398e+05</td>\n",
              "      <td>0.036115</td>\n",
              "      <td>0.000095</td>\n",
              "      <td>-7.244541e+02</td>\n",
              "      <td>-7.290569e+02</td>\n",
              "      <td>7.076928e+04</td>\n",
              "      <td>7.712062e+03</td>\n",
              "      <td>11.748036</td>\n",
              "      <td>1528.642275</td>\n",
              "      <td>251.232699</td>\n",
              "      <td>481.683733</td>\n",
              "      <td>9.575668e+05</td>\n",
              "      <td>0.057278</td>\n",
              "      <td>0.036115</td>\n",
              "      <td>0.000164</td>\n",
              "      <td>0.348620</td>\n",
              "      <td>0.350392</td>\n",
              "      <td>0.068335</td>\n",
              "      <td>0.000095</td>\n",
              "      <td>0.000175</td>\n",
              "      <td>0.662680</td>\n",
              "      <td>277.964550</td>\n",
              "      <td>48.088141</td>\n",
              "      <td>489.581182</td>\n",
              "      <td>6.393341</td>\n",
              "      <td>425.507547</td>\n",
              "      <td>6.290955</td>\n",
              "      <td>9.615250e+03</td>\n",
              "      <td>7121.997130</td>\n",
              "      <td>1479.610888</td>\n",
              "      <td>3.475565</td>\n",
              "      <td>-4.185286e+02</td>\n",
              "      <td>8.921930e+04</td>\n",
              "      <td>3.533351e+04</td>\n",
              "      <td>1.448189e+05</td>\n",
              "      <td>6.831514e+04</td>\n",
              "      <td>1.412079e+07</td>\n",
              "      <td>8.001563e+05</td>\n",
              "      <td>1.473072e+07</td>\n",
              "      <td>1.352238e+07</td>\n",
              "    </tr>\n",
              "    <tr>\n",
              "      <th>std</th>\n",
              "      <td>25.759133</td>\n",
              "      <td>40.995800</td>\n",
              "      <td>44.175627</td>\n",
              "      <td>39.217990</td>\n",
              "      <td>25.916640</td>\n",
              "      <td>41.132627</td>\n",
              "      <td>40.537490</td>\n",
              "      <td>19694.807197</td>\n",
              "      <td>16123.799361</td>\n",
              "      <td>4.737968</td>\n",
              "      <td>3.724073e+07</td>\n",
              "      <td>364.106378</td>\n",
              "      <td>421.965728</td>\n",
              "      <td>3858.850242</td>\n",
              "      <td>1.454190e+06</td>\n",
              "      <td>618.937180</td>\n",
              "      <td>55.371692</td>\n",
              "      <td>158.738971</td>\n",
              "      <td>238.828812</td>\n",
              "      <td>2667.682650</td>\n",
              "      <td>62.105876</td>\n",
              "      <td>817.093491</td>\n",
              "      <td>1174.621985</td>\n",
              "      <td>2.348509e+07</td>\n",
              "      <td>2.727351e+05</td>\n",
              "      <td>4.872676e+06</td>\n",
              "      <td>9.915489e+06</td>\n",
              "      <td>3.202428e+07</td>\n",
              "      <td>3.155030e+06</td>\n",
              "      <td>3.721579e+07</td>\n",
              "      <td>9.783012e+06</td>\n",
              "      <td>1.309209e+07</td>\n",
              "      <td>3.209203e+07</td>\n",
              "      <td>8.108421e+06</td>\n",
              "      <td>2.836729e+07</td>\n",
              "      <td>8.531263e+06</td>\n",
              "      <td>8.212071e+06</td>\n",
              "      <td>2.070359e+07</td>\n",
              "      <td>7.526471e+06</td>\n",
              "      <td>0.186576</td>\n",
              "      <td>0.009772</td>\n",
              "      <td>3.865090e+05</td>\n",
              "      <td>3.865304e+05</td>\n",
              "      <td>2.665324e+05</td>\n",
              "      <td>3.733633e+04</td>\n",
              "      <td>23.000785</td>\n",
              "      <td>2699.393195</td>\n",
              "      <td>394.531874</td>\n",
              "      <td>851.827223</td>\n",
              "      <td>2.321479e+06</td>\n",
              "      <td>0.232374</td>\n",
              "      <td>0.186576</td>\n",
              "      <td>0.012824</td>\n",
              "      <td>0.476535</td>\n",
              "      <td>0.477094</td>\n",
              "      <td>0.252321</td>\n",
              "      <td>0.009772</td>\n",
              "      <td>0.013231</td>\n",
              "      <td>0.648263</td>\n",
              "      <td>432.349886</td>\n",
              "      <td>158.738971</td>\n",
              "      <td>817.093491</td>\n",
              "      <td>364.106378</td>\n",
              "      <td>3858.850242</td>\n",
              "      <td>421.965728</td>\n",
              "      <td>1.454292e+06</td>\n",
              "      <td>13565.260196</td>\n",
              "      <td>7247.906478</td>\n",
              "      <td>355.424245</td>\n",
              "      <td>1.932191e+05</td>\n",
              "      <td>6.619472e+05</td>\n",
              "      <td>3.716482e+05</td>\n",
              "      <td>9.742883e+05</td>\n",
              "      <td>5.992893e+05</td>\n",
              "      <td>3.123964e+07</td>\n",
              "      <td>5.987927e+06</td>\n",
              "      <td>3.206597e+07</td>\n",
              "      <td>3.101737e+07</td>\n",
              "    </tr>\n",
              "    <tr>\n",
              "      <th>min</th>\n",
              "      <td>1.000000</td>\n",
              "      <td>1.000000</td>\n",
              "      <td>1.000000</td>\n",
              "      <td>1.000000</td>\n",
              "      <td>1.000000</td>\n",
              "      <td>1.000000</td>\n",
              "      <td>1.000000</td>\n",
              "      <td>0.000000</td>\n",
              "      <td>0.000000</td>\n",
              "      <td>0.000000</td>\n",
              "      <td>-2.000000e+00</td>\n",
              "      <td>1.000000</td>\n",
              "      <td>0.000000</td>\n",
              "      <td>0.000000</td>\n",
              "      <td>0.000000e+00</td>\n",
              "      <td>0.000000</td>\n",
              "      <td>0.000000</td>\n",
              "      <td>0.000000</td>\n",
              "      <td>0.000000</td>\n",
              "      <td>0.000000</td>\n",
              "      <td>0.000000</td>\n",
              "      <td>0.000000</td>\n",
              "      <td>0.000000</td>\n",
              "      <td>-1.200000e+07</td>\n",
              "      <td>-2.000000e+06</td>\n",
              "      <td>-2.000000e+00</td>\n",
              "      <td>0.000000e+00</td>\n",
              "      <td>-2.000000e+00</td>\n",
              "      <td>-1.400000e+01</td>\n",
              "      <td>0.000000e+00</td>\n",
              "      <td>0.000000e+00</td>\n",
              "      <td>0.000000e+00</td>\n",
              "      <td>0.000000e+00</td>\n",
              "      <td>0.000000e+00</td>\n",
              "      <td>0.000000e+00</td>\n",
              "      <td>0.000000e+00</td>\n",
              "      <td>0.000000e+00</td>\n",
              "      <td>0.000000e+00</td>\n",
              "      <td>0.000000e+00</td>\n",
              "      <td>0.000000</td>\n",
              "      <td>0.000000</td>\n",
              "      <td>-1.677705e+08</td>\n",
              "      <td>-1.677705e+08</td>\n",
              "      <td>0.000000e+00</td>\n",
              "      <td>0.000000e+00</td>\n",
              "      <td>0.000000</td>\n",
              "      <td>0.000000</td>\n",
              "      <td>0.000000</td>\n",
              "      <td>0.000000</td>\n",
              "      <td>0.000000e+00</td>\n",
              "      <td>0.000000</td>\n",
              "      <td>0.000000</td>\n",
              "      <td>0.000000</td>\n",
              "      <td>0.000000</td>\n",
              "      <td>0.000000</td>\n",
              "      <td>0.000000</td>\n",
              "      <td>0.000000</td>\n",
              "      <td>0.000000</td>\n",
              "      <td>0.000000</td>\n",
              "      <td>0.000000</td>\n",
              "      <td>0.000000</td>\n",
              "      <td>0.000000</td>\n",
              "      <td>1.000000</td>\n",
              "      <td>0.000000</td>\n",
              "      <td>0.000000</td>\n",
              "      <td>0.000000e+00</td>\n",
              "      <td>-1.000000</td>\n",
              "      <td>-1.000000</td>\n",
              "      <td>0.000000</td>\n",
              "      <td>-8.388531e+07</td>\n",
              "      <td>0.000000e+00</td>\n",
              "      <td>0.000000e+00</td>\n",
              "      <td>0.000000e+00</td>\n",
              "      <td>0.000000e+00</td>\n",
              "      <td>0.000000e+00</td>\n",
              "      <td>0.000000e+00</td>\n",
              "      <td>0.000000e+00</td>\n",
              "      <td>0.000000e+00</td>\n",
              "    </tr>\n",
              "    <tr>\n",
              "      <th>25%</th>\n",
              "      <td>1.000000</td>\n",
              "      <td>1.000000</td>\n",
              "      <td>4.000000</td>\n",
              "      <td>2.000000</td>\n",
              "      <td>1.000000</td>\n",
              "      <td>8.000000</td>\n",
              "      <td>11.000000</td>\n",
              "      <td>35960.000000</td>\n",
              "      <td>53.000000</td>\n",
              "      <td>6.000000</td>\n",
              "      <td>8.100000e+01</td>\n",
              "      <td>1.000000</td>\n",
              "      <td>1.000000</td>\n",
              "      <td>2.000000</td>\n",
              "      <td>4.000000e+00</td>\n",
              "      <td>2.000000</td>\n",
              "      <td>0.000000</td>\n",
              "      <td>2.000000</td>\n",
              "      <td>0.000000</td>\n",
              "      <td>2.000000</td>\n",
              "      <td>0.000000</td>\n",
              "      <td>2.000000</td>\n",
              "      <td>0.000000</td>\n",
              "      <td>1.187398e+02</td>\n",
              "      <td>1.091799e+00</td>\n",
              "      <td>6.000000e+01</td>\n",
              "      <td>0.000000e+00</td>\n",
              "      <td>7.700000e+01</td>\n",
              "      <td>3.000000e+00</td>\n",
              "      <td>0.000000e+00</td>\n",
              "      <td>0.000000e+00</td>\n",
              "      <td>0.000000e+00</td>\n",
              "      <td>0.000000e+00</td>\n",
              "      <td>0.000000e+00</td>\n",
              "      <td>0.000000e+00</td>\n",
              "      <td>0.000000e+00</td>\n",
              "      <td>0.000000e+00</td>\n",
              "      <td>0.000000e+00</td>\n",
              "      <td>0.000000e+00</td>\n",
              "      <td>0.000000</td>\n",
              "      <td>0.000000</td>\n",
              "      <td>4.000000e+01</td>\n",
              "      <td>2.000000e+01</td>\n",
              "      <td>7.514426e-01</td>\n",
              "      <td>6.150911e-02</td>\n",
              "      <td>0.000000</td>\n",
              "      <td>6.000000</td>\n",
              "      <td>3.333333</td>\n",
              "      <td>2.190890</td>\n",
              "      <td>4.800000e+00</td>\n",
              "      <td>0.000000</td>\n",
              "      <td>0.000000</td>\n",
              "      <td>0.000000</td>\n",
              "      <td>0.000000</td>\n",
              "      <td>0.000000</td>\n",
              "      <td>0.000000</td>\n",
              "      <td>0.000000</td>\n",
              "      <td>0.000000</td>\n",
              "      <td>0.000000</td>\n",
              "      <td>5.000000</td>\n",
              "      <td>2.000000</td>\n",
              "      <td>2.000000</td>\n",
              "      <td>1.000000</td>\n",
              "      <td>2.000000</td>\n",
              "      <td>1.000000</td>\n",
              "      <td>4.000000e+00</td>\n",
              "      <td>0.000000</td>\n",
              "      <td>-1.000000</td>\n",
              "      <td>0.000000</td>\n",
              "      <td>2.000000e+01</td>\n",
              "      <td>0.000000e+00</td>\n",
              "      <td>0.000000e+00</td>\n",
              "      <td>0.000000e+00</td>\n",
              "      <td>0.000000e+00</td>\n",
              "      <td>0.000000e+00</td>\n",
              "      <td>0.000000e+00</td>\n",
              "      <td>0.000000e+00</td>\n",
              "      <td>0.000000e+00</td>\n",
              "    </tr>\n",
              "    <tr>\n",
              "      <th>50%</th>\n",
              "      <td>1.000000</td>\n",
              "      <td>16.000000</td>\n",
              "      <td>37.000000</td>\n",
              "      <td>48.000000</td>\n",
              "      <td>1.000000</td>\n",
              "      <td>60.000000</td>\n",
              "      <td>64.000000</td>\n",
              "      <td>50181.000000</td>\n",
              "      <td>80.000000</td>\n",
              "      <td>6.000000</td>\n",
              "      <td>4.057600e+04</td>\n",
              "      <td>2.000000</td>\n",
              "      <td>2.000000</td>\n",
              "      <td>51.000000</td>\n",
              "      <td>1.150000e+02</td>\n",
              "      <td>32.000000</td>\n",
              "      <td>0.000000</td>\n",
              "      <td>27.000000</td>\n",
              "      <td>0.000000</td>\n",
              "      <td>72.000000</td>\n",
              "      <td>0.000000</td>\n",
              "      <td>65.000000</td>\n",
              "      <td>0.000000</td>\n",
              "      <td>3.547589e+03</td>\n",
              "      <td>8.879680e+01</td>\n",
              "      <td>1.426800e+04</td>\n",
              "      <td>4.794877e+03</td>\n",
              "      <td>3.180800e+04</td>\n",
              "      <td>4.000000e+00</td>\n",
              "      <td>4.900000e+01</td>\n",
              "      <td>4.900000e+01</td>\n",
              "      <td>0.000000e+00</td>\n",
              "      <td>4.900000e+01</td>\n",
              "      <td>3.000000e+00</td>\n",
              "      <td>3.000000e+00</td>\n",
              "      <td>3.000000e+00</td>\n",
              "      <td>0.000000e+00</td>\n",
              "      <td>3.000000e+00</td>\n",
              "      <td>1.000000e+00</td>\n",
              "      <td>0.000000</td>\n",
              "      <td>0.000000</td>\n",
              "      <td>6.400000e+01</td>\n",
              "      <td>4.000000e+01</td>\n",
              "      <td>4.670976e+01</td>\n",
              "      <td>1.065553e+01</td>\n",
              "      <td>0.000000</td>\n",
              "      <td>80.000000</td>\n",
              "      <td>54.666667</td>\n",
              "      <td>21.685248</td>\n",
              "      <td>4.702500e+02</td>\n",
              "      <td>0.000000</td>\n",
              "      <td>0.000000</td>\n",
              "      <td>0.000000</td>\n",
              "      <td>0.000000</td>\n",
              "      <td>0.000000</td>\n",
              "      <td>0.000000</td>\n",
              "      <td>0.000000</td>\n",
              "      <td>0.000000</td>\n",
              "      <td>1.000000</td>\n",
              "      <td>70.250000</td>\n",
              "      <td>27.000000</td>\n",
              "      <td>65.000000</td>\n",
              "      <td>2.000000</td>\n",
              "      <td>51.000000</td>\n",
              "      <td>2.000000</td>\n",
              "      <td>1.150000e+02</td>\n",
              "      <td>256.000000</td>\n",
              "      <td>0.000000</td>\n",
              "      <td>1.000000</td>\n",
              "      <td>2.400000e+01</td>\n",
              "      <td>0.000000e+00</td>\n",
              "      <td>0.000000e+00</td>\n",
              "      <td>0.000000e+00</td>\n",
              "      <td>0.000000e+00</td>\n",
              "      <td>0.000000e+00</td>\n",
              "      <td>0.000000e+00</td>\n",
              "      <td>0.000000e+00</td>\n",
              "      <td>0.000000e+00</td>\n",
              "    </tr>\n",
              "    <tr>\n",
              "      <th>75%</th>\n",
              "      <td>2.000000</td>\n",
              "      <td>95.000000</td>\n",
              "      <td>99.000000</td>\n",
              "      <td>96.000000</td>\n",
              "      <td>2.000000</td>\n",
              "      <td>99.000000</td>\n",
              "      <td>99.000000</td>\n",
              "      <td>57348.000000</td>\n",
              "      <td>443.000000</td>\n",
              "      <td>6.000000</td>\n",
              "      <td>6.817418e+06</td>\n",
              "      <td>5.000000</td>\n",
              "      <td>5.000000</td>\n",
              "      <td>311.000000</td>\n",
              "      <td>4.256000e+03</td>\n",
              "      <td>201.000000</td>\n",
              "      <td>8.000000</td>\n",
              "      <td>49.000000</td>\n",
              "      <td>73.499150</td>\n",
              "      <td>1460.000000</td>\n",
              "      <td>23.000000</td>\n",
              "      <td>454.142512</td>\n",
              "      <td>631.195401</td>\n",
              "      <td>1.355932e+05</td>\n",
              "      <td>2.721088e+04</td>\n",
              "      <td>1.064177e+06</td>\n",
              "      <td>2.267229e+06</td>\n",
              "      <td>5.766194e+06</td>\n",
              "      <td>5.400000e+01</td>\n",
              "      <td>5.912571e+06</td>\n",
              "      <td>1.313678e+06</td>\n",
              "      <td>2.022685e+06</td>\n",
              "      <td>5.549644e+06</td>\n",
              "      <td>4.800000e+01</td>\n",
              "      <td>1.478330e+05</td>\n",
              "      <td>2.953900e+04</td>\n",
              "      <td>4.630722e+04</td>\n",
              "      <td>1.322030e+05</td>\n",
              "      <td>4.600000e+01</td>\n",
              "      <td>0.000000</td>\n",
              "      <td>0.000000</td>\n",
              "      <td>1.440000e+02</td>\n",
              "      <td>1.320000e+02</td>\n",
              "      <td>1.395349e+04</td>\n",
              "      <td>8.658009e+03</td>\n",
              "      <td>6.000000</td>\n",
              "      <td>1489.000000</td>\n",
              "      <td>284.565336</td>\n",
              "      <td>533.916876</td>\n",
              "      <td>2.850672e+05</td>\n",
              "      <td>0.000000</td>\n",
              "      <td>0.000000</td>\n",
              "      <td>0.000000</td>\n",
              "      <td>1.000000</td>\n",
              "      <td>1.000000</td>\n",
              "      <td>0.000000</td>\n",
              "      <td>0.000000</td>\n",
              "      <td>0.000000</td>\n",
              "      <td>1.000000</td>\n",
              "      <td>300.811966</td>\n",
              "      <td>49.000000</td>\n",
              "      <td>454.142512</td>\n",
              "      <td>5.000000</td>\n",
              "      <td>311.000000</td>\n",
              "      <td>5.000000</td>\n",
              "      <td>4.256000e+03</td>\n",
              "      <td>8192.000000</td>\n",
              "      <td>235.000000</td>\n",
              "      <td>2.000000</td>\n",
              "      <td>3.200000e+01</td>\n",
              "      <td>0.000000e+00</td>\n",
              "      <td>0.000000e+00</td>\n",
              "      <td>0.000000e+00</td>\n",
              "      <td>0.000000e+00</td>\n",
              "      <td>5.281430e+06</td>\n",
              "      <td>0.000000e+00</td>\n",
              "      <td>5.282144e+06</td>\n",
              "      <td>5.158305e+06</td>\n",
              "    </tr>\n",
              "    <tr>\n",
              "      <th>max</th>\n",
              "      <td>100.000000</td>\n",
              "      <td>100.000000</td>\n",
              "      <td>100.000000</td>\n",
              "      <td>100.000000</td>\n",
              "      <td>100.000000</td>\n",
              "      <td>100.000000</td>\n",
              "      <td>100.000000</td>\n",
              "      <td>65536.000000</td>\n",
              "      <td>65536.000000</td>\n",
              "      <td>17.000000</td>\n",
              "      <td>1.199999e+08</td>\n",
              "      <td>155812.000000</td>\n",
              "      <td>179415.000000</td>\n",
              "      <td>917301.000000</td>\n",
              "      <td>6.270000e+08</td>\n",
              "      <td>24820.000000</td>\n",
              "      <td>1983.000000</td>\n",
              "      <td>3917.928571</td>\n",
              "      <td>5796.500690</td>\n",
              "      <td>14480.000000</td>\n",
              "      <td>1702.000000</td>\n",
              "      <td>3927.262213</td>\n",
              "      <td>6715.738331</td>\n",
              "      <td>2.071000e+09</td>\n",
              "      <td>4.000000e+06</td>\n",
              "      <td>1.180000e+08</td>\n",
              "      <td>8.480000e+07</td>\n",
              "      <td>1.200000e+08</td>\n",
              "      <td>1.180000e+08</td>\n",
              "      <td>1.200000e+08</td>\n",
              "      <td>1.200000e+08</td>\n",
              "      <td>8.340000e+07</td>\n",
              "      <td>1.200000e+08</td>\n",
              "      <td>1.200000e+08</td>\n",
              "      <td>1.200000e+08</td>\n",
              "      <td>1.200000e+08</td>\n",
              "      <td>8.270401e+07</td>\n",
              "      <td>1.200000e+08</td>\n",
              "      <td>1.200000e+08</td>\n",
              "      <td>1.000000</td>\n",
              "      <td>1.000000</td>\n",
              "      <td>3.162564e+06</td>\n",
              "      <td>3.588312e+06</td>\n",
              "      <td>3.000000e+06</td>\n",
              "      <td>2.000000e+06</td>\n",
              "      <td>1359.000000</td>\n",
              "      <td>24820.000000</td>\n",
              "      <td>2119.741935</td>\n",
              "      <td>4731.522394</td>\n",
              "      <td>2.240000e+07</td>\n",
              "      <td>1.000000</td>\n",
              "      <td>1.000000</td>\n",
              "      <td>1.000000</td>\n",
              "      <td>1.000000</td>\n",
              "      <td>1.000000</td>\n",
              "      <td>1.000000</td>\n",
              "      <td>1.000000</td>\n",
              "      <td>1.000000</td>\n",
              "      <td>43.000000</td>\n",
              "      <td>2357.000000</td>\n",
              "      <td>3917.928571</td>\n",
              "      <td>3927.262213</td>\n",
              "      <td>155812.000000</td>\n",
              "      <td>917301.000000</td>\n",
              "      <td>179415.000000</td>\n",
              "      <td>6.270406e+08</td>\n",
              "      <td>65535.000000</td>\n",
              "      <td>65535.000000</td>\n",
              "      <td>152621.000000</td>\n",
              "      <td>1.380000e+02</td>\n",
              "      <td>1.070000e+08</td>\n",
              "      <td>4.230000e+07</td>\n",
              "      <td>1.070000e+08</td>\n",
              "      <td>1.070000e+08</td>\n",
              "      <td>1.200000e+08</td>\n",
              "      <td>7.260000e+07</td>\n",
              "      <td>1.200000e+08</td>\n",
              "      <td>1.200000e+08</td>\n",
              "    </tr>\n",
              "  </tbody>\n",
              "</table>\n",
              "</div>"
            ],
            "text/plain": [
              "       dst sport count  src dport count  ...      Idle Max      Idle Min\n",
              "count    188483.000000    188483.000000  ...  1.884830e+05  1.884830e+05\n",
              "mean          9.625308        37.861701  ...  1.473072e+07  1.352238e+07\n",
              "std          25.759133        40.995800  ...  3.206597e+07  3.101737e+07\n",
              "min           1.000000         1.000000  ...  0.000000e+00  0.000000e+00\n",
              "25%           1.000000         1.000000  ...  0.000000e+00  0.000000e+00\n",
              "50%           1.000000        16.000000  ...  0.000000e+00  0.000000e+00\n",
              "75%           2.000000        95.000000  ...  5.282144e+06  5.158305e+06\n",
              "max         100.000000       100.000000  ...  1.200000e+08  1.200000e+08\n",
              "\n",
              "[8 rows x 78 columns]"
            ]
          },
          "metadata": {
            "tags": []
          },
          "execution_count": 13
        }
      ]
    },
    {
      "cell_type": "code",
      "metadata": {
        "colab": {
          "base_uri": "https://localhost:8080/",
          "height": 338
        },
        "id": "cwCbias_Zwca",
        "outputId": "ed873831-742c-440e-b354-376f2fe613f9"
      },
      "source": [
        "df_val.describe()"
      ],
      "execution_count": null,
      "outputs": [
        {
          "output_type": "execute_result",
          "data": {
            "text/html": [
              "<div>\n",
              "<style scoped>\n",
              "    .dataframe tbody tr th:only-of-type {\n",
              "        vertical-align: middle;\n",
              "    }\n",
              "\n",
              "    .dataframe tbody tr th {\n",
              "        vertical-align: top;\n",
              "    }\n",
              "\n",
              "    .dataframe thead th {\n",
              "        text-align: right;\n",
              "    }\n",
              "</style>\n",
              "<table border=\"1\" class=\"dataframe\">\n",
              "  <thead>\n",
              "    <tr style=\"text-align: right;\">\n",
              "      <th></th>\n",
              "      <th>dst sport count</th>\n",
              "      <th>src dport count</th>\n",
              "      <th>dst src count</th>\n",
              "      <th>dport count</th>\n",
              "      <th>sport count</th>\n",
              "      <th>dst host count</th>\n",
              "      <th>src host count</th>\n",
              "      <th>Source Port</th>\n",
              "      <th>Destination Port</th>\n",
              "      <th>Protocol</th>\n",
              "      <th>Flow Duration</th>\n",
              "      <th>Total Fwd Packets</th>\n",
              "      <th>Total Backward Packets</th>\n",
              "      <th>Total Length of Fwd Packets</th>\n",
              "      <th>Total Length of Bwd Packets</th>\n",
              "      <th>Fwd Packet Length Max</th>\n",
              "      <th>Fwd Packet Length Min</th>\n",
              "      <th>Fwd Packet Length Mean</th>\n",
              "      <th>Fwd Packet Length Std</th>\n",
              "      <th>Bwd Packet Length Max</th>\n",
              "      <th>Bwd Packet Length Min</th>\n",
              "      <th>Bwd Packet Length Mean</th>\n",
              "      <th>Bwd Packet Length Std</th>\n",
              "      <th>Flow Bytes/s</th>\n",
              "      <th>Flow Packets/s</th>\n",
              "      <th>Flow IAT Mean</th>\n",
              "      <th>Flow IAT Std</th>\n",
              "      <th>Flow IAT Max</th>\n",
              "      <th>Flow IAT Min</th>\n",
              "      <th>Fwd IAT Total</th>\n",
              "      <th>Fwd IAT Mean</th>\n",
              "      <th>Fwd IAT Std</th>\n",
              "      <th>Fwd IAT Max</th>\n",
              "      <th>Fwd IAT Min</th>\n",
              "      <th>Bwd IAT Total</th>\n",
              "      <th>Bwd IAT Mean</th>\n",
              "      <th>Bwd IAT Std</th>\n",
              "      <th>Bwd IAT Max</th>\n",
              "      <th>Bwd IAT Min</th>\n",
              "      <th>Fwd PSH Flags</th>\n",
              "      <th>Fwd URG Flags</th>\n",
              "      <th>Fwd Header Length</th>\n",
              "      <th>Bwd Header Length</th>\n",
              "      <th>Fwd Packets/s</th>\n",
              "      <th>Bwd Packets/s</th>\n",
              "      <th>Min Packet Length</th>\n",
              "      <th>Max Packet Length</th>\n",
              "      <th>Packet Length Mean</th>\n",
              "      <th>Packet Length Std</th>\n",
              "      <th>Packet Length Variance</th>\n",
              "      <th>FIN Flag Count</th>\n",
              "      <th>SYN Flag Count</th>\n",
              "      <th>RST Flag Count</th>\n",
              "      <th>PSH Flag Count</th>\n",
              "      <th>ACK Flag Count</th>\n",
              "      <th>URG Flag Count</th>\n",
              "      <th>CWE Flag Count</th>\n",
              "      <th>ECE Flag Count</th>\n",
              "      <th>Down/Up Ratio</th>\n",
              "      <th>Average Packet Size</th>\n",
              "      <th>Avg Fwd Segment Size</th>\n",
              "      <th>Avg Bwd Segment Size</th>\n",
              "      <th>Subflow Fwd Packets</th>\n",
              "      <th>Subflow Fwd Bytes</th>\n",
              "      <th>Subflow Bwd Packets</th>\n",
              "      <th>Subflow Bwd Bytes</th>\n",
              "      <th>Init_Win_bytes_forward</th>\n",
              "      <th>Init_Win_bytes_backward</th>\n",
              "      <th>act_data_pkt_fwd</th>\n",
              "      <th>min_seg_size_forward</th>\n",
              "      <th>Active Mean</th>\n",
              "      <th>Active Std</th>\n",
              "      <th>Active Max</th>\n",
              "      <th>Active Min</th>\n",
              "      <th>Idle Mean</th>\n",
              "      <th>Idle Std</th>\n",
              "      <th>Idle Max</th>\n",
              "      <th>Idle Min</th>\n",
              "    </tr>\n",
              "  </thead>\n",
              "  <tbody>\n",
              "    <tr>\n",
              "      <th>count</th>\n",
              "      <td>188484.000000</td>\n",
              "      <td>188484.000000</td>\n",
              "      <td>188484.000000</td>\n",
              "      <td>188484.000000</td>\n",
              "      <td>188484.000000</td>\n",
              "      <td>188484.000000</td>\n",
              "      <td>188484.000000</td>\n",
              "      <td>188484.000000</td>\n",
              "      <td>188484.000000</td>\n",
              "      <td>188484.000000</td>\n",
              "      <td>1.884840e+05</td>\n",
              "      <td>188484.000000</td>\n",
              "      <td>188484.000000</td>\n",
              "      <td>1.884840e+05</td>\n",
              "      <td>1.884840e+05</td>\n",
              "      <td>188484.000000</td>\n",
              "      <td>188484.000000</td>\n",
              "      <td>188484.000000</td>\n",
              "      <td>188484.000000</td>\n",
              "      <td>188484.000000</td>\n",
              "      <td>188484.000000</td>\n",
              "      <td>188484.000000</td>\n",
              "      <td>188484.000000</td>\n",
              "      <td>1.884840e+05</td>\n",
              "      <td>1.884840e+05</td>\n",
              "      <td>1.884840e+05</td>\n",
              "      <td>1.884840e+05</td>\n",
              "      <td>1.884840e+05</td>\n",
              "      <td>1.884840e+05</td>\n",
              "      <td>1.884840e+05</td>\n",
              "      <td>1.884840e+05</td>\n",
              "      <td>1.884840e+05</td>\n",
              "      <td>1.884840e+05</td>\n",
              "      <td>1.884840e+05</td>\n",
              "      <td>1.884840e+05</td>\n",
              "      <td>1.884840e+05</td>\n",
              "      <td>1.884840e+05</td>\n",
              "      <td>1.884840e+05</td>\n",
              "      <td>1.884840e+05</td>\n",
              "      <td>188484.000000</td>\n",
              "      <td>188484.000000</td>\n",
              "      <td>1.884840e+05</td>\n",
              "      <td>1.884840e+05</td>\n",
              "      <td>1.884840e+05</td>\n",
              "      <td>1.884840e+05</td>\n",
              "      <td>188484.000000</td>\n",
              "      <td>188484.000000</td>\n",
              "      <td>188484.000000</td>\n",
              "      <td>188484.000000</td>\n",
              "      <td>1.884840e+05</td>\n",
              "      <td>188484.000000</td>\n",
              "      <td>188484.000000</td>\n",
              "      <td>188484.000000</td>\n",
              "      <td>188484.000000</td>\n",
              "      <td>188484.000000</td>\n",
              "      <td>188484.000000</td>\n",
              "      <td>188484.000000</td>\n",
              "      <td>188484.000000</td>\n",
              "      <td>188484.000000</td>\n",
              "      <td>188484.000000</td>\n",
              "      <td>188484.000000</td>\n",
              "      <td>188484.000000</td>\n",
              "      <td>188484.000000</td>\n",
              "      <td>1.884840e+05</td>\n",
              "      <td>188484.000000</td>\n",
              "      <td>1.884840e+05</td>\n",
              "      <td>188484.000000</td>\n",
              "      <td>188484.000000</td>\n",
              "      <td>188484.000000</td>\n",
              "      <td>1.884840e+05</td>\n",
              "      <td>1.884840e+05</td>\n",
              "      <td>1.884840e+05</td>\n",
              "      <td>1.884840e+05</td>\n",
              "      <td>1.884840e+05</td>\n",
              "      <td>1.884840e+05</td>\n",
              "      <td>1.884840e+05</td>\n",
              "      <td>1.884840e+05</td>\n",
              "      <td>1.884840e+05</td>\n",
              "    </tr>\n",
              "    <tr>\n",
              "      <th>mean</th>\n",
              "      <td>9.731272</td>\n",
              "      <td>37.780172</td>\n",
              "      <td>49.883332</td>\n",
              "      <td>47.914115</td>\n",
              "      <td>10.539032</td>\n",
              "      <td>55.614689</td>\n",
              "      <td>57.218512</td>\n",
              "      <td>42898.015243</td>\n",
              "      <td>6422.896426</td>\n",
              "      <td>8.694239</td>\n",
              "      <td>1.924685e+07</td>\n",
              "      <td>7.434695</td>\n",
              "      <td>7.835328</td>\n",
              "      <td>4.390308e+02</td>\n",
              "      <td>1.180121e+04</td>\n",
              "      <td>178.156406</td>\n",
              "      <td>13.800163</td>\n",
              "      <td>48.024119</td>\n",
              "      <td>61.523877</td>\n",
              "      <td>1463.444457</td>\n",
              "      <td>29.060005</td>\n",
              "      <td>487.327309</td>\n",
              "      <td>600.629474</td>\n",
              "      <td>1.225907e+06</td>\n",
              "      <td>7.942923e+04</td>\n",
              "      <td>1.791008e+06</td>\n",
              "      <td>4.609148e+06</td>\n",
              "      <td>1.513562e+07</td>\n",
              "      <td>1.849447e+05</td>\n",
              "      <td>1.896832e+07</td>\n",
              "      <td>3.499186e+06</td>\n",
              "      <td>5.813441e+06</td>\n",
              "      <td>1.501155e+07</td>\n",
              "      <td>8.688593e+05</td>\n",
              "      <td>9.470943e+06</td>\n",
              "      <td>1.831885e+06</td>\n",
              "      <td>2.100258e+06</td>\n",
              "      <td>5.840577e+06</td>\n",
              "      <td>7.745564e+05</td>\n",
              "      <td>0.035764</td>\n",
              "      <td>0.000069</td>\n",
              "      <td>-6.292069e+04</td>\n",
              "      <td>-1.164520e+04</td>\n",
              "      <td>7.168020e+04</td>\n",
              "      <td>7.802082e+03</td>\n",
              "      <td>11.720783</td>\n",
              "      <td>1520.258568</td>\n",
              "      <td>249.863420</td>\n",
              "      <td>478.533085</td>\n",
              "      <td>9.479145e+05</td>\n",
              "      <td>0.056583</td>\n",
              "      <td>0.035764</td>\n",
              "      <td>0.000154</td>\n",
              "      <td>0.347573</td>\n",
              "      <td>0.352502</td>\n",
              "      <td>0.068372</td>\n",
              "      <td>0.000069</td>\n",
              "      <td>0.000154</td>\n",
              "      <td>0.660905</td>\n",
              "      <td>276.454458</td>\n",
              "      <td>48.024119</td>\n",
              "      <td>487.327309</td>\n",
              "      <td>7.434695</td>\n",
              "      <td>4.390308e+02</td>\n",
              "      <td>7.835328</td>\n",
              "      <td>1.179981e+04</td>\n",
              "      <td>7106.119968</td>\n",
              "      <td>1484.061920</td>\n",
              "      <td>3.641153</td>\n",
              "      <td>-8.963623e+03</td>\n",
              "      <td>9.042821e+04</td>\n",
              "      <td>3.565553e+04</td>\n",
              "      <td>1.450080e+05</td>\n",
              "      <td>6.899322e+04</td>\n",
              "      <td>1.407187e+07</td>\n",
              "      <td>8.205580e+05</td>\n",
              "      <td>1.469736e+07</td>\n",
              "      <td>1.346096e+07</td>\n",
              "    </tr>\n",
              "    <tr>\n",
              "      <th>std</th>\n",
              "      <td>25.915515</td>\n",
              "      <td>40.960165</td>\n",
              "      <td>44.147226</td>\n",
              "      <td>39.203217</td>\n",
              "      <td>26.082113</td>\n",
              "      <td>41.112314</td>\n",
              "      <td>40.531929</td>\n",
              "      <td>19646.086134</td>\n",
              "      <td>16145.734341</td>\n",
              "      <td>4.735494</td>\n",
              "      <td>3.709354e+07</td>\n",
              "      <td>561.529560</td>\n",
              "      <td>747.556849</td>\n",
              "      <td>6.996634e+03</td>\n",
              "      <td>1.668861e+06</td>\n",
              "      <td>604.186341</td>\n",
              "      <td>57.791361</td>\n",
              "      <td>160.261305</td>\n",
              "      <td>237.467628</td>\n",
              "      <td>2660.075880</td>\n",
              "      <td>60.839255</td>\n",
              "      <td>816.166175</td>\n",
              "      <td>1169.171476</td>\n",
              "      <td>2.482471e+07</td>\n",
              "      <td>2.735719e+05</td>\n",
              "      <td>4.871805e+06</td>\n",
              "      <td>9.865068e+06</td>\n",
              "      <td>3.198730e+07</td>\n",
              "      <td>3.220118e+06</td>\n",
              "      <td>3.705975e+07</td>\n",
              "      <td>9.655176e+06</td>\n",
              "      <td>1.307159e+07</td>\n",
              "      <td>3.205087e+07</td>\n",
              "      <td>7.956019e+06</td>\n",
              "      <td>2.804916e+07</td>\n",
              "      <td>8.424538e+06</td>\n",
              "      <td>8.163563e+06</td>\n",
              "      <td>2.053212e+07</td>\n",
              "      <td>7.404418e+06</td>\n",
              "      <td>0.185702</td>\n",
              "      <td>0.008305</td>\n",
              "      <td>2.253288e+07</td>\n",
              "      <td>3.503013e+06</td>\n",
              "      <td>2.672851e+05</td>\n",
              "      <td>3.867133e+04</td>\n",
              "      <td>22.334888</td>\n",
              "      <td>2689.274156</td>\n",
              "      <td>393.766139</td>\n",
              "      <td>847.928470</td>\n",
              "      <td>2.293114e+06</td>\n",
              "      <td>0.231045</td>\n",
              "      <td>0.185702</td>\n",
              "      <td>0.012403</td>\n",
              "      <td>0.476201</td>\n",
              "      <td>0.477751</td>\n",
              "      <td>0.252384</td>\n",
              "      <td>0.008305</td>\n",
              "      <td>0.012403</td>\n",
              "      <td>0.644010</td>\n",
              "      <td>431.481560</td>\n",
              "      <td>160.261305</td>\n",
              "      <td>816.166175</td>\n",
              "      <td>561.529560</td>\n",
              "      <td>6.996634e+03</td>\n",
              "      <td>747.556849</td>\n",
              "      <td>1.668515e+06</td>\n",
              "      <td>13575.776949</td>\n",
              "      <td>7232.426279</td>\n",
              "      <td>432.259086</td>\n",
              "      <td>2.150554e+06</td>\n",
              "      <td>6.988063e+05</td>\n",
              "      <td>3.908910e+05</td>\n",
              "      <td>9.990053e+05</td>\n",
              "      <td>6.307128e+05</td>\n",
              "      <td>3.116349e+07</td>\n",
              "      <td>6.075121e+06</td>\n",
              "      <td>3.201862e+07</td>\n",
              "      <td>3.093017e+07</td>\n",
              "    </tr>\n",
              "    <tr>\n",
              "      <th>min</th>\n",
              "      <td>1.000000</td>\n",
              "      <td>1.000000</td>\n",
              "      <td>1.000000</td>\n",
              "      <td>1.000000</td>\n",
              "      <td>1.000000</td>\n",
              "      <td>1.000000</td>\n",
              "      <td>1.000000</td>\n",
              "      <td>0.000000</td>\n",
              "      <td>0.000000</td>\n",
              "      <td>0.000000</td>\n",
              "      <td>-1.000000e+00</td>\n",
              "      <td>1.000000</td>\n",
              "      <td>0.000000</td>\n",
              "      <td>0.000000e+00</td>\n",
              "      <td>0.000000e+00</td>\n",
              "      <td>0.000000</td>\n",
              "      <td>0.000000</td>\n",
              "      <td>0.000000</td>\n",
              "      <td>0.000000</td>\n",
              "      <td>0.000000</td>\n",
              "      <td>0.000000</td>\n",
              "      <td>0.000000</td>\n",
              "      <td>0.000000</td>\n",
              "      <td>-1.200000e+07</td>\n",
              "      <td>-2.000000e+06</td>\n",
              "      <td>-1.000000e+00</td>\n",
              "      <td>0.000000e+00</td>\n",
              "      <td>-1.000000e+00</td>\n",
              "      <td>-1.300000e+01</td>\n",
              "      <td>0.000000e+00</td>\n",
              "      <td>0.000000e+00</td>\n",
              "      <td>0.000000e+00</td>\n",
              "      <td>0.000000e+00</td>\n",
              "      <td>-1.000000e+00</td>\n",
              "      <td>0.000000e+00</td>\n",
              "      <td>0.000000e+00</td>\n",
              "      <td>0.000000e+00</td>\n",
              "      <td>0.000000e+00</td>\n",
              "      <td>0.000000e+00</td>\n",
              "      <td>0.000000</td>\n",
              "      <td>0.000000</td>\n",
              "      <td>-9.663668e+09</td>\n",
              "      <td>-1.073741e+09</td>\n",
              "      <td>0.000000e+00</td>\n",
              "      <td>0.000000e+00</td>\n",
              "      <td>0.000000</td>\n",
              "      <td>0.000000</td>\n",
              "      <td>0.000000</td>\n",
              "      <td>0.000000</td>\n",
              "      <td>0.000000e+00</td>\n",
              "      <td>0.000000</td>\n",
              "      <td>0.000000</td>\n",
              "      <td>0.000000</td>\n",
              "      <td>0.000000</td>\n",
              "      <td>0.000000</td>\n",
              "      <td>0.000000</td>\n",
              "      <td>0.000000</td>\n",
              "      <td>0.000000</td>\n",
              "      <td>0.000000</td>\n",
              "      <td>0.000000</td>\n",
              "      <td>0.000000</td>\n",
              "      <td>0.000000</td>\n",
              "      <td>1.000000</td>\n",
              "      <td>0.000000e+00</td>\n",
              "      <td>0.000000</td>\n",
              "      <td>0.000000e+00</td>\n",
              "      <td>-1.000000</td>\n",
              "      <td>-1.000000</td>\n",
              "      <td>0.000000</td>\n",
              "      <td>-5.368707e+08</td>\n",
              "      <td>0.000000e+00</td>\n",
              "      <td>0.000000e+00</td>\n",
              "      <td>0.000000e+00</td>\n",
              "      <td>0.000000e+00</td>\n",
              "      <td>0.000000e+00</td>\n",
              "      <td>0.000000e+00</td>\n",
              "      <td>0.000000e+00</td>\n",
              "      <td>0.000000e+00</td>\n",
              "    </tr>\n",
              "    <tr>\n",
              "      <th>25%</th>\n",
              "      <td>1.000000</td>\n",
              "      <td>1.000000</td>\n",
              "      <td>4.000000</td>\n",
              "      <td>2.000000</td>\n",
              "      <td>1.000000</td>\n",
              "      <td>8.000000</td>\n",
              "      <td>11.000000</td>\n",
              "      <td>36032.000000</td>\n",
              "      <td>53.000000</td>\n",
              "      <td>6.000000</td>\n",
              "      <td>8.000000e+01</td>\n",
              "      <td>1.000000</td>\n",
              "      <td>1.000000</td>\n",
              "      <td>2.000000e+00</td>\n",
              "      <td>0.000000e+00</td>\n",
              "      <td>2.000000</td>\n",
              "      <td>0.000000</td>\n",
              "      <td>2.000000</td>\n",
              "      <td>0.000000</td>\n",
              "      <td>0.000000</td>\n",
              "      <td>0.000000</td>\n",
              "      <td>0.000000</td>\n",
              "      <td>0.000000</td>\n",
              "      <td>1.188367e+02</td>\n",
              "      <td>1.102465e+00</td>\n",
              "      <td>5.900000e+01</td>\n",
              "      <td>0.000000e+00</td>\n",
              "      <td>7.600000e+01</td>\n",
              "      <td>3.000000e+00</td>\n",
              "      <td>0.000000e+00</td>\n",
              "      <td>0.000000e+00</td>\n",
              "      <td>0.000000e+00</td>\n",
              "      <td>0.000000e+00</td>\n",
              "      <td>0.000000e+00</td>\n",
              "      <td>0.000000e+00</td>\n",
              "      <td>0.000000e+00</td>\n",
              "      <td>0.000000e+00</td>\n",
              "      <td>0.000000e+00</td>\n",
              "      <td>0.000000e+00</td>\n",
              "      <td>0.000000</td>\n",
              "      <td>0.000000</td>\n",
              "      <td>4.000000e+01</td>\n",
              "      <td>2.000000e+01</td>\n",
              "      <td>7.607826e-01</td>\n",
              "      <td>6.115542e-02</td>\n",
              "      <td>0.000000</td>\n",
              "      <td>6.000000</td>\n",
              "      <td>3.333333</td>\n",
              "      <td>2.190890</td>\n",
              "      <td>4.800000e+00</td>\n",
              "      <td>0.000000</td>\n",
              "      <td>0.000000</td>\n",
              "      <td>0.000000</td>\n",
              "      <td>0.000000</td>\n",
              "      <td>0.000000</td>\n",
              "      <td>0.000000</td>\n",
              "      <td>0.000000</td>\n",
              "      <td>0.000000</td>\n",
              "      <td>0.000000</td>\n",
              "      <td>5.000000</td>\n",
              "      <td>2.000000</td>\n",
              "      <td>0.000000</td>\n",
              "      <td>1.000000</td>\n",
              "      <td>2.000000e+00</td>\n",
              "      <td>1.000000</td>\n",
              "      <td>0.000000e+00</td>\n",
              "      <td>0.000000</td>\n",
              "      <td>-1.000000</td>\n",
              "      <td>0.000000</td>\n",
              "      <td>2.000000e+01</td>\n",
              "      <td>0.000000e+00</td>\n",
              "      <td>0.000000e+00</td>\n",
              "      <td>0.000000e+00</td>\n",
              "      <td>0.000000e+00</td>\n",
              "      <td>0.000000e+00</td>\n",
              "      <td>0.000000e+00</td>\n",
              "      <td>0.000000e+00</td>\n",
              "      <td>0.000000e+00</td>\n",
              "    </tr>\n",
              "    <tr>\n",
              "      <th>50%</th>\n",
              "      <td>1.000000</td>\n",
              "      <td>16.000000</td>\n",
              "      <td>37.000000</td>\n",
              "      <td>48.000000</td>\n",
              "      <td>1.000000</td>\n",
              "      <td>60.000000</td>\n",
              "      <td>64.000000</td>\n",
              "      <td>50188.000000</td>\n",
              "      <td>80.000000</td>\n",
              "      <td>6.000000</td>\n",
              "      <td>3.928400e+04</td>\n",
              "      <td>2.000000</td>\n",
              "      <td>2.000000</td>\n",
              "      <td>5.100000e+01</td>\n",
              "      <td>1.130000e+02</td>\n",
              "      <td>32.000000</td>\n",
              "      <td>0.000000</td>\n",
              "      <td>27.000000</td>\n",
              "      <td>0.000000</td>\n",
              "      <td>69.000000</td>\n",
              "      <td>0.000000</td>\n",
              "      <td>63.000000</td>\n",
              "      <td>0.000000</td>\n",
              "      <td>3.578308e+03</td>\n",
              "      <td>8.908289e+01</td>\n",
              "      <td>1.420612e+04</td>\n",
              "      <td>3.495541e+03</td>\n",
              "      <td>3.158100e+04</td>\n",
              "      <td>4.000000e+00</td>\n",
              "      <td>4.900000e+01</td>\n",
              "      <td>4.900000e+01</td>\n",
              "      <td>0.000000e+00</td>\n",
              "      <td>4.900000e+01</td>\n",
              "      <td>3.000000e+00</td>\n",
              "      <td>3.000000e+00</td>\n",
              "      <td>3.000000e+00</td>\n",
              "      <td>0.000000e+00</td>\n",
              "      <td>3.000000e+00</td>\n",
              "      <td>1.000000e+00</td>\n",
              "      <td>0.000000</td>\n",
              "      <td>0.000000</td>\n",
              "      <td>6.400000e+01</td>\n",
              "      <td>4.000000e+01</td>\n",
              "      <td>4.770885e+01</td>\n",
              "      <td>1.050464e+01</td>\n",
              "      <td>0.000000</td>\n",
              "      <td>79.000000</td>\n",
              "      <td>53.800000</td>\n",
              "      <td>21.361960</td>\n",
              "      <td>4.563333e+02</td>\n",
              "      <td>0.000000</td>\n",
              "      <td>0.000000</td>\n",
              "      <td>0.000000</td>\n",
              "      <td>0.000000</td>\n",
              "      <td>0.000000</td>\n",
              "      <td>0.000000</td>\n",
              "      <td>0.000000</td>\n",
              "      <td>0.000000</td>\n",
              "      <td>1.000000</td>\n",
              "      <td>69.000000</td>\n",
              "      <td>27.000000</td>\n",
              "      <td>63.000000</td>\n",
              "      <td>2.000000</td>\n",
              "      <td>5.100000e+01</td>\n",
              "      <td>2.000000</td>\n",
              "      <td>1.130000e+02</td>\n",
              "      <td>256.000000</td>\n",
              "      <td>0.000000</td>\n",
              "      <td>1.000000</td>\n",
              "      <td>2.400000e+01</td>\n",
              "      <td>0.000000e+00</td>\n",
              "      <td>0.000000e+00</td>\n",
              "      <td>0.000000e+00</td>\n",
              "      <td>0.000000e+00</td>\n",
              "      <td>0.000000e+00</td>\n",
              "      <td>0.000000e+00</td>\n",
              "      <td>0.000000e+00</td>\n",
              "      <td>0.000000e+00</td>\n",
              "    </tr>\n",
              "    <tr>\n",
              "      <th>75%</th>\n",
              "      <td>2.000000</td>\n",
              "      <td>95.000000</td>\n",
              "      <td>99.000000</td>\n",
              "      <td>95.000000</td>\n",
              "      <td>2.000000</td>\n",
              "      <td>99.000000</td>\n",
              "      <td>99.000000</td>\n",
              "      <td>57364.000000</td>\n",
              "      <td>443.000000</td>\n",
              "      <td>6.000000</td>\n",
              "      <td>6.542525e+06</td>\n",
              "      <td>5.000000</td>\n",
              "      <td>5.000000</td>\n",
              "      <td>3.090000e+02</td>\n",
              "      <td>4.160250e+03</td>\n",
              "      <td>201.000000</td>\n",
              "      <td>8.000000</td>\n",
              "      <td>48.857143</td>\n",
              "      <td>71.990846</td>\n",
              "      <td>1460.000000</td>\n",
              "      <td>6.000000</td>\n",
              "      <td>450.142857</td>\n",
              "      <td>626.148804</td>\n",
              "      <td>1.363636e+05</td>\n",
              "      <td>2.739726e+04</td>\n",
              "      <td>1.052813e+06</td>\n",
              "      <td>2.238775e+06</td>\n",
              "      <td>5.747710e+06</td>\n",
              "      <td>5.500000e+01</td>\n",
              "      <td>5.891722e+06</td>\n",
              "      <td>1.299830e+06</td>\n",
              "      <td>2.010913e+06</td>\n",
              "      <td>5.516472e+06</td>\n",
              "      <td>4.800000e+01</td>\n",
              "      <td>1.475672e+05</td>\n",
              "      <td>2.948245e+04</td>\n",
              "      <td>4.357338e+04</td>\n",
              "      <td>1.314200e+05</td>\n",
              "      <td>4.500000e+01</td>\n",
              "      <td>0.000000</td>\n",
              "      <td>0.000000</td>\n",
              "      <td>1.440000e+02</td>\n",
              "      <td>1.320000e+02</td>\n",
              "      <td>1.408451e+04</td>\n",
              "      <td>8.695652e+03</td>\n",
              "      <td>6.000000</td>\n",
              "      <td>1460.000000</td>\n",
              "      <td>280.125000</td>\n",
              "      <td>529.374420</td>\n",
              "      <td>2.802373e+05</td>\n",
              "      <td>0.000000</td>\n",
              "      <td>0.000000</td>\n",
              "      <td>0.000000</td>\n",
              "      <td>1.000000</td>\n",
              "      <td>1.000000</td>\n",
              "      <td>0.000000</td>\n",
              "      <td>0.000000</td>\n",
              "      <td>0.000000</td>\n",
              "      <td>1.000000</td>\n",
              "      <td>297.600000</td>\n",
              "      <td>48.857143</td>\n",
              "      <td>450.142857</td>\n",
              "      <td>5.000000</td>\n",
              "      <td>3.090000e+02</td>\n",
              "      <td>5.000000</td>\n",
              "      <td>4.160250e+03</td>\n",
              "      <td>8192.000000</td>\n",
              "      <td>235.000000</td>\n",
              "      <td>2.000000</td>\n",
              "      <td>3.200000e+01</td>\n",
              "      <td>0.000000e+00</td>\n",
              "      <td>0.000000e+00</td>\n",
              "      <td>0.000000e+00</td>\n",
              "      <td>0.000000e+00</td>\n",
              "      <td>5.202890e+06</td>\n",
              "      <td>0.000000e+00</td>\n",
              "      <td>5.202890e+06</td>\n",
              "      <td>5.116548e+06</td>\n",
              "    </tr>\n",
              "    <tr>\n",
              "      <th>max</th>\n",
              "      <td>100.000000</td>\n",
              "      <td>100.000000</td>\n",
              "      <td>100.000000</td>\n",
              "      <td>100.000000</td>\n",
              "      <td>100.000000</td>\n",
              "      <td>100.000000</td>\n",
              "      <td>100.000000</td>\n",
              "      <td>65536.000000</td>\n",
              "      <td>65536.000000</td>\n",
              "      <td>17.000000</td>\n",
              "      <td>1.200000e+08</td>\n",
              "      <td>193200.000000</td>\n",
              "      <td>256740.000000</td>\n",
              "      <td>2.321478e+06</td>\n",
              "      <td>5.756816e+08</td>\n",
              "      <td>23360.000000</td>\n",
              "      <td>1983.000000</td>\n",
              "      <td>5940.857143</td>\n",
              "      <td>7049.469004</td>\n",
              "      <td>15928.000000</td>\n",
              "      <td>1460.000000</td>\n",
              "      <td>5800.500000</td>\n",
              "      <td>8194.660487</td>\n",
              "      <td>2.071000e+09</td>\n",
              "      <td>3.000000e+06</td>\n",
              "      <td>1.200000e+08</td>\n",
              "      <td>8.480026e+07</td>\n",
              "      <td>1.200000e+08</td>\n",
              "      <td>1.200000e+08</td>\n",
              "      <td>1.200000e+08</td>\n",
              "      <td>1.200000e+08</td>\n",
              "      <td>8.441797e+07</td>\n",
              "      <td>1.200000e+08</td>\n",
              "      <td>1.200000e+08</td>\n",
              "      <td>1.200000e+08</td>\n",
              "      <td>1.200000e+08</td>\n",
              "      <td>8.441801e+07</td>\n",
              "      <td>1.200000e+08</td>\n",
              "      <td>1.200000e+08</td>\n",
              "      <td>1.000000</td>\n",
              "      <td>1.000000</td>\n",
              "      <td>3.939424e+06</td>\n",
              "      <td>5.134800e+06</td>\n",
              "      <td>3.000000e+06</td>\n",
              "      <td>2.000000e+06</td>\n",
              "      <td>1408.000000</td>\n",
              "      <td>23360.000000</td>\n",
              "      <td>2433.333333</td>\n",
              "      <td>4708.990311</td>\n",
              "      <td>2.220000e+07</td>\n",
              "      <td>1.000000</td>\n",
              "      <td>1.000000</td>\n",
              "      <td>1.000000</td>\n",
              "      <td>1.000000</td>\n",
              "      <td>1.000000</td>\n",
              "      <td>1.000000</td>\n",
              "      <td>1.000000</td>\n",
              "      <td>1.000000</td>\n",
              "      <td>27.000000</td>\n",
              "      <td>2539.130435</td>\n",
              "      <td>5940.857143</td>\n",
              "      <td>5800.500000</td>\n",
              "      <td>193200.000000</td>\n",
              "      <td>2.321478e+06</td>\n",
              "      <td>256740.000000</td>\n",
              "      <td>5.756816e+08</td>\n",
              "      <td>65535.000000</td>\n",
              "      <td>65535.000000</td>\n",
              "      <td>187113.000000</td>\n",
              "      <td>9.300000e+01</td>\n",
              "      <td>1.016597e+08</td>\n",
              "      <td>4.850000e+07</td>\n",
              "      <td>1.016597e+08</td>\n",
              "      <td>1.016597e+08</td>\n",
              "      <td>1.200000e+08</td>\n",
              "      <td>7.380000e+07</td>\n",
              "      <td>1.200000e+08</td>\n",
              "      <td>1.200000e+08</td>\n",
              "    </tr>\n",
              "  </tbody>\n",
              "</table>\n",
              "</div>"
            ],
            "text/plain": [
              "       dst sport count  src dport count  ...      Idle Max      Idle Min\n",
              "count    188484.000000    188484.000000  ...  1.884840e+05  1.884840e+05\n",
              "mean          9.731272        37.780172  ...  1.469736e+07  1.346096e+07\n",
              "std          25.915515        40.960165  ...  3.201862e+07  3.093017e+07\n",
              "min           1.000000         1.000000  ...  0.000000e+00  0.000000e+00\n",
              "25%           1.000000         1.000000  ...  0.000000e+00  0.000000e+00\n",
              "50%           1.000000        16.000000  ...  0.000000e+00  0.000000e+00\n",
              "75%           2.000000        95.000000  ...  5.202890e+06  5.116548e+06\n",
              "max         100.000000       100.000000  ...  1.200000e+08  1.200000e+08\n",
              "\n",
              "[8 rows x 78 columns]"
            ]
          },
          "metadata": {
            "tags": []
          },
          "execution_count": 14
        }
      ]
    },
    {
      "cell_type": "markdown",
      "metadata": {
        "id": "PPRHdJfBvHh8"
      },
      "source": [
        "# 3. Encoding Datasets"
      ]
    },
    {
      "cell_type": "markdown",
      "metadata": {
        "id": "8y1IPSDAvHh9"
      },
      "source": [
        "### Encoding train dataset"
      ]
    },
    {
      "cell_type": "code",
      "metadata": {
        "id": "CKTLyGZ7vHh9"
      },
      "source": [
        "df_label = df_train['Label']\n",
        "data = df_train.drop(columns=['Label'])\n",
        "Xtrain = data.values\n",
        "y_train = encode_label(df_label.values)"
      ],
      "execution_count": null,
      "outputs": []
    },
    {
      "cell_type": "markdown",
      "metadata": {
        "id": "RFZxIp7fvHh9"
      },
      "source": [
        "### Encoding test dataset"
      ]
    },
    {
      "cell_type": "code",
      "metadata": {
        "id": "TgoTgAU0vHh-"
      },
      "source": [
        "df_label = df_test['Label']\n",
        "data = df_test.drop(columns=['Label'])\n",
        "Xtest = data.values\n",
        "y_test = encode_label(df_label.values)"
      ],
      "execution_count": null,
      "outputs": []
    },
    {
      "cell_type": "markdown",
      "metadata": {
        "id": "MyGH56f7vHh-"
      },
      "source": [
        "### Encoding validation dataset"
      ]
    },
    {
      "cell_type": "code",
      "metadata": {
        "id": "SivIF1stvHh-"
      },
      "source": [
        "df_label = df_val['Label']\n",
        "data = df_val.drop(columns=['Label'])\n",
        "Xval = data.values\n",
        "y_val = encode_label(df_label.values)"
      ],
      "execution_count": null,
      "outputs": []
    },
    {
      "cell_type": "markdown",
      "metadata": {
        "id": "1nGe-QdIvHh_"
      },
      "source": [
        "# 4. Normalization\n",
        "\n",
        "The values of the datasets are normalized using the Min-Max scaling technique, bringing them all within a range of [0,1]."
      ]
    },
    {
      "cell_type": "code",
      "metadata": {
        "id": "8vxxgXJ2vHh_"
      },
      "source": [
        "from sklearn.preprocessing import MinMaxScaler"
      ],
      "execution_count": null,
      "outputs": []
    },
    {
      "cell_type": "code",
      "metadata": {
        "colab": {
          "base_uri": "https://localhost:8080/"
        },
        "id": "XuINV8oFvHiA",
        "outputId": "4b4058d6-0bd3-425b-e7d3-43ea00ac48c5"
      },
      "source": [
        "scaler = MinMaxScaler()\n",
        "X_train_n = scaler.fit_transform(Xtrain)\n",
        "X_train_n"
      ],
      "execution_count": null,
      "outputs": [
        {
          "output_type": "execute_result",
          "data": {
            "text/plain": [
              "array([[0.01010101, 1.        , 1.        , ..., 0.68650794, 0.71416667,\n",
              "        0.10166667],\n",
              "       [0.01010101, 0.22222222, 0.12121212, ..., 0.        , 0.        ,\n",
              "        0.        ],\n",
              "       [0.        , 0.01010101, 0.02020202, ..., 0.        , 0.        ,\n",
              "        0.        ],\n",
              "       ...,\n",
              "       [0.        , 0.12121212, 0.12121212, ..., 0.        , 0.        ,\n",
              "        0.        ],\n",
              "       [0.        , 0.87878788, 0.87878788, ..., 0.        , 0.        ,\n",
              "        0.        ],\n",
              "       [1.        , 0.        , 1.        , ..., 0.        , 0.        ,\n",
              "        0.        ]])"
            ]
          },
          "metadata": {
            "tags": []
          },
          "execution_count": 53
        }
      ]
    },
    {
      "cell_type": "code",
      "metadata": {
        "colab": {
          "base_uri": "https://localhost:8080/"
        },
        "id": "0AtGpK-RvHiA",
        "outputId": "62e4d9fc-8ac2-4969-8b08-17406bb16ba4"
      },
      "source": [
        "X_val_n = scaler.fit_transform(Xval)\n",
        "X_val_n"
      ],
      "execution_count": null,
      "outputs": [
        {
          "output_type": "execute_result",
          "data": {
            "text/plain": [
              "array([[0.        , 0.32323232, 0.32323232, ..., 0.        , 0.        ,\n",
              "        0.        ],\n",
              "       [0.        , 0.05050505, 0.05050505, ..., 0.        , 0.        ,\n",
              "        0.        ],\n",
              "       [0.02020202, 0.09090909, 0.02020202, ..., 0.        , 0.        ,\n",
              "        0.        ],\n",
              "       ...,\n",
              "       [0.        , 1.        , 1.        , ..., 0.        , 0.        ,\n",
              "        0.        ],\n",
              "       [0.        , 1.        , 1.        , ..., 0.        , 0.        ,\n",
              "        0.        ],\n",
              "       [0.        , 0.        , 0.96969697, ..., 0.        , 0.        ,\n",
              "        0.        ]])"
            ]
          },
          "metadata": {
            "tags": []
          },
          "execution_count": 54
        }
      ]
    },
    {
      "cell_type": "code",
      "metadata": {
        "colab": {
          "base_uri": "https://localhost:8080/"
        },
        "id": "_qTc3XStvHiB",
        "outputId": "96eb20f6-1751-43e5-ad99-96b3d328154b"
      },
      "source": [
        "X_test_n = scaler.fit_transform(Xtest)\n",
        "X_test_n"
      ],
      "execution_count": null,
      "outputs": [
        {
          "output_type": "execute_result",
          "data": {
            "text/plain": [
              "array([[0.        , 0.96969697, 0.96969697, ..., 0.        , 0.71583333,\n",
              "        0.71583333],\n",
              "       [0.        , 0.96969697, 0.96969697, ..., 0.        , 0.6975    ,\n",
              "        0.6975    ],\n",
              "       [0.        , 0.        , 1.        , ..., 0.        , 0.        ,\n",
              "        0.        ],\n",
              "       ...,\n",
              "       [0.        , 0.44444444, 0.08080808, ..., 0.        , 0.        ,\n",
              "        0.        ],\n",
              "       [0.        , 0.        , 0.78787879, ..., 0.        , 0.        ,\n",
              "        0.        ],\n",
              "       [0.        , 0.28282828, 0.28282828, ..., 0.        , 0.        ,\n",
              "        0.        ]])"
            ]
          },
          "metadata": {
            "tags": []
          },
          "execution_count": 55
        }
      ]
    },
    {
      "cell_type": "markdown",
      "metadata": {
        "id": "kanuAuCgvHiC"
      },
      "source": [
        "# 5. Standardization"
      ]
    },
    {
      "cell_type": "code",
      "metadata": {
        "id": "I-YSggL7vHiC"
      },
      "source": [
        "from sklearn.preprocessing import StandardScaler"
      ],
      "execution_count": null,
      "outputs": []
    },
    {
      "cell_type": "code",
      "metadata": {
        "colab": {
          "base_uri": "https://localhost:8080/"
        },
        "id": "JjL74X7BvHiD",
        "outputId": "c628bc4c-951c-4610-da09-e70bc00b716b"
      },
      "source": [
        "scaler = StandardScaler()\n",
        "\n",
        "X_train_sd = scaler.fit_transform(Xtrain)\n",
        "X_val_sd = scaler.fit_transform(Xval)\n",
        "X_test_sd = scaler.fit_transform(Xtest)\n",
        "\n",
        "X_train_sd"
      ],
      "execution_count": null,
      "outputs": [
        {
          "output_type": "execute_result",
          "data": {
            "text/plain": [
              "array([[-0.29659729,  1.51710965,  1.13640038, ...,  8.4581104 ,\n",
              "         2.22140524, -0.0393603 ],\n",
              "       [-0.29659729, -0.36301636, -0.83451004, ..., -0.13390608,\n",
              "        -0.45746381, -0.43398332],\n",
              "       [-0.33534125, -0.87577799, -1.06105146, ..., -0.13390608,\n",
              "        -0.45746381, -0.43398332],\n",
              "       ...,\n",
              "       [-0.33534125, -0.60718856, -0.83451004, ..., -0.13390608,\n",
              "        -0.45746381, -0.43398332],\n",
              "       [-0.33534125,  1.224103  ,  0.86455067, ..., -0.13390608,\n",
              "        -0.45746381, -0.43398332],\n",
              "       [ 3.50031109, -0.90019522,  1.13640038, ..., -0.13390608,\n",
              "        -0.45746381, -0.43398332]])"
            ]
          },
          "metadata": {
            "tags": []
          },
          "execution_count": 57
        }
      ]
    },
    {
      "cell_type": "markdown",
      "metadata": {
        "id": "fKNoh26gvHiD"
      },
      "source": [
        "# 6. One-hot Encoding for labels"
      ]
    },
    {
      "cell_type": "code",
      "metadata": {
        "id": "x11iohkMvHiE"
      },
      "source": [
        "from tensorflow.keras.utils import to_categorical"
      ],
      "execution_count": null,
      "outputs": []
    },
    {
      "cell_type": "code",
      "metadata": {
        "id": "UIEXTGrJvHiE"
      },
      "source": [
        "y_train_origin = y_train\n",
        "y_test_origin = y_test\n",
        "y_val_origin = y_val"
      ],
      "execution_count": null,
      "outputs": []
    },
    {
      "cell_type": "code",
      "metadata": {
        "id": "A-ScfKCPvHiF"
      },
      "source": [
        "y_train = to_categorical(y_train, 15)\n",
        "y_test = to_categorical(y_test, 15)\n",
        "y_val = to_categorical(y_val, 15)"
      ],
      "execution_count": null,
      "outputs": []
    },
    {
      "cell_type": "markdown",
      "metadata": {
        "id": "IqTMvyiWvHiF"
      },
      "source": [
        "# 7.  Define the Metrics"
      ]
    },
    {
      "cell_type": "code",
      "metadata": {
        "id": "xzwItRmGvHiF"
      },
      "source": [
        "import tensorflow as tf\n",
        "from sklearn.ensemble import RandomForestClassifier\n",
        "\n",
        "#importing confusion matrix\n",
        "from sklearn.metrics import confusion_matrix\n",
        "from sklearn.metrics import classification_report\n",
        "\n",
        "from sklearn import metrics\n",
        "from sklearn.metrics import accuracy_score\n",
        "\n",
        "#importing accuracy_score, precision_score, recall_score, f1_score\n",
        "from sklearn.metrics import accuracy_score, precision_score, recall_score, f1_score\n",
        "from sklearn.metrics import mean_squared_error,mean_absolute_error"
      ],
      "execution_count": null,
      "outputs": []
    },
    {
      "cell_type": "code",
      "metadata": {
        "id": "Kv6OxQ-svHiG"
      },
      "source": [
        "METRICS = [\n",
        "      tf.keras.metrics.TruePositives(name='tp'),\n",
        "      tf.keras.metrics.FalsePositives(name='fp'),\n",
        "      tf.keras.metrics.TrueNegatives(name='tn'),\n",
        "      tf.keras.metrics.FalseNegatives(name='fn'), \n",
        "      tf.keras.metrics.BinaryAccuracy(name='accuracy'),\n",
        "      tf.keras.metrics.Precision(name='precision'),\n",
        "      tf.keras.metrics.Recall(name='recall'),\n",
        "      tf.keras.metrics.AUC(name='auc'),\n",
        "]"
      ],
      "execution_count": null,
      "outputs": []
    },
    {
      "cell_type": "code",
      "metadata": {
        "id": "-kqePe1FvHiG"
      },
      "source": [
        "labels_d = make_value2index(df_test['Label'])"
      ],
      "execution_count": null,
      "outputs": []
    },
    {
      "cell_type": "code",
      "metadata": {
        "colab": {
          "base_uri": "https://localhost:8080/"
        },
        "id": "6cguiaUjvHiH",
        "outputId": "2eb93195-cbf2-4203-d152-5c8e95e1dc06"
      },
      "source": [
        "print(labels_d)"
      ],
      "execution_count": null,
      "outputs": [
        {
          "output_type": "stream",
          "text": [
            "{'BENIGN': 105018, 'Bot': 105298, 'DDoS': 124569, 'DoS GoldenEye': 126111, 'DoS Hulk': 160658, 'DoS Slowhttptest': 161486, 'DoS slowloris': 162320, 'FTP-Patator': 163498, 'Heartbleed': 163500, 'Infiltration': 163501, 'PortScan': 187347, 'SSH-Patator': 188173, 'Web Attack � Brute Force': 188382, 'Web Attack � Sql Injection': 188389, 'Web Attack � XSS': 188482}\n"
          ],
          "name": "stdout"
        }
      ]
    },
    {
      "cell_type": "markdown",
      "metadata": {
        "id": "F5eyOlt6vHiH"
      },
      "source": [
        "# First model:  Random Foresty with DecisionTree\n",
        "\n",
        "### The first model is Random Foresty with DecisionTree.  "
      ]
    },
    {
      "cell_type": "code",
      "metadata": {
        "id": "obmK6oYrvHiI"
      },
      "source": [
        "randomforest = RandomForestClassifier(n_estimators=10, random_state=10)\n",
        "randomforest.fit(X_train_n,y_train)\n",
        "    \n",
        "y_pred = randomforest.predict(X_test_n)"
      ],
      "execution_count": null,
      "outputs": []
    },
    {
      "cell_type": "code",
      "metadata": {
        "colab": {
          "base_uri": "https://localhost:8080/"
        },
        "id": "DG8wtFGzvHiI",
        "outputId": "9c73eb66-a2c8-4785-ae38-338a1809fa1e"
      },
      "source": [
        "display_metrics(y_test_origin, np.argmax(y_pred, axis = 1), labels_d)"
      ],
      "execution_count": null,
      "outputs": [
        {
          "output_type": "stream",
          "text": [
            "\n",
            "Accuracy: 0.92\n",
            "\n",
            "Micro Precision: 0.92\n",
            "Micro Recall: 0.92\n",
            "Micro F1-score: 0.92\n",
            "\n",
            "Macro Precision: 0.91\n",
            "Macro Recall: 0.75\n"
          ],
          "name": "stdout"
        },
        {
          "output_type": "stream",
          "text": [
            "/usr/local/lib/python3.6/dist-packages/sklearn/metrics/_classification.py:1272: UndefinedMetricWarning: Precision is ill-defined and being set to 0.0 in labels with no predicted samples. Use `zero_division` parameter to control this behavior.\n",
            "  _warn_prf(average, modifier, msg_start, len(result))\n"
          ],
          "name": "stderr"
        },
        {
          "output_type": "stream",
          "text": [
            "Macro F1-score: 0.80\n",
            "\n",
            "Weighted Precision: 0.93\n",
            "Weighted Recall: 0.92\n",
            "Weighted F1-score: 0.91\n",
            "\n",
            "Classification Report\n",
            "\n"
          ],
          "name": "stdout"
        },
        {
          "output_type": "stream",
          "text": [
            "/usr/local/lib/python3.6/dist-packages/sklearn/metrics/_classification.py:1272: UndefinedMetricWarning: Precision and F-score are ill-defined and being set to 0.0 in labels with no predicted samples. Use `zero_division` parameter to control this behavior.\n",
            "  _warn_prf(average, modifier, msg_start, len(result))\n"
          ],
          "name": "stderr"
        },
        {
          "output_type": "stream",
          "text": [
            "                            precision    recall  f1-score   support\n",
            "\n",
            "                    BENIGN       0.88      1.00      0.93    105019\n",
            "                       Bot       0.95      0.19      0.31       280\n",
            "                      DDoS       1.00      0.91      0.95     19271\n",
            "             DoS GoldenEye       1.00      0.92      0.96      1542\n",
            "                  DoS Hulk       1.00      1.00      1.00     34547\n",
            "          DoS Slowhttptest       1.00      0.99      0.99       828\n",
            "             DoS slowloris       1.00      0.90      0.95       834\n",
            "               FTP-Patator       1.00      0.53      0.69      1178\n",
            "                Heartbleed       1.00      1.00      1.00         2\n",
            "              Infiltration       1.00      1.00      1.00         1\n",
            "                  PortScan       1.00      0.51      0.68     23846\n",
            "               SSH-Patator       1.00      0.99      1.00       826\n",
            "  Web Attack � Brute Force       0.91      0.75      0.82       209\n",
            "Web Attack � Sql Injection       0.00      0.00      0.00         7\n",
            "          Web Attack � XSS       0.87      0.56      0.68        93\n",
            "\n",
            "                  accuracy                           0.92    188483\n",
            "                 macro avg       0.91      0.75      0.80    188483\n",
            "              weighted avg       0.93      0.92      0.91    188483\n",
            "\n"
          ],
          "name": "stdout"
        }
      ]
    },
    {
      "cell_type": "markdown",
      "metadata": {
        "id": "u-18zZ9kvHiI"
      },
      "source": [
        "### Save the model to disk"
      ]
    },
    {
      "cell_type": "code",
      "metadata": {
        "id": "YuVWGGUNvHiJ"
      },
      "source": [
        "import pickle\n",
        "\n",
        "randomforest_file_name = 'randomforest.sav'\n",
        "pickle.dump(randomforest, open(randomforest_file_name, 'wb'))"
      ],
      "execution_count": null,
      "outputs": []
    },
    {
      "cell_type": "markdown",
      "metadata": {
        "id": "UAdD5z_p8QA2"
      },
      "source": [
        "# Second Model: Decision Tree Classifier"
      ]
    },
    {
      "cell_type": "code",
      "metadata": {
        "id": "dJDkM2Qf8Wlb"
      },
      "source": [
        "from sklearn.tree import DecisionTreeClassifier"
      ],
      "execution_count": null,
      "outputs": []
    },
    {
      "cell_type": "code",
      "metadata": {
        "colab": {
          "base_uri": "https://localhost:8080/"
        },
        "id": "cQkLnviR8ZJu",
        "outputId": "277deeb5-2795-44da-b03a-1c0790478dde"
      },
      "source": [
        "model_dec = DecisionTreeClassifier()\n",
        "model_dec.fit(X_train_n, y_train_origin)"
      ],
      "execution_count": null,
      "outputs": [
        {
          "output_type": "execute_result",
          "data": {
            "text/plain": [
              "DecisionTreeClassifier(ccp_alpha=0.0, class_weight=None, criterion='gini',\n",
              "                       max_depth=None, max_features=None, max_leaf_nodes=None,\n",
              "                       min_impurity_decrease=0.0, min_impurity_split=None,\n",
              "                       min_samples_leaf=1, min_samples_split=2,\n",
              "                       min_weight_fraction_leaf=0.0, presort='deprecated',\n",
              "                       random_state=None, splitter='best')"
            ]
          },
          "metadata": {
            "tags": []
          },
          "execution_count": 35
        }
      ]
    },
    {
      "cell_type": "code",
      "metadata": {
        "id": "BNTaIOR-8fsY"
      },
      "source": [
        "y_pred_tree = model_dec.predict(X_test_n)"
      ],
      "execution_count": null,
      "outputs": []
    },
    {
      "cell_type": "code",
      "metadata": {
        "colab": {
          "base_uri": "https://localhost:8080/"
        },
        "id": "VUPQ9PjI8kAp",
        "outputId": "ae3292d3-0faa-4afa-bbcd-ff754e2c659d"
      },
      "source": [
        "display_metrics(y_test_origin, y_pred_tree, labels_d)"
      ],
      "execution_count": null,
      "outputs": [
        {
          "output_type": "stream",
          "text": [
            "\n",
            "Accuracy: 0.99\n",
            "\n",
            "Micro Precision: 0.99\n",
            "Micro Recall: 0.99\n",
            "Micro F1-score: 0.99\n",
            "\n",
            "Macro Precision: 0.87\n",
            "Macro Recall: 0.93\n",
            "Macro F1-score: 0.88\n",
            "\n",
            "Weighted Precision: 0.99\n",
            "Weighted Recall: 0.99\n",
            "Weighted F1-score: 0.99\n",
            "\n",
            "Classification Report\n",
            "\n",
            "                            precision    recall  f1-score   support\n",
            "\n",
            "                    BENIGN       0.99      0.99      0.99    105019\n",
            "                       Bot       0.69      0.96      0.80       280\n",
            "                      DDoS       1.00      0.97      0.99     19271\n",
            "             DoS GoldenEye       0.68      0.80      0.74      1542\n",
            "                  DoS Hulk       1.00      0.98      0.99     34547\n",
            "          DoS Slowhttptest       0.95      0.98      0.97       828\n",
            "             DoS slowloris       0.89      0.95      0.92       834\n",
            "               FTP-Patator       1.00      0.99      0.99      1178\n",
            "                Heartbleed       0.67      1.00      0.80         2\n",
            "              Infiltration       0.50      1.00      0.67         1\n",
            "                  PortScan       0.96      1.00      0.98     23846\n",
            "               SSH-Patator       0.98      1.00      0.99       826\n",
            "  Web Attack � Brute Force       0.90      0.86      0.88       209\n",
            "Web Attack � Sql Injection       1.00      0.57      0.73         7\n",
            "          Web Attack � XSS       0.78      0.83      0.80        93\n",
            "\n",
            "                  accuracy                           0.99    188483\n",
            "                 macro avg       0.87      0.93      0.88    188483\n",
            "              weighted avg       0.99      0.99      0.99    188483\n",
            "\n"
          ],
          "name": "stdout"
        }
      ]
    },
    {
      "cell_type": "markdown",
      "metadata": {
        "id": "ROgwrDmQ9cgX"
      },
      "source": [
        "### Save the model"
      ]
    },
    {
      "cell_type": "code",
      "metadata": {
        "id": "qACJ2DYE9edG"
      },
      "source": [
        "decisiontree_file_name = 'decisiontree.sav'\n",
        "pickle.dump(model_dec, open(decisiontree_file_name, 'wb'))"
      ],
      "execution_count": null,
      "outputs": []
    },
    {
      "cell_type": "markdown",
      "metadata": {
        "id": "lmBgmq-5vHiJ"
      },
      "source": [
        "# Third model: DNN Model"
      ]
    },
    {
      "cell_type": "markdown",
      "metadata": {
        "id": "9q0J7sT1vHiK"
      },
      "source": [
        "We will train the same DNN model by using the same dataset with different normalization methods."
      ]
    },
    {
      "cell_type": "code",
      "metadata": {
        "id": "uVuGumxtvHiK"
      },
      "source": [
        "def make_model(X_train, y_train, output_bias=None):\n",
        "  if output_bias is not None:\n",
        "    output_bias = tf.keras.initializers.Constant(output_bias)\n",
        "  model = tf.keras.Sequential([\n",
        "      tf.keras.layers.Dense(\n",
        "          256, activation='relu',\n",
        "          input_shape=(X_train.shape[-1],)),\n",
        "      tf.keras.layers.Dense(256, activation ='relu'),\n",
        "      tf.keras.layers.Dense(128, activation ='relu'),\n",
        "      tf.keras.layers.Dense(64, activation ='relu'),\n",
        "      tf.keras.layers.Dense(y_train.shape[-1], activation='softmax',\n",
        "                         bias_initializer=output_bias),\n",
        "  ])\n",
        "\n",
        "  model.compile(\n",
        "      optimizer=tf.keras.optimizers.Adam(lr=1e-4),\n",
        "      loss=tf.keras.losses.BinaryCrossentropy(),\n",
        "      metrics=METRICS)\n",
        "    \n",
        "  return model"
      ],
      "execution_count": null,
      "outputs": []
    },
    {
      "cell_type": "markdown",
      "metadata": {
        "id": "6pXsBcHRvHiK"
      },
      "source": [
        "We use normalized dataset to train this DNN model."
      ]
    },
    {
      "cell_type": "code",
      "metadata": {
        "id": "ZwumLkEkvHiL"
      },
      "source": [
        "model_dnn_n = make_model(X_train_n, y_train)\n",
        "model_dnn_sd = make_model(X_train_sd, y_train) "
      ],
      "execution_count": null,
      "outputs": []
    },
    {
      "cell_type": "markdown",
      "metadata": {
        "id": "9HC-0kS2vHiM"
      },
      "source": [
        "### Train the first DNN model with normalized dataset"
      ]
    },
    {
      "cell_type": "code",
      "metadata": {
        "id": "IHpAEUAEvHiL"
      },
      "source": [
        "EPOCHS = 200\n",
        "BATCH_SIZE = 9500"
      ],
      "execution_count": null,
      "outputs": []
    },
    {
      "cell_type": "code",
      "metadata": {
        "colab": {
          "base_uri": "https://localhost:8080/"
        },
        "id": "9x2Z6Gv-vHiM",
        "outputId": "a91edcfe-eac1-46ac-f512-9bcffb47aca0"
      },
      "source": [
        "baseline_history_n = model_dnn_n.fit(\n",
        "    X_train_n,\n",
        "    y_train,\n",
        "    batch_size=BATCH_SIZE,\n",
        "    epochs=EPOCHS,\n",
        "    validation_data=(X_val_n, y_val))"
      ],
      "execution_count": null,
      "outputs": [
        {
          "output_type": "stream",
          "text": [
            "Epoch 1/100\n",
            "93/93 [==============================] - 4s 39ms/step - loss: 0.0031 - tp: 872753.0000 - fp: 6710.0000 - tn: 12307536.0000 - fn: 6836.0000 - accuracy: 0.9990 - precision: 0.9924 - recall: 0.9922 - auc: 0.9991 - val_loss: 0.0037 - val_tp: 186722.0000 - val_fp: 1743.0000 - val_tn: 2637033.0000 - val_fn: 1762.0000 - val_accuracy: 0.9988 - val_precision: 0.9908 - val_recall: 0.9907 - val_auc: 0.9987\n",
            "Epoch 2/100\n",
            "93/93 [==============================] - 4s 38ms/step - loss: 0.0031 - tp: 872685.0000 - fp: 6797.0000 - tn: 12307449.0000 - fn: 6904.0000 - accuracy: 0.9990 - precision: 0.9923 - recall: 0.9922 - auc: 0.9990 - val_loss: 0.0036 - val_tp: 186805.0000 - val_fp: 1652.0000 - val_tn: 2637124.0000 - val_fn: 1679.0000 - val_accuracy: 0.9988 - val_precision: 0.9912 - val_recall: 0.9911 - val_auc: 0.9990\n",
            "Epoch 3/100\n",
            "93/93 [==============================] - 4s 38ms/step - loss: 0.0031 - tp: 872710.0000 - fp: 6776.0000 - tn: 12307470.0000 - fn: 6879.0000 - accuracy: 0.9990 - precision: 0.9923 - recall: 0.9922 - auc: 0.9991 - val_loss: 0.0035 - val_tp: 186840.0000 - val_fp: 1621.0000 - val_tn: 2637155.0000 - val_fn: 1644.0000 - val_accuracy: 0.9988 - val_precision: 0.9914 - val_recall: 0.9913 - val_auc: 0.9989\n",
            "Epoch 4/100\n",
            "93/93 [==============================] - 4s 38ms/step - loss: 0.0031 - tp: 872817.0000 - fp: 6682.0000 - tn: 12307564.0000 - fn: 6772.0000 - accuracy: 0.9990 - precision: 0.9924 - recall: 0.9923 - auc: 0.9991 - val_loss: 0.0035 - val_tp: 186841.0000 - val_fp: 1622.0000 - val_tn: 2637154.0000 - val_fn: 1643.0000 - val_accuracy: 0.9988 - val_precision: 0.9914 - val_recall: 0.9913 - val_auc: 0.9989\n",
            "Epoch 5/100\n",
            "93/93 [==============================] - 4s 38ms/step - loss: 0.0031 - tp: 872785.0000 - fp: 6698.0000 - tn: 12307548.0000 - fn: 6804.0000 - accuracy: 0.9990 - precision: 0.9924 - recall: 0.9923 - auc: 0.9991 - val_loss: 0.0035 - val_tp: 186855.0000 - val_fp: 1606.0000 - val_tn: 2637170.0000 - val_fn: 1629.0000 - val_accuracy: 0.9989 - val_precision: 0.9915 - val_recall: 0.9914 - val_auc: 0.9989\n",
            "Epoch 6/100\n",
            "93/93 [==============================] - 4s 38ms/step - loss: 0.0031 - tp: 872843.0000 - fp: 6652.0000 - tn: 12307594.0000 - fn: 6746.0000 - accuracy: 0.9990 - precision: 0.9924 - recall: 0.9923 - auc: 0.9990 - val_loss: 0.0034 - val_tp: 186843.0000 - val_fp: 1623.0000 - val_tn: 2637153.0000 - val_fn: 1641.0000 - val_accuracy: 0.9988 - val_precision: 0.9914 - val_recall: 0.9913 - val_auc: 0.9988\n",
            "Epoch 7/100\n",
            "93/93 [==============================] - 4s 38ms/step - loss: 0.0030 - tp: 872925.0000 - fp: 6581.0000 - tn: 12307665.0000 - fn: 6664.0000 - accuracy: 0.9990 - precision: 0.9925 - recall: 0.9924 - auc: 0.9991 - val_loss: 0.0034 - val_tp: 186873.0000 - val_fp: 1589.0000 - val_tn: 2637187.0000 - val_fn: 1611.0000 - val_accuracy: 0.9989 - val_precision: 0.9916 - val_recall: 0.9915 - val_auc: 0.9989\n",
            "Epoch 8/100\n",
            "93/93 [==============================] - 4s 38ms/step - loss: 0.0030 - tp: 872773.0000 - fp: 6727.0000 - tn: 12307519.0000 - fn: 6816.0000 - accuracy: 0.9990 - precision: 0.9924 - recall: 0.9923 - auc: 0.9991 - val_loss: 0.0037 - val_tp: 186768.0000 - val_fp: 1685.0000 - val_tn: 2637091.0000 - val_fn: 1716.0000 - val_accuracy: 0.9988 - val_precision: 0.9911 - val_recall: 0.9909 - val_auc: 0.9990\n",
            "Epoch 9/100\n",
            "93/93 [==============================] - 4s 38ms/step - loss: 0.0030 - tp: 872863.0000 - fp: 6648.0000 - tn: 12307598.0000 - fn: 6726.0000 - accuracy: 0.9990 - precision: 0.9924 - recall: 0.9924 - auc: 0.9991 - val_loss: 0.0036 - val_tp: 186826.0000 - val_fp: 1629.0000 - val_tn: 2637147.0000 - val_fn: 1658.0000 - val_accuracy: 0.9988 - val_precision: 0.9914 - val_recall: 0.9912 - val_auc: 0.9989\n",
            "Epoch 10/100\n",
            "93/93 [==============================] - 4s 38ms/step - loss: 0.0030 - tp: 872936.0000 - fp: 6564.0000 - tn: 12307682.0000 - fn: 6653.0000 - accuracy: 0.9990 - precision: 0.9925 - recall: 0.9924 - auc: 0.9991 - val_loss: 0.0037 - val_tp: 186759.0000 - val_fp: 1700.0000 - val_tn: 2637076.0000 - val_fn: 1725.0000 - val_accuracy: 0.9988 - val_precision: 0.9910 - val_recall: 0.9908 - val_auc: 0.9989\n",
            "Epoch 11/100\n",
            "93/93 [==============================] - 4s 38ms/step - loss: 0.0030 - tp: 872971.0000 - fp: 6543.0000 - tn: 12307703.0000 - fn: 6618.0000 - accuracy: 0.9990 - precision: 0.9926 - recall: 0.9925 - auc: 0.9991 - val_loss: 0.0034 - val_tp: 186892.0000 - val_fp: 1573.0000 - val_tn: 2637203.0000 - val_fn: 1592.0000 - val_accuracy: 0.9989 - val_precision: 0.9917 - val_recall: 0.9916 - val_auc: 0.9989\n",
            "Epoch 12/100\n",
            "93/93 [==============================] - 4s 38ms/step - loss: 0.0030 - tp: 872936.0000 - fp: 6571.0000 - tn: 12307675.0000 - fn: 6653.0000 - accuracy: 0.9990 - precision: 0.9925 - recall: 0.9924 - auc: 0.9991 - val_loss: 0.0035 - val_tp: 186850.0000 - val_fp: 1612.0000 - val_tn: 2637164.0000 - val_fn: 1634.0000 - val_accuracy: 0.9989 - val_precision: 0.9914 - val_recall: 0.9913 - val_auc: 0.9990\n",
            "Epoch 13/100\n",
            "93/93 [==============================] - 4s 38ms/step - loss: 0.0029 - tp: 873041.0000 - fp: 6459.0000 - tn: 12307787.0000 - fn: 6548.0000 - accuracy: 0.9990 - precision: 0.9927 - recall: 0.9926 - auc: 0.9991 - val_loss: 0.0034 - val_tp: 186879.0000 - val_fp: 1588.0000 - val_tn: 2637188.0000 - val_fn: 1605.0000 - val_accuracy: 0.9989 - val_precision: 0.9916 - val_recall: 0.9915 - val_auc: 0.9989\n",
            "Epoch 14/100\n",
            "93/93 [==============================] - 4s 38ms/step - loss: 0.0030 - tp: 872867.0000 - fp: 6641.0000 - tn: 12307605.0000 - fn: 6722.0000 - accuracy: 0.9990 - precision: 0.9924 - recall: 0.9924 - auc: 0.9991 - val_loss: 0.0034 - val_tp: 186864.0000 - val_fp: 1601.0000 - val_tn: 2637175.0000 - val_fn: 1620.0000 - val_accuracy: 0.9989 - val_precision: 0.9915 - val_recall: 0.9914 - val_auc: 0.9989\n",
            "Epoch 15/100\n",
            "93/93 [==============================] - 4s 38ms/step - loss: 0.0029 - tp: 873030.0000 - fp: 6469.0000 - tn: 12307777.0000 - fn: 6559.0000 - accuracy: 0.9990 - precision: 0.9926 - recall: 0.9925 - auc: 0.9991 - val_loss: 0.0036 - val_tp: 186830.0000 - val_fp: 1632.0000 - val_tn: 2637144.0000 - val_fn: 1654.0000 - val_accuracy: 0.9988 - val_precision: 0.9913 - val_recall: 0.9912 - val_auc: 0.9988\n",
            "Epoch 16/100\n",
            "93/93 [==============================] - 4s 39ms/step - loss: 0.0030 - tp: 872978.0000 - fp: 6525.0000 - tn: 12307721.0000 - fn: 6611.0000 - accuracy: 0.9990 - precision: 0.9926 - recall: 0.9925 - auc: 0.9991 - val_loss: 0.0034 - val_tp: 186872.0000 - val_fp: 1593.0000 - val_tn: 2637183.0000 - val_fn: 1612.0000 - val_accuracy: 0.9989 - val_precision: 0.9915 - val_recall: 0.9914 - val_auc: 0.9989\n",
            "Epoch 17/100\n",
            "93/93 [==============================] - 4s 38ms/step - loss: 0.0029 - tp: 873005.0000 - fp: 6502.0000 - tn: 12307744.0000 - fn: 6584.0000 - accuracy: 0.9990 - precision: 0.9926 - recall: 0.9925 - auc: 0.9991 - val_loss: 0.0034 - val_tp: 186907.0000 - val_fp: 1552.0000 - val_tn: 2637224.0000 - val_fn: 1577.0000 - val_accuracy: 0.9989 - val_precision: 0.9918 - val_recall: 0.9916 - val_auc: 0.9990\n",
            "Epoch 18/100\n",
            "93/93 [==============================] - 4s 38ms/step - loss: 0.0029 - tp: 873074.0000 - fp: 6420.0000 - tn: 12307826.0000 - fn: 6515.0000 - accuracy: 0.9990 - precision: 0.9927 - recall: 0.9926 - auc: 0.9991 - val_loss: 0.0033 - val_tp: 186917.0000 - val_fp: 1548.0000 - val_tn: 2637228.0000 - val_fn: 1567.0000 - val_accuracy: 0.9989 - val_precision: 0.9918 - val_recall: 0.9917 - val_auc: 0.9990\n",
            "Epoch 19/100\n",
            "93/93 [==============================] - 4s 38ms/step - loss: 0.0029 - tp: 872988.0000 - fp: 6511.0000 - tn: 12307735.0000 - fn: 6601.0000 - accuracy: 0.9990 - precision: 0.9926 - recall: 0.9925 - auc: 0.9991 - val_loss: 0.0036 - val_tp: 186829.0000 - val_fp: 1632.0000 - val_tn: 2637144.0000 - val_fn: 1655.0000 - val_accuracy: 0.9988 - val_precision: 0.9913 - val_recall: 0.9912 - val_auc: 0.9989\n",
            "Epoch 20/100\n",
            "93/93 [==============================] - 4s 38ms/step - loss: 0.0029 - tp: 873069.0000 - fp: 6439.0000 - tn: 12307807.0000 - fn: 6520.0000 - accuracy: 0.9990 - precision: 0.9927 - recall: 0.9926 - auc: 0.9991 - val_loss: 0.0035 - val_tp: 186833.0000 - val_fp: 1632.0000 - val_tn: 2637144.0000 - val_fn: 1651.0000 - val_accuracy: 0.9988 - val_precision: 0.9913 - val_recall: 0.9912 - val_auc: 0.9988\n",
            "Epoch 21/100\n",
            "93/93 [==============================] - 4s 38ms/step - loss: 0.0029 - tp: 873135.0000 - fp: 6356.0000 - tn: 12307890.0000 - fn: 6454.0000 - accuracy: 0.9990 - precision: 0.9928 - recall: 0.9927 - auc: 0.9991 - val_loss: 0.0034 - val_tp: 186888.0000 - val_fp: 1574.0000 - val_tn: 2637202.0000 - val_fn: 1596.0000 - val_accuracy: 0.9989 - val_precision: 0.9916 - val_recall: 0.9915 - val_auc: 0.9988\n",
            "Epoch 22/100\n",
            "93/93 [==============================] - 4s 38ms/step - loss: 0.0029 - tp: 873109.0000 - fp: 6389.0000 - tn: 12307857.0000 - fn: 6480.0000 - accuracy: 0.9990 - precision: 0.9927 - recall: 0.9926 - auc: 0.9991 - val_loss: 0.0034 - val_tp: 186899.0000 - val_fp: 1560.0000 - val_tn: 2637216.0000 - val_fn: 1585.0000 - val_accuracy: 0.9989 - val_precision: 0.9917 - val_recall: 0.9916 - val_auc: 0.9989\n",
            "Epoch 23/100\n",
            "93/93 [==============================] - 4s 39ms/step - loss: 0.0029 - tp: 873173.0000 - fp: 6312.0000 - tn: 12307934.0000 - fn: 6416.0000 - accuracy: 0.9990 - precision: 0.9928 - recall: 0.9927 - auc: 0.9991 - val_loss: 0.0036 - val_tp: 186828.0000 - val_fp: 1627.0000 - val_tn: 2637149.0000 - val_fn: 1656.0000 - val_accuracy: 0.9988 - val_precision: 0.9914 - val_recall: 0.9912 - val_auc: 0.9989\n",
            "Epoch 24/100\n",
            "93/93 [==============================] - 4s 39ms/step - loss: 0.0029 - tp: 873038.0000 - fp: 6458.0000 - tn: 12307788.0000 - fn: 6551.0000 - accuracy: 0.9990 - precision: 0.9927 - recall: 0.9926 - auc: 0.9991 - val_loss: 0.0032 - val_tp: 186928.0000 - val_fp: 1536.0000 - val_tn: 2637240.0000 - val_fn: 1556.0000 - val_accuracy: 0.9989 - val_precision: 0.9918 - val_recall: 0.9917 - val_auc: 0.9989\n",
            "Epoch 25/100\n",
            "93/93 [==============================] - 4s 38ms/step - loss: 0.0029 - tp: 873162.0000 - fp: 6338.0000 - tn: 12307908.0000 - fn: 6427.0000 - accuracy: 0.9990 - precision: 0.9928 - recall: 0.9927 - auc: 0.9991 - val_loss: 0.0034 - val_tp: 186897.0000 - val_fp: 1565.0000 - val_tn: 2637211.0000 - val_fn: 1587.0000 - val_accuracy: 0.9989 - val_precision: 0.9917 - val_recall: 0.9916 - val_auc: 0.9990\n",
            "Epoch 26/100\n",
            "93/93 [==============================] - 4s 38ms/step - loss: 0.0029 - tp: 873153.0000 - fp: 6325.0000 - tn: 12307921.0000 - fn: 6436.0000 - accuracy: 0.9990 - precision: 0.9928 - recall: 0.9927 - auc: 0.9991 - val_loss: 0.0034 - val_tp: 186894.0000 - val_fp: 1559.0000 - val_tn: 2637217.0000 - val_fn: 1590.0000 - val_accuracy: 0.9989 - val_precision: 0.9917 - val_recall: 0.9916 - val_auc: 0.9988\n",
            "Epoch 27/100\n",
            "93/93 [==============================] - 4s 38ms/step - loss: 0.0028 - tp: 873162.0000 - fp: 6332.0000 - tn: 12307914.0000 - fn: 6427.0000 - accuracy: 0.9990 - precision: 0.9928 - recall: 0.9927 - auc: 0.9991 - val_loss: 0.0034 - val_tp: 186914.0000 - val_fp: 1547.0000 - val_tn: 2637229.0000 - val_fn: 1570.0000 - val_accuracy: 0.9989 - val_precision: 0.9918 - val_recall: 0.9917 - val_auc: 0.9990\n",
            "Epoch 28/100\n",
            "93/93 [==============================] - 4s 39ms/step - loss: 0.0028 - tp: 873223.0000 - fp: 6273.0000 - tn: 12307973.0000 - fn: 6366.0000 - accuracy: 0.9990 - precision: 0.9929 - recall: 0.9928 - auc: 0.9991 - val_loss: 0.0033 - val_tp: 186948.0000 - val_fp: 1504.0000 - val_tn: 2637272.0000 - val_fn: 1536.0000 - val_accuracy: 0.9989 - val_precision: 0.9920 - val_recall: 0.9919 - val_auc: 0.9989\n",
            "Epoch 29/100\n",
            "93/93 [==============================] - 4s 39ms/step - loss: 0.0028 - tp: 873223.0000 - fp: 6246.0000 - tn: 12308000.0000 - fn: 6366.0000 - accuracy: 0.9990 - precision: 0.9929 - recall: 0.9928 - auc: 0.9991 - val_loss: 0.0032 - val_tp: 186958.0000 - val_fp: 1505.0000 - val_tn: 2637271.0000 - val_fn: 1526.0000 - val_accuracy: 0.9989 - val_precision: 0.9920 - val_recall: 0.9919 - val_auc: 0.9990\n",
            "Epoch 30/100\n",
            "93/93 [==============================] - 4s 38ms/step - loss: 0.0029 - tp: 873158.0000 - fp: 6349.0000 - tn: 12307897.0000 - fn: 6431.0000 - accuracy: 0.9990 - precision: 0.9928 - recall: 0.9927 - auc: 0.9991 - val_loss: 0.0033 - val_tp: 186889.0000 - val_fp: 1572.0000 - val_tn: 2637204.0000 - val_fn: 1595.0000 - val_accuracy: 0.9989 - val_precision: 0.9917 - val_recall: 0.9915 - val_auc: 0.9988\n",
            "Epoch 31/100\n",
            "93/93 [==============================] - 4s 39ms/step - loss: 0.0028 - tp: 873125.0000 - fp: 6367.0000 - tn: 12307879.0000 - fn: 6464.0000 - accuracy: 0.9990 - precision: 0.9928 - recall: 0.9927 - auc: 0.9991 - val_loss: 0.0033 - val_tp: 186945.0000 - val_fp: 1516.0000 - val_tn: 2637260.0000 - val_fn: 1539.0000 - val_accuracy: 0.9989 - val_precision: 0.9920 - val_recall: 0.9918 - val_auc: 0.9989\n",
            "Epoch 32/100\n",
            "93/93 [==============================] - 4s 39ms/step - loss: 0.0028 - tp: 873211.0000 - fp: 6286.0000 - tn: 12307960.0000 - fn: 6378.0000 - accuracy: 0.9990 - precision: 0.9929 - recall: 0.9927 - auc: 0.9991 - val_loss: 0.0034 - val_tp: 186889.0000 - val_fp: 1567.0000 - val_tn: 2637209.0000 - val_fn: 1595.0000 - val_accuracy: 0.9989 - val_precision: 0.9917 - val_recall: 0.9915 - val_auc: 0.9989\n",
            "Epoch 33/100\n",
            "93/93 [==============================] - 4s 38ms/step - loss: 0.0028 - tp: 873234.0000 - fp: 6256.0000 - tn: 12307990.0000 - fn: 6355.0000 - accuracy: 0.9990 - precision: 0.9929 - recall: 0.9928 - auc: 0.9991 - val_loss: 0.0032 - val_tp: 186948.0000 - val_fp: 1516.0000 - val_tn: 2637260.0000 - val_fn: 1536.0000 - val_accuracy: 0.9989 - val_precision: 0.9920 - val_recall: 0.9919 - val_auc: 0.9989\n",
            "Epoch 34/100\n",
            "93/93 [==============================] - 4s 38ms/step - loss: 0.0028 - tp: 873226.0000 - fp: 6268.0000 - tn: 12307978.0000 - fn: 6363.0000 - accuracy: 0.9990 - precision: 0.9929 - recall: 0.9928 - auc: 0.9991 - val_loss: 0.0033 - val_tp: 186933.0000 - val_fp: 1530.0000 - val_tn: 2637246.0000 - val_fn: 1551.0000 - val_accuracy: 0.9989 - val_precision: 0.9919 - val_recall: 0.9918 - val_auc: 0.9988\n",
            "Epoch 35/100\n",
            "93/93 [==============================] - 4s 38ms/step - loss: 0.0028 - tp: 873289.0000 - fp: 6199.0000 - tn: 12308047.0000 - fn: 6300.0000 - accuracy: 0.9991 - precision: 0.9930 - recall: 0.9928 - auc: 0.9991 - val_loss: 0.0032 - val_tp: 186946.0000 - val_fp: 1518.0000 - val_tn: 2637258.0000 - val_fn: 1538.0000 - val_accuracy: 0.9989 - val_precision: 0.9919 - val_recall: 0.9918 - val_auc: 0.9989\n",
            "Epoch 36/100\n",
            "93/93 [==============================] - 4s 39ms/step - loss: 0.0028 - tp: 873278.0000 - fp: 6215.0000 - tn: 12308031.0000 - fn: 6311.0000 - accuracy: 0.9991 - precision: 0.9929 - recall: 0.9928 - auc: 0.9991 - val_loss: 0.0032 - val_tp: 186909.0000 - val_fp: 1557.0000 - val_tn: 2637219.0000 - val_fn: 1575.0000 - val_accuracy: 0.9989 - val_precision: 0.9917 - val_recall: 0.9916 - val_auc: 0.9988\n",
            "Epoch 37/100\n",
            "93/93 [==============================] - 4s 38ms/step - loss: 0.0028 - tp: 873265.0000 - fp: 6239.0000 - tn: 12308007.0000 - fn: 6324.0000 - accuracy: 0.9990 - precision: 0.9929 - recall: 0.9928 - auc: 0.9991 - val_loss: 0.0033 - val_tp: 186922.0000 - val_fp: 1544.0000 - val_tn: 2637232.0000 - val_fn: 1562.0000 - val_accuracy: 0.9989 - val_precision: 0.9918 - val_recall: 0.9917 - val_auc: 0.9988\n",
            "Epoch 38/100\n",
            "93/93 [==============================] - 4s 39ms/step - loss: 0.0028 - tp: 873263.0000 - fp: 6217.0000 - tn: 12308029.0000 - fn: 6326.0000 - accuracy: 0.9990 - precision: 0.9929 - recall: 0.9928 - auc: 0.9991 - val_loss: 0.0035 - val_tp: 186802.0000 - val_fp: 1661.0000 - val_tn: 2637115.0000 - val_fn: 1682.0000 - val_accuracy: 0.9988 - val_precision: 0.9912 - val_recall: 0.9911 - val_auc: 0.9986\n",
            "Epoch 39/100\n",
            "93/93 [==============================] - 4s 39ms/step - loss: 0.0028 - tp: 873201.0000 - fp: 6297.0000 - tn: 12307949.0000 - fn: 6388.0000 - accuracy: 0.9990 - precision: 0.9928 - recall: 0.9927 - auc: 0.9991 - val_loss: 0.0033 - val_tp: 186964.0000 - val_fp: 1496.0000 - val_tn: 2637280.0000 - val_fn: 1520.0000 - val_accuracy: 0.9989 - val_precision: 0.9921 - val_recall: 0.9919 - val_auc: 0.9990\n",
            "Epoch 40/100\n",
            "93/93 [==============================] - 4s 38ms/step - loss: 0.0027 - tp: 873353.0000 - fp: 6132.0000 - tn: 12308114.0000 - fn: 6236.0000 - accuracy: 0.9991 - precision: 0.9930 - recall: 0.9929 - auc: 0.9991 - val_loss: 0.0033 - val_tp: 186943.0000 - val_fp: 1516.0000 - val_tn: 2637260.0000 - val_fn: 1541.0000 - val_accuracy: 0.9989 - val_precision: 0.9920 - val_recall: 0.9918 - val_auc: 0.9990\n",
            "Epoch 41/100\n",
            "93/93 [==============================] - 4s 39ms/step - loss: 0.0028 - tp: 873328.0000 - fp: 6177.0000 - tn: 12308069.0000 - fn: 6261.0000 - accuracy: 0.9991 - precision: 0.9930 - recall: 0.9929 - auc: 0.9991 - val_loss: 0.0033 - val_tp: 186921.0000 - val_fp: 1540.0000 - val_tn: 2637236.0000 - val_fn: 1563.0000 - val_accuracy: 0.9989 - val_precision: 0.9918 - val_recall: 0.9917 - val_auc: 0.9989\n",
            "Epoch 42/100\n",
            "93/93 [==============================] - 4s 39ms/step - loss: 0.0027 - tp: 873405.0000 - fp: 6105.0000 - tn: 12308141.0000 - fn: 6184.0000 - accuracy: 0.9991 - precision: 0.9931 - recall: 0.9930 - auc: 0.9991 - val_loss: 0.0031 - val_tp: 186980.0000 - val_fp: 1491.0000 - val_tn: 2637285.0000 - val_fn: 1504.0000 - val_accuracy: 0.9989 - val_precision: 0.9921 - val_recall: 0.9920 - val_auc: 0.9990\n",
            "Epoch 43/100\n",
            "93/93 [==============================] - 4s 39ms/step - loss: 0.0027 - tp: 873364.0000 - fp: 6136.0000 - tn: 12308110.0000 - fn: 6225.0000 - accuracy: 0.9991 - precision: 0.9930 - recall: 0.9929 - auc: 0.9991 - val_loss: 0.0034 - val_tp: 186929.0000 - val_fp: 1527.0000 - val_tn: 2637249.0000 - val_fn: 1555.0000 - val_accuracy: 0.9989 - val_precision: 0.9919 - val_recall: 0.9917 - val_auc: 0.9991\n",
            "Epoch 44/100\n",
            "93/93 [==============================] - 4s 39ms/step - loss: 0.0028 - tp: 873354.0000 - fp: 6139.0000 - tn: 12308107.0000 - fn: 6235.0000 - accuracy: 0.9991 - precision: 0.9930 - recall: 0.9929 - auc: 0.9991 - val_loss: 0.0033 - val_tp: 186921.0000 - val_fp: 1548.0000 - val_tn: 2637228.0000 - val_fn: 1563.0000 - val_accuracy: 0.9989 - val_precision: 0.9918 - val_recall: 0.9917 - val_auc: 0.9988\n",
            "Epoch 45/100\n",
            "93/93 [==============================] - 4s 40ms/step - loss: 0.0027 - tp: 873365.0000 - fp: 6119.0000 - tn: 12308127.0000 - fn: 6224.0000 - accuracy: 0.9991 - precision: 0.9930 - recall: 0.9929 - auc: 0.9991 - val_loss: 0.0033 - val_tp: 186911.0000 - val_fp: 1553.0000 - val_tn: 2637223.0000 - val_fn: 1573.0000 - val_accuracy: 0.9989 - val_precision: 0.9918 - val_recall: 0.9917 - val_auc: 0.9989\n",
            "Epoch 46/100\n",
            "93/93 [==============================] - 4s 38ms/step - loss: 0.0027 - tp: 873370.0000 - fp: 6121.0000 - tn: 12308125.0000 - fn: 6219.0000 - accuracy: 0.9991 - precision: 0.9930 - recall: 0.9929 - auc: 0.9991 - val_loss: 0.0032 - val_tp: 186967.0000 - val_fp: 1497.0000 - val_tn: 2637279.0000 - val_fn: 1517.0000 - val_accuracy: 0.9989 - val_precision: 0.9921 - val_recall: 0.9920 - val_auc: 0.9988\n",
            "Epoch 47/100\n",
            "93/93 [==============================] - 4s 38ms/step - loss: 0.0027 - tp: 873392.0000 - fp: 6092.0000 - tn: 12308154.0000 - fn: 6197.0000 - accuracy: 0.9991 - precision: 0.9931 - recall: 0.9930 - auc: 0.9991 - val_loss: 0.0032 - val_tp: 186945.0000 - val_fp: 1516.0000 - val_tn: 2637260.0000 - val_fn: 1539.0000 - val_accuracy: 0.9989 - val_precision: 0.9920 - val_recall: 0.9918 - val_auc: 0.9989\n",
            "Epoch 48/100\n",
            "93/93 [==============================] - 4s 39ms/step - loss: 0.0027 - tp: 873424.0000 - fp: 6068.0000 - tn: 12308178.0000 - fn: 6165.0000 - accuracy: 0.9991 - precision: 0.9931 - recall: 0.9930 - auc: 0.9991 - val_loss: 0.0033 - val_tp: 186942.0000 - val_fp: 1517.0000 - val_tn: 2637259.0000 - val_fn: 1542.0000 - val_accuracy: 0.9989 - val_precision: 0.9920 - val_recall: 0.9918 - val_auc: 0.9990\n",
            "Epoch 49/100\n",
            "93/93 [==============================] - 4s 39ms/step - loss: 0.0027 - tp: 873426.0000 - fp: 6070.0000 - tn: 12308176.0000 - fn: 6163.0000 - accuracy: 0.9991 - precision: 0.9931 - recall: 0.9930 - auc: 0.9991 - val_loss: 0.0032 - val_tp: 186961.0000 - val_fp: 1502.0000 - val_tn: 2637274.0000 - val_fn: 1523.0000 - val_accuracy: 0.9989 - val_precision: 0.9920 - val_recall: 0.9919 - val_auc: 0.9989\n",
            "Epoch 50/100\n",
            "93/93 [==============================] - 4s 39ms/step - loss: 0.0027 - tp: 873468.0000 - fp: 6014.0000 - tn: 12308232.0000 - fn: 6121.0000 - accuracy: 0.9991 - precision: 0.9932 - recall: 0.9930 - auc: 0.9991 - val_loss: 0.0031 - val_tp: 187002.0000 - val_fp: 1469.0000 - val_tn: 2637307.0000 - val_fn: 1482.0000 - val_accuracy: 0.9990 - val_precision: 0.9922 - val_recall: 0.9921 - val_auc: 0.9990\n",
            "Epoch 51/100\n",
            "93/93 [==============================] - 4s 39ms/step - loss: 0.0027 - tp: 873393.0000 - fp: 6098.0000 - tn: 12308148.0000 - fn: 6196.0000 - accuracy: 0.9991 - precision: 0.9931 - recall: 0.9930 - auc: 0.9991 - val_loss: 0.0032 - val_tp: 186969.0000 - val_fp: 1497.0000 - val_tn: 2637279.0000 - val_fn: 1515.0000 - val_accuracy: 0.9989 - val_precision: 0.9921 - val_recall: 0.9920 - val_auc: 0.9990\n",
            "Epoch 52/100\n",
            "93/93 [==============================] - 4s 39ms/step - loss: 0.0027 - tp: 873454.0000 - fp: 6042.0000 - tn: 12308204.0000 - fn: 6135.0000 - accuracy: 0.9991 - precision: 0.9931 - recall: 0.9930 - auc: 0.9991 - val_loss: 0.0031 - val_tp: 186980.0000 - val_fp: 1489.0000 - val_tn: 2637287.0000 - val_fn: 1504.0000 - val_accuracy: 0.9989 - val_precision: 0.9921 - val_recall: 0.9920 - val_auc: 0.9989\n",
            "Epoch 53/100\n",
            "93/93 [==============================] - 4s 39ms/step - loss: 0.0027 - tp: 873525.0000 - fp: 5961.0000 - tn: 12308285.0000 - fn: 6064.0000 - accuracy: 0.9991 - precision: 0.9932 - recall: 0.9931 - auc: 0.9991 - val_loss: 0.0033 - val_tp: 186903.0000 - val_fp: 1562.0000 - val_tn: 2637214.0000 - val_fn: 1581.0000 - val_accuracy: 0.9989 - val_precision: 0.9917 - val_recall: 0.9916 - val_auc: 0.9988\n",
            "Epoch 54/100\n",
            "93/93 [==============================] - 4s 39ms/step - loss: 0.0027 - tp: 873433.0000 - fp: 6062.0000 - tn: 12308184.0000 - fn: 6156.0000 - accuracy: 0.9991 - precision: 0.9931 - recall: 0.9930 - auc: 0.9991 - val_loss: 0.0032 - val_tp: 186975.0000 - val_fp: 1490.0000 - val_tn: 2637286.0000 - val_fn: 1509.0000 - val_accuracy: 0.9989 - val_precision: 0.9921 - val_recall: 0.9920 - val_auc: 0.9988\n",
            "Epoch 55/100\n",
            "93/93 [==============================] - 4s 39ms/step - loss: 0.0027 - tp: 873488.0000 - fp: 6003.0000 - tn: 12308243.0000 - fn: 6101.0000 - accuracy: 0.9991 - precision: 0.9932 - recall: 0.9931 - auc: 0.9991 - val_loss: 0.0032 - val_tp: 186944.0000 - val_fp: 1515.0000 - val_tn: 2637261.0000 - val_fn: 1540.0000 - val_accuracy: 0.9989 - val_precision: 0.9920 - val_recall: 0.9918 - val_auc: 0.9988\n",
            "Epoch 56/100\n",
            "93/93 [==============================] - 4s 39ms/step - loss: 0.0027 - tp: 873422.0000 - fp: 6079.0000 - tn: 12308167.0000 - fn: 6167.0000 - accuracy: 0.9991 - precision: 0.9931 - recall: 0.9930 - auc: 0.9992 - val_loss: 0.0031 - val_tp: 186971.0000 - val_fp: 1492.0000 - val_tn: 2637284.0000 - val_fn: 1513.0000 - val_accuracy: 0.9989 - val_precision: 0.9921 - val_recall: 0.9920 - val_auc: 0.9988\n",
            "Epoch 57/100\n",
            "93/93 [==============================] - 4s 39ms/step - loss: 0.0027 - tp: 873527.0000 - fp: 5949.0000 - tn: 12308297.0000 - fn: 6062.0000 - accuracy: 0.9991 - precision: 0.9932 - recall: 0.9931 - auc: 0.9991 - val_loss: 0.0032 - val_tp: 186975.0000 - val_fp: 1492.0000 - val_tn: 2637284.0000 - val_fn: 1509.0000 - val_accuracy: 0.9989 - val_precision: 0.9921 - val_recall: 0.9920 - val_auc: 0.9990\n",
            "Epoch 58/100\n",
            "93/93 [==============================] - 4s 39ms/step - loss: 0.0027 - tp: 873503.0000 - fp: 6011.0000 - tn: 12308235.0000 - fn: 6086.0000 - accuracy: 0.9991 - precision: 0.9932 - recall: 0.9931 - auc: 0.9991 - val_loss: 0.0030 - val_tp: 187009.0000 - val_fp: 1459.0000 - val_tn: 2637317.0000 - val_fn: 1475.0000 - val_accuracy: 0.9990 - val_precision: 0.9923 - val_recall: 0.9922 - val_auc: 0.9989\n",
            "Epoch 59/100\n",
            "93/93 [==============================] - 4s 39ms/step - loss: 0.0026 - tp: 873516.0000 - fp: 5980.0000 - tn: 12308266.0000 - fn: 6073.0000 - accuracy: 0.9991 - precision: 0.9932 - recall: 0.9931 - auc: 0.9991 - val_loss: 0.0030 - val_tp: 187014.0000 - val_fp: 1456.0000 - val_tn: 2637320.0000 - val_fn: 1470.0000 - val_accuracy: 0.9990 - val_precision: 0.9923 - val_recall: 0.9922 - val_auc: 0.9990\n",
            "Epoch 60/100\n",
            "93/93 [==============================] - 4s 39ms/step - loss: 0.0027 - tp: 873505.0000 - fp: 5986.0000 - tn: 12308260.0000 - fn: 6084.0000 - accuracy: 0.9991 - precision: 0.9932 - recall: 0.9931 - auc: 0.9991 - val_loss: 0.0032 - val_tp: 186959.0000 - val_fp: 1503.0000 - val_tn: 2637273.0000 - val_fn: 1525.0000 - val_accuracy: 0.9989 - val_precision: 0.9920 - val_recall: 0.9919 - val_auc: 0.9989\n",
            "Epoch 61/100\n",
            "93/93 [==============================] - 4s 39ms/step - loss: 0.0026 - tp: 873540.0000 - fp: 5954.0000 - tn: 12308292.0000 - fn: 6049.0000 - accuracy: 0.9991 - precision: 0.9932 - recall: 0.9931 - auc: 0.9991 - val_loss: 0.0033 - val_tp: 186905.0000 - val_fp: 1548.0000 - val_tn: 2637228.0000 - val_fn: 1579.0000 - val_accuracy: 0.9989 - val_precision: 0.9918 - val_recall: 0.9916 - val_auc: 0.9989\n",
            "Epoch 62/100\n",
            "93/93 [==============================] - 4s 39ms/step - loss: 0.0027 - tp: 873541.0000 - fp: 5972.0000 - tn: 12308274.0000 - fn: 6048.0000 - accuracy: 0.9991 - precision: 0.9932 - recall: 0.9931 - auc: 0.9991 - val_loss: 0.0031 - val_tp: 186999.0000 - val_fp: 1458.0000 - val_tn: 2637318.0000 - val_fn: 1485.0000 - val_accuracy: 0.9990 - val_precision: 0.9923 - val_recall: 0.9921 - val_auc: 0.9989\n",
            "Epoch 63/100\n",
            "93/93 [==============================] - 4s 39ms/step - loss: 0.0026 - tp: 873622.0000 - fp: 5853.0000 - tn: 12308393.0000 - fn: 5967.0000 - accuracy: 0.9991 - precision: 0.9933 - recall: 0.9932 - auc: 0.9991 - val_loss: 0.0031 - val_tp: 187013.0000 - val_fp: 1451.0000 - val_tn: 2637325.0000 - val_fn: 1471.0000 - val_accuracy: 0.9990 - val_precision: 0.9923 - val_recall: 0.9922 - val_auc: 0.9989\n",
            "Epoch 64/100\n",
            "93/93 [==============================] - 4s 39ms/step - loss: 0.0026 - tp: 873615.0000 - fp: 5885.0000 - tn: 12308361.0000 - fn: 5974.0000 - accuracy: 0.9991 - precision: 0.9933 - recall: 0.9932 - auc: 0.9991 - val_loss: 0.0031 - val_tp: 186960.0000 - val_fp: 1499.0000 - val_tn: 2637277.0000 - val_fn: 1524.0000 - val_accuracy: 0.9989 - val_precision: 0.9920 - val_recall: 0.9919 - val_auc: 0.9988\n",
            "Epoch 65/100\n",
            "93/93 [==============================] - 4s 39ms/step - loss: 0.0026 - tp: 873592.0000 - fp: 5891.0000 - tn: 12308355.0000 - fn: 5997.0000 - accuracy: 0.9991 - precision: 0.9933 - recall: 0.9932 - auc: 0.9991 - val_loss: 0.0032 - val_tp: 186962.0000 - val_fp: 1496.0000 - val_tn: 2637280.0000 - val_fn: 1522.0000 - val_accuracy: 0.9989 - val_precision: 0.9921 - val_recall: 0.9919 - val_auc: 0.9988\n",
            "Epoch 66/100\n",
            "93/93 [==============================] - 4s 39ms/step - loss: 0.0026 - tp: 873626.0000 - fp: 5875.0000 - tn: 12308371.0000 - fn: 5963.0000 - accuracy: 0.9991 - precision: 0.9933 - recall: 0.9932 - auc: 0.9992 - val_loss: 0.0032 - val_tp: 186970.0000 - val_fp: 1498.0000 - val_tn: 2637278.0000 - val_fn: 1514.0000 - val_accuracy: 0.9989 - val_precision: 0.9921 - val_recall: 0.9920 - val_auc: 0.9989\n",
            "Epoch 67/100\n",
            "93/93 [==============================] - 4s 39ms/step - loss: 0.0026 - tp: 873615.0000 - fp: 5888.0000 - tn: 12308358.0000 - fn: 5974.0000 - accuracy: 0.9991 - precision: 0.9933 - recall: 0.9932 - auc: 0.9992 - val_loss: 0.0031 - val_tp: 186959.0000 - val_fp: 1509.0000 - val_tn: 2637267.0000 - val_fn: 1525.0000 - val_accuracy: 0.9989 - val_precision: 0.9920 - val_recall: 0.9919 - val_auc: 0.9988\n",
            "Epoch 68/100\n",
            "93/93 [==============================] - 4s 39ms/step - loss: 0.0026 - tp: 873619.0000 - fp: 5891.0000 - tn: 12308355.0000 - fn: 5970.0000 - accuracy: 0.9991 - precision: 0.9933 - recall: 0.9932 - auc: 0.9991 - val_loss: 0.0030 - val_tp: 187027.0000 - val_fp: 1439.0000 - val_tn: 2637337.0000 - val_fn: 1457.0000 - val_accuracy: 0.9990 - val_precision: 0.9924 - val_recall: 0.9923 - val_auc: 0.9989\n",
            "Epoch 69/100\n",
            "93/93 [==============================] - 4s 38ms/step - loss: 0.0026 - tp: 873665.0000 - fp: 5834.0000 - tn: 12308412.0000 - fn: 5924.0000 - accuracy: 0.9991 - precision: 0.9934 - recall: 0.9933 - auc: 0.9991 - val_loss: 0.0030 - val_tp: 187053.0000 - val_fp: 1416.0000 - val_tn: 2637360.0000 - val_fn: 1431.0000 - val_accuracy: 0.9990 - val_precision: 0.9925 - val_recall: 0.9924 - val_auc: 0.9989\n",
            "Epoch 70/100\n",
            "93/93 [==============================] - 4s 39ms/step - loss: 0.0026 - tp: 873644.0000 - fp: 5865.0000 - tn: 12308381.0000 - fn: 5945.0000 - accuracy: 0.9991 - precision: 0.9933 - recall: 0.9932 - auc: 0.9991 - val_loss: 0.0031 - val_tp: 186983.0000 - val_fp: 1482.0000 - val_tn: 2637294.0000 - val_fn: 1501.0000 - val_accuracy: 0.9989 - val_precision: 0.9921 - val_recall: 0.9920 - val_auc: 0.9988\n",
            "Epoch 71/100\n",
            "93/93 [==============================] - 4s 39ms/step - loss: 0.0026 - tp: 873606.0000 - fp: 5911.0000 - tn: 12308335.0000 - fn: 5983.0000 - accuracy: 0.9991 - precision: 0.9933 - recall: 0.9932 - auc: 0.9992 - val_loss: 0.0031 - val_tp: 186955.0000 - val_fp: 1512.0000 - val_tn: 2637264.0000 - val_fn: 1529.0000 - val_accuracy: 0.9989 - val_precision: 0.9920 - val_recall: 0.9919 - val_auc: 0.9988\n",
            "Epoch 72/100\n",
            "93/93 [==============================] - 4s 39ms/step - loss: 0.0026 - tp: 873542.0000 - fp: 5968.0000 - tn: 12308278.0000 - fn: 6047.0000 - accuracy: 0.9991 - precision: 0.9932 - recall: 0.9931 - auc: 0.9991 - val_loss: 0.0030 - val_tp: 187023.0000 - val_fp: 1443.0000 - val_tn: 2637333.0000 - val_fn: 1461.0000 - val_accuracy: 0.9990 - val_precision: 0.9923 - val_recall: 0.9922 - val_auc: 0.9989\n",
            "Epoch 73/100\n",
            "93/93 [==============================] - 4s 39ms/step - loss: 0.0026 - tp: 873684.0000 - fp: 5826.0000 - tn: 12308420.0000 - fn: 5905.0000 - accuracy: 0.9991 - precision: 0.9934 - recall: 0.9933 - auc: 0.9992 - val_loss: 0.0032 - val_tp: 186917.0000 - val_fp: 1553.0000 - val_tn: 2637223.0000 - val_fn: 1567.0000 - val_accuracy: 0.9989 - val_precision: 0.9918 - val_recall: 0.9917 - val_auc: 0.9987\n",
            "Epoch 74/100\n",
            "93/93 [==============================] - 4s 39ms/step - loss: 0.0026 - tp: 873678.0000 - fp: 5821.0000 - tn: 12308425.0000 - fn: 5911.0000 - accuracy: 0.9991 - precision: 0.9934 - recall: 0.9933 - auc: 0.9992 - val_loss: 0.0031 - val_tp: 186996.0000 - val_fp: 1472.0000 - val_tn: 2637304.0000 - val_fn: 1488.0000 - val_accuracy: 0.9990 - val_precision: 0.9922 - val_recall: 0.9921 - val_auc: 0.9988\n",
            "Epoch 75/100\n",
            "93/93 [==============================] - 4s 39ms/step - loss: 0.0026 - tp: 873660.0000 - fp: 5845.0000 - tn: 12308401.0000 - fn: 5929.0000 - accuracy: 0.9991 - precision: 0.9934 - recall: 0.9933 - auc: 0.9992 - val_loss: 0.0031 - val_tp: 186996.0000 - val_fp: 1475.0000 - val_tn: 2637301.0000 - val_fn: 1488.0000 - val_accuracy: 0.9990 - val_precision: 0.9922 - val_recall: 0.9921 - val_auc: 0.9988\n",
            "Epoch 76/100\n",
            "93/93 [==============================] - 4s 39ms/step - loss: 0.0026 - tp: 873653.0000 - fp: 5850.0000 - tn: 12308396.0000 - fn: 5936.0000 - accuracy: 0.9991 - precision: 0.9933 - recall: 0.9933 - auc: 0.9991 - val_loss: 0.0031 - val_tp: 187004.0000 - val_fp: 1461.0000 - val_tn: 2637315.0000 - val_fn: 1480.0000 - val_accuracy: 0.9990 - val_precision: 0.9922 - val_recall: 0.9921 - val_auc: 0.9989\n",
            "Epoch 77/100\n",
            "93/93 [==============================] - 4s 39ms/step - loss: 0.0026 - tp: 873698.0000 - fp: 5815.0000 - tn: 12308431.0000 - fn: 5891.0000 - accuracy: 0.9991 - precision: 0.9934 - recall: 0.9933 - auc: 0.9992 - val_loss: 0.0031 - val_tp: 186988.0000 - val_fp: 1470.0000 - val_tn: 2637306.0000 - val_fn: 1496.0000 - val_accuracy: 0.9990 - val_precision: 0.9922 - val_recall: 0.9921 - val_auc: 0.9989\n",
            "Epoch 78/100\n",
            "93/93 [==============================] - 4s 39ms/step - loss: 0.0026 - tp: 873662.0000 - fp: 5831.0000 - tn: 12308415.0000 - fn: 5927.0000 - accuracy: 0.9991 - precision: 0.9934 - recall: 0.9933 - auc: 0.9991 - val_loss: 0.0031 - val_tp: 186977.0000 - val_fp: 1489.0000 - val_tn: 2637287.0000 - val_fn: 1507.0000 - val_accuracy: 0.9989 - val_precision: 0.9921 - val_recall: 0.9920 - val_auc: 0.9989\n",
            "Epoch 79/100\n",
            "93/93 [==============================] - 4s 39ms/step - loss: 0.0026 - tp: 873742.0000 - fp: 5756.0000 - tn: 12308490.0000 - fn: 5847.0000 - accuracy: 0.9991 - precision: 0.9935 - recall: 0.9934 - auc: 0.9992 - val_loss: 0.0031 - val_tp: 187016.0000 - val_fp: 1456.0000 - val_tn: 2637320.0000 - val_fn: 1468.0000 - val_accuracy: 0.9990 - val_precision: 0.9923 - val_recall: 0.9922 - val_auc: 0.9988\n",
            "Epoch 80/100\n",
            "93/93 [==============================] - 4s 39ms/step - loss: 0.0026 - tp: 873732.0000 - fp: 5777.0000 - tn: 12308469.0000 - fn: 5857.0000 - accuracy: 0.9991 - precision: 0.9934 - recall: 0.9933 - auc: 0.9992 - val_loss: 0.0032 - val_tp: 186970.0000 - val_fp: 1496.0000 - val_tn: 2637280.0000 - val_fn: 1514.0000 - val_accuracy: 0.9989 - val_precision: 0.9921 - val_recall: 0.9920 - val_auc: 0.9990\n",
            "Epoch 81/100\n",
            "93/93 [==============================] - 4s 39ms/step - loss: 0.0026 - tp: 873696.0000 - fp: 5814.0000 - tn: 12308432.0000 - fn: 5893.0000 - accuracy: 0.9991 - precision: 0.9934 - recall: 0.9933 - auc: 0.9992 - val_loss: 0.0030 - val_tp: 187035.0000 - val_fp: 1433.0000 - val_tn: 2637343.0000 - val_fn: 1449.0000 - val_accuracy: 0.9990 - val_precision: 0.9924 - val_recall: 0.9923 - val_auc: 0.9991\n",
            "Epoch 82/100\n",
            "93/93 [==============================] - 4s 39ms/step - loss: 0.0026 - tp: 873715.0000 - fp: 5781.0000 - tn: 12308465.0000 - fn: 5874.0000 - accuracy: 0.9991 - precision: 0.9934 - recall: 0.9933 - auc: 0.9992 - val_loss: 0.0030 - val_tp: 187054.0000 - val_fp: 1409.0000 - val_tn: 2637367.0000 - val_fn: 1430.0000 - val_accuracy: 0.9990 - val_precision: 0.9925 - val_recall: 0.9924 - val_auc: 0.9989\n",
            "Epoch 83/100\n",
            "93/93 [==============================] - 4s 39ms/step - loss: 0.0026 - tp: 873735.0000 - fp: 5776.0000 - tn: 12308470.0000 - fn: 5854.0000 - accuracy: 0.9991 - precision: 0.9934 - recall: 0.9933 - auc: 0.9992 - val_loss: 0.0030 - val_tp: 187032.0000 - val_fp: 1434.0000 - val_tn: 2637342.0000 - val_fn: 1452.0000 - val_accuracy: 0.9990 - val_precision: 0.9924 - val_recall: 0.9923 - val_auc: 0.9988\n",
            "Epoch 84/100\n",
            "93/93 [==============================] - 4s 39ms/step - loss: 0.0026 - tp: 873763.0000 - fp: 5739.0000 - tn: 12308507.0000 - fn: 5826.0000 - accuracy: 0.9991 - precision: 0.9935 - recall: 0.9934 - auc: 0.9992 - val_loss: 0.0031 - val_tp: 187003.0000 - val_fp: 1470.0000 - val_tn: 2637306.0000 - val_fn: 1481.0000 - val_accuracy: 0.9990 - val_precision: 0.9922 - val_recall: 0.9921 - val_auc: 0.9991\n",
            "Epoch 85/100\n",
            "93/93 [==============================] - 4s 39ms/step - loss: 0.0025 - tp: 873788.0000 - fp: 5726.0000 - tn: 12308520.0000 - fn: 5801.0000 - accuracy: 0.9991 - precision: 0.9935 - recall: 0.9934 - auc: 0.9992 - val_loss: 0.0031 - val_tp: 187023.0000 - val_fp: 1450.0000 - val_tn: 2637326.0000 - val_fn: 1461.0000 - val_accuracy: 0.9990 - val_precision: 0.9923 - val_recall: 0.9922 - val_auc: 0.9989\n",
            "Epoch 86/100\n",
            "93/93 [==============================] - 4s 39ms/step - loss: 0.0026 - tp: 873671.0000 - fp: 5818.0000 - tn: 12308428.0000 - fn: 5918.0000 - accuracy: 0.9991 - precision: 0.9934 - recall: 0.9933 - auc: 0.9992 - val_loss: 0.0032 - val_tp: 186955.0000 - val_fp: 1507.0000 - val_tn: 2637269.0000 - val_fn: 1529.0000 - val_accuracy: 0.9989 - val_precision: 0.9920 - val_recall: 0.9919 - val_auc: 0.9988\n",
            "Epoch 87/100\n",
            "93/93 [==============================] - 4s 39ms/step - loss: 0.0025 - tp: 873747.0000 - fp: 5752.0000 - tn: 12308494.0000 - fn: 5842.0000 - accuracy: 0.9991 - precision: 0.9935 - recall: 0.9934 - auc: 0.9992 - val_loss: 0.0031 - val_tp: 187053.0000 - val_fp: 1414.0000 - val_tn: 2637362.0000 - val_fn: 1431.0000 - val_accuracy: 0.9990 - val_precision: 0.9925 - val_recall: 0.9924 - val_auc: 0.9990\n",
            "Epoch 88/100\n",
            "93/93 [==============================] - 4s 39ms/step - loss: 0.0026 - tp: 873737.0000 - fp: 5781.0000 - tn: 12308465.0000 - fn: 5852.0000 - accuracy: 0.9991 - precision: 0.9934 - recall: 0.9933 - auc: 0.9992 - val_loss: 0.0031 - val_tp: 187010.0000 - val_fp: 1454.0000 - val_tn: 2637322.0000 - val_fn: 1474.0000 - val_accuracy: 0.9990 - val_precision: 0.9923 - val_recall: 0.9922 - val_auc: 0.9989\n",
            "Epoch 89/100\n",
            "93/93 [==============================] - 4s 39ms/step - loss: 0.0026 - tp: 873716.0000 - fp: 5786.0000 - tn: 12308460.0000 - fn: 5873.0000 - accuracy: 0.9991 - precision: 0.9934 - recall: 0.9933 - auc: 0.9992 - val_loss: 0.0029 - val_tp: 187043.0000 - val_fp: 1426.0000 - val_tn: 2637350.0000 - val_fn: 1441.0000 - val_accuracy: 0.9990 - val_precision: 0.9924 - val_recall: 0.9924 - val_auc: 0.9990\n",
            "Epoch 90/100\n",
            "93/93 [==============================] - 4s 39ms/step - loss: 0.0025 - tp: 873776.0000 - fp: 5735.0000 - tn: 12308511.0000 - fn: 5813.0000 - accuracy: 0.9991 - precision: 0.9935 - recall: 0.9934 - auc: 0.9991 - val_loss: 0.0030 - val_tp: 187045.0000 - val_fp: 1415.0000 - val_tn: 2637361.0000 - val_fn: 1439.0000 - val_accuracy: 0.9990 - val_precision: 0.9925 - val_recall: 0.9924 - val_auc: 0.9989\n",
            "Epoch 91/100\n",
            "93/93 [==============================] - 4s 39ms/step - loss: 0.0026 - tp: 873776.0000 - fp: 5734.0000 - tn: 12308512.0000 - fn: 5813.0000 - accuracy: 0.9991 - precision: 0.9935 - recall: 0.9934 - auc: 0.9992 - val_loss: 0.0030 - val_tp: 187065.0000 - val_fp: 1408.0000 - val_tn: 2637368.0000 - val_fn: 1419.0000 - val_accuracy: 0.9990 - val_precision: 0.9925 - val_recall: 0.9925 - val_auc: 0.9990\n",
            "Epoch 92/100\n",
            "93/93 [==============================] - 4s 39ms/step - loss: 0.0025 - tp: 873807.0000 - fp: 5681.0000 - tn: 12308565.0000 - fn: 5782.0000 - accuracy: 0.9991 - precision: 0.9935 - recall: 0.9934 - auc: 0.9992 - val_loss: 0.0031 - val_tp: 186985.0000 - val_fp: 1483.0000 - val_tn: 2637293.0000 - val_fn: 1499.0000 - val_accuracy: 0.9989 - val_precision: 0.9921 - val_recall: 0.9920 - val_auc: 0.9987\n",
            "Epoch 93/100\n",
            "93/93 [==============================] - 4s 41ms/step - loss: 0.0025 - tp: 873760.0000 - fp: 5753.0000 - tn: 12308493.0000 - fn: 5829.0000 - accuracy: 0.9991 - precision: 0.9935 - recall: 0.9934 - auc: 0.9992 - val_loss: 0.0029 - val_tp: 187081.0000 - val_fp: 1385.0000 - val_tn: 2637391.0000 - val_fn: 1403.0000 - val_accuracy: 0.9990 - val_precision: 0.9927 - val_recall: 0.9926 - val_auc: 0.9991\n",
            "Epoch 94/100\n",
            "93/93 [==============================] - 4s 39ms/step - loss: 0.0025 - tp: 873798.0000 - fp: 5723.0000 - tn: 12308523.0000 - fn: 5791.0000 - accuracy: 0.9991 - precision: 0.9935 - recall: 0.9934 - auc: 0.9992 - val_loss: 0.0029 - val_tp: 187070.0000 - val_fp: 1403.0000 - val_tn: 2637373.0000 - val_fn: 1414.0000 - val_accuracy: 0.9990 - val_precision: 0.9926 - val_recall: 0.9925 - val_auc: 0.9991\n",
            "Epoch 95/100\n",
            "93/93 [==============================] - 4s 39ms/step - loss: 0.0025 - tp: 873840.0000 - fp: 5675.0000 - tn: 12308571.0000 - fn: 5749.0000 - accuracy: 0.9991 - precision: 0.9935 - recall: 0.9935 - auc: 0.9992 - val_loss: 0.0029 - val_tp: 187095.0000 - val_fp: 1379.0000 - val_tn: 2637397.0000 - val_fn: 1389.0000 - val_accuracy: 0.9990 - val_precision: 0.9927 - val_recall: 0.9926 - val_auc: 0.9990\n",
            "Epoch 96/100\n",
            "93/93 [==============================] - 4s 39ms/step - loss: 0.0025 - tp: 873822.0000 - fp: 5698.0000 - tn: 12308548.0000 - fn: 5767.0000 - accuracy: 0.9991 - precision: 0.9935 - recall: 0.9934 - auc: 0.9992 - val_loss: 0.0031 - val_tp: 187030.0000 - val_fp: 1433.0000 - val_tn: 2637343.0000 - val_fn: 1454.0000 - val_accuracy: 0.9990 - val_precision: 0.9924 - val_recall: 0.9923 - val_auc: 0.9991\n",
            "Epoch 97/100\n",
            "93/93 [==============================] - 4s 39ms/step - loss: 0.0025 - tp: 873810.0000 - fp: 5701.0000 - tn: 12308545.0000 - fn: 5779.0000 - accuracy: 0.9991 - precision: 0.9935 - recall: 0.9934 - auc: 0.9992 - val_loss: 0.0030 - val_tp: 187048.0000 - val_fp: 1419.0000 - val_tn: 2637357.0000 - val_fn: 1436.0000 - val_accuracy: 0.9990 - val_precision: 0.9925 - val_recall: 0.9924 - val_auc: 0.9989\n",
            "Epoch 98/100\n",
            "93/93 [==============================] - 4s 39ms/step - loss: 0.0025 - tp: 873819.0000 - fp: 5694.0000 - tn: 12308552.0000 - fn: 5770.0000 - accuracy: 0.9991 - precision: 0.9935 - recall: 0.9934 - auc: 0.9992 - val_loss: 0.0031 - val_tp: 187045.0000 - val_fp: 1426.0000 - val_tn: 2637350.0000 - val_fn: 1439.0000 - val_accuracy: 0.9990 - val_precision: 0.9924 - val_recall: 0.9924 - val_auc: 0.9989\n",
            "Epoch 99/100\n",
            "93/93 [==============================] - 4s 39ms/step - loss: 0.0025 - tp: 873876.0000 - fp: 5635.0000 - tn: 12308611.0000 - fn: 5713.0000 - accuracy: 0.9991 - precision: 0.9936 - recall: 0.9935 - auc: 0.9992 - val_loss: 0.0029 - val_tp: 187082.0000 - val_fp: 1392.0000 - val_tn: 2637384.0000 - val_fn: 1402.0000 - val_accuracy: 0.9990 - val_precision: 0.9926 - val_recall: 0.9926 - val_auc: 0.9991\n",
            "Epoch 100/100\n",
            "93/93 [==============================] - 4s 39ms/step - loss: 0.0025 - tp: 873780.0000 - fp: 5718.0000 - tn: 12308528.0000 - fn: 5809.0000 - accuracy: 0.9991 - precision: 0.9935 - recall: 0.9934 - auc: 0.9992 - val_loss: 0.0030 - val_tp: 187051.0000 - val_fp: 1413.0000 - val_tn: 2637363.0000 - val_fn: 1433.0000 - val_accuracy: 0.9990 - val_precision: 0.9925 - val_recall: 0.9924 - val_auc: 0.9991\n"
          ],
          "name": "stdout"
        }
      ]
    },
    {
      "cell_type": "code",
      "metadata": {
        "id": "GupDj2K1vHiM"
      },
      "source": [
        "y_pred_n=model_dnn_n.predict(X_test_n)"
      ],
      "execution_count": null,
      "outputs": []
    },
    {
      "cell_type": "code",
      "metadata": {
        "colab": {
          "base_uri": "https://localhost:8080/"
        },
        "id": "WHDVrG0CvHiN",
        "outputId": "0985783f-14ad-4735-c666-02763e54adbd"
      },
      "source": [
        "display_metrics(y_test_origin, np.argmax(y_pred_n, axis = 1), labels_d)"
      ],
      "execution_count": null,
      "outputs": [
        {
          "output_type": "stream",
          "text": [
            "\n",
            "Accuracy: 0.99\n",
            "\n",
            "Micro Precision: 0.99\n",
            "Micro Recall: 0.99\n",
            "Micro F1-score: 0.99\n",
            "\n",
            "Macro Precision: 0.88\n",
            "Macro Recall: 0.87\n"
          ],
          "name": "stdout"
        },
        {
          "output_type": "stream",
          "text": [
            "/usr/local/lib/python3.6/dist-packages/sklearn/metrics/_classification.py:1272: UndefinedMetricWarning: Precision is ill-defined and being set to 0.0 in labels with no predicted samples. Use `zero_division` parameter to control this behavior.\n",
            "  _warn_prf(average, modifier, msg_start, len(result))\n"
          ],
          "name": "stderr"
        },
        {
          "output_type": "stream",
          "text": [
            "Macro F1-score: 0.87\n",
            "\n",
            "Weighted Precision: 0.99\n",
            "Weighted Recall: 0.99\n",
            "Weighted F1-score: 0.99\n",
            "\n",
            "Classification Report\n",
            "\n"
          ],
          "name": "stdout"
        },
        {
          "output_type": "stream",
          "text": [
            "/usr/local/lib/python3.6/dist-packages/sklearn/metrics/_classification.py:1272: UndefinedMetricWarning: Precision and F-score are ill-defined and being set to 0.0 in labels with no predicted samples. Use `zero_division` parameter to control this behavior.\n",
            "  _warn_prf(average, modifier, msg_start, len(result))\n"
          ],
          "name": "stderr"
        },
        {
          "output_type": "stream",
          "text": [
            "                            precision    recall  f1-score   support\n",
            "\n",
            "                    BENIGN       1.00      0.99      0.99    105019\n",
            "                       Bot       0.86      0.99      0.92       280\n",
            "                      DDoS       0.98      1.00      0.99     19271\n",
            "             DoS GoldenEye       1.00      0.94      0.97      1542\n",
            "                  DoS Hulk       1.00      0.99      0.99     34547\n",
            "          DoS Slowhttptest       0.99      0.99      0.99       828\n",
            "             DoS slowloris       0.98      0.97      0.98       834\n",
            "               FTP-Patator       1.00      0.99      0.99      1178\n",
            "                Heartbleed       1.00      1.00      1.00         2\n",
            "              Infiltration       1.00      1.00      1.00         1\n",
            "                  PortScan       0.96      0.99      0.98     23846\n",
            "               SSH-Patator       0.98      0.98      0.98       826\n",
            "  Web Attack � Brute Force       0.75      0.82      0.78       209\n",
            "Web Attack � Sql Injection       0.00      0.00      0.00         7\n",
            "          Web Attack � XSS       0.77      0.35      0.49        93\n",
            "\n",
            "                  accuracy                           0.99    188483\n",
            "                 macro avg       0.88      0.87      0.87    188483\n",
            "              weighted avg       0.99      0.99      0.99    188483\n",
            "\n"
          ],
          "name": "stdout"
        }
      ]
    },
    {
      "cell_type": "markdown",
      "metadata": {
        "id": "rYdkOs2GvHiN"
      },
      "source": [
        "### Save the model"
      ]
    },
    {
      "cell_type": "code",
      "metadata": {
        "id": "J79kgfK1vHiN"
      },
      "source": [
        "model_dnn_n.save('dnn_n.h5')"
      ],
      "execution_count": null,
      "outputs": []
    },
    {
      "cell_type": "markdown",
      "metadata": {
        "id": "EizAMwTDvHiO"
      },
      "source": [
        "### Train the second DNN model with standardized dataset"
      ]
    },
    {
      "cell_type": "code",
      "metadata": {
        "id": "ukunjr-_vHiO"
      },
      "source": [
        "EPOCHS = 100\n",
        "BATCH_SIZE = 9500"
      ],
      "execution_count": null,
      "outputs": []
    },
    {
      "cell_type": "code",
      "metadata": {
        "colab": {
          "base_uri": "https://localhost:8080/"
        },
        "id": "TbDy-0QLvHiO",
        "outputId": "a293412a-415c-4884-f45b-5b958b96466c"
      },
      "source": [
        "baseline_history_sd = model_dnn_sd.fit(\n",
        "    X_train_sd,\n",
        "    y_train,\n",
        "    batch_size=BATCH_SIZE,\n",
        "    epochs=EPOCHS,\n",
        "    validation_data=(X_val_sd, y_val))"
      ],
      "execution_count": null,
      "outputs": [
        {
          "output_type": "stream",
          "text": [
            "Epoch 1/100\n",
            "93/93 [==============================] - 4s 40ms/step - loss: 7.1730e-04 - tp: 878428.0000 - fp: 1129.0000 - tn: 12313117.0000 - fn: 1161.0000 - accuracy: 0.9998 - precision: 0.9987 - recall: 0.9987 - auc: 0.9999 - val_loss: 0.0019 - val_tp: 187966.0000 - val_fp: 512.0000 - val_tn: 2638264.0000 - val_fn: 518.0000 - val_accuracy: 0.9996 - val_precision: 0.9973 - val_recall: 0.9973 - val_auc: 0.9997\n",
            "Epoch 2/100\n",
            "93/93 [==============================] - 4s 38ms/step - loss: 7.0809e-04 - tp: 878437.0000 - fp: 1123.0000 - tn: 12313123.0000 - fn: 1152.0000 - accuracy: 0.9998 - precision: 0.9987 - recall: 0.9987 - auc: 0.9999 - val_loss: 0.0018 - val_tp: 188069.0000 - val_fp: 411.0000 - val_tn: 2638365.0000 - val_fn: 415.0000 - val_accuracy: 0.9997 - val_precision: 0.9978 - val_recall: 0.9978 - val_auc: 0.9998\n",
            "Epoch 3/100\n",
            "93/93 [==============================] - 4s 38ms/step - loss: 7.0017e-04 - tp: 878462.0000 - fp: 1102.0000 - tn: 12313144.0000 - fn: 1127.0000 - accuracy: 0.9998 - precision: 0.9987 - recall: 0.9987 - auc: 0.9999 - val_loss: 0.0019 - val_tp: 188036.0000 - val_fp: 441.0000 - val_tn: 2638335.0000 - val_fn: 448.0000 - val_accuracy: 0.9997 - val_precision: 0.9977 - val_recall: 0.9976 - val_auc: 0.9997\n",
            "Epoch 4/100\n",
            "93/93 [==============================] - 4s 38ms/step - loss: 6.8385e-04 - tp: 878412.0000 - fp: 1143.0000 - tn: 12313103.0000 - fn: 1177.0000 - accuracy: 0.9998 - precision: 0.9987 - recall: 0.9987 - auc: 0.9999 - val_loss: 0.0019 - val_tp: 188115.0000 - val_fp: 360.0000 - val_tn: 2638416.0000 - val_fn: 369.0000 - val_accuracy: 0.9997 - val_precision: 0.9981 - val_recall: 0.9980 - val_auc: 0.9997\n",
            "Epoch 5/100\n",
            "93/93 [==============================] - 4s 38ms/step - loss: 6.2112e-04 - tp: 878556.0000 - fp: 1004.0000 - tn: 12313242.0000 - fn: 1033.0000 - accuracy: 0.9998 - precision: 0.9989 - recall: 0.9988 - auc: 0.9999 - val_loss: 0.0018 - val_tp: 188147.0000 - val_fp: 327.0000 - val_tn: 2638449.0000 - val_fn: 337.0000 - val_accuracy: 0.9998 - val_precision: 0.9983 - val_recall: 0.9982 - val_auc: 0.9997\n",
            "Epoch 6/100\n",
            "93/93 [==============================] - 4s 39ms/step - loss: 6.0689e-04 - tp: 878605.0000 - fp: 956.0000 - tn: 12313290.0000 - fn: 984.0000 - accuracy: 0.9999 - precision: 0.9989 - recall: 0.9989 - auc: 0.9999 - val_loss: 0.0018 - val_tp: 188119.0000 - val_fp: 358.0000 - val_tn: 2638418.0000 - val_fn: 365.0000 - val_accuracy: 0.9997 - val_precision: 0.9981 - val_recall: 0.9981 - val_auc: 0.9997\n",
            "Epoch 7/100\n",
            "93/93 [==============================] - 4s 39ms/step - loss: 6.1764e-04 - tp: 878517.0000 - fp: 1042.0000 - tn: 12313204.0000 - fn: 1072.0000 - accuracy: 0.9998 - precision: 0.9988 - recall: 0.9988 - auc: 0.9999 - val_loss: 0.0019 - val_tp: 188109.0000 - val_fp: 366.0000 - val_tn: 2638410.0000 - val_fn: 375.0000 - val_accuracy: 0.9997 - val_precision: 0.9981 - val_recall: 0.9980 - val_auc: 0.9997\n",
            "Epoch 8/100\n",
            "93/93 [==============================] - 4s 38ms/step - loss: 6.0283e-04 - tp: 878560.0000 - fp: 1006.0000 - tn: 12313240.0000 - fn: 1029.0000 - accuracy: 0.9998 - precision: 0.9989 - recall: 0.9988 - auc: 0.9999 - val_loss: 0.0019 - val_tp: 188128.0000 - val_fp: 352.0000 - val_tn: 2638424.0000 - val_fn: 356.0000 - val_accuracy: 0.9997 - val_precision: 0.9981 - val_recall: 0.9981 - val_auc: 0.9998\n",
            "Epoch 9/100\n",
            "93/93 [==============================] - 4s 38ms/step - loss: 5.9723e-04 - tp: 878587.0000 - fp: 978.0000 - tn: 12313268.0000 - fn: 1002.0000 - accuracy: 0.9998 - precision: 0.9989 - recall: 0.9989 - auc: 0.9999 - val_loss: 0.0021 - val_tp: 187963.0000 - val_fp: 514.0000 - val_tn: 2638262.0000 - val_fn: 521.0000 - val_accuracy: 0.9996 - val_precision: 0.9973 - val_recall: 0.9972 - val_auc: 0.9997\n",
            "Epoch 10/100\n",
            "93/93 [==============================] - 4s 38ms/step - loss: 5.9144e-04 - tp: 878600.0000 - fp: 958.0000 - tn: 12313288.0000 - fn: 989.0000 - accuracy: 0.9999 - precision: 0.9989 - recall: 0.9989 - auc: 0.9999 - val_loss: 0.0020 - val_tp: 188050.0000 - val_fp: 428.0000 - val_tn: 2638348.0000 - val_fn: 434.0000 - val_accuracy: 0.9997 - val_precision: 0.9977 - val_recall: 0.9977 - val_auc: 0.9997\n",
            "Epoch 11/100\n",
            "93/93 [==============================] - 4s 38ms/step - loss: 5.7317e-04 - tp: 878622.0000 - fp: 947.0000 - tn: 12313299.0000 - fn: 967.0000 - accuracy: 0.9999 - precision: 0.9989 - recall: 0.9989 - auc: 0.9999 - val_loss: 0.0019 - val_tp: 188179.0000 - val_fp: 298.0000 - val_tn: 2638478.0000 - val_fn: 305.0000 - val_accuracy: 0.9998 - val_precision: 0.9984 - val_recall: 0.9984 - val_auc: 0.9997\n",
            "Epoch 12/100\n",
            "93/93 [==============================] - 4s 38ms/step - loss: 5.6855e-04 - tp: 878627.0000 - fp: 935.0000 - tn: 12313311.0000 - fn: 962.0000 - accuracy: 0.9999 - precision: 0.9989 - recall: 0.9989 - auc: 0.9999 - val_loss: 0.0020 - val_tp: 188138.0000 - val_fp: 339.0000 - val_tn: 2638437.0000 - val_fn: 346.0000 - val_accuracy: 0.9998 - val_precision: 0.9982 - val_recall: 0.9982 - val_auc: 0.9997\n",
            "Epoch 13/100\n",
            "93/93 [==============================] - 4s 38ms/step - loss: 5.8870e-04 - tp: 878574.0000 - fp: 990.0000 - tn: 12313256.0000 - fn: 1015.0000 - accuracy: 0.9998 - precision: 0.9989 - recall: 0.9988 - auc: 0.9999 - val_loss: 0.0020 - val_tp: 188130.0000 - val_fp: 346.0000 - val_tn: 2638430.0000 - val_fn: 354.0000 - val_accuracy: 0.9998 - val_precision: 0.9982 - val_recall: 0.9981 - val_auc: 0.9997\n",
            "Epoch 14/100\n",
            "93/93 [==============================] - 4s 39ms/step - loss: 5.5743e-04 - tp: 878629.0000 - fp: 933.0000 - tn: 12313313.0000 - fn: 960.0000 - accuracy: 0.9999 - precision: 0.9989 - recall: 0.9989 - auc: 0.9999 - val_loss: 0.0019 - val_tp: 188156.0000 - val_fp: 321.0000 - val_tn: 2638455.0000 - val_fn: 328.0000 - val_accuracy: 0.9998 - val_precision: 0.9983 - val_recall: 0.9983 - val_auc: 0.9997\n",
            "Epoch 15/100\n",
            "93/93 [==============================] - 4s 39ms/step - loss: 5.7164e-04 - tp: 878597.0000 - fp: 965.0000 - tn: 12313281.0000 - fn: 992.0000 - accuracy: 0.9999 - precision: 0.9989 - recall: 0.9989 - auc: 0.9999 - val_loss: 0.0021 - val_tp: 188063.0000 - val_fp: 415.0000 - val_tn: 2638361.0000 - val_fn: 421.0000 - val_accuracy: 0.9997 - val_precision: 0.9978 - val_recall: 0.9978 - val_auc: 0.9997\n",
            "Epoch 16/100\n",
            "93/93 [==============================] - 4s 38ms/step - loss: 5.9561e-04 - tp: 878471.0000 - fp: 1091.0000 - tn: 12313155.0000 - fn: 1118.0000 - accuracy: 0.9998 - precision: 0.9988 - recall: 0.9987 - auc: 0.9999 - val_loss: 0.0021 - val_tp: 188136.0000 - val_fp: 345.0000 - val_tn: 2638431.0000 - val_fn: 348.0000 - val_accuracy: 0.9998 - val_precision: 0.9982 - val_recall: 0.9982 - val_auc: 0.9997\n",
            "Epoch 17/100\n",
            "93/93 [==============================] - 4s 39ms/step - loss: 5.3557e-04 - tp: 878642.0000 - fp: 918.0000 - tn: 12313328.0000 - fn: 947.0000 - accuracy: 0.9999 - precision: 0.9990 - recall: 0.9989 - auc: 0.9999 - val_loss: 0.0021 - val_tp: 188028.0000 - val_fp: 450.0000 - val_tn: 2638326.0000 - val_fn: 456.0000 - val_accuracy: 0.9997 - val_precision: 0.9976 - val_recall: 0.9976 - val_auc: 0.9997\n",
            "Epoch 18/100\n",
            "93/93 [==============================] - 4s 38ms/step - loss: 5.2549e-04 - tp: 878664.0000 - fp: 900.0000 - tn: 12313346.0000 - fn: 925.0000 - accuracy: 0.9999 - precision: 0.9990 - recall: 0.9989 - auc: 0.9999 - val_loss: 0.0020 - val_tp: 188132.0000 - val_fp: 346.0000 - val_tn: 2638430.0000 - val_fn: 352.0000 - val_accuracy: 0.9998 - val_precision: 0.9982 - val_recall: 0.9981 - val_auc: 0.9997\n",
            "Epoch 19/100\n",
            "93/93 [==============================] - 4s 38ms/step - loss: 5.3949e-04 - tp: 878656.0000 - fp: 905.0000 - tn: 12313341.0000 - fn: 933.0000 - accuracy: 0.9999 - precision: 0.9990 - recall: 0.9989 - auc: 0.9999 - val_loss: 0.0023 - val_tp: 187985.0000 - val_fp: 494.0000 - val_tn: 2638282.0000 - val_fn: 499.0000 - val_accuracy: 0.9996 - val_precision: 0.9974 - val_recall: 0.9974 - val_auc: 0.9997\n",
            "Epoch 20/100\n",
            "93/93 [==============================] - 4s 39ms/step - loss: 5.5074e-04 - tp: 878590.0000 - fp: 970.0000 - tn: 12313276.0000 - fn: 999.0000 - accuracy: 0.9999 - precision: 0.9989 - recall: 0.9989 - auc: 0.9999 - val_loss: 0.0021 - val_tp: 188122.0000 - val_fp: 355.0000 - val_tn: 2638421.0000 - val_fn: 362.0000 - val_accuracy: 0.9997 - val_precision: 0.9981 - val_recall: 0.9981 - val_auc: 0.9997\n",
            "Epoch 21/100\n",
            "93/93 [==============================] - 4s 39ms/step - loss: 5.1494e-04 - tp: 878684.0000 - fp: 883.0000 - tn: 12313363.0000 - fn: 905.0000 - accuracy: 0.9999 - precision: 0.9990 - recall: 0.9990 - auc: 0.9999 - val_loss: 0.0020 - val_tp: 188173.0000 - val_fp: 301.0000 - val_tn: 2638475.0000 - val_fn: 311.0000 - val_accuracy: 0.9998 - val_precision: 0.9984 - val_recall: 0.9983 - val_auc: 0.9997\n",
            "Epoch 22/100\n",
            "93/93 [==============================] - 4s 39ms/step - loss: 5.0394e-04 - tp: 878672.0000 - fp: 887.0000 - tn: 12313359.0000 - fn: 917.0000 - accuracy: 0.9999 - precision: 0.9990 - recall: 0.9990 - auc: 0.9999 - val_loss: 0.0022 - val_tp: 188116.0000 - val_fp: 360.0000 - val_tn: 2638416.0000 - val_fn: 368.0000 - val_accuracy: 0.9997 - val_precision: 0.9981 - val_recall: 0.9980 - val_auc: 0.9997\n",
            "Epoch 23/100\n",
            "93/93 [==============================] - 4s 38ms/step - loss: 4.9963e-04 - tp: 878680.0000 - fp: 884.0000 - tn: 12313362.0000 - fn: 909.0000 - accuracy: 0.9999 - precision: 0.9990 - recall: 0.9990 - auc: 0.9999 - val_loss: 0.0021 - val_tp: 188113.0000 - val_fp: 364.0000 - val_tn: 2638412.0000 - val_fn: 371.0000 - val_accuracy: 0.9997 - val_precision: 0.9981 - val_recall: 0.9980 - val_auc: 0.9997\n",
            "Epoch 24/100\n",
            "93/93 [==============================] - 4s 39ms/step - loss: 5.0231e-04 - tp: 878676.0000 - fp: 888.0000 - tn: 12313358.0000 - fn: 913.0000 - accuracy: 0.9999 - precision: 0.9990 - recall: 0.9990 - auc: 0.9999 - val_loss: 0.0021 - val_tp: 188136.0000 - val_fp: 338.0000 - val_tn: 2638438.0000 - val_fn: 348.0000 - val_accuracy: 0.9998 - val_precision: 0.9982 - val_recall: 0.9982 - val_auc: 0.9997\n",
            "Epoch 25/100\n",
            "93/93 [==============================] - 4s 38ms/step - loss: 5.1692e-04 - tp: 878642.0000 - fp: 925.0000 - tn: 12313321.0000 - fn: 947.0000 - accuracy: 0.9999 - precision: 0.9989 - recall: 0.9989 - auc: 0.9999 - val_loss: 0.0022 - val_tp: 188102.0000 - val_fp: 375.0000 - val_tn: 2638401.0000 - val_fn: 382.0000 - val_accuracy: 0.9997 - val_precision: 0.9980 - val_recall: 0.9980 - val_auc: 0.9997\n",
            "Epoch 26/100\n",
            "93/93 [==============================] - 4s 38ms/step - loss: 4.8512e-04 - tp: 878704.0000 - fp: 860.0000 - tn: 12313386.0000 - fn: 885.0000 - accuracy: 0.9999 - precision: 0.9990 - recall: 0.9990 - auc: 0.9999 - val_loss: 0.0023 - val_tp: 188015.0000 - val_fp: 464.0000 - val_tn: 2638312.0000 - val_fn: 469.0000 - val_accuracy: 0.9997 - val_precision: 0.9975 - val_recall: 0.9975 - val_auc: 0.9997\n",
            "Epoch 27/100\n",
            "93/93 [==============================] - 4s 38ms/step - loss: 4.7797e-04 - tp: 878718.0000 - fp: 849.0000 - tn: 12313397.0000 - fn: 871.0000 - accuracy: 0.9999 - precision: 0.9990 - recall: 0.9990 - auc: 0.9999 - val_loss: 0.0022 - val_tp: 188160.0000 - val_fp: 318.0000 - val_tn: 2638458.0000 - val_fn: 324.0000 - val_accuracy: 0.9998 - val_precision: 0.9983 - val_recall: 0.9983 - val_auc: 0.9997\n",
            "Epoch 28/100\n",
            "93/93 [==============================] - 4s 38ms/step - loss: 4.8694e-04 - tp: 878706.0000 - fp: 851.0000 - tn: 12313395.0000 - fn: 883.0000 - accuracy: 0.9999 - precision: 0.9990 - recall: 0.9990 - auc: 0.9999 - val_loss: 0.0024 - val_tp: 187992.0000 - val_fp: 484.0000 - val_tn: 2638292.0000 - val_fn: 492.0000 - val_accuracy: 0.9997 - val_precision: 0.9974 - val_recall: 0.9974 - val_auc: 0.9997\n",
            "Epoch 29/100\n",
            "93/93 [==============================] - 4s 39ms/step - loss: 5.6442e-04 - tp: 878474.0000 - fp: 1082.0000 - tn: 12313164.0000 - fn: 1115.0000 - accuracy: 0.9998 - precision: 0.9988 - recall: 0.9987 - auc: 0.9999 - val_loss: 0.0022 - val_tp: 188146.0000 - val_fp: 332.0000 - val_tn: 2638444.0000 - val_fn: 338.0000 - val_accuracy: 0.9998 - val_precision: 0.9982 - val_recall: 0.9982 - val_auc: 0.9997\n",
            "Epoch 30/100\n",
            "93/93 [==============================] - 4s 38ms/step - loss: 4.6885e-04 - tp: 878712.0000 - fp: 847.0000 - tn: 12313399.0000 - fn: 877.0000 - accuracy: 0.9999 - precision: 0.9990 - recall: 0.9990 - auc: 0.9999 - val_loss: 0.0023 - val_tp: 188123.0000 - val_fp: 351.0000 - val_tn: 2638425.0000 - val_fn: 361.0000 - val_accuracy: 0.9997 - val_precision: 0.9981 - val_recall: 0.9981 - val_auc: 0.9997\n",
            "Epoch 31/100\n",
            "93/93 [==============================] - 4s 38ms/step - loss: 4.5613e-04 - tp: 878736.0000 - fp: 825.0000 - tn: 12313421.0000 - fn: 853.0000 - accuracy: 0.9999 - precision: 0.9991 - recall: 0.9990 - auc: 0.9999 - val_loss: 0.0021 - val_tp: 188165.0000 - val_fp: 314.0000 - val_tn: 2638462.0000 - val_fn: 319.0000 - val_accuracy: 0.9998 - val_precision: 0.9983 - val_recall: 0.9983 - val_auc: 0.9997\n",
            "Epoch 32/100\n",
            "93/93 [==============================] - 4s 38ms/step - loss: 4.7140e-04 - tp: 878706.0000 - fp: 856.0000 - tn: 12313390.0000 - fn: 883.0000 - accuracy: 0.9999 - precision: 0.9990 - recall: 0.9990 - auc: 0.9999 - val_loss: 0.0022 - val_tp: 188164.0000 - val_fp: 312.0000 - val_tn: 2638464.0000 - val_fn: 320.0000 - val_accuracy: 0.9998 - val_precision: 0.9983 - val_recall: 0.9983 - val_auc: 0.9997\n",
            "Epoch 33/100\n",
            "93/93 [==============================] - 4s 38ms/step - loss: 4.5628e-04 - tp: 878729.0000 - fp: 838.0000 - tn: 12313408.0000 - fn: 860.0000 - accuracy: 0.9999 - precision: 0.9990 - recall: 0.9990 - auc: 0.9999 - val_loss: 0.0022 - val_tp: 188125.0000 - val_fp: 352.0000 - val_tn: 2638424.0000 - val_fn: 359.0000 - val_accuracy: 0.9997 - val_precision: 0.9981 - val_recall: 0.9981 - val_auc: 0.9997\n",
            "Epoch 34/100\n",
            "93/93 [==============================] - 4s 38ms/step - loss: 4.5233e-04 - tp: 878710.0000 - fp: 853.0000 - tn: 12313393.0000 - fn: 879.0000 - accuracy: 0.9999 - precision: 0.9990 - recall: 0.9990 - auc: 0.9999 - val_loss: 0.0022 - val_tp: 188160.0000 - val_fp: 316.0000 - val_tn: 2638460.0000 - val_fn: 324.0000 - val_accuracy: 0.9998 - val_precision: 0.9983 - val_recall: 0.9983 - val_auc: 0.9997\n",
            "Epoch 35/100\n",
            "93/93 [==============================] - 4s 39ms/step - loss: 4.5193e-04 - tp: 878730.0000 - fp: 832.0000 - tn: 12313414.0000 - fn: 859.0000 - accuracy: 0.9999 - precision: 0.9991 - recall: 0.9990 - auc: 0.9999 - val_loss: 0.0021 - val_tp: 188164.0000 - val_fp: 311.0000 - val_tn: 2638465.0000 - val_fn: 320.0000 - val_accuracy: 0.9998 - val_precision: 0.9983 - val_recall: 0.9983 - val_auc: 0.9997\n",
            "Epoch 36/100\n",
            "93/93 [==============================] - 4s 38ms/step - loss: 4.5001e-04 - tp: 878739.0000 - fp: 829.0000 - tn: 12313417.0000 - fn: 850.0000 - accuracy: 0.9999 - precision: 0.9991 - recall: 0.9990 - auc: 0.9999 - val_loss: 0.0023 - val_tp: 188139.0000 - val_fp: 338.0000 - val_tn: 2638438.0000 - val_fn: 345.0000 - val_accuracy: 0.9998 - val_precision: 0.9982 - val_recall: 0.9982 - val_auc: 0.9997\n",
            "Epoch 37/100\n",
            "93/93 [==============================] - 4s 39ms/step - loss: 0.0017 - tp: 877660.0000 - fp: 1905.0000 - tn: 12312341.0000 - fn: 1929.0000 - accuracy: 0.9997 - precision: 0.9978 - recall: 0.9978 - auc: 0.9996 - val_loss: 0.0398 - val_tp: 186366.0000 - val_fp: 2106.0000 - val_tn: 2636670.0000 - val_fn: 2118.0000 - val_accuracy: 0.9985 - val_precision: 0.9888 - val_recall: 0.9888 - val_auc: 0.9948\n",
            "Epoch 38/100\n",
            "93/93 [==============================] - 4s 39ms/step - loss: 0.0076 - tp: 874048.0000 - fp: 5481.0000 - tn: 12308765.0000 - fn: 5541.0000 - accuracy: 0.9992 - precision: 0.9938 - recall: 0.9937 - auc: 0.9986 - val_loss: 0.0021 - val_tp: 187815.0000 - val_fp: 660.0000 - val_tn: 2638116.0000 - val_fn: 669.0000 - val_accuracy: 0.9995 - val_precision: 0.9965 - val_recall: 0.9965 - val_auc: 0.9998\n",
            "Epoch 39/100\n",
            "93/93 [==============================] - 4s 39ms/step - loss: 0.0012 - tp: 877123.0000 - fp: 2438.0000 - tn: 12311808.0000 - fn: 2466.0000 - accuracy: 0.9996 - precision: 0.9972 - recall: 0.9972 - auc: 0.9999 - val_loss: 0.0020 - val_tp: 187876.0000 - val_fp: 600.0000 - val_tn: 2638176.0000 - val_fn: 608.0000 - val_accuracy: 0.9996 - val_precision: 0.9968 - val_recall: 0.9968 - val_auc: 0.9998\n",
            "Epoch 40/100\n",
            "93/93 [==============================] - 4s 39ms/step - loss: 9.9060e-04 - tp: 877569.0000 - fp: 1978.0000 - tn: 12312268.0000 - fn: 2020.0000 - accuracy: 0.9997 - precision: 0.9978 - recall: 0.9977 - auc: 0.9999 - val_loss: 0.0020 - val_tp: 188005.0000 - val_fp: 467.0000 - val_tn: 2638309.0000 - val_fn: 479.0000 - val_accuracy: 0.9997 - val_precision: 0.9975 - val_recall: 0.9975 - val_auc: 0.9998\n",
            "Epoch 41/100\n",
            "93/93 [==============================] - 4s 39ms/step - loss: 8.3180e-04 - tp: 878099.0000 - fp: 1456.0000 - tn: 12312790.0000 - fn: 1490.0000 - accuracy: 0.9998 - precision: 0.9983 - recall: 0.9983 - auc: 0.9999 - val_loss: 0.0020 - val_tp: 187962.0000 - val_fp: 514.0000 - val_tn: 2638262.0000 - val_fn: 522.0000 - val_accuracy: 0.9996 - val_precision: 0.9973 - val_recall: 0.9972 - val_auc: 0.9997\n",
            "Epoch 42/100\n",
            "93/93 [==============================] - 4s 39ms/step - loss: 7.3365e-04 - tp: 878342.0000 - fp: 1220.0000 - tn: 12313026.0000 - fn: 1247.0000 - accuracy: 0.9998 - precision: 0.9986 - recall: 0.9986 - auc: 0.9999 - val_loss: 0.0020 - val_tp: 188068.0000 - val_fp: 408.0000 - val_tn: 2638368.0000 - val_fn: 416.0000 - val_accuracy: 0.9997 - val_precision: 0.9978 - val_recall: 0.9978 - val_auc: 0.9997\n",
            "Epoch 43/100\n",
            "93/93 [==============================] - 4s 39ms/step - loss: 6.9810e-04 - tp: 878445.0000 - fp: 1113.0000 - tn: 12313133.0000 - fn: 1144.0000 - accuracy: 0.9998 - precision: 0.9987 - recall: 0.9987 - auc: 0.9999 - val_loss: 0.0020 - val_tp: 188080.0000 - val_fp: 399.0000 - val_tn: 2638377.0000 - val_fn: 404.0000 - val_accuracy: 0.9997 - val_precision: 0.9979 - val_recall: 0.9979 - val_auc: 0.9997\n",
            "Epoch 44/100\n",
            "93/93 [==============================] - 4s 39ms/step - loss: 6.7491e-04 - tp: 878469.0000 - fp: 1094.0000 - tn: 12313152.0000 - fn: 1120.0000 - accuracy: 0.9998 - precision: 0.9988 - recall: 0.9987 - auc: 0.9999 - val_loss: 0.0021 - val_tp: 188084.0000 - val_fp: 397.0000 - val_tn: 2638379.0000 - val_fn: 400.0000 - val_accuracy: 0.9997 - val_precision: 0.9979 - val_recall: 0.9979 - val_auc: 0.9997\n",
            "Epoch 45/100\n",
            "93/93 [==============================] - 4s 39ms/step - loss: 6.5153e-04 - tp: 878524.0000 - fp: 1030.0000 - tn: 12313216.0000 - fn: 1065.0000 - accuracy: 0.9998 - precision: 0.9988 - recall: 0.9988 - auc: 0.9999 - val_loss: 0.0021 - val_tp: 188079.0000 - val_fp: 398.0000 - val_tn: 2638378.0000 - val_fn: 405.0000 - val_accuracy: 0.9997 - val_precision: 0.9979 - val_recall: 0.9979 - val_auc: 0.9997\n",
            "Epoch 46/100\n",
            "93/93 [==============================] - 4s 41ms/step - loss: 6.2879e-04 - tp: 878576.0000 - fp: 982.0000 - tn: 12313264.0000 - fn: 1013.0000 - accuracy: 0.9998 - precision: 0.9989 - recall: 0.9988 - auc: 0.9999 - val_loss: 0.0021 - val_tp: 188106.0000 - val_fp: 371.0000 - val_tn: 2638405.0000 - val_fn: 378.0000 - val_accuracy: 0.9997 - val_precision: 0.9980 - val_recall: 0.9980 - val_auc: 0.9997\n",
            "Epoch 47/100\n",
            "93/93 [==============================] - 4s 39ms/step - loss: 6.0209e-04 - tp: 878595.0000 - fp: 963.0000 - tn: 12313283.0000 - fn: 994.0000 - accuracy: 0.9999 - precision: 0.9989 - recall: 0.9989 - auc: 0.9999 - val_loss: 0.0021 - val_tp: 188175.0000 - val_fp: 300.0000 - val_tn: 2638476.0000 - val_fn: 309.0000 - val_accuracy: 0.9998 - val_precision: 0.9984 - val_recall: 0.9984 - val_auc: 0.9997\n",
            "Epoch 48/100\n",
            "93/93 [==============================] - 4s 39ms/step - loss: 5.2708e-04 - tp: 878699.0000 - fp: 859.0000 - tn: 12313387.0000 - fn: 890.0000 - accuracy: 0.9999 - precision: 0.9990 - recall: 0.9990 - auc: 0.9999 - val_loss: 0.0022 - val_tp: 188125.0000 - val_fp: 355.0000 - val_tn: 2638421.0000 - val_fn: 359.0000 - val_accuracy: 0.9997 - val_precision: 0.9981 - val_recall: 0.9981 - val_auc: 0.9997\n",
            "Epoch 49/100\n",
            "93/93 [==============================] - 4s 39ms/step - loss: 4.9659e-04 - tp: 878742.0000 - fp: 815.0000 - tn: 12313431.0000 - fn: 847.0000 - accuracy: 0.9999 - precision: 0.9991 - recall: 0.9990 - auc: 0.9999 - val_loss: 0.0021 - val_tp: 188142.0000 - val_fp: 336.0000 - val_tn: 2638440.0000 - val_fn: 342.0000 - val_accuracy: 0.9998 - val_precision: 0.9982 - val_recall: 0.9982 - val_auc: 0.9997\n",
            "Epoch 50/100\n",
            "93/93 [==============================] - 4s 40ms/step - loss: 4.7878e-04 - tp: 878745.0000 - fp: 820.0000 - tn: 12313426.0000 - fn: 844.0000 - accuracy: 0.9999 - precision: 0.9991 - recall: 0.9990 - auc: 0.9999 - val_loss: 0.0022 - val_tp: 188128.0000 - val_fp: 346.0000 - val_tn: 2638430.0000 - val_fn: 356.0000 - val_accuracy: 0.9998 - val_precision: 0.9982 - val_recall: 0.9981 - val_auc: 0.9997\n",
            "Epoch 51/100\n",
            "93/93 [==============================] - 4s 39ms/step - loss: 4.6825e-04 - tp: 878751.0000 - fp: 803.0000 - tn: 12313443.0000 - fn: 838.0000 - accuracy: 0.9999 - precision: 0.9991 - recall: 0.9990 - auc: 0.9999 - val_loss: 0.0021 - val_tp: 188167.0000 - val_fp: 313.0000 - val_tn: 2638463.0000 - val_fn: 317.0000 - val_accuracy: 0.9998 - val_precision: 0.9983 - val_recall: 0.9983 - val_auc: 0.9997\n",
            "Epoch 52/100\n",
            "93/93 [==============================] - 4s 39ms/step - loss: 4.6058e-04 - tp: 878772.0000 - fp: 790.0000 - tn: 12313456.0000 - fn: 817.0000 - accuracy: 0.9999 - precision: 0.9991 - recall: 0.9991 - auc: 0.9999 - val_loss: 0.0023 - val_tp: 188076.0000 - val_fp: 402.0000 - val_tn: 2638374.0000 - val_fn: 408.0000 - val_accuracy: 0.9997 - val_precision: 0.9979 - val_recall: 0.9978 - val_auc: 0.9997\n",
            "Epoch 53/100\n",
            "93/93 [==============================] - 4s 39ms/step - loss: 4.7071e-04 - tp: 878719.0000 - fp: 845.0000 - tn: 12313401.0000 - fn: 870.0000 - accuracy: 0.9999 - precision: 0.9990 - recall: 0.9990 - auc: 0.9999 - val_loss: 0.0023 - val_tp: 188096.0000 - val_fp: 382.0000 - val_tn: 2638394.0000 - val_fn: 388.0000 - val_accuracy: 0.9997 - val_precision: 0.9980 - val_recall: 0.9979 - val_auc: 0.9997\n",
            "Epoch 54/100\n",
            "93/93 [==============================] - 4s 39ms/step - loss: 4.5273e-04 - tp: 878762.0000 - fp: 802.0000 - tn: 12313444.0000 - fn: 827.0000 - accuracy: 0.9999 - precision: 0.9991 - recall: 0.9991 - auc: 0.9999 - val_loss: 0.0022 - val_tp: 188174.0000 - val_fp: 302.0000 - val_tn: 2638474.0000 - val_fn: 310.0000 - val_accuracy: 0.9998 - val_precision: 0.9984 - val_recall: 0.9984 - val_auc: 0.9997\n",
            "Epoch 55/100\n",
            "93/93 [==============================] - 4s 39ms/step - loss: 4.4792e-04 - tp: 878746.0000 - fp: 801.0000 - tn: 12313445.0000 - fn: 843.0000 - accuracy: 0.9999 - precision: 0.9991 - recall: 0.9990 - auc: 0.9999 - val_loss: 0.0023 - val_tp: 188155.0000 - val_fp: 321.0000 - val_tn: 2638455.0000 - val_fn: 329.0000 - val_accuracy: 0.9998 - val_precision: 0.9983 - val_recall: 0.9983 - val_auc: 0.9997\n",
            "Epoch 56/100\n",
            "93/93 [==============================] - 4s 40ms/step - loss: 4.4294e-04 - tp: 878766.0000 - fp: 790.0000 - tn: 12313456.0000 - fn: 823.0000 - accuracy: 0.9999 - precision: 0.9991 - recall: 0.9991 - auc: 0.9999 - val_loss: 0.0023 - val_tp: 188149.0000 - val_fp: 328.0000 - val_tn: 2638448.0000 - val_fn: 335.0000 - val_accuracy: 0.9998 - val_precision: 0.9983 - val_recall: 0.9982 - val_auc: 0.9997\n",
            "Epoch 57/100\n",
            "93/93 [==============================] - 4s 39ms/step - loss: 4.3596e-04 - tp: 878772.0000 - fp: 786.0000 - tn: 12313460.0000 - fn: 817.0000 - accuracy: 0.9999 - precision: 0.9991 - recall: 0.9991 - auc: 0.9999 - val_loss: 0.0023 - val_tp: 188170.0000 - val_fp: 312.0000 - val_tn: 2638464.0000 - val_fn: 314.0000 - val_accuracy: 0.9998 - val_precision: 0.9983 - val_recall: 0.9983 - val_auc: 0.9997\n",
            "Epoch 58/100\n",
            "93/93 [==============================] - 4s 39ms/step - loss: 4.3682e-04 - tp: 878761.0000 - fp: 794.0000 - tn: 12313452.0000 - fn: 828.0000 - accuracy: 0.9999 - precision: 0.9991 - recall: 0.9991 - auc: 0.9999 - val_loss: 0.0023 - val_tp: 188173.0000 - val_fp: 308.0000 - val_tn: 2638468.0000 - val_fn: 311.0000 - val_accuracy: 0.9998 - val_precision: 0.9984 - val_recall: 0.9983 - val_auc: 0.9998\n",
            "Epoch 59/100\n",
            "93/93 [==============================] - 4s 39ms/step - loss: 4.2751e-04 - tp: 878791.0000 - fp: 770.0000 - tn: 12313476.0000 - fn: 798.0000 - accuracy: 0.9999 - precision: 0.9991 - recall: 0.9991 - auc: 0.9999 - val_loss: 0.0025 - val_tp: 188130.0000 - val_fp: 348.0000 - val_tn: 2638428.0000 - val_fn: 354.0000 - val_accuracy: 0.9998 - val_precision: 0.9982 - val_recall: 0.9981 - val_auc: 0.9997\n",
            "Epoch 60/100\n",
            "93/93 [==============================] - 4s 39ms/step - loss: 4.3143e-04 - tp: 878772.0000 - fp: 784.0000 - tn: 12313462.0000 - fn: 817.0000 - accuracy: 0.9999 - precision: 0.9991 - recall: 0.9991 - auc: 0.9999 - val_loss: 0.0024 - val_tp: 188153.0000 - val_fp: 324.0000 - val_tn: 2638452.0000 - val_fn: 331.0000 - val_accuracy: 0.9998 - val_precision: 0.9983 - val_recall: 0.9982 - val_auc: 0.9997\n",
            "Epoch 61/100\n",
            "93/93 [==============================] - 4s 39ms/step - loss: 4.2125e-04 - tp: 878771.0000 - fp: 784.0000 - tn: 12313462.0000 - fn: 818.0000 - accuracy: 0.9999 - precision: 0.9991 - recall: 0.9991 - auc: 0.9999 - val_loss: 0.0023 - val_tp: 188188.0000 - val_fp: 293.0000 - val_tn: 2638483.0000 - val_fn: 296.0000 - val_accuracy: 0.9998 - val_precision: 0.9984 - val_recall: 0.9984 - val_auc: 0.9997\n",
            "Epoch 62/100\n",
            "93/93 [==============================] - 4s 39ms/step - loss: 0.0065 - tp: 873797.0000 - fp: 5744.0000 - tn: 12308502.0000 - fn: 5792.0000 - accuracy: 0.9991 - precision: 0.9935 - recall: 0.9934 - auc: 0.9983 - val_loss: 0.0025 - val_tp: 187680.0000 - val_fp: 797.0000 - val_tn: 2637979.0000 - val_fn: 804.0000 - val_accuracy: 0.9994 - val_precision: 0.9958 - val_recall: 0.9957 - val_auc: 0.9997\n",
            "Epoch 63/100\n",
            "93/93 [==============================] - 4s 38ms/step - loss: 0.0011 - tp: 877206.0000 - fp: 2360.0000 - tn: 12311886.0000 - fn: 2383.0000 - accuracy: 0.9996 - precision: 0.9973 - recall: 0.9973 - auc: 0.9999 - val_loss: 0.0022 - val_tp: 187881.0000 - val_fp: 597.0000 - val_tn: 2638179.0000 - val_fn: 603.0000 - val_accuracy: 0.9996 - val_precision: 0.9968 - val_recall: 0.9968 - val_auc: 0.9998\n",
            "Epoch 64/100\n",
            "93/93 [==============================] - 4s 39ms/step - loss: 9.1111e-04 - tp: 877783.0000 - fp: 1778.0000 - tn: 12312468.0000 - fn: 1806.0000 - accuracy: 0.9997 - precision: 0.9980 - recall: 0.9979 - auc: 0.9999 - val_loss: 0.0022 - val_tp: 187939.0000 - val_fp: 540.0000 - val_tn: 2638236.0000 - val_fn: 545.0000 - val_accuracy: 0.9996 - val_precision: 0.9971 - val_recall: 0.9971 - val_auc: 0.9998\n",
            "Epoch 65/100\n",
            "93/93 [==============================] - 4s 39ms/step - loss: 8.2277e-04 - tp: 878058.0000 - fp: 1500.0000 - tn: 12312746.0000 - fn: 1531.0000 - accuracy: 0.9998 - precision: 0.9983 - recall: 0.9983 - auc: 0.9999 - val_loss: 0.0022 - val_tp: 188023.0000 - val_fp: 453.0000 - val_tn: 2638323.0000 - val_fn: 461.0000 - val_accuracy: 0.9997 - val_precision: 0.9976 - val_recall: 0.9976 - val_auc: 0.9998\n",
            "Epoch 66/100\n",
            "93/93 [==============================] - 4s 39ms/step - loss: 7.7689e-04 - tp: 878184.0000 - fp: 1386.0000 - tn: 12312860.0000 - fn: 1405.0000 - accuracy: 0.9998 - precision: 0.9984 - recall: 0.9984 - auc: 0.9999 - val_loss: 0.0022 - val_tp: 187973.0000 - val_fp: 497.0000 - val_tn: 2638279.0000 - val_fn: 511.0000 - val_accuracy: 0.9996 - val_precision: 0.9974 - val_recall: 0.9973 - val_auc: 0.9998\n",
            "Epoch 67/100\n",
            "93/93 [==============================] - 4s 39ms/step - loss: 7.6550e-04 - tp: 878287.0000 - fp: 1274.0000 - tn: 12312972.0000 - fn: 1302.0000 - accuracy: 0.9998 - precision: 0.9986 - recall: 0.9985 - auc: 0.9999 - val_loss: 0.0013 - val_tp: 188019.0000 - val_fp: 457.0000 - val_tn: 2638319.0000 - val_fn: 465.0000 - val_accuracy: 0.9997 - val_precision: 0.9976 - val_recall: 0.9975 - val_auc: 0.9998\n",
            "Epoch 68/100\n",
            "93/93 [==============================] - 4s 39ms/step - loss: 7.3574e-04 - tp: 878333.0000 - fp: 1226.0000 - tn: 12313020.0000 - fn: 1256.0000 - accuracy: 0.9998 - precision: 0.9986 - recall: 0.9986 - auc: 0.9999 - val_loss: 0.0013 - val_tp: 187954.0000 - val_fp: 525.0000 - val_tn: 2638251.0000 - val_fn: 530.0000 - val_accuracy: 0.9996 - val_precision: 0.9972 - val_recall: 0.9972 - val_auc: 0.9997\n",
            "Epoch 69/100\n",
            "93/93 [==============================] - 4s 39ms/step - loss: 6.6227e-04 - tp: 878446.0000 - fp: 1111.0000 - tn: 12313135.0000 - fn: 1143.0000 - accuracy: 0.9998 - precision: 0.9987 - recall: 0.9987 - auc: 0.9999 - val_loss: 0.0012 - val_tp: 188046.0000 - val_fp: 432.0000 - val_tn: 2638344.0000 - val_fn: 438.0000 - val_accuracy: 0.9997 - val_precision: 0.9977 - val_recall: 0.9977 - val_auc: 0.9997\n",
            "Epoch 70/100\n",
            "93/93 [==============================] - 4s 39ms/step - loss: 5.7767e-04 - tp: 878626.0000 - fp: 932.0000 - tn: 12313314.0000 - fn: 963.0000 - accuracy: 0.9999 - precision: 0.9989 - recall: 0.9989 - auc: 0.9999 - val_loss: 0.0012 - val_tp: 188108.0000 - val_fp: 369.0000 - val_tn: 2638407.0000 - val_fn: 376.0000 - val_accuracy: 0.9997 - val_precision: 0.9980 - val_recall: 0.9980 - val_auc: 0.9997\n",
            "Epoch 71/100\n",
            "93/93 [==============================] - 4s 39ms/step - loss: 5.2316e-04 - tp: 878715.0000 - fp: 848.0000 - tn: 12313398.0000 - fn: 874.0000 - accuracy: 0.9999 - precision: 0.9990 - recall: 0.9990 - auc: 0.9999 - val_loss: 0.0013 - val_tp: 188073.0000 - val_fp: 406.0000 - val_tn: 2638370.0000 - val_fn: 411.0000 - val_accuracy: 0.9997 - val_precision: 0.9978 - val_recall: 0.9978 - val_auc: 0.9997\n",
            "Epoch 72/100\n",
            "93/93 [==============================] - 4s 39ms/step - loss: 5.0270e-04 - tp: 878720.0000 - fp: 838.0000 - tn: 12313408.0000 - fn: 869.0000 - accuracy: 0.9999 - precision: 0.9990 - recall: 0.9990 - auc: 0.9999 - val_loss: 0.0012 - val_tp: 188112.0000 - val_fp: 369.0000 - val_tn: 2638407.0000 - val_fn: 372.0000 - val_accuracy: 0.9997 - val_precision: 0.9980 - val_recall: 0.9980 - val_auc: 0.9997\n",
            "Epoch 73/100\n",
            "93/93 [==============================] - 4s 39ms/step - loss: 4.7777e-04 - tp: 878757.0000 - fp: 802.0000 - tn: 12313444.0000 - fn: 832.0000 - accuracy: 0.9999 - precision: 0.9991 - recall: 0.9991 - auc: 0.9999 - val_loss: 0.0012 - val_tp: 188155.0000 - val_fp: 325.0000 - val_tn: 2638451.0000 - val_fn: 329.0000 - val_accuracy: 0.9998 - val_precision: 0.9983 - val_recall: 0.9983 - val_auc: 0.9997\n",
            "Epoch 74/100\n",
            "93/93 [==============================] - 4s 39ms/step - loss: 4.7500e-04 - tp: 878764.0000 - fp: 796.0000 - tn: 12313450.0000 - fn: 825.0000 - accuracy: 0.9999 - precision: 0.9991 - recall: 0.9991 - auc: 0.9999 - val_loss: 0.0010 - val_tp: 188187.0000 - val_fp: 288.0000 - val_tn: 2638488.0000 - val_fn: 297.0000 - val_accuracy: 0.9998 - val_precision: 0.9985 - val_recall: 0.9984 - val_auc: 0.9998\n",
            "Epoch 75/100\n",
            "93/93 [==============================] - 4s 39ms/step - loss: 4.8517e-04 - tp: 878745.0000 - fp: 815.0000 - tn: 12313431.0000 - fn: 844.0000 - accuracy: 0.9999 - precision: 0.9991 - recall: 0.9990 - auc: 0.9999 - val_loss: 0.0011 - val_tp: 188163.0000 - val_fp: 317.0000 - val_tn: 2638459.0000 - val_fn: 321.0000 - val_accuracy: 0.9998 - val_precision: 0.9983 - val_recall: 0.9983 - val_auc: 0.9997\n",
            "Epoch 76/100\n",
            "93/93 [==============================] - 4s 39ms/step - loss: 4.6970e-04 - tp: 878737.0000 - fp: 827.0000 - tn: 12313419.0000 - fn: 852.0000 - accuracy: 0.9999 - precision: 0.9991 - recall: 0.9990 - auc: 0.9999 - val_loss: 0.0011 - val_tp: 188165.0000 - val_fp: 314.0000 - val_tn: 2638462.0000 - val_fn: 319.0000 - val_accuracy: 0.9998 - val_precision: 0.9983 - val_recall: 0.9983 - val_auc: 0.9997\n",
            "Epoch 77/100\n",
            "93/93 [==============================] - 4s 39ms/step - loss: 4.6020e-04 - tp: 878751.0000 - fp: 804.0000 - tn: 12313442.0000 - fn: 838.0000 - accuracy: 0.9999 - precision: 0.9991 - recall: 0.9990 - auc: 0.9999 - val_loss: 0.0012 - val_tp: 188114.0000 - val_fp: 368.0000 - val_tn: 2638408.0000 - val_fn: 370.0000 - val_accuracy: 0.9997 - val_precision: 0.9980 - val_recall: 0.9980 - val_auc: 0.9997\n",
            "Epoch 78/100\n",
            "93/93 [==============================] - 4s 39ms/step - loss: 4.5432e-04 - tp: 878770.0000 - fp: 784.0000 - tn: 12313462.0000 - fn: 819.0000 - accuracy: 0.9999 - precision: 0.9991 - recall: 0.9991 - auc: 0.9999 - val_loss: 0.0012 - val_tp: 188126.0000 - val_fp: 351.0000 - val_tn: 2638425.0000 - val_fn: 358.0000 - val_accuracy: 0.9997 - val_precision: 0.9981 - val_recall: 0.9981 - val_auc: 0.9997\n",
            "Epoch 79/100\n",
            "93/93 [==============================] - 4s 39ms/step - loss: 4.4379e-04 - tp: 878791.0000 - fp: 758.0000 - tn: 12313488.0000 - fn: 798.0000 - accuracy: 0.9999 - precision: 0.9991 - recall: 0.9991 - auc: 0.9999 - val_loss: 0.0012 - val_tp: 188168.0000 - val_fp: 308.0000 - val_tn: 2638468.0000 - val_fn: 316.0000 - val_accuracy: 0.9998 - val_precision: 0.9984 - val_recall: 0.9983 - val_auc: 0.9997\n",
            "Epoch 80/100\n",
            "93/93 [==============================] - 4s 39ms/step - loss: 4.2160e-04 - tp: 878802.0000 - fp: 754.0000 - tn: 12313492.0000 - fn: 787.0000 - accuracy: 0.9999 - precision: 0.9991 - recall: 0.9991 - auc: 0.9999 - val_loss: 0.0011 - val_tp: 188184.0000 - val_fp: 296.0000 - val_tn: 2638480.0000 - val_fn: 300.0000 - val_accuracy: 0.9998 - val_precision: 0.9984 - val_recall: 0.9984 - val_auc: 0.9997\n",
            "Epoch 81/100\n",
            "93/93 [==============================] - 4s 39ms/step - loss: 4.1009e-04 - tp: 878808.0000 - fp: 745.0000 - tn: 12313501.0000 - fn: 781.0000 - accuracy: 0.9999 - precision: 0.9992 - recall: 0.9991 - auc: 0.9999 - val_loss: 0.0012 - val_tp: 188169.0000 - val_fp: 307.0000 - val_tn: 2638469.0000 - val_fn: 315.0000 - val_accuracy: 0.9998 - val_precision: 0.9984 - val_recall: 0.9983 - val_auc: 0.9997\n",
            "Epoch 82/100\n",
            "93/93 [==============================] - 4s 39ms/step - loss: 4.1777e-04 - tp: 878779.0000 - fp: 778.0000 - tn: 12313468.0000 - fn: 810.0000 - accuracy: 0.9999 - precision: 0.9991 - recall: 0.9991 - auc: 0.9999 - val_loss: 0.0012 - val_tp: 188150.0000 - val_fp: 324.0000 - val_tn: 2638452.0000 - val_fn: 334.0000 - val_accuracy: 0.9998 - val_precision: 0.9983 - val_recall: 0.9982 - val_auc: 0.9997\n",
            "Epoch 83/100\n",
            "93/93 [==============================] - 4s 39ms/step - loss: 4.0500e-04 - tp: 878798.0000 - fp: 754.0000 - tn: 12313492.0000 - fn: 791.0000 - accuracy: 0.9999 - precision: 0.9991 - recall: 0.9991 - auc: 0.9999 - val_loss: 0.0012 - val_tp: 188158.0000 - val_fp: 321.0000 - val_tn: 2638455.0000 - val_fn: 326.0000 - val_accuracy: 0.9998 - val_precision: 0.9983 - val_recall: 0.9983 - val_auc: 0.9997\n",
            "Epoch 84/100\n",
            "93/93 [==============================] - 4s 39ms/step - loss: 4.0070e-04 - tp: 878801.0000 - fp: 757.0000 - tn: 12313489.0000 - fn: 788.0000 - accuracy: 0.9999 - precision: 0.9991 - recall: 0.9991 - auc: 0.9999 - val_loss: 0.0012 - val_tp: 188162.0000 - val_fp: 320.0000 - val_tn: 2638456.0000 - val_fn: 322.0000 - val_accuracy: 0.9998 - val_precision: 0.9983 - val_recall: 0.9983 - val_auc: 0.9997\n",
            "Epoch 85/100\n",
            "93/93 [==============================] - 4s 39ms/step - loss: 3.8069e-04 - tp: 878809.0000 - fp: 740.0000 - tn: 12313506.0000 - fn: 780.0000 - accuracy: 0.9999 - precision: 0.9992 - recall: 0.9991 - auc: 0.9999 - val_loss: 0.0014 - val_tp: 188117.0000 - val_fp: 360.0000 - val_tn: 2638416.0000 - val_fn: 367.0000 - val_accuracy: 0.9997 - val_precision: 0.9981 - val_recall: 0.9981 - val_auc: 0.9997\n",
            "Epoch 86/100\n",
            "93/93 [==============================] - 4s 39ms/step - loss: 4.0189e-04 - tp: 878758.0000 - fp: 800.0000 - tn: 12313446.0000 - fn: 831.0000 - accuracy: 0.9999 - precision: 0.9991 - recall: 0.9991 - auc: 0.9999 - val_loss: 0.0011 - val_tp: 188164.0000 - val_fp: 314.0000 - val_tn: 2638462.0000 - val_fn: 320.0000 - val_accuracy: 0.9998 - val_precision: 0.9983 - val_recall: 0.9983 - val_auc: 0.9997\n",
            "Epoch 87/100\n",
            "93/93 [==============================] - 4s 39ms/step - loss: 3.7386e-04 - tp: 878798.0000 - fp: 765.0000 - tn: 12313481.0000 - fn: 791.0000 - accuracy: 0.9999 - precision: 0.9991 - recall: 0.9991 - auc: 0.9999 - val_loss: 0.0011 - val_tp: 188191.0000 - val_fp: 290.0000 - val_tn: 2638486.0000 - val_fn: 293.0000 - val_accuracy: 0.9998 - val_precision: 0.9985 - val_recall: 0.9984 - val_auc: 0.9997\n",
            "Epoch 88/100\n",
            "93/93 [==============================] - 4s 39ms/step - loss: 3.7781e-04 - tp: 878820.0000 - fp: 737.0000 - tn: 12313509.0000 - fn: 769.0000 - accuracy: 0.9999 - precision: 0.9992 - recall: 0.9991 - auc: 0.9999 - val_loss: 0.0012 - val_tp: 188168.0000 - val_fp: 312.0000 - val_tn: 2638464.0000 - val_fn: 316.0000 - val_accuracy: 0.9998 - val_precision: 0.9983 - val_recall: 0.9983 - val_auc: 0.9997\n",
            "Epoch 89/100\n",
            "93/93 [==============================] - 4s 40ms/step - loss: 3.7597e-04 - tp: 878800.0000 - fp: 754.0000 - tn: 12313492.0000 - fn: 789.0000 - accuracy: 0.9999 - precision: 0.9991 - recall: 0.9991 - auc: 0.9999 - val_loss: 0.0011 - val_tp: 188207.0000 - val_fp: 270.0000 - val_tn: 2638506.0000 - val_fn: 277.0000 - val_accuracy: 0.9998 - val_precision: 0.9986 - val_recall: 0.9985 - val_auc: 0.9998\n",
            "Epoch 90/100\n",
            "93/93 [==============================] - 4s 39ms/step - loss: 0.0049 - tp: 873935.0000 - fp: 5608.0000 - tn: 12308638.0000 - fn: 5654.0000 - accuracy: 0.9991 - precision: 0.9936 - recall: 0.9936 - auc: 0.9984 - val_loss: 0.0015 - val_tp: 187896.0000 - val_fp: 579.0000 - val_tn: 2638197.0000 - val_fn: 588.0000 - val_accuracy: 0.9996 - val_precision: 0.9969 - val_recall: 0.9969 - val_auc: 0.9998\n",
            "Epoch 91/100\n",
            "93/93 [==============================] - 4s 39ms/step - loss: 8.5766e-04 - tp: 877892.0000 - fp: 1666.0000 - tn: 12312580.0000 - fn: 1697.0000 - accuracy: 0.9997 - precision: 0.9981 - recall: 0.9981 - auc: 0.9999 - val_loss: 0.0013 - val_tp: 188020.0000 - val_fp: 457.0000 - val_tn: 2638319.0000 - val_fn: 464.0000 - val_accuracy: 0.9997 - val_precision: 0.9976 - val_recall: 0.9975 - val_auc: 0.9998\n",
            "Epoch 92/100\n",
            "93/93 [==============================] - 4s 40ms/step - loss: 7.2253e-04 - tp: 878231.0000 - fp: 1329.0000 - tn: 12312917.0000 - fn: 1358.0000 - accuracy: 0.9998 - precision: 0.9985 - recall: 0.9985 - auc: 0.9999 - val_loss: 0.0012 - val_tp: 188115.0000 - val_fp: 364.0000 - val_tn: 2638412.0000 - val_fn: 369.0000 - val_accuracy: 0.9997 - val_precision: 0.9981 - val_recall: 0.9980 - val_auc: 0.9997\n",
            "Epoch 93/100\n",
            "93/93 [==============================] - 4s 40ms/step - loss: 5.9742e-04 - tp: 878590.0000 - fp: 964.0000 - tn: 12313282.0000 - fn: 999.0000 - accuracy: 0.9999 - precision: 0.9989 - recall: 0.9989 - auc: 0.9999 - val_loss: 0.0012 - val_tp: 188017.0000 - val_fp: 461.0000 - val_tn: 2638315.0000 - val_fn: 467.0000 - val_accuracy: 0.9997 - val_precision: 0.9976 - val_recall: 0.9975 - val_auc: 0.9997\n",
            "Epoch 94/100\n",
            "93/93 [==============================] - 4s 39ms/step - loss: 5.7718e-04 - tp: 878656.0000 - fp: 896.0000 - tn: 12313350.0000 - fn: 933.0000 - accuracy: 0.9999 - precision: 0.9990 - recall: 0.9989 - auc: 0.9999 - val_loss: 0.0013 - val_tp: 188018.0000 - val_fp: 462.0000 - val_tn: 2638314.0000 - val_fn: 466.0000 - val_accuracy: 0.9997 - val_precision: 0.9975 - val_recall: 0.9975 - val_auc: 0.9997\n",
            "Epoch 95/100\n",
            "93/93 [==============================] - 4s 39ms/step - loss: 5.5656e-04 - tp: 878693.0000 - fp: 852.0000 - tn: 12313394.0000 - fn: 896.0000 - accuracy: 0.9999 - precision: 0.9990 - recall: 0.9990 - auc: 0.9999 - val_loss: 0.0012 - val_tp: 188020.0000 - val_fp: 458.0000 - val_tn: 2638318.0000 - val_fn: 464.0000 - val_accuracy: 0.9997 - val_precision: 0.9976 - val_recall: 0.9975 - val_auc: 0.9998\n",
            "Epoch 96/100\n",
            "93/93 [==============================] - 4s 39ms/step - loss: 5.4827e-04 - tp: 878722.0000 - fp: 827.0000 - tn: 12313419.0000 - fn: 867.0000 - accuracy: 0.9999 - precision: 0.9991 - recall: 0.9990 - auc: 0.9999 - val_loss: 0.0012 - val_tp: 188128.0000 - val_fp: 352.0000 - val_tn: 2638424.0000 - val_fn: 356.0000 - val_accuracy: 0.9997 - val_precision: 0.9981 - val_recall: 0.9981 - val_auc: 0.9998\n",
            "Epoch 97/100\n",
            "93/93 [==============================] - 4s 39ms/step - loss: 5.3942e-04 - tp: 878730.0000 - fp: 819.0000 - tn: 12313427.0000 - fn: 859.0000 - accuracy: 0.9999 - precision: 0.9991 - recall: 0.9990 - auc: 0.9999 - val_loss: 0.0012 - val_tp: 188119.0000 - val_fp: 359.0000 - val_tn: 2638417.0000 - val_fn: 365.0000 - val_accuracy: 0.9997 - val_precision: 0.9981 - val_recall: 0.9981 - val_auc: 0.9997\n",
            "Epoch 98/100\n",
            "93/93 [==============================] - 4s 39ms/step - loss: 5.2997e-04 - tp: 878727.0000 - fp: 825.0000 - tn: 12313421.0000 - fn: 862.0000 - accuracy: 0.9999 - precision: 0.9991 - recall: 0.9990 - auc: 0.9999 - val_loss: 0.0013 - val_tp: 188051.0000 - val_fp: 428.0000 - val_tn: 2638348.0000 - val_fn: 433.0000 - val_accuracy: 0.9997 - val_precision: 0.9977 - val_recall: 0.9977 - val_auc: 0.9997\n",
            "Epoch 99/100\n",
            "93/93 [==============================] - 4s 40ms/step - loss: 5.2482e-04 - tp: 878743.0000 - fp: 807.0000 - tn: 12313439.0000 - fn: 846.0000 - accuracy: 0.9999 - precision: 0.9991 - recall: 0.9990 - auc: 0.9999 - val_loss: 0.0014 - val_tp: 188111.0000 - val_fp: 361.0000 - val_tn: 2638415.0000 - val_fn: 373.0000 - val_accuracy: 0.9997 - val_precision: 0.9981 - val_recall: 0.9980 - val_auc: 0.9997\n",
            "Epoch 100/100\n",
            "93/93 [==============================] - 4s 39ms/step - loss: 4.8375e-04 - tp: 878767.0000 - fp: 788.0000 - tn: 12313458.0000 - fn: 822.0000 - accuracy: 0.9999 - precision: 0.9991 - recall: 0.9991 - auc: 0.9999 - val_loss: 0.0013 - val_tp: 188102.0000 - val_fp: 375.0000 - val_tn: 2638401.0000 - val_fn: 382.0000 - val_accuracy: 0.9997 - val_precision: 0.9980 - val_recall: 0.9980 - val_auc: 0.9997\n"
          ],
          "name": "stdout"
        }
      ]
    },
    {
      "cell_type": "code",
      "metadata": {
        "id": "MxM84sgDvHiO"
      },
      "source": [
        "y_pred_sd = model_dnn_sd.predict(X_test_sd)"
      ],
      "execution_count": null,
      "outputs": []
    },
    {
      "cell_type": "code",
      "metadata": {
        "colab": {
          "base_uri": "https://localhost:8080/"
        },
        "id": "YVs15uo8vHiP",
        "outputId": "ae41b8be-2029-41b9-c320-0e704912a79e"
      },
      "source": [
        "display_metrics(y_test_origin, np.argmax(y_pred_sd, axis = 1), labels_d)"
      ],
      "execution_count": null,
      "outputs": [
        {
          "output_type": "stream",
          "text": [
            "\n",
            "Accuracy: 0.99\n",
            "\n",
            "Micro Precision: 0.99\n",
            "Micro Recall: 0.99\n",
            "Micro F1-score: 0.99\n",
            "\n",
            "Macro Precision: 0.73\n",
            "Macro Recall: 0.69\n"
          ],
          "name": "stdout"
        },
        {
          "output_type": "stream",
          "text": [
            "/usr/local/lib/python3.6/dist-packages/sklearn/metrics/_classification.py:1272: UndefinedMetricWarning: Precision is ill-defined and being set to 0.0 in labels with no predicted samples. Use `zero_division` parameter to control this behavior.\n",
            "  _warn_prf(average, modifier, msg_start, len(result))\n"
          ],
          "name": "stderr"
        },
        {
          "output_type": "stream",
          "text": [
            "Macro F1-score: 0.70\n",
            "\n",
            "Weighted Precision: 0.99\n",
            "Weighted Recall: 0.99\n",
            "Weighted F1-score: 0.98\n",
            "\n",
            "Classification Report\n",
            "\n"
          ],
          "name": "stdout"
        },
        {
          "output_type": "stream",
          "text": [
            "/usr/local/lib/python3.6/dist-packages/sklearn/metrics/_classification.py:1272: UndefinedMetricWarning: Precision and F-score are ill-defined and being set to 0.0 in labels with no predicted samples. Use `zero_division` parameter to control this behavior.\n",
            "  _warn_prf(average, modifier, msg_start, len(result))\n"
          ],
          "name": "stderr"
        },
        {
          "output_type": "stream",
          "text": [
            "                            precision    recall  f1-score   support\n",
            "\n",
            "                    BENIGN       0.99      0.98      0.99    105019\n",
            "                       Bot       0.83      0.98      0.90       280\n",
            "                      DDoS       1.00      1.00      1.00     19271\n",
            "             DoS GoldenEye       0.99      0.99      0.99      1542\n",
            "                  DoS Hulk       1.00      1.00      1.00     34547\n",
            "          DoS Slowhttptest       1.00      0.99      0.99       828\n",
            "             DoS slowloris       0.99      0.99      0.99       834\n",
            "               FTP-Patator       0.99      0.51      0.67      1178\n",
            "                Heartbleed       0.00      0.00      0.00         2\n",
            "              Infiltration       0.00      0.00      0.00         1\n",
            "                  PortScan       0.94      1.00      0.97     23846\n",
            "               SSH-Patator       0.90      0.48      0.63       826\n",
            "  Web Attack � Brute Force       0.77      0.75      0.76       209\n",
            "Web Attack � Sql Injection       0.00      0.00      0.00         7\n",
            "          Web Attack � XSS       0.61      0.61      0.61        93\n",
            "\n",
            "                  accuracy                           0.99    188483\n",
            "                 macro avg       0.73      0.69      0.70    188483\n",
            "              weighted avg       0.99      0.99      0.98    188483\n",
            "\n"
          ],
          "name": "stdout"
        }
      ]
    },
    {
      "cell_type": "markdown",
      "metadata": {
        "id": "Nc5nd5W-vHiP"
      },
      "source": [
        "### Save the trained model"
      ]
    },
    {
      "cell_type": "code",
      "metadata": {
        "id": "uJNGsprCvHiP"
      },
      "source": [
        "model_dnn_sd.save('dnn_sd.h5')"
      ],
      "execution_count": null,
      "outputs": []
    },
    {
      "cell_type": "markdown",
      "metadata": {
        "id": "94ab3Hs0CjSS"
      },
      "source": [
        "# Training DNN with mixed data normalization"
      ]
    },
    {
      "cell_type": "markdown",
      "metadata": {
        "id": "5xvMDRxKCweS"
      },
      "source": [
        "## 1. Load the DNN model trained with normalized dataset"
      ]
    },
    {
      "cell_type": "code",
      "metadata": {
        "id": "xlpuYUaKC-qg"
      },
      "source": [
        "from keras.models import load_model"
      ],
      "execution_count": null,
      "outputs": []
    },
    {
      "cell_type": "code",
      "metadata": {
        "id": "qhG3oTRfCvVS"
      },
      "source": [
        "dnn_n_model = load_model('dnn_n.h5')"
      ],
      "execution_count": null,
      "outputs": []
    },
    {
      "cell_type": "code",
      "metadata": {
        "colab": {
          "base_uri": "https://localhost:8080/"
        },
        "id": "NCyV_ZYLDBPA",
        "outputId": "3c594fad-f6ba-4328-d52a-b150d262f7c7"
      },
      "source": [
        "dnn_n_model.summary()"
      ],
      "execution_count": null,
      "outputs": [
        {
          "output_type": "stream",
          "text": [
            "Model: \"sequential_2\"\n",
            "_________________________________________________________________\n",
            "Layer (type)                 Output Shape              Param #   \n",
            "=================================================================\n",
            "dense_10 (Dense)             (None, 256)               20224     \n",
            "_________________________________________________________________\n",
            "dense_11 (Dense)             (None, 256)               65792     \n",
            "_________________________________________________________________\n",
            "dense_12 (Dense)             (None, 128)               32896     \n",
            "_________________________________________________________________\n",
            "dense_13 (Dense)             (None, 64)                8256      \n",
            "_________________________________________________________________\n",
            "dense_14 (Dense)             (None, 15)                975       \n",
            "=================================================================\n",
            "Total params: 128,143\n",
            "Trainable params: 128,143\n",
            "Non-trainable params: 0\n",
            "_________________________________________________________________\n"
          ],
          "name": "stdout"
        }
      ]
    },
    {
      "cell_type": "code",
      "metadata": {
        "colab": {
          "base_uri": "https://localhost:8080/"
        },
        "id": "6IMgAV-iLkFU",
        "outputId": "769cb87a-29ea-4fc1-850a-fac04b86dedd"
      },
      "source": [
        "dnn_n_model# update all layers in all models to not be trainable\n",
        "\n",
        "for layer in dnn_n_model.layers:\n",
        "\t\t# make trainable\n",
        "    layer.trainable = True\n",
        "    print(layer.name)"
      ],
      "execution_count": null,
      "outputs": [
        {
          "output_type": "stream",
          "text": [
            "dense_10\n",
            "dense_11\n",
            "dense_12\n",
            "dense_13\n",
            "dense_14\n"
          ],
          "name": "stdout"
        }
      ]
    },
    {
      "cell_type": "code",
      "metadata": {
        "id": "PmXP58xeRBuA"
      },
      "source": [
        "layer = dnn_n_model.get_layer('dense_10')\n",
        "layer.trainable=True\n",
        "\n",
        "layer = dnn_n_model.get_layer('dense_11')\n",
        "layer.trainable=False"
      ],
      "execution_count": null,
      "outputs": []
    },
    {
      "cell_type": "markdown",
      "metadata": {
        "id": "ArfdkfeqDI_6"
      },
      "source": [
        "## 2. Training the model by using standardized dataset"
      ]
    },
    {
      "cell_type": "code",
      "metadata": {
        "id": "i-oNGLWpDdUF"
      },
      "source": [
        "EPOCHS = 80\n",
        "BATCH_SIZE = 9000"
      ],
      "execution_count": null,
      "outputs": []
    },
    {
      "cell_type": "code",
      "metadata": {
        "colab": {
          "base_uri": "https://localhost:8080/"
        },
        "id": "pYgGEjIhDF9N",
        "outputId": "f742f421-599c-47b3-97cc-b09a693590de"
      },
      "source": [
        "history_sd = dnn_n_model.fit(\n",
        "    X_train_sd,\n",
        "    y_train,\n",
        "    batch_size=BATCH_SIZE,\n",
        "    epochs=EPOCHS,\n",
        "    validation_data=(X_val_sd, y_val))"
      ],
      "execution_count": null,
      "outputs": [
        {
          "output_type": "stream",
          "text": [
            "Epoch 1/80\n",
            "98/98 [==============================] - 5s 45ms/step - loss: 1.2784 - tp: 750185.0000 - fp: 128661.0000 - tn: 12185585.0000 - fn: 129404.0000 - accuracy: 0.9804 - precision: 0.8536 - recall: 0.8529 - auc: 0.9271 - val_loss: 0.1674 - val_tp: 176590.0000 - val_fp: 11677.0000 - val_tn: 2627099.0000 - val_fn: 11894.0000 - val_accuracy: 0.9917 - val_precision: 0.9380 - val_recall: 0.9369 - val_auc: 0.9739\n",
            "Epoch 2/80\n",
            "98/98 [==============================] - 4s 37ms/step - loss: 0.1081 - tp: 834056.0000 - fp: 43524.0000 - tn: 12270722.0000 - fn: 45533.0000 - accuracy: 0.9932 - precision: 0.9504 - recall: 0.9482 - auc: 0.9794 - val_loss: 0.0707 - val_tp: 180320.0000 - val_fp: 7808.0000 - val_tn: 2630968.0000 - val_fn: 8164.0000 - val_accuracy: 0.9944 - val_precision: 0.9585 - val_recall: 0.9567 - val_auc: 0.9834\n",
            "Epoch 3/80\n",
            "98/98 [==============================] - 4s 36ms/step - loss: 0.0521 - tp: 845075.0000 - fp: 33190.0000 - tn: 12281056.0000 - fn: 34514.0000 - accuracy: 0.9949 - precision: 0.9622 - recall: 0.9608 - auc: 0.9859 - val_loss: 0.0395 - val_tp: 181625.0000 - val_fp: 6551.0000 - val_tn: 2632225.0000 - val_fn: 6859.0000 - val_accuracy: 0.9953 - val_precision: 0.9652 - val_recall: 0.9636 - val_auc: 0.9879\n",
            "Epoch 4/80\n",
            "98/98 [==============================] - 4s 36ms/step - loss: 0.0313 - tp: 849705.0000 - fp: 27737.0000 - tn: 12286509.0000 - fn: 29884.0000 - accuracy: 0.9956 - precision: 0.9684 - recall: 0.9660 - auc: 0.9897 - val_loss: 0.0265 - val_tp: 182459.0000 - val_fp: 5387.0000 - val_tn: 2633389.0000 - val_fn: 6025.0000 - val_accuracy: 0.9960 - val_precision: 0.9713 - val_recall: 0.9680 - val_auc: 0.9913\n",
            "Epoch 5/80\n",
            "98/98 [==============================] - 4s 37ms/step - loss: 0.0220 - tp: 854560.0000 - fp: 22792.0000 - tn: 12291454.0000 - fn: 25029.0000 - accuracy: 0.9964 - precision: 0.9740 - recall: 0.9715 - auc: 0.9927 - val_loss: 0.0198 - val_tp: 183330.0000 - val_fp: 4766.0000 - val_tn: 2634010.0000 - val_fn: 5154.0000 - val_accuracy: 0.9965 - val_precision: 0.9747 - val_recall: 0.9727 - val_auc: 0.9944\n",
            "Epoch 6/80\n",
            "98/98 [==============================] - 4s 37ms/step - loss: 0.0168 - tp: 857154.0000 - fp: 20900.0000 - tn: 12293346.0000 - fn: 22435.0000 - accuracy: 0.9967 - precision: 0.9762 - recall: 0.9745 - auc: 0.9958 - val_loss: 0.0157 - val_tp: 183850.0000 - val_fp: 4385.0000 - val_tn: 2634391.0000 - val_fn: 4634.0000 - val_accuracy: 0.9968 - val_precision: 0.9767 - val_recall: 0.9754 - val_auc: 0.9968\n",
            "Epoch 7/80\n",
            "98/98 [==============================] - 4s 37ms/step - loss: 0.0137 - tp: 859751.0000 - fp: 18540.0000 - tn: 12295706.0000 - fn: 19838.0000 - accuracy: 0.9971 - precision: 0.9789 - recall: 0.9774 - auc: 0.9970 - val_loss: 0.0134 - val_tp: 184519.0000 - val_fp: 3601.0000 - val_tn: 2635175.0000 - val_fn: 3965.0000 - val_accuracy: 0.9973 - val_precision: 0.9809 - val_recall: 0.9790 - val_auc: 0.9971\n",
            "Epoch 8/80\n",
            "98/98 [==============================] - 4s 37ms/step - loss: 0.0119 - tp: 861993.0000 - fp: 16335.0000 - tn: 12297911.0000 - fn: 17596.0000 - accuracy: 0.9974 - precision: 0.9814 - recall: 0.9800 - auc: 0.9972 - val_loss: 0.0119 - val_tp: 184900.0000 - val_fp: 3258.0000 - val_tn: 2635518.0000 - val_fn: 3584.0000 - val_accuracy: 0.9976 - val_precision: 0.9827 - val_recall: 0.9810 - val_auc: 0.9973\n",
            "Epoch 9/80\n",
            "98/98 [==============================] - 4s 37ms/step - loss: 0.0108 - tp: 863237.0000 - fp: 15194.0000 - tn: 12299052.0000 - fn: 16352.0000 - accuracy: 0.9976 - precision: 0.9827 - recall: 0.9814 - auc: 0.9974 - val_loss: 0.0109 - val_tp: 185096.0000 - val_fp: 3045.0000 - val_tn: 2635731.0000 - val_fn: 3388.0000 - val_accuracy: 0.9977 - val_precision: 0.9838 - val_recall: 0.9820 - val_auc: 0.9975\n",
            "Epoch 10/80\n",
            "98/98 [==============================] - 4s 38ms/step - loss: 0.0100 - tp: 863973.0000 - fp: 14375.0000 - tn: 12299871.0000 - fn: 15616.0000 - accuracy: 0.9977 - precision: 0.9836 - recall: 0.9822 - auc: 0.9976 - val_loss: 0.0102 - val_tp: 185288.0000 - val_fp: 2876.0000 - val_tn: 2635900.0000 - val_fn: 3196.0000 - val_accuracy: 0.9979 - val_precision: 0.9847 - val_recall: 0.9830 - val_auc: 0.9977\n",
            "Epoch 11/80\n",
            "98/98 [==============================] - 4s 37ms/step - loss: 0.0094 - tp: 864542.0000 - fp: 13695.0000 - tn: 12300551.0000 - fn: 15047.0000 - accuracy: 0.9978 - precision: 0.9844 - recall: 0.9829 - auc: 0.9977 - val_loss: 0.0096 - val_tp: 185393.0000 - val_fp: 2802.0000 - val_tn: 2635974.0000 - val_fn: 3091.0000 - val_accuracy: 0.9979 - val_precision: 0.9851 - val_recall: 0.9836 - val_auc: 0.9979\n",
            "Epoch 12/80\n",
            "98/98 [==============================] - 4s 37ms/step - loss: 0.0089 - tp: 865116.0000 - fp: 13224.0000 - tn: 12301022.0000 - fn: 14473.0000 - accuracy: 0.9979 - precision: 0.9849 - recall: 0.9835 - auc: 0.9979 - val_loss: 0.0091 - val_tp: 185499.0000 - val_fp: 2734.0000 - val_tn: 2636042.0000 - val_fn: 2985.0000 - val_accuracy: 0.9980 - val_precision: 0.9855 - val_recall: 0.9842 - val_auc: 0.9981\n",
            "Epoch 13/80\n",
            "98/98 [==============================] - 4s 37ms/step - loss: 0.0085 - tp: 865545.0000 - fp: 12922.0000 - tn: 12301324.0000 - fn: 14044.0000 - accuracy: 0.9980 - precision: 0.9853 - recall: 0.9840 - auc: 0.9980 - val_loss: 0.0087 - val_tp: 185589.0000 - val_fp: 2661.0000 - val_tn: 2636115.0000 - val_fn: 2895.0000 - val_accuracy: 0.9980 - val_precision: 0.9859 - val_recall: 0.9846 - val_auc: 0.9982\n",
            "Epoch 14/80\n",
            "98/98 [==============================] - 4s 37ms/step - loss: 0.0081 - tp: 865925.0000 - fp: 12659.0000 - tn: 12301587.0000 - fn: 13664.0000 - accuracy: 0.9980 - precision: 0.9856 - recall: 0.9845 - auc: 0.9981 - val_loss: 0.0083 - val_tp: 185693.0000 - val_fp: 2580.0000 - val_tn: 2636196.0000 - val_fn: 2791.0000 - val_accuracy: 0.9981 - val_precision: 0.9863 - val_recall: 0.9852 - val_auc: 0.9981\n",
            "Epoch 15/80\n",
            "98/98 [==============================] - 4s 36ms/step - loss: 0.0078 - tp: 866225.0000 - fp: 12436.0000 - tn: 12301810.0000 - fn: 13364.0000 - accuracy: 0.9980 - precision: 0.9858 - recall: 0.9848 - auc: 0.9982 - val_loss: 0.0080 - val_tp: 185741.0000 - val_fp: 2550.0000 - val_tn: 2636226.0000 - val_fn: 2743.0000 - val_accuracy: 0.9981 - val_precision: 0.9865 - val_recall: 0.9854 - val_auc: 0.9981\n",
            "Epoch 16/80\n",
            "98/98 [==============================] - 4s 37ms/step - loss: 0.0075 - tp: 866521.0000 - fp: 12259.0000 - tn: 12301987.0000 - fn: 13068.0000 - accuracy: 0.9981 - precision: 0.9860 - recall: 0.9851 - auc: 0.9983 - val_loss: 0.0077 - val_tp: 185801.0000 - val_fp: 2510.0000 - val_tn: 2636266.0000 - val_fn: 2683.0000 - val_accuracy: 0.9982 - val_precision: 0.9867 - val_recall: 0.9858 - val_auc: 0.9984\n",
            "Epoch 17/80\n",
            "98/98 [==============================] - 4s 37ms/step - loss: 0.0072 - tp: 866774.0000 - fp: 12062.0000 - tn: 12302184.0000 - fn: 12815.0000 - accuracy: 0.9981 - precision: 0.9863 - recall: 0.9854 - auc: 0.9984 - val_loss: 0.0074 - val_tp: 185849.0000 - val_fp: 2482.0000 - val_tn: 2636294.0000 - val_fn: 2635.0000 - val_accuracy: 0.9982 - val_precision: 0.9868 - val_recall: 0.9860 - val_auc: 0.9985\n",
            "Epoch 18/80\n",
            "98/98 [==============================] - 4s 36ms/step - loss: 0.0070 - tp: 866992.0000 - fp: 11855.0000 - tn: 12302391.0000 - fn: 12597.0000 - accuracy: 0.9981 - precision: 0.9865 - recall: 0.9857 - auc: 0.9985 - val_loss: 0.0072 - val_tp: 185840.0000 - val_fp: 2497.0000 - val_tn: 2636279.0000 - val_fn: 2644.0000 - val_accuracy: 0.9982 - val_precision: 0.9867 - val_recall: 0.9860 - val_auc: 0.9987\n",
            "Epoch 19/80\n",
            "98/98 [==============================] - 4s 36ms/step - loss: 0.0068 - tp: 867181.0000 - fp: 11721.0000 - tn: 12302525.0000 - fn: 12408.0000 - accuracy: 0.9982 - precision: 0.9867 - recall: 0.9859 - auc: 0.9985 - val_loss: 0.0070 - val_tp: 185928.0000 - val_fp: 2414.0000 - val_tn: 2636362.0000 - val_fn: 2556.0000 - val_accuracy: 0.9982 - val_precision: 0.9872 - val_recall: 0.9864 - val_auc: 0.9986\n",
            "Epoch 20/80\n",
            "98/98 [==============================] - 4s 37ms/step - loss: 0.0066 - tp: 867364.0000 - fp: 11529.0000 - tn: 12302717.0000 - fn: 12225.0000 - accuracy: 0.9982 - precision: 0.9869 - recall: 0.9861 - auc: 0.9986 - val_loss: 0.0068 - val_tp: 185964.0000 - val_fp: 2402.0000 - val_tn: 2636374.0000 - val_fn: 2520.0000 - val_accuracy: 0.9983 - val_precision: 0.9872 - val_recall: 0.9866 - val_auc: 0.9986\n",
            "Epoch 21/80\n",
            "98/98 [==============================] - 4s 37ms/step - loss: 0.0064 - tp: 867554.0000 - fp: 11358.0000 - tn: 12302888.0000 - fn: 12035.0000 - accuracy: 0.9982 - precision: 0.9871 - recall: 0.9863 - auc: 0.9986 - val_loss: 0.0066 - val_tp: 185977.0000 - val_fp: 2398.0000 - val_tn: 2636378.0000 - val_fn: 2507.0000 - val_accuracy: 0.9983 - val_precision: 0.9873 - val_recall: 0.9867 - val_auc: 0.9989\n",
            "Epoch 22/80\n",
            "98/98 [==============================] - 4s 37ms/step - loss: 0.0062 - tp: 867725.0000 - fp: 11240.0000 - tn: 12303006.0000 - fn: 11864.0000 - accuracy: 0.9982 - precision: 0.9872 - recall: 0.9865 - auc: 0.9987 - val_loss: 0.0064 - val_tp: 186035.0000 - val_fp: 2347.0000 - val_tn: 2636429.0000 - val_fn: 2449.0000 - val_accuracy: 0.9983 - val_precision: 0.9875 - val_recall: 0.9870 - val_auc: 0.9988\n",
            "Epoch 23/80\n",
            "98/98 [==============================] - 4s 37ms/step - loss: 0.0060 - tp: 867854.0000 - fp: 11103.0000 - tn: 12303143.0000 - fn: 11735.0000 - accuracy: 0.9983 - precision: 0.9874 - recall: 0.9867 - auc: 0.9989 - val_loss: 0.0062 - val_tp: 186038.0000 - val_fp: 2353.0000 - val_tn: 2636423.0000 - val_fn: 2446.0000 - val_accuracy: 0.9983 - val_precision: 0.9875 - val_recall: 0.9870 - val_auc: 0.9990\n",
            "Epoch 24/80\n",
            "98/98 [==============================] - 4s 38ms/step - loss: 0.0058 - tp: 868042.0000 - fp: 10944.0000 - tn: 12303302.0000 - fn: 11547.0000 - accuracy: 0.9983 - precision: 0.9875 - recall: 0.9869 - auc: 0.9990 - val_loss: 0.0060 - val_tp: 186085.0000 - val_fp: 2302.0000 - val_tn: 2636474.0000 - val_fn: 2399.0000 - val_accuracy: 0.9983 - val_precision: 0.9878 - val_recall: 0.9873 - val_auc: 0.9990\n",
            "Epoch 25/80\n",
            "98/98 [==============================] - 4s 38ms/step - loss: 0.0057 - tp: 868159.0000 - fp: 10860.0000 - tn: 12303386.0000 - fn: 11430.0000 - accuracy: 0.9983 - precision: 0.9876 - recall: 0.9870 - auc: 0.9991 - val_loss: 0.0059 - val_tp: 186129.0000 - val_fp: 2269.0000 - val_tn: 2636507.0000 - val_fn: 2355.0000 - val_accuracy: 0.9984 - val_precision: 0.9880 - val_recall: 0.9875 - val_auc: 0.9990\n",
            "Epoch 26/80\n",
            "98/98 [==============================] - 4s 38ms/step - loss: 0.0055 - tp: 868282.0000 - fp: 10746.0000 - tn: 12303500.0000 - fn: 11307.0000 - accuracy: 0.9983 - precision: 0.9878 - recall: 0.9871 - auc: 0.9991 - val_loss: 0.0057 - val_tp: 186146.0000 - val_fp: 2251.0000 - val_tn: 2636525.0000 - val_fn: 2338.0000 - val_accuracy: 0.9984 - val_precision: 0.9881 - val_recall: 0.9876 - val_auc: 0.9991\n",
            "Epoch 27/80\n",
            "98/98 [==============================] - 4s 39ms/step - loss: 0.0054 - tp: 868417.0000 - fp: 10619.0000 - tn: 12303627.0000 - fn: 11172.0000 - accuracy: 0.9983 - precision: 0.9879 - recall: 0.9873 - auc: 0.9991 - val_loss: 0.0056 - val_tp: 186177.0000 - val_fp: 2224.0000 - val_tn: 2636552.0000 - val_fn: 2307.0000 - val_accuracy: 0.9984 - val_precision: 0.9882 - val_recall: 0.9878 - val_auc: 0.9992\n",
            "Epoch 28/80\n",
            "98/98 [==============================] - 4s 38ms/step - loss: 0.0052 - tp: 868542.0000 - fp: 10510.0000 - tn: 12303736.0000 - fn: 11047.0000 - accuracy: 0.9984 - precision: 0.9880 - recall: 0.9874 - auc: 0.9991 - val_loss: 0.0054 - val_tp: 186194.0000 - val_fp: 2211.0000 - val_tn: 2636565.0000 - val_fn: 2290.0000 - val_accuracy: 0.9984 - val_precision: 0.9883 - val_recall: 0.9879 - val_auc: 0.9991\n",
            "Epoch 29/80\n",
            "98/98 [==============================] - 4s 39ms/step - loss: 0.0051 - tp: 868622.0000 - fp: 10431.0000 - tn: 12303815.0000 - fn: 10967.0000 - accuracy: 0.9984 - precision: 0.9881 - recall: 0.9875 - auc: 0.9992 - val_loss: 0.0053 - val_tp: 186208.0000 - val_fp: 2207.0000 - val_tn: 2636569.0000 - val_fn: 2276.0000 - val_accuracy: 0.9984 - val_precision: 0.9883 - val_recall: 0.9879 - val_auc: 0.9992\n",
            "Epoch 30/80\n",
            "98/98 [==============================] - 4s 38ms/step - loss: 0.0050 - tp: 868810.0000 - fp: 10247.0000 - tn: 12303999.0000 - fn: 10779.0000 - accuracy: 0.9984 - precision: 0.9883 - recall: 0.9877 - auc: 0.9992 - val_loss: 0.0052 - val_tp: 186210.0000 - val_fp: 2185.0000 - val_tn: 2636591.0000 - val_fn: 2274.0000 - val_accuracy: 0.9984 - val_precision: 0.9884 - val_recall: 0.9879 - val_auc: 0.9991\n",
            "Epoch 31/80\n",
            "98/98 [==============================] - 4s 38ms/step - loss: 0.0049 - tp: 868890.0000 - fp: 10187.0000 - tn: 12304059.0000 - fn: 10699.0000 - accuracy: 0.9984 - precision: 0.9884 - recall: 0.9878 - auc: 0.9992 - val_loss: 0.0051 - val_tp: 186244.0000 - val_fp: 2160.0000 - val_tn: 2636616.0000 - val_fn: 2240.0000 - val_accuracy: 0.9984 - val_precision: 0.9885 - val_recall: 0.9881 - val_auc: 0.9991\n",
            "Epoch 32/80\n",
            "98/98 [==============================] - 4s 39ms/step - loss: 0.0048 - tp: 869030.0000 - fp: 10047.0000 - tn: 12304199.0000 - fn: 10559.0000 - accuracy: 0.9984 - precision: 0.9886 - recall: 0.9880 - auc: 0.9992 - val_loss: 0.0050 - val_tp: 186270.0000 - val_fp: 2133.0000 - val_tn: 2636643.0000 - val_fn: 2214.0000 - val_accuracy: 0.9985 - val_precision: 0.9887 - val_recall: 0.9883 - val_auc: 0.9991\n",
            "Epoch 33/80\n",
            "98/98 [==============================] - 4s 38ms/step - loss: 0.0047 - tp: 869239.0000 - fp: 9867.0000 - tn: 12304379.0000 - fn: 10350.0000 - accuracy: 0.9985 - precision: 0.9888 - recall: 0.9882 - auc: 0.9992 - val_loss: 0.0049 - val_tp: 186294.0000 - val_fp: 2119.0000 - val_tn: 2636657.0000 - val_fn: 2190.0000 - val_accuracy: 0.9985 - val_precision: 0.9888 - val_recall: 0.9884 - val_auc: 0.9991\n",
            "Epoch 34/80\n",
            "98/98 [==============================] - 4s 37ms/step - loss: 0.0046 - tp: 869376.0000 - fp: 9736.0000 - tn: 12304510.0000 - fn: 10213.0000 - accuracy: 0.9985 - precision: 0.9889 - recall: 0.9884 - auc: 0.9992 - val_loss: 0.0048 - val_tp: 186331.0000 - val_fp: 2066.0000 - val_tn: 2636710.0000 - val_fn: 2153.0000 - val_accuracy: 0.9985 - val_precision: 0.9890 - val_recall: 0.9886 - val_auc: 0.9992\n",
            "Epoch 35/80\n",
            "98/98 [==============================] - 4s 37ms/step - loss: 0.0045 - tp: 869644.0000 - fp: 9483.0000 - tn: 12304763.0000 - fn: 9945.0000 - accuracy: 0.9985 - precision: 0.9892 - recall: 0.9887 - auc: 0.9992 - val_loss: 0.0047 - val_tp: 186355.0000 - val_fp: 2040.0000 - val_tn: 2636736.0000 - val_fn: 2129.0000 - val_accuracy: 0.9985 - val_precision: 0.9892 - val_recall: 0.9887 - val_auc: 0.9992\n",
            "Epoch 36/80\n",
            "98/98 [==============================] - 4s 37ms/step - loss: 0.0045 - tp: 869845.0000 - fp: 9292.0000 - tn: 12304954.0000 - fn: 9744.0000 - accuracy: 0.9986 - precision: 0.9894 - recall: 0.9889 - auc: 0.9992 - val_loss: 0.0047 - val_tp: 186422.0000 - val_fp: 1968.0000 - val_tn: 2636808.0000 - val_fn: 2062.0000 - val_accuracy: 0.9986 - val_precision: 0.9896 - val_recall: 0.9891 - val_auc: 0.9993\n",
            "Epoch 37/80\n",
            "98/98 [==============================] - 4s 37ms/step - loss: 0.0044 - tp: 869992.0000 - fp: 9161.0000 - tn: 12305085.0000 - fn: 9597.0000 - accuracy: 0.9986 - precision: 0.9896 - recall: 0.9891 - auc: 0.9992 - val_loss: 0.0046 - val_tp: 186415.0000 - val_fp: 1994.0000 - val_tn: 2636782.0000 - val_fn: 2069.0000 - val_accuracy: 0.9986 - val_precision: 0.9894 - val_recall: 0.9890 - val_auc: 0.9991\n",
            "Epoch 38/80\n",
            "98/98 [==============================] - 4s 38ms/step - loss: 0.0043 - tp: 870205.0000 - fp: 9000.0000 - tn: 12305246.0000 - fn: 9384.0000 - accuracy: 0.9986 - precision: 0.9898 - recall: 0.9893 - auc: 0.9992 - val_loss: 0.0045 - val_tp: 186489.0000 - val_fp: 1928.0000 - val_tn: 2636848.0000 - val_fn: 1995.0000 - val_accuracy: 0.9986 - val_precision: 0.9898 - val_recall: 0.9894 - val_auc: 0.9992\n",
            "Epoch 39/80\n",
            "98/98 [==============================] - 4s 38ms/step - loss: 0.0042 - tp: 870378.0000 - fp: 8838.0000 - tn: 12305408.0000 - fn: 9211.0000 - accuracy: 0.9986 - precision: 0.9899 - recall: 0.9895 - auc: 0.9992 - val_loss: 0.0044 - val_tp: 186557.0000 - val_fp: 1855.0000 - val_tn: 2636921.0000 - val_fn: 1927.0000 - val_accuracy: 0.9987 - val_precision: 0.9902 - val_recall: 0.9898 - val_auc: 0.9993\n",
            "Epoch 40/80\n",
            "98/98 [==============================] - 4s 38ms/step - loss: 0.0042 - tp: 870574.0000 - fp: 8665.0000 - tn: 12305581.0000 - fn: 9015.0000 - accuracy: 0.9987 - precision: 0.9901 - recall: 0.9898 - auc: 0.9992 - val_loss: 0.0044 - val_tp: 186612.0000 - val_fp: 1801.0000 - val_tn: 2636975.0000 - val_fn: 1872.0000 - val_accuracy: 0.9987 - val_precision: 0.9904 - val_recall: 0.9901 - val_auc: 0.9993\n",
            "Epoch 41/80\n",
            "98/98 [==============================] - 4s 38ms/step - loss: 0.0041 - tp: 870725.0000 - fp: 8487.0000 - tn: 12305759.0000 - fn: 8864.0000 - accuracy: 0.9987 - precision: 0.9903 - recall: 0.9899 - auc: 0.9992 - val_loss: 0.0043 - val_tp: 186603.0000 - val_fp: 1819.0000 - val_tn: 2636957.0000 - val_fn: 1881.0000 - val_accuracy: 0.9987 - val_precision: 0.9903 - val_recall: 0.9900 - val_auc: 0.9991\n",
            "Epoch 42/80\n",
            "98/98 [==============================] - 4s 38ms/step - loss: 0.0040 - tp: 870833.0000 - fp: 8383.0000 - tn: 12305863.0000 - fn: 8756.0000 - accuracy: 0.9987 - precision: 0.9905 - recall: 0.9900 - auc: 0.9992 - val_loss: 0.0043 - val_tp: 186710.0000 - val_fp: 1718.0000 - val_tn: 2637058.0000 - val_fn: 1774.0000 - val_accuracy: 0.9988 - val_precision: 0.9909 - val_recall: 0.9906 - val_auc: 0.9994\n",
            "Epoch 43/80\n",
            "98/98 [==============================] - 4s 40ms/step - loss: 0.0040 - tp: 870916.0000 - fp: 8330.0000 - tn: 12305916.0000 - fn: 8673.0000 - accuracy: 0.9987 - precision: 0.9905 - recall: 0.9901 - auc: 0.9992 - val_loss: 0.0042 - val_tp: 186616.0000 - val_fp: 1806.0000 - val_tn: 2636970.0000 - val_fn: 1868.0000 - val_accuracy: 0.9987 - val_precision: 0.9904 - val_recall: 0.9901 - val_auc: 0.9991\n",
            "Epoch 44/80\n",
            "98/98 [==============================] - 4s 38ms/step - loss: 0.0039 - tp: 871070.0000 - fp: 8198.0000 - tn: 12306048.0000 - fn: 8519.0000 - accuracy: 0.9987 - precision: 0.9907 - recall: 0.9903 - auc: 0.9992 - val_loss: 0.0041 - val_tp: 186661.0000 - val_fp: 1761.0000 - val_tn: 2637015.0000 - val_fn: 1823.0000 - val_accuracy: 0.9987 - val_precision: 0.9907 - val_recall: 0.9903 - val_auc: 0.9992\n",
            "Epoch 45/80\n",
            "98/98 [==============================] - 4s 39ms/step - loss: 0.0039 - tp: 871195.0000 - fp: 8078.0000 - tn: 12306168.0000 - fn: 8394.0000 - accuracy: 0.9988 - precision: 0.9908 - recall: 0.9905 - auc: 0.9992 - val_loss: 0.0041 - val_tp: 186669.0000 - val_fp: 1746.0000 - val_tn: 2637030.0000 - val_fn: 1815.0000 - val_accuracy: 0.9987 - val_precision: 0.9907 - val_recall: 0.9904 - val_auc: 0.9991\n",
            "Epoch 46/80\n",
            "98/98 [==============================] - 4s 39ms/step - loss: 0.0038 - tp: 871291.0000 - fp: 7930.0000 - tn: 12306316.0000 - fn: 8298.0000 - accuracy: 0.9988 - precision: 0.9910 - recall: 0.9906 - auc: 0.9992 - val_loss: 0.0040 - val_tp: 186783.0000 - val_fp: 1650.0000 - val_tn: 2637126.0000 - val_fn: 1701.0000 - val_accuracy: 0.9988 - val_precision: 0.9912 - val_recall: 0.9910 - val_auc: 0.9993\n",
            "Epoch 47/80\n",
            "98/98 [==============================] - 4s 39ms/step - loss: 0.0038 - tp: 871380.0000 - fp: 7885.0000 - tn: 12306361.0000 - fn: 8209.0000 - accuracy: 0.9988 - precision: 0.9910 - recall: 0.9907 - auc: 0.9992 - val_loss: 0.0040 - val_tp: 186627.0000 - val_fp: 1790.0000 - val_tn: 2636986.0000 - val_fn: 1857.0000 - val_accuracy: 0.9987 - val_precision: 0.9905 - val_recall: 0.9901 - val_auc: 0.9990\n",
            "Epoch 48/80\n",
            "98/98 [==============================] - 4s 38ms/step - loss: 0.0037 - tp: 871474.0000 - fp: 7755.0000 - tn: 12306491.0000 - fn: 8115.0000 - accuracy: 0.9988 - precision: 0.9912 - recall: 0.9908 - auc: 0.9992 - val_loss: 0.0039 - val_tp: 186834.0000 - val_fp: 1589.0000 - val_tn: 2637187.0000 - val_fn: 1650.0000 - val_accuracy: 0.9989 - val_precision: 0.9916 - val_recall: 0.9912 - val_auc: 0.9994\n",
            "Epoch 49/80\n",
            "98/98 [==============================] - 4s 37ms/step - loss: 0.0037 - tp: 871624.0000 - fp: 7661.0000 - tn: 12306585.0000 - fn: 7965.0000 - accuracy: 0.9988 - precision: 0.9913 - recall: 0.9909 - auc: 0.9992 - val_loss: 0.0039 - val_tp: 186736.0000 - val_fp: 1681.0000 - val_tn: 2637095.0000 - val_fn: 1748.0000 - val_accuracy: 0.9988 - val_precision: 0.9911 - val_recall: 0.9907 - val_auc: 0.9992\n",
            "Epoch 50/80\n",
            "98/98 [==============================] - 4s 38ms/step - loss: 0.0036 - tp: 871691.0000 - fp: 7555.0000 - tn: 12306691.0000 - fn: 7898.0000 - accuracy: 0.9988 - precision: 0.9914 - recall: 0.9910 - auc: 0.9992 - val_loss: 0.0038 - val_tp: 186786.0000 - val_fp: 1632.0000 - val_tn: 2637144.0000 - val_fn: 1698.0000 - val_accuracy: 0.9988 - val_precision: 0.9913 - val_recall: 0.9910 - val_auc: 0.9992\n",
            "Epoch 51/80\n",
            "98/98 [==============================] - 4s 37ms/step - loss: 0.0036 - tp: 871772.0000 - fp: 7473.0000 - tn: 12306773.0000 - fn: 7817.0000 - accuracy: 0.9988 - precision: 0.9915 - recall: 0.9911 - auc: 0.9992 - val_loss: 0.0038 - val_tp: 186770.0000 - val_fp: 1647.0000 - val_tn: 2637129.0000 - val_fn: 1714.0000 - val_accuracy: 0.9988 - val_precision: 0.9913 - val_recall: 0.9909 - val_auc: 0.9992\n",
            "Epoch 52/80\n",
            "98/98 [==============================] - 4s 38ms/step - loss: 0.0036 - tp: 871846.0000 - fp: 7355.0000 - tn: 12306891.0000 - fn: 7743.0000 - accuracy: 0.9989 - precision: 0.9916 - recall: 0.9912 - auc: 0.9992 - val_loss: 0.0037 - val_tp: 186912.0000 - val_fp: 1513.0000 - val_tn: 2637263.0000 - val_fn: 1572.0000 - val_accuracy: 0.9989 - val_precision: 0.9920 - val_recall: 0.9917 - val_auc: 0.9994\n",
            "Epoch 53/80\n",
            "98/98 [==============================] - 4s 38ms/step - loss: 0.0035 - tp: 871914.0000 - fp: 7317.0000 - tn: 12306929.0000 - fn: 7675.0000 - accuracy: 0.9989 - precision: 0.9917 - recall: 0.9913 - auc: 0.9992 - val_loss: 0.0037 - val_tp: 186895.0000 - val_fp: 1530.0000 - val_tn: 2637246.0000 - val_fn: 1589.0000 - val_accuracy: 0.9989 - val_precision: 0.9919 - val_recall: 0.9916 - val_auc: 0.9993\n",
            "Epoch 54/80\n",
            "98/98 [==============================] - 4s 38ms/step - loss: 0.0035 - tp: 872010.0000 - fp: 7215.0000 - tn: 12307031.0000 - fn: 7579.0000 - accuracy: 0.9989 - precision: 0.9918 - recall: 0.9914 - auc: 0.9992 - val_loss: 0.0037 - val_tp: 186956.0000 - val_fp: 1473.0000 - val_tn: 2637303.0000 - val_fn: 1528.0000 - val_accuracy: 0.9989 - val_precision: 0.9922 - val_recall: 0.9919 - val_auc: 0.9994\n",
            "Epoch 55/80\n",
            "98/98 [==============================] - 4s 38ms/step - loss: 0.0034 - tp: 872040.0000 - fp: 7209.0000 - tn: 12307037.0000 - fn: 7549.0000 - accuracy: 0.9989 - precision: 0.9918 - recall: 0.9914 - auc: 0.9992 - val_loss: 0.0036 - val_tp: 186949.0000 - val_fp: 1486.0000 - val_tn: 2637290.0000 - val_fn: 1535.0000 - val_accuracy: 0.9989 - val_precision: 0.9921 - val_recall: 0.9919 - val_auc: 0.9993\n",
            "Epoch 56/80\n",
            "98/98 [==============================] - 4s 38ms/step - loss: 0.0034 - tp: 872138.0000 - fp: 7115.0000 - tn: 12307131.0000 - fn: 7451.0000 - accuracy: 0.9989 - precision: 0.9919 - recall: 0.9915 - auc: 0.9992 - val_loss: 0.0037 - val_tp: 186999.0000 - val_fp: 1433.0000 - val_tn: 2637343.0000 - val_fn: 1485.0000 - val_accuracy: 0.9990 - val_precision: 0.9924 - val_recall: 0.9921 - val_auc: 0.9994\n",
            "Epoch 57/80\n",
            "98/98 [==============================] - 4s 37ms/step - loss: 0.0034 - tp: 872313.0000 - fp: 6944.0000 - tn: 12307302.0000 - fn: 7276.0000 - accuracy: 0.9989 - precision: 0.9921 - recall: 0.9917 - auc: 0.9992 - val_loss: 0.0035 - val_tp: 186948.0000 - val_fp: 1484.0000 - val_tn: 2637292.0000 - val_fn: 1536.0000 - val_accuracy: 0.9989 - val_precision: 0.9921 - val_recall: 0.9919 - val_auc: 0.9992\n",
            "Epoch 58/80\n",
            "98/98 [==============================] - 4s 38ms/step - loss: 0.0033 - tp: 872375.0000 - fp: 6922.0000 - tn: 12307324.0000 - fn: 7214.0000 - accuracy: 0.9989 - precision: 0.9921 - recall: 0.9918 - auc: 0.9992 - val_loss: 0.0036 - val_tp: 187012.0000 - val_fp: 1422.0000 - val_tn: 2637354.0000 - val_fn: 1472.0000 - val_accuracy: 0.9990 - val_precision: 0.9925 - val_recall: 0.9922 - val_auc: 0.9994\n",
            "Epoch 59/80\n",
            "98/98 [==============================] - 4s 38ms/step - loss: 0.0033 - tp: 872448.0000 - fp: 6858.0000 - tn: 12307388.0000 - fn: 7141.0000 - accuracy: 0.9989 - precision: 0.9922 - recall: 0.9919 - auc: 0.9992 - val_loss: 0.0035 - val_tp: 186903.0000 - val_fp: 1533.0000 - val_tn: 2637243.0000 - val_fn: 1581.0000 - val_accuracy: 0.9989 - val_precision: 0.9919 - val_recall: 0.9916 - val_auc: 0.9991\n",
            "Epoch 60/80\n",
            "98/98 [==============================] - 4s 38ms/step - loss: 0.0033 - tp: 872511.0000 - fp: 6813.0000 - tn: 12307433.0000 - fn: 7078.0000 - accuracy: 0.9989 - precision: 0.9923 - recall: 0.9920 - auc: 0.9992 - val_loss: 0.0034 - val_tp: 187013.0000 - val_fp: 1424.0000 - val_tn: 2637352.0000 - val_fn: 1471.0000 - val_accuracy: 0.9990 - val_precision: 0.9924 - val_recall: 0.9922 - val_auc: 0.9993\n",
            "Epoch 61/80\n",
            "98/98 [==============================] - 4s 38ms/step - loss: 0.0032 - tp: 872649.0000 - fp: 6680.0000 - tn: 12307566.0000 - fn: 6940.0000 - accuracy: 0.9990 - precision: 0.9924 - recall: 0.9921 - auc: 0.9992 - val_loss: 0.0035 - val_tp: 187066.0000 - val_fp: 1387.0000 - val_tn: 2637389.0000 - val_fn: 1418.0000 - val_accuracy: 0.9990 - val_precision: 0.9926 - val_recall: 0.9925 - val_auc: 0.9994\n",
            "Epoch 62/80\n",
            "98/98 [==============================] - 4s 37ms/step - loss: 0.0032 - tp: 872661.0000 - fp: 6705.0000 - tn: 12307541.0000 - fn: 6928.0000 - accuracy: 0.9990 - precision: 0.9924 - recall: 0.9921 - auc: 0.9992 - val_loss: 0.0034 - val_tp: 186920.0000 - val_fp: 1535.0000 - val_tn: 2637241.0000 - val_fn: 1564.0000 - val_accuracy: 0.9989 - val_precision: 0.9919 - val_recall: 0.9917 - val_auc: 0.9991\n",
            "Epoch 63/80\n",
            "98/98 [==============================] - 4s 38ms/step - loss: 0.0032 - tp: 872642.0000 - fp: 6730.0000 - tn: 12307516.0000 - fn: 6947.0000 - accuracy: 0.9990 - precision: 0.9923 - recall: 0.9921 - auc: 0.9992 - val_loss: 0.0034 - val_tp: 186868.0000 - val_fp: 1579.0000 - val_tn: 2637197.0000 - val_fn: 1616.0000 - val_accuracy: 0.9989 - val_precision: 0.9916 - val_recall: 0.9914 - val_auc: 0.9990\n",
            "Epoch 64/80\n",
            "98/98 [==============================] - 4s 38ms/step - loss: 0.0031 - tp: 872732.0000 - fp: 6646.0000 - tn: 12307600.0000 - fn: 6857.0000 - accuracy: 0.9990 - precision: 0.9924 - recall: 0.9922 - auc: 0.9992 - val_loss: 0.0033 - val_tp: 187025.0000 - val_fp: 1418.0000 - val_tn: 2637358.0000 - val_fn: 1459.0000 - val_accuracy: 0.9990 - val_precision: 0.9925 - val_recall: 0.9923 - val_auc: 0.9993\n",
            "Epoch 65/80\n",
            "98/98 [==============================] - 4s 37ms/step - loss: 0.0031 - tp: 872832.0000 - fp: 6555.0000 - tn: 12307691.0000 - fn: 6757.0000 - accuracy: 0.9990 - precision: 0.9925 - recall: 0.9923 - auc: 0.9992 - val_loss: 0.0033 - val_tp: 187038.0000 - val_fp: 1399.0000 - val_tn: 2637377.0000 - val_fn: 1446.0000 - val_accuracy: 0.9990 - val_precision: 0.9926 - val_recall: 0.9923 - val_auc: 0.9992\n",
            "Epoch 66/80\n",
            "98/98 [==============================] - 4s 38ms/step - loss: 0.0031 - tp: 872893.0000 - fp: 6473.0000 - tn: 12307773.0000 - fn: 6696.0000 - accuracy: 0.9990 - precision: 0.9926 - recall: 0.9924 - auc: 0.9992 - val_loss: 0.0033 - val_tp: 187069.0000 - val_fp: 1386.0000 - val_tn: 2637390.0000 - val_fn: 1415.0000 - val_accuracy: 0.9990 - val_precision: 0.9926 - val_recall: 0.9925 - val_auc: 0.9993\n",
            "Epoch 67/80\n",
            "98/98 [==============================] - 4s 37ms/step - loss: 0.0031 - tp: 872935.0000 - fp: 6472.0000 - tn: 12307774.0000 - fn: 6654.0000 - accuracy: 0.9990 - precision: 0.9926 - recall: 0.9924 - auc: 0.9993 - val_loss: 0.0032 - val_tp: 187091.0000 - val_fp: 1359.0000 - val_tn: 2637417.0000 - val_fn: 1393.0000 - val_accuracy: 0.9990 - val_precision: 0.9928 - val_recall: 0.9926 - val_auc: 0.9994\n",
            "Epoch 68/80\n",
            "98/98 [==============================] - 4s 37ms/step - loss: 0.0030 - tp: 873061.0000 - fp: 6362.0000 - tn: 12307884.0000 - fn: 6528.0000 - accuracy: 0.9990 - precision: 0.9928 - recall: 0.9926 - auc: 0.9992 - val_loss: 0.0032 - val_tp: 187077.0000 - val_fp: 1363.0000 - val_tn: 2637413.0000 - val_fn: 1407.0000 - val_accuracy: 0.9990 - val_precision: 0.9928 - val_recall: 0.9925 - val_auc: 0.9992\n",
            "Epoch 69/80\n",
            "98/98 [==============================] - 4s 37ms/step - loss: 0.0030 - tp: 873025.0000 - fp: 6367.0000 - tn: 12307879.0000 - fn: 6564.0000 - accuracy: 0.9990 - precision: 0.9928 - recall: 0.9925 - auc: 0.9992 - val_loss: 0.0032 - val_tp: 187121.0000 - val_fp: 1333.0000 - val_tn: 2637443.0000 - val_fn: 1363.0000 - val_accuracy: 0.9990 - val_precision: 0.9929 - val_recall: 0.9928 - val_auc: 0.9995\n",
            "Epoch 70/80\n",
            "98/98 [==============================] - 4s 37ms/step - loss: 0.0030 - tp: 873094.0000 - fp: 6331.0000 - tn: 12307915.0000 - fn: 6495.0000 - accuracy: 0.9990 - precision: 0.9928 - recall: 0.9926 - auc: 0.9992 - val_loss: 0.0032 - val_tp: 187007.0000 - val_fp: 1451.0000 - val_tn: 2637325.0000 - val_fn: 1477.0000 - val_accuracy: 0.9990 - val_precision: 0.9923 - val_recall: 0.9922 - val_auc: 0.9991\n",
            "Epoch 71/80\n",
            "98/98 [==============================] - 4s 38ms/step - loss: 0.0030 - tp: 873157.0000 - fp: 6270.0000 - tn: 12307976.0000 - fn: 6432.0000 - accuracy: 0.9990 - precision: 0.9929 - recall: 0.9927 - auc: 0.9993 - val_loss: 0.0032 - val_tp: 187041.0000 - val_fp: 1417.0000 - val_tn: 2637359.0000 - val_fn: 1443.0000 - val_accuracy: 0.9990 - val_precision: 0.9925 - val_recall: 0.9923 - val_auc: 0.9991\n",
            "Epoch 72/80\n",
            "98/98 [==============================] - 4s 37ms/step - loss: 0.0029 - tp: 873156.0000 - fp: 6269.0000 - tn: 12307977.0000 - fn: 6433.0000 - accuracy: 0.9990 - precision: 0.9929 - recall: 0.9927 - auc: 0.9992 - val_loss: 0.0031 - val_tp: 187121.0000 - val_fp: 1341.0000 - val_tn: 2637435.0000 - val_fn: 1363.0000 - val_accuracy: 0.9990 - val_precision: 0.9929 - val_recall: 0.9928 - val_auc: 0.9993\n",
            "Epoch 73/80\n",
            "98/98 [==============================] - 4s 38ms/step - loss: 0.0029 - tp: 873227.0000 - fp: 6208.0000 - tn: 12308038.0000 - fn: 6362.0000 - accuracy: 0.9990 - precision: 0.9929 - recall: 0.9928 - auc: 0.9993 - val_loss: 0.0031 - val_tp: 187091.0000 - val_fp: 1363.0000 - val_tn: 2637413.0000 - val_fn: 1393.0000 - val_accuracy: 0.9990 - val_precision: 0.9928 - val_recall: 0.9926 - val_auc: 0.9992\n",
            "Epoch 74/80\n",
            "98/98 [==============================] - 4s 38ms/step - loss: 0.0029 - tp: 873189.0000 - fp: 6228.0000 - tn: 12308018.0000 - fn: 6400.0000 - accuracy: 0.9990 - precision: 0.9929 - recall: 0.9927 - auc: 0.9993 - val_loss: 0.0031 - val_tp: 187163.0000 - val_fp: 1277.0000 - val_tn: 2637499.0000 - val_fn: 1321.0000 - val_accuracy: 0.9991 - val_precision: 0.9932 - val_recall: 0.9930 - val_auc: 0.9994\n",
            "Epoch 75/80\n",
            "98/98 [==============================] - 4s 38ms/step - loss: 0.0029 - tp: 873249.0000 - fp: 6175.0000 - tn: 12308071.0000 - fn: 6340.0000 - accuracy: 0.9991 - precision: 0.9930 - recall: 0.9928 - auc: 0.9993 - val_loss: 0.0030 - val_tp: 187129.0000 - val_fp: 1320.0000 - val_tn: 2637456.0000 - val_fn: 1355.0000 - val_accuracy: 0.9991 - val_precision: 0.9930 - val_recall: 0.9928 - val_auc: 0.9993\n",
            "Epoch 76/80\n",
            "98/98 [==============================] - 4s 38ms/step - loss: 0.0028 - tp: 873337.0000 - fp: 6093.0000 - tn: 12308153.0000 - fn: 6252.0000 - accuracy: 0.9991 - precision: 0.9931 - recall: 0.9929 - auc: 0.9993 - val_loss: 0.0030 - val_tp: 187169.0000 - val_fp: 1292.0000 - val_tn: 2637484.0000 - val_fn: 1315.0000 - val_accuracy: 0.9991 - val_precision: 0.9931 - val_recall: 0.9930 - val_auc: 0.9994\n",
            "Epoch 77/80\n",
            "98/98 [==============================] - 4s 38ms/step - loss: 0.0028 - tp: 873389.0000 - fp: 6058.0000 - tn: 12308188.0000 - fn: 6200.0000 - accuracy: 0.9991 - precision: 0.9931 - recall: 0.9930 - auc: 0.9993 - val_loss: 0.0030 - val_tp: 187175.0000 - val_fp: 1275.0000 - val_tn: 2637501.0000 - val_fn: 1309.0000 - val_accuracy: 0.9991 - val_precision: 0.9932 - val_recall: 0.9931 - val_auc: 0.9993\n",
            "Epoch 78/80\n",
            "98/98 [==============================] - 4s 38ms/step - loss: 0.0028 - tp: 873437.0000 - fp: 6017.0000 - tn: 12308229.0000 - fn: 6152.0000 - accuracy: 0.9991 - precision: 0.9932 - recall: 0.9930 - auc: 0.9993 - val_loss: 0.0030 - val_tp: 187199.0000 - val_fp: 1261.0000 - val_tn: 2637515.0000 - val_fn: 1285.0000 - val_accuracy: 0.9991 - val_precision: 0.9933 - val_recall: 0.9932 - val_auc: 0.9993\n",
            "Epoch 79/80\n",
            "98/98 [==============================] - 4s 38ms/step - loss: 0.0028 - tp: 873452.0000 - fp: 5977.0000 - tn: 12308269.0000 - fn: 6137.0000 - accuracy: 0.9991 - precision: 0.9932 - recall: 0.9930 - auc: 0.9993 - val_loss: 0.0030 - val_tp: 187123.0000 - val_fp: 1338.0000 - val_tn: 2637438.0000 - val_fn: 1361.0000 - val_accuracy: 0.9990 - val_precision: 0.9929 - val_recall: 0.9928 - val_auc: 0.9992\n",
            "Epoch 80/80\n",
            "98/98 [==============================] - 4s 37ms/step - loss: 0.0027 - tp: 873518.0000 - fp: 5948.0000 - tn: 12308298.0000 - fn: 6071.0000 - accuracy: 0.9991 - precision: 0.9932 - recall: 0.9931 - auc: 0.9993 - val_loss: 0.0029 - val_tp: 187208.0000 - val_fp: 1246.0000 - val_tn: 2637530.0000 - val_fn: 1276.0000 - val_accuracy: 0.9991 - val_precision: 0.9934 - val_recall: 0.9932 - val_auc: 0.9993\n"
          ],
          "name": "stdout"
        }
      ]
    },
    {
      "cell_type": "code",
      "metadata": {
        "id": "XBIbNvdyDn85"
      },
      "source": [
        "y_pred_mix = dnn_n_model.predict(X_test_sd)"
      ],
      "execution_count": null,
      "outputs": []
    },
    {
      "cell_type": "code",
      "metadata": {
        "colab": {
          "base_uri": "https://localhost:8080/"
        },
        "id": "D_QJQlEKGU8i",
        "outputId": "954fc279-1042-4f62-877b-146a71c4cf4d"
      },
      "source": [
        "y_pred_mix"
      ],
      "execution_count": null,
      "outputs": [
        {
          "output_type": "execute_result",
          "data": {
            "text/plain": [
              "array([[0.0000000e+00, 0.0000000e+00, 0.0000000e+00, ..., 0.0000000e+00,\n",
              "        0.0000000e+00, 0.0000000e+00],\n",
              "       [0.0000000e+00, 0.0000000e+00, 0.0000000e+00, ..., 0.0000000e+00,\n",
              "        0.0000000e+00, 0.0000000e+00],\n",
              "       [3.0891338e-09, 7.7628711e-12, 1.4513332e-22, ..., 3.4873085e-15,\n",
              "        1.2335191e-19, 3.6827611e-12],\n",
              "       ...,\n",
              "       [1.0000000e+00, 1.0418901e-34, 0.0000000e+00, ..., 5.9388984e-32,\n",
              "        1.4865620e-36, 0.0000000e+00],\n",
              "       [1.1582623e-08, 5.4412169e-10, 1.2817214e-21, ..., 1.1954169e-12,\n",
              "        8.6470095e-18, 6.4685195e-11],\n",
              "       [1.0000000e+00, 3.2562312e-34, 2.7089362e-36, ..., 0.0000000e+00,\n",
              "        0.0000000e+00, 0.0000000e+00]], dtype=float32)"
            ]
          },
          "metadata": {
            "tags": []
          },
          "execution_count": 64
        }
      ]
    },
    {
      "cell_type": "code",
      "metadata": {
        "colab": {
          "base_uri": "https://localhost:8080/"
        },
        "id": "o_9Sk90_DxnT",
        "outputId": "52e093ec-15f5-402c-bb0d-4b9408007e08"
      },
      "source": [
        "display_metrics(y_test_origin, np.argmax(y_pred_mix, axis = 1), labels_d)"
      ],
      "execution_count": null,
      "outputs": [
        {
          "output_type": "stream",
          "text": [
            "\n",
            "Accuracy: 0.99\n",
            "\n",
            "Micro Precision: 0.99\n",
            "Micro Recall: 0.99\n",
            "Micro F1-score: 0.99\n",
            "\n",
            "Macro Precision: 0.81\n",
            "Macro Recall: 0.78\n"
          ],
          "name": "stdout"
        },
        {
          "output_type": "stream",
          "text": [
            "/usr/local/lib/python3.6/dist-packages/sklearn/metrics/_classification.py:1272: UndefinedMetricWarning: Precision is ill-defined and being set to 0.0 in labels with no predicted samples. Use `zero_division` parameter to control this behavior.\n",
            "  _warn_prf(average, modifier, msg_start, len(result))\n"
          ],
          "name": "stderr"
        },
        {
          "output_type": "stream",
          "text": [
            "Macro F1-score: 0.78\n",
            "\n",
            "Weighted Precision: 0.99\n",
            "Weighted Recall: 0.99\n",
            "Weighted F1-score: 0.99\n",
            "\n",
            "Classification Report\n",
            "\n"
          ],
          "name": "stdout"
        },
        {
          "output_type": "stream",
          "text": [
            "/usr/local/lib/python3.6/dist-packages/sklearn/metrics/_classification.py:1272: UndefinedMetricWarning: Precision and F-score are ill-defined and being set to 0.0 in labels with no predicted samples. Use `zero_division` parameter to control this behavior.\n",
            "  _warn_prf(average, modifier, msg_start, len(result))\n"
          ],
          "name": "stderr"
        },
        {
          "output_type": "stream",
          "text": [
            "                            precision    recall  f1-score   support\n",
            "\n",
            "                    BENIGN       1.00      0.99      0.99    105019\n",
            "                       Bot       0.85      0.90      0.87       280\n",
            "                      DDoS       1.00      1.00      1.00     19271\n",
            "             DoS GoldenEye       0.99      0.98      0.99      1542\n",
            "                  DoS Hulk       1.00      1.00      1.00     34547\n",
            "          DoS Slowhttptest       0.99      0.98      0.99       828\n",
            "             DoS slowloris       0.97      0.99      0.98       834\n",
            "               FTP-Patator       0.99      0.99      0.99      1178\n",
            "                Heartbleed       1.00      1.00      1.00         2\n",
            "              Infiltration       0.00      0.00      0.00         1\n",
            "                  PortScan       0.97      0.99      0.98     23846\n",
            "               SSH-Patator       0.97      0.98      0.97       826\n",
            "  Web Attack � Brute Force       0.65      0.78      0.71       209\n",
            "Web Attack � Sql Injection       0.00      0.00      0.00         7\n",
            "          Web Attack � XSS       0.83      0.16      0.27        93\n",
            "\n",
            "                  accuracy                           0.99    188483\n",
            "                 macro avg       0.81      0.78      0.78    188483\n",
            "              weighted avg       0.99      0.99      0.99    188483\n",
            "\n"
          ],
          "name": "stdout"
        }
      ]
    },
    {
      "cell_type": "markdown",
      "metadata": {
        "id": "o6rwd8YEwksO"
      },
      "source": [
        "### Save the trained model"
      ]
    },
    {
      "cell_type": "code",
      "metadata": {
        "id": "tIJ_DxZ8wksO"
      },
      "source": [
        "dnn_n_model.save('dnn_mix.h5')"
      ],
      "execution_count": null,
      "outputs": []
    },
    {
      "cell_type": "markdown",
      "metadata": {
        "id": "xfPa45GrvHiP"
      },
      "source": [
        "#  **Four Model Ensemble**\n",
        "\n",
        "Now all three models will be combined in an ensemble. \n",
        "\n",
        "Here, all four models are reinstantiated and the best saved weights are loaded."
      ]
    },
    {
      "cell_type": "markdown",
      "metadata": {
        "id": "VcsNoCLTvHiQ"
      },
      "source": [
        "If we want to reload the models with saved weights, we reload the saved models"
      ]
    },
    {
      "cell_type": "code",
      "metadata": {
        "id": "Wg8015ETntgQ"
      },
      "source": [
        "results = np.zeros((y_test_origin.shape[0], 15))"
      ],
      "execution_count": null,
      "outputs": []
    },
    {
      "cell_type": "code",
      "metadata": {
        "id": "jZF5YnNcst3u"
      },
      "source": [
        "y_pred_tree_cat = to_categorical(y_pred_tree, 15)"
      ],
      "execution_count": null,
      "outputs": []
    },
    {
      "cell_type": "code",
      "metadata": {
        "id": "PYR0NrJ_ohIV"
      },
      "source": [
        "results = results+y_pred*10+y_pred_n+y_pred_sd+y_pred_mix+y_pred_tree_cat*10"
      ],
      "execution_count": null,
      "outputs": []
    },
    {
      "cell_type": "code",
      "metadata": {
        "colab": {
          "base_uri": "https://localhost:8080/"
        },
        "id": "2fYdQWUsppwk",
        "outputId": "773b7c01-6967-40ed-c1a4-cf973839979a"
      },
      "source": [
        "display_metrics(y_test_origin, np.argmax(results, axis = 1) , labels_d)"
      ],
      "execution_count": null,
      "outputs": [
        {
          "output_type": "stream",
          "text": [
            "\n",
            "Accuracy: 1.00\n",
            "\n",
            "Micro Precision: 1.00\n",
            "Micro Recall: 1.00\n",
            "Micro F1-score: 1.00\n",
            "\n",
            "Macro Precision: 0.98\n",
            "Macro Recall: 0.92\n",
            "Macro F1-score: 0.94\n",
            "\n",
            "Weighted Precision: 1.00\n",
            "Weighted Recall: 1.00\n",
            "Weighted F1-score: 1.00\n",
            "\n",
            "Classification Report\n",
            "\n",
            "                            precision    recall  f1-score   support\n",
            "\n",
            "                    BENIGN       1.00      1.00      1.00    105019\n",
            "                       Bot       0.98      0.96      0.97       280\n",
            "                      DDoS       1.00      0.99      1.00     19271\n",
            "             DoS GoldenEye       1.00      0.95      0.97      1542\n",
            "                  DoS Hulk       1.00      1.00      1.00     34547\n",
            "          DoS Slowhttptest       1.00      0.99      1.00       828\n",
            "             DoS slowloris       0.96      0.99      0.98       834\n",
            "               FTP-Patator       1.00      1.00      1.00      1178\n",
            "                Heartbleed       1.00      1.00      1.00         2\n",
            "              Infiltration       1.00      1.00      1.00         1\n",
            "                  PortScan       0.99      1.00      0.99     23846\n",
            "               SSH-Patator       1.00      1.00      1.00       826\n",
            "  Web Attack � Brute Force       0.90      0.87      0.88       209\n",
            "Web Attack � Sql Injection       1.00      0.29      0.44         7\n",
            "          Web Attack � XSS       0.86      0.75      0.80        93\n",
            "\n",
            "                  accuracy                           1.00    188483\n",
            "                 macro avg       0.98      0.92      0.94    188483\n",
            "              weighted avg       1.00      1.00      1.00    188483\n",
            "\n"
          ],
          "name": "stdout"
        }
      ]
    },
    {
      "cell_type": "markdown",
      "metadata": {
        "id": "O06IZcCmwksP"
      },
      "source": [
        "# Pre-trained Models and Weights\n",
        "If you do not want to train the models, you can use pre-trained models and their weights."
      ]
    },
    {
      "cell_type": "code",
      "metadata": {
        "id": "junuitTGvHiQ"
      },
      "source": [
        "from tensorflow.keras.models import load_model"
      ],
      "execution_count": null,
      "outputs": []
    },
    {
      "cell_type": "code",
      "metadata": {
        "id": "TBbeV_VQA_R4"
      },
      "source": [
        "randomforest_file_name = 'randomforest.sav'\n",
        "decisiontree_file_name = 'decisiontree.sav'"
      ],
      "execution_count": null,
      "outputs": []
    },
    {
      "cell_type": "code",
      "metadata": {
        "id": "HiCIU7BivHiR",
        "outputId": "cdcff16b-13e7-43c9-e660-61182d4f301f"
      },
      "source": [
        "# load the Random Forest model from disk\n",
        "randomforest_model = pickle.load(open(randomforest_file_name, 'rb'))\n",
        "decisiontree_model = pickle.load(open(decisiontree_file_name, 'rb'))\n",
        "dnn_n_model = load_model('dnn_n.h5',compile = False)\n",
        "dnn_sd_model = load_model('dnn_sd.h5',compile = False)\n",
        "dnn_mix_model = load_model('dnn_mix.h5',compile = False) "
      ],
      "execution_count": null,
      "outputs": [
        {
          "output_type": "stream",
          "text": [
            "C:\\Users\\fwang\\AppData\\Local\\Continuum\\anaconda3\\lib\\site-packages\\sklearn\\base.py:334: UserWarning: Trying to unpickle estimator DecisionTreeClassifier from version 0.22.2.post1 when using version 0.23.2. This might lead to breaking code or invalid results. Use at your own risk.\n",
            "  UserWarning)\n",
            "C:\\Users\\fwang\\AppData\\Local\\Continuum\\anaconda3\\lib\\site-packages\\sklearn\\base.py:334: UserWarning: Trying to unpickle estimator RandomForestClassifier from version 0.22.2.post1 when using version 0.23.2. This might lead to breaking code or invalid results. Use at your own risk.\n",
            "  UserWarning)\n"
          ],
          "name": "stderr"
        }
      ]
    },
    {
      "cell_type": "markdown",
      "metadata": {
        "id": "8NOxBOLbwksR"
      },
      "source": [
        "### Get the prediction values"
      ]
    },
    {
      "cell_type": "code",
      "metadata": {
        "id": "djvJqelewksR"
      },
      "source": [
        "y_pred = randomforest_model.predict(X_test_n)"
      ],
      "execution_count": null,
      "outputs": []
    },
    {
      "cell_type": "code",
      "metadata": {
        "id": "fP20XDa0wksR"
      },
      "source": [
        "y_pred_tree = decisiontree_model.predict(X_test_n)"
      ],
      "execution_count": null,
      "outputs": []
    },
    {
      "cell_type": "code",
      "metadata": {
        "id": "38Ac658bwksR"
      },
      "source": [
        "y_pred_dnn_n = dnn_n_model.predict(X_test_n)"
      ],
      "execution_count": null,
      "outputs": []
    },
    {
      "cell_type": "code",
      "metadata": {
        "id": "xjZ7KGHhwksR"
      },
      "source": [
        "y_pred_dnn_sd = dnn_sd_model.predict(X_test_n)"
      ],
      "execution_count": null,
      "outputs": []
    },
    {
      "cell_type": "code",
      "metadata": {
        "id": "adTLjQE4wxkC"
      },
      "source": [
        "y_pred_dnn_mix = dnn_mix_model.predict(X_test_n)"
      ],
      "execution_count": null,
      "outputs": []
    },
    {
      "cell_type": "code",
      "metadata": {
        "id": "7LKURQcGwksR",
        "outputId": "095dbaeb-9181-412d-f3d9-93a794d82e57"
      },
      "source": [
        "display_metrics(y_test_origin, np.argmax(y_pred_dnn_sd, axis = 1) , labels_d)"
      ],
      "execution_count": null,
      "outputs": [
        {
          "output_type": "stream",
          "text": [
            "\n",
            "Accuracy: 0.99\n",
            "\n",
            "Micro Precision: 0.99\n",
            "Micro Recall: 0.99\n",
            "Micro F1-score: 0.99\n",
            "\n",
            "Macro Precision: 0.88\n",
            "Macro Recall: 0.87\n"
          ],
          "name": "stdout"
        },
        {
          "output_type": "stream",
          "text": [
            "C:\\Users\\fwang\\AppData\\Local\\Continuum\\anaconda3\\lib\\site-packages\\sklearn\\metrics\\_classification.py:1221: UndefinedMetricWarning: Precision is ill-defined and being set to 0.0 in labels with no predicted samples. Use `zero_division` parameter to control this behavior.\n",
            "  _warn_prf(average, modifier, msg_start, len(result))\n"
          ],
          "name": "stderr"
        },
        {
          "output_type": "stream",
          "text": [
            "Macro F1-score: 0.87\n",
            "\n",
            "Weighted Precision: 0.99\n",
            "Weighted Recall: 0.99\n",
            "Weighted F1-score: 0.99\n",
            "\n",
            "Classification Report\n",
            "\n"
          ],
          "name": "stdout"
        },
        {
          "output_type": "stream",
          "text": [
            "C:\\Users\\fwang\\AppData\\Local\\Continuum\\anaconda3\\lib\\site-packages\\sklearn\\metrics\\_classification.py:1221: UndefinedMetricWarning: Precision and F-score are ill-defined and being set to 0.0 in labels with no predicted samples. Use `zero_division` parameter to control this behavior.\n",
            "  _warn_prf(average, modifier, msg_start, len(result))\n"
          ],
          "name": "stderr"
        },
        {
          "output_type": "stream",
          "text": [
            "                            precision    recall  f1-score   support\n",
            "\n",
            "                    BENIGN       1.00      0.99      0.99    105019\n",
            "                       Bot       0.86      0.99      0.92       280\n",
            "                      DDoS       0.98      1.00      0.99     19271\n",
            "             DoS GoldenEye       1.00      0.94      0.97      1542\n",
            "                  DoS Hulk       1.00      0.99      0.99     34547\n",
            "          DoS Slowhttptest       0.99      0.99      0.99       828\n",
            "             DoS slowloris       0.98      0.97      0.98       834\n",
            "               FTP-Patator       1.00      0.99      0.99      1178\n",
            "                Heartbleed       1.00      1.00      1.00         2\n",
            "              Infiltration       1.00      1.00      1.00         1\n",
            "                  PortScan       0.96      0.99      0.98     23846\n",
            "               SSH-Patator       0.98      0.98      0.98       826\n",
            "  Web Attack � Brute Force       0.75      0.82      0.78       209\n",
            "Web Attack � Sql Injection       0.00      0.00      0.00         7\n",
            "          Web Attack � XSS       0.77      0.35      0.49        93\n",
            "\n",
            "                  accuracy                           0.99    188483\n",
            "                 macro avg       0.88      0.87      0.87    188483\n",
            "              weighted avg       0.99      0.99      0.99    188483\n",
            "\n"
          ],
          "name": "stdout"
        }
      ]
    },
    {
      "cell_type": "markdown",
      "metadata": {
        "id": "b4EnTrRxwksS"
      },
      "source": [
        "### Define a filter for each model"
      ]
    },
    {
      "cell_type": "code",
      "metadata": {
        "id": "L8ziJDCCwksS"
      },
      "source": [
        "def filter(pred, list):\n",
        "    for i in list:\n",
        "        pred[:, i] = 0\n",
        "    return pred"
      ],
      "execution_count": null,
      "outputs": []
    },
    {
      "cell_type": "code",
      "metadata": {
        "id": "Q7tVJAx-wksS"
      },
      "source": [
        "random_list=[2,4,8,9,13]\n",
        "tree_list = [2,3,4,6,8,9]\n",
        "dnn_n_list = [2,4,13]\n",
        "dnn_sd_list = [4,6,8,9,11,13]"
      ],
      "execution_count": null,
      "outputs": []
    },
    {
      "cell_type": "code",
      "metadata": {
        "id": "MMyrf_4swksS"
      },
      "source": [
        "y_pred_tree_cat = to_categorical(y_pred_tree, 15)"
      ],
      "execution_count": null,
      "outputs": []
    },
    {
      "cell_type": "code",
      "metadata": {
        "id": "UP3VrNtxwksS"
      },
      "source": [
        "random_pred_filter=filter(y_pred, random_list)\n",
        "tree_pred_filter=filter(y_pred_tree_cat, tree_list)\n",
        "dnn_n_pred_filter=filter(y_pred_dnn_n, dnn_n_list)\n",
        "dnn_sd_pred_filter=filter(y_pred_dnn_sd, dnn_sd_list)"
      ],
      "execution_count": null,
      "outputs": []
    },
    {
      "cell_type": "code",
      "metadata": {
        "id": "fuLJiJgxwksT",
        "outputId": "d3ee3e46-65a8-483f-ad0d-f5f9e1e79cf7"
      },
      "source": [
        "dnn_n_pred_filter"
      ],
      "execution_count": null,
      "outputs": [
        {
          "output_type": "execute_result",
          "data": {
            "text/plain": [
              "array([[2.25684058e-28, 1.23421603e-26, 0.00000000e+00, ...,\n",
              "        5.93876203e-32, 0.00000000e+00, 1.30338280e-19],\n",
              "       [3.07559069e-30, 2.64064061e-34, 0.00000000e+00, ...,\n",
              "        2.03038143e-33, 0.00000000e+00, 9.98061425e-21],\n",
              "       [6.42797315e-10, 4.76133356e-15, 0.00000000e+00, ...,\n",
              "        3.35292570e-26, 0.00000000e+00, 1.11194267e-17],\n",
              "       ...,\n",
              "       [1.00000000e+00, 3.83469262e-23, 0.00000000e+00, ...,\n",
              "        1.61605880e-33, 0.00000000e+00, 5.29033394e-24],\n",
              "       [1.17106474e-07, 5.25993962e-12, 0.00000000e+00, ...,\n",
              "        7.37398901e-23, 0.00000000e+00, 1.31422943e-15],\n",
              "       [1.00000000e+00, 1.80899039e-24, 0.00000000e+00, ...,\n",
              "        1.73941646e-32, 0.00000000e+00, 2.67943355e-26]], dtype=float32)"
            ]
          },
          "metadata": {
            "tags": []
          },
          "execution_count": 151
        }
      ]
    },
    {
      "cell_type": "code",
      "metadata": {
        "id": "nS7bT6ngwksT"
      },
      "source": [
        "results = np.zeros((y_test_origin.shape[0], 15))\n",
        "\n",
        "results = results+y_pred*10 + y_pred_dnn_n + y_pred_dnn_sd + y_pred_dnn_mix + y_pred_tree_cat*10"
      ],
      "execution_count": null,
      "outputs": []
    },
    {
      "cell_type": "code",
      "metadata": {
        "id": "0NTTs5g_wksT",
        "outputId": "c55ed8ec-83e7-4ac4-d909-0e3d120c8576"
      },
      "source": [
        "display_metrics(y_test_origin, np.argmax(results, axis = 1) , labels_d)"
      ],
      "execution_count": null,
      "outputs": [
        {
          "output_type": "stream",
          "text": [
            "\n",
            "Accuracy: 0.81\n",
            "\n",
            "Micro Precision: 0.81\n",
            "Micro Recall: 0.81\n",
            "Micro F1-score: 0.81\n",
            "\n",
            "Macro Precision: 0.56\n",
            "Macro Recall: 0.78\n",
            "Macro F1-score: 0.58\n",
            "\n",
            "Weighted Precision: 0.76\n",
            "Weighted Recall: 0.81\n",
            "Weighted F1-score: 0.78\n",
            "\n",
            "Classification Report\n",
            "\n",
            "                            precision    recall  f1-score   support\n",
            "\n",
            "                    BENIGN       0.94      1.00      0.97    105019\n",
            "                       Bot       0.95      0.96      0.96       280\n",
            "                      DDoS       0.88      0.97      0.93     19271\n",
            "             DoS GoldenEye       0.98      0.96      0.97      1542\n",
            "                  DoS Hulk       0.00      0.00      0.00     34547\n",
            "          DoS Slowhttptest       0.29      0.99      0.44       828\n",
            "             DoS slowloris       0.24      0.98      0.38       834\n",
            "               FTP-Patator       0.99      1.00      0.99      1178\n",
            "                Heartbleed       0.05      1.00      0.09         2\n",
            "              Infiltration       0.00      0.00      0.00         1\n",
            "                  PortScan       1.00      0.99      1.00     23846\n",
            "               SSH-Patator       0.75      1.00      0.86       826\n",
            "  Web Attack � Brute Force       0.90      0.88      0.89       209\n",
            "Web Attack � Sql Injection       0.50      0.14      0.22         7\n",
            "          Web Attack � XSS       0.00      0.75      0.01        93\n",
            "\n",
            "                  accuracy                           0.81    188483\n",
            "                 macro avg       0.56      0.78      0.58    188483\n",
            "              weighted avg       0.76      0.81      0.78    188483\n",
            "\n"
          ],
          "name": "stdout"
        }
      ]
    },
    {
      "cell_type": "code",
      "metadata": {
        "id": "C4jA-I87wksT"
      },
      "source": [
        "ensemble = np.zeros((y_test_origin.shape[0], 15))\n",
        "\n",
        "ensemble = ensemble+random_pred_filter*10+dnn_sd_pred_filter + y_pred_dnn_mix + dnn_n_pred_filter+tree_pred_filter*10"
      ],
      "execution_count": null,
      "outputs": []
    },
    {
      "cell_type": "code",
      "metadata": {
        "id": "ofKCshMQwksT",
        "outputId": "79c59984-08b1-4b6c-d35e-5edbc7d69915"
      },
      "source": [
        "display_metrics(y_test_origin, np.argmax(ensemble, axis = 1) , labels_d)"
      ],
      "execution_count": null,
      "outputs": [
        {
          "output_type": "stream",
          "text": [
            "\n",
            "Accuracy: 0.81\n",
            "\n",
            "Micro Precision: 0.81\n",
            "Micro Recall: 0.81\n",
            "Micro F1-score: 0.81\n",
            "\n",
            "Macro Precision: 0.56\n",
            "Macro Recall: 0.78\n",
            "Macro F1-score: 0.58\n",
            "\n",
            "Weighted Precision: 0.76\n",
            "Weighted Recall: 0.81\n",
            "Weighted F1-score: 0.78\n",
            "\n",
            "Classification Report\n",
            "\n",
            "                            precision    recall  f1-score   support\n",
            "\n",
            "                    BENIGN       0.94      1.00      0.97    105019\n",
            "                       Bot       0.95      0.96      0.96       280\n",
            "                      DDoS       0.88      0.97      0.93     19271\n",
            "             DoS GoldenEye       0.98      0.96      0.97      1542\n",
            "                  DoS Hulk       0.00      0.00      0.00     34547\n",
            "          DoS Slowhttptest       0.29      0.99      0.44       828\n",
            "             DoS slowloris       0.24      0.98      0.38       834\n",
            "               FTP-Patator       0.99      1.00      0.99      1178\n",
            "                Heartbleed       0.05      1.00      0.09         2\n",
            "              Infiltration       0.00      0.00      0.00         1\n",
            "                  PortScan       1.00      0.99      1.00     23846\n",
            "               SSH-Patator       0.75      1.00      0.86       826\n",
            "  Web Attack � Brute Force       0.90      0.88      0.89       209\n",
            "Web Attack � Sql Injection       0.50      0.14      0.22         7\n",
            "          Web Attack � XSS       0.00      0.75      0.01        93\n",
            "\n",
            "                  accuracy                           0.81    188483\n",
            "                 macro avg       0.56      0.78      0.58    188483\n",
            "              weighted avg       0.76      0.81      0.78    188483\n",
            "\n"
          ],
          "name": "stdout"
        }
      ]
    },
    {
      "cell_type": "markdown",
      "metadata": {
        "id": "9rNnA7pQvHib"
      },
      "source": [
        "## Conclusion\n",
        "\n",
        " "
      ]
    },
    {
      "cell_type": "code",
      "metadata": {
        "id": "B0JTJHOivGRW"
      },
      "source": [
        ""
      ],
      "execution_count": null,
      "outputs": []
    }
  ]
}