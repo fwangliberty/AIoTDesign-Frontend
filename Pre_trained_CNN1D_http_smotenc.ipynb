{
  "nbformat": 4,
  "nbformat_minor": 0,
  "metadata": {
    "accelerator": "GPU",
    "colab": {
      "name": "Pre_trained_CNN1D_http_smotenc.ipynb",
      "provenance": [],
      "collapsed_sections": [],
      "include_colab_link": true
    },
    "kernelspec": {
      "display_name": "Python 3",
      "language": "python",
      "name": "python3"
    },
    "language_info": {
      "codemirror_mode": {
        "name": "ipython",
        "version": 3
      },
      "file_extension": ".py",
      "mimetype": "text/x-python",
      "name": "python",
      "nbconvert_exporter": "python",
      "pygments_lexer": "ipython3",
      "version": "3.7.10"
    }
  },
  "cells": [
    {
      "cell_type": "markdown",
      "metadata": {
        "id": "view-in-github",
        "colab_type": "text"
      },
      "source": [
        "<a href=\"https://colab.research.google.com/github/fwangliberty/AIoTDesign-Frontend/blob/master/Pre_trained_CNN1D_http_smotenc.ipynb\" target=\"_parent\"><img src=\"https://colab.research.google.com/assets/colab-badge.svg\" alt=\"Open In Colab\"/></a>"
      ]
    },
    {
      "cell_type": "markdown",
      "metadata": {
        "id": "Lq5p9swvZ04G"
      },
      "source": [
        "# Using SMOTENC to train a pre-trained CNN1D model with is_http, standardalized dataset"
      ]
    },
    {
      "cell_type": "markdown",
      "metadata": {
        "id": "dXg4HMXOZ04H"
      },
      "source": [
        "We investigate the effect of adding \"is_http80\" on the detection results."
      ]
    },
    {
      "cell_type": "code",
      "metadata": {
        "id": "0SOKT1sRZ04I"
      },
      "source": [
        "import os\n",
        "from os.path import join\n",
        "import glob\n",
        "import pandas as pd\n",
        "import numpy as np\n",
        "import time\n",
        "import seaborn as sns\n",
        "import matplotlib.pyplot as plt"
      ],
      "execution_count": 1,
      "outputs": []
    },
    {
      "cell_type": "code",
      "metadata": {
        "id": "RH9hOnpmzv6-"
      },
      "source": [
        "def display_metrics(y_test, y_pred, label_names):\n",
        "  print('\\nAccuracy: {:.2f}\\n'.format(accuracy_score(y_test, y_pred)))\n",
        "\n",
        "  print('Micro Precision: {:.2f}'.format(precision_score(y_test, y_pred, average='micro')))\n",
        "  print('Micro Recall: {:.2f}'.format(recall_score(y_test, y_pred, average='micro')))\n",
        "  print('Micro F1-score: {:.2f}\\n'.format(f1_score(y_test, y_pred, average='micro')))\n",
        "\n",
        "  print('Macro Precision: {:.2f}'.format(precision_score(y_test, y_pred, average='macro')))\n",
        "  print('Macro Recall: {:.2f}'.format(recall_score(y_test, y_pred, average='macro')))\n",
        "  print('Macro F1-score: {:.2f}\\n'.format(f1_score(y_test, y_pred, average='macro')))\n",
        "\n",
        "  print('Weighted Precision: {:.2f}'.format(precision_score(y_test, y_pred, average='weighted')))\n",
        "  print('Weighted Recall: {:.2f}'.format(recall_score(y_test, y_pred, average='weighted')))\n",
        "  print('Weighted F1-score: {:.2f}'.format(f1_score(y_test, y_pred, average='weighted')))\n",
        "\n",
        "  print('\\nClassification Report\\n')\n",
        "  print(classification_report(y_test, y_pred, target_names=label_names))"
      ],
      "execution_count": 2,
      "outputs": []
    },
    {
      "cell_type": "code",
      "metadata": {
        "id": "ceDogrv3Z04J"
      },
      "source": [
        "def make_value2index(attacks):\n",
        "    #make dictionary\n",
        "    attacks = sorted(attacks)\n",
        "    d = {}\n",
        "    counter=0\n",
        "    for attack in attacks:\n",
        "        d[attack] = counter\n",
        "        counter+=1\n",
        "    return d"
      ],
      "execution_count": 3,
      "outputs": []
    },
    {
      "cell_type": "code",
      "metadata": {
        "id": "Ht3b8hIQZ04K"
      },
      "source": [
        "# chganges label from string to integer/index\n",
        "def encode_label(Y_str):\n",
        "    labels_d = make_value2index(np.unique(Y_str))\n",
        "    Y = [labels_d[y_str] for y_str  in Y_str]\n",
        "    Y = np.array(Y)\n",
        "    return np.array(Y)"
      ],
      "execution_count": 4,
      "outputs": []
    },
    {
      "cell_type": "markdown",
      "metadata": {
        "id": "PMisXWZWZ04K"
      },
      "source": [
        "## Step 1. Loading NPY files"
      ]
    },
    {
      "cell_type": "code",
      "metadata": {
        "id": "cwxZ7DrXZ04L"
      },
      "source": [
        "# All columns\n",
        "col_names = np.array(['dst sport count', 'src dport count', 'dst src count', 'dport count', 'sport count', 'dst host count','src host count','Source Port', 'Destination Port',\n",
        "                      'Protocol', 'Flow Duration', 'Total Fwd Packets', 'Total Backward Packets', 'Total Length of Fwd Packets',\n",
        "                      'Total Length of Bwd Packets', 'Fwd Packet Length Max', 'Fwd Packet Length Min', 'Fwd Packet Length Mean',\n",
        "                      'Fwd Packet Length Std', 'Bwd Packet Length Max', 'Bwd Packet Length Min', 'Bwd Packet Length Mean', 'Bwd Packet Length Std',\n",
        "                      'Flow Bytes/s', 'Flow Packets/s', 'Flow IAT Mean', 'Flow IAT Std', 'Flow IAT Max', 'Flow IAT Min', 'Fwd IAT Total',\n",
        "                      'Fwd IAT Mean', 'Fwd IAT Std', 'Fwd IAT Max', 'Fwd IAT Min', 'Bwd IAT Total', 'Bwd IAT Mean', 'Bwd IAT Std', 'Bwd IAT Max',\n",
        "                      'Bwd IAT Min', 'Fwd PSH Flags', 'Fwd URG Flags', 'Fwd Header Length', 'Bwd Header Length',\n",
        "                      'Fwd Packets/s', 'Bwd Packets/s', 'Min Packet Length', 'Max Packet Length', 'Packet Length Mean', 'Packet Length Std',\n",
        "                      'Packet Length Variance', 'FIN Flag Count', 'SYN Flag Count', 'RST Flag Count', 'PSH Flag Count', 'ACK Flag Count',\n",
        "                      'URG Flag Count', 'CWE Flag Count', 'ECE Flag Count', 'Down/Up Ratio', 'Average Packet Size', 'Avg Fwd Segment Size',\n",
        "                      'Avg Bwd Segment Size','Subflow Fwd Packets', 'Subflow Fwd Bytes',\n",
        "                      'Subflow Bwd Packets', 'Subflow Bwd Bytes', 'Init_Win_bytes_forward', 'Init_Win_bytes_backward',\n",
        "                      'act_data_pkt_fwd', 'min_seg_size_forward', 'Active Mean', 'Active Std', 'Active Max', 'Active Min', 'Idle Mean',\n",
        "                      'Idle Std', 'Idle Max', 'Idle Min', 'Label'])"
      ],
      "execution_count": 5,
      "outputs": []
    },
    {
      "cell_type": "markdown",
      "metadata": {
        "id": "KoCkMRAcaIA6"
      },
      "source": [
        "### Option 1. Connect to Google Drive"
      ]
    },
    {
      "cell_type": "code",
      "metadata": {
        "colab": {
          "base_uri": "https://localhost:8080/"
        },
        "id": "6uaw_A5kaHSj",
        "outputId": "692abedd-7d69-440a-d8aa-5cd55c8897b5"
      },
      "source": [
        "from google.colab import drive\n",
        "drive.mount('/content/drive')"
      ],
      "execution_count": 6,
      "outputs": [
        {
          "output_type": "stream",
          "text": [
            "Mounted at /content/drive\n"
          ],
          "name": "stdout"
        }
      ]
    },
    {
      "cell_type": "code",
      "metadata": {
        "id": "J-leibSIWcbr"
      },
      "source": [
        "from numpy import load"
      ],
      "execution_count": 7,
      "outputs": []
    },
    {
      "cell_type": "code",
      "metadata": {
        "id": "4qUtBnilZ04M"
      },
      "source": [
        "# load array\n",
        "X_train_5000 = load('/content/drive/My Drive/CICIDS2017/X_train_5000.npy')\n",
        "# print the array\n",
        "print(X_train_5000)"
      ],
      "execution_count": null,
      "outputs": []
    },
    {
      "cell_type": "code",
      "metadata": {
        "id": "1w2ffNxmU1S1"
      },
      "source": [
        "y_train_5000 = load('/content/drive/My Drive/CICIDS2017/y_train_5000.npy')"
      ],
      "execution_count": null,
      "outputs": []
    },
    {
      "cell_type": "code",
      "metadata": {
        "id": "9rUF_BGE1jBL"
      },
      "source": [
        "X_train_3000 = load('/content/drive/My Drive/CICIDS2017/X_train_smotenc3000.npy')\r\n",
        "y_train_3000 = load('/content/drive/My Drive/CICIDS2017/y_train_smotenc3000.npy')"
      ],
      "execution_count": null,
      "outputs": []
    },
    {
      "cell_type": "code",
      "metadata": {
        "id": "0IKsqJL31p4A"
      },
      "source": [
        "X_train_1000 = load('/content/drive/My Drive/CICIDS2017/X_train_smotenc1000.npy')\r\n",
        "y_train_1000 = load('/content/drive/My Drive/CICIDS2017/y_train_smotenc1000.npy')"
      ],
      "execution_count": 8,
      "outputs": []
    },
    {
      "cell_type": "code",
      "metadata": {
        "colab": {
          "base_uri": "https://localhost:8080/"
        },
        "id": "NvokKUTBa2YN",
        "outputId": "2fe7a266-91e3-47b1-d4ff-eb7ce585a62c"
      },
      "source": [
        "print(y_train_1000)"
      ],
      "execution_count": 9,
      "outputs": [
        {
          "output_type": "stream",
          "text": [
            "[ 2  0  0 ... 14 14 14]\n"
          ],
          "name": "stdout"
        }
      ]
    },
    {
      "cell_type": "code",
      "metadata": {
        "id": "IBn8DsjhX_U4"
      },
      "source": [
        "X_test = load('/content/drive/My Drive/CICIDS2017/X_test.npy') \n",
        "X_val = load('/content/drive/My Drive/CICIDS2017/X_val.npy')"
      ],
      "execution_count": 10,
      "outputs": []
    },
    {
      "cell_type": "code",
      "metadata": {
        "id": "YXYvaCAjZ04P"
      },
      "source": [
        "y_test = load('/content/drive/My Drive/CICIDS2017/y_test.npy')\n",
        "y_val = load('/content/drive/My Drive/CICIDS2017/y_val.npy')"
      ],
      "execution_count": 11,
      "outputs": []
    },
    {
      "cell_type": "markdown",
      "metadata": {
        "id": "2cbbuInpXhvz"
      },
      "source": [
        "### Option 2. Load from local machine"
      ]
    },
    {
      "cell_type": "code",
      "metadata": {
        "id": "MLcmd-A8Xhv0"
      },
      "source": [
        "from numpy import load\n",
        "\n",
        "# load array\n",
        "X_train_5000 = load('X_train_5000.npy')\n",
        "# print the array\n",
        "print(X_train_5000)"
      ],
      "execution_count": null,
      "outputs": []
    },
    {
      "cell_type": "code",
      "metadata": {
        "id": "q9oqAbFyXhv0"
      },
      "source": [
        "X_test = load('X_test.npy') \n",
        "X_val = load('X_val.npy')"
      ],
      "execution_count": null,
      "outputs": []
    },
    {
      "cell_type": "code",
      "metadata": {
        "id": "SsR6_hJDZ04R"
      },
      "source": [
        "y_train_5000 = load('y_train_5000.npy')\n",
        "y_test = load('y_test.npy')\n",
        "y_val = load('y_val.npy')"
      ],
      "execution_count": null,
      "outputs": []
    },
    {
      "cell_type": "markdown",
      "metadata": {
        "id": "reoNDQZhZ04T"
      },
      "source": [
        "## Step 2 One-hot encoding for labels"
      ]
    },
    {
      "cell_type": "markdown",
      "metadata": {
        "id": "So8gvIF8Z04T"
      },
      "source": [
        "y_train, y_test and y_val have to be one-hot-encoded. That means they must have dimension (number_of_samples, 15), where 15 denotes number of classes."
      ]
    },
    {
      "cell_type": "code",
      "metadata": {
        "id": "Yc97u4oZZ04U"
      },
      "source": [
        "from tensorflow.keras.utils import to_categorical"
      ],
      "execution_count": 12,
      "outputs": []
    },
    {
      "cell_type": "markdown",
      "metadata": {
        "id": "rfeM_ZzsXhv8"
      },
      "source": [
        "Save the labels for AdaBoostClassifier"
      ]
    },
    {
      "cell_type": "code",
      "metadata": {
        "id": "MQVqV19KZ04U"
      },
      "source": [
        "y_test_cat = to_categorical(y_test, 15)\n",
        "y_val_cat = to_categorical(y_val, 15)"
      ],
      "execution_count": 13,
      "outputs": []
    },
    {
      "cell_type": "code",
      "metadata": {
        "id": "O4UsTKbDVCeQ"
      },
      "source": [
        "y_train_cat_5000 = to_categorical(y_train_5000, 15)"
      ],
      "execution_count": null,
      "outputs": []
    },
    {
      "cell_type": "code",
      "metadata": {
        "id": "K7rsREkP161Y"
      },
      "source": [
        "y_train_cat_3000 = to_categorical(y_train_3000, 15)"
      ],
      "execution_count": null,
      "outputs": []
    },
    {
      "cell_type": "code",
      "metadata": {
        "id": "chW3NgQHUhda"
      },
      "source": [
        "y_train_cat_1000 = to_categorical(y_train_1000, 15)"
      ],
      "execution_count": 14,
      "outputs": []
    },
    {
      "cell_type": "markdown",
      "metadata": {
        "id": "Yd9_XX_5Xhv8"
      },
      "source": [
        "## Step 3. Define the metrics"
      ]
    },
    {
      "cell_type": "code",
      "metadata": {
        "id": "dqOSi1KcXhv8"
      },
      "source": [
        "import tensorflow as tf\n",
        "from sklearn.ensemble import RandomForestClassifier\n",
        "\n",
        "#importing confusion matrix\n",
        "from sklearn.metrics import confusion_matrix\n",
        "from sklearn.metrics import classification_report\n",
        "\n",
        "from sklearn import metrics\n",
        "from sklearn.metrics import accuracy_score\n",
        "\n",
        "#importing accuracy_score, precision_score, recall_score, f1_score\n",
        "from sklearn.metrics import accuracy_score, precision_score, recall_score, f1_score\n",
        "from sklearn.metrics import mean_squared_error,mean_absolute_error"
      ],
      "execution_count": 15,
      "outputs": []
    },
    {
      "cell_type": "code",
      "metadata": {
        "id": "PUup6sodXhv9"
      },
      "source": [
        "METRICS = [\n",
        "      tf.keras.metrics.TruePositives(name='tp'),\n",
        "      tf.keras.metrics.FalsePositives(name='fp'),\n",
        "      tf.keras.metrics.TrueNegatives(name='tn'),\n",
        "      tf.keras.metrics.FalseNegatives(name='fn'), \n",
        "      tf.keras.metrics.BinaryAccuracy(name='accuracy'),\n",
        "      tf.keras.metrics.Precision(name='precision'),\n",
        "      tf.keras.metrics.Recall(name='recall'),\n",
        "      tf.keras.metrics.AUC(name='auc'),\n",
        "]"
      ],
      "execution_count": 16,
      "outputs": []
    },
    {
      "cell_type": "markdown",
      "metadata": {
        "id": "VxRNywIXXhwC"
      },
      "source": [
        "Get the attacks' names"
      ]
    },
    {
      "cell_type": "code",
      "metadata": {
        "id": "q9AlIiTKXhwC"
      },
      "source": [
        "df_test = pd.read_csv('/content/drive/My Drive/CICIDS2017/test_set_ext78_2.csv',names=col_names, skiprows=1)  \n",
        "labels_d = make_value2index(df_test['Label'])"
      ],
      "execution_count": 17,
      "outputs": []
    },
    {
      "cell_type": "code",
      "metadata": {
        "colab": {
          "base_uri": "https://localhost:8080/"
        },
        "id": "l1vqAhE1XhwC",
        "outputId": "117d4d41-8e4c-43ed-c1b2-9d9eabccfaaf"
      },
      "source": [
        "print(labels_d)"
      ],
      "execution_count": 18,
      "outputs": [
        {
          "output_type": "stream",
          "text": [
            "{'BENIGN': 105018, 'Bot': 105298, 'DDoS': 124569, 'DoS GoldenEye': 126111, 'DoS Hulk': 160658, 'DoS Slowhttptest': 161486, 'DoS slowloris': 162320, 'FTP-Patator': 163498, 'Heartbleed': 163500, 'Infiltration': 163501, 'PortScan': 187347, 'SSH-Patator': 188173, 'Web Attack � Brute Force': 188382, 'Web Attack � Sql Injection': 188389, 'Web Attack � XSS': 188482}\n"
          ],
          "name": "stdout"
        }
      ]
    },
    {
      "cell_type": "markdown",
      "metadata": {
        "id": "erUa8gpIZ04U"
      },
      "source": [
        "# CNN1D Model "
      ]
    },
    {
      "cell_type": "code",
      "metadata": {
        "id": "Y3DeWFlwBfhX",
        "colab": {
          "base_uri": "https://localhost:8080/"
        },
        "outputId": "7748061c-69c8-413a-ed25-09d600a509d0"
      },
      "source": [
        "batch_size = 200 # increasing batch size with more gpu added\n",
        "input_dim =  X_train_5000.shape[1]\n",
        "num_class = 15                   # 15 intrusion classes, including benign traffic class\n",
        "num_epochs = 100\n",
        "\n",
        "print(input_dim)\n",
        "print(num_class)"
      ],
      "execution_count": 20,
      "outputs": [
        {
          "output_type": "stream",
          "text": [
            "79\n",
            "15\n"
          ],
          "name": "stdout"
        }
      ]
    },
    {
      "cell_type": "code",
      "metadata": {
        "id": "bEBfRzYzHZ2o",
        "colab": {
          "base_uri": "https://localhost:8080/"
        },
        "outputId": "4b21193f-be47-43b9-c3ea-297360c73dee"
      },
      "source": [
        "X_train_r = np.zeros((len(X_train_5000), input_dim, 1))\n",
        "X_train_r[:, :, 0] = X_train_5000[:, :input_dim]\n",
        "print(X_train_r.shape)"
      ],
      "execution_count": null,
      "outputs": [
        {
          "output_type": "stream",
          "text": [
            "(893055, 79, 1)\n"
          ],
          "name": "stdout"
        }
      ]
    },
    {
      "cell_type": "code",
      "metadata": {
        "id": "HcJvRLesHarx",
        "colab": {
          "base_uri": "https://localhost:8080/"
        },
        "outputId": "0a6ab236-049b-453c-ef71-8a7a22b7f760"
      },
      "source": [
        "X_test_r = np.zeros((len(X_test), input_dim, 1))\n",
        "X_test_r[:, :, 0] = X_test[:, :input_dim]\n",
        "print(X_test_r.shape)"
      ],
      "execution_count": 45,
      "outputs": [
        {
          "output_type": "stream",
          "text": [
            "(188483, 79, 1)\n"
          ],
          "name": "stdout"
        }
      ]
    },
    {
      "cell_type": "code",
      "metadata": {
        "id": "RiYQdEODHd2m",
        "colab": {
          "base_uri": "https://localhost:8080/"
        },
        "outputId": "5fd1f81e-c0f6-4375-87b6-b251cb2a59ed"
      },
      "source": [
        "X_val_r = np.zeros((len(X_val), input_dim, 1))\n",
        "X_val_r[:, :, 0] = X_val[:, :input_dim]\n",
        "print(X_val_r.shape)"
      ],
      "execution_count": 25,
      "outputs": [
        {
          "output_type": "stream",
          "text": [
            "(188484, 79, 1)\n"
          ],
          "name": "stdout"
        }
      ]
    },
    {
      "cell_type": "code",
      "metadata": {
        "id": "zoUh1NgAyVg-"
      },
      "source": [
        "del X_val\n",
        "del X_train_5000\n",
        "del X_test"
      ],
      "execution_count": null,
      "outputs": []
    },
    {
      "cell_type": "code",
      "metadata": {
        "colab": {
          "base_uri": "https://localhost:8080/"
        },
        "id": "jpTZU5OPZ04W",
        "outputId": "2e27b66c-b4c6-4565-999d-d946cc3380f0"
      },
      "source": [
        "# load the Random Forest model from disk\n",
        "cnn1d_file_name = \"/content/drive/My Drive/CICIDS2017/cnn1d_78_http_smote1000.h5\"\n",
        "cnn1d_model = tf.keras.models.load_model(cnn1d_file_name)\n",
        " \n",
        "cnn1d_model.summary()"
      ],
      "execution_count": null,
      "outputs": [
        {
          "output_type": "stream",
          "text": [
            "Model: \"sequential\"\n",
            "_________________________________________________________________\n",
            "Layer (type)                 Output Shape              Param #   \n",
            "=================================================================\n",
            "conv1d (Conv1D)              (None, 79, 32)            768       \n",
            "_________________________________________________________________\n",
            "conv1d_1 (Conv1D)            (None, 79, 32)            17440     \n",
            "_________________________________________________________________\n",
            "max_pooling1d (MaxPooling1D) (None, 39, 32)            0         \n",
            "_________________________________________________________________\n",
            "dropout (Dropout)            (None, 39, 32)            0         \n",
            "_________________________________________________________________\n",
            "batch_normalization (BatchNo (None, 39, 32)            156       \n",
            "_________________________________________________________________\n",
            "conv1d_2 (Conv1D)            (None, 39, 64)            47168     \n",
            "_________________________________________________________________\n",
            "conv1d_3 (Conv1D)            (None, 39, 64)            69696     \n",
            "_________________________________________________________________\n",
            "max_pooling1d_1 (MaxPooling1 (None, 19, 64)            0         \n",
            "_________________________________________________________________\n",
            "dropout_1 (Dropout)          (None, 19, 64)            0         \n",
            "_________________________________________________________________\n",
            "batch_normalization_1 (Batch (None, 19, 64)            76        \n",
            "_________________________________________________________________\n",
            "flatten (Flatten)            (None, 1216)              0         \n",
            "_________________________________________________________________\n",
            "dense (Dense)                (None, 32)                38944     \n",
            "_________________________________________________________________\n",
            "dropout_2 (Dropout)          (None, 32)                0         \n",
            "_________________________________________________________________\n",
            "dense_1 (Dense)              (None, 15)                495       \n",
            "_________________________________________________________________\n",
            "activation (Activation)      (None, 15)                0         \n",
            "=================================================================\n",
            "Total params: 174,743\n",
            "Trainable params: 174,627\n",
            "Non-trainable params: 116\n",
            "_________________________________________________________________\n"
          ],
          "name": "stdout"
        }
      ]
    },
    {
      "cell_type": "code",
      "metadata": {
        "colab": {
          "base_uri": "https://localhost:8080/",
          "height": 1000
        },
        "id": "ldBRHXx_50pg",
        "outputId": "77df5528-3035-4167-9642-da6c6aa26ec6"
      },
      "source": [
        "from keras.optimizers import Nadam, Adam, RMSprop\n",
        "from keras.callbacks import LearningRateScheduler, ModelCheckpoint\n",
        "import keras\n",
        "import time\n",
        "time_start = time.time()\n",
        "\n",
        "reduce_lr = keras.callbacks.ReduceLROnPlateau(moniter='val_loss',\n",
        "                                              factor=0.1,\n",
        "                                              patience=10)\n",
        "nadam = Nadam(lr=1e-5, beta_1=0.9, beta_2=0.999, epsilon=1e-08, schedule_decay=0.0001)\n",
        "cnn1d_model.compile(loss = \"categorical_crossentropy\",optimizer = \"nadam\", metrics = METRICS)\n",
        "#model2d_g.compile(loss='categorical_crossentropy',\n",
        "#              optimizer= RMSprop(lr=0.001), #,SGD(lr=0.01), #\n",
        "#              metrics=METRICS)\n",
        "\n",
        "#model2d_g.compile(\n",
        "#      optimizer= Adam(lr=1e-4),\n",
        "#      loss=tf.keras.losses.BinaryCrossentropy(),\n",
        "#      loss='categorical_crossentropy',\n",
        "#      metrics=METRICS)\n",
        "\n",
        "history = cnn1d_model.fit(X_train_r, y_train_cat_5000, \n",
        "                    epochs=50, \n",
        "                    batch_size=batch_size, \n",
        "                    verbose=2,\n",
        "                    validation_data=(X_val_r, y_val_cat),\n",
        "                    callbacks=[reduce_lr])\n",
        "time_end = time.time()\n",
        "train_time = time_end - time_start\n",
        "print(\"train_time:\",train_time)"
      ],
      "execution_count": null,
      "outputs": [
        {
          "output_type": "stream",
          "text": [
            "Epoch 1/50\n",
            "4466/4466 - 54s - loss: 0.0101 - tp: 1437909.0000 - fp: 5471.0000 - tn: 20205910.0000 - fn: 5746.0000 - accuracy: 0.9995 - precision: 0.9962 - recall: 0.9960 - auc: 0.9999 - val_loss: 0.0153 - val_tp: 187775.0000 - val_fp: 703.0000 - val_tn: 2638073.0000 - val_fn: 709.0000 - val_accuracy: 0.9995 - val_precision: 0.9963 - val_recall: 0.9962 - val_auc: 0.9999\n",
            "Epoch 2/50\n",
            "4466/4466 - 49s - loss: 0.0097 - tp: 889534.0000 - fp: 3396.0000 - tn: 12499374.0000 - fn: 3521.0000 - accuracy: 0.9995 - precision: 0.9962 - recall: 0.9961 - auc: 1.0000 - val_loss: 0.0176 - val_tp: 187700.0000 - val_fp: 784.0000 - val_tn: 2637992.0000 - val_fn: 784.0000 - val_accuracy: 0.9994 - val_precision: 0.9958 - val_recall: 0.9958 - val_auc: 0.9998\n",
            "Epoch 3/50\n",
            "4466/4466 - 49s - loss: 0.0098 - tp: 889550.0000 - fp: 3352.0000 - tn: 12499418.0000 - fn: 3505.0000 - accuracy: 0.9995 - precision: 0.9962 - recall: 0.9961 - auc: 0.9999 - val_loss: 0.0175 - val_tp: 187806.0000 - val_fp: 672.0000 - val_tn: 2638104.0000 - val_fn: 678.0000 - val_accuracy: 0.9995 - val_precision: 0.9964 - val_recall: 0.9964 - val_auc: 0.9998\n",
            "Epoch 4/50\n",
            "4466/4466 - 49s - loss: 0.0097 - tp: 889637.0000 - fp: 3294.0000 - tn: 12499476.0000 - fn: 3418.0000 - accuracy: 0.9995 - precision: 0.9963 - recall: 0.9962 - auc: 1.0000 - val_loss: 0.0163 - val_tp: 187740.0000 - val_fp: 740.0000 - val_tn: 2638036.0000 - val_fn: 744.0000 - val_accuracy: 0.9995 - val_precision: 0.9961 - val_recall: 0.9961 - val_auc: 0.9998\n",
            "Epoch 5/50\n",
            "4466/4466 - 49s - loss: 0.0100 - tp: 889559.0000 - fp: 3371.0000 - tn: 12499399.0000 - fn: 3496.0000 - accuracy: 0.9995 - precision: 0.9962 - recall: 0.9961 - auc: 1.0000 - val_loss: 0.0123 - val_tp: 187956.0000 - val_fp: 525.0000 - val_tn: 2638251.0000 - val_fn: 528.0000 - val_accuracy: 0.9996 - val_precision: 0.9972 - val_recall: 0.9972 - val_auc: 0.9999\n",
            "Epoch 6/50\n",
            "4466/4466 - 49s - loss: 0.0098 - tp: 889678.0000 - fp: 3278.0000 - tn: 12499492.0000 - fn: 3377.0000 - accuracy: 0.9995 - precision: 0.9963 - recall: 0.9962 - auc: 1.0000 - val_loss: 0.0155 - val_tp: 187837.0000 - val_fp: 643.0000 - val_tn: 2638133.0000 - val_fn: 647.0000 - val_accuracy: 0.9995 - val_precision: 0.9966 - val_recall: 0.9966 - val_auc: 0.9998\n",
            "Epoch 7/50\n",
            "4466/4466 - 50s - loss: 0.0098 - tp: 889609.0000 - fp: 3344.0000 - tn: 12499426.0000 - fn: 3446.0000 - accuracy: 0.9995 - precision: 0.9963 - recall: 0.9961 - auc: 1.0000 - val_loss: 0.0142 - val_tp: 187870.0000 - val_fp: 607.0000 - val_tn: 2638169.0000 - val_fn: 614.0000 - val_accuracy: 0.9996 - val_precision: 0.9968 - val_recall: 0.9967 - val_auc: 0.9999\n",
            "Epoch 8/50\n",
            "4466/4466 - 49s - loss: 0.0094 - tp: 889706.0000 - fp: 3262.0000 - tn: 12499508.0000 - fn: 3349.0000 - accuracy: 0.9995 - precision: 0.9963 - recall: 0.9962 - auc: 1.0000 - val_loss: 0.0178 - val_tp: 187663.0000 - val_fp: 816.0000 - val_tn: 2637960.0000 - val_fn: 821.0000 - val_accuracy: 0.9994 - val_precision: 0.9957 - val_recall: 0.9956 - val_auc: 0.9997\n",
            "Epoch 9/50\n",
            "4466/4466 - 49s - loss: 0.0097 - tp: 889564.0000 - fp: 3376.0000 - tn: 12499394.0000 - fn: 3491.0000 - accuracy: 0.9995 - precision: 0.9962 - recall: 0.9961 - auc: 1.0000 - val_loss: 0.0159 - val_tp: 187762.0000 - val_fp: 715.0000 - val_tn: 2638061.0000 - val_fn: 722.0000 - val_accuracy: 0.9995 - val_precision: 0.9962 - val_recall: 0.9962 - val_auc: 0.9998\n",
            "Epoch 10/50\n",
            "4466/4466 - 49s - loss: 0.0095 - tp: 889647.0000 - fp: 3296.0000 - tn: 12499474.0000 - fn: 3408.0000 - accuracy: 0.9995 - precision: 0.9963 - recall: 0.9962 - auc: 1.0000 - val_loss: 0.0169 - val_tp: 187783.0000 - val_fp: 681.0000 - val_tn: 2638095.0000 - val_fn: 701.0000 - val_accuracy: 0.9995 - val_precision: 0.9964 - val_recall: 0.9963 - val_auc: 0.9999\n",
            "Epoch 11/50\n",
            "4466/4466 - 49s - loss: 0.0096 - tp: 889656.0000 - fp: 3281.0000 - tn: 12499489.0000 - fn: 3399.0000 - accuracy: 0.9995 - precision: 0.9963 - recall: 0.9962 - auc: 1.0000 - val_loss: 0.0160 - val_tp: 187809.0000 - val_fp: 664.0000 - val_tn: 2638112.0000 - val_fn: 675.0000 - val_accuracy: 0.9995 - val_precision: 0.9965 - val_recall: 0.9964 - val_auc: 0.9998\n",
            "Epoch 12/50\n",
            "4466/4466 - 49s - loss: 0.0097 - tp: 889702.0000 - fp: 3244.0000 - tn: 12499526.0000 - fn: 3353.0000 - accuracy: 0.9995 - precision: 0.9964 - recall: 0.9962 - auc: 1.0000 - val_loss: 0.0185 - val_tp: 187707.0000 - val_fp: 773.0000 - val_tn: 2638003.0000 - val_fn: 777.0000 - val_accuracy: 0.9994 - val_precision: 0.9959 - val_recall: 0.9959 - val_auc: 0.9997\n",
            "Epoch 13/50\n",
            "4466/4466 - 49s - loss: 0.0098 - tp: 889611.0000 - fp: 3325.0000 - tn: 12499445.0000 - fn: 3444.0000 - accuracy: 0.9995 - precision: 0.9963 - recall: 0.9961 - auc: 1.0000 - val_loss: 0.0154 - val_tp: 187785.0000 - val_fp: 692.0000 - val_tn: 2638084.0000 - val_fn: 699.0000 - val_accuracy: 0.9995 - val_precision: 0.9963 - val_recall: 0.9963 - val_auc: 0.9998\n",
            "Epoch 14/50\n",
            "4466/4466 - 49s - loss: 0.0096 - tp: 889708.0000 - fp: 3241.0000 - tn: 12499529.0000 - fn: 3347.0000 - accuracy: 0.9995 - precision: 0.9964 - recall: 0.9963 - auc: 1.0000 - val_loss: 0.0183 - val_tp: 187735.0000 - val_fp: 746.0000 - val_tn: 2638030.0000 - val_fn: 749.0000 - val_accuracy: 0.9995 - val_precision: 0.9960 - val_recall: 0.9960 - val_auc: 0.9996\n",
            "Epoch 15/50\n",
            "4466/4466 - 49s - loss: 0.0098 - tp: 889573.0000 - fp: 3374.0000 - tn: 12499396.0000 - fn: 3482.0000 - accuracy: 0.9995 - precision: 0.9962 - recall: 0.9961 - auc: 1.0000 - val_loss: 0.0177 - val_tp: 187684.0000 - val_fp: 786.0000 - val_tn: 2637990.0000 - val_fn: 800.0000 - val_accuracy: 0.9994 - val_precision: 0.9958 - val_recall: 0.9958 - val_auc: 0.9997\n",
            "Epoch 16/50\n",
            "4466/4466 - 49s - loss: 0.0085 - tp: 890020.0000 - fp: 2946.0000 - tn: 12499824.0000 - fn: 3035.0000 - accuracy: 0.9996 - precision: 0.9967 - recall: 0.9966 - auc: 1.0000 - val_loss: 0.0158 - val_tp: 187793.0000 - val_fp: 687.0000 - val_tn: 2638089.0000 - val_fn: 691.0000 - val_accuracy: 0.9995 - val_precision: 0.9964 - val_recall: 0.9963 - val_auc: 0.9997\n",
            "Epoch 17/50\n",
            "4466/4466 - 49s - loss: 0.0081 - tp: 890145.0000 - fp: 2823.0000 - tn: 12499947.0000 - fn: 2910.0000 - accuracy: 0.9996 - precision: 0.9968 - recall: 0.9967 - auc: 1.0000 - val_loss: 0.0173 - val_tp: 187767.0000 - val_fp: 710.0000 - val_tn: 2638066.0000 - val_fn: 717.0000 - val_accuracy: 0.9995 - val_precision: 0.9962 - val_recall: 0.9962 - val_auc: 0.9997\n",
            "Epoch 18/50\n",
            "4466/4466 - 49s - loss: 0.0081 - tp: 890226.0000 - fp: 2751.0000 - tn: 12500019.0000 - fn: 2829.0000 - accuracy: 0.9996 - precision: 0.9969 - recall: 0.9968 - auc: 1.0000 - val_loss: 0.0168 - val_tp: 187768.0000 - val_fp: 712.0000 - val_tn: 2638064.0000 - val_fn: 716.0000 - val_accuracy: 0.9995 - val_precision: 0.9962 - val_recall: 0.9962 - val_auc: 0.9997\n",
            "Epoch 19/50\n"
          ],
          "name": "stdout"
        },
        {
          "output_type": "error",
          "ename": "KeyboardInterrupt",
          "evalue": "ignored",
          "traceback": [
            "\u001b[0;31m---------------------------------------------------------------------------\u001b[0m",
            "\u001b[0;31mKeyboardInterrupt\u001b[0m                         Traceback (most recent call last)",
            "\u001b[0;32m<ipython-input-27-ea3797032214>\u001b[0m in \u001b[0;36m<module>\u001b[0;34m()\u001b[0m\n\u001b[1;32m     25\u001b[0m                     \u001b[0mverbose\u001b[0m\u001b[0;34m=\u001b[0m\u001b[0;36m2\u001b[0m\u001b[0;34m,\u001b[0m\u001b[0;34m\u001b[0m\u001b[0;34m\u001b[0m\u001b[0m\n\u001b[1;32m     26\u001b[0m                     \u001b[0mvalidation_data\u001b[0m\u001b[0;34m=\u001b[0m\u001b[0;34m(\u001b[0m\u001b[0mX_val_r\u001b[0m\u001b[0;34m,\u001b[0m \u001b[0my_val_cat\u001b[0m\u001b[0;34m)\u001b[0m\u001b[0;34m,\u001b[0m\u001b[0;34m\u001b[0m\u001b[0;34m\u001b[0m\u001b[0m\n\u001b[0;32m---> 27\u001b[0;31m                     callbacks=[reduce_lr])\n\u001b[0m\u001b[1;32m     28\u001b[0m \u001b[0mtime_end\u001b[0m \u001b[0;34m=\u001b[0m \u001b[0mtime\u001b[0m\u001b[0;34m.\u001b[0m\u001b[0mtime\u001b[0m\u001b[0;34m(\u001b[0m\u001b[0;34m)\u001b[0m\u001b[0;34m\u001b[0m\u001b[0;34m\u001b[0m\u001b[0m\n\u001b[1;32m     29\u001b[0m \u001b[0mtrain_time\u001b[0m \u001b[0;34m=\u001b[0m \u001b[0mtime_end\u001b[0m \u001b[0;34m-\u001b[0m \u001b[0mtime_start\u001b[0m\u001b[0;34m\u001b[0m\u001b[0;34m\u001b[0m\u001b[0m\n",
            "\u001b[0;32m/usr/local/lib/python3.7/dist-packages/tensorflow/python/keras/engine/training.py\u001b[0m in \u001b[0;36mfit\u001b[0;34m(self, x, y, batch_size, epochs, verbose, callbacks, validation_split, validation_data, shuffle, class_weight, sample_weight, initial_epoch, steps_per_epoch, validation_steps, validation_batch_size, validation_freq, max_queue_size, workers, use_multiprocessing)\u001b[0m\n\u001b[1;32m   1098\u001b[0m                 _r=1):\n\u001b[1;32m   1099\u001b[0m               \u001b[0mcallbacks\u001b[0m\u001b[0;34m.\u001b[0m\u001b[0mon_train_batch_begin\u001b[0m\u001b[0;34m(\u001b[0m\u001b[0mstep\u001b[0m\u001b[0;34m)\u001b[0m\u001b[0;34m\u001b[0m\u001b[0;34m\u001b[0m\u001b[0m\n\u001b[0;32m-> 1100\u001b[0;31m               \u001b[0mtmp_logs\u001b[0m \u001b[0;34m=\u001b[0m \u001b[0mself\u001b[0m\u001b[0;34m.\u001b[0m\u001b[0mtrain_function\u001b[0m\u001b[0;34m(\u001b[0m\u001b[0miterator\u001b[0m\u001b[0;34m)\u001b[0m\u001b[0;34m\u001b[0m\u001b[0;34m\u001b[0m\u001b[0m\n\u001b[0m\u001b[1;32m   1101\u001b[0m               \u001b[0;32mif\u001b[0m \u001b[0mdata_handler\u001b[0m\u001b[0;34m.\u001b[0m\u001b[0mshould_sync\u001b[0m\u001b[0;34m:\u001b[0m\u001b[0;34m\u001b[0m\u001b[0;34m\u001b[0m\u001b[0m\n\u001b[1;32m   1102\u001b[0m                 \u001b[0mcontext\u001b[0m\u001b[0;34m.\u001b[0m\u001b[0masync_wait\u001b[0m\u001b[0;34m(\u001b[0m\u001b[0;34m)\u001b[0m\u001b[0;34m\u001b[0m\u001b[0;34m\u001b[0m\u001b[0m\n",
            "\u001b[0;32m/usr/local/lib/python3.7/dist-packages/tensorflow/python/eager/def_function.py\u001b[0m in \u001b[0;36m__call__\u001b[0;34m(self, *args, **kwds)\u001b[0m\n\u001b[1;32m    826\u001b[0m     \u001b[0mtracing_count\u001b[0m \u001b[0;34m=\u001b[0m \u001b[0mself\u001b[0m\u001b[0;34m.\u001b[0m\u001b[0mexperimental_get_tracing_count\u001b[0m\u001b[0;34m(\u001b[0m\u001b[0;34m)\u001b[0m\u001b[0;34m\u001b[0m\u001b[0;34m\u001b[0m\u001b[0m\n\u001b[1;32m    827\u001b[0m     \u001b[0;32mwith\u001b[0m \u001b[0mtrace\u001b[0m\u001b[0;34m.\u001b[0m\u001b[0mTrace\u001b[0m\u001b[0;34m(\u001b[0m\u001b[0mself\u001b[0m\u001b[0;34m.\u001b[0m\u001b[0m_name\u001b[0m\u001b[0;34m)\u001b[0m \u001b[0;32mas\u001b[0m \u001b[0mtm\u001b[0m\u001b[0;34m:\u001b[0m\u001b[0;34m\u001b[0m\u001b[0;34m\u001b[0m\u001b[0m\n\u001b[0;32m--> 828\u001b[0;31m       \u001b[0mresult\u001b[0m \u001b[0;34m=\u001b[0m \u001b[0mself\u001b[0m\u001b[0;34m.\u001b[0m\u001b[0m_call\u001b[0m\u001b[0;34m(\u001b[0m\u001b[0;34m*\u001b[0m\u001b[0margs\u001b[0m\u001b[0;34m,\u001b[0m \u001b[0;34m**\u001b[0m\u001b[0mkwds\u001b[0m\u001b[0;34m)\u001b[0m\u001b[0;34m\u001b[0m\u001b[0;34m\u001b[0m\u001b[0m\n\u001b[0m\u001b[1;32m    829\u001b[0m       \u001b[0mcompiler\u001b[0m \u001b[0;34m=\u001b[0m \u001b[0;34m\"xla\"\u001b[0m \u001b[0;32mif\u001b[0m \u001b[0mself\u001b[0m\u001b[0;34m.\u001b[0m\u001b[0m_experimental_compile\u001b[0m \u001b[0;32melse\u001b[0m \u001b[0;34m\"nonXla\"\u001b[0m\u001b[0;34m\u001b[0m\u001b[0;34m\u001b[0m\u001b[0m\n\u001b[1;32m    830\u001b[0m       \u001b[0mnew_tracing_count\u001b[0m \u001b[0;34m=\u001b[0m \u001b[0mself\u001b[0m\u001b[0;34m.\u001b[0m\u001b[0mexperimental_get_tracing_count\u001b[0m\u001b[0;34m(\u001b[0m\u001b[0;34m)\u001b[0m\u001b[0;34m\u001b[0m\u001b[0;34m\u001b[0m\u001b[0m\n",
            "\u001b[0;32m/usr/local/lib/python3.7/dist-packages/tensorflow/python/eager/def_function.py\u001b[0m in \u001b[0;36m_call\u001b[0;34m(self, *args, **kwds)\u001b[0m\n\u001b[1;32m    853\u001b[0m       \u001b[0;31m# In this case we have created variables on the first call, so we run the\u001b[0m\u001b[0;34m\u001b[0m\u001b[0;34m\u001b[0m\u001b[0;34m\u001b[0m\u001b[0m\n\u001b[1;32m    854\u001b[0m       \u001b[0;31m# defunned version which is guaranteed to never create variables.\u001b[0m\u001b[0;34m\u001b[0m\u001b[0;34m\u001b[0m\u001b[0;34m\u001b[0m\u001b[0m\n\u001b[0;32m--> 855\u001b[0;31m       \u001b[0;32mreturn\u001b[0m \u001b[0mself\u001b[0m\u001b[0;34m.\u001b[0m\u001b[0m_stateless_fn\u001b[0m\u001b[0;34m(\u001b[0m\u001b[0;34m*\u001b[0m\u001b[0margs\u001b[0m\u001b[0;34m,\u001b[0m \u001b[0;34m**\u001b[0m\u001b[0mkwds\u001b[0m\u001b[0;34m)\u001b[0m  \u001b[0;31m# pylint: disable=not-callable\u001b[0m\u001b[0;34m\u001b[0m\u001b[0;34m\u001b[0m\u001b[0m\n\u001b[0m\u001b[1;32m    856\u001b[0m     \u001b[0;32melif\u001b[0m \u001b[0mself\u001b[0m\u001b[0;34m.\u001b[0m\u001b[0m_stateful_fn\u001b[0m \u001b[0;32mis\u001b[0m \u001b[0;32mnot\u001b[0m \u001b[0;32mNone\u001b[0m\u001b[0;34m:\u001b[0m\u001b[0;34m\u001b[0m\u001b[0;34m\u001b[0m\u001b[0m\n\u001b[1;32m    857\u001b[0m       \u001b[0;31m# Release the lock early so that multiple threads can perform the call\u001b[0m\u001b[0;34m\u001b[0m\u001b[0;34m\u001b[0m\u001b[0;34m\u001b[0m\u001b[0m\n",
            "\u001b[0;32m/usr/local/lib/python3.7/dist-packages/tensorflow/python/eager/function.py\u001b[0m in \u001b[0;36m__call__\u001b[0;34m(self, *args, **kwargs)\u001b[0m\n\u001b[1;32m   2941\u001b[0m        filtered_flat_args) = self._maybe_define_function(args, kwargs)\n\u001b[1;32m   2942\u001b[0m     return graph_function._call_flat(\n\u001b[0;32m-> 2943\u001b[0;31m         filtered_flat_args, captured_inputs=graph_function.captured_inputs)  # pylint: disable=protected-access\n\u001b[0m\u001b[1;32m   2944\u001b[0m \u001b[0;34m\u001b[0m\u001b[0m\n\u001b[1;32m   2945\u001b[0m   \u001b[0;34m@\u001b[0m\u001b[0mproperty\u001b[0m\u001b[0;34m\u001b[0m\u001b[0;34m\u001b[0m\u001b[0m\n",
            "\u001b[0;32m/usr/local/lib/python3.7/dist-packages/tensorflow/python/eager/function.py\u001b[0m in \u001b[0;36m_call_flat\u001b[0;34m(self, args, captured_inputs, cancellation_manager)\u001b[0m\n\u001b[1;32m   1917\u001b[0m       \u001b[0;31m# No tape is watching; skip to running the function.\u001b[0m\u001b[0;34m\u001b[0m\u001b[0;34m\u001b[0m\u001b[0;34m\u001b[0m\u001b[0m\n\u001b[1;32m   1918\u001b[0m       return self._build_call_outputs(self._inference_function.call(\n\u001b[0;32m-> 1919\u001b[0;31m           ctx, args, cancellation_manager=cancellation_manager))\n\u001b[0m\u001b[1;32m   1920\u001b[0m     forward_backward = self._select_forward_and_backward_functions(\n\u001b[1;32m   1921\u001b[0m         \u001b[0margs\u001b[0m\u001b[0;34m,\u001b[0m\u001b[0;34m\u001b[0m\u001b[0;34m\u001b[0m\u001b[0m\n",
            "\u001b[0;32m/usr/local/lib/python3.7/dist-packages/tensorflow/python/eager/function.py\u001b[0m in \u001b[0;36mcall\u001b[0;34m(self, ctx, args, cancellation_manager)\u001b[0m\n\u001b[1;32m    558\u001b[0m               \u001b[0minputs\u001b[0m\u001b[0;34m=\u001b[0m\u001b[0margs\u001b[0m\u001b[0;34m,\u001b[0m\u001b[0;34m\u001b[0m\u001b[0;34m\u001b[0m\u001b[0m\n\u001b[1;32m    559\u001b[0m               \u001b[0mattrs\u001b[0m\u001b[0;34m=\u001b[0m\u001b[0mattrs\u001b[0m\u001b[0;34m,\u001b[0m\u001b[0;34m\u001b[0m\u001b[0;34m\u001b[0m\u001b[0m\n\u001b[0;32m--> 560\u001b[0;31m               ctx=ctx)\n\u001b[0m\u001b[1;32m    561\u001b[0m         \u001b[0;32melse\u001b[0m\u001b[0;34m:\u001b[0m\u001b[0;34m\u001b[0m\u001b[0;34m\u001b[0m\u001b[0m\n\u001b[1;32m    562\u001b[0m           outputs = execute.execute_with_cancellation(\n",
            "\u001b[0;32m/usr/local/lib/python3.7/dist-packages/tensorflow/python/eager/execute.py\u001b[0m in \u001b[0;36mquick_execute\u001b[0;34m(op_name, num_outputs, inputs, attrs, ctx, name)\u001b[0m\n\u001b[1;32m     58\u001b[0m     \u001b[0mctx\u001b[0m\u001b[0;34m.\u001b[0m\u001b[0mensure_initialized\u001b[0m\u001b[0;34m(\u001b[0m\u001b[0;34m)\u001b[0m\u001b[0;34m\u001b[0m\u001b[0;34m\u001b[0m\u001b[0m\n\u001b[1;32m     59\u001b[0m     tensors = pywrap_tfe.TFE_Py_Execute(ctx._handle, device_name, op_name,\n\u001b[0;32m---> 60\u001b[0;31m                                         inputs, attrs, num_outputs)\n\u001b[0m\u001b[1;32m     61\u001b[0m   \u001b[0;32mexcept\u001b[0m \u001b[0mcore\u001b[0m\u001b[0;34m.\u001b[0m\u001b[0m_NotOkStatusException\u001b[0m \u001b[0;32mas\u001b[0m \u001b[0me\u001b[0m\u001b[0;34m:\u001b[0m\u001b[0;34m\u001b[0m\u001b[0;34m\u001b[0m\u001b[0m\n\u001b[1;32m     62\u001b[0m     \u001b[0;32mif\u001b[0m \u001b[0mname\u001b[0m \u001b[0;32mis\u001b[0m \u001b[0;32mnot\u001b[0m \u001b[0;32mNone\u001b[0m\u001b[0;34m:\u001b[0m\u001b[0;34m\u001b[0m\u001b[0;34m\u001b[0m\u001b[0m\n",
            "\u001b[0;31mKeyboardInterrupt\u001b[0m: "
          ]
        }
      ]
    },
    {
      "cell_type": "markdown",
      "metadata": {
        "id": "uT635dAfpOVN"
      },
      "source": [
        "## Get the metrics"
      ]
    },
    {
      "cell_type": "code",
      "metadata": {
        "colab": {
          "base_uri": "https://localhost:8080/"
        },
        "id": "VSo0TpT5Z04X",
        "outputId": "819f8342-e0e3-42e7-c69c-4ecca4b8eef3"
      },
      "source": [
        "# evaluate model\n",
        "accuracy = cnn1d_model.evaluate(X_test_r, y_test_cat, batch_size=batch_size, verbose=1)"
      ],
      "execution_count": null,
      "outputs": [
        {
          "output_type": "stream",
          "text": [
            "943/943 [==============================] - 7s 7ms/step - loss: 0.0163 - tp: 187787.0000 - fp: 688.0000 - tn: 2638074.0000 - fn: 696.0000 - accuracy: 0.9995 - precision: 0.9963 - recall: 0.9963 - auc: 0.9997\n"
          ],
          "name": "stdout"
        }
      ]
    },
    {
      "cell_type": "code",
      "metadata": {
        "id": "kqGNmOrhH1CL"
      },
      "source": [
        "y_pred=cnn1d_model.predict(X_test_r)"
      ],
      "execution_count": null,
      "outputs": []
    },
    {
      "cell_type": "code",
      "metadata": {
        "colab": {
          "base_uri": "https://localhost:8080/"
        },
        "id": "ltyd2KVLIBCK",
        "outputId": "8ae1409f-ed54-4765-828a-45e7c1ffc59b"
      },
      "source": [
        "display_metrics(y_test, np.argmax(y_pred, axis = 1), labels_d)"
      ],
      "execution_count": null,
      "outputs": [
        {
          "output_type": "stream",
          "text": [
            "\n",
            "Accuracy: 1.00\n",
            "\n",
            "Micro Precision: 1.00\n",
            "Micro Recall: 1.00\n",
            "Micro F1-score: 1.00\n",
            "\n",
            "Macro Precision: 0.91\n",
            "Macro Recall: 0.97\n",
            "Macro F1-score: 0.93\n",
            "\n",
            "Weighted Precision: 1.00\n",
            "Weighted Recall: 1.00\n",
            "Weighted F1-score: 1.00\n",
            "\n",
            "Classification Report\n",
            "\n",
            "                            precision    recall  f1-score   support\n",
            "\n",
            "                    BENIGN       1.00      1.00      1.00    105019\n",
            "                       Bot       0.97      0.95      0.96       280\n",
            "                      DDoS       1.00      1.00      1.00     19271\n",
            "             DoS GoldenEye       1.00      1.00      1.00      1542\n",
            "                  DoS Hulk       1.00      1.00      1.00     34547\n",
            "          DoS Slowhttptest       1.00      1.00      1.00       828\n",
            "             DoS slowloris       1.00      1.00      1.00       834\n",
            "               FTP-Patator       1.00      1.00      1.00      1178\n",
            "                Heartbleed       1.00      1.00      1.00         2\n",
            "              Infiltration       0.33      1.00      0.50         1\n",
            "                  PortScan       0.99      0.98      0.99     23846\n",
            "               SSH-Patator       1.00      1.00      1.00       826\n",
            "  Web Attack � Brute Force       0.94      0.85      0.89       209\n",
            "Web Attack � Sql Injection       0.75      0.86      0.80         7\n",
            "          Web Attack � XSS       0.71      0.91      0.80        93\n",
            "\n",
            "                  accuracy                           1.00    188483\n",
            "                 macro avg       0.91      0.97      0.93    188483\n",
            "              weighted avg       1.00      1.00      1.00    188483\n",
            "\n"
          ],
          "name": "stdout"
        }
      ]
    },
    {
      "cell_type": "markdown",
      "metadata": {
        "id": "kbhp6oW_Z04X"
      },
      "source": [
        "### Save the model"
      ]
    },
    {
      "cell_type": "code",
      "metadata": {
        "id": "IR1_KnhMxz6h"
      },
      "source": [
        "cnn1d_model.save('cnn1d_78_http_smote5000.h5')"
      ],
      "execution_count": null,
      "outputs": []
    },
    {
      "cell_type": "code",
      "metadata": {
        "id": "Vi5X5-4LtD0z"
      },
      "source": [
        "cnn1d_model.save('/content/drive/My Drive/CICIDS2017/cnn1d_78_http_smote5000.h5')"
      ],
      "execution_count": null,
      "outputs": []
    },
    {
      "cell_type": "markdown",
      "metadata": {
        "id": "dgIBHmav2XWo"
      },
      "source": [
        "## Train the model using smote 3000"
      ]
    },
    {
      "cell_type": "code",
      "metadata": {
        "colab": {
          "base_uri": "https://localhost:8080/"
        },
        "id": "7I0UL14K2N-_",
        "outputId": "3978272d-a5e3-4dae-b090-2e1fc223af8e"
      },
      "source": [
        "X_train_r = np.zeros((len(X_train_3000), input_dim, 1))\r\n",
        "X_train_r[:, :, 0] = X_train_3000[:, :input_dim]\r\n",
        "print(X_train_r.shape)"
      ],
      "execution_count": null,
      "outputs": [
        {
          "output_type": "stream",
          "text": [
            "(887055, 79, 1)\n"
          ],
          "name": "stdout"
        }
      ]
    },
    {
      "cell_type": "code",
      "metadata": {
        "id": "NMB0bL5yIwLg"
      },
      "source": [
        "y_train_cat = to_categorical(y_train_3000, 15)"
      ],
      "execution_count": null,
      "outputs": []
    },
    {
      "cell_type": "code",
      "metadata": {
        "id": "JW8iCZRW2gxC"
      },
      "source": [
        "cnn1d_file_name = \"/content/drive/My Drive/CICIDS2017/cnn1d_78_http_smote5000.h5\"\r\n",
        "cnn1d_model = tf.keras.models.load_model(cnn1d_file_name)"
      ],
      "execution_count": null,
      "outputs": []
    },
    {
      "cell_type": "code",
      "metadata": {
        "colab": {
          "base_uri": "https://localhost:8080/"
        },
        "id": "uJwVlukK2kxB",
        "outputId": "d9592fdd-d3fa-4cd2-b598-d33ca3af55aa"
      },
      "source": [
        "history = cnn1d_model.fit(X_train_r, y_train_cat, \r\n",
        "                    epochs=50, \r\n",
        "                    batch_size=batch_size, \r\n",
        "                    verbose=2,\r\n",
        "                    validation_data=(X_val_r, y_val_cat),\r\n",
        "                    callbacks=[reduce_lr])"
      ],
      "execution_count": null,
      "outputs": [
        {
          "output_type": "stream",
          "text": [
            "Epoch 1/50\n",
            "8871/8871 - 95s - loss: 0.0101 - tp: 883650.0000 - fp: 3288.0000 - tn: 12415482.0000 - fn: 3405.0000 - accuracy: 0.9995 - precision: 0.9963 - recall: 0.9962 - auc: 0.9999 - val_loss: 0.0104 - val_tp: 188005.0000 - val_fp: 476.0000 - val_tn: 2638300.0000 - val_fn: 479.0000 - val_accuracy: 0.9997 - val_precision: 0.9975 - val_recall: 0.9975 - val_auc: 0.9999\n",
            "Epoch 2/50\n",
            "8871/8871 - 93s - loss: 0.0102 - tp: 883615.0000 - fp: 3316.0000 - tn: 12415454.0000 - fn: 3440.0000 - accuracy: 0.9995 - precision: 0.9963 - recall: 0.9961 - auc: 0.9999 - val_loss: 0.0133 - val_tp: 187896.0000 - val_fp: 583.0000 - val_tn: 2638193.0000 - val_fn: 588.0000 - val_accuracy: 0.9996 - val_precision: 0.9969 - val_recall: 0.9969 - val_auc: 0.9999\n",
            "Epoch 3/50\n",
            "8871/8871 - 94s - loss: 0.0105 - tp: 883519.0000 - fp: 3387.0000 - tn: 12415383.0000 - fn: 3536.0000 - accuracy: 0.9995 - precision: 0.9962 - recall: 0.9960 - auc: 0.9999 - val_loss: 0.0105 - val_tp: 187972.0000 - val_fp: 506.0000 - val_tn: 2638270.0000 - val_fn: 512.0000 - val_accuracy: 0.9996 - val_precision: 0.9973 - val_recall: 0.9973 - val_auc: 0.9999\n",
            "Epoch 4/50\n",
            "8871/8871 - 95s - loss: 0.0104 - tp: 883714.0000 - fp: 3202.0000 - tn: 12415568.0000 - fn: 3341.0000 - accuracy: 0.9995 - precision: 0.9964 - recall: 0.9962 - auc: 0.9999 - val_loss: 0.0104 - val_tp: 187989.0000 - val_fp: 490.0000 - val_tn: 2638286.0000 - val_fn: 495.0000 - val_accuracy: 0.9996 - val_precision: 0.9974 - val_recall: 0.9974 - val_auc: 0.9999\n",
            "Epoch 5/50\n",
            "8871/8871 - 94s - loss: 0.0102 - tp: 883573.0000 - fp: 3374.0000 - tn: 12415396.0000 - fn: 3482.0000 - accuracy: 0.9995 - precision: 0.9962 - recall: 0.9961 - auc: 0.9999 - val_loss: 0.0109 - val_tp: 187896.0000 - val_fp: 580.0000 - val_tn: 2638196.0000 - val_fn: 588.0000 - val_accuracy: 0.9996 - val_precision: 0.9969 - val_recall: 0.9969 - val_auc: 0.9999\n",
            "Epoch 6/50\n",
            "8871/8871 - 95s - loss: 0.0104 - tp: 883615.0000 - fp: 3291.0000 - tn: 12415479.0000 - fn: 3440.0000 - accuracy: 0.9995 - precision: 0.9963 - recall: 0.9961 - auc: 0.9999 - val_loss: 0.0114 - val_tp: 188001.0000 - val_fp: 469.0000 - val_tn: 2638307.0000 - val_fn: 483.0000 - val_accuracy: 0.9997 - val_precision: 0.9975 - val_recall: 0.9974 - val_auc: 0.9999\n",
            "Epoch 7/50\n",
            "8871/8871 - 96s - loss: 0.0104 - tp: 883603.0000 - fp: 3334.0000 - tn: 12415436.0000 - fn: 3452.0000 - accuracy: 0.9995 - precision: 0.9962 - recall: 0.9961 - auc: 0.9999 - val_loss: 0.0115 - val_tp: 188017.0000 - val_fp: 458.0000 - val_tn: 2638318.0000 - val_fn: 467.0000 - val_accuracy: 0.9997 - val_precision: 0.9976 - val_recall: 0.9975 - val_auc: 0.9999\n",
            "Epoch 8/50\n",
            "8871/8871 - 93s - loss: 0.0101 - tp: 883608.0000 - fp: 3305.0000 - tn: 12415465.0000 - fn: 3447.0000 - accuracy: 0.9995 - precision: 0.9963 - recall: 0.9961 - auc: 0.9999 - val_loss: 0.0116 - val_tp: 187979.0000 - val_fp: 498.0000 - val_tn: 2638278.0000 - val_fn: 505.0000 - val_accuracy: 0.9996 - val_precision: 0.9974 - val_recall: 0.9973 - val_auc: 0.9999\n",
            "Epoch 9/50\n",
            "8871/8871 - 95s - loss: 0.0102 - tp: 883640.0000 - fp: 3268.0000 - tn: 12415502.0000 - fn: 3415.0000 - accuracy: 0.9995 - precision: 0.9963 - recall: 0.9962 - auc: 0.9999 - val_loss: 0.0131 - val_tp: 187857.0000 - val_fp: 616.0000 - val_tn: 2638160.0000 - val_fn: 627.0000 - val_accuracy: 0.9996 - val_precision: 0.9967 - val_recall: 0.9967 - val_auc: 0.9999\n",
            "Epoch 10/50\n",
            "8871/8871 - 93s - loss: 0.0102 - tp: 883582.0000 - fp: 3330.0000 - tn: 12415440.0000 - fn: 3473.0000 - accuracy: 0.9995 - precision: 0.9962 - recall: 0.9961 - auc: 0.9999 - val_loss: 0.0127 - val_tp: 187980.0000 - val_fp: 498.0000 - val_tn: 2638278.0000 - val_fn: 504.0000 - val_accuracy: 0.9996 - val_precision: 0.9974 - val_recall: 0.9973 - val_auc: 0.9999\n",
            "Epoch 11/50\n",
            "8871/8871 - 93s - loss: 0.0102 - tp: 883586.0000 - fp: 3308.0000 - tn: 12415462.0000 - fn: 3469.0000 - accuracy: 0.9995 - precision: 0.9963 - recall: 0.9961 - auc: 0.9999 - val_loss: 0.0121 - val_tp: 187912.0000 - val_fp: 567.0000 - val_tn: 2638209.0000 - val_fn: 572.0000 - val_accuracy: 0.9996 - val_precision: 0.9970 - val_recall: 0.9970 - val_auc: 0.9999\n",
            "Epoch 12/50\n",
            "8871/8871 - 94s - loss: 0.0085 - tp: 884115.0000 - fp: 2816.0000 - tn: 12415954.0000 - fn: 2940.0000 - accuracy: 0.9996 - precision: 0.9968 - recall: 0.9967 - auc: 1.0000 - val_loss: 0.0118 - val_tp: 188003.0000 - val_fp: 478.0000 - val_tn: 2638298.0000 - val_fn: 481.0000 - val_accuracy: 0.9997 - val_precision: 0.9975 - val_recall: 0.9974 - val_auc: 0.9999\n",
            "Epoch 13/50\n",
            "8871/8871 - 94s - loss: 0.0082 - tp: 884238.0000 - fp: 2708.0000 - tn: 12416062.0000 - fn: 2817.0000 - accuracy: 0.9996 - precision: 0.9969 - recall: 0.9968 - auc: 1.0000 - val_loss: 0.0113 - val_tp: 188026.0000 - val_fp: 448.0000 - val_tn: 2638328.0000 - val_fn: 458.0000 - val_accuracy: 0.9997 - val_precision: 0.9976 - val_recall: 0.9976 - val_auc: 1.0000\n",
            "Epoch 14/50\n",
            "8871/8871 - 94s - loss: 0.0080 - tp: 884329.0000 - fp: 2608.0000 - tn: 12416162.0000 - fn: 2726.0000 - accuracy: 0.9996 - precision: 0.9971 - recall: 0.9969 - auc: 1.0000 - val_loss: 0.0116 - val_tp: 187996.0000 - val_fp: 485.0000 - val_tn: 2638291.0000 - val_fn: 488.0000 - val_accuracy: 0.9997 - val_precision: 0.9974 - val_recall: 0.9974 - val_auc: 0.9999\n",
            "Epoch 15/50\n",
            "8871/8871 - 93s - loss: 0.0078 - tp: 884363.0000 - fp: 2604.0000 - tn: 12416166.0000 - fn: 2692.0000 - accuracy: 0.9996 - precision: 0.9971 - recall: 0.9970 - auc: 1.0000 - val_loss: 0.0124 - val_tp: 188008.0000 - val_fp: 471.0000 - val_tn: 2638305.0000 - val_fn: 476.0000 - val_accuracy: 0.9997 - val_precision: 0.9975 - val_recall: 0.9975 - val_auc: 0.9999\n",
            "Epoch 16/50\n",
            "8871/8871 - 95s - loss: 0.0080 - tp: 884364.0000 - fp: 2612.0000 - tn: 12416158.0000 - fn: 2691.0000 - accuracy: 0.9996 - precision: 0.9971 - recall: 0.9970 - auc: 1.0000 - val_loss: 0.0119 - val_tp: 188002.0000 - val_fp: 478.0000 - val_tn: 2638298.0000 - val_fn: 482.0000 - val_accuracy: 0.9997 - val_precision: 0.9975 - val_recall: 0.9974 - val_auc: 1.0000\n",
            "Epoch 17/50\n",
            "8871/8871 - 93s - loss: 0.0078 - tp: 884381.0000 - fp: 2576.0000 - tn: 12416194.0000 - fn: 2674.0000 - accuracy: 0.9996 - precision: 0.9971 - recall: 0.9970 - auc: 1.0000 - val_loss: 0.0122 - val_tp: 187974.0000 - val_fp: 508.0000 - val_tn: 2638268.0000 - val_fn: 510.0000 - val_accuracy: 0.9996 - val_precision: 0.9973 - val_recall: 0.9973 - val_auc: 0.9999\n",
            "Epoch 18/50\n",
            "8871/8871 - 94s - loss: 0.0076 - tp: 884390.0000 - fp: 2583.0000 - tn: 12416187.0000 - fn: 2665.0000 - accuracy: 0.9996 - precision: 0.9971 - recall: 0.9970 - auc: 1.0000 - val_loss: 0.0125 - val_tp: 187991.0000 - val_fp: 489.0000 - val_tn: 2638287.0000 - val_fn: 493.0000 - val_accuracy: 0.9996 - val_precision: 0.9974 - val_recall: 0.9974 - val_auc: 1.0000\n",
            "Epoch 19/50\n",
            "8871/8871 - 95s - loss: 0.0076 - tp: 884421.0000 - fp: 2535.0000 - tn: 12416235.0000 - fn: 2634.0000 - accuracy: 0.9996 - precision: 0.9971 - recall: 0.9970 - auc: 1.0000 - val_loss: 0.0124 - val_tp: 187973.0000 - val_fp: 508.0000 - val_tn: 2638268.0000 - val_fn: 511.0000 - val_accuracy: 0.9996 - val_precision: 0.9973 - val_recall: 0.9973 - val_auc: 0.9999\n",
            "Epoch 20/50\n",
            "8871/8871 - 96s - loss: 0.0076 - tp: 884369.0000 - fp: 2593.0000 - tn: 12416177.0000 - fn: 2686.0000 - accuracy: 0.9996 - precision: 0.9971 - recall: 0.9970 - auc: 1.0000 - val_loss: 0.0125 - val_tp: 187981.0000 - val_fp: 499.0000 - val_tn: 2638277.0000 - val_fn: 503.0000 - val_accuracy: 0.9996 - val_precision: 0.9974 - val_recall: 0.9973 - val_auc: 0.9999\n",
            "Epoch 21/50\n",
            "8871/8871 - 94s - loss: 0.0075 - tp: 884396.0000 - fp: 2562.0000 - tn: 12416208.0000 - fn: 2659.0000 - accuracy: 0.9996 - precision: 0.9971 - recall: 0.9970 - auc: 1.0000 - val_loss: 0.0115 - val_tp: 187987.0000 - val_fp: 489.0000 - val_tn: 2638287.0000 - val_fn: 497.0000 - val_accuracy: 0.9996 - val_precision: 0.9974 - val_recall: 0.9974 - val_auc: 1.0000\n",
            "Epoch 22/50\n",
            "8871/8871 - 95s - loss: 0.0074 - tp: 884446.0000 - fp: 2497.0000 - tn: 12416273.0000 - fn: 2609.0000 - accuracy: 0.9996 - precision: 0.9972 - recall: 0.9971 - auc: 1.0000 - val_loss: 0.0118 - val_tp: 188009.0000 - val_fp: 472.0000 - val_tn: 2638304.0000 - val_fn: 475.0000 - val_accuracy: 0.9997 - val_precision: 0.9975 - val_recall: 0.9975 - val_auc: 1.0000\n",
            "Epoch 23/50\n",
            "8871/8871 - 95s - loss: 0.0074 - tp: 884511.0000 - fp: 2456.0000 - tn: 12416314.0000 - fn: 2544.0000 - accuracy: 0.9996 - precision: 0.9972 - recall: 0.9971 - auc: 1.0000 - val_loss: 0.0118 - val_tp: 188015.0000 - val_fp: 466.0000 - val_tn: 2638310.0000 - val_fn: 469.0000 - val_accuracy: 0.9997 - val_precision: 0.9975 - val_recall: 0.9975 - val_auc: 1.0000\n",
            "Epoch 24/50\n",
            "8871/8871 - 96s - loss: 0.0075 - tp: 884514.0000 - fp: 2436.0000 - tn: 12416334.0000 - fn: 2541.0000 - accuracy: 0.9996 - precision: 0.9973 - recall: 0.9971 - auc: 1.0000 - val_loss: 0.0117 - val_tp: 188030.0000 - val_fp: 451.0000 - val_tn: 2638325.0000 - val_fn: 454.0000 - val_accuracy: 0.9997 - val_precision: 0.9976 - val_recall: 0.9976 - val_auc: 1.0000\n",
            "Epoch 25/50\n",
            "8871/8871 - 95s - loss: 0.0072 - tp: 884565.0000 - fp: 2382.0000 - tn: 12416388.0000 - fn: 2490.0000 - accuracy: 0.9996 - precision: 0.9973 - recall: 0.9972 - auc: 1.0000 - val_loss: 0.0118 - val_tp: 188023.0000 - val_fp: 458.0000 - val_tn: 2638318.0000 - val_fn: 461.0000 - val_accuracy: 0.9997 - val_precision: 0.9976 - val_recall: 0.9976 - val_auc: 1.0000\n",
            "Epoch 26/50\n",
            "8871/8871 - 92s - loss: 0.0075 - tp: 884500.0000 - fp: 2467.0000 - tn: 12416303.0000 - fn: 2555.0000 - accuracy: 0.9996 - precision: 0.9972 - recall: 0.9971 - auc: 1.0000 - val_loss: 0.0118 - val_tp: 188026.0000 - val_fp: 452.0000 - val_tn: 2638324.0000 - val_fn: 458.0000 - val_accuracy: 0.9997 - val_precision: 0.9976 - val_recall: 0.9976 - val_auc: 0.9999\n",
            "Epoch 27/50\n",
            "8871/8871 - 94s - loss: 0.0074 - tp: 884482.0000 - fp: 2462.0000 - tn: 12416308.0000 - fn: 2573.0000 - accuracy: 0.9996 - precision: 0.9972 - recall: 0.9971 - auc: 1.0000 - val_loss: 0.0120 - val_tp: 188001.0000 - val_fp: 478.0000 - val_tn: 2638298.0000 - val_fn: 483.0000 - val_accuracy: 0.9997 - val_precision: 0.9975 - val_recall: 0.9974 - val_auc: 1.0000\n",
            "Epoch 28/50\n",
            "8871/8871 - 93s - loss: 0.0075 - tp: 884577.0000 - fp: 2391.0000 - tn: 12416379.0000 - fn: 2478.0000 - accuracy: 0.9996 - precision: 0.9973 - recall: 0.9972 - auc: 1.0000 - val_loss: 0.0117 - val_tp: 188012.0000 - val_fp: 466.0000 - val_tn: 2638310.0000 - val_fn: 472.0000 - val_accuracy: 0.9997 - val_precision: 0.9975 - val_recall: 0.9975 - val_auc: 0.9999\n",
            "Epoch 29/50\n",
            "8871/8871 - 94s - loss: 0.0073 - tp: 884571.0000 - fp: 2396.0000 - tn: 12416374.0000 - fn: 2484.0000 - accuracy: 0.9996 - precision: 0.9973 - recall: 0.9972 - auc: 1.0000 - val_loss: 0.0122 - val_tp: 188020.0000 - val_fp: 462.0000 - val_tn: 2638314.0000 - val_fn: 464.0000 - val_accuracy: 0.9997 - val_precision: 0.9975 - val_recall: 0.9975 - val_auc: 0.9999\n",
            "Epoch 30/50\n",
            "8871/8871 - 93s - loss: 0.0074 - tp: 884466.0000 - fp: 2497.0000 - tn: 12416273.0000 - fn: 2589.0000 - accuracy: 0.9996 - precision: 0.9972 - recall: 0.9971 - auc: 1.0000 - val_loss: 0.0122 - val_tp: 188020.0000 - val_fp: 463.0000 - val_tn: 2638313.0000 - val_fn: 464.0000 - val_accuracy: 0.9997 - val_precision: 0.9975 - val_recall: 0.9975 - val_auc: 0.9999\n",
            "Epoch 31/50\n",
            "8871/8871 - 94s - loss: 0.0072 - tp: 884491.0000 - fp: 2483.0000 - tn: 12416287.0000 - fn: 2564.0000 - accuracy: 0.9996 - precision: 0.9972 - recall: 0.9971 - auc: 1.0000 - val_loss: 0.0118 - val_tp: 188023.0000 - val_fp: 459.0000 - val_tn: 2638317.0000 - val_fn: 461.0000 - val_accuracy: 0.9997 - val_precision: 0.9976 - val_recall: 0.9976 - val_auc: 1.0000\n",
            "Epoch 32/50\n",
            "8871/8871 - 93s - loss: 0.0074 - tp: 884569.0000 - fp: 2383.0000 - tn: 12416387.0000 - fn: 2486.0000 - accuracy: 0.9996 - precision: 0.9973 - recall: 0.9972 - auc: 1.0000 - val_loss: 0.0119 - val_tp: 188023.0000 - val_fp: 457.0000 - val_tn: 2638319.0000 - val_fn: 461.0000 - val_accuracy: 0.9997 - val_precision: 0.9976 - val_recall: 0.9976 - val_auc: 1.0000\n",
            "Epoch 33/50\n",
            "8871/8871 - 91s - loss: 0.0072 - tp: 884511.0000 - fp: 2456.0000 - tn: 12416314.0000 - fn: 2544.0000 - accuracy: 0.9996 - precision: 0.9972 - recall: 0.9971 - auc: 1.0000 - val_loss: 0.0119 - val_tp: 188026.0000 - val_fp: 455.0000 - val_tn: 2638321.0000 - val_fn: 458.0000 - val_accuracy: 0.9997 - val_precision: 0.9976 - val_recall: 0.9976 - val_auc: 1.0000\n",
            "Epoch 34/50\n",
            "8871/8871 - 91s - loss: 0.0073 - tp: 884509.0000 - fp: 2437.0000 - tn: 12416333.0000 - fn: 2546.0000 - accuracy: 0.9996 - precision: 0.9973 - recall: 0.9971 - auc: 1.0000 - val_loss: 0.0120 - val_tp: 188029.0000 - val_fp: 453.0000 - val_tn: 2638323.0000 - val_fn: 455.0000 - val_accuracy: 0.9997 - val_precision: 0.9976 - val_recall: 0.9976 - val_auc: 0.9999\n",
            "Epoch 35/50\n",
            "8871/8871 - 91s - loss: 0.0073 - tp: 884545.0000 - fp: 2418.0000 - tn: 12416352.0000 - fn: 2510.0000 - accuracy: 0.9996 - precision: 0.9973 - recall: 0.9972 - auc: 1.0000 - val_loss: 0.0118 - val_tp: 188024.0000 - val_fp: 451.0000 - val_tn: 2638325.0000 - val_fn: 460.0000 - val_accuracy: 0.9997 - val_precision: 0.9976 - val_recall: 0.9976 - val_auc: 1.0000\n",
            "Epoch 36/50\n",
            "8871/8871 - 92s - loss: 0.0072 - tp: 884470.0000 - fp: 2473.0000 - tn: 12416297.0000 - fn: 2585.0000 - accuracy: 0.9996 - precision: 0.9972 - recall: 0.9971 - auc: 1.0000 - val_loss: 0.0119 - val_tp: 188021.0000 - val_fp: 459.0000 - val_tn: 2638317.0000 - val_fn: 463.0000 - val_accuracy: 0.9997 - val_precision: 0.9976 - val_recall: 0.9975 - val_auc: 0.9999\n",
            "Epoch 37/50\n",
            "8871/8871 - 90s - loss: 0.0072 - tp: 884507.0000 - fp: 2447.0000 - tn: 12416323.0000 - fn: 2548.0000 - accuracy: 0.9996 - precision: 0.9972 - recall: 0.9971 - auc: 1.0000 - val_loss: 0.0120 - val_tp: 188020.0000 - val_fp: 461.0000 - val_tn: 2638315.0000 - val_fn: 464.0000 - val_accuracy: 0.9997 - val_precision: 0.9976 - val_recall: 0.9975 - val_auc: 1.0000\n",
            "Epoch 38/50\n",
            "8871/8871 - 91s - loss: 0.0074 - tp: 884501.0000 - fp: 2468.0000 - tn: 12416302.0000 - fn: 2554.0000 - accuracy: 0.9996 - precision: 0.9972 - recall: 0.9971 - auc: 1.0000 - val_loss: 0.0119 - val_tp: 188026.0000 - val_fp: 455.0000 - val_tn: 2638321.0000 - val_fn: 458.0000 - val_accuracy: 0.9997 - val_precision: 0.9976 - val_recall: 0.9976 - val_auc: 1.0000\n",
            "Epoch 39/50\n",
            "8871/8871 - 92s - loss: 0.0073 - tp: 884535.0000 - fp: 2435.0000 - tn: 12416335.0000 - fn: 2520.0000 - accuracy: 0.9996 - precision: 0.9973 - recall: 0.9972 - auc: 1.0000 - val_loss: 0.0120 - val_tp: 188021.0000 - val_fp: 460.0000 - val_tn: 2638316.0000 - val_fn: 463.0000 - val_accuracy: 0.9997 - val_precision: 0.9976 - val_recall: 0.9975 - val_auc: 1.0000\n",
            "Epoch 40/50\n",
            "8871/8871 - 92s - loss: 0.0075 - tp: 884531.0000 - fp: 2422.0000 - tn: 12416348.0000 - fn: 2524.0000 - accuracy: 0.9996 - precision: 0.9973 - recall: 0.9972 - auc: 1.0000 - val_loss: 0.0119 - val_tp: 188022.0000 - val_fp: 458.0000 - val_tn: 2638318.0000 - val_fn: 462.0000 - val_accuracy: 0.9997 - val_precision: 0.9976 - val_recall: 0.9975 - val_auc: 0.9999\n",
            "Epoch 41/50\n",
            "8871/8871 - 93s - loss: 0.0073 - tp: 884503.0000 - fp: 2466.0000 - tn: 12416304.0000 - fn: 2552.0000 - accuracy: 0.9996 - precision: 0.9972 - recall: 0.9971 - auc: 1.0000 - val_loss: 0.0115 - val_tp: 188019.0000 - val_fp: 456.0000 - val_tn: 2638320.0000 - val_fn: 465.0000 - val_accuracy: 0.9997 - val_precision: 0.9976 - val_recall: 0.9975 - val_auc: 1.0000\n",
            "Epoch 42/50\n",
            "8871/8871 - 93s - loss: 0.0074 - tp: 884491.0000 - fp: 2480.0000 - tn: 12416290.0000 - fn: 2564.0000 - accuracy: 0.9996 - precision: 0.9972 - recall: 0.9971 - auc: 1.0000 - val_loss: 0.0121 - val_tp: 188028.0000 - val_fp: 453.0000 - val_tn: 2638323.0000 - val_fn: 456.0000 - val_accuracy: 0.9997 - val_precision: 0.9976 - val_recall: 0.9976 - val_auc: 0.9999\n",
            "Epoch 43/50\n",
            "8871/8871 - 96s - loss: 0.0073 - tp: 884553.0000 - fp: 2410.0000 - tn: 12416360.0000 - fn: 2502.0000 - accuracy: 0.9996 - precision: 0.9973 - recall: 0.9972 - auc: 1.0000 - val_loss: 0.0122 - val_tp: 188019.0000 - val_fp: 461.0000 - val_tn: 2638315.0000 - val_fn: 465.0000 - val_accuracy: 0.9997 - val_precision: 0.9976 - val_recall: 0.9975 - val_auc: 0.9999\n",
            "Epoch 44/50\n",
            "8871/8871 - 94s - loss: 0.0072 - tp: 884504.0000 - fp: 2463.0000 - tn: 12416307.0000 - fn: 2551.0000 - accuracy: 0.9996 - precision: 0.9972 - recall: 0.9971 - auc: 1.0000 - val_loss: 0.0117 - val_tp: 188023.0000 - val_fp: 454.0000 - val_tn: 2638322.0000 - val_fn: 461.0000 - val_accuracy: 0.9997 - val_precision: 0.9976 - val_recall: 0.9976 - val_auc: 1.0000\n",
            "Epoch 45/50\n",
            "8871/8871 - 91s - loss: 0.0074 - tp: 884500.0000 - fp: 2450.0000 - tn: 12416320.0000 - fn: 2555.0000 - accuracy: 0.9996 - precision: 0.9972 - recall: 0.9971 - auc: 1.0000 - val_loss: 0.0116 - val_tp: 188025.0000 - val_fp: 455.0000 - val_tn: 2638321.0000 - val_fn: 459.0000 - val_accuracy: 0.9997 - val_precision: 0.9976 - val_recall: 0.9976 - val_auc: 1.0000\n",
            "Epoch 46/50\n",
            "8871/8871 - 92s - loss: 0.0073 - tp: 884488.0000 - fp: 2471.0000 - tn: 12416299.0000 - fn: 2567.0000 - accuracy: 0.9996 - precision: 0.9972 - recall: 0.9971 - auc: 1.0000 - val_loss: 0.0120 - val_tp: 188016.0000 - val_fp: 465.0000 - val_tn: 2638311.0000 - val_fn: 468.0000 - val_accuracy: 0.9997 - val_precision: 0.9975 - val_recall: 0.9975 - val_auc: 1.0000\n",
            "Epoch 47/50\n",
            "8871/8871 - 93s - loss: 0.0073 - tp: 884523.0000 - fp: 2438.0000 - tn: 12416332.0000 - fn: 2532.0000 - accuracy: 0.9996 - precision: 0.9973 - recall: 0.9971 - auc: 1.0000 - val_loss: 0.0121 - val_tp: 188002.0000 - val_fp: 472.0000 - val_tn: 2638304.0000 - val_fn: 482.0000 - val_accuracy: 0.9997 - val_precision: 0.9975 - val_recall: 0.9974 - val_auc: 0.9999\n",
            "Epoch 48/50\n",
            "8871/8871 - 93s - loss: 0.0073 - tp: 884562.0000 - fp: 2408.0000 - tn: 12416362.0000 - fn: 2493.0000 - accuracy: 0.9996 - precision: 0.9973 - recall: 0.9972 - auc: 1.0000 - val_loss: 0.0117 - val_tp: 188019.0000 - val_fp: 462.0000 - val_tn: 2638314.0000 - val_fn: 465.0000 - val_accuracy: 0.9997 - val_precision: 0.9975 - val_recall: 0.9975 - val_auc: 1.0000\n",
            "Epoch 49/50\n",
            "8871/8871 - 94s - loss: 0.0073 - tp: 884560.0000 - fp: 2399.0000 - tn: 12416371.0000 - fn: 2495.0000 - accuracy: 0.9996 - precision: 0.9973 - recall: 0.9972 - auc: 1.0000 - val_loss: 0.0118 - val_tp: 188022.0000 - val_fp: 459.0000 - val_tn: 2638317.0000 - val_fn: 462.0000 - val_accuracy: 0.9997 - val_precision: 0.9976 - val_recall: 0.9975 - val_auc: 1.0000\n",
            "Epoch 50/50\n",
            "8871/8871 - 96s - loss: 0.0074 - tp: 884505.0000 - fp: 2453.0000 - tn: 12416317.0000 - fn: 2550.0000 - accuracy: 0.9996 - precision: 0.9972 - recall: 0.9971 - auc: 1.0000 - val_loss: 0.0121 - val_tp: 188016.0000 - val_fp: 465.0000 - val_tn: 2638311.0000 - val_fn: 468.0000 - val_accuracy: 0.9997 - val_precision: 0.9975 - val_recall: 0.9975 - val_auc: 1.0000\n"
          ],
          "name": "stdout"
        }
      ]
    },
    {
      "cell_type": "code",
      "metadata": {
        "colab": {
          "base_uri": "https://localhost:8080/"
        },
        "id": "vwdOrat23gIR",
        "outputId": "2b644e35-320f-4886-9612-731a9b73f54e"
      },
      "source": [
        "accuracy = cnn1d_model.evaluate(X_test_r, y_test_cat, batch_size=batch_size, verbose=1)"
      ],
      "execution_count": null,
      "outputs": [
        {
          "output_type": "stream",
          "text": [
            "1885/1885 [==============================] - 13s 7ms/step - loss: 0.0165 - tp: 187998.0000 - fp: 478.0000 - tn: 2638284.0000 - fn: 485.0000 - accuracy: 0.9997 - precision: 0.9975 - recall: 0.9974 - auc: 0.9999\n"
          ],
          "name": "stdout"
        }
      ]
    },
    {
      "cell_type": "code",
      "metadata": {
        "id": "WINRHfZN3nB4"
      },
      "source": [
        "y_pred=cnn1d_model.predict(X_test_r)"
      ],
      "execution_count": null,
      "outputs": []
    },
    {
      "cell_type": "code",
      "metadata": {
        "colab": {
          "base_uri": "https://localhost:8080/"
        },
        "id": "WXYk1MH03pMS",
        "outputId": "445ea5ae-291b-4891-e7cc-7c7e4f6c5ed5"
      },
      "source": [
        "display_metrics(y_test, np.argmax(y_pred, axis = 1), labels_d)"
      ],
      "execution_count": null,
      "outputs": [
        {
          "output_type": "stream",
          "text": [
            "\n",
            "Accuracy: 1.00\n",
            "\n",
            "Micro Precision: 1.00\n",
            "Micro Recall: 1.00\n",
            "Micro F1-score: 1.00\n",
            "\n",
            "Macro Precision: 0.91\n",
            "Macro Recall: 0.97\n",
            "Macro F1-score: 0.93\n",
            "\n",
            "Weighted Precision: 1.00\n",
            "Weighted Recall: 1.00\n",
            "Weighted F1-score: 1.00\n",
            "\n",
            "Classification Report\n",
            "\n",
            "                            precision    recall  f1-score   support\n",
            "\n",
            "                    BENIGN       1.00      1.00      1.00    105019\n",
            "                       Bot       0.97      0.98      0.97       280\n",
            "                      DDoS       1.00      1.00      1.00     19271\n",
            "             DoS GoldenEye       1.00      0.99      1.00      1542\n",
            "                  DoS Hulk       1.00      1.00      1.00     34547\n",
            "          DoS Slowhttptest       1.00      1.00      1.00       828\n",
            "             DoS slowloris       1.00      1.00      1.00       834\n",
            "               FTP-Patator       1.00      1.00      1.00      1178\n",
            "                Heartbleed       1.00      1.00      1.00         2\n",
            "              Infiltration       0.33      1.00      0.50         1\n",
            "                  PortScan       0.99      0.99      0.99     23846\n",
            "               SSH-Patator       1.00      1.00      1.00       826\n",
            "  Web Attack � Brute Force       0.94      0.86      0.90       209\n",
            "Web Attack � Sql Injection       0.75      0.86      0.80         7\n",
            "          Web Attack � XSS       0.72      0.90      0.80        93\n",
            "\n",
            "                  accuracy                           1.00    188483\n",
            "                 macro avg       0.91      0.97      0.93    188483\n",
            "              weighted avg       1.00      1.00      1.00    188483\n",
            "\n"
          ],
          "name": "stdout"
        }
      ]
    },
    {
      "cell_type": "markdown",
      "metadata": {
        "id": "PFrsNtMT4I7c"
      },
      "source": [
        "### Save smote 3000 model"
      ]
    },
    {
      "cell_type": "code",
      "metadata": {
        "id": "X1mPt8FV4IDR"
      },
      "source": [
        "cnn1d_model.save('/content/drive/My Drive/CICIDS2017/cnn1d_78_http_smote3000.h5')"
      ],
      "execution_count": null,
      "outputs": []
    },
    {
      "cell_type": "markdown",
      "metadata": {
        "id": "t7u4i6vx3s36"
      },
      "source": [
        "## Train the model using SMOTENC 1000"
      ]
    },
    {
      "cell_type": "code",
      "metadata": {
        "colab": {
          "base_uri": "https://localhost:8080/"
        },
        "id": "1fTHGdtp3wS0",
        "outputId": "373dd826-fc74-4c8b-e978-2eb2e9121318"
      },
      "source": [
        "X_train_r = np.zeros((len(X_train_1000), input_dim, 1))\r\n",
        "X_train_r[:, :, 0] = X_train_1000[:, :input_dim]\r\n",
        "print(X_train_r.shape)"
      ],
      "execution_count": 21,
      "outputs": [
        {
          "output_type": "stream",
          "text": [
            "(881114, 79, 1)\n"
          ],
          "name": "stdout"
        }
      ]
    },
    {
      "cell_type": "code",
      "metadata": {
        "id": "YV4Js_zRI3SO"
      },
      "source": [
        "y_train_cat = to_categorical(y_train_1000, 15)"
      ],
      "execution_count": 22,
      "outputs": []
    },
    {
      "cell_type": "code",
      "metadata": {
        "id": "nyrbglOU3104"
      },
      "source": [
        "cnn1d_file_name = \"/content/drive/My Drive/CICIDS2017/cnn1d_78_http_smote1000.h5\"\r\n",
        "cnn1d_model = tf.keras.models.load_model(cnn1d_file_name)"
      ],
      "execution_count": 23,
      "outputs": []
    },
    {
      "cell_type": "code",
      "metadata": {
        "id": "viLw7cUlh2W7"
      },
      "source": [
        "import keras\r\n",
        "\r\n",
        "reduce_lr = keras.callbacks.ReduceLROnPlateau(moniter='val_loss',\r\n",
        "                                              factor=0.1,\r\n",
        "                                              patience=10)"
      ],
      "execution_count": 28,
      "outputs": []
    },
    {
      "cell_type": "code",
      "metadata": {
        "id": "CEdT1dtWkYuZ"
      },
      "source": [
        "from keras.optimizers import Nadam, Adam, RMSprop\r\n",
        "nadam = Nadam(lr=1e-5, beta_1=0.9, beta_2=0.999, epsilon=1e-08, schedule_decay=0.0001)"
      ],
      "execution_count": 42,
      "outputs": []
    },
    {
      "cell_type": "code",
      "metadata": {
        "colab": {
          "base_uri": "https://localhost:8080/",
          "height": 1000
        },
        "id": "e0zyt8IS35ex",
        "outputId": "cfe628ce-b8df-4285-a666-1c1e93091733"
      },
      "source": [
        "history = cnn1d_model.fit(X_train_r, y_train_cat, \r\n",
        "                    epochs=50, \r\n",
        "                    batch_size=3000, \r\n",
        "                    verbose=2,\r\n",
        "                    validation_data=(X_val_r, y_val_cat),\r\n",
        "                    callbacks=[reduce_lr])"
      ],
      "execution_count": 43,
      "outputs": [
        {
          "output_type": "stream",
          "text": [
            "Epoch 1/50\n",
            "294/294 - 25s - loss: 0.0047 - tp: 879483.0000 - fp: 1555.0000 - tn: 12334041.0000 - fn: 1631.0000 - accuracy: 0.9998 - precision: 0.9982 - recall: 0.9981 - auc: 1.0000 - val_loss: 0.0121 - val_tp: 188180.0000 - val_fp: 301.0000 - val_tn: 2638475.0000 - val_fn: 304.0000 - val_accuracy: 0.9998 - val_precision: 0.9984 - val_recall: 0.9984 - val_auc: 0.9999\n",
            "Epoch 2/50\n",
            "294/294 - 23s - loss: 0.0047 - tp: 879521.0000 - fp: 1527.0000 - tn: 12334069.0000 - fn: 1593.0000 - accuracy: 0.9998 - precision: 0.9983 - recall: 0.9982 - auc: 1.0000 - val_loss: 0.0121 - val_tp: 188180.0000 - val_fp: 302.0000 - val_tn: 2638474.0000 - val_fn: 304.0000 - val_accuracy: 0.9998 - val_precision: 0.9984 - val_recall: 0.9984 - val_auc: 0.9999\n",
            "Epoch 3/50\n",
            "294/294 - 23s - loss: 0.0046 - tp: 879502.0000 - fp: 1548.0000 - tn: 12334048.0000 - fn: 1612.0000 - accuracy: 0.9998 - precision: 0.9982 - recall: 0.9982 - auc: 1.0000 - val_loss: 0.0121 - val_tp: 188181.0000 - val_fp: 301.0000 - val_tn: 2638475.0000 - val_fn: 303.0000 - val_accuracy: 0.9998 - val_precision: 0.9984 - val_recall: 0.9984 - val_auc: 0.9999\n",
            "Epoch 4/50\n",
            "294/294 - 23s - loss: 0.0047 - tp: 879473.0000 - fp: 1566.0000 - tn: 12334030.0000 - fn: 1641.0000 - accuracy: 0.9998 - precision: 0.9982 - recall: 0.9981 - auc: 1.0000 - val_loss: 0.0124 - val_tp: 188178.0000 - val_fp: 302.0000 - val_tn: 2638474.0000 - val_fn: 306.0000 - val_accuracy: 0.9998 - val_precision: 0.9984 - val_recall: 0.9984 - val_auc: 0.9999\n",
            "Epoch 5/50\n",
            "294/294 - 23s - loss: 0.0048 - tp: 879496.0000 - fp: 1551.0000 - tn: 12334045.0000 - fn: 1618.0000 - accuracy: 0.9998 - precision: 0.9982 - recall: 0.9982 - auc: 1.0000 - val_loss: 0.0121 - val_tp: 188181.0000 - val_fp: 301.0000 - val_tn: 2638475.0000 - val_fn: 303.0000 - val_accuracy: 0.9998 - val_precision: 0.9984 - val_recall: 0.9984 - val_auc: 0.9999\n",
            "Epoch 6/50\n",
            "294/294 - 23s - loss: 0.0047 - tp: 879483.0000 - fp: 1561.0000 - tn: 12334035.0000 - fn: 1631.0000 - accuracy: 0.9998 - precision: 0.9982 - recall: 0.9981 - auc: 1.0000 - val_loss: 0.0122 - val_tp: 188180.0000 - val_fp: 301.0000 - val_tn: 2638475.0000 - val_fn: 304.0000 - val_accuracy: 0.9998 - val_precision: 0.9984 - val_recall: 0.9984 - val_auc: 0.9999\n",
            "Epoch 7/50\n",
            "294/294 - 23s - loss: 0.0047 - tp: 879490.0000 - fp: 1555.0000 - tn: 12334041.0000 - fn: 1624.0000 - accuracy: 0.9998 - precision: 0.9982 - recall: 0.9982 - auc: 1.0000 - val_loss: 0.0121 - val_tp: 188178.0000 - val_fp: 304.0000 - val_tn: 2638472.0000 - val_fn: 306.0000 - val_accuracy: 0.9998 - val_precision: 0.9984 - val_recall: 0.9984 - val_auc: 0.9999\n",
            "Epoch 8/50\n",
            "294/294 - 23s - loss: 0.0045 - tp: 879521.0000 - fp: 1522.0000 - tn: 12334074.0000 - fn: 1593.0000 - accuracy: 0.9998 - precision: 0.9983 - recall: 0.9982 - auc: 1.0000 - val_loss: 0.0122 - val_tp: 188179.0000 - val_fp: 302.0000 - val_tn: 2638474.0000 - val_fn: 305.0000 - val_accuracy: 0.9998 - val_precision: 0.9984 - val_recall: 0.9984 - val_auc: 0.9999\n",
            "Epoch 9/50\n",
            "294/294 - 23s - loss: 0.0046 - tp: 879501.0000 - fp: 1539.0000 - tn: 12334057.0000 - fn: 1613.0000 - accuracy: 0.9998 - precision: 0.9983 - recall: 0.9982 - auc: 1.0000 - val_loss: 0.0123 - val_tp: 188182.0000 - val_fp: 299.0000 - val_tn: 2638477.0000 - val_fn: 302.0000 - val_accuracy: 0.9998 - val_precision: 0.9984 - val_recall: 0.9984 - val_auc: 0.9999\n",
            "Epoch 10/50\n",
            "294/294 - 24s - loss: 0.0047 - tp: 879487.0000 - fp: 1564.0000 - tn: 12334032.0000 - fn: 1627.0000 - accuracy: 0.9998 - precision: 0.9982 - recall: 0.9982 - auc: 1.0000 - val_loss: 0.0122 - val_tp: 188185.0000 - val_fp: 297.0000 - val_tn: 2638479.0000 - val_fn: 299.0000 - val_accuracy: 0.9998 - val_precision: 0.9984 - val_recall: 0.9984 - val_auc: 0.9999\n",
            "Epoch 11/50\n",
            "294/294 - 24s - loss: 0.0048 - tp: 879484.0000 - fp: 1553.0000 - tn: 12334043.0000 - fn: 1630.0000 - accuracy: 0.9998 - precision: 0.9982 - recall: 0.9982 - auc: 1.0000 - val_loss: 0.0122 - val_tp: 188181.0000 - val_fp: 300.0000 - val_tn: 2638476.0000 - val_fn: 303.0000 - val_accuracy: 0.9998 - val_precision: 0.9984 - val_recall: 0.9984 - val_auc: 0.9999\n",
            "Epoch 12/50\n",
            "294/294 - 23s - loss: 0.0046 - tp: 879515.0000 - fp: 1531.0000 - tn: 12334065.0000 - fn: 1599.0000 - accuracy: 0.9998 - precision: 0.9983 - recall: 0.9982 - auc: 1.0000 - val_loss: 0.0123 - val_tp: 188179.0000 - val_fp: 301.0000 - val_tn: 2638475.0000 - val_fn: 305.0000 - val_accuracy: 0.9998 - val_precision: 0.9984 - val_recall: 0.9984 - val_auc: 0.9999\n",
            "Epoch 13/50\n",
            "294/294 - 23s - loss: 0.0047 - tp: 879490.0000 - fp: 1563.0000 - tn: 12334033.0000 - fn: 1624.0000 - accuracy: 0.9998 - precision: 0.9982 - recall: 0.9982 - auc: 1.0000 - val_loss: 0.0121 - val_tp: 188180.0000 - val_fp: 301.0000 - val_tn: 2638475.0000 - val_fn: 304.0000 - val_accuracy: 0.9998 - val_precision: 0.9984 - val_recall: 0.9984 - val_auc: 0.9999\n",
            "Epoch 14/50\n",
            "294/294 - 23s - loss: 0.0047 - tp: 879462.0000 - fp: 1581.0000 - tn: 12334015.0000 - fn: 1652.0000 - accuracy: 0.9998 - precision: 0.9982 - recall: 0.9981 - auc: 1.0000 - val_loss: 0.0122 - val_tp: 188182.0000 - val_fp: 300.0000 - val_tn: 2638476.0000 - val_fn: 302.0000 - val_accuracy: 0.9998 - val_precision: 0.9984 - val_recall: 0.9984 - val_auc: 0.9999\n",
            "Epoch 15/50\n",
            "294/294 - 23s - loss: 0.0048 - tp: 879458.0000 - fp: 1590.0000 - tn: 12334006.0000 - fn: 1656.0000 - accuracy: 0.9998 - precision: 0.9982 - recall: 0.9981 - auc: 1.0000 - val_loss: 0.0124 - val_tp: 188179.0000 - val_fp: 301.0000 - val_tn: 2638475.0000 - val_fn: 305.0000 - val_accuracy: 0.9998 - val_precision: 0.9984 - val_recall: 0.9984 - val_auc: 0.9999\n",
            "Epoch 16/50\n",
            "294/294 - 23s - loss: 0.0046 - tp: 879494.0000 - fp: 1552.0000 - tn: 12334044.0000 - fn: 1620.0000 - accuracy: 0.9998 - precision: 0.9982 - recall: 0.9982 - auc: 1.0000 - val_loss: 0.0123 - val_tp: 188184.0000 - val_fp: 297.0000 - val_tn: 2638479.0000 - val_fn: 300.0000 - val_accuracy: 0.9998 - val_precision: 0.9984 - val_recall: 0.9984 - val_auc: 0.9999\n",
            "Epoch 17/50\n",
            "294/294 - 23s - loss: 0.0047 - tp: 879456.0000 - fp: 1581.0000 - tn: 12334015.0000 - fn: 1658.0000 - accuracy: 0.9998 - precision: 0.9982 - recall: 0.9981 - auc: 1.0000 - val_loss: 0.0122 - val_tp: 188177.0000 - val_fp: 304.0000 - val_tn: 2638472.0000 - val_fn: 307.0000 - val_accuracy: 0.9998 - val_precision: 0.9984 - val_recall: 0.9984 - val_auc: 0.9999\n",
            "Epoch 18/50\n",
            "294/294 - 23s - loss: 0.0049 - tp: 879454.0000 - fp: 1589.0000 - tn: 12334007.0000 - fn: 1660.0000 - accuracy: 0.9998 - precision: 0.9982 - recall: 0.9981 - auc: 1.0000 - val_loss: 0.0120 - val_tp: 188184.0000 - val_fp: 297.0000 - val_tn: 2638479.0000 - val_fn: 300.0000 - val_accuracy: 0.9998 - val_precision: 0.9984 - val_recall: 0.9984 - val_auc: 0.9999\n",
            "Epoch 19/50\n",
            "294/294 - 24s - loss: 0.0046 - tp: 879507.0000 - fp: 1531.0000 - tn: 12334065.0000 - fn: 1607.0000 - accuracy: 0.9998 - precision: 0.9983 - recall: 0.9982 - auc: 1.0000 - val_loss: 0.0121 - val_tp: 188181.0000 - val_fp: 300.0000 - val_tn: 2638476.0000 - val_fn: 303.0000 - val_accuracy: 0.9998 - val_precision: 0.9984 - val_recall: 0.9984 - val_auc: 0.9999\n",
            "Epoch 20/50\n",
            "294/294 - 24s - loss: 0.0048 - tp: 879486.0000 - fp: 1563.0000 - tn: 12334033.0000 - fn: 1628.0000 - accuracy: 0.9998 - precision: 0.9982 - recall: 0.9982 - auc: 1.0000 - val_loss: 0.0121 - val_tp: 188184.0000 - val_fp: 298.0000 - val_tn: 2638478.0000 - val_fn: 300.0000 - val_accuracy: 0.9998 - val_precision: 0.9984 - val_recall: 0.9984 - val_auc: 0.9999\n",
            "Epoch 21/50\n",
            "294/294 - 23s - loss: 0.0047 - tp: 879493.0000 - fp: 1547.0000 - tn: 12334049.0000 - fn: 1621.0000 - accuracy: 0.9998 - precision: 0.9982 - recall: 0.9982 - auc: 1.0000 - val_loss: 0.0123 - val_tp: 188181.0000 - val_fp: 300.0000 - val_tn: 2638476.0000 - val_fn: 303.0000 - val_accuracy: 0.9998 - val_precision: 0.9984 - val_recall: 0.9984 - val_auc: 0.9999\n",
            "Epoch 22/50\n",
            "294/294 - 23s - loss: 0.0047 - tp: 879499.0000 - fp: 1536.0000 - tn: 12334060.0000 - fn: 1615.0000 - accuracy: 0.9998 - precision: 0.9983 - recall: 0.9982 - auc: 1.0000 - val_loss: 0.0124 - val_tp: 188183.0000 - val_fp: 298.0000 - val_tn: 2638478.0000 - val_fn: 301.0000 - val_accuracy: 0.9998 - val_precision: 0.9984 - val_recall: 0.9984 - val_auc: 0.9999\n",
            "Epoch 23/50\n",
            "294/294 - 23s - loss: 0.0046 - tp: 879548.0000 - fp: 1501.0000 - tn: 12334095.0000 - fn: 1566.0000 - accuracy: 0.9998 - precision: 0.9983 - recall: 0.9982 - auc: 1.0000 - val_loss: 0.0120 - val_tp: 188184.0000 - val_fp: 298.0000 - val_tn: 2638478.0000 - val_fn: 300.0000 - val_accuracy: 0.9998 - val_precision: 0.9984 - val_recall: 0.9984 - val_auc: 0.9999\n",
            "Epoch 24/50\n",
            "294/294 - 23s - loss: 0.0047 - tp: 879501.0000 - fp: 1539.0000 - tn: 12334057.0000 - fn: 1613.0000 - accuracy: 0.9998 - precision: 0.9983 - recall: 0.9982 - auc: 1.0000 - val_loss: 0.0122 - val_tp: 188178.0000 - val_fp: 303.0000 - val_tn: 2638473.0000 - val_fn: 306.0000 - val_accuracy: 0.9998 - val_precision: 0.9984 - val_recall: 0.9984 - val_auc: 0.9999\n",
            "Epoch 25/50\n"
          ],
          "name": "stdout"
        },
        {
          "output_type": "error",
          "ename": "KeyboardInterrupt",
          "evalue": "ignored",
          "traceback": [
            "\u001b[0;31m---------------------------------------------------------------------------\u001b[0m",
            "\u001b[0;31mKeyboardInterrupt\u001b[0m                         Traceback (most recent call last)",
            "\u001b[0;32m<ipython-input-43-88da4023f969>\u001b[0m in \u001b[0;36m<module>\u001b[0;34m()\u001b[0m\n\u001b[1;32m      4\u001b[0m                     \u001b[0mverbose\u001b[0m\u001b[0;34m=\u001b[0m\u001b[0;36m2\u001b[0m\u001b[0;34m,\u001b[0m\u001b[0;34m\u001b[0m\u001b[0;34m\u001b[0m\u001b[0m\n\u001b[1;32m      5\u001b[0m                     \u001b[0mvalidation_data\u001b[0m\u001b[0;34m=\u001b[0m\u001b[0;34m(\u001b[0m\u001b[0mX_val_r\u001b[0m\u001b[0;34m,\u001b[0m \u001b[0my_val_cat\u001b[0m\u001b[0;34m)\u001b[0m\u001b[0;34m,\u001b[0m\u001b[0;34m\u001b[0m\u001b[0;34m\u001b[0m\u001b[0m\n\u001b[0;32m----> 6\u001b[0;31m                     callbacks=[reduce_lr])\n\u001b[0m",
            "\u001b[0;32m/usr/local/lib/python3.7/dist-packages/tensorflow/python/keras/engine/training.py\u001b[0m in \u001b[0;36mfit\u001b[0;34m(self, x, y, batch_size, epochs, verbose, callbacks, validation_split, validation_data, shuffle, class_weight, sample_weight, initial_epoch, steps_per_epoch, validation_steps, validation_batch_size, validation_freq, max_queue_size, workers, use_multiprocessing)\u001b[0m\n\u001b[1;32m   1098\u001b[0m                 _r=1):\n\u001b[1;32m   1099\u001b[0m               \u001b[0mcallbacks\u001b[0m\u001b[0;34m.\u001b[0m\u001b[0mon_train_batch_begin\u001b[0m\u001b[0;34m(\u001b[0m\u001b[0mstep\u001b[0m\u001b[0;34m)\u001b[0m\u001b[0;34m\u001b[0m\u001b[0;34m\u001b[0m\u001b[0m\n\u001b[0;32m-> 1100\u001b[0;31m               \u001b[0mtmp_logs\u001b[0m \u001b[0;34m=\u001b[0m \u001b[0mself\u001b[0m\u001b[0;34m.\u001b[0m\u001b[0mtrain_function\u001b[0m\u001b[0;34m(\u001b[0m\u001b[0miterator\u001b[0m\u001b[0;34m)\u001b[0m\u001b[0;34m\u001b[0m\u001b[0;34m\u001b[0m\u001b[0m\n\u001b[0m\u001b[1;32m   1101\u001b[0m               \u001b[0;32mif\u001b[0m \u001b[0mdata_handler\u001b[0m\u001b[0;34m.\u001b[0m\u001b[0mshould_sync\u001b[0m\u001b[0;34m:\u001b[0m\u001b[0;34m\u001b[0m\u001b[0;34m\u001b[0m\u001b[0m\n\u001b[1;32m   1102\u001b[0m                 \u001b[0mcontext\u001b[0m\u001b[0;34m.\u001b[0m\u001b[0masync_wait\u001b[0m\u001b[0;34m(\u001b[0m\u001b[0;34m)\u001b[0m\u001b[0;34m\u001b[0m\u001b[0;34m\u001b[0m\u001b[0m\n",
            "\u001b[0;32m/usr/local/lib/python3.7/dist-packages/tensorflow/python/eager/def_function.py\u001b[0m in \u001b[0;36m__call__\u001b[0;34m(self, *args, **kwds)\u001b[0m\n\u001b[1;32m    826\u001b[0m     \u001b[0mtracing_count\u001b[0m \u001b[0;34m=\u001b[0m \u001b[0mself\u001b[0m\u001b[0;34m.\u001b[0m\u001b[0mexperimental_get_tracing_count\u001b[0m\u001b[0;34m(\u001b[0m\u001b[0;34m)\u001b[0m\u001b[0;34m\u001b[0m\u001b[0;34m\u001b[0m\u001b[0m\n\u001b[1;32m    827\u001b[0m     \u001b[0;32mwith\u001b[0m \u001b[0mtrace\u001b[0m\u001b[0;34m.\u001b[0m\u001b[0mTrace\u001b[0m\u001b[0;34m(\u001b[0m\u001b[0mself\u001b[0m\u001b[0;34m.\u001b[0m\u001b[0m_name\u001b[0m\u001b[0;34m)\u001b[0m \u001b[0;32mas\u001b[0m \u001b[0mtm\u001b[0m\u001b[0;34m:\u001b[0m\u001b[0;34m\u001b[0m\u001b[0;34m\u001b[0m\u001b[0m\n\u001b[0;32m--> 828\u001b[0;31m       \u001b[0mresult\u001b[0m \u001b[0;34m=\u001b[0m \u001b[0mself\u001b[0m\u001b[0;34m.\u001b[0m\u001b[0m_call\u001b[0m\u001b[0;34m(\u001b[0m\u001b[0;34m*\u001b[0m\u001b[0margs\u001b[0m\u001b[0;34m,\u001b[0m \u001b[0;34m**\u001b[0m\u001b[0mkwds\u001b[0m\u001b[0;34m)\u001b[0m\u001b[0;34m\u001b[0m\u001b[0;34m\u001b[0m\u001b[0m\n\u001b[0m\u001b[1;32m    829\u001b[0m       \u001b[0mcompiler\u001b[0m \u001b[0;34m=\u001b[0m \u001b[0;34m\"xla\"\u001b[0m \u001b[0;32mif\u001b[0m \u001b[0mself\u001b[0m\u001b[0;34m.\u001b[0m\u001b[0m_experimental_compile\u001b[0m \u001b[0;32melse\u001b[0m \u001b[0;34m\"nonXla\"\u001b[0m\u001b[0;34m\u001b[0m\u001b[0;34m\u001b[0m\u001b[0m\n\u001b[1;32m    830\u001b[0m       \u001b[0mnew_tracing_count\u001b[0m \u001b[0;34m=\u001b[0m \u001b[0mself\u001b[0m\u001b[0;34m.\u001b[0m\u001b[0mexperimental_get_tracing_count\u001b[0m\u001b[0;34m(\u001b[0m\u001b[0;34m)\u001b[0m\u001b[0;34m\u001b[0m\u001b[0;34m\u001b[0m\u001b[0m\n",
            "\u001b[0;32m/usr/local/lib/python3.7/dist-packages/tensorflow/python/eager/def_function.py\u001b[0m in \u001b[0;36m_call\u001b[0;34m(self, *args, **kwds)\u001b[0m\n\u001b[1;32m    860\u001b[0m       \u001b[0;31m# In this case we have not created variables on the first call. So we can\u001b[0m\u001b[0;34m\u001b[0m\u001b[0;34m\u001b[0m\u001b[0;34m\u001b[0m\u001b[0m\n\u001b[1;32m    861\u001b[0m       \u001b[0;31m# run the first trace but we should fail if variables are created.\u001b[0m\u001b[0;34m\u001b[0m\u001b[0;34m\u001b[0m\u001b[0;34m\u001b[0m\u001b[0m\n\u001b[0;32m--> 862\u001b[0;31m       \u001b[0mresults\u001b[0m \u001b[0;34m=\u001b[0m \u001b[0mself\u001b[0m\u001b[0;34m.\u001b[0m\u001b[0m_stateful_fn\u001b[0m\u001b[0;34m(\u001b[0m\u001b[0;34m*\u001b[0m\u001b[0margs\u001b[0m\u001b[0;34m,\u001b[0m \u001b[0;34m**\u001b[0m\u001b[0mkwds\u001b[0m\u001b[0;34m)\u001b[0m\u001b[0;34m\u001b[0m\u001b[0;34m\u001b[0m\u001b[0m\n\u001b[0m\u001b[1;32m    863\u001b[0m       \u001b[0;32mif\u001b[0m \u001b[0mself\u001b[0m\u001b[0;34m.\u001b[0m\u001b[0m_created_variables\u001b[0m\u001b[0;34m:\u001b[0m\u001b[0;34m\u001b[0m\u001b[0;34m\u001b[0m\u001b[0m\n\u001b[1;32m    864\u001b[0m         raise ValueError(\"Creating variables on a non-first call to a function\"\n",
            "\u001b[0;32m/usr/local/lib/python3.7/dist-packages/tensorflow/python/eager/function.py\u001b[0m in \u001b[0;36m__call__\u001b[0;34m(self, *args, **kwargs)\u001b[0m\n\u001b[1;32m   2941\u001b[0m        filtered_flat_args) = self._maybe_define_function(args, kwargs)\n\u001b[1;32m   2942\u001b[0m     return graph_function._call_flat(\n\u001b[0;32m-> 2943\u001b[0;31m         filtered_flat_args, captured_inputs=graph_function.captured_inputs)  # pylint: disable=protected-access\n\u001b[0m\u001b[1;32m   2944\u001b[0m \u001b[0;34m\u001b[0m\u001b[0m\n\u001b[1;32m   2945\u001b[0m   \u001b[0;34m@\u001b[0m\u001b[0mproperty\u001b[0m\u001b[0;34m\u001b[0m\u001b[0;34m\u001b[0m\u001b[0m\n",
            "\u001b[0;32m/usr/local/lib/python3.7/dist-packages/tensorflow/python/eager/function.py\u001b[0m in \u001b[0;36m_call_flat\u001b[0;34m(self, args, captured_inputs, cancellation_manager)\u001b[0m\n\u001b[1;32m   1917\u001b[0m       \u001b[0;31m# No tape is watching; skip to running the function.\u001b[0m\u001b[0;34m\u001b[0m\u001b[0;34m\u001b[0m\u001b[0;34m\u001b[0m\u001b[0m\n\u001b[1;32m   1918\u001b[0m       return self._build_call_outputs(self._inference_function.call(\n\u001b[0;32m-> 1919\u001b[0;31m           ctx, args, cancellation_manager=cancellation_manager))\n\u001b[0m\u001b[1;32m   1920\u001b[0m     forward_backward = self._select_forward_and_backward_functions(\n\u001b[1;32m   1921\u001b[0m         \u001b[0margs\u001b[0m\u001b[0;34m,\u001b[0m\u001b[0;34m\u001b[0m\u001b[0;34m\u001b[0m\u001b[0m\n",
            "\u001b[0;32m/usr/local/lib/python3.7/dist-packages/tensorflow/python/eager/function.py\u001b[0m in \u001b[0;36mcall\u001b[0;34m(self, ctx, args, cancellation_manager)\u001b[0m\n\u001b[1;32m    558\u001b[0m               \u001b[0minputs\u001b[0m\u001b[0;34m=\u001b[0m\u001b[0margs\u001b[0m\u001b[0;34m,\u001b[0m\u001b[0;34m\u001b[0m\u001b[0;34m\u001b[0m\u001b[0m\n\u001b[1;32m    559\u001b[0m               \u001b[0mattrs\u001b[0m\u001b[0;34m=\u001b[0m\u001b[0mattrs\u001b[0m\u001b[0;34m,\u001b[0m\u001b[0;34m\u001b[0m\u001b[0;34m\u001b[0m\u001b[0m\n\u001b[0;32m--> 560\u001b[0;31m               ctx=ctx)\n\u001b[0m\u001b[1;32m    561\u001b[0m         \u001b[0;32melse\u001b[0m\u001b[0;34m:\u001b[0m\u001b[0;34m\u001b[0m\u001b[0;34m\u001b[0m\u001b[0m\n\u001b[1;32m    562\u001b[0m           outputs = execute.execute_with_cancellation(\n",
            "\u001b[0;32m/usr/local/lib/python3.7/dist-packages/tensorflow/python/eager/execute.py\u001b[0m in \u001b[0;36mquick_execute\u001b[0;34m(op_name, num_outputs, inputs, attrs, ctx, name)\u001b[0m\n\u001b[1;32m     58\u001b[0m     \u001b[0mctx\u001b[0m\u001b[0;34m.\u001b[0m\u001b[0mensure_initialized\u001b[0m\u001b[0;34m(\u001b[0m\u001b[0;34m)\u001b[0m\u001b[0;34m\u001b[0m\u001b[0;34m\u001b[0m\u001b[0m\n\u001b[1;32m     59\u001b[0m     tensors = pywrap_tfe.TFE_Py_Execute(ctx._handle, device_name, op_name,\n\u001b[0;32m---> 60\u001b[0;31m                                         inputs, attrs, num_outputs)\n\u001b[0m\u001b[1;32m     61\u001b[0m   \u001b[0;32mexcept\u001b[0m \u001b[0mcore\u001b[0m\u001b[0;34m.\u001b[0m\u001b[0m_NotOkStatusException\u001b[0m \u001b[0;32mas\u001b[0m \u001b[0me\u001b[0m\u001b[0;34m:\u001b[0m\u001b[0;34m\u001b[0m\u001b[0;34m\u001b[0m\u001b[0m\n\u001b[1;32m     62\u001b[0m     \u001b[0;32mif\u001b[0m \u001b[0mname\u001b[0m \u001b[0;32mis\u001b[0m \u001b[0;32mnot\u001b[0m \u001b[0;32mNone\u001b[0m\u001b[0;34m:\u001b[0m\u001b[0;34m\u001b[0m\u001b[0;34m\u001b[0m\u001b[0m\n",
            "\u001b[0;31mKeyboardInterrupt\u001b[0m: "
          ]
        }
      ]
    },
    {
      "cell_type": "code",
      "metadata": {
        "colab": {
          "base_uri": "https://localhost:8080/"
        },
        "id": "rEOVvCpz3_Pg",
        "outputId": "4219e8a1-8f6d-4169-f407-f8434c21023a"
      },
      "source": [
        "accuracy = cnn1d_model.evaluate(X_test_r, y_test_cat, batch_size=batch_size, verbose=1)"
      ],
      "execution_count": 46,
      "outputs": [
        {
          "output_type": "stream",
          "text": [
            "943/943 [==============================] - 7s 7ms/step - loss: 0.0107 - tp: 188022.0000 - fp: 451.0000 - tn: 2638311.0000 - fn: 461.0000 - accuracy: 0.9997 - precision: 0.9976 - recall: 0.9976 - auc: 0.9999\n"
          ],
          "name": "stdout"
        }
      ]
    },
    {
      "cell_type": "code",
      "metadata": {
        "id": "F-SQRoz93_2A"
      },
      "source": [
        "y_pred=cnn1d_model.predict(X_test_r)"
      ],
      "execution_count": 47,
      "outputs": []
    },
    {
      "cell_type": "code",
      "metadata": {
        "colab": {
          "base_uri": "https://localhost:8080/"
        },
        "id": "zvQnpI_S4DAK",
        "outputId": "9c16c021-8ad2-4089-98d6-733bd4a25715"
      },
      "source": [
        "display_metrics(y_test, np.argmax(y_pred, axis = 1), labels_d)"
      ],
      "execution_count": 48,
      "outputs": [
        {
          "output_type": "stream",
          "text": [
            "\n",
            "Accuracy: 1.00\n",
            "\n",
            "Micro Precision: 1.00\n",
            "Micro Recall: 1.00\n",
            "Micro F1-score: 1.00\n",
            "\n",
            "Macro Precision: 0.93\n",
            "Macro Recall: 0.98\n",
            "Macro F1-score: 0.95\n",
            "\n",
            "Weighted Precision: 1.00\n",
            "Weighted Recall: 1.00\n",
            "Weighted F1-score: 1.00\n",
            "\n",
            "Classification Report\n",
            "\n",
            "                            precision    recall  f1-score   support\n",
            "\n",
            "                    BENIGN       1.00      1.00      1.00    105019\n",
            "                       Bot       0.97      0.98      0.97       280\n",
            "                      DDoS       1.00      1.00      1.00     19271\n",
            "             DoS GoldenEye       1.00      0.99      1.00      1542\n",
            "                  DoS Hulk       1.00      1.00      1.00     34547\n",
            "          DoS Slowhttptest       1.00      1.00      1.00       828\n",
            "             DoS slowloris       1.00      1.00      1.00       834\n",
            "               FTP-Patator       1.00      1.00      1.00      1178\n",
            "                Heartbleed       1.00      1.00      1.00         2\n",
            "              Infiltration       0.50      1.00      0.67         1\n",
            "                  PortScan       0.99      0.99      0.99     23846\n",
            "               SSH-Patator       1.00      1.00      1.00       826\n",
            "  Web Attack � Brute Force       0.95      0.87      0.91       209\n",
            "Web Attack � Sql Injection       0.70      1.00      0.82         7\n",
            "          Web Attack � XSS       0.79      0.89      0.84        93\n",
            "\n",
            "                  accuracy                           1.00    188483\n",
            "                 macro avg       0.93      0.98      0.95    188483\n",
            "              weighted avg       1.00      1.00      1.00    188483\n",
            "\n"
          ],
          "name": "stdout"
        }
      ]
    },
    {
      "cell_type": "markdown",
      "metadata": {
        "id": "Yf1XnSnX4P28"
      },
      "source": [
        "### Save the SMOTENC 1000 model"
      ]
    },
    {
      "cell_type": "code",
      "metadata": {
        "id": "F4DurNlF4Tco"
      },
      "source": [
        "cnn1d_model.save('/content/drive/My Drive/CICIDS2017/cnn1d_78_http_smotenc1000.h5')"
      ],
      "execution_count": 49,
      "outputs": []
    }
  ]
}