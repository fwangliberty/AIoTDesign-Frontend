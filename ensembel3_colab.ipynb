{
  "nbformat": 4,
  "nbformat_minor": 0,
  "metadata": {
    "accelerator": "GPU",
    "colab": {
      "name": "ensembel3_colab.ipynb",
      "provenance": [],
      "collapsed_sections": [],
      "include_colab_link": true
    },
    "kernelspec": {
      "display_name": "Python 3",
      "language": "python",
      "name": "python3"
    },
    "language_info": {
      "codemirror_mode": {
        "name": "ipython",
        "version": 3
      },
      "file_extension": ".py",
      "mimetype": "text/x-python",
      "name": "python",
      "nbconvert_exporter": "python",
      "pygments_lexer": "ipython3",
      "version": "3.7.10"
    }
  },
  "cells": [
    {
      "cell_type": "markdown",
      "metadata": {
        "id": "view-in-github",
        "colab_type": "text"
      },
      "source": [
        "<a href=\"https://colab.research.google.com/github/fwangliberty/AIoTDesign-Frontend/blob/master/ensembel3_colab.ipynb\" target=\"_parent\"><img src=\"https://colab.research.google.com/assets/colab-badge.svg\" alt=\"Open In Colab\"/></a>"
      ]
    },
    {
      "cell_type": "markdown",
      "metadata": {
        "id": "5CMLJRSjvHhy"
      },
      "source": [
        "# Ensembling pre-trained DNN, CNN2D, Random Forest and DecisionTree \n",
        "\n",
        "\n",
        "We will load the pre-trained DNN, CNN2D, Random Forest and Decision Tree to classify network anormalies in CICIDS2017 dataset. More specifically, the test dataset with connection-based features and smote is used for random forest and decision tree. For DNN model, we use test dataset with connection-based and service-type features and smote."
      ]
    },
    {
      "cell_type": "markdown",
      "metadata": {
        "id": "_Oxcy4_5vHh1"
      },
      "source": [
        "## Preparing the data\n",
        "First, import dependencies."
      ]
    },
    {
      "cell_type": "code",
      "metadata": {
        "id": "4pwXf8xYvHh1",
        "scrolled": true
      },
      "source": [
        "from keras.callbacks import History\n",
        "from keras.callbacks import ModelCheckpoint, TensorBoard\n",
        "from keras.engine import training\n",
        "from keras.layers import Conv2D, MaxPooling2D, GlobalAveragePooling2D, Dropout, Activation, Average\n",
        "from keras.losses import categorical_crossentropy\n",
        "from keras.models import Model, Input\n",
        "from keras.optimizers import Adam\n",
        "from keras.utils import to_categorical\n",
        "from tensorflow.python.framework.ops import Tensor\n",
        "from typing import Tuple, List\n",
        "import glob\n",
        "import numpy as np\n",
        "import os\n",
        "from os.path import join\n",
        "import pandas as pd\n",
        "import numpy as np\n",
        "import time\n",
        "import seaborn as sns\n",
        "import matplotlib.pyplot as plt\n"
      ],
      "execution_count": 1,
      "outputs": []
    },
    {
      "cell_type": "markdown",
      "metadata": {
        "id": "TVDMzcMtvHh2"
      },
      "source": [
        "### Define Metrics"
      ]
    },
    {
      "cell_type": "code",
      "metadata": {
        "id": "Oj2l_sYhvHh3"
      },
      "source": [
        "def display_metrics(y_test, y_pred, label_names):\n",
        "  print('\\nAccuracy: {:.2f}\\n'.format(accuracy_score(y_test, y_pred)))\n",
        "\n",
        "  print('Micro Precision: {:.2f}'.format(precision_score(y_test, y_pred, average='micro')))\n",
        "  print('Micro Recall: {:.2f}'.format(recall_score(y_test, y_pred, average='micro')))\n",
        "  print('Micro F1-score: {:.2f}\\n'.format(f1_score(y_test, y_pred, average='micro')))\n",
        "\n",
        "  print('Macro Precision: {:.2f}'.format(precision_score(y_test, y_pred, average='macro')))\n",
        "  print('Macro Recall: {:.2f}'.format(recall_score(y_test, y_pred, average='macro')))\n",
        "  print('Macro F1-score: {:.2f}\\n'.format(f1_score(y_test, y_pred, average='macro')))\n",
        "\n",
        "  print('Weighted Precision: {:.2f}'.format(precision_score(y_test, y_pred, average='weighted')))\n",
        "  print('Weighted Recall: {:.2f}'.format(recall_score(y_test, y_pred, average='weighted')))\n",
        "  print('Weighted F1-score: {:.2f}'.format(f1_score(y_test, y_pred, average='weighted')))\n",
        "\n",
        "  print('\\nClassification Report\\n')\n",
        "  print(classification_report(y_test, y_pred, target_names=label_names))"
      ],
      "execution_count": 2,
      "outputs": []
    },
    {
      "cell_type": "code",
      "metadata": {
        "id": "G_woGqh6vHh3"
      },
      "source": [
        "def make_value2index(attacks):\n",
        "    #make dictionary\n",
        "    attacks = sorted(attacks)\n",
        "    d = {}\n",
        "    counter=0\n",
        "    for attack in attacks:\n",
        "        d[attack] = counter\n",
        "        counter+=1\n",
        "    return d"
      ],
      "execution_count": 3,
      "outputs": []
    },
    {
      "cell_type": "code",
      "metadata": {
        "id": "-VQTZkE2vHh4"
      },
      "source": [
        "# chganges label from string to integer/index\n",
        "def encode_label(Y_str):\n",
        "    labels_d = make_value2index(np.unique(Y_str))\n",
        "    Y = [labels_d[y_str] for y_str  in Y_str]\n",
        "    Y = np.array(Y)\n",
        "    return np.array(Y)"
      ],
      "execution_count": 4,
      "outputs": []
    },
    {
      "cell_type": "markdown",
      "metadata": {
        "id": "9PTf4KEcvHh4"
      },
      "source": [
        "# 1. Locating CSV files"
      ]
    },
    {
      "cell_type": "code",
      "metadata": {
        "id": "i3pqhY7KvHh4"
      },
      "source": [
        "# All columns\n",
        "col_names = np.array(['dst sport count', 'src dport count', 'dst src count', 'dport count', 'sport count', 'dst host count','src host count','Source Port', 'Destination Port',\n",
        "                      'Protocol', 'Flow Duration', 'Total Fwd Packets', 'Total Backward Packets', 'Total Length of Fwd Packets',\n",
        "                      'Total Length of Bwd Packets', 'Fwd Packet Length Max', 'Fwd Packet Length Min', 'Fwd Packet Length Mean',\n",
        "                      'Fwd Packet Length Std', 'Bwd Packet Length Max', 'Bwd Packet Length Min', 'Bwd Packet Length Mean', 'Bwd Packet Length Std',\n",
        "                      'Flow Bytes/s', 'Flow Packets/s', 'Flow IAT Mean', 'Flow IAT Std', 'Flow IAT Max', 'Flow IAT Min', 'Fwd IAT Total',\n",
        "                      'Fwd IAT Mean', 'Fwd IAT Std', 'Fwd IAT Max', 'Fwd IAT Min', 'Bwd IAT Total', 'Bwd IAT Mean', 'Bwd IAT Std', 'Bwd IAT Max',\n",
        "                      'Bwd IAT Min', 'Fwd PSH Flags', 'Fwd URG Flags', 'Fwd Header Length', 'Bwd Header Length',\n",
        "                      'Fwd Packets/s', 'Bwd Packets/s', 'Min Packet Length', 'Max Packet Length', 'Packet Length Mean', 'Packet Length Std',\n",
        "                      'Packet Length Variance', 'FIN Flag Count', 'SYN Flag Count', 'RST Flag Count', 'PSH Flag Count', 'ACK Flag Count',\n",
        "                      'URG Flag Count', 'CWE Flag Count', 'ECE Flag Count', 'Down/Up Ratio', 'Average Packet Size', 'Avg Fwd Segment Size',\n",
        "                      'Avg Bwd Segment Size','Subflow Fwd Packets', 'Subflow Fwd Bytes',\n",
        "                      'Subflow Bwd Packets', 'Subflow Bwd Bytes', 'Init_Win_bytes_forward', 'Init_Win_bytes_backward',\n",
        "                      'act_data_pkt_fwd', 'min_seg_size_forward', 'Active Mean', 'Active Std', 'Active Max', 'Active Min', 'Idle Mean',\n",
        "                      'Idle Std', 'Idle Max', 'Idle Min', 'Label'])"
      ],
      "execution_count": 5,
      "outputs": []
    },
    {
      "cell_type": "markdown",
      "metadata": {
        "id": "VEsdHohBvHh5"
      },
      "source": [
        "### Option 1. Connect to Google Drive "
      ]
    },
    {
      "cell_type": "code",
      "metadata": {
        "colab": {
          "base_uri": "https://localhost:8080/"
        },
        "id": "1EodQrDevHh6",
        "outputId": "3c29d526-7cf7-471a-cdc7-06d897722a56"
      },
      "source": [
        "from google.colab import drive\n",
        "drive.mount('/content/drive')"
      ],
      "execution_count": 6,
      "outputs": [
        {
          "output_type": "stream",
          "text": [
            "Mounted at /content/drive\n"
          ],
          "name": "stdout"
        }
      ]
    },
    {
      "cell_type": "markdown",
      "metadata": {
        "id": "9tR19XcssG4Y"
      },
      "source": [
        "## Only load the test dataset"
      ]
    },
    {
      "cell_type": "code",
      "metadata": {
        "id": "9t6ZKW00vHh6"
      },
      "source": [
        "test_path = '/content/drive/My Drive/CICIDS2017/test_set_ext78_2.csv'"
      ],
      "execution_count": 7,
      "outputs": []
    },
    {
      "cell_type": "markdown",
      "metadata": {
        "id": "Mpqmwng8vHh6"
      },
      "source": [
        "### Option 2. Connect to Local Machine"
      ]
    },
    {
      "cell_type": "code",
      "metadata": {
        "id": "c2KQvZVOvHh7"
      },
      "source": [
        "test_path = '../data/cicids2017clean/test_set_ext78_2.csv'"
      ],
      "execution_count": null,
      "outputs": []
    },
    {
      "cell_type": "markdown",
      "metadata": {
        "id": "4VfURqRcvHh7"
      },
      "source": [
        "# 2. Loading CSV Dataset"
      ]
    },
    {
      "cell_type": "code",
      "metadata": {
        "colab": {
          "base_uri": "https://localhost:8080/"
        },
        "id": "6QnvIzTyvHh8",
        "outputId": "910421d7-f452-435a-bce1-023e8b786a6b"
      },
      "source": [
        "df_test = pd.read_csv(test_path, names=col_names, skiprows=1)  \n",
        "print('Test set size: ', df_test.shape)"
      ],
      "execution_count": 8,
      "outputs": [
        {
          "output_type": "stream",
          "text": [
            "Test set size:  (188483, 79)\n"
          ],
          "name": "stdout"
        }
      ]
    },
    {
      "cell_type": "code",
      "metadata": {
        "colab": {
          "base_uri": "https://localhost:8080/",
          "height": 338
        },
        "id": "sLiNbCVJZnu8",
        "scrolled": true,
        "outputId": "68ff0806-3b22-471b-b166-0d3dee45f34b"
      },
      "source": [
        "df_test.describe()"
      ],
      "execution_count": null,
      "outputs": [
        {
          "output_type": "execute_result",
          "data": {
            "text/html": [
              "<div>\n",
              "<style scoped>\n",
              "    .dataframe tbody tr th:only-of-type {\n",
              "        vertical-align: middle;\n",
              "    }\n",
              "\n",
              "    .dataframe tbody tr th {\n",
              "        vertical-align: top;\n",
              "    }\n",
              "\n",
              "    .dataframe thead th {\n",
              "        text-align: right;\n",
              "    }\n",
              "</style>\n",
              "<table border=\"1\" class=\"dataframe\">\n",
              "  <thead>\n",
              "    <tr style=\"text-align: right;\">\n",
              "      <th></th>\n",
              "      <th>dst sport count</th>\n",
              "      <th>src dport count</th>\n",
              "      <th>dst src count</th>\n",
              "      <th>dport count</th>\n",
              "      <th>sport count</th>\n",
              "      <th>dst host count</th>\n",
              "      <th>src host count</th>\n",
              "      <th>Source Port</th>\n",
              "      <th>Destination Port</th>\n",
              "      <th>Protocol</th>\n",
              "      <th>...</th>\n",
              "      <th>act_data_pkt_fwd</th>\n",
              "      <th>min_seg_size_forward</th>\n",
              "      <th>Active Mean</th>\n",
              "      <th>Active Std</th>\n",
              "      <th>Active Max</th>\n",
              "      <th>Active Min</th>\n",
              "      <th>Idle Mean</th>\n",
              "      <th>Idle Std</th>\n",
              "      <th>Idle Max</th>\n",
              "      <th>Idle Min</th>\n",
              "    </tr>\n",
              "  </thead>\n",
              "  <tbody>\n",
              "    <tr>\n",
              "      <th>count</th>\n",
              "      <td>188483.000000</td>\n",
              "      <td>188483.000000</td>\n",
              "      <td>188483.000000</td>\n",
              "      <td>188483.000000</td>\n",
              "      <td>188483.000000</td>\n",
              "      <td>188483.000000</td>\n",
              "      <td>188483.000000</td>\n",
              "      <td>188483.000000</td>\n",
              "      <td>188483.000000</td>\n",
              "      <td>188483.000000</td>\n",
              "      <td>...</td>\n",
              "      <td>188483.000000</td>\n",
              "      <td>1.884830e+05</td>\n",
              "      <td>1.884830e+05</td>\n",
              "      <td>1.884830e+05</td>\n",
              "      <td>1.884830e+05</td>\n",
              "      <td>1.884830e+05</td>\n",
              "      <td>1.884830e+05</td>\n",
              "      <td>1.884830e+05</td>\n",
              "      <td>1.884830e+05</td>\n",
              "      <td>1.884830e+05</td>\n",
              "    </tr>\n",
              "    <tr>\n",
              "      <th>mean</th>\n",
              "      <td>9.625308</td>\n",
              "      <td>37.861701</td>\n",
              "      <td>49.864025</td>\n",
              "      <td>48.026984</td>\n",
              "      <td>10.434315</td>\n",
              "      <td>55.607434</td>\n",
              "      <td>57.249322</td>\n",
              "      <td>42825.772430</td>\n",
              "      <td>6398.028565</td>\n",
              "      <td>8.699867</td>\n",
              "      <td>...</td>\n",
              "      <td>3.475565</td>\n",
              "      <td>-4.185286e+02</td>\n",
              "      <td>8.921930e+04</td>\n",
              "      <td>3.533351e+04</td>\n",
              "      <td>1.448189e+05</td>\n",
              "      <td>6.831514e+04</td>\n",
              "      <td>1.412079e+07</td>\n",
              "      <td>8.001563e+05</td>\n",
              "      <td>1.473072e+07</td>\n",
              "      <td>1.352238e+07</td>\n",
              "    </tr>\n",
              "    <tr>\n",
              "      <th>std</th>\n",
              "      <td>25.759133</td>\n",
              "      <td>40.995800</td>\n",
              "      <td>44.175627</td>\n",
              "      <td>39.217990</td>\n",
              "      <td>25.916640</td>\n",
              "      <td>41.132627</td>\n",
              "      <td>40.537490</td>\n",
              "      <td>19694.807197</td>\n",
              "      <td>16123.799361</td>\n",
              "      <td>4.737968</td>\n",
              "      <td>...</td>\n",
              "      <td>355.424245</td>\n",
              "      <td>1.932191e+05</td>\n",
              "      <td>6.619472e+05</td>\n",
              "      <td>3.716482e+05</td>\n",
              "      <td>9.742883e+05</td>\n",
              "      <td>5.992893e+05</td>\n",
              "      <td>3.123964e+07</td>\n",
              "      <td>5.987927e+06</td>\n",
              "      <td>3.206597e+07</td>\n",
              "      <td>3.101737e+07</td>\n",
              "    </tr>\n",
              "    <tr>\n",
              "      <th>min</th>\n",
              "      <td>1.000000</td>\n",
              "      <td>1.000000</td>\n",
              "      <td>1.000000</td>\n",
              "      <td>1.000000</td>\n",
              "      <td>1.000000</td>\n",
              "      <td>1.000000</td>\n",
              "      <td>1.000000</td>\n",
              "      <td>0.000000</td>\n",
              "      <td>0.000000</td>\n",
              "      <td>0.000000</td>\n",
              "      <td>...</td>\n",
              "      <td>0.000000</td>\n",
              "      <td>-8.388531e+07</td>\n",
              "      <td>0.000000e+00</td>\n",
              "      <td>0.000000e+00</td>\n",
              "      <td>0.000000e+00</td>\n",
              "      <td>0.000000e+00</td>\n",
              "      <td>0.000000e+00</td>\n",
              "      <td>0.000000e+00</td>\n",
              "      <td>0.000000e+00</td>\n",
              "      <td>0.000000e+00</td>\n",
              "    </tr>\n",
              "    <tr>\n",
              "      <th>25%</th>\n",
              "      <td>1.000000</td>\n",
              "      <td>1.000000</td>\n",
              "      <td>4.000000</td>\n",
              "      <td>2.000000</td>\n",
              "      <td>1.000000</td>\n",
              "      <td>8.000000</td>\n",
              "      <td>11.000000</td>\n",
              "      <td>35960.000000</td>\n",
              "      <td>53.000000</td>\n",
              "      <td>6.000000</td>\n",
              "      <td>...</td>\n",
              "      <td>0.000000</td>\n",
              "      <td>2.000000e+01</td>\n",
              "      <td>0.000000e+00</td>\n",
              "      <td>0.000000e+00</td>\n",
              "      <td>0.000000e+00</td>\n",
              "      <td>0.000000e+00</td>\n",
              "      <td>0.000000e+00</td>\n",
              "      <td>0.000000e+00</td>\n",
              "      <td>0.000000e+00</td>\n",
              "      <td>0.000000e+00</td>\n",
              "    </tr>\n",
              "    <tr>\n",
              "      <th>50%</th>\n",
              "      <td>1.000000</td>\n",
              "      <td>16.000000</td>\n",
              "      <td>37.000000</td>\n",
              "      <td>48.000000</td>\n",
              "      <td>1.000000</td>\n",
              "      <td>60.000000</td>\n",
              "      <td>64.000000</td>\n",
              "      <td>50181.000000</td>\n",
              "      <td>80.000000</td>\n",
              "      <td>6.000000</td>\n",
              "      <td>...</td>\n",
              "      <td>1.000000</td>\n",
              "      <td>2.400000e+01</td>\n",
              "      <td>0.000000e+00</td>\n",
              "      <td>0.000000e+00</td>\n",
              "      <td>0.000000e+00</td>\n",
              "      <td>0.000000e+00</td>\n",
              "      <td>0.000000e+00</td>\n",
              "      <td>0.000000e+00</td>\n",
              "      <td>0.000000e+00</td>\n",
              "      <td>0.000000e+00</td>\n",
              "    </tr>\n",
              "    <tr>\n",
              "      <th>75%</th>\n",
              "      <td>2.000000</td>\n",
              "      <td>95.000000</td>\n",
              "      <td>99.000000</td>\n",
              "      <td>96.000000</td>\n",
              "      <td>2.000000</td>\n",
              "      <td>99.000000</td>\n",
              "      <td>99.000000</td>\n",
              "      <td>57348.000000</td>\n",
              "      <td>443.000000</td>\n",
              "      <td>6.000000</td>\n",
              "      <td>...</td>\n",
              "      <td>2.000000</td>\n",
              "      <td>3.200000e+01</td>\n",
              "      <td>0.000000e+00</td>\n",
              "      <td>0.000000e+00</td>\n",
              "      <td>0.000000e+00</td>\n",
              "      <td>0.000000e+00</td>\n",
              "      <td>5.281430e+06</td>\n",
              "      <td>0.000000e+00</td>\n",
              "      <td>5.282144e+06</td>\n",
              "      <td>5.158305e+06</td>\n",
              "    </tr>\n",
              "    <tr>\n",
              "      <th>max</th>\n",
              "      <td>100.000000</td>\n",
              "      <td>100.000000</td>\n",
              "      <td>100.000000</td>\n",
              "      <td>100.000000</td>\n",
              "      <td>100.000000</td>\n",
              "      <td>100.000000</td>\n",
              "      <td>100.000000</td>\n",
              "      <td>65536.000000</td>\n",
              "      <td>65536.000000</td>\n",
              "      <td>17.000000</td>\n",
              "      <td>...</td>\n",
              "      <td>152621.000000</td>\n",
              "      <td>1.380000e+02</td>\n",
              "      <td>1.070000e+08</td>\n",
              "      <td>4.230000e+07</td>\n",
              "      <td>1.070000e+08</td>\n",
              "      <td>1.070000e+08</td>\n",
              "      <td>1.200000e+08</td>\n",
              "      <td>7.260000e+07</td>\n",
              "      <td>1.200000e+08</td>\n",
              "      <td>1.200000e+08</td>\n",
              "    </tr>\n",
              "  </tbody>\n",
              "</table>\n",
              "<p>8 rows × 78 columns</p>\n",
              "</div>"
            ],
            "text/plain": [
              "       dst sport count  src dport count  dst src count    dport count  \\\n",
              "count    188483.000000    188483.000000  188483.000000  188483.000000   \n",
              "mean          9.625308        37.861701      49.864025      48.026984   \n",
              "std          25.759133        40.995800      44.175627      39.217990   \n",
              "min           1.000000         1.000000       1.000000       1.000000   \n",
              "25%           1.000000         1.000000       4.000000       2.000000   \n",
              "50%           1.000000        16.000000      37.000000      48.000000   \n",
              "75%           2.000000        95.000000      99.000000      96.000000   \n",
              "max         100.000000       100.000000     100.000000     100.000000   \n",
              "\n",
              "         sport count  dst host count  src host count    Source Port  \\\n",
              "count  188483.000000   188483.000000   188483.000000  188483.000000   \n",
              "mean       10.434315       55.607434       57.249322   42825.772430   \n",
              "std        25.916640       41.132627       40.537490   19694.807197   \n",
              "min         1.000000        1.000000        1.000000       0.000000   \n",
              "25%         1.000000        8.000000       11.000000   35960.000000   \n",
              "50%         1.000000       60.000000       64.000000   50181.000000   \n",
              "75%         2.000000       99.000000       99.000000   57348.000000   \n",
              "max       100.000000      100.000000      100.000000   65536.000000   \n",
              "\n",
              "       Destination Port       Protocol  ...  act_data_pkt_fwd  \\\n",
              "count     188483.000000  188483.000000  ...     188483.000000   \n",
              "mean        6398.028565       8.699867  ...          3.475565   \n",
              "std        16123.799361       4.737968  ...        355.424245   \n",
              "min            0.000000       0.000000  ...          0.000000   \n",
              "25%           53.000000       6.000000  ...          0.000000   \n",
              "50%           80.000000       6.000000  ...          1.000000   \n",
              "75%          443.000000       6.000000  ...          2.000000   \n",
              "max        65536.000000      17.000000  ...     152621.000000   \n",
              "\n",
              "       min_seg_size_forward   Active Mean    Active Std    Active Max  \\\n",
              "count          1.884830e+05  1.884830e+05  1.884830e+05  1.884830e+05   \n",
              "mean          -4.185286e+02  8.921930e+04  3.533351e+04  1.448189e+05   \n",
              "std            1.932191e+05  6.619472e+05  3.716482e+05  9.742883e+05   \n",
              "min           -8.388531e+07  0.000000e+00  0.000000e+00  0.000000e+00   \n",
              "25%            2.000000e+01  0.000000e+00  0.000000e+00  0.000000e+00   \n",
              "50%            2.400000e+01  0.000000e+00  0.000000e+00  0.000000e+00   \n",
              "75%            3.200000e+01  0.000000e+00  0.000000e+00  0.000000e+00   \n",
              "max            1.380000e+02  1.070000e+08  4.230000e+07  1.070000e+08   \n",
              "\n",
              "         Active Min     Idle Mean      Idle Std      Idle Max      Idle Min  \n",
              "count  1.884830e+05  1.884830e+05  1.884830e+05  1.884830e+05  1.884830e+05  \n",
              "mean   6.831514e+04  1.412079e+07  8.001563e+05  1.473072e+07  1.352238e+07  \n",
              "std    5.992893e+05  3.123964e+07  5.987927e+06  3.206597e+07  3.101737e+07  \n",
              "min    0.000000e+00  0.000000e+00  0.000000e+00  0.000000e+00  0.000000e+00  \n",
              "25%    0.000000e+00  0.000000e+00  0.000000e+00  0.000000e+00  0.000000e+00  \n",
              "50%    0.000000e+00  0.000000e+00  0.000000e+00  0.000000e+00  0.000000e+00  \n",
              "75%    0.000000e+00  5.281430e+06  0.000000e+00  5.282144e+06  5.158305e+06  \n",
              "max    1.070000e+08  1.200000e+08  7.260000e+07  1.200000e+08  1.200000e+08  \n",
              "\n",
              "[8 rows x 78 columns]"
            ]
          },
          "metadata": {
            "tags": []
          },
          "execution_count": 8
        }
      ]
    },
    {
      "cell_type": "markdown",
      "metadata": {
        "id": "ggW3inf1cWQL"
      },
      "source": [
        "## For Decision tree and random forest models, we use unnormalized data set"
      ]
    },
    {
      "cell_type": "code",
      "metadata": {
        "id": "6ZStnP4bcWQL"
      },
      "source": [
        "df_test_origin = df_test.copy()"
      ],
      "execution_count": 9,
      "outputs": []
    },
    {
      "cell_type": "markdown",
      "metadata": {
        "id": "tx2egxmFsG4a"
      },
      "source": [
        "# 3. Adding Is_Http Feature"
      ]
    },
    {
      "cell_type": "code",
      "metadata": {
        "id": "WD6fMom_sG4a"
      },
      "source": [
        "http_port = [80, 8080, 443]"
      ],
      "execution_count": 10,
      "outputs": []
    },
    {
      "cell_type": "code",
      "metadata": {
        "id": "dmC6rZhZsG4a"
      },
      "source": [
        "df_test.insert(1, \"is_http\", \"\")"
      ],
      "execution_count": 11,
      "outputs": []
    },
    {
      "cell_type": "code",
      "metadata": {
        "id": "Eh3D8uqVsG4b"
      },
      "source": [
        "for i, row in df_test.iterrows():\n",
        "    if row['Destination Port'] in http_port:\n",
        "        df_test.at[i, 'is_http'] = 1\n",
        "    else:\n",
        "        df_test.at[i, 'is_http'] =  0"
      ],
      "execution_count": 12,
      "outputs": []
    },
    {
      "cell_type": "markdown",
      "metadata": {
        "id": "PPRHdJfBvHh8"
      },
      "source": [
        "# 4. Encoding Datasets"
      ]
    },
    {
      "cell_type": "markdown",
      "metadata": {
        "id": "RFZxIp7fvHh9"
      },
      "source": [
        "### Encoding test dataset"
      ]
    },
    {
      "cell_type": "code",
      "metadata": {
        "id": "TgoTgAU0vHh-"
      },
      "source": [
        "df_label = df_test['Label']\n",
        "data = df_test.drop(columns=['Label'])\n",
        "Xtest = data.values\n",
        "y_test = encode_label(df_label.values)"
      ],
      "execution_count": 13,
      "outputs": []
    },
    {
      "cell_type": "code",
      "metadata": {
        "id": "rTJkoOrEcWQO"
      },
      "source": [
        "X_test = Xtest.copy()"
      ],
      "execution_count": 14,
      "outputs": []
    },
    {
      "cell_type": "code",
      "metadata": {
        "id": "qKy0EPracWQO"
      },
      "source": [
        "df_label = df_test_origin['Label']\n",
        "data = df_test_origin.drop(columns=['Label'])\n",
        "X_test_origin = data.values"
      ],
      "execution_count": 15,
      "outputs": []
    },
    {
      "cell_type": "markdown",
      "metadata": {
        "id": "1nGe-QdIvHh_"
      },
      "source": [
        "# 5. Normalization\n",
        "\n",
        "The values of the datasets are normalized using the Min-Max scaling technique, bringing them all within a range of [0,1]."
      ]
    },
    {
      "cell_type": "code",
      "metadata": {
        "id": "8vxxgXJ2vHh_"
      },
      "source": [
        "from sklearn.preprocessing import MinMaxScaler"
      ],
      "execution_count": 16,
      "outputs": []
    },
    {
      "cell_type": "code",
      "metadata": {
        "colab": {
          "base_uri": "https://localhost:8080/"
        },
        "id": "_qTc3XStvHiB",
        "outputId": "ef2b1aa2-ff0a-451d-ed9c-2e75e71697f3"
      },
      "source": [
        "scaler = MinMaxScaler()\n",
        "X_test_n = scaler.fit_transform(Xtest)\n",
        "X_test_n"
      ],
      "execution_count": 17,
      "outputs": [
        {
          "output_type": "execute_result",
          "data": {
            "text/plain": [
              "array([[0.        , 1.        , 0.96969697, ..., 0.        , 0.71583333,\n",
              "        0.71583333],\n",
              "       [0.        , 1.        , 0.96969697, ..., 0.        , 0.6975    ,\n",
              "        0.6975    ],\n",
              "       [0.        , 0.        , 0.        , ..., 0.        , 0.        ,\n",
              "        0.        ],\n",
              "       ...,\n",
              "       [0.        , 1.        , 0.44444444, ..., 0.        , 0.        ,\n",
              "        0.        ],\n",
              "       [0.        , 0.        , 0.        , ..., 0.        , 0.        ,\n",
              "        0.        ],\n",
              "       [0.        , 0.        , 0.28282828, ..., 0.        , 0.        ,\n",
              "        0.        ]])"
            ]
          },
          "metadata": {
            "tags": []
          },
          "execution_count": 17
        }
      ]
    },
    {
      "cell_type": "markdown",
      "metadata": {
        "id": "kanuAuCgvHiC"
      },
      "source": [
        "# 5. Standardization"
      ]
    },
    {
      "cell_type": "code",
      "metadata": {
        "id": "I-YSggL7vHiC"
      },
      "source": [
        "from sklearn.preprocessing import StandardScaler"
      ],
      "execution_count": 18,
      "outputs": []
    },
    {
      "cell_type": "code",
      "metadata": {
        "colab": {
          "base_uri": "https://localhost:8080/"
        },
        "id": "JjL74X7BvHiD",
        "outputId": "953ce856-1bd3-4154-e25c-7f18900d1b2e"
      },
      "source": [
        "scaler = StandardScaler()\n",
        "\n",
        "X_test_sd = scaler.fit_transform(Xtest)\n",
        "\n",
        "X_test_sd"
      ],
      "execution_count": 19,
      "outputs": [
        {
          "output_type": "execute_result",
          "data": {
            "text/plain": [
              "array([[-0.33484556,  1.02685081,  1.44254915, ..., -0.13362864,\n",
              "         2.21947035,  2.33346054],\n",
              "       [-0.33484556,  1.02685081,  1.44254915, ..., -0.13362864,\n",
              "         2.15086161,  2.26253235],\n",
              "       [-0.33484556, -0.9738513 , -0.89916038, ..., -0.13362864,\n",
              "        -0.45938921, -0.43596284],\n",
              "       ...,\n",
              "       [-0.33484556,  1.02685081,  0.17412315, ..., -0.13362864,\n",
              "        -0.45938921, -0.43596284],\n",
              "       [-0.33484556, -0.9738513 , -0.89916038, ..., -0.13362864,\n",
              "        -0.45938921, -0.43596284],\n",
              "       [-0.33484556, -0.9738513 , -0.21616177, ..., -0.13362864,\n",
              "        -0.45938921, -0.43596284]])"
            ]
          },
          "metadata": {
            "tags": []
          },
          "execution_count": 19
        }
      ]
    },
    {
      "cell_type": "code",
      "metadata": {
        "colab": {
          "base_uri": "https://localhost:8080/"
        },
        "id": "5Rh9pmorcWQQ",
        "outputId": "8931a4e8-a8c8-4b06-d504-4d933a92c871"
      },
      "source": [
        "for index, value in np.ndenumerate(X_test_sd):\n",
        "    X_test_sd[index[0], 1] = X_test_n[index[0], 1]\n",
        " \n",
        "X_test_sd"
      ],
      "execution_count": 20,
      "outputs": [
        {
          "output_type": "execute_result",
          "data": {
            "text/plain": [
              "array([[-0.33484556,  1.        ,  1.44254915, ..., -0.13362864,\n",
              "         2.21947035,  2.33346054],\n",
              "       [-0.33484556,  1.        ,  1.44254915, ..., -0.13362864,\n",
              "         2.15086161,  2.26253235],\n",
              "       [-0.33484556,  0.        , -0.89916038, ..., -0.13362864,\n",
              "        -0.45938921, -0.43596284],\n",
              "       ...,\n",
              "       [-0.33484556,  1.        ,  0.17412315, ..., -0.13362864,\n",
              "        -0.45938921, -0.43596284],\n",
              "       [-0.33484556,  0.        , -0.89916038, ..., -0.13362864,\n",
              "        -0.45938921, -0.43596284],\n",
              "       [-0.33484556,  0.        , -0.21616177, ..., -0.13362864,\n",
              "        -0.45938921, -0.43596284]])"
            ]
          },
          "metadata": {
            "tags": []
          },
          "execution_count": 20
        }
      ]
    },
    {
      "cell_type": "markdown",
      "metadata": {
        "id": "fKNoh26gvHiD"
      },
      "source": [
        "# 6. One-hot Encoding for labels"
      ]
    },
    {
      "cell_type": "code",
      "metadata": {
        "id": "x11iohkMvHiE"
      },
      "source": [
        "from tensorflow.keras.utils import to_categorical"
      ],
      "execution_count": 21,
      "outputs": []
    },
    {
      "cell_type": "code",
      "metadata": {
        "id": "UIEXTGrJvHiE"
      },
      "source": [
        "y_test_origin = y_test"
      ],
      "execution_count": 22,
      "outputs": []
    },
    {
      "cell_type": "code",
      "metadata": {
        "id": "A-ScfKCPvHiF"
      },
      "source": [
        "y_test = to_categorical(y_test, 15)"
      ],
      "execution_count": 23,
      "outputs": []
    },
    {
      "cell_type": "markdown",
      "metadata": {
        "id": "IqTMvyiWvHiF"
      },
      "source": [
        "# 7.  Define the Metrics"
      ]
    },
    {
      "cell_type": "code",
      "metadata": {
        "id": "xzwItRmGvHiF"
      },
      "source": [
        "import tensorflow as tf\n",
        "from sklearn.ensemble import RandomForestClassifier\n",
        "\n",
        "#importing confusion matrix\n",
        "from sklearn.metrics import confusion_matrix\n",
        "from sklearn.metrics import classification_report\n",
        "\n",
        "from sklearn import metrics\n",
        "from sklearn.metrics import accuracy_score\n",
        "\n",
        "#importing accuracy_score, precision_score, recall_score, f1_score\n",
        "from sklearn.metrics import accuracy_score, precision_score, recall_score, f1_score\n",
        "from sklearn.metrics import mean_squared_error,mean_absolute_error"
      ],
      "execution_count": 24,
      "outputs": []
    },
    {
      "cell_type": "code",
      "metadata": {
        "id": "Kv6OxQ-svHiG"
      },
      "source": [
        "METRICS = [\n",
        "      tf.keras.metrics.TruePositives(name='tp'),\n",
        "      tf.keras.metrics.FalsePositives(name='fp'),\n",
        "      tf.keras.metrics.TrueNegatives(name='tn'),\n",
        "      tf.keras.metrics.FalseNegatives(name='fn'), \n",
        "      tf.keras.metrics.BinaryAccuracy(name='accuracy'),\n",
        "      tf.keras.metrics.Precision(name='precision'),\n",
        "      tf.keras.metrics.Recall(name='recall'),\n",
        "      tf.keras.metrics.AUC(name='auc'),\n",
        "]"
      ],
      "execution_count": 25,
      "outputs": []
    },
    {
      "cell_type": "code",
      "metadata": {
        "id": "-kqePe1FvHiG"
      },
      "source": [
        "labels_d = make_value2index(df_test['Label'])"
      ],
      "execution_count": 26,
      "outputs": []
    },
    {
      "cell_type": "code",
      "metadata": {
        "colab": {
          "base_uri": "https://localhost:8080/"
        },
        "id": "6cguiaUjvHiH",
        "scrolled": true,
        "outputId": "b09f8584-1c7a-4623-9a31-9c12501ef8e0"
      },
      "source": [
        "print(labels_d)"
      ],
      "execution_count": 27,
      "outputs": [
        {
          "output_type": "stream",
          "text": [
            "{'BENIGN': 105018, 'Bot': 105298, 'DDoS': 124569, 'DoS GoldenEye': 126111, 'DoS Hulk': 160658, 'DoS Slowhttptest': 161486, 'DoS slowloris': 162320, 'FTP-Patator': 163498, 'Heartbleed': 163500, 'Infiltration': 163501, 'PortScan': 187347, 'SSH-Patator': 188173, 'Web Attack � Brute Force': 188382, 'Web Attack � Sql Injection': 188389, 'Web Attack � XSS': 188482}\n"
          ],
          "name": "stdout"
        }
      ]
    },
    {
      "cell_type": "markdown",
      "metadata": {
        "id": "lG9qqWdKsG4f"
      },
      "source": [
        "## Convert each example as a 8x10 gray image since each example has 79 features by adding a new empty feature  "
      ]
    },
    {
      "cell_type": "code",
      "metadata": {
        "id": "pXR-pyVTsG4f"
      },
      "source": [
        "X_test_enlarge = np.append(X_test_sd, np.zeros([len(X_test_sd),1]),1)"
      ],
      "execution_count": 28,
      "outputs": []
    },
    {
      "cell_type": "code",
      "metadata": {
        "colab": {
          "base_uri": "https://localhost:8080/"
        },
        "id": "R9ASEnzpsG4f",
        "outputId": "85826769-33e3-4aa6-8151-52743f3c31bf"
      },
      "source": [
        "img_row = 8\n",
        "img_col = 10\n",
        "\n",
        "X_test_gray = np.array([x.reshape(img_row, img_col,1) for x in X_test_enlarge])\n",
        "test_gray = np.array([x.reshape(img_row, img_col) for x in X_test_enlarge])\n",
        "\n",
        "X_test_gray.shape"
      ],
      "execution_count": 29,
      "outputs": [
        {
          "output_type": "execute_result",
          "data": {
            "text/plain": [
              "(188483, 8, 10, 1)"
            ]
          },
          "metadata": {
            "tags": []
          },
          "execution_count": 29
        }
      ]
    },
    {
      "cell_type": "markdown",
      "metadata": {
        "id": "xfPa45GrvHiP"
      },
      "source": [
        "# 8.  **Four Model Ensemble**\n",
        "\n",
        "Here, all four models are reinstantiated and the best saved weights are loaded."
      ]
    },
    {
      "cell_type": "code",
      "metadata": {
        "id": "junuitTGvHiQ"
      },
      "source": [
        "from tensorflow.keras.models import load_model\n",
        "import pickle"
      ],
      "execution_count": 30,
      "outputs": []
    },
    {
      "cell_type": "markdown",
      "metadata": {
        "id": "FSGwFd4vsG4h"
      },
      "source": [
        "### First, load the decision tree model without smote"
      ]
    },
    {
      "cell_type": "code",
      "metadata": {
        "colab": {
          "base_uri": "https://localhost:8080/"
        },
        "id": "R67DL7fXsG4i",
        "outputId": "296a240c-2271-4400-b34c-bbf97c17be71"
      },
      "source": [
        "# load the pre-trained model from google drive\n",
        "decisiontree_file_name = '/content/drive/My Drive/CICIDS2017/decisiontree_smote_web.sav'\n",
        "\n",
        "# load the pre-trained model locally\n",
        "# decisiontree_file_name = 'decisiontree_smote_web.sav' \n",
        "decisiontree_model = pickle.load(open(decisiontree_file_name, 'rb'))"
      ],
      "execution_count": 31,
      "outputs": [
        {
          "output_type": "stream",
          "text": [
            "/usr/local/lib/python3.7/dist-packages/sklearn/base.py:318: UserWarning: Trying to unpickle estimator DecisionTreeClassifier from version 0.24.1 when using version 0.22.2.post1. This might lead to breaking code or invalid results. Use at your own risk.\n",
            "  UserWarning)\n"
          ],
          "name": "stderr"
        }
      ]
    },
    {
      "cell_type": "code",
      "metadata": {
        "id": "8aYcBkyosG4k"
      },
      "source": [
        "y_pred_tree = decisiontree_model.predict(X_test_origin)"
      ],
      "execution_count": 32,
      "outputs": []
    },
    {
      "cell_type": "code",
      "metadata": {
        "colab": {
          "base_uri": "https://localhost:8080/"
        },
        "id": "uZVTIfXDcWQU",
        "outputId": "9f6c454b-b726-46db-b7a3-2cb06715aa3f"
      },
      "source": [
        "display_metrics(y_test_origin,  y_pred_tree, labels_d)"
      ],
      "execution_count": 33,
      "outputs": [
        {
          "output_type": "stream",
          "text": [
            "\n",
            "Accuracy: 1.00\n",
            "\n",
            "Micro Precision: 1.00\n",
            "Micro Recall: 1.00\n",
            "Micro F1-score: 1.00\n",
            "\n",
            "Macro Precision: 0.90\n",
            "Macro Recall: 0.97\n",
            "Macro F1-score: 0.93\n",
            "\n",
            "Weighted Precision: 1.00\n",
            "Weighted Recall: 1.00\n",
            "Weighted F1-score: 1.00\n",
            "\n",
            "Classification Report\n",
            "\n",
            "                            precision    recall  f1-score   support\n",
            "\n",
            "                    BENIGN       1.00      1.00      1.00    105019\n",
            "                       Bot       0.98      0.97      0.97       280\n",
            "                      DDoS       1.00      1.00      1.00     19271\n",
            "             DoS GoldenEye       0.99      1.00      1.00      1542\n",
            "                  DoS Hulk       1.00      1.00      1.00     34547\n",
            "          DoS Slowhttptest       1.00      1.00      1.00       828\n",
            "             DoS slowloris       0.99      0.99      0.99       834\n",
            "               FTP-Patator       1.00      1.00      1.00      1178\n",
            "                Heartbleed       0.67      1.00      0.80         2\n",
            "              Infiltration       0.50      1.00      0.67         1\n",
            "                  PortScan       1.00      1.00      1.00     23846\n",
            "               SSH-Patator       1.00      1.00      1.00       826\n",
            "  Web Attack � Brute Force       0.92      0.89      0.91       209\n",
            "Web Attack � Sql Injection       0.75      0.86      0.80         7\n",
            "          Web Attack � XSS       0.75      0.83      0.79        93\n",
            "\n",
            "                  accuracy                           1.00    188483\n",
            "                 macro avg       0.90      0.97      0.93    188483\n",
            "              weighted avg       1.00      1.00      1.00    188483\n",
            "\n"
          ],
          "name": "stdout"
        }
      ]
    },
    {
      "cell_type": "markdown",
      "metadata": {
        "id": "0pkjtFQ-sG4i"
      },
      "source": [
        "### Second, load the random forest model without smote"
      ]
    },
    {
      "cell_type": "code",
      "metadata": {
        "colab": {
          "base_uri": "https://localhost:8080/"
        },
        "id": "TBbeV_VQA_R4",
        "outputId": "56062a88-12a4-457f-d4f8-34b72c696707"
      },
      "source": [
        "# load the pre-trained model from google drive\n",
        "randomforest_file_name = '/content/drive/My Drive/CICIDS2017/randomforest_smote_web.sav'\n",
        "\n",
        "# load the pre-trained model locally\n",
        "# randomforest_file_name = 'randomforest_smote_web.sav'\n",
        "\n",
        "randomforest_model = pickle.load(open(randomforest_file_name, 'rb'))"
      ],
      "execution_count": 34,
      "outputs": [
        {
          "output_type": "stream",
          "text": [
            "/usr/local/lib/python3.7/dist-packages/sklearn/base.py:318: UserWarning: Trying to unpickle estimator DecisionTreeClassifier from version 0.24.1 when using version 0.22.2.post1. This might lead to breaking code or invalid results. Use at your own risk.\n",
            "  UserWarning)\n",
            "/usr/local/lib/python3.7/dist-packages/sklearn/base.py:318: UserWarning: Trying to unpickle estimator RandomForestClassifier from version 0.24.1 when using version 0.22.2.post1. This might lead to breaking code or invalid results. Use at your own risk.\n",
            "  UserWarning)\n"
          ],
          "name": "stderr"
        }
      ]
    },
    {
      "cell_type": "code",
      "metadata": {
        "id": "D4jEY3l9sG4j",
        "scrolled": true
      },
      "source": [
        "y_pred_rf = randomforest_model.predict(X_test_origin)"
      ],
      "execution_count": 35,
      "outputs": []
    },
    {
      "cell_type": "code",
      "metadata": {
        "scrolled": true,
        "colab": {
          "base_uri": "https://localhost:8080/"
        },
        "id": "2e2SANOScWQV",
        "outputId": "6fb489da-ec2a-41ac-86c8-5bfa2871edda"
      },
      "source": [
        "display_metrics(y_test_origin,  np.argmax(y_pred_rf, axis = 1), labels_d)"
      ],
      "execution_count": 36,
      "outputs": [
        {
          "output_type": "stream",
          "text": [
            "\n",
            "Accuracy: 1.00\n",
            "\n",
            "Micro Precision: 1.00\n",
            "Micro Recall: 1.00\n",
            "Micro F1-score: 1.00\n",
            "\n",
            "Macro Precision: 0.96\n",
            "Macro Recall: 0.92\n",
            "Macro F1-score: 0.93\n",
            "\n",
            "Weighted Precision: 1.00\n",
            "Weighted Recall: 1.00\n",
            "Weighted F1-score: 1.00\n",
            "\n",
            "Classification Report\n",
            "\n",
            "                            precision    recall  f1-score   support\n",
            "\n",
            "                    BENIGN       1.00      1.00      1.00    105019\n",
            "                       Bot       0.97      0.96      0.96       280\n",
            "                      DDoS       1.00      1.00      1.00     19271\n",
            "             DoS GoldenEye       1.00      1.00      1.00      1542\n",
            "                  DoS Hulk       1.00      1.00      1.00     34547\n",
            "          DoS Slowhttptest       1.00      0.99      1.00       828\n",
            "             DoS slowloris       1.00      0.99      0.99       834\n",
            "               FTP-Patator       1.00      1.00      1.00      1178\n",
            "                Heartbleed       1.00      1.00      1.00         2\n",
            "              Infiltration       1.00      1.00      1.00         1\n",
            "                  PortScan       1.00      1.00      1.00     23846\n",
            "               SSH-Patator       1.00      1.00      1.00       826\n",
            "  Web Attack � Brute Force       0.91      0.87      0.89       209\n",
            "Web Attack � Sql Injection       0.67      0.29      0.40         7\n",
            "          Web Attack � XSS       0.81      0.74      0.78        93\n",
            "\n",
            "                  accuracy                           1.00    188483\n",
            "                 macro avg       0.96      0.92      0.93    188483\n",
            "              weighted avg       1.00      1.00      1.00    188483\n",
            "\n"
          ],
          "name": "stdout"
        }
      ]
    },
    {
      "cell_type": "markdown",
      "metadata": {
        "id": "CO5VWsldsG4i"
      },
      "source": [
        "### Third, load the DNN model"
      ]
    },
    {
      "cell_type": "code",
      "metadata": {
        "id": "rbmt1sgnsG4i"
      },
      "source": [
        "# load the pre-trained DNN from google drive\n",
        "dnn_file_name = '/content/drive/My Drive/CICIDS2017/dnn_n_smote_http.h5'\n",
        "\n",
        "# load the model locally\n",
        "# dnn_file_name = 'dnn_n_smote_http.h5'\n",
        "\n",
        "dnn_model = load_model(dnn_file_name, compile = False)"
      ],
      "execution_count": 38,
      "outputs": []
    },
    {
      "cell_type": "code",
      "metadata": {
        "id": "aCRmTB6SsG4k"
      },
      "source": [
        "y_pred_dnn = dnn_model.predict(X_test_n)"
      ],
      "execution_count": 39,
      "outputs": []
    },
    {
      "cell_type": "code",
      "metadata": {
        "scrolled": true,
        "colab": {
          "base_uri": "https://localhost:8080/"
        },
        "id": "RKTauYrKcWQW",
        "outputId": "d3fb8904-455d-4aec-a664-d4d4af5db028"
      },
      "source": [
        "display_metrics(y_test_origin,  np.argmax(y_pred_dnn, axis = 1), labels_d)"
      ],
      "execution_count": 40,
      "outputs": [
        {
          "output_type": "stream",
          "text": [
            "\n",
            "Accuracy: 0.99\n",
            "\n",
            "Micro Precision: 0.99\n",
            "Micro Recall: 0.99\n",
            "Micro F1-score: 0.99\n",
            "\n",
            "Macro Precision: 0.96\n",
            "Macro Recall: 0.96\n",
            "Macro F1-score: 0.96\n",
            "\n",
            "Weighted Precision: 0.99\n",
            "Weighted Recall: 0.99\n",
            "Weighted F1-score: 0.99\n",
            "\n",
            "Classification Report\n",
            "\n",
            "                            precision    recall  f1-score   support\n",
            "\n",
            "                    BENIGN       0.99      1.00      0.99    105019\n",
            "                       Bot       0.98      0.91      0.94       280\n",
            "                      DDoS       1.00      1.00      1.00     19271\n",
            "             DoS GoldenEye       1.00      0.99      1.00      1542\n",
            "                  DoS Hulk       1.00      1.00      1.00     34547\n",
            "          DoS Slowhttptest       0.99      1.00      1.00       828\n",
            "             DoS slowloris       1.00      0.99      0.99       834\n",
            "               FTP-Patator       1.00      1.00      1.00      1178\n",
            "                Heartbleed       1.00      1.00      1.00         2\n",
            "              Infiltration       1.00      1.00      1.00         1\n",
            "                  PortScan       0.99      0.96      0.97     23846\n",
            "               SSH-Patator       1.00      1.00      1.00       826\n",
            "  Web Attack � Brute Force       0.92      0.90      0.91       209\n",
            "Web Attack � Sql Injection       0.71      0.71      0.71         7\n",
            "          Web Attack � XSS       0.80      0.87      0.84        93\n",
            "\n",
            "                  accuracy                           0.99    188483\n",
            "                 macro avg       0.96      0.96      0.96    188483\n",
            "              weighted avg       0.99      0.99      0.99    188483\n",
            "\n"
          ],
          "name": "stdout"
        }
      ]
    },
    {
      "cell_type": "markdown",
      "metadata": {
        "id": "jbohJnCqsG4i"
      },
      "source": [
        "### Finally, load the CNN2D model"
      ]
    },
    {
      "cell_type": "code",
      "metadata": {
        "id": "HiCIU7BivHiR",
        "scrolled": true
      },
      "source": [
        "# load the Random Forest model from disk\n",
        "\n",
        "# load cnn2d model from google drive\n",
        "cnn2d_file_name = \"/content/drive/My Drive/CICIDS2017/cnn2d_http_smote\"\n",
        "\n",
        "# load local model\n",
        "# cnn2d_file_name = 'cnn2d_78_sd_http80_without_normal.h5'\n",
        "import tensorflow as tf\n",
        "   \n",
        "cnn2d_model =  tf.keras.models.load_model(cnn2d_file_name)"
      ],
      "execution_count": 41,
      "outputs": []
    },
    {
      "cell_type": "code",
      "metadata": {
        "id": "y-RlwuqbsG4k"
      },
      "source": [
        "y_pred_cnn = cnn2d_model.predict(X_test_gray)"
      ],
      "execution_count": 42,
      "outputs": []
    },
    {
      "cell_type": "code",
      "metadata": {
        "colab": {
          "base_uri": "https://localhost:8080/"
        },
        "id": "qfxSN0e4cWQW",
        "outputId": "ffabf057-1cb9-46a6-d4d9-0264f0b47e87"
      },
      "source": [
        "display_metrics(y_test_origin,  np.argmax(y_pred_cnn, axis = 1), labels_d)"
      ],
      "execution_count": 43,
      "outputs": [
        {
          "output_type": "stream",
          "text": [
            "\n",
            "Accuracy: 1.00\n",
            "\n",
            "Micro Precision: 1.00\n",
            "Micro Recall: 1.00\n",
            "Micro F1-score: 1.00\n",
            "\n",
            "Macro Precision: 0.96\n",
            "Macro Recall: 0.97\n",
            "Macro F1-score: 0.96\n",
            "\n",
            "Weighted Precision: 1.00\n",
            "Weighted Recall: 1.00\n",
            "Weighted F1-score: 1.00\n",
            "\n",
            "Classification Report\n",
            "\n",
            "                            precision    recall  f1-score   support\n",
            "\n",
            "                    BENIGN       1.00      1.00      1.00    105019\n",
            "                       Bot       0.97      0.97      0.97       280\n",
            "                      DDoS       1.00      1.00      1.00     19271\n",
            "             DoS GoldenEye       1.00      1.00      1.00      1542\n",
            "                  DoS Hulk       1.00      1.00      1.00     34547\n",
            "          DoS Slowhttptest       1.00      1.00      1.00       828\n",
            "             DoS slowloris       1.00      1.00      1.00       834\n",
            "               FTP-Patator       1.00      1.00      1.00      1178\n",
            "                Heartbleed       1.00      1.00      1.00         2\n",
            "              Infiltration       1.00      1.00      1.00         1\n",
            "                  PortScan       0.99      0.99      0.99     23846\n",
            "               SSH-Patator       1.00      1.00      1.00       826\n",
            "  Web Attack � Brute Force       0.97      0.81      0.88       209\n",
            "Web Attack � Sql Injection       0.75      0.86      0.80         7\n",
            "          Web Attack � XSS       0.70      0.96      0.81        93\n",
            "\n",
            "                  accuracy                           1.00    188483\n",
            "                 macro avg       0.96      0.97      0.96    188483\n",
            "              weighted avg       1.00      1.00      1.00    188483\n",
            "\n"
          ],
          "name": "stdout"
        }
      ]
    },
    {
      "cell_type": "markdown",
      "metadata": {
        "id": "3lqvULk4sG4j"
      },
      "source": [
        "# 9. Ensemble results"
      ]
    },
    {
      "cell_type": "markdown",
      "metadata": {
        "id": "W1AxI3kosG4k"
      },
      "source": [
        "Get the max values"
      ]
    },
    {
      "cell_type": "code",
      "metadata": {
        "id": "jZF5YnNcst3u"
      },
      "source": [
        "y_pred_tree_cat = to_categorical(y_pred_tree, 15)"
      ],
      "execution_count": 44,
      "outputs": []
    },
    {
      "cell_type": "code",
      "metadata": {
        "colab": {
          "base_uri": "https://localhost:8080/"
        },
        "id": "PYR0NrJ_ohIV",
        "outputId": "dc862352-a6ce-4bcf-f72f-72f3538ed1a4"
      },
      "source": [
        "results = np.zeros((y_test_origin.shape[0], 15))\n",
        "results = results+y_pred_rf*2 + y_pred_dnn*7 + y_pred_tree_cat*7+y_pred_cnn*5\n",
        "display_metrics(y_test_origin, np.argmax(results, axis = 1) , labels_d)"
      ],
      "execution_count": 71,
      "outputs": [
        {
          "output_type": "stream",
          "text": [
            "\n",
            "Accuracy: 1.00\n",
            "\n",
            "Micro Precision: 1.00\n",
            "Micro Recall: 1.00\n",
            "Micro F1-score: 1.00\n",
            "\n",
            "Macro Precision: 0.99\n",
            "Macro Recall: 0.98\n",
            "Macro F1-score: 0.98\n",
            "\n",
            "Weighted Precision: 1.00\n",
            "Weighted Recall: 1.00\n",
            "Weighted F1-score: 1.00\n",
            "\n",
            "Classification Report\n",
            "\n",
            "                            precision    recall  f1-score   support\n",
            "\n",
            "                    BENIGN       1.00      1.00      1.00    105019\n",
            "                       Bot       0.98      0.97      0.97       280\n",
            "                      DDoS       1.00      1.00      1.00     19271\n",
            "             DoS GoldenEye       1.00      1.00      1.00      1542\n",
            "                  DoS Hulk       1.00      1.00      1.00     34547\n",
            "          DoS Slowhttptest       1.00      1.00      1.00       828\n",
            "             DoS slowloris       1.00      1.00      1.00       834\n",
            "               FTP-Patator       1.00      1.00      1.00      1178\n",
            "                Heartbleed       1.00      1.00      1.00         2\n",
            "              Infiltration       1.00      1.00      1.00         1\n",
            "                  PortScan       1.00      1.00      1.00     23846\n",
            "               SSH-Patator       1.00      1.00      1.00       826\n",
            "  Web Attack � Brute Force       0.96      0.94      0.95       209\n",
            "Web Attack � Sql Injection       1.00      0.86      0.92         7\n",
            "          Web Attack � XSS       0.87      0.89      0.88        93\n",
            "\n",
            "                  accuracy                           1.00    188483\n",
            "                 macro avg       0.99      0.98      0.98    188483\n",
            "              weighted avg       1.00      1.00      1.00    188483\n",
            "\n"
          ],
          "name": "stdout"
        }
      ]
    },
    {
      "cell_type": "markdown",
      "metadata": {
        "id": "9rNnA7pQvHib"
      },
      "source": [
        "## Conclusion\n",
        "\n",
        " "
      ]
    },
    {
      "cell_type": "code",
      "metadata": {
        "id": "B0JTJHOivGRW"
      },
      "source": [
        ""
      ],
      "execution_count": null,
      "outputs": []
    }
  ]
}