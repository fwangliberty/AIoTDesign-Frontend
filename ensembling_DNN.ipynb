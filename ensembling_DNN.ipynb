{
  "nbformat": 4,
  "nbformat_minor": 0,
  "metadata": {
    "kernelspec": {
      "display_name": "Python 3",
      "language": "python",
      "name": "python3"
    },
    "language_info": {
      "codemirror_mode": {
        "name": "ipython",
        "version": 3
      },
      "file_extension": ".py",
      "mimetype": "text/x-python",
      "name": "python",
      "nbconvert_exporter": "python",
      "pygments_lexer": "ipython3",
      "version": "3.7.4"
    },
    "colab": {
      "name": "ensembling_DNN.ipynb",
      "provenance": [],
      "collapsed_sections": [
        "ZgVEe3QZvHiZ",
        "c_U4bYUOvHia",
        "9rNnA7pQvHib"
      ],
      "include_colab_link": true
    },
    "accelerator": "GPU"
  },
  "cells": [
    {
      "cell_type": "markdown",
      "metadata": {
        "id": "view-in-github",
        "colab_type": "text"
      },
      "source": [
        "<a href=\"https://colab.research.google.com/github/fwangliberty/AIoTDesign-Frontend/blob/master/ensembling_DNN.ipynb\" target=\"_parent\"><img src=\"https://colab.research.google.com/assets/colab-badge.svg\" alt=\"Open In Colab\"/></a>"
      ]
    },
    {
      "cell_type": "markdown",
      "metadata": {
        "id": "5CMLJRSjvHhy"
      },
      "source": [
        "# Ensembling DNN, Random Forest and DecisionTree based on Normalization and Standardization Datasets\n",
        "\n",
        "\n",
        "We will use the same DNN model, Random Forest and Decision Tree to classify network anormalies in CICIDS2017 dataset. More specifically, the dataset has been augmented by adding 7 new connection based features. We will use normalized and standardized datasets to train the DNN model. Random Foresty model is not sensitive to the normalization method. Then each model will be evaluated using the test set with the corresponding normalized dataset. After that, we put all two models in an ensemble and evaluate it. It is expected that the ensemble will perform better on a test set that any single model in the ensemble separately.\n",
        "\n",
        "There are many different types of ensembles; stacking is one of them. It is one of the more general types and can theoretically represent any other ensemble technique. Stacking involves training a learning algorithm to combine the predictions of several other learning algorithms. For the sake of this example, I will use one of the simplest forms of Stacking, which involves taking an average of outputs of models in the ensemble. Since averaging doesn't take any parameters, there is no need to train this ensemble (only its models)."
      ]
    },
    {
      "cell_type": "markdown",
      "metadata": {
        "id": "_Oxcy4_5vHh1"
      },
      "source": [
        "## Preparing the data\n",
        "First, import dependencies."
      ]
    },
    {
      "cell_type": "code",
      "metadata": {
        "scrolled": true,
        "id": "4pwXf8xYvHh1"
      },
      "source": [
        "from keras.callbacks import History\n",
        "from keras.callbacks import ModelCheckpoint, TensorBoard\n",
        "from keras.engine import training\n",
        "from keras.layers import Conv2D, MaxPooling2D, GlobalAveragePooling2D, Dropout, Activation, Average\n",
        "from keras.losses import categorical_crossentropy\n",
        "from keras.models import Model, Input\n",
        "from keras.optimizers import Adam\n",
        "from keras.utils import to_categorical\n",
        "from tensorflow.python.framework.ops import Tensor\n",
        "from typing import Tuple, List\n",
        "import glob\n",
        "import numpy as np\n",
        "import os\n",
        "from os.path import join\n",
        "import pandas as pd\n",
        "import numpy as np\n",
        "import time\n",
        "import seaborn as sns\n",
        "import matplotlib.pyplot as plt\n"
      ],
      "execution_count": 1,
      "outputs": []
    },
    {
      "cell_type": "markdown",
      "metadata": {
        "id": "TVDMzcMtvHh2"
      },
      "source": [
        "### Define Metrics"
      ]
    },
    {
      "cell_type": "code",
      "metadata": {
        "id": "Oj2l_sYhvHh3"
      },
      "source": [
        "def display_metrics(y_test, y_pred, label_names):\n",
        "  print('\\nAccuracy: {:.2f}\\n'.format(accuracy_score(y_test, y_pred)))\n",
        "\n",
        "  print('Micro Precision: {:.2f}'.format(precision_score(y_test, y_pred, average='micro')))\n",
        "  print('Micro Recall: {:.2f}'.format(recall_score(y_test, y_pred, average='micro')))\n",
        "  print('Micro F1-score: {:.2f}\\n'.format(f1_score(y_test, y_pred, average='micro')))\n",
        "\n",
        "  print('Macro Precision: {:.2f}'.format(precision_score(y_test, y_pred, average='macro')))\n",
        "  print('Macro Recall: {:.2f}'.format(recall_score(y_test, y_pred, average='macro')))\n",
        "  print('Macro F1-score: {:.2f}\\n'.format(f1_score(y_test, y_pred, average='macro')))\n",
        "\n",
        "  print('Weighted Precision: {:.2f}'.format(precision_score(y_test, y_pred, average='weighted')))\n",
        "  print('Weighted Recall: {:.2f}'.format(recall_score(y_test, y_pred, average='weighted')))\n",
        "  print('Weighted F1-score: {:.2f}'.format(f1_score(y_test, y_pred, average='weighted')))\n",
        "\n",
        "  print('\\nClassification Report\\n')\n",
        "  print(classification_report(y_test, y_pred, target_names=label_names))"
      ],
      "execution_count": 2,
      "outputs": []
    },
    {
      "cell_type": "code",
      "metadata": {
        "id": "G_woGqh6vHh3"
      },
      "source": [
        "def make_value2index(attacks):\n",
        "    #make dictionary\n",
        "    attacks = sorted(attacks)\n",
        "    d = {}\n",
        "    counter=0\n",
        "    for attack in attacks:\n",
        "        d[attack] = counter\n",
        "        counter+=1\n",
        "    return d"
      ],
      "execution_count": 3,
      "outputs": []
    },
    {
      "cell_type": "code",
      "metadata": {
        "id": "-VQTZkE2vHh4"
      },
      "source": [
        "# chganges label from string to integer/index\n",
        "def encode_label(Y_str):\n",
        "    labels_d = make_value2index(np.unique(Y_str))\n",
        "    Y = [labels_d[y_str] for y_str  in Y_str]\n",
        "    Y = np.array(Y)\n",
        "    return np.array(Y)"
      ],
      "execution_count": 4,
      "outputs": []
    },
    {
      "cell_type": "markdown",
      "metadata": {
        "id": "9PTf4KEcvHh4"
      },
      "source": [
        "# 1. Locating CSV files"
      ]
    },
    {
      "cell_type": "code",
      "metadata": {
        "id": "i3pqhY7KvHh4"
      },
      "source": [
        "# All columns\n",
        "col_names = np.array(['dst sport count', 'src dport count', 'dst src count', 'dport count', 'sport count', 'dst host count','src host count','Source Port', 'Destination Port',\n",
        "                      'Protocol', 'Flow Duration', 'Total Fwd Packets', 'Total Backward Packets', 'Total Length of Fwd Packets',\n",
        "                      'Total Length of Bwd Packets', 'Fwd Packet Length Max', 'Fwd Packet Length Min', 'Fwd Packet Length Mean',\n",
        "                      'Fwd Packet Length Std', 'Bwd Packet Length Max', 'Bwd Packet Length Min', 'Bwd Packet Length Mean', 'Bwd Packet Length Std',\n",
        "                      'Flow Bytes/s', 'Flow Packets/s', 'Flow IAT Mean', 'Flow IAT Std', 'Flow IAT Max', 'Flow IAT Min', 'Fwd IAT Total',\n",
        "                      'Fwd IAT Mean', 'Fwd IAT Std', 'Fwd IAT Max', 'Fwd IAT Min', 'Bwd IAT Total', 'Bwd IAT Mean', 'Bwd IAT Std', 'Bwd IAT Max',\n",
        "                      'Bwd IAT Min', 'Fwd PSH Flags', 'Fwd URG Flags', 'Fwd Header Length', 'Bwd Header Length',\n",
        "                      'Fwd Packets/s', 'Bwd Packets/s', 'Min Packet Length', 'Max Packet Length', 'Packet Length Mean', 'Packet Length Std',\n",
        "                      'Packet Length Variance', 'FIN Flag Count', 'SYN Flag Count', 'RST Flag Count', 'PSH Flag Count', 'ACK Flag Count',\n",
        "                      'URG Flag Count', 'CWE Flag Count', 'ECE Flag Count', 'Down/Up Ratio', 'Average Packet Size', 'Avg Fwd Segment Size',\n",
        "                      'Avg Bwd Segment Size','Subflow Fwd Packets', 'Subflow Fwd Bytes',\n",
        "                      'Subflow Bwd Packets', 'Subflow Bwd Bytes', 'Init_Win_bytes_forward', 'Init_Win_bytes_backward',\n",
        "                      'act_data_pkt_fwd', 'min_seg_size_forward', 'Active Mean', 'Active Std', 'Active Max', 'Active Min', 'Idle Mean',\n",
        "                      'Idle Std', 'Idle Max', 'Idle Min', 'Label'])"
      ],
      "execution_count": 5,
      "outputs": []
    },
    {
      "cell_type": "markdown",
      "metadata": {
        "id": "VEsdHohBvHh5"
      },
      "source": [
        "### Option 1. Connect to Google Drive "
      ]
    },
    {
      "cell_type": "code",
      "metadata": {
        "colab": {
          "base_uri": "https://localhost:8080/"
        },
        "id": "1EodQrDevHh6",
        "outputId": "13bdbcaa-521e-4600-c14d-4d7da427e81f"
      },
      "source": [
        "from google.colab import drive\n",
        "drive.mount('/content/drive')"
      ],
      "execution_count": 6,
      "outputs": [
        {
          "output_type": "stream",
          "text": [
            "Mounted at /content/drive\n"
          ],
          "name": "stdout"
        }
      ]
    },
    {
      "cell_type": "code",
      "metadata": {
        "id": "u9NQjXOxvHh6"
      },
      "source": [
        "train_path='/content/drive/My Drive/CICIDS2017/train_set_ext78_2.csv'"
      ],
      "execution_count": 7,
      "outputs": []
    },
    {
      "cell_type": "code",
      "metadata": {
        "id": "9t6ZKW00vHh6"
      },
      "source": [
        "validation_path = '/content/drive/My Drive/CICIDS2017/crossval_set_ext78_2.csv'\n",
        "test_path = '/content/drive/My Drive/CICIDS2017/test_set_ext78_2.csv'"
      ],
      "execution_count": 8,
      "outputs": []
    },
    {
      "cell_type": "markdown",
      "metadata": {
        "id": "Mpqmwng8vHh6"
      },
      "source": [
        "### Option 2. Connect to Local Machine"
      ]
    },
    {
      "cell_type": "code",
      "metadata": {
        "id": "c2KQvZVOvHh7"
      },
      "source": [
        "train_path = '../data/cicids2017clean/train_set_ext78_2.csv'\n",
        "validation_path = '../data/cicids2017clean/crossval_set_ext78_2.csv'\n",
        "test_path = '../data/cicids2017clean/test_set_ext78_2.csv'"
      ],
      "execution_count": null,
      "outputs": []
    },
    {
      "cell_type": "markdown",
      "metadata": {
        "id": "4VfURqRcvHh7"
      },
      "source": [
        "# 2. Loading CSV Datasets"
      ]
    },
    {
      "cell_type": "code",
      "metadata": {
        "id": "cH0K1PybvHh7"
      },
      "source": [
        "# load three csv files generated by mlp4nids (Multi-layer perceptron for network intrusion detection )\n",
        "# first load the train set\n",
        "df_train = pd.read_csv(train_path,names=col_names, skiprows=1)  "
      ],
      "execution_count": 9,
      "outputs": []
    },
    {
      "cell_type": "code",
      "metadata": {
        "colab": {
          "base_uri": "https://localhost:8080/"
        },
        "id": "1rARYe97vHh8",
        "outputId": "15352dac-1ea9-494a-8476-b531f93fa547"
      },
      "source": [
        "print('Train set size: ', df_train.shape)"
      ],
      "execution_count": 10,
      "outputs": [
        {
          "output_type": "stream",
          "text": [
            "Train set size:  (879589, 79)\n"
          ],
          "name": "stdout"
        }
      ]
    },
    {
      "cell_type": "code",
      "metadata": {
        "colab": {
          "base_uri": "https://localhost:8080/"
        },
        "id": "6QnvIzTyvHh8",
        "outputId": "1c6ca1ec-be8e-43a0-c16f-931d2c51830d"
      },
      "source": [
        "df_test = pd.read_csv(test_path, names=col_names, skiprows=1)  \n",
        "print('Test set size: ', df_test.shape)\n",
        "\n",
        "df_val = pd.read_csv(validation_path,names=col_names, skiprows=1)  \n",
        "print('Validation set size: ', df_val.shape)"
      ],
      "execution_count": 11,
      "outputs": [
        {
          "output_type": "stream",
          "text": [
            "Test set size:  (188483, 79)\n",
            "Validation set size:  (188484, 79)\n"
          ],
          "name": "stdout"
        }
      ]
    },
    {
      "cell_type": "markdown",
      "metadata": {
        "id": "PPRHdJfBvHh8"
      },
      "source": [
        "# 3. Encoding Datasets"
      ]
    },
    {
      "cell_type": "markdown",
      "metadata": {
        "id": "8y1IPSDAvHh9"
      },
      "source": [
        "### Encoding train dataset"
      ]
    },
    {
      "cell_type": "code",
      "metadata": {
        "id": "CKTLyGZ7vHh9"
      },
      "source": [
        "df_label = df_train['Label']\n",
        "data = df_train.drop(columns=['Label'])\n",
        "Xtrain = data.values\n",
        "y_train = encode_label(df_label.values)"
      ],
      "execution_count": 83,
      "outputs": []
    },
    {
      "cell_type": "markdown",
      "metadata": {
        "id": "RFZxIp7fvHh9"
      },
      "source": [
        "### Encoding test dataset"
      ]
    },
    {
      "cell_type": "code",
      "metadata": {
        "id": "TgoTgAU0vHh-"
      },
      "source": [
        "df_label = df_test['Label']\n",
        "data = df_test.drop(columns=['Label'])\n",
        "Xtest = data.values\n",
        "y_test = encode_label(df_label.values)"
      ],
      "execution_count": 84,
      "outputs": []
    },
    {
      "cell_type": "markdown",
      "metadata": {
        "id": "MyGH56f7vHh-"
      },
      "source": [
        "### Encoding validation dataset"
      ]
    },
    {
      "cell_type": "code",
      "metadata": {
        "id": "SivIF1stvHh-"
      },
      "source": [
        "df_label = df_val['Label']\n",
        "data = df_val.drop(columns=['Label'])\n",
        "Xval = data.values\n",
        "y_val = encode_label(df_label.values)"
      ],
      "execution_count": 85,
      "outputs": []
    },
    {
      "cell_type": "markdown",
      "metadata": {
        "id": "1nGe-QdIvHh_"
      },
      "source": [
        "# 4. Normalization\n",
        "\n",
        "The values of the datasets are normalized using the Min-Max scaling technique, bringing them all within a range of [0,1]."
      ]
    },
    {
      "cell_type": "code",
      "metadata": {
        "id": "8vxxgXJ2vHh_"
      },
      "source": [
        "from sklearn.preprocessing import MinMaxScaler"
      ],
      "execution_count": 42,
      "outputs": []
    },
    {
      "cell_type": "code",
      "metadata": {
        "colab": {
          "base_uri": "https://localhost:8080/"
        },
        "id": "XuINV8oFvHiA",
        "outputId": "38e2ddd2-dc34-47a9-a498-06dd99019c08"
      },
      "source": [
        "scaler = MinMaxScaler()\n",
        "X_train_n = scaler.fit_transform(Xtrain)\n",
        "X_train_n"
      ],
      "execution_count": 43,
      "outputs": [
        {
          "output_type": "execute_result",
          "data": {
            "text/plain": [
              "array([[0.01010101, 1.        , 1.        , ..., 0.68650794, 0.71416667,\n",
              "        0.10166667],\n",
              "       [0.01010101, 0.22222222, 0.12121212, ..., 0.        , 0.        ,\n",
              "        0.        ],\n",
              "       [0.        , 0.01010101, 0.02020202, ..., 0.        , 0.        ,\n",
              "        0.        ],\n",
              "       ...,\n",
              "       [0.        , 0.12121212, 0.12121212, ..., 0.        , 0.        ,\n",
              "        0.        ],\n",
              "       [0.        , 0.87878788, 0.87878788, ..., 0.        , 0.        ,\n",
              "        0.        ],\n",
              "       [1.        , 0.        , 1.        , ..., 0.        , 0.        ,\n",
              "        0.        ]])"
            ]
          },
          "metadata": {
            "tags": []
          },
          "execution_count": 43
        }
      ]
    },
    {
      "cell_type": "code",
      "metadata": {
        "colab": {
          "base_uri": "https://localhost:8080/"
        },
        "id": "0AtGpK-RvHiA",
        "outputId": "3ad79722-2b7a-4229-9c76-dc4ba76b99fc"
      },
      "source": [
        "X_val_n = scaler.fit_transform(Xval)\n",
        "X_val_n"
      ],
      "execution_count": 44,
      "outputs": [
        {
          "output_type": "execute_result",
          "data": {
            "text/plain": [
              "array([[0.        , 0.32323232, 0.32323232, ..., 0.        , 0.        ,\n",
              "        0.        ],\n",
              "       [0.        , 0.05050505, 0.05050505, ..., 0.        , 0.        ,\n",
              "        0.        ],\n",
              "       [0.02020202, 0.09090909, 0.02020202, ..., 0.        , 0.        ,\n",
              "        0.        ],\n",
              "       ...,\n",
              "       [0.        , 1.        , 1.        , ..., 0.        , 0.        ,\n",
              "        0.        ],\n",
              "       [0.        , 1.        , 1.        , ..., 0.        , 0.        ,\n",
              "        0.        ],\n",
              "       [0.        , 0.        , 0.96969697, ..., 0.        , 0.        ,\n",
              "        0.        ]])"
            ]
          },
          "metadata": {
            "tags": []
          },
          "execution_count": 44
        }
      ]
    },
    {
      "cell_type": "code",
      "metadata": {
        "colab": {
          "base_uri": "https://localhost:8080/"
        },
        "id": "_qTc3XStvHiB",
        "outputId": "4cec06e0-ae8b-438b-cf97-06a59b471793"
      },
      "source": [
        "X_test_n = scaler.fit_transform(Xtest)\n",
        "X_test_n"
      ],
      "execution_count": 45,
      "outputs": [
        {
          "output_type": "execute_result",
          "data": {
            "text/plain": [
              "array([[0.        , 0.96969697, 0.96969697, ..., 0.        , 0.71583333,\n",
              "        0.71583333],\n",
              "       [0.        , 0.96969697, 0.96969697, ..., 0.        , 0.6975    ,\n",
              "        0.6975    ],\n",
              "       [0.        , 0.        , 1.        , ..., 0.        , 0.        ,\n",
              "        0.        ],\n",
              "       ...,\n",
              "       [0.        , 0.44444444, 0.08080808, ..., 0.        , 0.        ,\n",
              "        0.        ],\n",
              "       [0.        , 0.        , 0.78787879, ..., 0.        , 0.        ,\n",
              "        0.        ],\n",
              "       [0.        , 0.28282828, 0.28282828, ..., 0.        , 0.        ,\n",
              "        0.        ]])"
            ]
          },
          "metadata": {
            "tags": []
          },
          "execution_count": 45
        }
      ]
    },
    {
      "cell_type": "markdown",
      "metadata": {
        "id": "kanuAuCgvHiC"
      },
      "source": [
        "# 5. Standardization"
      ]
    },
    {
      "cell_type": "code",
      "metadata": {
        "id": "I-YSggL7vHiC"
      },
      "source": [
        "from sklearn.preprocessing import StandardScaler"
      ],
      "execution_count": 86,
      "outputs": []
    },
    {
      "cell_type": "code",
      "metadata": {
        "colab": {
          "base_uri": "https://localhost:8080/"
        },
        "id": "JjL74X7BvHiD",
        "outputId": "d0359c38-a81e-4466-d037-3a44040ede5b"
      },
      "source": [
        "scaler = StandardScaler()\n",
        "\n",
        "X_train_sd = scaler.fit_transform(Xtrain)\n",
        "X_val_sd = scaler.fit_transform(Xval)\n",
        "X_test_sd = scaler.fit_transform(Xtest)\n",
        "\n",
        "X_train_sd"
      ],
      "execution_count": 87,
      "outputs": [
        {
          "output_type": "execute_result",
          "data": {
            "text/plain": [
              "array([[-0.29659729,  1.51710965,  1.13640038, ...,  8.4581104 ,\n",
              "         2.22140524, -0.0393603 ],\n",
              "       [-0.29659729, -0.36301636, -0.83451004, ..., -0.13390608,\n",
              "        -0.45746381, -0.43398332],\n",
              "       [-0.33534125, -0.87577799, -1.06105146, ..., -0.13390608,\n",
              "        -0.45746381, -0.43398332],\n",
              "       ...,\n",
              "       [-0.33534125, -0.60718856, -0.83451004, ..., -0.13390608,\n",
              "        -0.45746381, -0.43398332],\n",
              "       [-0.33534125,  1.224103  ,  0.86455067, ..., -0.13390608,\n",
              "        -0.45746381, -0.43398332],\n",
              "       [ 3.50031109, -0.90019522,  1.13640038, ..., -0.13390608,\n",
              "        -0.45746381, -0.43398332]])"
            ]
          },
          "metadata": {
            "tags": []
          },
          "execution_count": 87
        }
      ]
    },
    {
      "cell_type": "markdown",
      "metadata": {
        "id": "fKNoh26gvHiD"
      },
      "source": [
        "# 6. One-hot Encoding for labels"
      ]
    },
    {
      "cell_type": "code",
      "metadata": {
        "id": "x11iohkMvHiE"
      },
      "source": [
        "from tensorflow.keras.utils import to_categorical"
      ],
      "execution_count": 48,
      "outputs": []
    },
    {
      "cell_type": "code",
      "metadata": {
        "id": "UIEXTGrJvHiE"
      },
      "source": [
        "y_train_origin = y_train\n",
        "y_test_origin = y_test\n",
        "y_val_origin = y_val"
      ],
      "execution_count": 88,
      "outputs": []
    },
    {
      "cell_type": "code",
      "metadata": {
        "id": "A-ScfKCPvHiF"
      },
      "source": [
        "y_train = to_categorical(y_train, 15)\n",
        "y_test = to_categorical(y_test, 15)\n",
        "y_val = to_categorical(y_val, 15)"
      ],
      "execution_count": 89,
      "outputs": []
    },
    {
      "cell_type": "markdown",
      "metadata": {
        "id": "IqTMvyiWvHiF"
      },
      "source": [
        "# 7.  Define the Metrics"
      ]
    },
    {
      "cell_type": "code",
      "metadata": {
        "id": "xzwItRmGvHiF"
      },
      "source": [
        "import tensorflow as tf\n",
        "from sklearn.ensemble import RandomForestClassifier\n",
        "\n",
        "#importing confusion matrix\n",
        "from sklearn.metrics import confusion_matrix\n",
        "from sklearn.metrics import classification_report\n",
        "\n",
        "from sklearn import metrics\n",
        "from sklearn.metrics import accuracy_score\n",
        "\n",
        "#importing accuracy_score, precision_score, recall_score, f1_score\n",
        "from sklearn.metrics import accuracy_score, precision_score, recall_score, f1_score\n",
        "from sklearn.metrics import mean_squared_error,mean_absolute_error"
      ],
      "execution_count": 51,
      "outputs": []
    },
    {
      "cell_type": "code",
      "metadata": {
        "id": "Kv6OxQ-svHiG"
      },
      "source": [
        "METRICS = [\n",
        "      tf.keras.metrics.TruePositives(name='tp'),\n",
        "      tf.keras.metrics.FalsePositives(name='fp'),\n",
        "      tf.keras.metrics.TrueNegatives(name='tn'),\n",
        "      tf.keras.metrics.FalseNegatives(name='fn'), \n",
        "      tf.keras.metrics.BinaryAccuracy(name='accuracy'),\n",
        "      tf.keras.metrics.Precision(name='precision'),\n",
        "      tf.keras.metrics.Recall(name='recall'),\n",
        "      tf.keras.metrics.AUC(name='auc'),\n",
        "]"
      ],
      "execution_count": 52,
      "outputs": []
    },
    {
      "cell_type": "code",
      "metadata": {
        "id": "-kqePe1FvHiG"
      },
      "source": [
        "labels_d = make_value2index(df_test['Label'])"
      ],
      "execution_count": 53,
      "outputs": []
    },
    {
      "cell_type": "code",
      "metadata": {
        "colab": {
          "base_uri": "https://localhost:8080/"
        },
        "id": "6cguiaUjvHiH",
        "outputId": "b07e1c74-146c-4efb-86d5-aa60ebf0a98c"
      },
      "source": [
        "print(labels_d)"
      ],
      "execution_count": 54,
      "outputs": [
        {
          "output_type": "stream",
          "text": [
            "{'BENIGN': 105018, 'Bot': 105298, 'DDoS': 124569, 'DoS GoldenEye': 126111, 'DoS Hulk': 160658, 'DoS Slowhttptest': 161486, 'DoS slowloris': 162320, 'FTP-Patator': 163498, 'Heartbleed': 163500, 'Infiltration': 163501, 'PortScan': 187347, 'SSH-Patator': 188173, 'Web Attack � Brute Force': 188382, 'Web Attack � Sql Injection': 188389, 'Web Attack � XSS': 188482}\n"
          ],
          "name": "stdout"
        }
      ]
    },
    {
      "cell_type": "markdown",
      "metadata": {
        "id": "F5eyOlt6vHiH"
      },
      "source": [
        "# First model:  Random Foresty with DecisionTree\n",
        "\n",
        "### The first model is Random Foresty with DecisionTree.  "
      ]
    },
    {
      "cell_type": "code",
      "metadata": {
        "id": "obmK6oYrvHiI"
      },
      "source": [
        "randomforest = RandomForestClassifier(n_estimators=10, random_state=10)\n",
        "randomforest.fit(X_train_n,y_train)\n",
        "    \n",
        "y_pred = randomforest.predict(X_test_n)"
      ],
      "execution_count": 27,
      "outputs": []
    },
    {
      "cell_type": "code",
      "metadata": {
        "colab": {
          "base_uri": "https://localhost:8080/"
        },
        "id": "DG8wtFGzvHiI",
        "outputId": "2a2c551c-7f40-47a6-e4f6-d3e5b80eb237"
      },
      "source": [
        "display_metrics(y_test_origin, np.argmax(y_pred, axis = 1), labels_d)"
      ],
      "execution_count": 28,
      "outputs": [
        {
          "output_type": "stream",
          "text": [
            "\n",
            "Accuracy: 0.92\n",
            "\n",
            "Micro Precision: 0.92\n",
            "Micro Recall: 0.92\n",
            "Micro F1-score: 0.92\n",
            "\n",
            "Macro Precision: 0.91\n",
            "Macro Recall: 0.75\n"
          ],
          "name": "stdout"
        },
        {
          "output_type": "stream",
          "text": [
            "/usr/local/lib/python3.6/dist-packages/sklearn/metrics/_classification.py:1272: UndefinedMetricWarning: Precision is ill-defined and being set to 0.0 in labels with no predicted samples. Use `zero_division` parameter to control this behavior.\n",
            "  _warn_prf(average, modifier, msg_start, len(result))\n"
          ],
          "name": "stderr"
        },
        {
          "output_type": "stream",
          "text": [
            "Macro F1-score: 0.80\n",
            "\n",
            "Weighted Precision: 0.93\n",
            "Weighted Recall: 0.92\n",
            "Weighted F1-score: 0.91\n",
            "\n",
            "Classification Report\n",
            "\n"
          ],
          "name": "stdout"
        },
        {
          "output_type": "stream",
          "text": [
            "/usr/local/lib/python3.6/dist-packages/sklearn/metrics/_classification.py:1272: UndefinedMetricWarning: Precision and F-score are ill-defined and being set to 0.0 in labels with no predicted samples. Use `zero_division` parameter to control this behavior.\n",
            "  _warn_prf(average, modifier, msg_start, len(result))\n"
          ],
          "name": "stderr"
        },
        {
          "output_type": "stream",
          "text": [
            "                            precision    recall  f1-score   support\n",
            "\n",
            "                    BENIGN       0.88      1.00      0.93    105019\n",
            "                       Bot       0.94      0.18      0.31       280\n",
            "                      DDoS       1.00      0.91      0.95     19271\n",
            "             DoS GoldenEye       1.00      0.92      0.96      1542\n",
            "                  DoS Hulk       1.00      1.00      1.00     34547\n",
            "          DoS Slowhttptest       1.00      0.99      0.99       828\n",
            "             DoS slowloris       1.00      0.90      0.95       834\n",
            "               FTP-Patator       1.00      0.53      0.69      1178\n",
            "                Heartbleed       1.00      1.00      1.00         2\n",
            "              Infiltration       1.00      1.00      1.00         1\n",
            "                  PortScan       1.00      0.51      0.68     23846\n",
            "               SSH-Patator       1.00      0.99      1.00       826\n",
            "  Web Attack � Brute Force       0.91      0.75      0.82       209\n",
            "Web Attack � Sql Injection       0.00      0.00      0.00         7\n",
            "          Web Attack � XSS       0.87      0.56      0.68        93\n",
            "\n",
            "                  accuracy                           0.92    188483\n",
            "                 macro avg       0.91      0.75      0.80    188483\n",
            "              weighted avg       0.93      0.92      0.91    188483\n",
            "\n"
          ],
          "name": "stdout"
        }
      ]
    },
    {
      "cell_type": "markdown",
      "metadata": {
        "id": "u-18zZ9kvHiI"
      },
      "source": [
        "### Save the model to disk"
      ]
    },
    {
      "cell_type": "code",
      "metadata": {
        "id": "YuVWGGUNvHiJ"
      },
      "source": [
        "import pickle\n",
        "\n",
        "randomforest_file_name = 'randomforest.sav'\n",
        "pickle.dump(randomforest, open(randomforest_file_name, 'wb'))"
      ],
      "execution_count": 29,
      "outputs": []
    },
    {
      "cell_type": "markdown",
      "metadata": {
        "id": "UAdD5z_p8QA2"
      },
      "source": [
        "# Second Model: Decision Tree Classifier"
      ]
    },
    {
      "cell_type": "code",
      "metadata": {
        "id": "dJDkM2Qf8Wlb"
      },
      "source": [
        "from sklearn.tree import DecisionTreeClassifier"
      ],
      "execution_count": 101,
      "outputs": []
    },
    {
      "cell_type": "code",
      "metadata": {
        "colab": {
          "base_uri": "https://localhost:8080/"
        },
        "id": "cQkLnviR8ZJu",
        "outputId": "115e8116-7a6d-4acb-ef4c-812b8b965079"
      },
      "source": [
        "model_dec = DecisionTreeClassifier()\r\n",
        "model_dec.fit(X_train_n, y_train_origin)"
      ],
      "execution_count": 102,
      "outputs": [
        {
          "output_type": "execute_result",
          "data": {
            "text/plain": [
              "DecisionTreeClassifier(ccp_alpha=0.0, class_weight=None, criterion='gini',\n",
              "                       max_depth=None, max_features=None, max_leaf_nodes=None,\n",
              "                       min_impurity_decrease=0.0, min_impurity_split=None,\n",
              "                       min_samples_leaf=1, min_samples_split=2,\n",
              "                       min_weight_fraction_leaf=0.0, presort='deprecated',\n",
              "                       random_state=None, splitter='best')"
            ]
          },
          "metadata": {
            "tags": []
          },
          "execution_count": 102
        }
      ]
    },
    {
      "cell_type": "code",
      "metadata": {
        "id": "BNTaIOR-8fsY"
      },
      "source": [
        "y_pred_tree = model_dec.predict(X_test_n)"
      ],
      "execution_count": 103,
      "outputs": []
    },
    {
      "cell_type": "code",
      "metadata": {
        "colab": {
          "base_uri": "https://localhost:8080/"
        },
        "id": "VUPQ9PjI8kAp",
        "outputId": "874c6746-edb3-41e7-f01f-9507e3fefe8e"
      },
      "source": [
        "display_metrics(y_test_origin, y_pred_tree, labels_d)"
      ],
      "execution_count": 105,
      "outputs": [
        {
          "output_type": "stream",
          "text": [
            "\n",
            "Accuracy: 0.99\n",
            "\n",
            "Micro Precision: 0.99\n",
            "Micro Recall: 0.99\n",
            "Micro F1-score: 0.99\n",
            "\n",
            "Macro Precision: 0.86\n",
            "Macro Recall: 0.93\n",
            "Macro F1-score: 0.88\n",
            "\n",
            "Weighted Precision: 0.99\n",
            "Weighted Recall: 0.99\n",
            "Weighted F1-score: 0.99\n",
            "\n",
            "Classification Report\n",
            "\n",
            "                            precision    recall  f1-score   support\n",
            "\n",
            "                    BENIGN       0.99      1.00      1.00    105019\n",
            "                       Bot       0.69      0.97      0.81       280\n",
            "                      DDoS       0.97      0.97      0.97     19271\n",
            "             DoS GoldenEye       0.95      1.00      0.97      1542\n",
            "                  DoS Hulk       1.00      0.98      0.99     34547\n",
            "          DoS Slowhttptest       0.95      0.97      0.96       828\n",
            "             DoS slowloris       0.88      0.89      0.88       834\n",
            "               FTP-Patator       1.00      1.00      1.00      1178\n",
            "                Heartbleed       0.67      1.00      0.80         2\n",
            "              Infiltration       0.50      1.00      0.67         1\n",
            "                  PortScan       1.00      1.00      1.00     23846\n",
            "               SSH-Patator       1.00      1.00      1.00       826\n",
            "  Web Attack � Brute Force       0.90      0.86      0.88       209\n",
            "Web Attack � Sql Injection       0.60      0.43      0.50         7\n",
            "          Web Attack � XSS       0.83      0.83      0.83        93\n",
            "\n",
            "                  accuracy                           0.99    188483\n",
            "                 macro avg       0.86      0.93      0.88    188483\n",
            "              weighted avg       0.99      0.99      0.99    188483\n",
            "\n"
          ],
          "name": "stdout"
        }
      ]
    },
    {
      "cell_type": "markdown",
      "metadata": {
        "id": "ROgwrDmQ9cgX"
      },
      "source": [
        "### Save the model"
      ]
    },
    {
      "cell_type": "code",
      "metadata": {
        "id": "qACJ2DYE9edG"
      },
      "source": [
        "decisiontree_file_name = 'decisiontree.sav'\r\n",
        "pickle.dump(model_dec, open(decisiontree_file_name, 'wb'))"
      ],
      "execution_count": 106,
      "outputs": []
    },
    {
      "cell_type": "markdown",
      "metadata": {
        "id": "lmBgmq-5vHiJ"
      },
      "source": [
        "# Third model: DNN Model"
      ]
    },
    {
      "cell_type": "markdown",
      "metadata": {
        "id": "9q0J7sT1vHiK"
      },
      "source": [
        "We will train the same DNN model by using the same dataset with different normalization methods."
      ]
    },
    {
      "cell_type": "code",
      "metadata": {
        "id": "uVuGumxtvHiK"
      },
      "source": [
        "def make_model(X_train, y_train, output_bias=None):\n",
        "  if output_bias is not None:\n",
        "    output_bias = tf.keras.initializers.Constant(output_bias)\n",
        "  model = tf.keras.Sequential([\n",
        "      tf.keras.layers.Dense(\n",
        "          256, activation='relu',\n",
        "          input_shape=(X_train.shape[-1],)),\n",
        "      tf.keras.layers.Dense(256, activation ='relu'),\n",
        "      tf.keras.layers.Dense(128, activation ='relu'),\n",
        "      tf.keras.layers.Dense(64, activation ='relu'),\n",
        "      tf.keras.layers.Dense(y_train.shape[-1], activation='softmax',\n",
        "                         bias_initializer=output_bias),\n",
        "  ])\n",
        "\n",
        "  model.compile(\n",
        "      optimizer=tf.keras.optimizers.Adam(lr=1e-4),\n",
        "      loss=tf.keras.losses.BinaryCrossentropy(),\n",
        "      metrics=METRICS)\n",
        "    \n",
        "  return model"
      ],
      "execution_count": 120,
      "outputs": []
    },
    {
      "cell_type": "markdown",
      "metadata": {
        "id": "6pXsBcHRvHiK"
      },
      "source": [
        "We use normalized dataset to train this DNN model."
      ]
    },
    {
      "cell_type": "code",
      "metadata": {
        "id": "ZwumLkEkvHiL"
      },
      "source": [
        "model_dnn_n = make_model(X_train_n, y_train)\n",
        "model_dnn_sd = make_model(X_train_sd, y_train) "
      ],
      "execution_count": 115,
      "outputs": []
    },
    {
      "cell_type": "markdown",
      "metadata": {
        "id": "9HC-0kS2vHiM"
      },
      "source": [
        "### Train the first DNN model with normalized dataset"
      ]
    },
    {
      "cell_type": "code",
      "metadata": {
        "id": "IHpAEUAEvHiL"
      },
      "source": [
        "EPOCHS = 100\n",
        "BATCH_SIZE = 9500"
      ],
      "execution_count": 107,
      "outputs": []
    },
    {
      "cell_type": "code",
      "metadata": {
        "colab": {
          "base_uri": "https://localhost:8080/"
        },
        "id": "9x2Z6Gv-vHiM",
        "outputId": "a6c0fc4c-93e2-4d42-86a6-281cba3e36e0"
      },
      "source": [
        "baseline_history_n = model_dnn_n.fit(\n",
        "    X_train_n,\n",
        "    y_train,\n",
        "    batch_size=BATCH_SIZE,\n",
        "    epochs=EPOCHS,\n",
        "    validation_data=(X_val_n, y_val))"
      ],
      "execution_count": 59,
      "outputs": [
        {
          "output_type": "stream",
          "text": [
            "Epoch 1/100\n",
            "98/98 [==============================] - 3s 26ms/step - loss: 0.0034 - tp: 872230.0000 - fp: 7170.0000 - tn: 12307076.0000 - fn: 7359.0000 - accuracy: 0.9989 - precision: 0.9918 - recall: 0.9916 - auc: 0.9989 - val_loss: 0.0036 - val_tp: 186805.0000 - val_fp: 1648.0000 - val_tn: 2637128.0000 - val_fn: 1679.0000 - val_accuracy: 0.9988 - val_precision: 0.9913 - val_recall: 0.9911 - val_auc: 0.9988\n",
            "Epoch 2/100\n",
            "98/98 [==============================] - 2s 25ms/step - loss: 0.0033 - tp: 872255.0000 - fp: 7119.0000 - tn: 12307127.0000 - fn: 7334.0000 - accuracy: 0.9989 - precision: 0.9919 - recall: 0.9917 - auc: 0.9989 - val_loss: 0.0036 - val_tp: 186817.0000 - val_fp: 1632.0000 - val_tn: 2637144.0000 - val_fn: 1667.0000 - val_accuracy: 0.9988 - val_precision: 0.9913 - val_recall: 0.9912 - val_auc: 0.9989\n",
            "Epoch 3/100\n",
            "98/98 [==============================] - 2s 25ms/step - loss: 0.0033 - tp: 872347.0000 - fp: 7040.0000 - tn: 12307206.0000 - fn: 7242.0000 - accuracy: 0.9989 - precision: 0.9920 - recall: 0.9918 - auc: 0.9989 - val_loss: 0.0035 - val_tp: 186815.0000 - val_fp: 1629.0000 - val_tn: 2637147.0000 - val_fn: 1669.0000 - val_accuracy: 0.9988 - val_precision: 0.9914 - val_recall: 0.9911 - val_auc: 0.9988\n",
            "Epoch 4/100\n",
            "98/98 [==============================] - 2s 25ms/step - loss: 0.0033 - tp: 872310.0000 - fp: 7079.0000 - tn: 12307167.0000 - fn: 7279.0000 - accuracy: 0.9989 - precision: 0.9920 - recall: 0.9917 - auc: 0.9989 - val_loss: 0.0035 - val_tp: 186830.0000 - val_fp: 1610.0000 - val_tn: 2637166.0000 - val_fn: 1654.0000 - val_accuracy: 0.9988 - val_precision: 0.9915 - val_recall: 0.9912 - val_auc: 0.9989\n",
            "Epoch 5/100\n",
            "98/98 [==============================] - 2s 25ms/step - loss: 0.0033 - tp: 872414.0000 - fp: 6982.0000 - tn: 12307264.0000 - fn: 7175.0000 - accuracy: 0.9989 - precision: 0.9921 - recall: 0.9918 - auc: 0.9989 - val_loss: 0.0035 - val_tp: 186826.0000 - val_fp: 1618.0000 - val_tn: 2637158.0000 - val_fn: 1658.0000 - val_accuracy: 0.9988 - val_precision: 0.9914 - val_recall: 0.9912 - val_auc: 0.9988\n",
            "Epoch 6/100\n",
            "98/98 [==============================] - 2s 25ms/step - loss: 0.0033 - tp: 872459.0000 - fp: 6931.0000 - tn: 12307315.0000 - fn: 7130.0000 - accuracy: 0.9989 - precision: 0.9921 - recall: 0.9919 - auc: 0.9989 - val_loss: 0.0035 - val_tp: 186867.0000 - val_fp: 1599.0000 - val_tn: 2637177.0000 - val_fn: 1617.0000 - val_accuracy: 0.9989 - val_precision: 0.9915 - val_recall: 0.9914 - val_auc: 0.9989\n",
            "Epoch 7/100\n",
            "98/98 [==============================] - 2s 25ms/step - loss: 0.0033 - tp: 872307.0000 - fp: 7090.0000 - tn: 12307156.0000 - fn: 7282.0000 - accuracy: 0.9989 - precision: 0.9919 - recall: 0.9917 - auc: 0.9990 - val_loss: 0.0035 - val_tp: 186867.0000 - val_fp: 1581.0000 - val_tn: 2637195.0000 - val_fn: 1617.0000 - val_accuracy: 0.9989 - val_precision: 0.9916 - val_recall: 0.9914 - val_auc: 0.9989\n",
            "Epoch 8/100\n",
            "98/98 [==============================] - 3s 26ms/step - loss: 0.0033 - tp: 872380.0000 - fp: 7026.0000 - tn: 12307220.0000 - fn: 7209.0000 - accuracy: 0.9989 - precision: 0.9920 - recall: 0.9918 - auc: 0.9989 - val_loss: 0.0034 - val_tp: 186884.0000 - val_fp: 1557.0000 - val_tn: 2637219.0000 - val_fn: 1600.0000 - val_accuracy: 0.9989 - val_precision: 0.9917 - val_recall: 0.9915 - val_auc: 0.9989\n",
            "Epoch 9/100\n",
            "98/98 [==============================] - 2s 25ms/step - loss: 0.0032 - tp: 872570.0000 - fp: 6847.0000 - tn: 12307399.0000 - fn: 7019.0000 - accuracy: 0.9989 - precision: 0.9922 - recall: 0.9920 - auc: 0.9990 - val_loss: 0.0035 - val_tp: 186854.0000 - val_fp: 1594.0000 - val_tn: 2637182.0000 - val_fn: 1630.0000 - val_accuracy: 0.9989 - val_precision: 0.9915 - val_recall: 0.9914 - val_auc: 0.9989\n",
            "Epoch 10/100\n",
            "98/98 [==============================] - 2s 25ms/step - loss: 0.0032 - tp: 872539.0000 - fp: 6876.0000 - tn: 12307370.0000 - fn: 7050.0000 - accuracy: 0.9989 - precision: 0.9922 - recall: 0.9920 - auc: 0.9989 - val_loss: 0.0033 - val_tp: 186921.0000 - val_fp: 1532.0000 - val_tn: 2637244.0000 - val_fn: 1563.0000 - val_accuracy: 0.9989 - val_precision: 0.9919 - val_recall: 0.9917 - val_auc: 0.9989\n",
            "Epoch 11/100\n",
            "98/98 [==============================] - 2s 25ms/step - loss: 0.0032 - tp: 872570.0000 - fp: 6830.0000 - tn: 12307416.0000 - fn: 7019.0000 - accuracy: 0.9990 - precision: 0.9922 - recall: 0.9920 - auc: 0.9989 - val_loss: 0.0034 - val_tp: 186877.0000 - val_fp: 1569.0000 - val_tn: 2637207.0000 - val_fn: 1607.0000 - val_accuracy: 0.9989 - val_precision: 0.9917 - val_recall: 0.9915 - val_auc: 0.9989\n",
            "Epoch 12/100\n",
            "98/98 [==============================] - 2s 25ms/step - loss: 0.0032 - tp: 872547.0000 - fp: 6860.0000 - tn: 12307386.0000 - fn: 7042.0000 - accuracy: 0.9989 - precision: 0.9922 - recall: 0.9920 - auc: 0.9990 - val_loss: 0.0034 - val_tp: 186910.0000 - val_fp: 1539.0000 - val_tn: 2637237.0000 - val_fn: 1574.0000 - val_accuracy: 0.9989 - val_precision: 0.9918 - val_recall: 0.9916 - val_auc: 0.9990\n",
            "Epoch 13/100\n",
            "98/98 [==============================] - 2s 25ms/step - loss: 0.0032 - tp: 872554.0000 - fp: 6868.0000 - tn: 12307378.0000 - fn: 7035.0000 - accuracy: 0.9989 - precision: 0.9922 - recall: 0.9920 - auc: 0.9990 - val_loss: 0.0034 - val_tp: 186861.0000 - val_fp: 1587.0000 - val_tn: 2637189.0000 - val_fn: 1623.0000 - val_accuracy: 0.9989 - val_precision: 0.9916 - val_recall: 0.9914 - val_auc: 0.9991\n",
            "Epoch 14/100\n",
            "98/98 [==============================] - 2s 25ms/step - loss: 0.0032 - tp: 872636.0000 - fp: 6763.0000 - tn: 12307483.0000 - fn: 6953.0000 - accuracy: 0.9990 - precision: 0.9923 - recall: 0.9921 - auc: 0.9990 - val_loss: 0.0034 - val_tp: 186840.0000 - val_fp: 1606.0000 - val_tn: 2637170.0000 - val_fn: 1644.0000 - val_accuracy: 0.9989 - val_precision: 0.9915 - val_recall: 0.9913 - val_auc: 0.9988\n",
            "Epoch 15/100\n",
            "98/98 [==============================] - 2s 25ms/step - loss: 0.0032 - tp: 872608.0000 - fp: 6791.0000 - tn: 12307455.0000 - fn: 6981.0000 - accuracy: 0.9990 - precision: 0.9923 - recall: 0.9921 - auc: 0.9990 - val_loss: 0.0034 - val_tp: 186922.0000 - val_fp: 1540.0000 - val_tn: 2637236.0000 - val_fn: 1562.0000 - val_accuracy: 0.9989 - val_precision: 0.9918 - val_recall: 0.9917 - val_auc: 0.9990\n",
            "Epoch 16/100\n",
            "98/98 [==============================] - 2s 25ms/step - loss: 0.0031 - tp: 872663.0000 - fp: 6763.0000 - tn: 12307483.0000 - fn: 6926.0000 - accuracy: 0.9990 - precision: 0.9923 - recall: 0.9921 - auc: 0.9990 - val_loss: 0.0034 - val_tp: 186862.0000 - val_fp: 1573.0000 - val_tn: 2637203.0000 - val_fn: 1622.0000 - val_accuracy: 0.9989 - val_precision: 0.9917 - val_recall: 0.9914 - val_auc: 0.9987\n",
            "Epoch 17/100\n",
            "98/98 [==============================] - 2s 25ms/step - loss: 0.0032 - tp: 872647.0000 - fp: 6762.0000 - tn: 12307484.0000 - fn: 6942.0000 - accuracy: 0.9990 - precision: 0.9923 - recall: 0.9921 - auc: 0.9990 - val_loss: 0.0033 - val_tp: 186922.0000 - val_fp: 1521.0000 - val_tn: 2637255.0000 - val_fn: 1562.0000 - val_accuracy: 0.9989 - val_precision: 0.9919 - val_recall: 0.9917 - val_auc: 0.9990\n",
            "Epoch 18/100\n",
            "98/98 [==============================] - 2s 25ms/step - loss: 0.0031 - tp: 872723.0000 - fp: 6688.0000 - tn: 12307558.0000 - fn: 6866.0000 - accuracy: 0.9990 - precision: 0.9924 - recall: 0.9922 - auc: 0.9990 - val_loss: 0.0033 - val_tp: 186954.0000 - val_fp: 1512.0000 - val_tn: 2637264.0000 - val_fn: 1530.0000 - val_accuracy: 0.9989 - val_precision: 0.9920 - val_recall: 0.9919 - val_auc: 0.9990\n",
            "Epoch 19/100\n",
            "98/98 [==============================] - 2s 25ms/step - loss: 0.0032 - tp: 872661.0000 - fp: 6765.0000 - tn: 12307481.0000 - fn: 6928.0000 - accuracy: 0.9990 - precision: 0.9923 - recall: 0.9921 - auc: 0.9990 - val_loss: 0.0032 - val_tp: 186955.0000 - val_fp: 1493.0000 - val_tn: 2637283.0000 - val_fn: 1529.0000 - val_accuracy: 0.9989 - val_precision: 0.9921 - val_recall: 0.9919 - val_auc: 0.9989\n",
            "Epoch 20/100\n",
            "98/98 [==============================] - 2s 25ms/step - loss: 0.0031 - tp: 872750.0000 - fp: 6685.0000 - tn: 12307561.0000 - fn: 6839.0000 - accuracy: 0.9990 - precision: 0.9924 - recall: 0.9922 - auc: 0.9990 - val_loss: 0.0034 - val_tp: 186857.0000 - val_fp: 1587.0000 - val_tn: 2637189.0000 - val_fn: 1627.0000 - val_accuracy: 0.9989 - val_precision: 0.9916 - val_recall: 0.9914 - val_auc: 0.9988\n",
            "Epoch 21/100\n",
            "98/98 [==============================] - 2s 25ms/step - loss: 0.0031 - tp: 872739.0000 - fp: 6706.0000 - tn: 12307540.0000 - fn: 6850.0000 - accuracy: 0.9990 - precision: 0.9924 - recall: 0.9922 - auc: 0.9990 - val_loss: 0.0033 - val_tp: 186931.0000 - val_fp: 1517.0000 - val_tn: 2637259.0000 - val_fn: 1553.0000 - val_accuracy: 0.9989 - val_precision: 0.9920 - val_recall: 0.9918 - val_auc: 0.9991\n",
            "Epoch 22/100\n",
            "98/98 [==============================] - 2s 25ms/step - loss: 0.0031 - tp: 872764.0000 - fp: 6663.0000 - tn: 12307583.0000 - fn: 6825.0000 - accuracy: 0.9990 - precision: 0.9924 - recall: 0.9922 - auc: 0.9990 - val_loss: 0.0033 - val_tp: 186929.0000 - val_fp: 1524.0000 - val_tn: 2637252.0000 - val_fn: 1555.0000 - val_accuracy: 0.9989 - val_precision: 0.9919 - val_recall: 0.9917 - val_auc: 0.9989\n",
            "Epoch 23/100\n",
            "98/98 [==============================] - 2s 25ms/step - loss: 0.0031 - tp: 872864.0000 - fp: 6560.0000 - tn: 12307686.0000 - fn: 6725.0000 - accuracy: 0.9990 - precision: 0.9925 - recall: 0.9924 - auc: 0.9990 - val_loss: 0.0032 - val_tp: 186940.0000 - val_fp: 1496.0000 - val_tn: 2637280.0000 - val_fn: 1544.0000 - val_accuracy: 0.9989 - val_precision: 0.9921 - val_recall: 0.9918 - val_auc: 0.9990\n",
            "Epoch 24/100\n",
            "98/98 [==============================] - 2s 25ms/step - loss: 0.0031 - tp: 872676.0000 - fp: 6751.0000 - tn: 12307495.0000 - fn: 6913.0000 - accuracy: 0.9990 - precision: 0.9923 - recall: 0.9921 - auc: 0.9990 - val_loss: 0.0033 - val_tp: 186899.0000 - val_fp: 1550.0000 - val_tn: 2637226.0000 - val_fn: 1585.0000 - val_accuracy: 0.9989 - val_precision: 0.9918 - val_recall: 0.9916 - val_auc: 0.9988\n",
            "Epoch 25/100\n",
            "98/98 [==============================] - 2s 25ms/step - loss: 0.0030 - tp: 872805.0000 - fp: 6620.0000 - tn: 12307626.0000 - fn: 6784.0000 - accuracy: 0.9990 - precision: 0.9925 - recall: 0.9923 - auc: 0.9990 - val_loss: 0.0034 - val_tp: 186855.0000 - val_fp: 1590.0000 - val_tn: 2637186.0000 - val_fn: 1629.0000 - val_accuracy: 0.9989 - val_precision: 0.9916 - val_recall: 0.9914 - val_auc: 0.9991\n",
            "Epoch 26/100\n",
            "98/98 [==============================] - 2s 25ms/step - loss: 0.0030 - tp: 872895.0000 - fp: 6548.0000 - tn: 12307698.0000 - fn: 6694.0000 - accuracy: 0.9990 - precision: 0.9926 - recall: 0.9924 - auc: 0.9990 - val_loss: 0.0032 - val_tp: 186951.0000 - val_fp: 1503.0000 - val_tn: 2637273.0000 - val_fn: 1533.0000 - val_accuracy: 0.9989 - val_precision: 0.9920 - val_recall: 0.9919 - val_auc: 0.9990\n",
            "Epoch 27/100\n",
            "98/98 [==============================] - 2s 25ms/step - loss: 0.0030 - tp: 872914.0000 - fp: 6527.0000 - tn: 12307719.0000 - fn: 6675.0000 - accuracy: 0.9990 - precision: 0.9926 - recall: 0.9924 - auc: 0.9990 - val_loss: 0.0032 - val_tp: 186986.0000 - val_fp: 1459.0000 - val_tn: 2637317.0000 - val_fn: 1498.0000 - val_accuracy: 0.9990 - val_precision: 0.9923 - val_recall: 0.9921 - val_auc: 0.9989\n",
            "Epoch 28/100\n",
            "98/98 [==============================] - 2s 25ms/step - loss: 0.0030 - tp: 872881.0000 - fp: 6556.0000 - tn: 12307690.0000 - fn: 6708.0000 - accuracy: 0.9990 - precision: 0.9925 - recall: 0.9924 - auc: 0.9990 - val_loss: 0.0032 - val_tp: 186989.0000 - val_fp: 1463.0000 - val_tn: 2637313.0000 - val_fn: 1495.0000 - val_accuracy: 0.9990 - val_precision: 0.9922 - val_recall: 0.9921 - val_auc: 0.9990\n",
            "Epoch 29/100\n",
            "98/98 [==============================] - 2s 25ms/step - loss: 0.0030 - tp: 872825.0000 - fp: 6618.0000 - tn: 12307628.0000 - fn: 6764.0000 - accuracy: 0.9990 - precision: 0.9925 - recall: 0.9923 - auc: 0.9990 - val_loss: 0.0034 - val_tp: 186879.0000 - val_fp: 1556.0000 - val_tn: 2637220.0000 - val_fn: 1605.0000 - val_accuracy: 0.9989 - val_precision: 0.9917 - val_recall: 0.9915 - val_auc: 0.9992\n",
            "Epoch 30/100\n",
            "98/98 [==============================] - 2s 25ms/step - loss: 0.0030 - tp: 872939.0000 - fp: 6496.0000 - tn: 12307750.0000 - fn: 6650.0000 - accuracy: 0.9990 - precision: 0.9926 - recall: 0.9924 - auc: 0.9990 - val_loss: 0.0031 - val_tp: 187006.0000 - val_fp: 1444.0000 - val_tn: 2637332.0000 - val_fn: 1478.0000 - val_accuracy: 0.9990 - val_precision: 0.9923 - val_recall: 0.9922 - val_auc: 0.9989\n",
            "Epoch 31/100\n",
            "98/98 [==============================] - 2s 25ms/step - loss: 0.0030 - tp: 872959.0000 - fp: 6494.0000 - tn: 12307752.0000 - fn: 6630.0000 - accuracy: 0.9990 - precision: 0.9926 - recall: 0.9925 - auc: 0.9990 - val_loss: 0.0032 - val_tp: 186989.0000 - val_fp: 1463.0000 - val_tn: 2637313.0000 - val_fn: 1495.0000 - val_accuracy: 0.9990 - val_precision: 0.9922 - val_recall: 0.9921 - val_auc: 0.9990\n",
            "Epoch 32/100\n",
            "98/98 [==============================] - 2s 25ms/step - loss: 0.0030 - tp: 872916.0000 - fp: 6519.0000 - tn: 12307727.0000 - fn: 6673.0000 - accuracy: 0.9990 - precision: 0.9926 - recall: 0.9924 - auc: 0.9990 - val_loss: 0.0032 - val_tp: 186927.0000 - val_fp: 1527.0000 - val_tn: 2637249.0000 - val_fn: 1557.0000 - val_accuracy: 0.9989 - val_precision: 0.9919 - val_recall: 0.9917 - val_auc: 0.9988\n",
            "Epoch 33/100\n",
            "98/98 [==============================] - 2s 25ms/step - loss: 0.0030 - tp: 872975.0000 - fp: 6476.0000 - tn: 12307770.0000 - fn: 6614.0000 - accuracy: 0.9990 - precision: 0.9926 - recall: 0.9925 - auc: 0.9990 - val_loss: 0.0031 - val_tp: 186991.0000 - val_fp: 1464.0000 - val_tn: 2637312.0000 - val_fn: 1493.0000 - val_accuracy: 0.9990 - val_precision: 0.9922 - val_recall: 0.9921 - val_auc: 0.9989\n",
            "Epoch 34/100\n",
            "98/98 [==============================] - 2s 25ms/step - loss: 0.0030 - tp: 872980.0000 - fp: 6455.0000 - tn: 12307791.0000 - fn: 6609.0000 - accuracy: 0.9990 - precision: 0.9927 - recall: 0.9925 - auc: 0.9990 - val_loss: 0.0031 - val_tp: 187011.0000 - val_fp: 1447.0000 - val_tn: 2637329.0000 - val_fn: 1473.0000 - val_accuracy: 0.9990 - val_precision: 0.9923 - val_recall: 0.9922 - val_auc: 0.9990\n",
            "Epoch 35/100\n",
            "98/98 [==============================] - 2s 25ms/step - loss: 0.0030 - tp: 873021.0000 - fp: 6427.0000 - tn: 12307819.0000 - fn: 6568.0000 - accuracy: 0.9990 - precision: 0.9927 - recall: 0.9925 - auc: 0.9990 - val_loss: 0.0031 - val_tp: 186986.0000 - val_fp: 1458.0000 - val_tn: 2637318.0000 - val_fn: 1498.0000 - val_accuracy: 0.9990 - val_precision: 0.9923 - val_recall: 0.9921 - val_auc: 0.9991\n",
            "Epoch 36/100\n",
            "98/98 [==============================] - 2s 25ms/step - loss: 0.0030 - tp: 872978.0000 - fp: 6476.0000 - tn: 12307770.0000 - fn: 6611.0000 - accuracy: 0.9990 - precision: 0.9926 - recall: 0.9925 - auc: 0.9990 - val_loss: 0.0031 - val_tp: 187004.0000 - val_fp: 1455.0000 - val_tn: 2637321.0000 - val_fn: 1480.0000 - val_accuracy: 0.9990 - val_precision: 0.9923 - val_recall: 0.9921 - val_auc: 0.9989\n",
            "Epoch 37/100\n",
            "98/98 [==============================] - 2s 25ms/step - loss: 0.0029 - tp: 873010.0000 - fp: 6432.0000 - tn: 12307814.0000 - fn: 6579.0000 - accuracy: 0.9990 - precision: 0.9927 - recall: 0.9925 - auc: 0.9990 - val_loss: 0.0031 - val_tp: 187006.0000 - val_fp: 1443.0000 - val_tn: 2637333.0000 - val_fn: 1478.0000 - val_accuracy: 0.9990 - val_precision: 0.9923 - val_recall: 0.9922 - val_auc: 0.9989\n",
            "Epoch 38/100\n",
            "98/98 [==============================] - 2s 25ms/step - loss: 0.0029 - tp: 873062.0000 - fp: 6392.0000 - tn: 12307854.0000 - fn: 6527.0000 - accuracy: 0.9990 - precision: 0.9927 - recall: 0.9926 - auc: 0.9990 - val_loss: 0.0031 - val_tp: 186998.0000 - val_fp: 1463.0000 - val_tn: 2637313.0000 - val_fn: 1486.0000 - val_accuracy: 0.9990 - val_precision: 0.9922 - val_recall: 0.9921 - val_auc: 0.9990\n",
            "Epoch 39/100\n",
            "98/98 [==============================] - 2s 25ms/step - loss: 0.0029 - tp: 872991.0000 - fp: 6456.0000 - tn: 12307790.0000 - fn: 6598.0000 - accuracy: 0.9990 - precision: 0.9927 - recall: 0.9925 - auc: 0.9990 - val_loss: 0.0033 - val_tp: 186860.0000 - val_fp: 1603.0000 - val_tn: 2637173.0000 - val_fn: 1624.0000 - val_accuracy: 0.9989 - val_precision: 0.9915 - val_recall: 0.9914 - val_auc: 0.9988\n",
            "Epoch 40/100\n",
            "98/98 [==============================] - 2s 25ms/step - loss: 0.0029 - tp: 873089.0000 - fp: 6367.0000 - tn: 12307879.0000 - fn: 6500.0000 - accuracy: 0.9990 - precision: 0.9928 - recall: 0.9926 - auc: 0.9990 - val_loss: 0.0031 - val_tp: 186971.0000 - val_fp: 1484.0000 - val_tn: 2637292.0000 - val_fn: 1513.0000 - val_accuracy: 0.9989 - val_precision: 0.9921 - val_recall: 0.9920 - val_auc: 0.9989\n",
            "Epoch 41/100\n",
            "98/98 [==============================] - 2s 25ms/step - loss: 0.0029 - tp: 873076.0000 - fp: 6351.0000 - tn: 12307895.0000 - fn: 6513.0000 - accuracy: 0.9990 - precision: 0.9928 - recall: 0.9926 - auc: 0.9990 - val_loss: 0.0030 - val_tp: 187023.0000 - val_fp: 1437.0000 - val_tn: 2637339.0000 - val_fn: 1461.0000 - val_accuracy: 0.9990 - val_precision: 0.9924 - val_recall: 0.9922 - val_auc: 0.9990\n",
            "Epoch 42/100\n",
            "98/98 [==============================] - 2s 25ms/step - loss: 0.0029 - tp: 873083.0000 - fp: 6366.0000 - tn: 12307880.0000 - fn: 6506.0000 - accuracy: 0.9990 - precision: 0.9928 - recall: 0.9926 - auc: 0.9990 - val_loss: 0.0031 - val_tp: 186981.0000 - val_fp: 1473.0000 - val_tn: 2637303.0000 - val_fn: 1503.0000 - val_accuracy: 0.9989 - val_precision: 0.9922 - val_recall: 0.9920 - val_auc: 0.9989\n",
            "Epoch 43/100\n",
            "98/98 [==============================] - 2s 25ms/step - loss: 0.0029 - tp: 873078.0000 - fp: 6374.0000 - tn: 12307872.0000 - fn: 6511.0000 - accuracy: 0.9990 - precision: 0.9928 - recall: 0.9926 - auc: 0.9990 - val_loss: 0.0031 - val_tp: 187014.0000 - val_fp: 1454.0000 - val_tn: 2637322.0000 - val_fn: 1470.0000 - val_accuracy: 0.9990 - val_precision: 0.9923 - val_recall: 0.9922 - val_auc: 0.9988\n",
            "Epoch 44/100\n",
            "98/98 [==============================] - 2s 25ms/step - loss: 0.0029 - tp: 873164.0000 - fp: 6292.0000 - tn: 12307954.0000 - fn: 6425.0000 - accuracy: 0.9990 - precision: 0.9928 - recall: 0.9927 - auc: 0.9990 - val_loss: 0.0031 - val_tp: 186933.0000 - val_fp: 1514.0000 - val_tn: 2637262.0000 - val_fn: 1551.0000 - val_accuracy: 0.9989 - val_precision: 0.9920 - val_recall: 0.9918 - val_auc: 0.9989\n",
            "Epoch 45/100\n",
            "98/98 [==============================] - 2s 25ms/step - loss: 0.0029 - tp: 873018.0000 - fp: 6426.0000 - tn: 12307820.0000 - fn: 6571.0000 - accuracy: 0.9990 - precision: 0.9927 - recall: 0.9925 - auc: 0.9990 - val_loss: 0.0036 - val_tp: 186757.0000 - val_fp: 1698.0000 - val_tn: 2637078.0000 - val_fn: 1727.0000 - val_accuracy: 0.9988 - val_precision: 0.9910 - val_recall: 0.9908 - val_auc: 0.9991\n",
            "Epoch 46/100\n",
            "98/98 [==============================] - 2s 25ms/step - loss: 0.0029 - tp: 873085.0000 - fp: 6381.0000 - tn: 12307865.0000 - fn: 6504.0000 - accuracy: 0.9990 - precision: 0.9927 - recall: 0.9926 - auc: 0.9990 - val_loss: 0.0030 - val_tp: 186998.0000 - val_fp: 1457.0000 - val_tn: 2637319.0000 - val_fn: 1486.0000 - val_accuracy: 0.9990 - val_precision: 0.9923 - val_recall: 0.9921 - val_auc: 0.9991\n",
            "Epoch 47/100\n",
            "98/98 [==============================] - 2s 25ms/step - loss: 0.0029 - tp: 873191.0000 - fp: 6282.0000 - tn: 12307964.0000 - fn: 6398.0000 - accuracy: 0.9990 - precision: 0.9929 - recall: 0.9927 - auc: 0.9990 - val_loss: 0.0031 - val_tp: 186954.0000 - val_fp: 1490.0000 - val_tn: 2637286.0000 - val_fn: 1530.0000 - val_accuracy: 0.9989 - val_precision: 0.9921 - val_recall: 0.9919 - val_auc: 0.9990\n",
            "Epoch 48/100\n",
            "98/98 [==============================] - 2s 25ms/step - loss: 0.0029 - tp: 873153.0000 - fp: 6296.0000 - tn: 12307950.0000 - fn: 6436.0000 - accuracy: 0.9990 - precision: 0.9928 - recall: 0.9927 - auc: 0.9990 - val_loss: 0.0030 - val_tp: 186985.0000 - val_fp: 1465.0000 - val_tn: 2637311.0000 - val_fn: 1499.0000 - val_accuracy: 0.9990 - val_precision: 0.9922 - val_recall: 0.9920 - val_auc: 0.9991\n",
            "Epoch 49/100\n",
            "98/98 [==============================] - 2s 25ms/step - loss: 0.0028 - tp: 873222.0000 - fp: 6245.0000 - tn: 12308001.0000 - fn: 6367.0000 - accuracy: 0.9990 - precision: 0.9929 - recall: 0.9928 - auc: 0.9990 - val_loss: 0.0030 - val_tp: 187026.0000 - val_fp: 1419.0000 - val_tn: 2637357.0000 - val_fn: 1458.0000 - val_accuracy: 0.9990 - val_precision: 0.9925 - val_recall: 0.9923 - val_auc: 0.9990\n",
            "Epoch 50/100\n",
            "98/98 [==============================] - 2s 25ms/step - loss: 0.0028 - tp: 873228.0000 - fp: 6264.0000 - tn: 12307982.0000 - fn: 6361.0000 - accuracy: 0.9990 - precision: 0.9929 - recall: 0.9928 - auc: 0.9990 - val_loss: 0.0032 - val_tp: 186887.0000 - val_fp: 1568.0000 - val_tn: 2637208.0000 - val_fn: 1597.0000 - val_accuracy: 0.9989 - val_precision: 0.9917 - val_recall: 0.9915 - val_auc: 0.9988\n",
            "Epoch 51/100\n",
            "98/98 [==============================] - 2s 25ms/step - loss: 0.0028 - tp: 873191.0000 - fp: 6279.0000 - tn: 12307967.0000 - fn: 6398.0000 - accuracy: 0.9990 - precision: 0.9929 - recall: 0.9927 - auc: 0.9990 - val_loss: 0.0031 - val_tp: 186930.0000 - val_fp: 1528.0000 - val_tn: 2637248.0000 - val_fn: 1554.0000 - val_accuracy: 0.9989 - val_precision: 0.9919 - val_recall: 0.9918 - val_auc: 0.9988\n",
            "Epoch 52/100\n",
            "98/98 [==============================] - 2s 25ms/step - loss: 0.0028 - tp: 873169.0000 - fp: 6317.0000 - tn: 12307929.0000 - fn: 6420.0000 - accuracy: 0.9990 - precision: 0.9928 - recall: 0.9927 - auc: 0.9990 - val_loss: 0.0031 - val_tp: 186971.0000 - val_fp: 1477.0000 - val_tn: 2637299.0000 - val_fn: 1513.0000 - val_accuracy: 0.9989 - val_precision: 0.9922 - val_recall: 0.9920 - val_auc: 0.9988\n",
            "Epoch 53/100\n",
            "98/98 [==============================] - 2s 25ms/step - loss: 0.0028 - tp: 873214.0000 - fp: 6257.0000 - tn: 12307989.0000 - fn: 6375.0000 - accuracy: 0.9990 - precision: 0.9929 - recall: 0.9928 - auc: 0.9990 - val_loss: 0.0030 - val_tp: 187036.0000 - val_fp: 1432.0000 - val_tn: 2637344.0000 - val_fn: 1448.0000 - val_accuracy: 0.9990 - val_precision: 0.9924 - val_recall: 0.9923 - val_auc: 0.9989\n",
            "Epoch 54/100\n",
            "98/98 [==============================] - 2s 25ms/step - loss: 0.0029 - tp: 873128.0000 - fp: 6365.0000 - tn: 12307881.0000 - fn: 6461.0000 - accuracy: 0.9990 - precision: 0.9928 - recall: 0.9927 - auc: 0.9990 - val_loss: 0.0030 - val_tp: 187062.0000 - val_fp: 1402.0000 - val_tn: 2637374.0000 - val_fn: 1422.0000 - val_accuracy: 0.9990 - val_precision: 0.9926 - val_recall: 0.9925 - val_auc: 0.9990\n",
            "Epoch 55/100\n",
            "98/98 [==============================] - 2s 25ms/step - loss: 0.0028 - tp: 873272.0000 - fp: 6229.0000 - tn: 12308017.0000 - fn: 6317.0000 - accuracy: 0.9990 - precision: 0.9929 - recall: 0.9928 - auc: 0.9990 - val_loss: 0.0029 - val_tp: 187068.0000 - val_fp: 1402.0000 - val_tn: 2637374.0000 - val_fn: 1416.0000 - val_accuracy: 0.9990 - val_precision: 0.9926 - val_recall: 0.9925 - val_auc: 0.9990\n",
            "Epoch 56/100\n",
            "98/98 [==============================] - 2s 25ms/step - loss: 0.0028 - tp: 873284.0000 - fp: 6205.0000 - tn: 12308041.0000 - fn: 6305.0000 - accuracy: 0.9991 - precision: 0.9929 - recall: 0.9928 - auc: 0.9990 - val_loss: 0.0030 - val_tp: 187081.0000 - val_fp: 1388.0000 - val_tn: 2637388.0000 - val_fn: 1403.0000 - val_accuracy: 0.9990 - val_precision: 0.9926 - val_recall: 0.9926 - val_auc: 0.9990\n",
            "Epoch 57/100\n",
            "98/98 [==============================] - 2s 25ms/step - loss: 0.0028 - tp: 873245.0000 - fp: 6266.0000 - tn: 12307980.0000 - fn: 6344.0000 - accuracy: 0.9990 - precision: 0.9929 - recall: 0.9928 - auc: 0.9991 - val_loss: 0.0030 - val_tp: 187055.0000 - val_fp: 1414.0000 - val_tn: 2637362.0000 - val_fn: 1429.0000 - val_accuracy: 0.9990 - val_precision: 0.9925 - val_recall: 0.9924 - val_auc: 0.9992\n",
            "Epoch 58/100\n",
            "98/98 [==============================] - 2s 25ms/step - loss: 0.0028 - tp: 873307.0000 - fp: 6187.0000 - tn: 12308059.0000 - fn: 6282.0000 - accuracy: 0.9991 - precision: 0.9930 - recall: 0.9929 - auc: 0.9990 - val_loss: 0.0030 - val_tp: 187025.0000 - val_fp: 1444.0000 - val_tn: 2637332.0000 - val_fn: 1459.0000 - val_accuracy: 0.9990 - val_precision: 0.9923 - val_recall: 0.9923 - val_auc: 0.9989\n",
            "Epoch 59/100\n",
            "98/98 [==============================] - 2s 25ms/step - loss: 0.0028 - tp: 873391.0000 - fp: 6119.0000 - tn: 12308127.0000 - fn: 6198.0000 - accuracy: 0.9991 - precision: 0.9930 - recall: 0.9930 - auc: 0.9990 - val_loss: 0.0029 - val_tp: 187083.0000 - val_fp: 1387.0000 - val_tn: 2637389.0000 - val_fn: 1401.0000 - val_accuracy: 0.9990 - val_precision: 0.9926 - val_recall: 0.9926 - val_auc: 0.9989\n",
            "Epoch 60/100\n",
            "98/98 [==============================] - 2s 25ms/step - loss: 0.0028 - tp: 873366.0000 - fp: 6157.0000 - tn: 12308089.0000 - fn: 6223.0000 - accuracy: 0.9991 - precision: 0.9930 - recall: 0.9929 - auc: 0.9990 - val_loss: 0.0030 - val_tp: 187051.0000 - val_fp: 1411.0000 - val_tn: 2637365.0000 - val_fn: 1433.0000 - val_accuracy: 0.9990 - val_precision: 0.9925 - val_recall: 0.9924 - val_auc: 0.9989\n",
            "Epoch 61/100\n",
            "98/98 [==============================] - 2s 25ms/step - loss: 0.0028 - tp: 873374.0000 - fp: 6118.0000 - tn: 12308128.0000 - fn: 6215.0000 - accuracy: 0.9991 - precision: 0.9930 - recall: 0.9929 - auc: 0.9990 - val_loss: 0.0030 - val_tp: 187007.0000 - val_fp: 1449.0000 - val_tn: 2637327.0000 - val_fn: 1477.0000 - val_accuracy: 0.9990 - val_precision: 0.9923 - val_recall: 0.9922 - val_auc: 0.9989\n",
            "Epoch 62/100\n",
            "98/98 [==============================] - 2s 25ms/step - loss: 0.0028 - tp: 873304.0000 - fp: 6202.0000 - tn: 12308044.0000 - fn: 6285.0000 - accuracy: 0.9991 - precision: 0.9929 - recall: 0.9929 - auc: 0.9991 - val_loss: 0.0031 - val_tp: 187024.0000 - val_fp: 1446.0000 - val_tn: 2637330.0000 - val_fn: 1460.0000 - val_accuracy: 0.9990 - val_precision: 0.9923 - val_recall: 0.9923 - val_auc: 0.9988\n",
            "Epoch 63/100\n",
            "98/98 [==============================] - 2s 25ms/step - loss: 0.0028 - tp: 873364.0000 - fp: 6130.0000 - tn: 12308116.0000 - fn: 6225.0000 - accuracy: 0.9991 - precision: 0.9930 - recall: 0.9929 - auc: 0.9990 - val_loss: 0.0029 - val_tp: 187085.0000 - val_fp: 1381.0000 - val_tn: 2637395.0000 - val_fn: 1399.0000 - val_accuracy: 0.9990 - val_precision: 0.9927 - val_recall: 0.9926 - val_auc: 0.9990\n",
            "Epoch 64/100\n",
            "98/98 [==============================] - 2s 25ms/step - loss: 0.0028 - tp: 873328.0000 - fp: 6167.0000 - tn: 12308079.0000 - fn: 6261.0000 - accuracy: 0.9991 - precision: 0.9930 - recall: 0.9929 - auc: 0.9991 - val_loss: 0.0030 - val_tp: 187088.0000 - val_fp: 1382.0000 - val_tn: 2637394.0000 - val_fn: 1396.0000 - val_accuracy: 0.9990 - val_precision: 0.9927 - val_recall: 0.9926 - val_auc: 0.9991\n",
            "Epoch 65/100\n",
            "98/98 [==============================] - 2s 25ms/step - loss: 0.0027 - tp: 873433.0000 - fp: 6061.0000 - tn: 12308185.0000 - fn: 6156.0000 - accuracy: 0.9991 - precision: 0.9931 - recall: 0.9930 - auc: 0.9990 - val_loss: 0.0029 - val_tp: 187088.0000 - val_fp: 1373.0000 - val_tn: 2637403.0000 - val_fn: 1396.0000 - val_accuracy: 0.9990 - val_precision: 0.9927 - val_recall: 0.9926 - val_auc: 0.9989\n",
            "Epoch 66/100\n",
            "98/98 [==============================] - 2s 25ms/step - loss: 0.0028 - tp: 873442.0000 - fp: 6037.0000 - tn: 12308209.0000 - fn: 6147.0000 - accuracy: 0.9991 - precision: 0.9931 - recall: 0.9930 - auc: 0.9990 - val_loss: 0.0029 - val_tp: 187093.0000 - val_fp: 1376.0000 - val_tn: 2637400.0000 - val_fn: 1391.0000 - val_accuracy: 0.9990 - val_precision: 0.9927 - val_recall: 0.9926 - val_auc: 0.9990\n",
            "Epoch 67/100\n",
            "98/98 [==============================] - 2s 25ms/step - loss: 0.0028 - tp: 873389.0000 - fp: 6108.0000 - tn: 12308138.0000 - fn: 6200.0000 - accuracy: 0.9991 - precision: 0.9931 - recall: 0.9930 - auc: 0.9991 - val_loss: 0.0029 - val_tp: 187092.0000 - val_fp: 1366.0000 - val_tn: 2637410.0000 - val_fn: 1392.0000 - val_accuracy: 0.9990 - val_precision: 0.9928 - val_recall: 0.9926 - val_auc: 0.9990\n",
            "Epoch 68/100\n",
            "98/98 [==============================] - 2s 25ms/step - loss: 0.0027 - tp: 873445.0000 - fp: 6037.0000 - tn: 12308209.0000 - fn: 6144.0000 - accuracy: 0.9991 - precision: 0.9931 - recall: 0.9930 - auc: 0.9991 - val_loss: 0.0029 - val_tp: 187096.0000 - val_fp: 1371.0000 - val_tn: 2637405.0000 - val_fn: 1388.0000 - val_accuracy: 0.9990 - val_precision: 0.9927 - val_recall: 0.9926 - val_auc: 0.9991\n",
            "Epoch 69/100\n",
            "98/98 [==============================] - 2s 25ms/step - loss: 0.0027 - tp: 873398.0000 - fp: 6104.0000 - tn: 12308142.0000 - fn: 6191.0000 - accuracy: 0.9991 - precision: 0.9931 - recall: 0.9930 - auc: 0.9991 - val_loss: 0.0030 - val_tp: 187038.0000 - val_fp: 1425.0000 - val_tn: 2637351.0000 - val_fn: 1446.0000 - val_accuracy: 0.9990 - val_precision: 0.9924 - val_recall: 0.9923 - val_auc: 0.9991\n",
            "Epoch 70/100\n",
            "98/98 [==============================] - 2s 25ms/step - loss: 0.0028 - tp: 873406.0000 - fp: 6096.0000 - tn: 12308150.0000 - fn: 6183.0000 - accuracy: 0.9991 - precision: 0.9931 - recall: 0.9930 - auc: 0.9991 - val_loss: 0.0029 - val_tp: 187074.0000 - val_fp: 1393.0000 - val_tn: 2637383.0000 - val_fn: 1410.0000 - val_accuracy: 0.9990 - val_precision: 0.9926 - val_recall: 0.9925 - val_auc: 0.9989\n",
            "Epoch 71/100\n",
            "98/98 [==============================] - 2s 25ms/step - loss: 0.0027 - tp: 873445.0000 - fp: 6058.0000 - tn: 12308188.0000 - fn: 6144.0000 - accuracy: 0.9991 - precision: 0.9931 - recall: 0.9930 - auc: 0.9991 - val_loss: 0.0031 - val_tp: 186942.0000 - val_fp: 1524.0000 - val_tn: 2637252.0000 - val_fn: 1542.0000 - val_accuracy: 0.9989 - val_precision: 0.9919 - val_recall: 0.9918 - val_auc: 0.9988\n",
            "Epoch 72/100\n",
            "98/98 [==============================] - 2s 25ms/step - loss: 0.0028 - tp: 873390.0000 - fp: 6110.0000 - tn: 12308136.0000 - fn: 6199.0000 - accuracy: 0.9991 - precision: 0.9931 - recall: 0.9930 - auc: 0.9991 - val_loss: 0.0029 - val_tp: 187089.0000 - val_fp: 1376.0000 - val_tn: 2637400.0000 - val_fn: 1395.0000 - val_accuracy: 0.9990 - val_precision: 0.9927 - val_recall: 0.9926 - val_auc: 0.9989\n",
            "Epoch 73/100\n",
            "98/98 [==============================] - 3s 27ms/step - loss: 0.0027 - tp: 873423.0000 - fp: 6080.0000 - tn: 12308166.0000 - fn: 6166.0000 - accuracy: 0.9991 - precision: 0.9931 - recall: 0.9930 - auc: 0.9991 - val_loss: 0.0030 - val_tp: 187083.0000 - val_fp: 1383.0000 - val_tn: 2637393.0000 - val_fn: 1401.0000 - val_accuracy: 0.9990 - val_precision: 0.9927 - val_recall: 0.9926 - val_auc: 0.9991\n",
            "Epoch 74/100\n",
            "98/98 [==============================] - 2s 25ms/step - loss: 0.0027 - tp: 873490.0000 - fp: 6021.0000 - tn: 12308225.0000 - fn: 6099.0000 - accuracy: 0.9991 - precision: 0.9932 - recall: 0.9931 - auc: 0.9991 - val_loss: 0.0029 - val_tp: 187105.0000 - val_fp: 1357.0000 - val_tn: 2637419.0000 - val_fn: 1379.0000 - val_accuracy: 0.9990 - val_precision: 0.9928 - val_recall: 0.9927 - val_auc: 0.9990\n",
            "Epoch 75/100\n",
            "98/98 [==============================] - 2s 25ms/step - loss: 0.0027 - tp: 873487.0000 - fp: 6006.0000 - tn: 12308240.0000 - fn: 6102.0000 - accuracy: 0.9991 - precision: 0.9932 - recall: 0.9931 - auc: 0.9991 - val_loss: 0.0029 - val_tp: 187099.0000 - val_fp: 1369.0000 - val_tn: 2637407.0000 - val_fn: 1385.0000 - val_accuracy: 0.9990 - val_precision: 0.9927 - val_recall: 0.9927 - val_auc: 0.9991\n",
            "Epoch 76/100\n",
            "98/98 [==============================] - 2s 25ms/step - loss: 0.0027 - tp: 873542.0000 - fp: 5956.0000 - tn: 12308290.0000 - fn: 6047.0000 - accuracy: 0.9991 - precision: 0.9932 - recall: 0.9931 - auc: 0.9991 - val_loss: 0.0029 - val_tp: 187095.0000 - val_fp: 1376.0000 - val_tn: 2637400.0000 - val_fn: 1389.0000 - val_accuracy: 0.9990 - val_precision: 0.9927 - val_recall: 0.9926 - val_auc: 0.9990\n",
            "Epoch 77/100\n",
            "98/98 [==============================] - 2s 25ms/step - loss: 0.0027 - tp: 873578.0000 - fp: 5917.0000 - tn: 12308329.0000 - fn: 6011.0000 - accuracy: 0.9991 - precision: 0.9933 - recall: 0.9932 - auc: 0.9991 - val_loss: 0.0029 - val_tp: 187077.0000 - val_fp: 1385.0000 - val_tn: 2637391.0000 - val_fn: 1407.0000 - val_accuracy: 0.9990 - val_precision: 0.9927 - val_recall: 0.9925 - val_auc: 0.9989\n",
            "Epoch 78/100\n",
            "98/98 [==============================] - 2s 25ms/step - loss: 0.0027 - tp: 873576.0000 - fp: 5932.0000 - tn: 12308314.0000 - fn: 6013.0000 - accuracy: 0.9991 - precision: 0.9933 - recall: 0.9932 - auc: 0.9991 - val_loss: 0.0029 - val_tp: 187078.0000 - val_fp: 1375.0000 - val_tn: 2637401.0000 - val_fn: 1406.0000 - val_accuracy: 0.9990 - val_precision: 0.9927 - val_recall: 0.9925 - val_auc: 0.9990\n",
            "Epoch 79/100\n",
            "98/98 [==============================] - 2s 25ms/step - loss: 0.0027 - tp: 873542.0000 - fp: 5937.0000 - tn: 12308309.0000 - fn: 6047.0000 - accuracy: 0.9991 - precision: 0.9932 - recall: 0.9931 - auc: 0.9991 - val_loss: 0.0029 - val_tp: 187109.0000 - val_fp: 1355.0000 - val_tn: 2637421.0000 - val_fn: 1375.0000 - val_accuracy: 0.9990 - val_precision: 0.9928 - val_recall: 0.9927 - val_auc: 0.9990\n",
            "Epoch 80/100\n",
            "98/98 [==============================] - 2s 25ms/step - loss: 0.0027 - tp: 873561.0000 - fp: 5938.0000 - tn: 12308308.0000 - fn: 6028.0000 - accuracy: 0.9991 - precision: 0.9932 - recall: 0.9931 - auc: 0.9991 - val_loss: 0.0030 - val_tp: 186979.0000 - val_fp: 1486.0000 - val_tn: 2637290.0000 - val_fn: 1505.0000 - val_accuracy: 0.9989 - val_precision: 0.9921 - val_recall: 0.9920 - val_auc: 0.9988\n",
            "Epoch 81/100\n",
            "98/98 [==============================] - 2s 25ms/step - loss: 0.0027 - tp: 873524.0000 - fp: 5980.0000 - tn: 12308266.0000 - fn: 6065.0000 - accuracy: 0.9991 - precision: 0.9932 - recall: 0.9931 - auc: 0.9990 - val_loss: 0.0029 - val_tp: 187079.0000 - val_fp: 1387.0000 - val_tn: 2637389.0000 - val_fn: 1405.0000 - val_accuracy: 0.9990 - val_precision: 0.9926 - val_recall: 0.9925 - val_auc: 0.9989\n",
            "Epoch 82/100\n",
            "98/98 [==============================] - 2s 25ms/step - loss: 0.0027 - tp: 873626.0000 - fp: 5878.0000 - tn: 12308368.0000 - fn: 5963.0000 - accuracy: 0.9991 - precision: 0.9933 - recall: 0.9932 - auc: 0.9991 - val_loss: 0.0029 - val_tp: 187005.0000 - val_fp: 1459.0000 - val_tn: 2637317.0000 - val_fn: 1479.0000 - val_accuracy: 0.9990 - val_precision: 0.9923 - val_recall: 0.9922 - val_auc: 0.9989\n",
            "Epoch 83/100\n",
            "98/98 [==============================] - 3s 26ms/step - loss: 0.0027 - tp: 873588.0000 - fp: 5924.0000 - tn: 12308322.0000 - fn: 6001.0000 - accuracy: 0.9991 - precision: 0.9933 - recall: 0.9932 - auc: 0.9991 - val_loss: 0.0028 - val_tp: 187128.0000 - val_fp: 1338.0000 - val_tn: 2637438.0000 - val_fn: 1356.0000 - val_accuracy: 0.9990 - val_precision: 0.9929 - val_recall: 0.9928 - val_auc: 0.9991\n",
            "Epoch 84/100\n",
            "98/98 [==============================] - 2s 25ms/step - loss: 0.0027 - tp: 873567.0000 - fp: 5938.0000 - tn: 12308308.0000 - fn: 6022.0000 - accuracy: 0.9991 - precision: 0.9932 - recall: 0.9932 - auc: 0.9991 - val_loss: 0.0028 - val_tp: 187089.0000 - val_fp: 1376.0000 - val_tn: 2637400.0000 - val_fn: 1395.0000 - val_accuracy: 0.9990 - val_precision: 0.9927 - val_recall: 0.9926 - val_auc: 0.9990\n",
            "Epoch 85/100\n",
            "98/98 [==============================] - 2s 26ms/step - loss: 0.0026 - tp: 873623.0000 - fp: 5884.0000 - tn: 12308362.0000 - fn: 5966.0000 - accuracy: 0.9991 - precision: 0.9933 - recall: 0.9932 - auc: 0.9991 - val_loss: 0.0028 - val_tp: 187129.0000 - val_fp: 1337.0000 - val_tn: 2637439.0000 - val_fn: 1355.0000 - val_accuracy: 0.9990 - val_precision: 0.9929 - val_recall: 0.9928 - val_auc: 0.9990\n",
            "Epoch 86/100\n",
            "98/98 [==============================] - 3s 26ms/step - loss: 0.0027 - tp: 873582.0000 - fp: 5922.0000 - tn: 12308324.0000 - fn: 6007.0000 - accuracy: 0.9991 - precision: 0.9933 - recall: 0.9932 - auc: 0.9991 - val_loss: 0.0029 - val_tp: 187076.0000 - val_fp: 1393.0000 - val_tn: 2637383.0000 - val_fn: 1408.0000 - val_accuracy: 0.9990 - val_precision: 0.9926 - val_recall: 0.9925 - val_auc: 0.9989\n",
            "Epoch 87/100\n",
            "98/98 [==============================] - 2s 25ms/step - loss: 0.0026 - tp: 873643.0000 - fp: 5861.0000 - tn: 12308385.0000 - fn: 5946.0000 - accuracy: 0.9991 - precision: 0.9933 - recall: 0.9932 - auc: 0.9991 - val_loss: 0.0029 - val_tp: 187095.0000 - val_fp: 1366.0000 - val_tn: 2637410.0000 - val_fn: 1389.0000 - val_accuracy: 0.9990 - val_precision: 0.9928 - val_recall: 0.9926 - val_auc: 0.9989\n",
            "Epoch 88/100\n",
            "98/98 [==============================] - 2s 25ms/step - loss: 0.0026 - tp: 873680.0000 - fp: 5818.0000 - tn: 12308428.0000 - fn: 5909.0000 - accuracy: 0.9991 - precision: 0.9934 - recall: 0.9933 - auc: 0.9991 - val_loss: 0.0030 - val_tp: 187091.0000 - val_fp: 1375.0000 - val_tn: 2637401.0000 - val_fn: 1393.0000 - val_accuracy: 0.9990 - val_precision: 0.9927 - val_recall: 0.9926 - val_auc: 0.9989\n",
            "Epoch 89/100\n",
            "98/98 [==============================] - 2s 25ms/step - loss: 0.0027 - tp: 873596.0000 - fp: 5908.0000 - tn: 12308338.0000 - fn: 5993.0000 - accuracy: 0.9991 - precision: 0.9933 - recall: 0.9932 - auc: 0.9991 - val_loss: 0.0028 - val_tp: 187096.0000 - val_fp: 1376.0000 - val_tn: 2637400.0000 - val_fn: 1388.0000 - val_accuracy: 0.9990 - val_precision: 0.9927 - val_recall: 0.9926 - val_auc: 0.9990\n",
            "Epoch 90/100\n",
            "98/98 [==============================] - 2s 26ms/step - loss: 0.0027 - tp: 873600.0000 - fp: 5910.0000 - tn: 12308336.0000 - fn: 5989.0000 - accuracy: 0.9991 - precision: 0.9933 - recall: 0.9932 - auc: 0.9991 - val_loss: 0.0029 - val_tp: 187030.0000 - val_fp: 1437.0000 - val_tn: 2637339.0000 - val_fn: 1454.0000 - val_accuracy: 0.9990 - val_precision: 0.9924 - val_recall: 0.9923 - val_auc: 0.9989\n",
            "Epoch 91/100\n",
            "98/98 [==============================] - 3s 26ms/step - loss: 0.0027 - tp: 873585.0000 - fp: 5915.0000 - tn: 12308331.0000 - fn: 6004.0000 - accuracy: 0.9991 - precision: 0.9933 - recall: 0.9932 - auc: 0.9991 - val_loss: 0.0028 - val_tp: 187111.0000 - val_fp: 1359.0000 - val_tn: 2637417.0000 - val_fn: 1373.0000 - val_accuracy: 0.9990 - val_precision: 0.9928 - val_recall: 0.9927 - val_auc: 0.9990\n",
            "Epoch 92/100\n",
            "98/98 [==============================] - 2s 26ms/step - loss: 0.0026 - tp: 873687.0000 - fp: 5828.0000 - tn: 12308418.0000 - fn: 5902.0000 - accuracy: 0.9991 - precision: 0.9934 - recall: 0.9933 - auc: 0.9991 - val_loss: 0.0029 - val_tp: 186984.0000 - val_fp: 1487.0000 - val_tn: 2637289.0000 - val_fn: 1500.0000 - val_accuracy: 0.9989 - val_precision: 0.9921 - val_recall: 0.9920 - val_auc: 0.9989\n",
            "Epoch 93/100\n",
            "98/98 [==============================] - 2s 26ms/step - loss: 0.0026 - tp: 873685.0000 - fp: 5816.0000 - tn: 12308430.0000 - fn: 5904.0000 - accuracy: 0.9991 - precision: 0.9934 - recall: 0.9933 - auc: 0.9991 - val_loss: 0.0029 - val_tp: 187087.0000 - val_fp: 1382.0000 - val_tn: 2637394.0000 - val_fn: 1397.0000 - val_accuracy: 0.9990 - val_precision: 0.9927 - val_recall: 0.9926 - val_auc: 0.9990\n",
            "Epoch 94/100\n",
            "98/98 [==============================] - 2s 25ms/step - loss: 0.0026 - tp: 873697.0000 - fp: 5804.0000 - tn: 12308442.0000 - fn: 5892.0000 - accuracy: 0.9991 - precision: 0.9934 - recall: 0.9933 - auc: 0.9991 - val_loss: 0.0028 - val_tp: 187139.0000 - val_fp: 1331.0000 - val_tn: 2637445.0000 - val_fn: 1345.0000 - val_accuracy: 0.9991 - val_precision: 0.9929 - val_recall: 0.9929 - val_auc: 0.9990\n",
            "Epoch 95/100\n",
            "98/98 [==============================] - 2s 25ms/step - loss: 0.0026 - tp: 873763.0000 - fp: 5742.0000 - tn: 12308504.0000 - fn: 5826.0000 - accuracy: 0.9991 - precision: 0.9935 - recall: 0.9934 - auc: 0.9991 - val_loss: 0.0029 - val_tp: 187093.0000 - val_fp: 1369.0000 - val_tn: 2637407.0000 - val_fn: 1391.0000 - val_accuracy: 0.9990 - val_precision: 0.9927 - val_recall: 0.9926 - val_auc: 0.9989\n",
            "Epoch 96/100\n",
            "98/98 [==============================] - 3s 26ms/step - loss: 0.0026 - tp: 873665.0000 - fp: 5829.0000 - tn: 12308417.0000 - fn: 5924.0000 - accuracy: 0.9991 - precision: 0.9934 - recall: 0.9933 - auc: 0.9991 - val_loss: 0.0028 - val_tp: 187157.0000 - val_fp: 1307.0000 - val_tn: 2637469.0000 - val_fn: 1327.0000 - val_accuracy: 0.9991 - val_precision: 0.9931 - val_recall: 0.9930 - val_auc: 0.9991\n",
            "Epoch 97/100\n",
            "98/98 [==============================] - 2s 25ms/step - loss: 0.0026 - tp: 873658.0000 - fp: 5835.0000 - tn: 12308411.0000 - fn: 5931.0000 - accuracy: 0.9991 - precision: 0.9934 - recall: 0.9933 - auc: 0.9991 - val_loss: 0.0028 - val_tp: 187165.0000 - val_fp: 1294.0000 - val_tn: 2637482.0000 - val_fn: 1319.0000 - val_accuracy: 0.9991 - val_precision: 0.9931 - val_recall: 0.9930 - val_auc: 0.9991\n",
            "Epoch 98/100\n",
            "98/98 [==============================] - 3s 26ms/step - loss: 0.0026 - tp: 873662.0000 - fp: 5830.0000 - tn: 12308416.0000 - fn: 5927.0000 - accuracy: 0.9991 - precision: 0.9934 - recall: 0.9933 - auc: 0.9991 - val_loss: 0.0029 - val_tp: 187083.0000 - val_fp: 1383.0000 - val_tn: 2637393.0000 - val_fn: 1401.0000 - val_accuracy: 0.9990 - val_precision: 0.9927 - val_recall: 0.9926 - val_auc: 0.9990\n",
            "Epoch 99/100\n",
            "98/98 [==============================] - 3s 26ms/step - loss: 0.0026 - tp: 873715.0000 - fp: 5782.0000 - tn: 12308464.0000 - fn: 5874.0000 - accuracy: 0.9991 - precision: 0.9934 - recall: 0.9933 - auc: 0.9991 - val_loss: 0.0028 - val_tp: 187146.0000 - val_fp: 1322.0000 - val_tn: 2637454.0000 - val_fn: 1338.0000 - val_accuracy: 0.9991 - val_precision: 0.9930 - val_recall: 0.9929 - val_auc: 0.9991\n",
            "Epoch 100/100\n",
            "98/98 [==============================] - 2s 25ms/step - loss: 0.0026 - tp: 873736.0000 - fp: 5771.0000 - tn: 12308475.0000 - fn: 5853.0000 - accuracy: 0.9991 - precision: 0.9934 - recall: 0.9933 - auc: 0.9991 - val_loss: 0.0028 - val_tp: 187150.0000 - val_fp: 1313.0000 - val_tn: 2637463.0000 - val_fn: 1334.0000 - val_accuracy: 0.9991 - val_precision: 0.9930 - val_recall: 0.9929 - val_auc: 0.9990\n"
          ],
          "name": "stdout"
        }
      ]
    },
    {
      "cell_type": "code",
      "metadata": {
        "id": "GupDj2K1vHiM"
      },
      "source": [
        "y_pred_n=model_dnn_n.predict(X_test_n)"
      ],
      "execution_count": 60,
      "outputs": []
    },
    {
      "cell_type": "code",
      "metadata": {
        "colab": {
          "base_uri": "https://localhost:8080/"
        },
        "id": "WHDVrG0CvHiN",
        "outputId": "090602e1-12a1-4b1d-f590-9d0f5dc71ee5"
      },
      "source": [
        "display_metrics(y_test_origin, np.argmax(y_pred_n, axis = 1), labels_d)"
      ],
      "execution_count": 61,
      "outputs": [
        {
          "output_type": "stream",
          "text": [
            "\n",
            "Accuracy: 0.99\n",
            "\n",
            "Micro Precision: 0.99\n",
            "Micro Recall: 0.99\n",
            "Micro F1-score: 0.99\n",
            "\n",
            "Macro Precision: 0.81\n",
            "Macro Recall: 0.80\n"
          ],
          "name": "stdout"
        },
        {
          "output_type": "stream",
          "text": [
            "/usr/local/lib/python3.6/dist-packages/sklearn/metrics/_classification.py:1272: UndefinedMetricWarning: Precision is ill-defined and being set to 0.0 in labels with no predicted samples. Use `zero_division` parameter to control this behavior.\n",
            "  _warn_prf(average, modifier, msg_start, len(result))\n"
          ],
          "name": "stderr"
        },
        {
          "output_type": "stream",
          "text": [
            "Macro F1-score: 0.80\n",
            "\n",
            "Weighted Precision: 0.99\n",
            "Weighted Recall: 0.99\n",
            "Weighted F1-score: 0.99\n",
            "\n",
            "Classification Report\n",
            "\n"
          ],
          "name": "stdout"
        },
        {
          "output_type": "stream",
          "text": [
            "/usr/local/lib/python3.6/dist-packages/sklearn/metrics/_classification.py:1272: UndefinedMetricWarning: Precision and F-score are ill-defined and being set to 0.0 in labels with no predicted samples. Use `zero_division` parameter to control this behavior.\n",
            "  _warn_prf(average, modifier, msg_start, len(result))\n"
          ],
          "name": "stderr"
        },
        {
          "output_type": "stream",
          "text": [
            "                            precision    recall  f1-score   support\n",
            "\n",
            "                    BENIGN       1.00      0.99      0.99    105019\n",
            "                       Bot       0.87      0.97      0.92       280\n",
            "                      DDoS       0.98      1.00      0.99     19271\n",
            "             DoS GoldenEye       1.00      0.95      0.97      1542\n",
            "                  DoS Hulk       1.00      0.99      0.99     34547\n",
            "          DoS Slowhttptest       0.99      0.99      0.99       828\n",
            "             DoS slowloris       0.98      0.98      0.98       834\n",
            "               FTP-Patator       0.99      0.99      0.99      1178\n",
            "                Heartbleed       1.00      1.00      1.00         2\n",
            "              Infiltration       0.00      0.00      0.00         1\n",
            "                  PortScan       0.97      0.99      0.98     23846\n",
            "               SSH-Patator       0.99      0.98      0.98       826\n",
            "  Web Attack � Brute Force       0.75      0.78      0.76       209\n",
            "Web Attack � Sql Injection       0.00      0.00      0.00         7\n",
            "          Web Attack � XSS       0.61      0.45      0.52        93\n",
            "\n",
            "                  accuracy                           0.99    188483\n",
            "                 macro avg       0.81      0.80      0.80    188483\n",
            "              weighted avg       0.99      0.99      0.99    188483\n",
            "\n"
          ],
          "name": "stdout"
        }
      ]
    },
    {
      "cell_type": "markdown",
      "metadata": {
        "id": "rYdkOs2GvHiN"
      },
      "source": [
        "### Save the model"
      ]
    },
    {
      "cell_type": "code",
      "metadata": {
        "id": "J79kgfK1vHiN"
      },
      "source": [
        "model_dnn_n.save('dnn_n.h5')"
      ],
      "execution_count": 62,
      "outputs": []
    },
    {
      "cell_type": "markdown",
      "metadata": {
        "id": "EizAMwTDvHiO"
      },
      "source": [
        "### Train the second DNN model with standardized dataset"
      ]
    },
    {
      "cell_type": "code",
      "metadata": {
        "id": "ukunjr-_vHiO"
      },
      "source": [
        "EPOCHS = 80\n",
        "BATCH_SIZE = 10000"
      ],
      "execution_count": 125,
      "outputs": []
    },
    {
      "cell_type": "code",
      "metadata": {
        "colab": {
          "base_uri": "https://localhost:8080/"
        },
        "id": "TbDy-0QLvHiO",
        "outputId": "74e002e7-f53d-40cd-f69e-7f610f16bb52"
      },
      "source": [
        "baseline_history_sd = model_dnn_sd.fit(\n",
        "    X_train_sd,\n",
        "    y_train,\n",
        "    batch_size=BATCH_SIZE,\n",
        "    epochs=EPOCHS,\n",
        "    validation_data=(X_val_sd, y_val))"
      ],
      "execution_count": 126,
      "outputs": [
        {
          "output_type": "stream",
          "text": [
            "Epoch 1/80\n",
            "88/88 [==============================] - 2s 27ms/step - loss: 0.0019 - tp: 875428.0000 - fp: 4061.0000 - tn: 12310185.0000 - fn: 4161.0000 - accuracy: 0.9994 - precision: 0.9954 - recall: 0.9953 - auc: 0.9996 - val_loss: 0.0021 - val_tp: 187501.0000 - val_fp: 963.0000 - val_tn: 2637813.0000 - val_fn: 983.0000 - val_accuracy: 0.9993 - val_precision: 0.9949 - val_recall: 0.9948 - val_auc: 0.9993\n",
            "Epoch 2/80\n",
            "88/88 [==============================] - 2s 26ms/step - loss: 0.0018 - tp: 875498.0000 - fp: 3995.0000 - tn: 12310251.0000 - fn: 4091.0000 - accuracy: 0.9994 - precision: 0.9955 - recall: 0.9953 - auc: 0.9996 - val_loss: 0.0019 - val_tp: 187590.0000 - val_fp: 879.0000 - val_tn: 2637897.0000 - val_fn: 894.0000 - val_accuracy: 0.9994 - val_precision: 0.9953 - val_recall: 0.9953 - val_auc: 0.9995\n",
            "Epoch 3/80\n",
            "88/88 [==============================] - 2s 26ms/step - loss: 0.0018 - tp: 875544.0000 - fp: 3939.0000 - tn: 12310307.0000 - fn: 4045.0000 - accuracy: 0.9994 - precision: 0.9955 - recall: 0.9954 - auc: 0.9996 - val_loss: 0.0019 - val_tp: 187652.0000 - val_fp: 813.0000 - val_tn: 2637963.0000 - val_fn: 832.0000 - val_accuracy: 0.9994 - val_precision: 0.9957 - val_recall: 0.9956 - val_auc: 0.9995\n",
            "Epoch 4/80\n",
            "88/88 [==============================] - 2s 26ms/step - loss: 0.0018 - tp: 875537.0000 - fp: 3961.0000 - tn: 12310285.0000 - fn: 4052.0000 - accuracy: 0.9994 - precision: 0.9955 - recall: 0.9954 - auc: 0.9996 - val_loss: 0.0019 - val_tp: 187651.0000 - val_fp: 809.0000 - val_tn: 2637967.0000 - val_fn: 833.0000 - val_accuracy: 0.9994 - val_precision: 0.9957 - val_recall: 0.9956 - val_auc: 0.9996\n",
            "Epoch 5/80\n",
            "88/88 [==============================] - 2s 26ms/step - loss: 0.0018 - tp: 875605.0000 - fp: 3886.0000 - tn: 12310360.0000 - fn: 3984.0000 - accuracy: 0.9994 - precision: 0.9956 - recall: 0.9955 - auc: 0.9997 - val_loss: 0.0019 - val_tp: 187657.0000 - val_fp: 811.0000 - val_tn: 2637965.0000 - val_fn: 827.0000 - val_accuracy: 0.9994 - val_precision: 0.9957 - val_recall: 0.9956 - val_auc: 0.9997\n",
            "Epoch 6/80\n",
            "88/88 [==============================] - 2s 26ms/step - loss: 0.0018 - tp: 875616.0000 - fp: 3876.0000 - tn: 12310370.0000 - fn: 3973.0000 - accuracy: 0.9994 - precision: 0.9956 - recall: 0.9955 - auc: 0.9997 - val_loss: 0.0019 - val_tp: 187654.0000 - val_fp: 814.0000 - val_tn: 2637962.0000 - val_fn: 830.0000 - val_accuracy: 0.9994 - val_precision: 0.9957 - val_recall: 0.9956 - val_auc: 0.9997\n",
            "Epoch 7/80\n",
            "88/88 [==============================] - 2s 26ms/step - loss: 0.0018 - tp: 875616.0000 - fp: 3879.0000 - tn: 12310367.0000 - fn: 3973.0000 - accuracy: 0.9994 - precision: 0.9956 - recall: 0.9955 - auc: 0.9997 - val_loss: 0.0019 - val_tp: 187564.0000 - val_fp: 901.0000 - val_tn: 2637875.0000 - val_fn: 920.0000 - val_accuracy: 0.9994 - val_precision: 0.9952 - val_recall: 0.9951 - val_auc: 0.9994\n",
            "Epoch 8/80\n",
            "88/88 [==============================] - 2s 26ms/step - loss: 0.0018 - tp: 875660.0000 - fp: 3845.0000 - tn: 12310401.0000 - fn: 3929.0000 - accuracy: 0.9994 - precision: 0.9956 - recall: 0.9955 - auc: 0.9997 - val_loss: 0.0018 - val_tp: 187680.0000 - val_fp: 786.0000 - val_tn: 2637990.0000 - val_fn: 804.0000 - val_accuracy: 0.9994 - val_precision: 0.9958 - val_recall: 0.9957 - val_auc: 0.9997\n",
            "Epoch 9/80\n",
            "88/88 [==============================] - 2s 26ms/step - loss: 0.0018 - tp: 875676.0000 - fp: 3821.0000 - tn: 12310425.0000 - fn: 3913.0000 - accuracy: 0.9994 - precision: 0.9957 - recall: 0.9956 - auc: 0.9997 - val_loss: 0.0018 - val_tp: 187654.0000 - val_fp: 817.0000 - val_tn: 2637959.0000 - val_fn: 830.0000 - val_accuracy: 0.9994 - val_precision: 0.9957 - val_recall: 0.9956 - val_auc: 0.9996\n",
            "Epoch 10/80\n",
            "88/88 [==============================] - 2s 26ms/step - loss: 0.0017 - tp: 875689.0000 - fp: 3805.0000 - tn: 12310441.0000 - fn: 3900.0000 - accuracy: 0.9994 - precision: 0.9957 - recall: 0.9956 - auc: 0.9997 - val_loss: 0.0018 - val_tp: 187666.0000 - val_fp: 800.0000 - val_tn: 2637976.0000 - val_fn: 818.0000 - val_accuracy: 0.9994 - val_precision: 0.9958 - val_recall: 0.9957 - val_auc: 0.9997\n",
            "Epoch 11/80\n",
            "88/88 [==============================] - 2s 26ms/step - loss: 0.0018 - tp: 875652.0000 - fp: 3862.0000 - tn: 12310384.0000 - fn: 3937.0000 - accuracy: 0.9994 - precision: 0.9956 - recall: 0.9955 - auc: 0.9997 - val_loss: 0.0018 - val_tp: 187656.0000 - val_fp: 806.0000 - val_tn: 2637970.0000 - val_fn: 828.0000 - val_accuracy: 0.9994 - val_precision: 0.9957 - val_recall: 0.9956 - val_auc: 0.9996\n",
            "Epoch 12/80\n",
            "88/88 [==============================] - 2s 26ms/step - loss: 0.0017 - tp: 875741.0000 - fp: 3756.0000 - tn: 12310490.0000 - fn: 3848.0000 - accuracy: 0.9994 - precision: 0.9957 - recall: 0.9956 - auc: 0.9997 - val_loss: 0.0018 - val_tp: 187691.0000 - val_fp: 778.0000 - val_tn: 2637998.0000 - val_fn: 793.0000 - val_accuracy: 0.9994 - val_precision: 0.9959 - val_recall: 0.9958 - val_auc: 0.9997\n",
            "Epoch 13/80\n",
            "88/88 [==============================] - 2s 26ms/step - loss: 0.0017 - tp: 875738.0000 - fp: 3770.0000 - tn: 12310476.0000 - fn: 3851.0000 - accuracy: 0.9994 - precision: 0.9957 - recall: 0.9956 - auc: 0.9997 - val_loss: 0.0018 - val_tp: 187669.0000 - val_fp: 801.0000 - val_tn: 2637975.0000 - val_fn: 815.0000 - val_accuracy: 0.9994 - val_precision: 0.9958 - val_recall: 0.9957 - val_auc: 0.9996\n",
            "Epoch 14/80\n",
            "88/88 [==============================] - 2s 26ms/step - loss: 0.0017 - tp: 875775.0000 - fp: 3733.0000 - tn: 12310513.0000 - fn: 3814.0000 - accuracy: 0.9994 - precision: 0.9958 - recall: 0.9957 - auc: 0.9997 - val_loss: 0.0019 - val_tp: 187546.0000 - val_fp: 923.0000 - val_tn: 2637853.0000 - val_fn: 938.0000 - val_accuracy: 0.9993 - val_precision: 0.9951 - val_recall: 0.9950 - val_auc: 0.9993\n",
            "Epoch 15/80\n",
            "88/88 [==============================] - 2s 26ms/step - loss: 0.0017 - tp: 875803.0000 - fp: 3701.0000 - tn: 12310545.0000 - fn: 3786.0000 - accuracy: 0.9994 - precision: 0.9958 - recall: 0.9957 - auc: 0.9997 - val_loss: 0.0018 - val_tp: 187706.0000 - val_fp: 762.0000 - val_tn: 2638014.0000 - val_fn: 778.0000 - val_accuracy: 0.9995 - val_precision: 0.9960 - val_recall: 0.9959 - val_auc: 0.9997\n",
            "Epoch 16/80\n",
            "88/88 [==============================] - 2s 26ms/step - loss: 0.0017 - tp: 875829.0000 - fp: 3673.0000 - tn: 12310573.0000 - fn: 3760.0000 - accuracy: 0.9994 - precision: 0.9958 - recall: 0.9957 - auc: 0.9997 - val_loss: 0.0018 - val_tp: 187681.0000 - val_fp: 791.0000 - val_tn: 2637985.0000 - val_fn: 803.0000 - val_accuracy: 0.9994 - val_precision: 0.9958 - val_recall: 0.9957 - val_auc: 0.9997\n",
            "Epoch 17/80\n",
            "88/88 [==============================] - 2s 26ms/step - loss: 0.0017 - tp: 875902.0000 - fp: 3597.0000 - tn: 12310649.0000 - fn: 3687.0000 - accuracy: 0.9994 - precision: 0.9959 - recall: 0.9958 - auc: 0.9998 - val_loss: 0.0017 - val_tp: 187710.0000 - val_fp: 760.0000 - val_tn: 2638016.0000 - val_fn: 774.0000 - val_accuracy: 0.9995 - val_precision: 0.9960 - val_recall: 0.9959 - val_auc: 0.9997\n",
            "Epoch 18/80\n",
            "88/88 [==============================] - 2s 26ms/step - loss: 0.0017 - tp: 875921.0000 - fp: 3585.0000 - tn: 12310661.0000 - fn: 3668.0000 - accuracy: 0.9995 - precision: 0.9959 - recall: 0.9958 - auc: 0.9997 - val_loss: 0.0018 - val_tp: 187651.0000 - val_fp: 814.0000 - val_tn: 2637962.0000 - val_fn: 833.0000 - val_accuracy: 0.9994 - val_precision: 0.9957 - val_recall: 0.9956 - val_auc: 0.9995\n",
            "Epoch 19/80\n",
            "88/88 [==============================] - 2s 26ms/step - loss: 0.0017 - tp: 875830.0000 - fp: 3675.0000 - tn: 12310571.0000 - fn: 3759.0000 - accuracy: 0.9994 - precision: 0.9958 - recall: 0.9957 - auc: 0.9997 - val_loss: 0.0019 - val_tp: 187555.0000 - val_fp: 912.0000 - val_tn: 2637864.0000 - val_fn: 929.0000 - val_accuracy: 0.9993 - val_precision: 0.9952 - val_recall: 0.9951 - val_auc: 0.9994\n",
            "Epoch 20/80\n",
            "88/88 [==============================] - 2s 26ms/step - loss: 0.0016 - tp: 875911.0000 - fp: 3602.0000 - tn: 12310644.0000 - fn: 3678.0000 - accuracy: 0.9994 - precision: 0.9959 - recall: 0.9958 - auc: 0.9997 - val_loss: 0.0017 - val_tp: 187677.0000 - val_fp: 792.0000 - val_tn: 2637984.0000 - val_fn: 807.0000 - val_accuracy: 0.9994 - val_precision: 0.9958 - val_recall: 0.9957 - val_auc: 0.9997\n",
            "Epoch 21/80\n",
            "88/88 [==============================] - 2s 26ms/step - loss: 0.0016 - tp: 875912.0000 - fp: 3596.0000 - tn: 12310650.0000 - fn: 3677.0000 - accuracy: 0.9994 - precision: 0.9959 - recall: 0.9958 - auc: 0.9997 - val_loss: 0.0018 - val_tp: 187660.0000 - val_fp: 807.0000 - val_tn: 2637969.0000 - val_fn: 824.0000 - val_accuracy: 0.9994 - val_precision: 0.9957 - val_recall: 0.9956 - val_auc: 0.9996\n",
            "Epoch 22/80\n",
            "88/88 [==============================] - 2s 26ms/step - loss: 0.0016 - tp: 876014.0000 - fp: 3489.0000 - tn: 12310757.0000 - fn: 3575.0000 - accuracy: 0.9995 - precision: 0.9960 - recall: 0.9959 - auc: 0.9998 - val_loss: 0.0017 - val_tp: 187707.0000 - val_fp: 754.0000 - val_tn: 2638022.0000 - val_fn: 777.0000 - val_accuracy: 0.9995 - val_precision: 0.9960 - val_recall: 0.9959 - val_auc: 0.9997\n",
            "Epoch 23/80\n",
            "88/88 [==============================] - 2s 26ms/step - loss: 0.0016 - tp: 876010.0000 - fp: 3502.0000 - tn: 12310744.0000 - fn: 3579.0000 - accuracy: 0.9995 - precision: 0.9960 - recall: 0.9959 - auc: 0.9998 - val_loss: 0.0017 - val_tp: 187681.0000 - val_fp: 786.0000 - val_tn: 2637990.0000 - val_fn: 803.0000 - val_accuracy: 0.9994 - val_precision: 0.9958 - val_recall: 0.9957 - val_auc: 0.9997\n",
            "Epoch 24/80\n",
            "88/88 [==============================] - 2s 26ms/step - loss: 0.0016 - tp: 875961.0000 - fp: 3556.0000 - tn: 12310690.0000 - fn: 3628.0000 - accuracy: 0.9995 - precision: 0.9960 - recall: 0.9959 - auc: 0.9998 - val_loss: 0.0017 - val_tp: 187725.0000 - val_fp: 748.0000 - val_tn: 2638028.0000 - val_fn: 759.0000 - val_accuracy: 0.9995 - val_precision: 0.9960 - val_recall: 0.9960 - val_auc: 0.9997\n",
            "Epoch 25/80\n",
            "88/88 [==============================] - 2s 26ms/step - loss: 0.0016 - tp: 875970.0000 - fp: 3542.0000 - tn: 12310704.0000 - fn: 3619.0000 - accuracy: 0.9995 - precision: 0.9960 - recall: 0.9959 - auc: 0.9998 - val_loss: 0.0018 - val_tp: 187621.0000 - val_fp: 853.0000 - val_tn: 2637923.0000 - val_fn: 863.0000 - val_accuracy: 0.9994 - val_precision: 0.9955 - val_recall: 0.9954 - val_auc: 0.9995\n",
            "Epoch 26/80\n",
            "88/88 [==============================] - 2s 26ms/step - loss: 0.0016 - tp: 876085.0000 - fp: 3417.0000 - tn: 12310829.0000 - fn: 3504.0000 - accuracy: 0.9995 - precision: 0.9961 - recall: 0.9960 - auc: 0.9998 - val_loss: 0.0016 - val_tp: 187762.0000 - val_fp: 710.0000 - val_tn: 2638066.0000 - val_fn: 722.0000 - val_accuracy: 0.9995 - val_precision: 0.9962 - val_recall: 0.9962 - val_auc: 0.9998\n",
            "Epoch 27/80\n",
            "88/88 [==============================] - 2s 26ms/step - loss: 0.0015 - tp: 876144.0000 - fp: 3369.0000 - tn: 12310877.0000 - fn: 3445.0000 - accuracy: 0.9995 - precision: 0.9962 - recall: 0.9961 - auc: 0.9998 - val_loss: 0.0016 - val_tp: 187728.0000 - val_fp: 742.0000 - val_tn: 2638034.0000 - val_fn: 756.0000 - val_accuracy: 0.9995 - val_precision: 0.9961 - val_recall: 0.9960 - val_auc: 0.9997\n",
            "Epoch 28/80\n",
            "88/88 [==============================] - 2s 26ms/step - loss: 0.0015 - tp: 876114.0000 - fp: 3410.0000 - tn: 12310836.0000 - fn: 3475.0000 - accuracy: 0.9995 - precision: 0.9961 - recall: 0.9960 - auc: 0.9998 - val_loss: 0.0016 - val_tp: 187754.0000 - val_fp: 721.0000 - val_tn: 2638055.0000 - val_fn: 730.0000 - val_accuracy: 0.9995 - val_precision: 0.9962 - val_recall: 0.9961 - val_auc: 0.9998\n",
            "Epoch 29/80\n",
            "88/88 [==============================] - 2s 26ms/step - loss: 0.0015 - tp: 876167.0000 - fp: 3345.0000 - tn: 12310901.0000 - fn: 3422.0000 - accuracy: 0.9995 - precision: 0.9962 - recall: 0.9961 - auc: 0.9998 - val_loss: 0.0017 - val_tp: 187643.0000 - val_fp: 831.0000 - val_tn: 2637945.0000 - val_fn: 841.0000 - val_accuracy: 0.9994 - val_precision: 0.9956 - val_recall: 0.9955 - val_auc: 0.9995\n",
            "Epoch 30/80\n",
            "88/88 [==============================] - 2s 26ms/step - loss: 0.0015 - tp: 876189.0000 - fp: 3335.0000 - tn: 12310911.0000 - fn: 3400.0000 - accuracy: 0.9995 - precision: 0.9962 - recall: 0.9961 - auc: 0.9998 - val_loss: 0.0016 - val_tp: 187774.0000 - val_fp: 703.0000 - val_tn: 2638073.0000 - val_fn: 710.0000 - val_accuracy: 0.9995 - val_precision: 0.9963 - val_recall: 0.9962 - val_auc: 0.9998\n",
            "Epoch 31/80\n",
            "88/88 [==============================] - 2s 26ms/step - loss: 0.0015 - tp: 876226.0000 - fp: 3289.0000 - tn: 12310957.0000 - fn: 3363.0000 - accuracy: 0.9995 - precision: 0.9963 - recall: 0.9962 - auc: 0.9998 - val_loss: 0.0016 - val_tp: 187703.0000 - val_fp: 768.0000 - val_tn: 2638008.0000 - val_fn: 781.0000 - val_accuracy: 0.9995 - val_precision: 0.9959 - val_recall: 0.9959 - val_auc: 0.9997\n",
            "Epoch 32/80\n",
            "88/88 [==============================] - 2s 26ms/step - loss: 0.0015 - tp: 876142.0000 - fp: 3376.0000 - tn: 12310870.0000 - fn: 3447.0000 - accuracy: 0.9995 - precision: 0.9962 - recall: 0.9961 - auc: 0.9998 - val_loss: 0.0016 - val_tp: 187786.0000 - val_fp: 688.0000 - val_tn: 2638088.0000 - val_fn: 698.0000 - val_accuracy: 0.9995 - val_precision: 0.9963 - val_recall: 0.9963 - val_auc: 0.9998\n",
            "Epoch 33/80\n",
            "88/88 [==============================] - 2s 26ms/step - loss: 0.0015 - tp: 876267.0000 - fp: 3257.0000 - tn: 12310989.0000 - fn: 3322.0000 - accuracy: 0.9995 - precision: 0.9963 - recall: 0.9962 - auc: 0.9998 - val_loss: 0.0016 - val_tp: 187740.0000 - val_fp: 726.0000 - val_tn: 2638050.0000 - val_fn: 744.0000 - val_accuracy: 0.9995 - val_precision: 0.9961 - val_recall: 0.9961 - val_auc: 0.9997\n",
            "Epoch 34/80\n",
            "88/88 [==============================] - 2s 26ms/step - loss: 0.0015 - tp: 876253.0000 - fp: 3274.0000 - tn: 12310972.0000 - fn: 3336.0000 - accuracy: 0.9995 - precision: 0.9963 - recall: 0.9962 - auc: 0.9998 - val_loss: 0.0017 - val_tp: 187664.0000 - val_fp: 805.0000 - val_tn: 2637971.0000 - val_fn: 820.0000 - val_accuracy: 0.9994 - val_precision: 0.9957 - val_recall: 0.9956 - val_auc: 0.9996\n",
            "Epoch 35/80\n",
            "88/88 [==============================] - 2s 26ms/step - loss: 0.0015 - tp: 876266.0000 - fp: 3243.0000 - tn: 12311003.0000 - fn: 3323.0000 - accuracy: 0.9995 - precision: 0.9963 - recall: 0.9962 - auc: 0.9998 - val_loss: 0.0015 - val_tp: 187798.0000 - val_fp: 679.0000 - val_tn: 2638097.0000 - val_fn: 686.0000 - val_accuracy: 0.9995 - val_precision: 0.9964 - val_recall: 0.9964 - val_auc: 0.9998\n",
            "Epoch 36/80\n",
            "88/88 [==============================] - 2s 26ms/step - loss: 0.0015 - tp: 876323.0000 - fp: 3198.0000 - tn: 12311048.0000 - fn: 3266.0000 - accuracy: 0.9995 - precision: 0.9964 - recall: 0.9963 - auc: 0.9998 - val_loss: 0.0016 - val_tp: 187776.0000 - val_fp: 697.0000 - val_tn: 2638079.0000 - val_fn: 708.0000 - val_accuracy: 0.9995 - val_precision: 0.9963 - val_recall: 0.9962 - val_auc: 0.9998\n",
            "Epoch 37/80\n",
            "88/88 [==============================] - 2s 26ms/step - loss: 0.0014 - tp: 876341.0000 - fp: 3177.0000 - tn: 12311069.0000 - fn: 3248.0000 - accuracy: 0.9995 - precision: 0.9964 - recall: 0.9963 - auc: 0.9998 - val_loss: 0.0015 - val_tp: 187774.0000 - val_fp: 695.0000 - val_tn: 2638081.0000 - val_fn: 710.0000 - val_accuracy: 0.9995 - val_precision: 0.9963 - val_recall: 0.9962 - val_auc: 0.9998\n",
            "Epoch 38/80\n",
            "88/88 [==============================] - 2s 26ms/step - loss: 0.0014 - tp: 876362.0000 - fp: 3155.0000 - tn: 12311091.0000 - fn: 3227.0000 - accuracy: 0.9995 - precision: 0.9964 - recall: 0.9963 - auc: 0.9998 - val_loss: 0.0015 - val_tp: 187789.0000 - val_fp: 681.0000 - val_tn: 2638095.0000 - val_fn: 695.0000 - val_accuracy: 0.9995 - val_precision: 0.9964 - val_recall: 0.9963 - val_auc: 0.9998\n",
            "Epoch 39/80\n",
            "88/88 [==============================] - 2s 26ms/step - loss: 0.0014 - tp: 876431.0000 - fp: 3092.0000 - tn: 12311154.0000 - fn: 3158.0000 - accuracy: 0.9995 - precision: 0.9965 - recall: 0.9964 - auc: 0.9998 - val_loss: 0.0016 - val_tp: 187754.0000 - val_fp: 719.0000 - val_tn: 2638057.0000 - val_fn: 730.0000 - val_accuracy: 0.9995 - val_precision: 0.9962 - val_recall: 0.9961 - val_auc: 0.9997\n",
            "Epoch 40/80\n",
            "88/88 [==============================] - 2s 26ms/step - loss: 0.0014 - tp: 876448.0000 - fp: 3077.0000 - tn: 12311169.0000 - fn: 3141.0000 - accuracy: 0.9995 - precision: 0.9965 - recall: 0.9964 - auc: 0.9999 - val_loss: 0.0015 - val_tp: 187795.0000 - val_fp: 679.0000 - val_tn: 2638097.0000 - val_fn: 689.0000 - val_accuracy: 0.9995 - val_precision: 0.9964 - val_recall: 0.9963 - val_auc: 0.9998\n",
            "Epoch 41/80\n",
            "88/88 [==============================] - 2s 26ms/step - loss: 0.0014 - tp: 876470.0000 - fp: 3058.0000 - tn: 12311188.0000 - fn: 3119.0000 - accuracy: 0.9995 - precision: 0.9965 - recall: 0.9965 - auc: 0.9998 - val_loss: 0.0016 - val_tp: 187703.0000 - val_fp: 771.0000 - val_tn: 2638005.0000 - val_fn: 781.0000 - val_accuracy: 0.9995 - val_precision: 0.9959 - val_recall: 0.9959 - val_auc: 0.9997\n",
            "Epoch 42/80\n",
            "88/88 [==============================] - 2s 26ms/step - loss: 0.0014 - tp: 876490.0000 - fp: 3031.0000 - tn: 12311215.0000 - fn: 3099.0000 - accuracy: 0.9995 - precision: 0.9966 - recall: 0.9965 - auc: 0.9999 - val_loss: 0.0016 - val_tp: 187731.0000 - val_fp: 744.0000 - val_tn: 2638032.0000 - val_fn: 753.0000 - val_accuracy: 0.9995 - val_precision: 0.9961 - val_recall: 0.9960 - val_auc: 0.9997\n",
            "Epoch 43/80\n",
            "88/88 [==============================] - 2s 26ms/step - loss: 0.0014 - tp: 876511.0000 - fp: 3022.0000 - tn: 12311224.0000 - fn: 3078.0000 - accuracy: 0.9995 - precision: 0.9966 - recall: 0.9965 - auc: 0.9999 - val_loss: 0.0015 - val_tp: 187823.0000 - val_fp: 650.0000 - val_tn: 2638126.0000 - val_fn: 661.0000 - val_accuracy: 0.9995 - val_precision: 0.9966 - val_recall: 0.9965 - val_auc: 0.9998\n",
            "Epoch 44/80\n",
            "88/88 [==============================] - 2s 26ms/step - loss: 0.0014 - tp: 876554.0000 - fp: 2971.0000 - tn: 12311275.0000 - fn: 3035.0000 - accuracy: 0.9995 - precision: 0.9966 - recall: 0.9965 - auc: 0.9999 - val_loss: 0.0015 - val_tp: 187801.0000 - val_fp: 672.0000 - val_tn: 2638104.0000 - val_fn: 683.0000 - val_accuracy: 0.9995 - val_precision: 0.9964 - val_recall: 0.9964 - val_auc: 0.9998\n",
            "Epoch 45/80\n",
            "88/88 [==============================] - 2s 26ms/step - loss: 0.0013 - tp: 876557.0000 - fp: 2968.0000 - tn: 12311278.0000 - fn: 3032.0000 - accuracy: 0.9995 - precision: 0.9966 - recall: 0.9966 - auc: 0.9999 - val_loss: 0.0014 - val_tp: 187827.0000 - val_fp: 649.0000 - val_tn: 2638127.0000 - val_fn: 657.0000 - val_accuracy: 0.9995 - val_precision: 0.9966 - val_recall: 0.9965 - val_auc: 0.9998\n",
            "Epoch 46/80\n",
            "88/88 [==============================] - 2s 26ms/step - loss: 0.0013 - tp: 876631.0000 - fp: 2907.0000 - tn: 12311339.0000 - fn: 2958.0000 - accuracy: 0.9996 - precision: 0.9967 - recall: 0.9966 - auc: 0.9999 - val_loss: 0.0016 - val_tp: 187715.0000 - val_fp: 752.0000 - val_tn: 2638024.0000 - val_fn: 769.0000 - val_accuracy: 0.9995 - val_precision: 0.9960 - val_recall: 0.9959 - val_auc: 0.9997\n",
            "Epoch 47/80\n",
            "88/88 [==============================] - 2s 26ms/step - loss: 0.0013 - tp: 876685.0000 - fp: 2840.0000 - tn: 12311406.0000 - fn: 2904.0000 - accuracy: 0.9996 - precision: 0.9968 - recall: 0.9967 - auc: 0.9999 - val_loss: 0.0014 - val_tp: 187810.0000 - val_fp: 656.0000 - val_tn: 2638120.0000 - val_fn: 674.0000 - val_accuracy: 0.9995 - val_precision: 0.9965 - val_recall: 0.9964 - val_auc: 0.9998\n",
            "Epoch 48/80\n",
            "88/88 [==============================] - 2s 26ms/step - loss: 0.0013 - tp: 876632.0000 - fp: 2891.0000 - tn: 12311355.0000 - fn: 2957.0000 - accuracy: 0.9996 - precision: 0.9967 - recall: 0.9966 - auc: 0.9999 - val_loss: 0.0015 - val_tp: 187749.0000 - val_fp: 726.0000 - val_tn: 2638050.0000 - val_fn: 735.0000 - val_accuracy: 0.9995 - val_precision: 0.9961 - val_recall: 0.9961 - val_auc: 0.9997\n",
            "Epoch 49/80\n",
            "88/88 [==============================] - 2s 26ms/step - loss: 0.0013 - tp: 876672.0000 - fp: 2845.0000 - tn: 12311401.0000 - fn: 2917.0000 - accuracy: 0.9996 - precision: 0.9968 - recall: 0.9967 - auc: 0.9999 - val_loss: 0.0014 - val_tp: 187799.0000 - val_fp: 672.0000 - val_tn: 2638104.0000 - val_fn: 685.0000 - val_accuracy: 0.9995 - val_precision: 0.9964 - val_recall: 0.9964 - val_auc: 0.9998\n",
            "Epoch 50/80\n",
            "88/88 [==============================] - 2s 26ms/step - loss: 0.0013 - tp: 876728.0000 - fp: 2808.0000 - tn: 12311438.0000 - fn: 2861.0000 - accuracy: 0.9996 - precision: 0.9968 - recall: 0.9967 - auc: 0.9999 - val_loss: 0.0015 - val_tp: 187790.0000 - val_fp: 684.0000 - val_tn: 2638092.0000 - val_fn: 694.0000 - val_accuracy: 0.9995 - val_precision: 0.9964 - val_recall: 0.9963 - val_auc: 0.9998\n",
            "Epoch 51/80\n",
            "88/88 [==============================] - 2s 28ms/step - loss: 0.0013 - tp: 876759.0000 - fp: 2767.0000 - tn: 12311479.0000 - fn: 2830.0000 - accuracy: 0.9996 - precision: 0.9969 - recall: 0.9968 - auc: 0.9999 - val_loss: 0.0015 - val_tp: 187779.0000 - val_fp: 698.0000 - val_tn: 2638078.0000 - val_fn: 705.0000 - val_accuracy: 0.9995 - val_precision: 0.9963 - val_recall: 0.9963 - val_auc: 0.9998\n",
            "Epoch 52/80\n",
            "88/88 [==============================] - 2s 26ms/step - loss: 0.0013 - tp: 876764.0000 - fp: 2769.0000 - tn: 12311477.0000 - fn: 2825.0000 - accuracy: 0.9996 - precision: 0.9969 - recall: 0.9968 - auc: 0.9999 - val_loss: 0.0014 - val_tp: 187847.0000 - val_fp: 620.0000 - val_tn: 2638156.0000 - val_fn: 637.0000 - val_accuracy: 0.9996 - val_precision: 0.9967 - val_recall: 0.9966 - val_auc: 0.9998\n",
            "Epoch 53/80\n",
            "88/88 [==============================] - 2s 26ms/step - loss: 0.0012 - tp: 876800.0000 - fp: 2730.0000 - tn: 12311516.0000 - fn: 2789.0000 - accuracy: 0.9996 - precision: 0.9969 - recall: 0.9968 - auc: 0.9999 - val_loss: 0.0014 - val_tp: 187792.0000 - val_fp: 679.0000 - val_tn: 2638097.0000 - val_fn: 692.0000 - val_accuracy: 0.9995 - val_precision: 0.9964 - val_recall: 0.9963 - val_auc: 0.9998\n",
            "Epoch 54/80\n",
            "88/88 [==============================] - 2s 26ms/step - loss: 0.0012 - tp: 876861.0000 - fp: 2673.0000 - tn: 12311573.0000 - fn: 2728.0000 - accuracy: 0.9996 - precision: 0.9970 - recall: 0.9969 - auc: 0.9999 - val_loss: 0.0014 - val_tp: 187792.0000 - val_fp: 680.0000 - val_tn: 2638096.0000 - val_fn: 692.0000 - val_accuracy: 0.9995 - val_precision: 0.9964 - val_recall: 0.9963 - val_auc: 0.9998\n",
            "Epoch 55/80\n",
            "88/88 [==============================] - 2s 26ms/step - loss: 0.0012 - tp: 876862.0000 - fp: 2658.0000 - tn: 12311588.0000 - fn: 2727.0000 - accuracy: 0.9996 - precision: 0.9970 - recall: 0.9969 - auc: 0.9999 - val_loss: 0.0014 - val_tp: 187832.0000 - val_fp: 642.0000 - val_tn: 2638134.0000 - val_fn: 652.0000 - val_accuracy: 0.9995 - val_precision: 0.9966 - val_recall: 0.9965 - val_auc: 0.9998\n",
            "Epoch 56/80\n",
            "88/88 [==============================] - 2s 26ms/step - loss: 0.0012 - tp: 876844.0000 - fp: 2683.0000 - tn: 12311563.0000 - fn: 2745.0000 - accuracy: 0.9996 - precision: 0.9969 - recall: 0.9969 - auc: 0.9999 - val_loss: 0.0014 - val_tp: 187832.0000 - val_fp: 641.0000 - val_tn: 2638135.0000 - val_fn: 652.0000 - val_accuracy: 0.9995 - val_precision: 0.9966 - val_recall: 0.9965 - val_auc: 0.9998\n",
            "Epoch 57/80\n",
            "88/88 [==============================] - 2s 27ms/step - loss: 0.0012 - tp: 876918.0000 - fp: 2618.0000 - tn: 12311628.0000 - fn: 2671.0000 - accuracy: 0.9996 - precision: 0.9970 - recall: 0.9970 - auc: 0.9999 - val_loss: 0.0013 - val_tp: 187860.0000 - val_fp: 609.0000 - val_tn: 2638167.0000 - val_fn: 624.0000 - val_accuracy: 0.9996 - val_precision: 0.9968 - val_recall: 0.9967 - val_auc: 0.9998\n",
            "Epoch 58/80\n",
            "88/88 [==============================] - 2s 26ms/step - loss: 0.0012 - tp: 876958.0000 - fp: 2583.0000 - tn: 12311663.0000 - fn: 2631.0000 - accuracy: 0.9996 - precision: 0.9971 - recall: 0.9970 - auc: 0.9999 - val_loss: 0.0014 - val_tp: 187767.0000 - val_fp: 699.0000 - val_tn: 2638077.0000 - val_fn: 717.0000 - val_accuracy: 0.9995 - val_precision: 0.9963 - val_recall: 0.9962 - val_auc: 0.9998\n",
            "Epoch 59/80\n",
            "88/88 [==============================] - 2s 26ms/step - loss: 0.0012 - tp: 876962.0000 - fp: 2574.0000 - tn: 12311672.0000 - fn: 2627.0000 - accuracy: 0.9996 - precision: 0.9971 - recall: 0.9970 - auc: 0.9999 - val_loss: 0.0013 - val_tp: 187878.0000 - val_fp: 593.0000 - val_tn: 2638183.0000 - val_fn: 606.0000 - val_accuracy: 0.9996 - val_precision: 0.9969 - val_recall: 0.9968 - val_auc: 0.9998\n",
            "Epoch 60/80\n",
            "88/88 [==============================] - 2s 26ms/step - loss: 0.0012 - tp: 877001.0000 - fp: 2533.0000 - tn: 12311713.0000 - fn: 2588.0000 - accuracy: 0.9996 - precision: 0.9971 - recall: 0.9971 - auc: 0.9999 - val_loss: 0.0013 - val_tp: 187865.0000 - val_fp: 606.0000 - val_tn: 2638170.0000 - val_fn: 619.0000 - val_accuracy: 0.9996 - val_precision: 0.9968 - val_recall: 0.9967 - val_auc: 0.9998\n",
            "Epoch 61/80\n",
            "88/88 [==============================] - 2s 26ms/step - loss: 0.0011 - tp: 877050.0000 - fp: 2490.0000 - tn: 12311756.0000 - fn: 2539.0000 - accuracy: 0.9996 - precision: 0.9972 - recall: 0.9971 - auc: 0.9999 - val_loss: 0.0014 - val_tp: 187856.0000 - val_fp: 619.0000 - val_tn: 2638157.0000 - val_fn: 628.0000 - val_accuracy: 0.9996 - val_precision: 0.9967 - val_recall: 0.9967 - val_auc: 0.9998\n",
            "Epoch 62/80\n",
            "88/88 [==============================] - 2s 26ms/step - loss: 0.0011 - tp: 877090.0000 - fp: 2442.0000 - tn: 12311804.0000 - fn: 2499.0000 - accuracy: 0.9996 - precision: 0.9972 - recall: 0.9972 - auc: 0.9999 - val_loss: 0.0014 - val_tp: 187776.0000 - val_fp: 700.0000 - val_tn: 2638076.0000 - val_fn: 708.0000 - val_accuracy: 0.9995 - val_precision: 0.9963 - val_recall: 0.9962 - val_auc: 0.9997\n",
            "Epoch 63/80\n",
            "88/88 [==============================] - 2s 26ms/step - loss: 0.0011 - tp: 877099.0000 - fp: 2429.0000 - tn: 12311817.0000 - fn: 2490.0000 - accuracy: 0.9996 - precision: 0.9972 - recall: 0.9972 - auc: 0.9999 - val_loss: 0.0013 - val_tp: 187904.0000 - val_fp: 566.0000 - val_tn: 2638210.0000 - val_fn: 580.0000 - val_accuracy: 0.9996 - val_precision: 0.9970 - val_recall: 0.9969 - val_auc: 0.9998\n",
            "Epoch 64/80\n",
            "88/88 [==============================] - 2s 26ms/step - loss: 0.0011 - tp: 877167.0000 - fp: 2374.0000 - tn: 12311872.0000 - fn: 2422.0000 - accuracy: 0.9996 - precision: 0.9973 - recall: 0.9972 - auc: 0.9999 - val_loss: 0.0014 - val_tp: 187797.0000 - val_fp: 671.0000 - val_tn: 2638105.0000 - val_fn: 687.0000 - val_accuracy: 0.9995 - val_precision: 0.9964 - val_recall: 0.9964 - val_auc: 0.9998\n",
            "Epoch 65/80\n",
            "88/88 [==============================] - 2s 26ms/step - loss: 0.0011 - tp: 877124.0000 - fp: 2409.0000 - tn: 12311837.0000 - fn: 2465.0000 - accuracy: 0.9996 - precision: 0.9973 - recall: 0.9972 - auc: 0.9999 - val_loss: 0.0014 - val_tp: 187762.0000 - val_fp: 714.0000 - val_tn: 2638062.0000 - val_fn: 722.0000 - val_accuracy: 0.9995 - val_precision: 0.9962 - val_recall: 0.9962 - val_auc: 0.9997\n",
            "Epoch 66/80\n",
            "88/88 [==============================] - 2s 26ms/step - loss: 0.0011 - tp: 877178.0000 - fp: 2355.0000 - tn: 12311891.0000 - fn: 2411.0000 - accuracy: 0.9996 - precision: 0.9973 - recall: 0.9973 - auc: 0.9999 - val_loss: 0.0013 - val_tp: 187828.0000 - val_fp: 647.0000 - val_tn: 2638129.0000 - val_fn: 656.0000 - val_accuracy: 0.9995 - val_precision: 0.9966 - val_recall: 0.9965 - val_auc: 0.9998\n",
            "Epoch 67/80\n",
            "88/88 [==============================] - 2s 26ms/step - loss: 0.0011 - tp: 877275.0000 - fp: 2258.0000 - tn: 12311988.0000 - fn: 2314.0000 - accuracy: 0.9997 - precision: 0.9974 - recall: 0.9974 - auc: 0.9999 - val_loss: 0.0012 - val_tp: 187951.0000 - val_fp: 518.0000 - val_tn: 2638258.0000 - val_fn: 533.0000 - val_accuracy: 0.9996 - val_precision: 0.9973 - val_recall: 0.9972 - val_auc: 0.9999\n",
            "Epoch 68/80\n",
            "88/88 [==============================] - 2s 26ms/step - loss: 0.0011 - tp: 877265.0000 - fp: 2273.0000 - tn: 12311973.0000 - fn: 2324.0000 - accuracy: 0.9997 - precision: 0.9974 - recall: 0.9974 - auc: 0.9999 - val_loss: 0.0012 - val_tp: 187906.0000 - val_fp: 567.0000 - val_tn: 2638209.0000 - val_fn: 578.0000 - val_accuracy: 0.9996 - val_precision: 0.9970 - val_recall: 0.9969 - val_auc: 0.9998\n",
            "Epoch 69/80\n",
            "88/88 [==============================] - 2s 26ms/step - loss: 0.0010 - tp: 877310.0000 - fp: 2239.0000 - tn: 12312007.0000 - fn: 2279.0000 - accuracy: 0.9997 - precision: 0.9975 - recall: 0.9974 - auc: 0.9999 - val_loss: 0.0012 - val_tp: 187950.0000 - val_fp: 521.0000 - val_tn: 2638255.0000 - val_fn: 534.0000 - val_accuracy: 0.9996 - val_precision: 0.9972 - val_recall: 0.9972 - val_auc: 0.9998\n",
            "Epoch 70/80\n",
            "88/88 [==============================] - 2s 26ms/step - loss: 0.0010 - tp: 877346.0000 - fp: 2183.0000 - tn: 12312063.0000 - fn: 2243.0000 - accuracy: 0.9997 - precision: 0.9975 - recall: 0.9974 - auc: 0.9999 - val_loss: 0.0012 - val_tp: 187908.0000 - val_fp: 564.0000 - val_tn: 2638212.0000 - val_fn: 576.0000 - val_accuracy: 0.9996 - val_precision: 0.9970 - val_recall: 0.9969 - val_auc: 0.9998\n",
            "Epoch 71/80\n",
            "88/88 [==============================] - 2s 26ms/step - loss: 0.0010 - tp: 877361.0000 - fp: 2178.0000 - tn: 12312068.0000 - fn: 2228.0000 - accuracy: 0.9997 - precision: 0.9975 - recall: 0.9975 - auc: 0.9999 - val_loss: 0.0012 - val_tp: 187959.0000 - val_fp: 514.0000 - val_tn: 2638262.0000 - val_fn: 525.0000 - val_accuracy: 0.9996 - val_precision: 0.9973 - val_recall: 0.9972 - val_auc: 0.9998\n",
            "Epoch 72/80\n",
            "88/88 [==============================] - 2s 27ms/step - loss: 0.0010 - tp: 877418.0000 - fp: 2119.0000 - tn: 12312127.0000 - fn: 2171.0000 - accuracy: 0.9997 - precision: 0.9976 - recall: 0.9975 - auc: 0.9999 - val_loss: 0.0014 - val_tp: 187797.0000 - val_fp: 676.0000 - val_tn: 2638100.0000 - val_fn: 687.0000 - val_accuracy: 0.9995 - val_precision: 0.9964 - val_recall: 0.9964 - val_auc: 0.9997\n",
            "Epoch 73/80\n",
            "88/88 [==============================] - 2s 26ms/step - loss: 0.0010 - tp: 877463.0000 - fp: 2074.0000 - tn: 12312172.0000 - fn: 2126.0000 - accuracy: 0.9997 - precision: 0.9976 - recall: 0.9976 - auc: 0.9999 - val_loss: 0.0013 - val_tp: 187823.0000 - val_fp: 652.0000 - val_tn: 2638124.0000 - val_fn: 661.0000 - val_accuracy: 0.9995 - val_precision: 0.9965 - val_recall: 0.9965 - val_auc: 0.9998\n",
            "Epoch 74/80\n",
            "88/88 [==============================] - 2s 26ms/step - loss: 9.8559e-04 - tp: 877472.0000 - fp: 2064.0000 - tn: 12312182.0000 - fn: 2117.0000 - accuracy: 0.9997 - precision: 0.9977 - recall: 0.9976 - auc: 0.9999 - val_loss: 0.0012 - val_tp: 188013.0000 - val_fp: 457.0000 - val_tn: 2638319.0000 - val_fn: 471.0000 - val_accuracy: 0.9997 - val_precision: 0.9976 - val_recall: 0.9975 - val_auc: 0.9999\n",
            "Epoch 75/80\n",
            "88/88 [==============================] - 2s 26ms/step - loss: 9.7903e-04 - tp: 877493.0000 - fp: 2044.0000 - tn: 12312202.0000 - fn: 2096.0000 - accuracy: 0.9997 - precision: 0.9977 - recall: 0.9976 - auc: 0.9999 - val_loss: 0.0012 - val_tp: 187947.0000 - val_fp: 524.0000 - val_tn: 2638252.0000 - val_fn: 537.0000 - val_accuracy: 0.9996 - val_precision: 0.9972 - val_recall: 0.9972 - val_auc: 0.9998\n",
            "Epoch 76/80\n",
            "88/88 [==============================] - 2s 26ms/step - loss: 9.5900e-04 - tp: 877570.0000 - fp: 1971.0000 - tn: 12312275.0000 - fn: 2019.0000 - accuracy: 0.9997 - precision: 0.9978 - recall: 0.9977 - auc: 0.9999 - val_loss: 0.0012 - val_tp: 187957.0000 - val_fp: 519.0000 - val_tn: 2638257.0000 - val_fn: 527.0000 - val_accuracy: 0.9996 - val_precision: 0.9972 - val_recall: 0.9972 - val_auc: 0.9998\n",
            "Epoch 77/80\n",
            "88/88 [==============================] - 2s 26ms/step - loss: 9.5125e-04 - tp: 877647.0000 - fp: 1896.0000 - tn: 12312350.0000 - fn: 1942.0000 - accuracy: 0.9997 - precision: 0.9978 - recall: 0.9978 - auc: 0.9999 - val_loss: 0.0013 - val_tp: 187870.0000 - val_fp: 603.0000 - val_tn: 2638173.0000 - val_fn: 614.0000 - val_accuracy: 0.9996 - val_precision: 0.9968 - val_recall: 0.9967 - val_auc: 0.9998\n",
            "Epoch 78/80\n",
            "88/88 [==============================] - 2s 26ms/step - loss: 9.4286e-04 - tp: 877630.0000 - fp: 1913.0000 - tn: 12312333.0000 - fn: 1959.0000 - accuracy: 0.9997 - precision: 0.9978 - recall: 0.9978 - auc: 0.9999 - val_loss: 0.0012 - val_tp: 187922.0000 - val_fp: 551.0000 - val_tn: 2638225.0000 - val_fn: 562.0000 - val_accuracy: 0.9996 - val_precision: 0.9971 - val_recall: 0.9970 - val_auc: 0.9998\n",
            "Epoch 79/80\n",
            "88/88 [==============================] - 2s 26ms/step - loss: 9.4037e-04 - tp: 877623.0000 - fp: 1921.0000 - tn: 12312325.0000 - fn: 1966.0000 - accuracy: 0.9997 - precision: 0.9978 - recall: 0.9978 - auc: 0.9999 - val_loss: 0.0012 - val_tp: 187901.0000 - val_fp: 571.0000 - val_tn: 2638205.0000 - val_fn: 583.0000 - val_accuracy: 0.9996 - val_precision: 0.9970 - val_recall: 0.9969 - val_auc: 0.9998\n",
            "Epoch 80/80\n",
            "88/88 [==============================] - 2s 27ms/step - loss: 9.2056e-04 - tp: 877702.0000 - fp: 1848.0000 - tn: 12312398.0000 - fn: 1887.0000 - accuracy: 0.9997 - precision: 0.9979 - recall: 0.9979 - auc: 0.9999 - val_loss: 0.0012 - val_tp: 187886.0000 - val_fp: 590.0000 - val_tn: 2638186.0000 - val_fn: 598.0000 - val_accuracy: 0.9996 - val_precision: 0.9969 - val_recall: 0.9968 - val_auc: 0.9998\n"
          ],
          "name": "stdout"
        }
      ]
    },
    {
      "cell_type": "code",
      "metadata": {
        "id": "MxM84sgDvHiO"
      },
      "source": [
        "y_pred_sd = model_dnn_sd.predict(X_test_sd)"
      ],
      "execution_count": 127,
      "outputs": []
    },
    {
      "cell_type": "code",
      "metadata": {
        "colab": {
          "base_uri": "https://localhost:8080/"
        },
        "id": "YVs15uo8vHiP",
        "outputId": "8276874b-7044-415a-fcbf-ff1298b9a55f"
      },
      "source": [
        "display_metrics(y_test_origin, np.argmax(y_pred_sd, axis = 1), labels_d)"
      ],
      "execution_count": 128,
      "outputs": [
        {
          "output_type": "stream",
          "text": [
            "\n",
            "Accuracy: 0.99\n",
            "\n",
            "Micro Precision: 0.99\n",
            "Micro Recall: 0.99\n",
            "Micro F1-score: 0.99\n",
            "\n",
            "Macro Precision: 0.74\n",
            "Macro Recall: 0.71\n"
          ],
          "name": "stdout"
        },
        {
          "output_type": "stream",
          "text": [
            "/usr/local/lib/python3.6/dist-packages/sklearn/metrics/_classification.py:1272: UndefinedMetricWarning: Precision is ill-defined and being set to 0.0 in labels with no predicted samples. Use `zero_division` parameter to control this behavior.\n",
            "  _warn_prf(average, modifier, msg_start, len(result))\n"
          ],
          "name": "stderr"
        },
        {
          "output_type": "stream",
          "text": [
            "Macro F1-score: 0.72\n",
            "\n",
            "Weighted Precision: 0.99\n",
            "Weighted Recall: 0.99\n",
            "Weighted F1-score: 0.99\n",
            "\n",
            "Classification Report\n",
            "\n"
          ],
          "name": "stdout"
        },
        {
          "output_type": "stream",
          "text": [
            "/usr/local/lib/python3.6/dist-packages/sklearn/metrics/_classification.py:1272: UndefinedMetricWarning: Precision and F-score are ill-defined and being set to 0.0 in labels with no predicted samples. Use `zero_division` parameter to control this behavior.\n",
            "  _warn_prf(average, modifier, msg_start, len(result))\n"
          ],
          "name": "stderr"
        },
        {
          "output_type": "stream",
          "text": [
            "                            precision    recall  f1-score   support\n",
            "\n",
            "                    BENIGN       0.99      0.99      0.99    105019\n",
            "                       Bot       0.83      0.98      0.90       280\n",
            "                      DDoS       1.00      1.00      1.00     19271\n",
            "             DoS GoldenEye       0.99      0.99      0.99      1542\n",
            "                  DoS Hulk       1.00      1.00      1.00     34547\n",
            "          DoS Slowhttptest       0.99      0.99      0.99       828\n",
            "             DoS slowloris       0.99      0.99      0.99       834\n",
            "               FTP-Patator       0.99      0.79      0.88      1178\n",
            "                Heartbleed       0.00      0.00      0.00         2\n",
            "              Infiltration       0.00      0.00      0.00         1\n",
            "                  PortScan       0.94      1.00      0.97     23846\n",
            "               SSH-Patator       0.93      0.48      0.63       826\n",
            "  Web Attack � Brute Force       0.78      0.81      0.79       209\n",
            "Web Attack � Sql Injection       0.00      0.00      0.00         7\n",
            "          Web Attack � XSS       0.64      0.60      0.62        93\n",
            "\n",
            "                  accuracy                           0.99    188483\n",
            "                 macro avg       0.74      0.71      0.72    188483\n",
            "              weighted avg       0.99      0.99      0.99    188483\n",
            "\n"
          ],
          "name": "stdout"
        }
      ]
    },
    {
      "cell_type": "markdown",
      "metadata": {
        "id": "Nc5nd5W-vHiP"
      },
      "source": [
        "### Save the trained model"
      ]
    },
    {
      "cell_type": "code",
      "metadata": {
        "id": "uJNGsprCvHiP"
      },
      "source": [
        "model_dnn_sd.save('dnn_sd.h5')"
      ],
      "execution_count": null,
      "outputs": []
    },
    {
      "cell_type": "markdown",
      "metadata": {
        "id": "xfPa45GrvHiP"
      },
      "source": [
        "#  Four Model Ensemble\n",
        "\n",
        "Now all three models will be combined in an ensemble. \n",
        "\n",
        "Here, all four models are reinstantiated and the best saved weights are loaded."
      ]
    },
    {
      "cell_type": "markdown",
      "metadata": {
        "id": "VcsNoCLTvHiQ"
      },
      "source": [
        "If we want to reload the models with saved weights, we reload the saved models"
      ]
    },
    {
      "cell_type": "code",
      "metadata": {
        "id": "junuitTGvHiQ"
      },
      "source": [
        "from keras.models import load_model"
      ],
      "execution_count": null,
      "outputs": []
    },
    {
      "cell_type": "code",
      "metadata": {
        "id": "TBbeV_VQA_R4"
      },
      "source": [
        "randomforest_file_name = 'randomforest.sav'\r\n",
        "decisiontree_file_name = 'decisiontree.sav'"
      ],
      "execution_count": null,
      "outputs": []
    },
    {
      "cell_type": "code",
      "metadata": {
        "id": "HiCIU7BivHiR"
      },
      "source": [
        "# load the Random Forest model from disk\n",
        "randomforest_model = pickle.load(open(randomforest_file_name, 'rb'))\n",
        "decisiontree_model = pickle.load(open(decisiontree_file_name, 'rb'))\n",
        "dnn_n_model = load_model('dnn_n.h5')\n",
        "dnn_sd_model = load_model('dnn_sd.h5')"
      ],
      "execution_count": null,
      "outputs": []
    },
    {
      "cell_type": "code",
      "metadata": {
        "collapsed": true,
        "id": "RSFYNAscvHiR"
      },
      "source": [
        "models = [randomforest_model, dnn_n_model, dnn_sd_model]"
      ],
      "execution_count": null,
      "outputs": []
    },
    {
      "cell_type": "markdown",
      "metadata": {
        "id": "jA-o7PcevHiR"
      },
      "source": [
        "Ensemble model definition is very straightforward. It uses the same input layer thas is shared between all previous models. In the top layer, the ensemble computes the average of three models' outputs by using `Average()` merge layer."
      ]
    },
    {
      "cell_type": "code",
      "metadata": {
        "collapsed": true,
        "id": "yrjLEwt-vHiS"
      },
      "source": [
        "def ensemble(models: List [training.Model], model_input: Tensor) -> training.Model:\n",
        "    \n",
        "    outputs = [model.outputs[0] for model in models]\n",
        "    y = Average()(outputs)\n",
        "    \n",
        "    model = Model(model_input, y, name='ensemble')\n",
        "    \n",
        "    return model"
      ],
      "execution_count": null,
      "outputs": []
    },
    {
      "cell_type": "code",
      "metadata": {
        "id": "dYmtY0mmvHiS"
      },
      "source": [
        "result = randomforest_model.score(X_test, Y_test)\n",
        "print(result)"
      ],
      "execution_count": null,
      "outputs": []
    },
    {
      "cell_type": "code",
      "metadata": {
        "collapsed": true,
        "id": "gf6pFArAvHiS"
      },
      "source": [
        "ensemble_model = ensemble(models, model_input)"
      ],
      "execution_count": null,
      "outputs": []
    },
    {
      "cell_type": "markdown",
      "metadata": {
        "id": "C-eKjy6hvHiS"
      },
      "source": [
        "As expected, the ensemble has a lower error rate than any single model."
      ]
    },
    {
      "cell_type": "code",
      "metadata": {
        "scrolled": true,
        "id": "-dq_-j21vHiS",
        "outputId": "5dfab389-b007-4aa0-ff5c-e67d88fb46fb"
      },
      "source": [
        "evaluate_error(ensemble_model)"
      ],
      "execution_count": null,
      "outputs": [
        {
          "output_type": "execute_result",
          "data": {
            "text/plain": [
              "0.2049"
            ]
          },
          "metadata": {
            "tags": []
          },
          "execution_count": 22
        }
      ]
    },
    {
      "cell_type": "markdown",
      "metadata": {
        "id": "1A_sWmdDvHiT"
      },
      "source": [
        "# end of my code"
      ]
    },
    {
      "cell_type": "code",
      "metadata": {
        "id": "o9SNHYMIvHiT"
      },
      "source": [
        "CONV_POOL_CNN_WEIGHT_FILE = os.path.join(os.getcwd(), 'weights', 'conv_pool_cnn_pretrained_weights.hdf5')\n",
        "ALL_CNN_WEIGHT_FILE = os.path.join(os.getcwd(), 'weights', 'all_cnn_pretrained_weights.hdf5')\n",
        "NIN_CNN_WEIGHT_FILE = os.path.join(os.getcwd(), 'weights', 'nin_cnn_pretrained_weights.hdf5')"
      ],
      "execution_count": null,
      "outputs": []
    },
    {
      "cell_type": "markdown",
      "metadata": {
        "id": "Mi9yUrR-vHiT"
      },
      "source": [
        "I am using CIFAR-10, since it is relatively easy to find papers describing architectures that work well on this dataset. Using a popular dataset also makes this example easily reproducible.\n",
        "\n",
        "Here the dataset is imported. Both train and test image data is normalized. The training label vector is converted to a one-hot-matrix. Don't need to convert the test label vector, since it won't be used during training."
      ]
    },
    {
      "cell_type": "code",
      "metadata": {
        "collapsed": true,
        "id": "pVr2ksHSvHiU"
      },
      "source": [
        "def load_data() -> Tuple [np.ndarray, np.ndarray, np.ndarray, np.ndarray]:\n",
        "    (x_train, y_train), (x_test, y_test) = cifar10.load_data()\n",
        "    x_train = x_train / 255.\n",
        "    x_test = x_test / 255.\n",
        "    y_train = to_categorical(y_train, num_classes=10)\n",
        "    return x_train, x_test, y_train, y_test"
      ],
      "execution_count": null,
      "outputs": []
    },
    {
      "cell_type": "code",
      "metadata": {
        "id": "J2gS6r40vHiU"
      },
      "source": [
        "x_train, x_test, y_train, y_test = load_data()"
      ],
      "execution_count": null,
      "outputs": []
    },
    {
      "cell_type": "markdown",
      "metadata": {
        "id": "EP5YPCgZvHiU"
      },
      "source": [
        "The dataset consists of 60000 32x32 RGB images from 10 classes. 50000 images are used for training/validation and the other 10000 for testing."
      ]
    },
    {
      "cell_type": "code",
      "metadata": {
        "id": "OybOt4ZWvHiU",
        "outputId": "ee16dc8a-32fb-44d6-b2ca-16536bb64c4a"
      },
      "source": [
        "print('x_train shape: {} | y_train shape: {}\\nx_test shape : {} | y_test shape : {}'.format(x_train.shape, y_train.shape,\n",
        "                                                                                          x_test.shape, y_test.shape))"
      ],
      "execution_count": null,
      "outputs": [
        {
          "output_type": "stream",
          "text": [
            "x_train shape: (50000, 32, 32, 3) | y_train shape: (50000, 10)\n",
            "x_test shape : (10000, 32, 32, 3) | y_test shape : (10000, 1)\n"
          ],
          "name": "stdout"
        }
      ]
    },
    {
      "cell_type": "markdown",
      "metadata": {
        "id": "VBSsYF4NvHiU"
      },
      "source": [
        "Since all three models work with the data of the same shape, it makes sense to define a single input layer that will be used by every model."
      ]
    },
    {
      "cell_type": "code",
      "metadata": {
        "collapsed": true,
        "id": "eQ3P2-_svHiV"
      },
      "source": [
        "input_shape = x_train[0,:,:,:].shape\n",
        "model_input = Input(shape=input_shape)"
      ],
      "execution_count": null,
      "outputs": []
    },
    {
      "cell_type": "code",
      "metadata": {
        "collapsed": true,
        "id": "2z3j2MbPvHiV"
      },
      "source": [
        "def conv_pool_cnn(model_input: Tensor) -> training.Model:\n",
        "    \n",
        "    x = Conv2D(96, kernel_size=(3, 3), activation='relu', padding = 'same')(model_input)\n",
        "    x = Conv2D(96, (3, 3), activation='relu', padding = 'same')(x)\n",
        "    x = Conv2D(96, (3, 3), activation='relu', padding = 'same')(x)\n",
        "    x = MaxPooling2D(pool_size=(3, 3), strides = 2)(x)\n",
        "    x = Conv2D(192, (3, 3), activation='relu', padding = 'same')(x)\n",
        "    x = Conv2D(192, (3, 3), activation='relu', padding = 'same')(x)\n",
        "    x = Conv2D(192, (3, 3), activation='relu', padding = 'same')(x)\n",
        "    x = MaxPooling2D(pool_size=(3, 3), strides = 2)(x)\n",
        "    x = Conv2D(192, (3, 3), activation='relu', padding = 'same')(x)\n",
        "    x = Conv2D(192, (1, 1), activation='relu')(x)\n",
        "    x = Conv2D(10, (1, 1))(x)\n",
        "    x = GlobalAveragePooling2D()(x)\n",
        "    x = Activation(activation='softmax')(x)\n",
        "    \n",
        "    model = Model(model_input, x, name='conv_pool_cnn')\n",
        "    \n",
        "    return model"
      ],
      "execution_count": null,
      "outputs": []
    },
    {
      "cell_type": "code",
      "metadata": {
        "collapsed": true,
        "id": "lSzAtUkGvHiV"
      },
      "source": [
        "conv_pool_cnn_model = conv_pool_cnn(model_input)"
      ],
      "execution_count": null,
      "outputs": []
    },
    {
      "cell_type": "markdown",
      "metadata": {
        "id": "BVSsfdj-vHiV"
      },
      "source": [
        "For simplicity's sake, each model is compiled and trained using the same parameters. Using 20 epochs with a batch size of 32 (1250 steps per epoch) seems sufficient for any of the three models to get to some local minima. Randomly chosen 20% of the training dataset is used for validation."
      ]
    },
    {
      "cell_type": "code",
      "metadata": {
        "id": "9_fohnrhvHiW"
      },
      "source": [
        "NUM_EPOCHS = 20"
      ],
      "execution_count": null,
      "outputs": []
    },
    {
      "cell_type": "code",
      "metadata": {
        "collapsed": true,
        "id": "N3YliEmwvHiW"
      },
      "source": [
        "def compile_and_train(model: training.Model, num_epochs: int) -> Tuple [History, str]: \n",
        "    \n",
        "    model.compile(loss=categorical_crossentropy, optimizer=Adam(), metrics=['acc']) \n",
        "    filepath = 'weights/' + model.name + '.{epoch:02d}-{loss:.2f}.hdf5'\n",
        "    checkpoint = ModelCheckpoint(filepath, monitor='loss', verbose=0, save_weights_only=True,\n",
        "                                                 save_best_only=True, mode='auto', period=1)\n",
        "    tensor_board = TensorBoard(log_dir='logs/', histogram_freq=0, batch_size=32)\n",
        "    history = model.fit(x=x_train, y=y_train, batch_size=32, \n",
        "                     epochs=num_epochs, verbose=1, callbacks=[checkpoint, tensor_board], validation_split=0.2)\n",
        "    weight_files = glob.glob(os.path.join(os.getcwd(), 'weights/*'))\n",
        "    weight_file = max(weight_files, key=os.path.getctime) # most recent file\n",
        "    return history, weight_file"
      ],
      "execution_count": null,
      "outputs": []
    },
    {
      "cell_type": "markdown",
      "metadata": {
        "id": "gth2LyjBvHiW"
      },
      "source": [
        "It takes about 1 min to train this and the next model for one epoch using a single Tesla K80 GPU. Training might take a while if you are using a CPU.\n",
        "\n",
        "**If you don't want to spend time training the model, skip executing the following cell.** Pretrained weights will be used instead."
      ]
    },
    {
      "cell_type": "code",
      "metadata": {
        "collapsed": true,
        "id": "U0IXVm2uvHiW"
      },
      "source": [
        "_, conv_pool_cnn_weight_file = compile_and_train(conv_pool_cnn_model, NUM_EPOCHS)"
      ],
      "execution_count": null,
      "outputs": []
    },
    {
      "cell_type": "markdown",
      "metadata": {
        "id": "VysVxfrtvHiX"
      },
      "source": [
        "One simple way to evaluate the model is to calculate the error rate on the test set."
      ]
    },
    {
      "cell_type": "code",
      "metadata": {
        "collapsed": true,
        "id": "wgKVMxvSvHiX"
      },
      "source": [
        "def evaluate_error(model: training.Model) -> np.float64:\n",
        "    pred = model.predict(x_test, batch_size = 32)\n",
        "    pred = np.argmax(pred, axis=1)\n",
        "    pred = np.expand_dims(pred, axis=1) # make same shape as y_test\n",
        "    error = np.sum(np.not_equal(pred, y_test)) / y_test.shape[0]    \n",
        "    return error"
      ],
      "execution_count": null,
      "outputs": []
    },
    {
      "cell_type": "code",
      "metadata": {
        "id": "8ypX_zcYvHiX",
        "outputId": "20eada2d-130b-4e4b-fa49-ef6d708d64ad"
      },
      "source": [
        "try:\n",
        "    conv_pool_cnn_weight_file\n",
        "except NameError:\n",
        "    conv_pool_cnn_model.load_weights(CONV_POOL_CNN_WEIGHT_FILE)\n",
        "evaluate_error(conv_pool_cnn_model)"
      ],
      "execution_count": null,
      "outputs": [
        {
          "output_type": "execute_result",
          "data": {
            "text/plain": [
              "0.2414"
            ]
          },
          "metadata": {
            "tags": []
          },
          "execution_count": 12
        }
      ]
    },
    {
      "cell_type": "code",
      "metadata": {
        "collapsed": true,
        "id": "tk4zVdn1vHiX"
      },
      "source": [
        "def all_cnn(model_input: Tensor) -> training.Model:\n",
        "    \n",
        "    x = Conv2D(96, kernel_size=(3, 3), activation='relu', padding = 'same')(model_input)\n",
        "    x = Conv2D(96, (3, 3), activation='relu', padding = 'same')(x)\n",
        "    x = Conv2D(96, (3, 3), activation='relu', padding = 'same', strides = 2)(x)\n",
        "    x = Conv2D(192, (3, 3), activation='relu', padding = 'same')(x)\n",
        "    x = Conv2D(192, (3, 3), activation='relu', padding = 'same')(x)\n",
        "    x = Conv2D(192, (3, 3), activation='relu', padding = 'same', strides = 2)(x)\n",
        "    x = Conv2D(192, (3, 3), activation='relu', padding = 'same')(x)\n",
        "    x = Conv2D(192, (1, 1), activation='relu')(x)\n",
        "    x = Conv2D(10, (1, 1))(x)\n",
        "    x = GlobalAveragePooling2D()(x)\n",
        "    x = Activation(activation='softmax')(x)\n",
        "        \n",
        "    model = Model(model_input, x, name='all_cnn')\n",
        "    \n",
        "    return model"
      ],
      "execution_count": null,
      "outputs": []
    },
    {
      "cell_type": "code",
      "metadata": {
        "collapsed": true,
        "id": "sg_zqvxsvHiY"
      },
      "source": [
        "all_cnn_model = all_cnn(model_input)"
      ],
      "execution_count": null,
      "outputs": []
    },
    {
      "cell_type": "markdown",
      "metadata": {
        "id": "eeYuM7MBvHiY"
      },
      "source": [
        "**If you don't want to spend time training the model, skip executing the following cell.** Pretrained weights will be used instead."
      ]
    },
    {
      "cell_type": "code",
      "metadata": {
        "collapsed": true,
        "id": "-8iuIvD2vHiY"
      },
      "source": [
        "_, all_cnn_weight_file = compile_and_train(all_cnn_model, NUM_EPOCHS)"
      ],
      "execution_count": null,
      "outputs": []
    },
    {
      "cell_type": "markdown",
      "metadata": {
        "id": "Bg5hZjGivHiY"
      },
      "source": [
        "Since two models are very similar to each other, it is expected that the error rate doesn't differ much."
      ]
    },
    {
      "cell_type": "code",
      "metadata": {
        "id": "kNYBvrjqvHiY",
        "outputId": "19161528-e3b3-4661-ab99-f3e599ebe665"
      },
      "source": [
        "try:\n",
        "    all_cnn_weight_file\n",
        "except NameError:\n",
        "    all_cnn_model.load_weights(ALL_CNN_WEIGHT_FILE)\n",
        "evaluate_error(all_cnn_model)"
      ],
      "execution_count": null,
      "outputs": [
        {
          "output_type": "execute_result",
          "data": {
            "text/plain": [
              "0.2609"
            ]
          },
          "metadata": {
            "tags": []
          },
          "execution_count": 15
        }
      ]
    },
    {
      "cell_type": "markdown",
      "metadata": {
        "id": "ZgVEe3QZvHiZ"
      },
      "source": [
        "## Third Model: Network In Network CNN\n",
        "\n",
        "The third CNN is Network in Network CNN \\[[Lin et al., 2013, Network In Network](https://arxiv.org/abs/1312.4400)\\]. This is a CNN from the paper that introduced global pooling layers. It's smaller than previous two models, therefore is much faster to train. No `relu` after the final convolutional layer!"
      ]
    },
    {
      "cell_type": "code",
      "metadata": {
        "collapsed": true,
        "id": "6_vDDw3xvHiZ"
      },
      "source": [
        "def nin_cnn(model_input: Tensor) -> training.Model:\n",
        "    \n",
        "    #mlpconv block 1\n",
        "    x = Conv2D(32, (5, 5), activation='relu',padding='valid')(model_input)\n",
        "    x = Conv2D(32, (1, 1), activation='relu')(x)\n",
        "    x = Conv2D(32, (1, 1), activation='relu')(x)\n",
        "    x = MaxPooling2D((2,2))(x)\n",
        "    x = Dropout(0.5)(x)\n",
        "    \n",
        "    #mlpconv block2\n",
        "    x = Conv2D(64, (3, 3), activation='relu',padding='valid')(x)\n",
        "    x = Conv2D(64, (1, 1), activation='relu')(x)\n",
        "    x = Conv2D(64, (1, 1), activation='relu')(x)\n",
        "    x = MaxPooling2D((2,2))(x)\n",
        "    x = Dropout(0.5)(x)\n",
        "    \n",
        "    #mlpconv block3\n",
        "    x = Conv2D(128, (3, 3), activation='relu',padding='valid')(x)\n",
        "    x = Conv2D(32, (1, 1), activation='relu')(x)\n",
        "    x = Conv2D(10, (1, 1))(x)\n",
        "    \n",
        "    x = GlobalAveragePooling2D()(x)\n",
        "    x = Activation(activation='softmax')(x)\n",
        "    \n",
        "    model = Model(model_input, x, name='nin_cnn')\n",
        "    \n",
        "    return model"
      ],
      "execution_count": null,
      "outputs": []
    },
    {
      "cell_type": "code",
      "metadata": {
        "collapsed": true,
        "id": "ZzrU86TLvHiZ"
      },
      "source": [
        "nin_cnn_model = nin_cnn(model_input)"
      ],
      "execution_count": null,
      "outputs": []
    },
    {
      "cell_type": "markdown",
      "metadata": {
        "id": "y9TTLSvyvHiZ"
      },
      "source": [
        "This model trains much faster -  15 seconds per epoch on my machine."
      ]
    },
    {
      "cell_type": "markdown",
      "metadata": {
        "id": "1bDx97vLvHia"
      },
      "source": [
        "**If you don't want to spend time training the model, skip executing the following cell.** Pretrained weights will be used instead."
      ]
    },
    {
      "cell_type": "code",
      "metadata": {
        "collapsed": true,
        "id": "USzaDVzzvHia"
      },
      "source": [
        "_, nin_cnn_weight_file = compile_and_train(nin_cnn_model, NUM_EPOCHS)"
      ],
      "execution_count": null,
      "outputs": []
    },
    {
      "cell_type": "markdown",
      "metadata": {
        "id": "MyzbqKpkvHia"
      },
      "source": [
        "This is more simple than the other two, so the error rate is a bit higher."
      ]
    },
    {
      "cell_type": "code",
      "metadata": {
        "id": "awo_FYHyvHia",
        "outputId": "b6dd9505-30fd-4ca9-f574-1b40933b9933"
      },
      "source": [
        "try:\n",
        "    nin_cnn_weight_file\n",
        "except NameError:\n",
        "    nin_cnn_model.load_weights(NIN_CNN_WEIGHT_FILE)\n",
        "evaluate_error(nin_cnn_model)"
      ],
      "execution_count": null,
      "outputs": [
        {
          "output_type": "execute_result",
          "data": {
            "text/plain": [
              "0.3164"
            ]
          },
          "metadata": {
            "tags": []
          },
          "execution_count": 18
        }
      ]
    },
    {
      "cell_type": "markdown",
      "metadata": {
        "id": "c_U4bYUOvHia"
      },
      "source": [
        "## Other Possible Ensembles\n",
        "\n",
        "Just for completeness, we can check performance of ensembles that consist of 2 model combinations."
      ]
    },
    {
      "cell_type": "code",
      "metadata": {
        "collapsed": true,
        "id": "YliXgjFEvHia"
      },
      "source": [
        "pair_A = [conv_pool_cnn_model, all_cnn_model]\n",
        "pair_B = [conv_pool_cnn_model, nin_cnn_model]\n",
        "pair_C = [all_cnn_model, nin_cnn_model]"
      ],
      "execution_count": null,
      "outputs": []
    },
    {
      "cell_type": "code",
      "metadata": {
        "id": "oSm5jZ6HvHib",
        "outputId": "558b4455-8904-409c-f169-b8746c00dbfa"
      },
      "source": [
        "pair_A_ensemble_model = ensemble(pair_A, model_input)\n",
        "evaluate_error(pair_A_ensemble_model)"
      ],
      "execution_count": null,
      "outputs": [
        {
          "output_type": "execute_result",
          "data": {
            "text/plain": [
              "0.212"
            ]
          },
          "metadata": {
            "tags": []
          },
          "execution_count": 24
        }
      ]
    },
    {
      "cell_type": "code",
      "metadata": {
        "id": "c_VcSxdyvHib",
        "outputId": "331d539c-320d-448e-c259-b1eeffdfe6f7"
      },
      "source": [
        "pair_B_ensemble_model = ensemble(pair_B, model_input)\n",
        "evaluate_error(pair_B_ensemble_model)"
      ],
      "execution_count": null,
      "outputs": [
        {
          "output_type": "execute_result",
          "data": {
            "text/plain": [
              "0.2282"
            ]
          },
          "metadata": {
            "tags": []
          },
          "execution_count": 25
        }
      ]
    },
    {
      "cell_type": "code",
      "metadata": {
        "id": "loDXGywOvHib",
        "outputId": "c7eafbea-757d-4bad-9fde-4cb3a50089db"
      },
      "source": [
        "pair_C_ensemble_model = ensemble(pair_C, model_input)\n",
        "evaluate_error(pair_C_ensemble_model)"
      ],
      "execution_count": null,
      "outputs": [
        {
          "output_type": "execute_result",
          "data": {
            "text/plain": [
              "0.2447"
            ]
          },
          "metadata": {
            "tags": []
          },
          "execution_count": 26
        }
      ]
    },
    {
      "cell_type": "markdown",
      "metadata": {
        "id": "9rNnA7pQvHib"
      },
      "source": [
        "## Conclusion\n",
        "\n",
        "To reiterate what was said in the introduction: every model has its own weaknesses. The reasoning behind using an ensemble is that by stacking different models representing different hypotheses about the data, we can find a better hypothesis that is not in the hypothesis space of the models from which the ensemble is built.\n",
        "\n",
        "By using a very basic ensemble, a much lower error rate was achieved than when a single model was used. This proves effectiveness of ensembling.\n",
        "\n",
        "Of course, there are some practical considerations to keep in mind when using an ensemble for your machine learning task. Since ensembling means stacking multiple models together, it also means that the input data needs to be forward-propagated for each model. This increases the amount of compute that needs to be performed and, consequently, evaluation (predicition) time. Increased evaluation time is not critical if you use an ensemble in research or in a Kaggle competition. However, it is a very critical factor when designing a commercial product. Another consideration is increased size of the final model which, again, might be a limiting factor for ensemble use in a commercial product."
      ]
    }
  ]
}