{
  "nbformat": 4,
  "nbformat_minor": 0,
  "metadata": {
    "colab": {
      "name": "banker1.ipynb",
      "provenance": [],
      "collapsed_sections": [],
      "authorship_tag": "ABX9TyOm1iAiIAwuUOqPto22g92u",
      "include_colab_link": true
    },
    "kernelspec": {
      "name": "python3",
      "display_name": "Python 3"
    }
  },
  "cells": [
    {
      "cell_type": "markdown",
      "metadata": {
        "id": "view-in-github",
        "colab_type": "text"
      },
      "source": [
        "<a href=\"https://colab.research.google.com/github/fwangliberty/AIoTDesign-Frontend/blob/master/banker1.ipynb\" target=\"_parent\"><img src=\"https://colab.research.google.com/assets/colab-badge.svg\" alt=\"Open In Colab\"/></a>"
      ]
    },
    {
      "cell_type": "markdown",
      "metadata": {
        "id": "gTmPYORI4S-Q"
      },
      "source": [
        "#Banker's Algorithm"
      ]
    },
    {
      "cell_type": "code",
      "metadata": {
        "id": "i-FVho0G4RQP"
      },
      "source": [
        "import numpy as np "
      ],
      "execution_count": 8,
      "outputs": []
    },
    {
      "cell_type": "markdown",
      "metadata": {
        "id": "JwYdoXCU4g9l"
      },
      "source": [
        "## The banker's algorithm needs the following data structures:"
      ]
    },
    {
      "cell_type": "code",
      "metadata": {
        "colab": {
          "base_uri": "https://localhost:8080/"
        },
        "id": "24SKgBnk096k",
        "outputId": "abd6fee6-b82c-49e6-a737-4a6d1415dec8"
      },
      "source": [
        "n_processes = int(input('Number of processes > '))\r\n",
        "n_resources = int(input('Number of resources > '))\r\n",
        "\r\n",
        "available_resources = [int(x) for x in input('t vector? ').split(' ')]\r\n",
        "\r\n",
        "print('Enter matrix C:')\r\n",
        "currently_allocated = np.array(\r\n",
        "    [[int(x) for x in input('Currently allocated for process ' + str(i + 1) + '? ').split(' ')] for i in\r\n",
        "     range(n_processes)])\r\n",
        "\r\n",
        "print('Enter matrix X: ')\r\n",
        "max_demand = np.array([[int(x) for x in input('Maximum demand from process ' + str(i + 1) + '? ').split(' ')] for i in\r\n",
        "                       range(n_processes)])"
      ],
      "execution_count": 9,
      "outputs": [
        {
          "output_type": "stream",
          "text": [
            "Number of processes > 5\n",
            "Number of resources > 3\n",
            "t vector? 10 5 7\n",
            "Enter matrix C:\n",
            "Currently allocated for process 1? 0 1 0\n",
            "Currently allocated for process 2? 2 0 0\n",
            "Currently allocated for process 3? 3 0 2\n",
            "Currently allocated for process 4? 2 1 1\n",
            "Currently allocated for process 5? 0 0 2\n",
            "Enter matrix X: \n",
            "Maximum demand from process 1? 7 5 3\n",
            "Maximum demand from process 2? 3 2 2\n",
            "Maximum demand from process 3? 9 0 2\n",
            "Maximum demand from process 4? 2 2 2\n",
            "Maximum demand from process 5? 4 3 3\n"
          ],
          "name": "stdout"
        }
      ]
    },
    {
      "cell_type": "code",
      "metadata": {
        "colab": {
          "base_uri": "https://localhost:8080/"
        },
        "id": "MtxXNprk4fEm",
        "outputId": "2d4d9934-1299-46ee-b2d2-c4c1ac785bbf"
      },
      "source": [
        "total_available = available_resources - np.sum(currently_allocated, axis=0)\r\n",
        "\r\n",
        "running = np.ones(n_processes)  # An array with n_processes 1's to indicate if process is yet to run\r\n",
        "\r\n",
        "while np.count_nonzero(running) > 0:\r\n",
        "    at_least_one_allocated = False\r\n",
        "    for p in range(n_processes):\r\n",
        "        if running[p]:\r\n",
        "            if all(i >= 0 for i in total_available - (max_demand[p] - currently_allocated[p])):\r\n",
        "                at_least_one_allocated = True\r\n",
        "                print('P'+str(p) + ' is running')\r\n",
        "                running[p] = 0\r\n",
        "                total_available += currently_allocated[p]\r\n",
        "    if not at_least_one_allocated:\r\n",
        "        print('Status: Unsafe')\r\n",
        "        exit()\r\n",
        "\r\n",
        "print('Status: Safe')"
      ],
      "execution_count": 10,
      "outputs": [
        {
          "output_type": "stream",
          "text": [
            "P1 is running\n",
            "P3 is running\n",
            "P4 is running\n",
            "P0 is running\n",
            "P2 is running\n",
            "Status: Safe\n"
          ],
          "name": "stdout"
        }
      ]
    }
  ]
}