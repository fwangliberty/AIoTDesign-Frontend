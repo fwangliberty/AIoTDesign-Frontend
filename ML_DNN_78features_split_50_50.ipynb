{
  "nbformat": 4,
  "nbformat_minor": 0,
  "metadata": {
    "accelerator": "GPU",
    "colab": {
      "name": "ML_DNN_78features_split_50_50.ipynb",
      "provenance": [],
      "collapsed_sections": [],
      "include_colab_link": true
    },
    "kernelspec": {
      "display_name": "Python 3",
      "language": "python",
      "name": "python3"
    },
    "language_info": {
      "codemirror_mode": {
        "name": "ipython",
        "version": 3
      },
      "file_extension": ".py",
      "mimetype": "text/x-python",
      "name": "python",
      "nbconvert_exporter": "python",
      "pygments_lexer": "ipython3",
      "version": "3.7.4"
    }
  },
  "cells": [
    {
      "cell_type": "markdown",
      "metadata": {
        "id": "view-in-github",
        "colab_type": "text"
      },
      "source": [
        "<a href=\"https://colab.research.google.com/github/fwangliberty/AIoTDesign-Frontend/blob/master/ML_DNN_78features_split_50_50.ipynb\" target=\"_parent\"><img src=\"https://colab.research.google.com/assets/colab-badge.svg\" alt=\"Open In Colab\"/></a>"
      ]
    },
    {
      "cell_type": "markdown",
      "metadata": {
        "id": "Lq5p9swvZ04G"
      },
      "source": [
        "# Baseline Models for CICIDS 2017 Data Set with 78 Features"
      ]
    },
    {
      "cell_type": "markdown",
      "metadata": {
        "id": "dXg4HMXOZ04H"
      },
      "source": [
        "We use the pre-processing dataset from mlp4nids (Multi-layer perceptron for network intrusion detection) https://github.com/ArnaudRosay/mlp4nids. The dataset is augmented by 7 new connection based features, and splitted into 50:25:25.  We use the following classification methods: PCA+RF,Naive Bayes model, Decision Tree Classifier, Random Foresty with DecisionTree, Logistic Regression Classifier, Adaboost, Voting, kNN, and DNN. "
      ]
    },
    {
      "cell_type": "code",
      "metadata": {
        "id": "0SOKT1sRZ04I"
      },
      "source": [
        "import os\n",
        "from os.path import join\n",
        "import glob\n",
        "import pandas as pd\n",
        "import numpy as np\n",
        "import time\n",
        "import seaborn as sns\n",
        "import matplotlib.pyplot as plt"
      ],
      "execution_count": 2,
      "outputs": []
    },
    {
      "cell_type": "code",
      "metadata": {
        "id": "RH9hOnpmzv6-"
      },
      "source": [
        "def display_metrics(y_test, y_pred, label_names):\r\n",
        "  print('\\nAccuracy: {:.2f}\\n'.format(accuracy_score(y_test, y_pred)))\r\n",
        "\r\n",
        "  print('Micro Precision: {:.2f}'.format(precision_score(y_test, y_pred, average='micro')))\r\n",
        "  print('Micro Recall: {:.2f}'.format(recall_score(y_test, y_pred, average='micro')))\r\n",
        "  print('Micro F1-score: {:.2f}\\n'.format(f1_score(y_test, y_pred, average='micro')))\r\n",
        "\r\n",
        "  print('Macro Precision: {:.2f}'.format(precision_score(y_test, y_pred, average='macro')))\r\n",
        "  print('Macro Recall: {:.2f}'.format(recall_score(y_test, y_pred, average='macro')))\r\n",
        "  print('Macro F1-score: {:.2f}\\n'.format(f1_score(y_test, y_pred, average='macro')))\r\n",
        "\r\n",
        "  print('Weighted Precision: {:.2f}'.format(precision_score(y_test, y_pred, average='weighted')))\r\n",
        "  print('Weighted Recall: {:.2f}'.format(recall_score(y_test, y_pred, average='weighted')))\r\n",
        "  print('Weighted F1-score: {:.2f}'.format(f1_score(y_test, y_pred, average='weighted')))\r\n",
        "\r\n",
        "  print('\\nClassification Report\\n')\r\n",
        "  print(classification_report(y_test, y_pred, target_names=label_names))"
      ],
      "execution_count": 3,
      "outputs": []
    },
    {
      "cell_type": "code",
      "metadata": {
        "id": "xCwZZFMTZ04J"
      },
      "source": [
        "def display_all(df):\n",
        "    with pd.option_context(\"display.max_rows\", 100, \"display.max_columns\", 100): \n",
        "        print(df)"
      ],
      "execution_count": 4,
      "outputs": []
    },
    {
      "cell_type": "code",
      "metadata": {
        "id": "ceDogrv3Z04J"
      },
      "source": [
        "def make_value2index(attacks):\n",
        "    #make dictionary\n",
        "    attacks = sorted(attacks)\n",
        "    d = {}\n",
        "    counter=0\n",
        "    for attack in attacks:\n",
        "        d[attack] = counter\n",
        "        counter+=1\n",
        "    return d"
      ],
      "execution_count": 5,
      "outputs": []
    },
    {
      "cell_type": "code",
      "metadata": {
        "id": "Ht3b8hIQZ04K"
      },
      "source": [
        "# chganges label from string to integer/index\n",
        "def encode_label(Y_str):\n",
        "    labels_d = make_value2index(np.unique(Y_str))\n",
        "    Y = [labels_d[y_str] for y_str  in Y_str]\n",
        "    Y = np.array(Y)\n",
        "    return np.array(Y)"
      ],
      "execution_count": 6,
      "outputs": []
    },
    {
      "cell_type": "markdown",
      "metadata": {
        "id": "PMisXWZWZ04K"
      },
      "source": [
        "## Step 1. Loading csv files"
      ]
    },
    {
      "cell_type": "code",
      "metadata": {
        "id": "cwxZ7DrXZ04L"
      },
      "source": [
        "# All columns\n",
        "col_names = np.array(['dst sport count', 'src dport count', 'dst src count', 'dport count', 'sport count', 'dst host count','src host count','Source Port', 'Destination Port',\n",
        "                      'Protocol', 'Flow Duration', 'Total Fwd Packets', 'Total Backward Packets', 'Total Length of Fwd Packets',\n",
        "                      'Total Length of Bwd Packets', 'Fwd Packet Length Max', 'Fwd Packet Length Min', 'Fwd Packet Length Mean',\n",
        "                      'Fwd Packet Length Std', 'Bwd Packet Length Max', 'Bwd Packet Length Min', 'Bwd Packet Length Mean', 'Bwd Packet Length Std',\n",
        "                      'Flow Bytes/s', 'Flow Packets/s', 'Flow IAT Mean', 'Flow IAT Std', 'Flow IAT Max', 'Flow IAT Min', 'Fwd IAT Total',\n",
        "                      'Fwd IAT Mean', 'Fwd IAT Std', 'Fwd IAT Max', 'Fwd IAT Min', 'Bwd IAT Total', 'Bwd IAT Mean', 'Bwd IAT Std', 'Bwd IAT Max',\n",
        "                      'Bwd IAT Min', 'Fwd PSH Flags', 'Fwd URG Flags', 'Fwd Header Length', 'Bwd Header Length',\n",
        "                      'Fwd Packets/s', 'Bwd Packets/s', 'Min Packet Length', 'Max Packet Length', 'Packet Length Mean', 'Packet Length Std',\n",
        "                      'Packet Length Variance', 'FIN Flag Count', 'SYN Flag Count', 'RST Flag Count', 'PSH Flag Count', 'ACK Flag Count',\n",
        "                      'URG Flag Count', 'CWE Flag Count', 'ECE Flag Count', 'Down/Up Ratio', 'Average Packet Size', 'Avg Fwd Segment Size',\n",
        "                      'Avg Bwd Segment Size','Subflow Fwd Packets', 'Subflow Fwd Bytes',\n",
        "                      'Subflow Bwd Packets', 'Subflow Bwd Bytes', 'Init_Win_bytes_forward', 'Init_Win_bytes_backward',\n",
        "                      'act_data_pkt_fwd', 'min_seg_size_forward', 'Active Mean', 'Active Std', 'Active Max', 'Active Min', 'Idle Mean',\n",
        "                      'Idle Std', 'Idle Max', 'Idle Min', 'Label'])"
      ],
      "execution_count": 7,
      "outputs": []
    },
    {
      "cell_type": "markdown",
      "metadata": {
        "id": "KoCkMRAcaIA6"
      },
      "source": [
        "### Option 1. Connect to Google Drive"
      ]
    },
    {
      "cell_type": "code",
      "metadata": {
        "colab": {
          "base_uri": "https://localhost:8080/"
        },
        "id": "6uaw_A5kaHSj",
        "outputId": "d0d80e08-86e0-4d8f-c41b-2a1acd5eea2b"
      },
      "source": [
        "from google.colab import drive\n",
        "drive.mount('/content/drive')"
      ],
      "execution_count": 8,
      "outputs": [
        {
          "output_type": "stream",
          "text": [
            "Mounted at /content/drive\n"
          ],
          "name": "stdout"
        }
      ]
    },
    {
      "cell_type": "code",
      "metadata": {
        "id": "4qUtBnilZ04M"
      },
      "source": [
        "# load three csv files generated by mlp4nids (Multi-layer perceptron for network intrusion detection )\n",
        "# first load the train set\n",
        "df_train = pd.read_csv('/content/drive/My Drive/CICIDS2017/train_set_ext78.csv',names=col_names, skiprows=1)  "
      ],
      "execution_count": 59,
      "outputs": []
    },
    {
      "cell_type": "code",
      "metadata": {
        "colab": {
          "base_uri": "https://localhost:8080/"
        },
        "id": "IBn8DsjhX_U4",
        "outputId": "1ce9fcd4-2f1d-4344-8aad-cfcf86315d20"
      },
      "source": [
        "print('Train set size: ', df_train.shape)"
      ],
      "execution_count": 10,
      "outputs": [
        {
          "output_type": "stream",
          "text": [
            "Train set size:  (556548, 79)\n"
          ],
          "name": "stdout"
        }
      ]
    },
    {
      "cell_type": "code",
      "metadata": {
        "colab": {
          "base_uri": "https://localhost:8080/"
        },
        "id": "YXYvaCAjZ04P",
        "outputId": "86d7efcf-ee78-470b-e71c-a06cbc599155"
      },
      "source": [
        "df_test = pd.read_csv('/content/drive/My Drive/CICIDS2017/test_set_ext78.csv',names=col_names, skiprows=1)  \n",
        "print('Test set size: ', df_test.shape)\n",
        "\n",
        "df_val = pd.read_csv('/content/drive/My Drive/CICIDS2017/crossval_set_ext78.csv',names=col_names, skiprows=1)  \n",
        "print('Validation set size: ', df_val.shape)"
      ],
      "execution_count": 60,
      "outputs": [
        {
          "output_type": "stream",
          "text": [
            "Test set size:  (278271, 79)\n",
            "Validation set size:  (278271, 79)\n"
          ],
          "name": "stdout"
        }
      ]
    },
    {
      "cell_type": "markdown",
      "metadata": {
        "id": "2cbbuInpXhvz"
      },
      "source": [
        "### Option 2. Load from local machine"
      ]
    },
    {
      "cell_type": "code",
      "metadata": {
        "id": "MLcmd-A8Xhv0"
      },
      "source": [
        "dataroot = '../data/cicids2017clean/train_set.csv'\n",
        "df_train = pd.read_csv(dataroot, names=col_names, skiprows=1) "
      ],
      "execution_count": null,
      "outputs": []
    },
    {
      "cell_type": "code",
      "metadata": {
        "id": "q9oqAbFyXhv0"
      },
      "source": [
        "dataroot = '../data/cicids2017clean/crossval_set.csv'\n",
        "df_val = pd.read_csv(dataroot, names=col_names, skiprows=1) \n",
        "dataroot = '../data/cicids2017clean/test_set.csv'\n",
        "df_test = pd.read_csv(dataroot, names=col_names, skiprows=1) "
      ],
      "execution_count": null,
      "outputs": []
    },
    {
      "cell_type": "markdown",
      "metadata": {
        "id": "ls46tMA9Xhv0"
      },
      "source": [
        "## Step 2. Exploring the dataset"
      ]
    },
    {
      "cell_type": "code",
      "metadata": {
        "colab": {
          "base_uri": "https://localhost:8080/",
          "height": 316
        },
        "id": "q-oBvrtQXhv0",
        "outputId": "d944dc14-56c1-4a51-ee82-3c71c7811927"
      },
      "source": [
        "df_train.head()"
      ],
      "execution_count": null,
      "outputs": [
        {
          "output_type": "execute_result",
          "data": {
            "text/html": [
              "<div>\n",
              "<style scoped>\n",
              "    .dataframe tbody tr th:only-of-type {\n",
              "        vertical-align: middle;\n",
              "    }\n",
              "\n",
              "    .dataframe tbody tr th {\n",
              "        vertical-align: top;\n",
              "    }\n",
              "\n",
              "    .dataframe thead th {\n",
              "        text-align: right;\n",
              "    }\n",
              "</style>\n",
              "<table border=\"1\" class=\"dataframe\">\n",
              "  <thead>\n",
              "    <tr style=\"text-align: right;\">\n",
              "      <th></th>\n",
              "      <th>dst sport count</th>\n",
              "      <th>src dport count</th>\n",
              "      <th>dst src count</th>\n",
              "      <th>dport count</th>\n",
              "      <th>sport count</th>\n",
              "      <th>dst host count</th>\n",
              "      <th>src host count</th>\n",
              "      <th>Source Port</th>\n",
              "      <th>Destination Port</th>\n",
              "      <th>Protocol</th>\n",
              "      <th>Flow Duration</th>\n",
              "      <th>Total Fwd Packets</th>\n",
              "      <th>Total Backward Packets</th>\n",
              "      <th>Total Length of Fwd Packets</th>\n",
              "      <th>Total Length of Bwd Packets</th>\n",
              "      <th>Fwd Packet Length Max</th>\n",
              "      <th>Fwd Packet Length Min</th>\n",
              "      <th>Fwd Packet Length Mean</th>\n",
              "      <th>Fwd Packet Length Std</th>\n",
              "      <th>Bwd Packet Length Max</th>\n",
              "      <th>Bwd Packet Length Min</th>\n",
              "      <th>Bwd Packet Length Mean</th>\n",
              "      <th>Bwd Packet Length Std</th>\n",
              "      <th>Flow Bytes/s</th>\n",
              "      <th>Flow Packets/s</th>\n",
              "      <th>Flow IAT Mean</th>\n",
              "      <th>Flow IAT Std</th>\n",
              "      <th>Flow IAT Max</th>\n",
              "      <th>Flow IAT Min</th>\n",
              "      <th>Fwd IAT Total</th>\n",
              "      <th>Fwd IAT Mean</th>\n",
              "      <th>Fwd IAT Std</th>\n",
              "      <th>Fwd IAT Max</th>\n",
              "      <th>Fwd IAT Min</th>\n",
              "      <th>Bwd IAT Total</th>\n",
              "      <th>Bwd IAT Mean</th>\n",
              "      <th>Bwd IAT Std</th>\n",
              "      <th>Bwd IAT Max</th>\n",
              "      <th>Bwd IAT Min</th>\n",
              "      <th>Fwd PSH Flags</th>\n",
              "      <th>Fwd URG Flags</th>\n",
              "      <th>Fwd Header Length</th>\n",
              "      <th>Bwd Header Length</th>\n",
              "      <th>Fwd Packets/s</th>\n",
              "      <th>Bwd Packets/s</th>\n",
              "      <th>Min Packet Length</th>\n",
              "      <th>Max Packet Length</th>\n",
              "      <th>Packet Length Mean</th>\n",
              "      <th>Packet Length Std</th>\n",
              "      <th>Packet Length Variance</th>\n",
              "      <th>FIN Flag Count</th>\n",
              "      <th>SYN Flag Count</th>\n",
              "      <th>RST Flag Count</th>\n",
              "      <th>PSH Flag Count</th>\n",
              "      <th>ACK Flag Count</th>\n",
              "      <th>URG Flag Count</th>\n",
              "      <th>CWE Flag Count</th>\n",
              "      <th>ECE Flag Count</th>\n",
              "      <th>Down/Up Ratio</th>\n",
              "      <th>Average Packet Size</th>\n",
              "      <th>Avg Fwd Segment Size</th>\n",
              "      <th>Avg Bwd Segment Size</th>\n",
              "      <th>Subflow Fwd Packets</th>\n",
              "      <th>Subflow Fwd Bytes</th>\n",
              "      <th>Subflow Bwd Packets</th>\n",
              "      <th>Subflow Bwd Bytes</th>\n",
              "      <th>Init_Win_bytes_forward</th>\n",
              "      <th>Init_Win_bytes_backward</th>\n",
              "      <th>act_data_pkt_fwd</th>\n",
              "      <th>min_seg_size_forward</th>\n",
              "      <th>Active Mean</th>\n",
              "      <th>Active Std</th>\n",
              "      <th>Active Max</th>\n",
              "      <th>Active Min</th>\n",
              "      <th>Idle Mean</th>\n",
              "      <th>Idle Std</th>\n",
              "      <th>Idle Max</th>\n",
              "      <th>Idle Min</th>\n",
              "      <th>Label</th>\n",
              "    </tr>\n",
              "  </thead>\n",
              "  <tbody>\n",
              "    <tr>\n",
              "      <th>480307</th>\n",
              "      <td>1</td>\n",
              "      <td>36</td>\n",
              "      <td>36</td>\n",
              "      <td>48</td>\n",
              "      <td>1</td>\n",
              "      <td>48</td>\n",
              "      <td>81</td>\n",
              "      <td>56014</td>\n",
              "      <td>53</td>\n",
              "      <td>17</td>\n",
              "      <td>60843</td>\n",
              "      <td>2</td>\n",
              "      <td>2</td>\n",
              "      <td>94</td>\n",
              "      <td>226</td>\n",
              "      <td>47</td>\n",
              "      <td>47</td>\n",
              "      <td>47.0</td>\n",
              "      <td>0.0</td>\n",
              "      <td>113</td>\n",
              "      <td>113</td>\n",
              "      <td>113.0</td>\n",
              "      <td>0.0</td>\n",
              "      <td>5259.438226</td>\n",
              "      <td>65.742978</td>\n",
              "      <td>20281.0</td>\n",
              "      <td>3.512166e+04</td>\n",
              "      <td>60836</td>\n",
              "      <td>3</td>\n",
              "      <td>3</td>\n",
              "      <td>3.0</td>\n",
              "      <td>0.000</td>\n",
              "      <td>3</td>\n",
              "      <td>3</td>\n",
              "      <td>4</td>\n",
              "      <td>4.0</td>\n",
              "      <td>0.0</td>\n",
              "      <td>4</td>\n",
              "      <td>4</td>\n",
              "      <td>0</td>\n",
              "      <td>0</td>\n",
              "      <td>40</td>\n",
              "      <td>40</td>\n",
              "      <td>32.871489</td>\n",
              "      <td>32.871489</td>\n",
              "      <td>47</td>\n",
              "      <td>113</td>\n",
              "      <td>73.400000</td>\n",
              "      <td>36.149689</td>\n",
              "      <td>1306.800000</td>\n",
              "      <td>0</td>\n",
              "      <td>0</td>\n",
              "      <td>0</td>\n",
              "      <td>0</td>\n",
              "      <td>0</td>\n",
              "      <td>0</td>\n",
              "      <td>0</td>\n",
              "      <td>0</td>\n",
              "      <td>1</td>\n",
              "      <td>91.75</td>\n",
              "      <td>47.0</td>\n",
              "      <td>113.0</td>\n",
              "      <td>2</td>\n",
              "      <td>94</td>\n",
              "      <td>2</td>\n",
              "      <td>226</td>\n",
              "      <td>-1</td>\n",
              "      <td>-1</td>\n",
              "      <td>1</td>\n",
              "      <td>20</td>\n",
              "      <td>0.0</td>\n",
              "      <td>0.0</td>\n",
              "      <td>0</td>\n",
              "      <td>0</td>\n",
              "      <td>0.0</td>\n",
              "      <td>0.0</td>\n",
              "      <td>0</td>\n",
              "      <td>0</td>\n",
              "      <td>BENIGN</td>\n",
              "    </tr>\n",
              "    <tr>\n",
              "      <th>2273904</th>\n",
              "      <td>1</td>\n",
              "      <td>96</td>\n",
              "      <td>96</td>\n",
              "      <td>96</td>\n",
              "      <td>1</td>\n",
              "      <td>96</td>\n",
              "      <td>96</td>\n",
              "      <td>33606</td>\n",
              "      <td>80</td>\n",
              "      <td>6</td>\n",
              "      <td>2</td>\n",
              "      <td>2</td>\n",
              "      <td>0</td>\n",
              "      <td>0</td>\n",
              "      <td>0</td>\n",
              "      <td>0</td>\n",
              "      <td>0</td>\n",
              "      <td>0.0</td>\n",
              "      <td>0.0</td>\n",
              "      <td>0</td>\n",
              "      <td>0</td>\n",
              "      <td>0.0</td>\n",
              "      <td>0.0</td>\n",
              "      <td>0.000000</td>\n",
              "      <td>1000000.000000</td>\n",
              "      <td>2.0</td>\n",
              "      <td>0.000000e+00</td>\n",
              "      <td>2</td>\n",
              "      <td>2</td>\n",
              "      <td>2</td>\n",
              "      <td>2.0</td>\n",
              "      <td>0.000</td>\n",
              "      <td>2</td>\n",
              "      <td>2</td>\n",
              "      <td>0</td>\n",
              "      <td>0.0</td>\n",
              "      <td>0.0</td>\n",
              "      <td>0</td>\n",
              "      <td>0</td>\n",
              "      <td>0</td>\n",
              "      <td>0</td>\n",
              "      <td>64</td>\n",
              "      <td>0</td>\n",
              "      <td>1000000.000000</td>\n",
              "      <td>0.000000</td>\n",
              "      <td>0</td>\n",
              "      <td>0</td>\n",
              "      <td>0.000000</td>\n",
              "      <td>0.000000</td>\n",
              "      <td>0.000000</td>\n",
              "      <td>0</td>\n",
              "      <td>0</td>\n",
              "      <td>0</td>\n",
              "      <td>0</td>\n",
              "      <td>1</td>\n",
              "      <td>0</td>\n",
              "      <td>0</td>\n",
              "      <td>0</td>\n",
              "      <td>0</td>\n",
              "      <td>0.00</td>\n",
              "      <td>0.0</td>\n",
              "      <td>0.0</td>\n",
              "      <td>2</td>\n",
              "      <td>0</td>\n",
              "      <td>0</td>\n",
              "      <td>0</td>\n",
              "      <td>251</td>\n",
              "      <td>-1</td>\n",
              "      <td>0</td>\n",
              "      <td>32</td>\n",
              "      <td>0.0</td>\n",
              "      <td>0.0</td>\n",
              "      <td>0</td>\n",
              "      <td>0</td>\n",
              "      <td>0.0</td>\n",
              "      <td>0.0</td>\n",
              "      <td>0</td>\n",
              "      <td>0</td>\n",
              "      <td>DoS Hulk</td>\n",
              "    </tr>\n",
              "    <tr>\n",
              "      <th>2173332</th>\n",
              "      <td>1</td>\n",
              "      <td>1</td>\n",
              "      <td>1</td>\n",
              "      <td>26</td>\n",
              "      <td>1</td>\n",
              "      <td>1</td>\n",
              "      <td>1</td>\n",
              "      <td>54288</td>\n",
              "      <td>80</td>\n",
              "      <td>6</td>\n",
              "      <td>44</td>\n",
              "      <td>1</td>\n",
              "      <td>1</td>\n",
              "      <td>8</td>\n",
              "      <td>0</td>\n",
              "      <td>8</td>\n",
              "      <td>8</td>\n",
              "      <td>8.0</td>\n",
              "      <td>0.0</td>\n",
              "      <td>0</td>\n",
              "      <td>0</td>\n",
              "      <td>0.0</td>\n",
              "      <td>0.0</td>\n",
              "      <td>181818.181800</td>\n",
              "      <td>45454.545450</td>\n",
              "      <td>44.0</td>\n",
              "      <td>0.000000e+00</td>\n",
              "      <td>44</td>\n",
              "      <td>44</td>\n",
              "      <td>0</td>\n",
              "      <td>0.0</td>\n",
              "      <td>0.000</td>\n",
              "      <td>0</td>\n",
              "      <td>0</td>\n",
              "      <td>0</td>\n",
              "      <td>0.0</td>\n",
              "      <td>0.0</td>\n",
              "      <td>0</td>\n",
              "      <td>0</td>\n",
              "      <td>1</td>\n",
              "      <td>0</td>\n",
              "      <td>32</td>\n",
              "      <td>32</td>\n",
              "      <td>22727.272730</td>\n",
              "      <td>22727.272730</td>\n",
              "      <td>0</td>\n",
              "      <td>8</td>\n",
              "      <td>5.333333</td>\n",
              "      <td>4.618802</td>\n",
              "      <td>21.333333</td>\n",
              "      <td>0</td>\n",
              "      <td>1</td>\n",
              "      <td>0</td>\n",
              "      <td>0</td>\n",
              "      <td>1</td>\n",
              "      <td>0</td>\n",
              "      <td>0</td>\n",
              "      <td>0</td>\n",
              "      <td>1</td>\n",
              "      <td>8.00</td>\n",
              "      <td>8.0</td>\n",
              "      <td>0.0</td>\n",
              "      <td>1</td>\n",
              "      <td>8</td>\n",
              "      <td>1</td>\n",
              "      <td>0</td>\n",
              "      <td>229</td>\n",
              "      <td>235</td>\n",
              "      <td>0</td>\n",
              "      <td>32</td>\n",
              "      <td>0.0</td>\n",
              "      <td>0.0</td>\n",
              "      <td>0</td>\n",
              "      <td>0</td>\n",
              "      <td>0.0</td>\n",
              "      <td>0.0</td>\n",
              "      <td>0</td>\n",
              "      <td>0</td>\n",
              "      <td>DoS slowloris</td>\n",
              "    </tr>\n",
              "    <tr>\n",
              "      <th>2267207</th>\n",
              "      <td>1</td>\n",
              "      <td>100</td>\n",
              "      <td>100</td>\n",
              "      <td>100</td>\n",
              "      <td>1</td>\n",
              "      <td>100</td>\n",
              "      <td>100</td>\n",
              "      <td>50768</td>\n",
              "      <td>80</td>\n",
              "      <td>6</td>\n",
              "      <td>2</td>\n",
              "      <td>2</td>\n",
              "      <td>0</td>\n",
              "      <td>0</td>\n",
              "      <td>0</td>\n",
              "      <td>0</td>\n",
              "      <td>0</td>\n",
              "      <td>0.0</td>\n",
              "      <td>0.0</td>\n",
              "      <td>0</td>\n",
              "      <td>0</td>\n",
              "      <td>0.0</td>\n",
              "      <td>0.0</td>\n",
              "      <td>0.000000</td>\n",
              "      <td>1000000.000000</td>\n",
              "      <td>2.0</td>\n",
              "      <td>0.000000e+00</td>\n",
              "      <td>2</td>\n",
              "      <td>2</td>\n",
              "      <td>2</td>\n",
              "      <td>2.0</td>\n",
              "      <td>0.000</td>\n",
              "      <td>2</td>\n",
              "      <td>2</td>\n",
              "      <td>0</td>\n",
              "      <td>0.0</td>\n",
              "      <td>0.0</td>\n",
              "      <td>0</td>\n",
              "      <td>0</td>\n",
              "      <td>0</td>\n",
              "      <td>0</td>\n",
              "      <td>64</td>\n",
              "      <td>0</td>\n",
              "      <td>1000000.000000</td>\n",
              "      <td>0.000000</td>\n",
              "      <td>0</td>\n",
              "      <td>0</td>\n",
              "      <td>0.000000</td>\n",
              "      <td>0.000000</td>\n",
              "      <td>0.000000</td>\n",
              "      <td>0</td>\n",
              "      <td>0</td>\n",
              "      <td>0</td>\n",
              "      <td>0</td>\n",
              "      <td>1</td>\n",
              "      <td>0</td>\n",
              "      <td>0</td>\n",
              "      <td>0</td>\n",
              "      <td>0</td>\n",
              "      <td>0.00</td>\n",
              "      <td>0.0</td>\n",
              "      <td>0.0</td>\n",
              "      <td>2</td>\n",
              "      <td>0</td>\n",
              "      <td>0</td>\n",
              "      <td>0</td>\n",
              "      <td>251</td>\n",
              "      <td>-1</td>\n",
              "      <td>0</td>\n",
              "      <td>32</td>\n",
              "      <td>0.0</td>\n",
              "      <td>0.0</td>\n",
              "      <td>0</td>\n",
              "      <td>0</td>\n",
              "      <td>0.0</td>\n",
              "      <td>0.0</td>\n",
              "      <td>0</td>\n",
              "      <td>0</td>\n",
              "      <td>DoS Hulk</td>\n",
              "    </tr>\n",
              "    <tr>\n",
              "      <th>90817</th>\n",
              "      <td>1</td>\n",
              "      <td>100</td>\n",
              "      <td>100</td>\n",
              "      <td>100</td>\n",
              "      <td>1</td>\n",
              "      <td>100</td>\n",
              "      <td>100</td>\n",
              "      <td>62083</td>\n",
              "      <td>80</td>\n",
              "      <td>6</td>\n",
              "      <td>3795333</td>\n",
              "      <td>4</td>\n",
              "      <td>0</td>\n",
              "      <td>24</td>\n",
              "      <td>0</td>\n",
              "      <td>6</td>\n",
              "      <td>6</td>\n",
              "      <td>6.0</td>\n",
              "      <td>0.0</td>\n",
              "      <td>0</td>\n",
              "      <td>0</td>\n",
              "      <td>0.0</td>\n",
              "      <td>0.0</td>\n",
              "      <td>6.323556</td>\n",
              "      <td>1.053926</td>\n",
              "      <td>1265111.0</td>\n",
              "      <td>2.190632e+06</td>\n",
              "      <td>3794635</td>\n",
              "      <td>348</td>\n",
              "      <td>3795333</td>\n",
              "      <td>1265111.0</td>\n",
              "      <td>2190632.043</td>\n",
              "      <td>3794635</td>\n",
              "      <td>348</td>\n",
              "      <td>0</td>\n",
              "      <td>0.0</td>\n",
              "      <td>0.0</td>\n",
              "      <td>0</td>\n",
              "      <td>0</td>\n",
              "      <td>0</td>\n",
              "      <td>0</td>\n",
              "      <td>80</td>\n",
              "      <td>0</td>\n",
              "      <td>1.053926</td>\n",
              "      <td>0.000000</td>\n",
              "      <td>6</td>\n",
              "      <td>6</td>\n",
              "      <td>6.000000</td>\n",
              "      <td>0.000000</td>\n",
              "      <td>0.000000</td>\n",
              "      <td>0</td>\n",
              "      <td>0</td>\n",
              "      <td>0</td>\n",
              "      <td>0</td>\n",
              "      <td>1</td>\n",
              "      <td>0</td>\n",
              "      <td>0</td>\n",
              "      <td>0</td>\n",
              "      <td>0</td>\n",
              "      <td>7.50</td>\n",
              "      <td>6.0</td>\n",
              "      <td>0.0</td>\n",
              "      <td>4</td>\n",
              "      <td>24</td>\n",
              "      <td>0</td>\n",
              "      <td>0</td>\n",
              "      <td>256</td>\n",
              "      <td>-1</td>\n",
              "      <td>3</td>\n",
              "      <td>20</td>\n",
              "      <td>0.0</td>\n",
              "      <td>0.0</td>\n",
              "      <td>0</td>\n",
              "      <td>0</td>\n",
              "      <td>0.0</td>\n",
              "      <td>0.0</td>\n",
              "      <td>0</td>\n",
              "      <td>0</td>\n",
              "      <td>DDoS</td>\n",
              "    </tr>\n",
              "  </tbody>\n",
              "</table>\n",
              "</div>"
            ],
            "text/plain": [
              "         dst sport count  src dport count  ...  Idle Min          Label\n",
              "480307                 1               36  ...         0         BENIGN\n",
              "2273904                1               96  ...         0       DoS Hulk\n",
              "2173332                1                1  ...         0  DoS slowloris\n",
              "2267207                1              100  ...         0       DoS Hulk\n",
              "90817                  1              100  ...         0           DDoS\n",
              "\n",
              "[5 rows x 79 columns]"
            ]
          },
          "metadata": {
            "tags": []
          },
          "execution_count": 12
        }
      ]
    },
    {
      "cell_type": "markdown",
      "metadata": {
        "id": "miDxhmNyZ04N"
      },
      "source": [
        "Count the number of attacks"
      ]
    },
    {
      "cell_type": "code",
      "metadata": {
        "colab": {
          "base_uri": "https://localhost:8080/"
        },
        "id": "CpKy7b9fZ04O",
        "scrolled": true,
        "outputId": "4592c45e-96a9-4299-eba2-1c7d19995af8"
      },
      "source": [
        "df_train['Label'].value_counts()"
      ],
      "execution_count": null,
      "outputs": [
        {
          "output_type": "execute_result",
          "data": {
            "text/plain": [
              "BENIGN                        278274\n",
              "DoS Hulk                      115062\n",
              "PortScan                       79402\n",
              "DDoS                           64012\n",
              "DoS GoldenEye                   5146\n",
              "FTP-Patator                     3967\n",
              "SSH-Patator                     2948\n",
              "DoS slowloris                   2898\n",
              "DoS Slowhttptest                2749\n",
              "Bot                              978\n",
              "Web Attack � Brute Force         753\n",
              "Web Attack � XSS                 326\n",
              "Infiltration                      18\n",
              "Web Attack � Sql Injection        10\n",
              "Heartbleed                         5\n",
              "Name: Label, dtype: int64"
            ]
          },
          "metadata": {
            "tags": []
          },
          "execution_count": 13
        }
      ]
    },
    {
      "cell_type": "markdown",
      "metadata": {
        "id": "q2X3KG4zZ04P"
      },
      "source": [
        "Read test and validation sets"
      ]
    },
    {
      "cell_type": "code",
      "metadata": {
        "colab": {
          "base_uri": "https://localhost:8080/"
        },
        "id": "U5hWm9Q-Z04Q",
        "outputId": "f421bd4e-f2a4-4fb6-cadb-42c2795db70f"
      },
      "source": [
        "print('Test set: ')\n",
        "df_test['Label'].value_counts()"
      ],
      "execution_count": null,
      "outputs": [
        {
          "output_type": "stream",
          "text": [
            "Test set: \n"
          ],
          "name": "stdout"
        },
        {
          "output_type": "execute_result",
          "data": {
            "text/plain": [
              "BENIGN                        139135\n",
              "DoS Hulk                       57531\n",
              "PortScan                       39701\n",
              "DDoS                           32006\n",
              "DoS GoldenEye                   2573\n",
              "FTP-Patator                     1983\n",
              "SSH-Patator                     1474\n",
              "DoS slowloris                   1449\n",
              "DoS Slowhttptest                1374\n",
              "Bot                              489\n",
              "Web Attack � Brute Force         376\n",
              "Web Attack � XSS                 163\n",
              "Infiltration                       9\n",
              "Web Attack � Sql Injection         5\n",
              "Heartbleed                         3\n",
              "Name: Label, dtype: int64"
            ]
          },
          "metadata": {
            "tags": []
          },
          "execution_count": 14
        }
      ]
    },
    {
      "cell_type": "code",
      "metadata": {
        "colab": {
          "base_uri": "https://localhost:8080/"
        },
        "id": "B0-lHNicZ04Q",
        "outputId": "43647dfc-700e-4411-8b86-f5b033e9385f"
      },
      "source": [
        "print('Validation set: ')\n",
        "df_val['Label'].value_counts()"
      ],
      "execution_count": null,
      "outputs": [
        {
          "output_type": "stream",
          "text": [
            "Validation set: \n"
          ],
          "name": "stdout"
        },
        {
          "output_type": "execute_result",
          "data": {
            "text/plain": [
              "BENIGN                        139135\n",
              "DoS Hulk                       57531\n",
              "PortScan                       39701\n",
              "DDoS                           32006\n",
              "DoS GoldenEye                   2573\n",
              "FTP-Patator                     1983\n",
              "SSH-Patator                     1474\n",
              "DoS slowloris                   1449\n",
              "DoS Slowhttptest                1374\n",
              "Bot                              489\n",
              "Web Attack � Brute Force         376\n",
              "Web Attack � XSS                 163\n",
              "Infiltration                       9\n",
              "Web Attack � Sql Injection         5\n",
              "Heartbleed                         3\n",
              "Name: Label, dtype: int64"
            ]
          },
          "metadata": {
            "tags": []
          },
          "execution_count": 15
        }
      ]
    },
    {
      "cell_type": "markdown",
      "metadata": {
        "id": "w0O9ZuKoXhv3"
      },
      "source": [
        "## Step 3. Encode Datasets"
      ]
    },
    {
      "cell_type": "markdown",
      "metadata": {
        "id": "qwXKhZOjXhv3"
      },
      "source": [
        "Encoding the labels, and generate numpy array. Note that the label has not been encoded as one-hot coding. We will use one-hot code later. "
      ]
    },
    {
      "cell_type": "markdown",
      "metadata": {
        "id": "jyAnny9yZ04R"
      },
      "source": [
        "### Step 3.1 Encoding train dataset"
      ]
    },
    {
      "cell_type": "code",
      "metadata": {
        "id": "SsR6_hJDZ04R"
      },
      "source": [
        "df_label = df_train['Label']\n",
        "data = df_train.drop(columns=['Label'])\n",
        "Xtrain = data.values\n",
        "y_train = encode_label(df_label.values)"
      ],
      "execution_count": 61,
      "outputs": []
    },
    {
      "cell_type": "markdown",
      "metadata": {
        "id": "7XlV2AK3Z04S"
      },
      "source": [
        "### Step 3.2. Encoding test dataset"
      ]
    },
    {
      "cell_type": "code",
      "metadata": {
        "id": "GVSrGExFZ04S",
        "scrolled": true
      },
      "source": [
        "df_label = df_test['Label']\n",
        "data = df_test.drop(columns=['Label'])\n",
        "Xtest = data.values\n",
        "y_test = encode_label(df_label.values)"
      ],
      "execution_count": 62,
      "outputs": []
    },
    {
      "cell_type": "markdown",
      "metadata": {
        "id": "lO3PgredZ04T"
      },
      "source": [
        "### Step 3.3 Encoding validation dataset"
      ]
    },
    {
      "cell_type": "code",
      "metadata": {
        "id": "IQ2wDKpZZ04T"
      },
      "source": [
        "df_label = df_val['Label']\n",
        "data = df_val.drop(columns=['Label'])\n",
        "Xval = data.values\n",
        "y_val = encode_label(df_label.values)"
      ],
      "execution_count": 63,
      "outputs": []
    },
    {
      "cell_type": "markdown",
      "metadata": {
        "id": "viMki-R0Z04Q"
      },
      "source": [
        "## Step 4. Normalization or Standardization\n",
        "\n",
        "The continuous feature values are normalized into the same feature space. This is important when using features that have different measurements, and is a general requirement of many machine learning algorithms. We implement the two methods to see the impact on the final classifications. "
      ]
    },
    {
      "cell_type": "markdown",
      "metadata": {
        "id": "N8ERJidxXhv5"
      },
      "source": [
        "## Option 1. Normalization\n",
        "\n",
        "The values of the datasets are normalized using the Min-Max scaling technique, bringing them all within a range of [0,1]."
      ]
    },
    {
      "cell_type": "markdown",
      "metadata": {
        "id": "c523vLd-Z04R"
      },
      "source": [
        "### Step 4.1 Normalizing train dataset"
      ]
    },
    {
      "cell_type": "code",
      "metadata": {
        "id": "z5izaj07Z04R"
      },
      "source": [
        "from sklearn.preprocessing import MinMaxScaler"
      ],
      "execution_count": 64,
      "outputs": []
    },
    {
      "cell_type": "code",
      "metadata": {
        "colab": {
          "base_uri": "https://localhost:8080/"
        },
        "id": "pbYQFmfgZ04S",
        "scrolled": true,
        "outputId": "f2ac0b34-6637-42d3-ac44-a91a4224e01e"
      },
      "source": [
        "scaler = MinMaxScaler()\n",
        "X_train = scaler.fit_transform(Xtrain)\n",
        "X_train"
      ],
      "execution_count": 65,
      "outputs": [
        {
          "output_type": "execute_result",
          "data": {
            "text/plain": [
              "array([[0.        , 0.35353535, 0.35353535, ..., 0.        , 0.        ,\n",
              "        0.        ],\n",
              "       [0.        , 0.95959596, 0.95959596, ..., 0.        , 0.        ,\n",
              "        0.        ],\n",
              "       [0.        , 0.        , 0.        , ..., 0.        , 0.        ,\n",
              "        0.        ],\n",
              "       ...,\n",
              "       [0.05050505, 0.        , 0.05050505, ..., 0.        , 0.        ,\n",
              "        0.        ],\n",
              "       [0.        , 0.09090909, 0.09090909, ..., 0.        , 0.        ,\n",
              "        0.        ],\n",
              "       [0.        , 0.32323232, 0.32323232, ..., 0.        , 0.        ,\n",
              "        0.        ]])"
            ]
          },
          "metadata": {
            "tags": []
          },
          "execution_count": 65
        }
      ]
    },
    {
      "cell_type": "markdown",
      "metadata": {
        "id": "zQ5x1QxAXhv5"
      },
      "source": [
        "### Step 4.2. Normalizing validation dataset"
      ]
    },
    {
      "cell_type": "code",
      "metadata": {
        "colab": {
          "base_uri": "https://localhost:8080/"
        },
        "id": "S-_BpWSsXhv6",
        "outputId": "0c00a352-62da-4ae6-bde6-94a76bf754b9"
      },
      "source": [
        "X_val = scaler.fit_transform(Xval)\n",
        "X_val"
      ],
      "execution_count": 66,
      "outputs": [
        {
          "output_type": "execute_result",
          "data": {
            "text/plain": [
              "array([[0.01724138, 1.        , 1.        , ..., 0.        , 0.        ,\n",
              "        0.        ],\n",
              "       [0.        , 0.94949495, 0.94949495, ..., 0.        , 0.82083333,\n",
              "        0.82083333],\n",
              "       [0.06896552, 0.06060606, 0.04040404, ..., 0.        , 0.        ,\n",
              "        0.        ],\n",
              "       ...,\n",
              "       [0.        , 0.63636364, 0.63636364, ..., 0.        , 0.        ,\n",
              "        0.        ],\n",
              "       [0.        , 0.19191919, 0.29292929, ..., 0.        , 0.        ,\n",
              "        0.        ],\n",
              "       [0.03448276, 0.02020202, 0.02020202, ..., 0.        , 0.        ,\n",
              "        0.        ]])"
            ]
          },
          "metadata": {
            "tags": []
          },
          "execution_count": 66
        }
      ]
    },
    {
      "cell_type": "markdown",
      "metadata": {
        "id": "TItkmTF1Z04S"
      },
      "source": [
        "### Step 4.3. Normalizing test dataset"
      ]
    },
    {
      "cell_type": "code",
      "metadata": {
        "colab": {
          "base_uri": "https://localhost:8080/"
        },
        "id": "lXmp2w2bZ04T",
        "outputId": "b54fa18e-226c-4eba-fe5f-c50f0740321d"
      },
      "source": [
        "X_test = scaler.fit_transform(Xtest)\n",
        "X_test"
      ],
      "execution_count": 67,
      "outputs": [
        {
          "output_type": "execute_result",
          "data": {
            "text/plain": [
              "array([[0.01010101, 0.26262626, 0.01010101, ..., 0.        , 0.        ,\n",
              "        0.        ],\n",
              "       [0.        , 0.7979798 , 0.02020202, ..., 0.        , 0.        ,\n",
              "        0.        ],\n",
              "       [0.01010101, 0.50505051, 0.49494949, ..., 0.        , 0.        ,\n",
              "        0.        ],\n",
              "       ...,\n",
              "       [0.        , 0.96969697, 0.96969697, ..., 0.        , 0.        ,\n",
              "        0.        ],\n",
              "       [0.        , 0.83838384, 0.83838384, ..., 0.        , 0.        ,\n",
              "        0.        ],\n",
              "       [0.02020202, 0.02020202, 0.02020202, ..., 0.        , 0.        ,\n",
              "        0.        ]])"
            ]
          },
          "metadata": {
            "tags": []
          },
          "execution_count": 67
        }
      ]
    },
    {
      "cell_type": "markdown",
      "metadata": {
        "id": "Ge2XVkhTXhv6"
      },
      "source": [
        "## Option 2. Standardization"
      ]
    },
    {
      "cell_type": "code",
      "metadata": {
        "id": "Fu459dh3Xhv7"
      },
      "source": [
        "from sklearn.preprocessing import StandardScaler"
      ],
      "execution_count": 43,
      "outputs": []
    },
    {
      "cell_type": "code",
      "metadata": {
        "colab": {
          "base_uri": "https://localhost:8080/"
        },
        "id": "QOJud1h5Xhv7",
        "outputId": "b4614821-64c3-4de1-e8f9-3e6cf4430a36"
      },
      "source": [
        "scaler = StandardScaler()\n",
        "\n",
        "X_train = scaler.fit_transform(Xtrain)\n",
        "X_val = scaler.fit_transform(Xval)\n",
        "X_test = scaler.fit_transform(Xtest)\n",
        "\n",
        "X_train"
      ],
      "execution_count": 44,
      "outputs": [
        {
          "output_type": "execute_result",
          "data": {
            "text/plain": [
              "array([[-0.46360917, -0.21367668, -0.60970034, ..., -0.16609924,\n",
              "        -0.51046627, -0.47636976],\n",
              "       [-0.46360917,  1.19349981,  0.79867464, ..., -0.16609924,\n",
              "        -0.51046627, -0.47636976],\n",
              "       [-0.46360917, -1.03452964, -1.43125242, ..., -0.16609924,\n",
              "        -0.51046627, -0.47636976],\n",
              "       ...,\n",
              "       [-0.32230411, -1.03452964, -1.31388783, ..., -0.16609924,\n",
              "        -0.51046627, -0.47636976],\n",
              "       [-0.46360917, -0.82345316, -1.21999617, ..., -0.16609924,\n",
              "        -0.51046627, -0.47636976],\n",
              "       [-0.46360917, -0.28403551, -0.68011909, ..., -0.16609924,\n",
              "        -0.51046627, -0.47636976]])"
            ]
          },
          "metadata": {
            "tags": []
          },
          "execution_count": 44
        }
      ]
    },
    {
      "cell_type": "markdown",
      "metadata": {
        "id": "reoNDQZhZ04T"
      },
      "source": [
        "## Step 5 One-hot encoding for labels"
      ]
    },
    {
      "cell_type": "markdown",
      "metadata": {
        "id": "So8gvIF8Z04T"
      },
      "source": [
        "y_train, y_test and y_val have to be one-hot-encoded. That means they must have dimension (number_of_samples, 15), where 15 denotes number of classes."
      ]
    },
    {
      "cell_type": "code",
      "metadata": {
        "id": "Yc97u4oZZ04U"
      },
      "source": [
        "from tensorflow.keras.utils import to_categorical"
      ],
      "execution_count": 68,
      "outputs": []
    },
    {
      "cell_type": "markdown",
      "metadata": {
        "id": "rfeM_ZzsXhv8"
      },
      "source": [
        "Save the labels for AdaBoostClassifier"
      ]
    },
    {
      "cell_type": "code",
      "metadata": {
        "id": "8N0GfC_zXhv8"
      },
      "source": [
        "y_train_ada = y_train\n",
        "y_test_ada = y_test\n",
        "y_val_ada = y_val"
      ],
      "execution_count": 69,
      "outputs": []
    },
    {
      "cell_type": "code",
      "metadata": {
        "id": "MQVqV19KZ04U"
      },
      "source": [
        "y_train = to_categorical(y_train, 15)\n",
        "y_test = to_categorical(y_test, 15)\n",
        "y_val = to_categorical(y_val, 15)"
      ],
      "execution_count": 70,
      "outputs": []
    },
    {
      "cell_type": "markdown",
      "metadata": {
        "id": "Yd9_XX_5Xhv8"
      },
      "source": [
        "## Step 6. Define the metrics"
      ]
    },
    {
      "cell_type": "code",
      "metadata": {
        "id": "dqOSi1KcXhv8"
      },
      "source": [
        "import tensorflow as tf\n",
        "from sklearn.ensemble import RandomForestClassifier\n",
        "\n",
        "#importing confusion matrix\n",
        "from sklearn.metrics import confusion_matrix\n",
        "from sklearn.metrics import classification_report\n",
        "\n",
        "from sklearn import metrics\n",
        "from sklearn.metrics import accuracy_score\n",
        "\n",
        "#importing accuracy_score, precision_score, recall_score, f1_score\n",
        "from sklearn.metrics import accuracy_score, precision_score, recall_score, f1_score\n",
        "from sklearn.metrics import mean_squared_error,mean_absolute_error"
      ],
      "execution_count": 71,
      "outputs": []
    },
    {
      "cell_type": "code",
      "metadata": {
        "id": "PUup6sodXhv9"
      },
      "source": [
        "METRICS = [\n",
        "      tf.keras.metrics.TruePositives(name='tp'),\n",
        "      tf.keras.metrics.FalsePositives(name='fp'),\n",
        "      tf.keras.metrics.TrueNegatives(name='tn'),\n",
        "      tf.keras.metrics.FalseNegatives(name='fn'), \n",
        "      tf.keras.metrics.BinaryAccuracy(name='accuracy'),\n",
        "      tf.keras.metrics.Precision(name='precision'),\n",
        "      tf.keras.metrics.Recall(name='recall'),\n",
        "      tf.keras.metrics.AUC(name='auc'),\n",
        "]"
      ],
      "execution_count": 73,
      "outputs": []
    },
    {
      "cell_type": "markdown",
      "metadata": {
        "id": "qJywwX9iXhv9"
      },
      "source": [
        "#  Model 1: PCA  "
      ]
    },
    {
      "cell_type": "code",
      "metadata": {
        "id": "MTYHuZtxXhv9"
      },
      "source": [
        "X_pca = df_train.drop('Label',axis=1)\n",
        "y_pca = df_train['Label']"
      ],
      "execution_count": null,
      "outputs": []
    },
    {
      "cell_type": "code",
      "metadata": {
        "id": "0-XWs2_kXhv9"
      },
      "source": [
        "scaler = MinMaxScaler()\n",
        "X_pca = scaler.fit_transform(X_pca)"
      ],
      "execution_count": null,
      "outputs": []
    },
    {
      "cell_type": "code",
      "metadata": {
        "id": "JGVxxHw2Xhv9"
      },
      "source": [
        "dfx = pd.DataFrame(data=X_pca,columns=df_train.columns[1:])"
      ],
      "execution_count": null,
      "outputs": []
    },
    {
      "cell_type": "code",
      "metadata": {
        "colab": {
          "base_uri": "https://localhost:8080/",
          "height": 582
        },
        "id": "2-gTg4_uXhv-",
        "outputId": "419f2375-0733-4fee-c003-dc4e4901d0fa"
      },
      "source": [
        "dfx.head(10)"
      ],
      "execution_count": null,
      "outputs": [
        {
          "output_type": "execute_result",
          "data": {
            "text/html": [
              "<div>\n",
              "<style scoped>\n",
              "    .dataframe tbody tr th:only-of-type {\n",
              "        vertical-align: middle;\n",
              "    }\n",
              "\n",
              "    .dataframe tbody tr th {\n",
              "        vertical-align: top;\n",
              "    }\n",
              "\n",
              "    .dataframe thead th {\n",
              "        text-align: right;\n",
              "    }\n",
              "</style>\n",
              "<table border=\"1\" class=\"dataframe\">\n",
              "  <thead>\n",
              "    <tr style=\"text-align: right;\">\n",
              "      <th></th>\n",
              "      <th>src dport count</th>\n",
              "      <th>dst src count</th>\n",
              "      <th>dport count</th>\n",
              "      <th>sport count</th>\n",
              "      <th>dst host count</th>\n",
              "      <th>src host count</th>\n",
              "      <th>Source Port</th>\n",
              "      <th>Destination Port</th>\n",
              "      <th>Protocol</th>\n",
              "      <th>Flow Duration</th>\n",
              "      <th>Total Fwd Packets</th>\n",
              "      <th>Total Backward Packets</th>\n",
              "      <th>Total Length of Fwd Packets</th>\n",
              "      <th>Total Length of Bwd Packets</th>\n",
              "      <th>Fwd Packet Length Max</th>\n",
              "      <th>Fwd Packet Length Min</th>\n",
              "      <th>Fwd Packet Length Mean</th>\n",
              "      <th>Fwd Packet Length Std</th>\n",
              "      <th>Bwd Packet Length Max</th>\n",
              "      <th>Bwd Packet Length Min</th>\n",
              "      <th>Bwd Packet Length Mean</th>\n",
              "      <th>Bwd Packet Length Std</th>\n",
              "      <th>Flow Bytes/s</th>\n",
              "      <th>Flow Packets/s</th>\n",
              "      <th>Flow IAT Mean</th>\n",
              "      <th>Flow IAT Std</th>\n",
              "      <th>Flow IAT Max</th>\n",
              "      <th>Flow IAT Min</th>\n",
              "      <th>Fwd IAT Total</th>\n",
              "      <th>Fwd IAT Mean</th>\n",
              "      <th>Fwd IAT Std</th>\n",
              "      <th>Fwd IAT Max</th>\n",
              "      <th>Fwd IAT Min</th>\n",
              "      <th>Bwd IAT Total</th>\n",
              "      <th>Bwd IAT Mean</th>\n",
              "      <th>Bwd IAT Std</th>\n",
              "      <th>Bwd IAT Max</th>\n",
              "      <th>Bwd IAT Min</th>\n",
              "      <th>Fwd PSH Flags</th>\n",
              "      <th>Fwd URG Flags</th>\n",
              "      <th>Fwd Header Length</th>\n",
              "      <th>Bwd Header Length</th>\n",
              "      <th>Fwd Packets/s</th>\n",
              "      <th>Bwd Packets/s</th>\n",
              "      <th>Min Packet Length</th>\n",
              "      <th>Max Packet Length</th>\n",
              "      <th>Packet Length Mean</th>\n",
              "      <th>Packet Length Std</th>\n",
              "      <th>Packet Length Variance</th>\n",
              "      <th>FIN Flag Count</th>\n",
              "      <th>SYN Flag Count</th>\n",
              "      <th>RST Flag Count</th>\n",
              "      <th>PSH Flag Count</th>\n",
              "      <th>ACK Flag Count</th>\n",
              "      <th>URG Flag Count</th>\n",
              "      <th>CWE Flag Count</th>\n",
              "      <th>ECE Flag Count</th>\n",
              "      <th>Down/Up Ratio</th>\n",
              "      <th>Average Packet Size</th>\n",
              "      <th>Avg Fwd Segment Size</th>\n",
              "      <th>Avg Bwd Segment Size</th>\n",
              "      <th>Subflow Fwd Packets</th>\n",
              "      <th>Subflow Fwd Bytes</th>\n",
              "      <th>Subflow Bwd Packets</th>\n",
              "      <th>Subflow Bwd Bytes</th>\n",
              "      <th>Init_Win_bytes_forward</th>\n",
              "      <th>Init_Win_bytes_backward</th>\n",
              "      <th>act_data_pkt_fwd</th>\n",
              "      <th>min_seg_size_forward</th>\n",
              "      <th>Active Mean</th>\n",
              "      <th>Active Std</th>\n",
              "      <th>Active Max</th>\n",
              "      <th>Active Min</th>\n",
              "      <th>Idle Mean</th>\n",
              "      <th>Idle Std</th>\n",
              "      <th>Idle Max</th>\n",
              "      <th>Idle Min</th>\n",
              "      <th>Label</th>\n",
              "    </tr>\n",
              "  </thead>\n",
              "  <tbody>\n",
              "    <tr>\n",
              "      <th>0</th>\n",
              "      <td>0.000000</td>\n",
              "      <td>0.353535</td>\n",
              "      <td>0.353535</td>\n",
              "      <td>0.474747</td>\n",
              "      <td>0.000000</td>\n",
              "      <td>0.474747</td>\n",
              "      <td>0.808081</td>\n",
              "      <td>0.854719</td>\n",
              "      <td>0.000809</td>\n",
              "      <td>1.000000</td>\n",
              "      <td>5.071335e-04</td>\n",
              "      <td>0.000005</td>\n",
              "      <td>0.000007</td>\n",
              "      <td>0.000033</td>\n",
              "      <td>3.604466e-07</td>\n",
              "      <td>0.001894</td>\n",
              "      <td>0.031929</td>\n",
              "      <td>0.007911</td>\n",
              "      <td>0.000000</td>\n",
              "      <td>0.006503</td>\n",
              "      <td>0.077397</td>\n",
              "      <td>0.025854</td>\n",
              "      <td>0.000000</td>\n",
              "      <td>0.085287</td>\n",
              "      <td>0.400013</td>\n",
              "      <td>1.691166e-04</td>\n",
              "      <td>0.000414</td>\n",
              "      <td>5.070749e-04</td>\n",
              "      <td>1.333333e-07</td>\n",
              "      <td>2.500000e-08</td>\n",
              "      <td>2.500000e-08</td>\n",
              "      <td>0.000000</td>\n",
              "      <td>2.500000e-08</td>\n",
              "      <td>1.250000e-07</td>\n",
              "      <td>3.333333e-08</td>\n",
              "      <td>3.333333e-08</td>\n",
              "      <td>0.000000</td>\n",
              "      <td>3.333333e-08</td>\n",
              "      <td>3.333333e-08</td>\n",
              "      <td>0.0</td>\n",
              "      <td>0.0</td>\n",
              "      <td>0.000009</td>\n",
              "      <td>0.000007</td>\n",
              "      <td>1.095716e-05</td>\n",
              "      <td>1.643574e-05</td>\n",
              "      <td>0.034584</td>\n",
              "      <td>0.004553</td>\n",
              "      <td>0.037897</td>\n",
              "      <td>0.007640</td>\n",
              "      <td>5.833929e-05</td>\n",
              "      <td>0.0</td>\n",
              "      <td>0.0</td>\n",
              "      <td>0.0</td>\n",
              "      <td>0.0</td>\n",
              "      <td>0.0</td>\n",
              "      <td>0.0</td>\n",
              "      <td>0.0</td>\n",
              "      <td>0.0</td>\n",
              "      <td>0.008065</td>\n",
              "      <td>0.036294</td>\n",
              "      <td>0.007911</td>\n",
              "      <td>0.025854</td>\n",
              "      <td>0.000005</td>\n",
              "      <td>0.000033</td>\n",
              "      <td>0.000007</td>\n",
              "      <td>3.604239e-07</td>\n",
              "      <td>0.000000</td>\n",
              "      <td>0.000000</td>\n",
              "      <td>0.000005</td>\n",
              "      <td>0.333333</td>\n",
              "      <td>0.000000e+00</td>\n",
              "      <td>0.0</td>\n",
              "      <td>0.000000e+00</td>\n",
              "      <td>0.000000e+00</td>\n",
              "      <td>0.000000</td>\n",
              "      <td>0.0</td>\n",
              "      <td>0.000000</td>\n",
              "      <td>0.000000</td>\n",
              "    </tr>\n",
              "    <tr>\n",
              "      <th>1</th>\n",
              "      <td>0.000000</td>\n",
              "      <td>0.959596</td>\n",
              "      <td>0.959596</td>\n",
              "      <td>0.959596</td>\n",
              "      <td>0.000000</td>\n",
              "      <td>0.959596</td>\n",
              "      <td>0.959596</td>\n",
              "      <td>0.512795</td>\n",
              "      <td>0.001221</td>\n",
              "      <td>0.352941</td>\n",
              "      <td>1.250000e-07</td>\n",
              "      <td>0.000005</td>\n",
              "      <td>0.000000</td>\n",
              "      <td>0.000000</td>\n",
              "      <td>0.000000e+00</td>\n",
              "      <td>0.000000</td>\n",
              "      <td>0.000000</td>\n",
              "      <td>0.000000</td>\n",
              "      <td>0.000000</td>\n",
              "      <td>0.000000</td>\n",
              "      <td>0.000000</td>\n",
              "      <td>0.000000</td>\n",
              "      <td>0.000000</td>\n",
              "      <td>0.085285</td>\n",
              "      <td>0.600000</td>\n",
              "      <td>1.250000e-07</td>\n",
              "      <td>0.000000</td>\n",
              "      <td>1.250000e-07</td>\n",
              "      <td>1.250000e-07</td>\n",
              "      <td>1.666667e-08</td>\n",
              "      <td>1.666667e-08</td>\n",
              "      <td>0.000000</td>\n",
              "      <td>1.666667e-08</td>\n",
              "      <td>1.166667e-07</td>\n",
              "      <td>0.000000e+00</td>\n",
              "      <td>0.000000e+00</td>\n",
              "      <td>0.000000</td>\n",
              "      <td>0.000000e+00</td>\n",
              "      <td>0.000000e+00</td>\n",
              "      <td>0.0</td>\n",
              "      <td>0.0</td>\n",
              "      <td>0.000015</td>\n",
              "      <td>0.000000</td>\n",
              "      <td>3.333333e-01</td>\n",
              "      <td>0.000000e+00</td>\n",
              "      <td>0.000000</td>\n",
              "      <td>0.000000</td>\n",
              "      <td>0.000000</td>\n",
              "      <td>0.000000</td>\n",
              "      <td>0.000000e+00</td>\n",
              "      <td>0.0</td>\n",
              "      <td>0.0</td>\n",
              "      <td>0.0</td>\n",
              "      <td>0.0</td>\n",
              "      <td>1.0</td>\n",
              "      <td>0.0</td>\n",
              "      <td>0.0</td>\n",
              "      <td>0.0</td>\n",
              "      <td>0.000000</td>\n",
              "      <td>0.000000</td>\n",
              "      <td>0.000000</td>\n",
              "      <td>0.000000</td>\n",
              "      <td>0.000005</td>\n",
              "      <td>0.000000</td>\n",
              "      <td>0.000000</td>\n",
              "      <td>0.000000e+00</td>\n",
              "      <td>0.003845</td>\n",
              "      <td>0.000000</td>\n",
              "      <td>0.000000</td>\n",
              "      <td>0.533333</td>\n",
              "      <td>0.000000e+00</td>\n",
              "      <td>0.0</td>\n",
              "      <td>0.000000e+00</td>\n",
              "      <td>0.000000e+00</td>\n",
              "      <td>0.000000</td>\n",
              "      <td>0.0</td>\n",
              "      <td>0.000000</td>\n",
              "      <td>0.000000</td>\n",
              "    </tr>\n",
              "    <tr>\n",
              "      <th>2</th>\n",
              "      <td>0.000000</td>\n",
              "      <td>0.000000</td>\n",
              "      <td>0.000000</td>\n",
              "      <td>0.252525</td>\n",
              "      <td>0.000000</td>\n",
              "      <td>0.000000</td>\n",
              "      <td>0.000000</td>\n",
              "      <td>0.828382</td>\n",
              "      <td>0.001221</td>\n",
              "      <td>0.352941</td>\n",
              "      <td>4.750002e-07</td>\n",
              "      <td>0.000000</td>\n",
              "      <td>0.000004</td>\n",
              "      <td>0.000003</td>\n",
              "      <td>0.000000e+00</td>\n",
              "      <td>0.000322</td>\n",
              "      <td>0.005435</td>\n",
              "      <td>0.001347</td>\n",
              "      <td>0.000000</td>\n",
              "      <td>0.000000</td>\n",
              "      <td>0.000000</td>\n",
              "      <td>0.000000</td>\n",
              "      <td>0.000000</td>\n",
              "      <td>0.085365</td>\n",
              "      <td>0.409091</td>\n",
              "      <td>4.749999e-07</td>\n",
              "      <td>0.000000</td>\n",
              "      <td>4.749999e-07</td>\n",
              "      <td>4.749999e-07</td>\n",
              "      <td>0.000000e+00</td>\n",
              "      <td>0.000000e+00</td>\n",
              "      <td>0.000000</td>\n",
              "      <td>0.000000e+00</td>\n",
              "      <td>9.999999e-08</td>\n",
              "      <td>0.000000e+00</td>\n",
              "      <td>0.000000e+00</td>\n",
              "      <td>0.000000</td>\n",
              "      <td>0.000000e+00</td>\n",
              "      <td>0.000000e+00</td>\n",
              "      <td>1.0</td>\n",
              "      <td>0.0</td>\n",
              "      <td>0.000007</td>\n",
              "      <td>0.000006</td>\n",
              "      <td>7.575758e-03</td>\n",
              "      <td>1.136364e-02</td>\n",
              "      <td>0.000000</td>\n",
              "      <td>0.000322</td>\n",
              "      <td>0.002754</td>\n",
              "      <td>0.000976</td>\n",
              "      <td>9.523810e-07</td>\n",
              "      <td>0.0</td>\n",
              "      <td>1.0</td>\n",
              "      <td>0.0</td>\n",
              "      <td>0.0</td>\n",
              "      <td>1.0</td>\n",
              "      <td>0.0</td>\n",
              "      <td>0.0</td>\n",
              "      <td>0.0</td>\n",
              "      <td>0.008065</td>\n",
              "      <td>0.003165</td>\n",
              "      <td>0.001347</td>\n",
              "      <td>0.000000</td>\n",
              "      <td>0.000000</td>\n",
              "      <td>0.000003</td>\n",
              "      <td>0.000004</td>\n",
              "      <td>0.000000e+00</td>\n",
              "      <td>0.003510</td>\n",
              "      <td>0.003601</td>\n",
              "      <td>0.000000</td>\n",
              "      <td>0.533333</td>\n",
              "      <td>0.000000e+00</td>\n",
              "      <td>0.0</td>\n",
              "      <td>0.000000e+00</td>\n",
              "      <td>0.000000e+00</td>\n",
              "      <td>0.000000</td>\n",
              "      <td>0.0</td>\n",
              "      <td>0.000000</td>\n",
              "      <td>0.000000</td>\n",
              "    </tr>\n",
              "    <tr>\n",
              "      <th>3</th>\n",
              "      <td>0.000000</td>\n",
              "      <td>1.000000</td>\n",
              "      <td>1.000000</td>\n",
              "      <td>1.000000</td>\n",
              "      <td>0.000000</td>\n",
              "      <td>1.000000</td>\n",
              "      <td>1.000000</td>\n",
              "      <td>0.774670</td>\n",
              "      <td>0.001221</td>\n",
              "      <td>0.352941</td>\n",
              "      <td>1.250000e-07</td>\n",
              "      <td>0.000005</td>\n",
              "      <td>0.000000</td>\n",
              "      <td>0.000000</td>\n",
              "      <td>0.000000e+00</td>\n",
              "      <td>0.000000</td>\n",
              "      <td>0.000000</td>\n",
              "      <td>0.000000</td>\n",
              "      <td>0.000000</td>\n",
              "      <td>0.000000</td>\n",
              "      <td>0.000000</td>\n",
              "      <td>0.000000</td>\n",
              "      <td>0.000000</td>\n",
              "      <td>0.085285</td>\n",
              "      <td>0.600000</td>\n",
              "      <td>1.250000e-07</td>\n",
              "      <td>0.000000</td>\n",
              "      <td>1.250000e-07</td>\n",
              "      <td>1.250000e-07</td>\n",
              "      <td>1.666667e-08</td>\n",
              "      <td>1.666667e-08</td>\n",
              "      <td>0.000000</td>\n",
              "      <td>1.666667e-08</td>\n",
              "      <td>1.166667e-07</td>\n",
              "      <td>0.000000e+00</td>\n",
              "      <td>0.000000e+00</td>\n",
              "      <td>0.000000</td>\n",
              "      <td>0.000000e+00</td>\n",
              "      <td>0.000000e+00</td>\n",
              "      <td>0.0</td>\n",
              "      <td>0.0</td>\n",
              "      <td>0.000015</td>\n",
              "      <td>0.000000</td>\n",
              "      <td>3.333333e-01</td>\n",
              "      <td>0.000000e+00</td>\n",
              "      <td>0.000000</td>\n",
              "      <td>0.000000</td>\n",
              "      <td>0.000000</td>\n",
              "      <td>0.000000</td>\n",
              "      <td>0.000000e+00</td>\n",
              "      <td>0.0</td>\n",
              "      <td>0.0</td>\n",
              "      <td>0.0</td>\n",
              "      <td>0.0</td>\n",
              "      <td>1.0</td>\n",
              "      <td>0.0</td>\n",
              "      <td>0.0</td>\n",
              "      <td>0.0</td>\n",
              "      <td>0.000000</td>\n",
              "      <td>0.000000</td>\n",
              "      <td>0.000000</td>\n",
              "      <td>0.000000</td>\n",
              "      <td>0.000005</td>\n",
              "      <td>0.000000</td>\n",
              "      <td>0.000000</td>\n",
              "      <td>0.000000e+00</td>\n",
              "      <td>0.003845</td>\n",
              "      <td>0.000000</td>\n",
              "      <td>0.000000</td>\n",
              "      <td>0.533333</td>\n",
              "      <td>0.000000e+00</td>\n",
              "      <td>0.0</td>\n",
              "      <td>0.000000e+00</td>\n",
              "      <td>0.000000e+00</td>\n",
              "      <td>0.000000</td>\n",
              "      <td>0.0</td>\n",
              "      <td>0.000000</td>\n",
              "      <td>0.000000</td>\n",
              "    </tr>\n",
              "    <tr>\n",
              "      <th>4</th>\n",
              "      <td>0.000000</td>\n",
              "      <td>1.000000</td>\n",
              "      <td>1.000000</td>\n",
              "      <td>1.000000</td>\n",
              "      <td>0.000000</td>\n",
              "      <td>1.000000</td>\n",
              "      <td>1.000000</td>\n",
              "      <td>0.947326</td>\n",
              "      <td>0.001221</td>\n",
              "      <td>0.352941</td>\n",
              "      <td>3.162789e-02</td>\n",
              "      <td>0.000014</td>\n",
              "      <td>0.000000</td>\n",
              "      <td>0.000008</td>\n",
              "      <td>0.000000e+00</td>\n",
              "      <td>0.000242</td>\n",
              "      <td>0.004076</td>\n",
              "      <td>0.001010</td>\n",
              "      <td>0.000000</td>\n",
              "      <td>0.000000</td>\n",
              "      <td>0.000000</td>\n",
              "      <td>0.000000</td>\n",
              "      <td>0.000000</td>\n",
              "      <td>0.085285</td>\n",
              "      <td>0.400000</td>\n",
              "      <td>1.054270e-02</td>\n",
              "      <td>0.025833</td>\n",
              "      <td>3.162206e-02</td>\n",
              "      <td>3.008333e-06</td>\n",
              "      <td>3.162778e-02</td>\n",
              "      <td>1.054259e-02</td>\n",
              "      <td>0.026267</td>\n",
              "      <td>3.162196e-02</td>\n",
              "      <td>3.000000e-06</td>\n",
              "      <td>0.000000e+00</td>\n",
              "      <td>0.000000e+00</td>\n",
              "      <td>0.000000</td>\n",
              "      <td>0.000000e+00</td>\n",
              "      <td>0.000000e+00</td>\n",
              "      <td>0.0</td>\n",
              "      <td>0.0</td>\n",
              "      <td>0.000018</td>\n",
              "      <td>0.000000</td>\n",
              "      <td>3.513087e-07</td>\n",
              "      <td>0.000000e+00</td>\n",
              "      <td>0.004415</td>\n",
              "      <td>0.000242</td>\n",
              "      <td>0.003098</td>\n",
              "      <td>0.000000</td>\n",
              "      <td>0.000000e+00</td>\n",
              "      <td>0.0</td>\n",
              "      <td>0.0</td>\n",
              "      <td>0.0</td>\n",
              "      <td>0.0</td>\n",
              "      <td>1.0</td>\n",
              "      <td>0.0</td>\n",
              "      <td>0.0</td>\n",
              "      <td>0.0</td>\n",
              "      <td>0.000000</td>\n",
              "      <td>0.002967</td>\n",
              "      <td>0.001010</td>\n",
              "      <td>0.000000</td>\n",
              "      <td>0.000014</td>\n",
              "      <td>0.000008</td>\n",
              "      <td>0.000000</td>\n",
              "      <td>0.000000e+00</td>\n",
              "      <td>0.003922</td>\n",
              "      <td>0.000000</td>\n",
              "      <td>0.000015</td>\n",
              "      <td>0.333333</td>\n",
              "      <td>0.000000e+00</td>\n",
              "      <td>0.0</td>\n",
              "      <td>0.000000e+00</td>\n",
              "      <td>0.000000e+00</td>\n",
              "      <td>0.000000</td>\n",
              "      <td>0.0</td>\n",
              "      <td>0.000000</td>\n",
              "      <td>0.000000</td>\n",
              "    </tr>\n",
              "    <tr>\n",
              "      <th>5</th>\n",
              "      <td>0.000000</td>\n",
              "      <td>0.060606</td>\n",
              "      <td>0.020202</td>\n",
              "      <td>0.131313</td>\n",
              "      <td>0.000000</td>\n",
              "      <td>0.020202</td>\n",
              "      <td>0.060606</td>\n",
              "      <td>0.023667</td>\n",
              "      <td>0.001221</td>\n",
              "      <td>0.352941</td>\n",
              "      <td>4.833335e-07</td>\n",
              "      <td>0.000005</td>\n",
              "      <td>0.000000</td>\n",
              "      <td>0.000004</td>\n",
              "      <td>0.000000e+00</td>\n",
              "      <td>0.000242</td>\n",
              "      <td>0.004076</td>\n",
              "      <td>0.001010</td>\n",
              "      <td>0.000000</td>\n",
              "      <td>0.000000</td>\n",
              "      <td>0.000000</td>\n",
              "      <td>0.000000</td>\n",
              "      <td>0.000000</td>\n",
              "      <td>0.085403</td>\n",
              "      <td>0.408889</td>\n",
              "      <td>4.833333e-07</td>\n",
              "      <td>0.000000</td>\n",
              "      <td>4.833333e-07</td>\n",
              "      <td>4.833333e-07</td>\n",
              "      <td>3.750000e-07</td>\n",
              "      <td>3.750000e-07</td>\n",
              "      <td>0.000000</td>\n",
              "      <td>3.750000e-07</td>\n",
              "      <td>4.750000e-07</td>\n",
              "      <td>0.000000e+00</td>\n",
              "      <td>0.000000e+00</td>\n",
              "      <td>0.000000</td>\n",
              "      <td>0.000000e+00</td>\n",
              "      <td>0.000000e+00</td>\n",
              "      <td>0.0</td>\n",
              "      <td>0.0</td>\n",
              "      <td>0.000009</td>\n",
              "      <td>0.000000</td>\n",
              "      <td>1.481481e-02</td>\n",
              "      <td>0.000000e+00</td>\n",
              "      <td>0.004415</td>\n",
              "      <td>0.000242</td>\n",
              "      <td>0.003098</td>\n",
              "      <td>0.000000</td>\n",
              "      <td>0.000000e+00</td>\n",
              "      <td>0.0</td>\n",
              "      <td>0.0</td>\n",
              "      <td>0.0</td>\n",
              "      <td>0.0</td>\n",
              "      <td>1.0</td>\n",
              "      <td>0.0</td>\n",
              "      <td>0.0</td>\n",
              "      <td>0.0</td>\n",
              "      <td>0.000000</td>\n",
              "      <td>0.003560</td>\n",
              "      <td>0.001010</td>\n",
              "      <td>0.000000</td>\n",
              "      <td>0.000005</td>\n",
              "      <td>0.000004</td>\n",
              "      <td>0.000000</td>\n",
              "      <td>0.000000e+00</td>\n",
              "      <td>0.245697</td>\n",
              "      <td>0.000000</td>\n",
              "      <td>0.000005</td>\n",
              "      <td>0.333333</td>\n",
              "      <td>0.000000e+00</td>\n",
              "      <td>0.0</td>\n",
              "      <td>0.000000e+00</td>\n",
              "      <td>0.000000e+00</td>\n",
              "      <td>0.000000</td>\n",
              "      <td>0.0</td>\n",
              "      <td>0.000000</td>\n",
              "      <td>0.000000</td>\n",
              "    </tr>\n",
              "    <tr>\n",
              "      <th>6</th>\n",
              "      <td>0.000000</td>\n",
              "      <td>0.949495</td>\n",
              "      <td>0.949495</td>\n",
              "      <td>0.949495</td>\n",
              "      <td>0.000000</td>\n",
              "      <td>0.949495</td>\n",
              "      <td>0.949495</td>\n",
              "      <td>0.909255</td>\n",
              "      <td>0.001221</td>\n",
              "      <td>0.352941</td>\n",
              "      <td>8.355307e-01</td>\n",
              "      <td>0.000029</td>\n",
              "      <td>0.000021</td>\n",
              "      <td>0.000136</td>\n",
              "      <td>1.849282e-05</td>\n",
              "      <td>0.015471</td>\n",
              "      <td>0.000000</td>\n",
              "      <td>0.009378</td>\n",
              "      <td>0.020537</td>\n",
              "      <td>0.250000</td>\n",
              "      <td>0.000000</td>\n",
              "      <td>0.442150</td>\n",
              "      <td>0.262135</td>\n",
              "      <td>0.085285</td>\n",
              "      <td>0.400000</td>\n",
              "      <td>6.962763e-02</td>\n",
              "      <td>0.340802</td>\n",
              "      <td>8.333334e-01</td>\n",
              "      <td>1.083333e-07</td>\n",
              "      <td>8.333333e-01</td>\n",
              "      <td>1.391667e-01</td>\n",
              "      <td>0.490408</td>\n",
              "      <td>8.333333e-01</td>\n",
              "      <td>9.999999e-08</td>\n",
              "      <td>1.253725e-03</td>\n",
              "      <td>2.507450e-04</td>\n",
              "      <td>0.000745</td>\n",
              "      <td>1.150642e-03</td>\n",
              "      <td>3.916667e-07</td>\n",
              "      <td>0.0</td>\n",
              "      <td>0.0</td>\n",
              "      <td>0.000050</td>\n",
              "      <td>0.000035</td>\n",
              "      <td>2.327198e-08</td>\n",
              "      <td>2.992112e-08</td>\n",
              "      <td>0.000000</td>\n",
              "      <td>0.175020</td>\n",
              "      <td>0.441995</td>\n",
              "      <td>0.308464</td>\n",
              "      <td>9.509609e-02</td>\n",
              "      <td>0.0</td>\n",
              "      <td>0.0</td>\n",
              "      <td>0.0</td>\n",
              "      <td>0.0</td>\n",
              "      <td>1.0</td>\n",
              "      <td>0.0</td>\n",
              "      <td>0.0</td>\n",
              "      <td>0.0</td>\n",
              "      <td>0.000000</td>\n",
              "      <td>0.364685</td>\n",
              "      <td>0.009378</td>\n",
              "      <td>0.442150</td>\n",
              "      <td>0.000029</td>\n",
              "      <td>0.000136</td>\n",
              "      <td>0.000021</td>\n",
              "      <td>1.849166e-05</td>\n",
              "      <td>0.003845</td>\n",
              "      <td>0.003601</td>\n",
              "      <td>0.000010</td>\n",
              "      <td>0.333333</td>\n",
              "      <td>4.545455e-08</td>\n",
              "      <td>0.0</td>\n",
              "      <td>4.545455e-08</td>\n",
              "      <td>4.545455e-08</td>\n",
              "      <td>0.833333</td>\n",
              "      <td>0.0</td>\n",
              "      <td>0.833333</td>\n",
              "      <td>0.833333</td>\n",
              "    </tr>\n",
              "    <tr>\n",
              "      <th>7</th>\n",
              "      <td>0.050505</td>\n",
              "      <td>0.000000</td>\n",
              "      <td>0.000000</td>\n",
              "      <td>0.000000</td>\n",
              "      <td>0.080808</td>\n",
              "      <td>0.070707</td>\n",
              "      <td>0.000000</td>\n",
              "      <td>0.001221</td>\n",
              "      <td>0.087728</td>\n",
              "      <td>0.352941</td>\n",
              "      <td>4.916668e-07</td>\n",
              "      <td>0.000000</td>\n",
              "      <td>0.000004</td>\n",
              "      <td>0.000002</td>\n",
              "      <td>9.569378e-09</td>\n",
              "      <td>0.000242</td>\n",
              "      <td>0.004076</td>\n",
              "      <td>0.001010</td>\n",
              "      <td>0.000000</td>\n",
              "      <td>0.000345</td>\n",
              "      <td>0.004110</td>\n",
              "      <td>0.001373</td>\n",
              "      <td>0.000000</td>\n",
              "      <td>0.085400</td>\n",
              "      <td>0.408696</td>\n",
              "      <td>4.916666e-07</td>\n",
              "      <td>0.000000</td>\n",
              "      <td>4.916666e-07</td>\n",
              "      <td>4.916666e-07</td>\n",
              "      <td>0.000000e+00</td>\n",
              "      <td>0.000000e+00</td>\n",
              "      <td>0.000000</td>\n",
              "      <td>0.000000e+00</td>\n",
              "      <td>9.999999e-08</td>\n",
              "      <td>0.000000e+00</td>\n",
              "      <td>0.000000e+00</td>\n",
              "      <td>0.000000</td>\n",
              "      <td>0.000000e+00</td>\n",
              "      <td>0.000000e+00</td>\n",
              "      <td>0.0</td>\n",
              "      <td>0.0</td>\n",
              "      <td>0.000005</td>\n",
              "      <td>0.000004</td>\n",
              "      <td>7.246377e-03</td>\n",
              "      <td>1.086957e-02</td>\n",
              "      <td>0.004415</td>\n",
              "      <td>0.000242</td>\n",
              "      <td>0.003098</td>\n",
              "      <td>0.000000</td>\n",
              "      <td>0.000000e+00</td>\n",
              "      <td>0.0</td>\n",
              "      <td>0.0</td>\n",
              "      <td>0.0</td>\n",
              "      <td>0.0</td>\n",
              "      <td>1.0</td>\n",
              "      <td>1.0</td>\n",
              "      <td>0.0</td>\n",
              "      <td>0.0</td>\n",
              "      <td>0.008065</td>\n",
              "      <td>0.003560</td>\n",
              "      <td>0.001010</td>\n",
              "      <td>0.001373</td>\n",
              "      <td>0.000000</td>\n",
              "      <td>0.000002</td>\n",
              "      <td>0.000004</td>\n",
              "      <td>9.568776e-09</td>\n",
              "      <td>0.005127</td>\n",
              "      <td>0.252701</td>\n",
              "      <td>0.000000</td>\n",
              "      <td>0.333333</td>\n",
              "      <td>0.000000e+00</td>\n",
              "      <td>0.0</td>\n",
              "      <td>0.000000e+00</td>\n",
              "      <td>0.000000e+00</td>\n",
              "      <td>0.000000</td>\n",
              "      <td>0.0</td>\n",
              "      <td>0.000000</td>\n",
              "      <td>0.000000</td>\n",
              "    </tr>\n",
              "    <tr>\n",
              "      <th>8</th>\n",
              "      <td>0.000000</td>\n",
              "      <td>0.232323</td>\n",
              "      <td>0.232323</td>\n",
              "      <td>0.434343</td>\n",
              "      <td>0.000000</td>\n",
              "      <td>0.272727</td>\n",
              "      <td>0.292929</td>\n",
              "      <td>0.979690</td>\n",
              "      <td>0.000809</td>\n",
              "      <td>1.000000</td>\n",
              "      <td>8.992170e-04</td>\n",
              "      <td>0.000005</td>\n",
              "      <td>0.000007</td>\n",
              "      <td>0.000038</td>\n",
              "      <td>4.720893e-07</td>\n",
              "      <td>0.002176</td>\n",
              "      <td>0.036685</td>\n",
              "      <td>0.009090</td>\n",
              "      <td>0.000000</td>\n",
              "      <td>0.008517</td>\n",
              "      <td>0.101370</td>\n",
              "      <td>0.033862</td>\n",
              "      <td>0.000000</td>\n",
              "      <td>0.085287</td>\n",
              "      <td>0.400007</td>\n",
              "      <td>2.998111e-04</td>\n",
              "      <td>0.000734</td>\n",
              "      <td>8.987832e-04</td>\n",
              "      <td>1.416667e-07</td>\n",
              "      <td>4.000000e-07</td>\n",
              "      <td>4.000000e-07</td>\n",
              "      <td>0.000000</td>\n",
              "      <td>4.000000e-07</td>\n",
              "      <td>5.000000e-07</td>\n",
              "      <td>3.333333e-08</td>\n",
              "      <td>3.333333e-08</td>\n",
              "      <td>0.000000</td>\n",
              "      <td>3.333333e-08</td>\n",
              "      <td>3.333333e-08</td>\n",
              "      <td>0.0</td>\n",
              "      <td>0.0</td>\n",
              "      <td>0.000015</td>\n",
              "      <td>0.000011</td>\n",
              "      <td>6.178961e-06</td>\n",
              "      <td>9.268442e-06</td>\n",
              "      <td>0.039735</td>\n",
              "      <td>0.005963</td>\n",
              "      <td>0.047294</td>\n",
              "      <td>0.010881</td>\n",
              "      <td>1.183393e-04</td>\n",
              "      <td>0.0</td>\n",
              "      <td>0.0</td>\n",
              "      <td>0.0</td>\n",
              "      <td>0.0</td>\n",
              "      <td>0.0</td>\n",
              "      <td>0.0</td>\n",
              "      <td>0.0</td>\n",
              "      <td>0.0</td>\n",
              "      <td>0.008065</td>\n",
              "      <td>0.045293</td>\n",
              "      <td>0.009090</td>\n",
              "      <td>0.033862</td>\n",
              "      <td>0.000005</td>\n",
              "      <td>0.000038</td>\n",
              "      <td>0.000007</td>\n",
              "      <td>4.720596e-07</td>\n",
              "      <td>0.000000</td>\n",
              "      <td>0.000000</td>\n",
              "      <td>0.000005</td>\n",
              "      <td>0.533333</td>\n",
              "      <td>0.000000e+00</td>\n",
              "      <td>0.0</td>\n",
              "      <td>0.000000e+00</td>\n",
              "      <td>0.000000e+00</td>\n",
              "      <td>0.000000</td>\n",
              "      <td>0.0</td>\n",
              "      <td>0.000000</td>\n",
              "      <td>0.000000</td>\n",
              "    </tr>\n",
              "    <tr>\n",
              "      <th>9</th>\n",
              "      <td>0.000000</td>\n",
              "      <td>1.000000</td>\n",
              "      <td>1.000000</td>\n",
              "      <td>1.000000</td>\n",
              "      <td>0.000000</td>\n",
              "      <td>1.000000</td>\n",
              "      <td>1.000000</td>\n",
              "      <td>0.228977</td>\n",
              "      <td>0.000809</td>\n",
              "      <td>1.000000</td>\n",
              "      <td>1.766667e-06</td>\n",
              "      <td>0.000005</td>\n",
              "      <td>0.000007</td>\n",
              "      <td>0.000022</td>\n",
              "      <td>3.253589e-07</td>\n",
              "      <td>0.001289</td>\n",
              "      <td>0.021739</td>\n",
              "      <td>0.005386</td>\n",
              "      <td>0.000000</td>\n",
              "      <td>0.005870</td>\n",
              "      <td>0.069863</td>\n",
              "      <td>0.023337</td>\n",
              "      <td>0.000000</td>\n",
              "      <td>0.085880</td>\n",
              "      <td>0.404020</td>\n",
              "      <td>6.611110e-07</td>\n",
              "      <td>0.000001</td>\n",
              "      <td>1.716666e-06</td>\n",
              "      <td>1.333333e-07</td>\n",
              "      <td>2.500000e-08</td>\n",
              "      <td>2.500000e-08</td>\n",
              "      <td>0.000000</td>\n",
              "      <td>2.500000e-08</td>\n",
              "      <td>1.250000e-07</td>\n",
              "      <td>2.500000e-08</td>\n",
              "      <td>2.500000e-08</td>\n",
              "      <td>0.000000</td>\n",
              "      <td>2.500000e-08</td>\n",
              "      <td>2.500000e-08</td>\n",
              "      <td>0.0</td>\n",
              "      <td>0.0</td>\n",
              "      <td>0.000015</td>\n",
              "      <td>0.000011</td>\n",
              "      <td>3.350084e-03</td>\n",
              "      <td>5.025126e-03</td>\n",
              "      <td>0.023547</td>\n",
              "      <td>0.004110</td>\n",
              "      <td>0.030978</td>\n",
              "      <td>0.008103</td>\n",
              "      <td>6.562500e-05</td>\n",
              "      <td>0.0</td>\n",
              "      <td>0.0</td>\n",
              "      <td>0.0</td>\n",
              "      <td>0.0</td>\n",
              "      <td>0.0</td>\n",
              "      <td>0.0</td>\n",
              "      <td>0.0</td>\n",
              "      <td>0.0</td>\n",
              "      <td>0.008065</td>\n",
              "      <td>0.029668</td>\n",
              "      <td>0.005386</td>\n",
              "      <td>0.023337</td>\n",
              "      <td>0.000005</td>\n",
              "      <td>0.000022</td>\n",
              "      <td>0.000007</td>\n",
              "      <td>3.253384e-07</td>\n",
              "      <td>0.000000</td>\n",
              "      <td>0.000000</td>\n",
              "      <td>0.000005</td>\n",
              "      <td>0.533333</td>\n",
              "      <td>0.000000e+00</td>\n",
              "      <td>0.0</td>\n",
              "      <td>0.000000e+00</td>\n",
              "      <td>0.000000e+00</td>\n",
              "      <td>0.000000</td>\n",
              "      <td>0.0</td>\n",
              "      <td>0.000000</td>\n",
              "      <td>0.000000</td>\n",
              "    </tr>\n",
              "  </tbody>\n",
              "</table>\n",
              "</div>"
            ],
            "text/plain": [
              "   src dport count  dst src count  dport count  ...  Idle Max  Idle Min     Label\n",
              "0         0.000000       0.353535     0.353535  ...       0.0  0.000000  0.000000\n",
              "1         0.000000       0.959596     0.959596  ...       0.0  0.000000  0.000000\n",
              "2         0.000000       0.000000     0.000000  ...       0.0  0.000000  0.000000\n",
              "3         0.000000       1.000000     1.000000  ...       0.0  0.000000  0.000000\n",
              "4         0.000000       1.000000     1.000000  ...       0.0  0.000000  0.000000\n",
              "5         0.000000       0.060606     0.020202  ...       0.0  0.000000  0.000000\n",
              "6         0.000000       0.949495     0.949495  ...       0.0  0.833333  0.833333\n",
              "7         0.050505       0.000000     0.000000  ...       0.0  0.000000  0.000000\n",
              "8         0.000000       0.232323     0.232323  ...       0.0  0.000000  0.000000\n",
              "9         0.000000       1.000000     1.000000  ...       0.0  0.000000  0.000000\n",
              "\n",
              "[10 rows x 78 columns]"
            ]
          },
          "metadata": {
            "tags": []
          },
          "execution_count": 31
        }
      ]
    },
    {
      "cell_type": "code",
      "metadata": {
        "id": "LzLYPxy-Xhv-"
      },
      "source": [
        "from sklearn.decomposition import PCA"
      ],
      "execution_count": null,
      "outputs": []
    },
    {
      "cell_type": "code",
      "metadata": {
        "id": "FIE01O4yXhv-"
      },
      "source": [
        "pca = PCA(n_components=None)"
      ],
      "execution_count": null,
      "outputs": []
    },
    {
      "cell_type": "code",
      "metadata": {
        "id": "dd2crc5zXhv-"
      },
      "source": [
        "dfx_pca = pca.fit(dfx)"
      ],
      "execution_count": null,
      "outputs": []
    },
    {
      "cell_type": "code",
      "metadata": {
        "colab": {
          "base_uri": "https://localhost:8080/",
          "height": 424
        },
        "id": "wPwtI_6RXhv-",
        "outputId": "0db9d0f6-d9b0-4c07-de50-11ab88e9c241"
      },
      "source": [
        "plt.figure(figsize=(24,5))\n",
        "plt.scatter(x=[i+1 for i in range(len(dfx_pca.explained_variance_ratio_))],\n",
        "            y=dfx_pca.explained_variance_ratio_,\n",
        "           s=200, alpha=0.75,c='orange',edgecolor='k')\n",
        "plt.grid(True)\n",
        "plt.title(\"Explained variance ratio of the \\nfitted principal component vector\\n\",fontsize=25)\n",
        "plt.xlabel(\"Principal components\",fontsize=15)\n",
        "plt.xticks([i+1 for i in range(len(dfx_pca.explained_variance_ratio_))],fontsize=15)\n",
        "plt.yticks(fontsize=15)\n",
        "plt.ylabel(\"Explained variance ratio\",fontsize=15)\n",
        "plt.show()"
      ],
      "execution_count": null,
      "outputs": [
        {
          "output_type": "display_data",
          "data": {
            "image/png": "[encoded data removed]",
            "text/plain": [
              "<Figure size 1728x360 with 1 Axes>"
            ]
          },
          "metadata": {
            "tags": []
          }
        }
      ]
    },
    {
      "cell_type": "markdown",
      "metadata": {
        "id": "yeVjWmuZXhv_"
      },
      "source": [
        "The above two plots means that the $1^{st}$ principal component explains about 38% of the total variance in the data and the $2^{nd}$ component explians further 20%. Therefore, if we just consider first two components, they together explain 58% of the total variance. Using the first 10 features should give very hight detection rate."
      ]
    },
    {
      "cell_type": "markdown",
      "metadata": {
        "id": "l8xM86XhXhv_"
      },
      "source": [
        "Transform the scaled data set using the fitted PCA object"
      ]
    },
    {
      "cell_type": "code",
      "metadata": {
        "id": "srySEJvRXhv_"
      },
      "source": [
        "dfx_trans = pca.transform(dfx)"
      ],
      "execution_count": null,
      "outputs": []
    },
    {
      "cell_type": "markdown",
      "metadata": {
        "id": "COMFpsuyXhv_"
      },
      "source": [
        "Put it in a data frame"
      ]
    },
    {
      "cell_type": "code",
      "metadata": {
        "colab": {
          "base_uri": "https://localhost:8080/",
          "height": 531
        },
        "id": "rtptL8AMXhwA",
        "scrolled": true,
        "outputId": "1de1ce31-e271-4700-cdc6-72eeeb09f8b1"
      },
      "source": [
        "dfx_trans = pd.DataFrame(data=dfx_trans)\n",
        "dfx_trans.head(10)"
      ],
      "execution_count": null,
      "outputs": [
        {
          "output_type": "execute_result",
          "data": {
            "text/html": [
              "<div>\n",
              "<style scoped>\n",
              "    .dataframe tbody tr th:only-of-type {\n",
              "        vertical-align: middle;\n",
              "    }\n",
              "\n",
              "    .dataframe tbody tr th {\n",
              "        vertical-align: top;\n",
              "    }\n",
              "\n",
              "    .dataframe thead th {\n",
              "        text-align: right;\n",
              "    }\n",
              "</style>\n",
              "<table border=\"1\" class=\"dataframe\">\n",
              "  <thead>\n",
              "    <tr style=\"text-align: right;\">\n",
              "      <th></th>\n",
              "      <th>0</th>\n",
              "      <th>1</th>\n",
              "      <th>2</th>\n",
              "      <th>3</th>\n",
              "      <th>4</th>\n",
              "      <th>5</th>\n",
              "      <th>6</th>\n",
              "      <th>7</th>\n",
              "      <th>8</th>\n",
              "      <th>9</th>\n",
              "      <th>10</th>\n",
              "      <th>11</th>\n",
              "      <th>12</th>\n",
              "      <th>13</th>\n",
              "      <th>14</th>\n",
              "      <th>15</th>\n",
              "      <th>16</th>\n",
              "      <th>17</th>\n",
              "      <th>18</th>\n",
              "      <th>19</th>\n",
              "      <th>20</th>\n",
              "      <th>21</th>\n",
              "      <th>22</th>\n",
              "      <th>23</th>\n",
              "      <th>24</th>\n",
              "      <th>25</th>\n",
              "      <th>26</th>\n",
              "      <th>27</th>\n",
              "      <th>28</th>\n",
              "      <th>29</th>\n",
              "      <th>30</th>\n",
              "      <th>31</th>\n",
              "      <th>32</th>\n",
              "      <th>33</th>\n",
              "      <th>34</th>\n",
              "      <th>35</th>\n",
              "      <th>36</th>\n",
              "      <th>37</th>\n",
              "      <th>38</th>\n",
              "      <th>39</th>\n",
              "      <th>40</th>\n",
              "      <th>41</th>\n",
              "      <th>42</th>\n",
              "      <th>43</th>\n",
              "      <th>44</th>\n",
              "      <th>45</th>\n",
              "      <th>46</th>\n",
              "      <th>47</th>\n",
              "      <th>48</th>\n",
              "      <th>49</th>\n",
              "      <th>50</th>\n",
              "      <th>51</th>\n",
              "      <th>52</th>\n",
              "      <th>53</th>\n",
              "      <th>54</th>\n",
              "      <th>55</th>\n",
              "      <th>56</th>\n",
              "      <th>57</th>\n",
              "      <th>58</th>\n",
              "      <th>59</th>\n",
              "      <th>60</th>\n",
              "      <th>61</th>\n",
              "      <th>62</th>\n",
              "      <th>63</th>\n",
              "      <th>64</th>\n",
              "      <th>65</th>\n",
              "      <th>66</th>\n",
              "      <th>67</th>\n",
              "      <th>68</th>\n",
              "      <th>69</th>\n",
              "      <th>70</th>\n",
              "      <th>71</th>\n",
              "      <th>72</th>\n",
              "      <th>73</th>\n",
              "      <th>74</th>\n",
              "      <th>75</th>\n",
              "      <th>76</th>\n",
              "      <th>77</th>\n",
              "    </tr>\n",
              "  </thead>\n",
              "  <tbody>\n",
              "    <tr>\n",
              "      <th>0</th>\n",
              "      <td>-0.488597</td>\n",
              "      <td>0.242597</td>\n",
              "      <td>-0.540661</td>\n",
              "      <td>-0.178630</td>\n",
              "      <td>-0.514452</td>\n",
              "      <td>0.193199</td>\n",
              "      <td>-0.164727</td>\n",
              "      <td>-0.023271</td>\n",
              "      <td>0.158543</td>\n",
              "      <td>-0.020178</td>\n",
              "      <td>0.053654</td>\n",
              "      <td>-0.044077</td>\n",
              "      <td>-0.235297</td>\n",
              "      <td>-0.082241</td>\n",
              "      <td>0.028475</td>\n",
              "      <td>0.098638</td>\n",
              "      <td>-0.007841</td>\n",
              "      <td>-0.041150</td>\n",
              "      <td>-0.000887</td>\n",
              "      <td>0.038087</td>\n",
              "      <td>-0.023412</td>\n",
              "      <td>0.058491</td>\n",
              "      <td>0.058092</td>\n",
              "      <td>-0.024476</td>\n",
              "      <td>0.001131</td>\n",
              "      <td>0.013029</td>\n",
              "      <td>0.083534</td>\n",
              "      <td>0.007055</td>\n",
              "      <td>-0.004332</td>\n",
              "      <td>0.005906</td>\n",
              "      <td>0.000427</td>\n",
              "      <td>0.000091</td>\n",
              "      <td>0.001640</td>\n",
              "      <td>0.004857</td>\n",
              "      <td>0.004889</td>\n",
              "      <td>-0.003708</td>\n",
              "      <td>-0.001726</td>\n",
              "      <td>0.001525</td>\n",
              "      <td>-0.000286</td>\n",
              "      <td>-0.000494</td>\n",
              "      <td>0.001754</td>\n",
              "      <td>-0.000077</td>\n",
              "      <td>0.001185</td>\n",
              "      <td>-0.001260</td>\n",
              "      <td>0.002864</td>\n",
              "      <td>0.000002</td>\n",
              "      <td>-0.000146</td>\n",
              "      <td>-0.000221</td>\n",
              "      <td>0.000521</td>\n",
              "      <td>-0.000048</td>\n",
              "      <td>0.000820</td>\n",
              "      <td>-0.000767</td>\n",
              "      <td>0.000292</td>\n",
              "      <td>0.000165</td>\n",
              "      <td>-0.000226</td>\n",
              "      <td>0.000503</td>\n",
              "      <td>0.000020</td>\n",
              "      <td>-0.000037</td>\n",
              "      <td>-0.000075</td>\n",
              "      <td>0.000050</td>\n",
              "      <td>-0.000041</td>\n",
              "      <td>-0.000129</td>\n",
              "      <td>0.000004</td>\n",
              "      <td>-0.000005</td>\n",
              "      <td>9.326158e-06</td>\n",
              "      <td>-1.076908e-06</td>\n",
              "      <td>1.217870e-06</td>\n",
              "      <td>-1.442722e-06</td>\n",
              "      <td>-5.668453e-10</td>\n",
              "      <td>-9.399371e-15</td>\n",
              "      <td>-2.251133e-17</td>\n",
              "      <td>8.732720e-17</td>\n",
              "      <td>4.796419e-17</td>\n",
              "      <td>-3.583144e-17</td>\n",
              "      <td>1.640306e-18</td>\n",
              "      <td>-1.578207e-17</td>\n",
              "      <td>-1.511041e-17</td>\n",
              "      <td>-1.353358e-16</td>\n",
              "    </tr>\n",
              "    <tr>\n",
              "      <th>1</th>\n",
              "      <td>0.263218</td>\n",
              "      <td>-0.044837</td>\n",
              "      <td>-0.166820</td>\n",
              "      <td>-1.174673</td>\n",
              "      <td>0.019609</td>\n",
              "      <td>-0.275334</td>\n",
              "      <td>0.418882</td>\n",
              "      <td>-0.031768</td>\n",
              "      <td>-0.056712</td>\n",
              "      <td>0.080211</td>\n",
              "      <td>-0.167943</td>\n",
              "      <td>0.098513</td>\n",
              "      <td>0.037086</td>\n",
              "      <td>0.066169</td>\n",
              "      <td>0.074802</td>\n",
              "      <td>0.018870</td>\n",
              "      <td>-0.020877</td>\n",
              "      <td>0.074176</td>\n",
              "      <td>-0.052254</td>\n",
              "      <td>-0.178544</td>\n",
              "      <td>0.167828</td>\n",
              "      <td>0.042994</td>\n",
              "      <td>0.044787</td>\n",
              "      <td>0.019081</td>\n",
              "      <td>-0.012203</td>\n",
              "      <td>0.008204</td>\n",
              "      <td>-0.009393</td>\n",
              "      <td>-0.003438</td>\n",
              "      <td>0.002675</td>\n",
              "      <td>-0.004593</td>\n",
              "      <td>-0.009801</td>\n",
              "      <td>0.004191</td>\n",
              "      <td>0.003660</td>\n",
              "      <td>-0.002434</td>\n",
              "      <td>-0.003423</td>\n",
              "      <td>-0.010165</td>\n",
              "      <td>-0.002741</td>\n",
              "      <td>0.000062</td>\n",
              "      <td>0.000242</td>\n",
              "      <td>-0.000326</td>\n",
              "      <td>-0.000085</td>\n",
              "      <td>-0.003654</td>\n",
              "      <td>-0.001374</td>\n",
              "      <td>-0.000601</td>\n",
              "      <td>0.001308</td>\n",
              "      <td>0.000070</td>\n",
              "      <td>0.001867</td>\n",
              "      <td>0.001197</td>\n",
              "      <td>-0.000487</td>\n",
              "      <td>-0.000521</td>\n",
              "      <td>-0.000798</td>\n",
              "      <td>0.000242</td>\n",
              "      <td>0.000041</td>\n",
              "      <td>-0.000127</td>\n",
              "      <td>0.000150</td>\n",
              "      <td>0.000049</td>\n",
              "      <td>0.000091</td>\n",
              "      <td>0.000031</td>\n",
              "      <td>0.000167</td>\n",
              "      <td>-0.000034</td>\n",
              "      <td>0.000006</td>\n",
              "      <td>0.000094</td>\n",
              "      <td>0.000001</td>\n",
              "      <td>-0.000003</td>\n",
              "      <td>3.246140e-06</td>\n",
              "      <td>-3.989182e-07</td>\n",
              "      <td>7.471152e-07</td>\n",
              "      <td>1.052650e-08</td>\n",
              "      <td>-2.566533e-09</td>\n",
              "      <td>1.702081e-15</td>\n",
              "      <td>5.289142e-17</td>\n",
              "      <td>-5.292686e-17</td>\n",
              "      <td>5.910479e-17</td>\n",
              "      <td>1.149871e-16</td>\n",
              "      <td>1.931173e-17</td>\n",
              "      <td>6.335587e-17</td>\n",
              "      <td>1.550500e-17</td>\n",
              "      <td>4.173343e-17</td>\n",
              "    </tr>\n",
              "    <tr>\n",
              "      <th>2</th>\n",
              "      <td>-0.938037</td>\n",
              "      <td>1.169584</td>\n",
              "      <td>0.154573</td>\n",
              "      <td>-0.236835</td>\n",
              "      <td>0.323263</td>\n",
              "      <td>-0.405435</td>\n",
              "      <td>-0.152761</td>\n",
              "      <td>1.296169</td>\n",
              "      <td>-0.054324</td>\n",
              "      <td>-0.112227</td>\n",
              "      <td>0.139533</td>\n",
              "      <td>-0.075226</td>\n",
              "      <td>0.036911</td>\n",
              "      <td>0.061415</td>\n",
              "      <td>0.026876</td>\n",
              "      <td>-0.065117</td>\n",
              "      <td>0.052207</td>\n",
              "      <td>0.098921</td>\n",
              "      <td>-0.057813</td>\n",
              "      <td>0.023476</td>\n",
              "      <td>-0.025837</td>\n",
              "      <td>-0.108801</td>\n",
              "      <td>-0.106587</td>\n",
              "      <td>-0.102261</td>\n",
              "      <td>-0.077703</td>\n",
              "      <td>0.045351</td>\n",
              "      <td>-0.057078</td>\n",
              "      <td>-0.008897</td>\n",
              "      <td>0.001767</td>\n",
              "      <td>0.006659</td>\n",
              "      <td>-0.006239</td>\n",
              "      <td>-0.003782</td>\n",
              "      <td>-0.013287</td>\n",
              "      <td>-0.007082</td>\n",
              "      <td>0.007357</td>\n",
              "      <td>0.015822</td>\n",
              "      <td>0.009373</td>\n",
              "      <td>0.002984</td>\n",
              "      <td>-0.000611</td>\n",
              "      <td>-0.003884</td>\n",
              "      <td>0.002453</td>\n",
              "      <td>-0.003782</td>\n",
              "      <td>-0.005225</td>\n",
              "      <td>-0.001269</td>\n",
              "      <td>0.004527</td>\n",
              "      <td>0.000740</td>\n",
              "      <td>0.004608</td>\n",
              "      <td>0.001259</td>\n",
              "      <td>0.000416</td>\n",
              "      <td>-0.000434</td>\n",
              "      <td>0.006968</td>\n",
              "      <td>0.000695</td>\n",
              "      <td>-0.001429</td>\n",
              "      <td>0.000060</td>\n",
              "      <td>-0.001422</td>\n",
              "      <td>-0.001487</td>\n",
              "      <td>0.000048</td>\n",
              "      <td>-0.000621</td>\n",
              "      <td>0.000025</td>\n",
              "      <td>-0.000129</td>\n",
              "      <td>-0.000019</td>\n",
              "      <td>0.000107</td>\n",
              "      <td>-0.000094</td>\n",
              "      <td>0.000010</td>\n",
              "      <td>-3.405002e-06</td>\n",
              "      <td>-4.076882e-06</td>\n",
              "      <td>5.675976e-07</td>\n",
              "      <td>-1.465755e-06</td>\n",
              "      <td>-1.378632e-08</td>\n",
              "      <td>6.869159e-15</td>\n",
              "      <td>3.919971e-16</td>\n",
              "      <td>-1.513926e-16</td>\n",
              "      <td>-2.197564e-16</td>\n",
              "      <td>-1.400548e-16</td>\n",
              "      <td>6.489696e-17</td>\n",
              "      <td>4.434442e-17</td>\n",
              "      <td>-2.705708e-17</td>\n",
              "      <td>-2.683301e-16</td>\n",
              "    </tr>\n",
              "    <tr>\n",
              "      <th>3</th>\n",
              "      <td>0.333071</td>\n",
              "      <td>-0.104661</td>\n",
              "      <td>-0.250695</td>\n",
              "      <td>-1.204513</td>\n",
              "      <td>-0.060205</td>\n",
              "      <td>-0.368469</td>\n",
              "      <td>0.366575</td>\n",
              "      <td>0.007332</td>\n",
              "      <td>-0.054611</td>\n",
              "      <td>-0.086900</td>\n",
              "      <td>-0.101379</td>\n",
              "      <td>0.160482</td>\n",
              "      <td>0.047840</td>\n",
              "      <td>0.014102</td>\n",
              "      <td>0.041110</td>\n",
              "      <td>0.042839</td>\n",
              "      <td>-0.028882</td>\n",
              "      <td>0.076088</td>\n",
              "      <td>-0.045639</td>\n",
              "      <td>-0.172334</td>\n",
              "      <td>0.169792</td>\n",
              "      <td>0.045254</td>\n",
              "      <td>0.046676</td>\n",
              "      <td>0.017519</td>\n",
              "      <td>-0.006068</td>\n",
              "      <td>0.007395</td>\n",
              "      <td>-0.000457</td>\n",
              "      <td>-0.001880</td>\n",
              "      <td>0.005492</td>\n",
              "      <td>-0.003065</td>\n",
              "      <td>-0.007237</td>\n",
              "      <td>0.003011</td>\n",
              "      <td>0.002421</td>\n",
              "      <td>-0.002205</td>\n",
              "      <td>-0.001838</td>\n",
              "      <td>-0.010218</td>\n",
              "      <td>-0.001617</td>\n",
              "      <td>0.000297</td>\n",
              "      <td>0.000216</td>\n",
              "      <td>0.000559</td>\n",
              "      <td>0.000017</td>\n",
              "      <td>-0.003826</td>\n",
              "      <td>-0.001700</td>\n",
              "      <td>-0.000710</td>\n",
              "      <td>0.001625</td>\n",
              "      <td>-0.000148</td>\n",
              "      <td>0.001813</td>\n",
              "      <td>0.001261</td>\n",
              "      <td>-0.000333</td>\n",
              "      <td>-0.000644</td>\n",
              "      <td>-0.000427</td>\n",
              "      <td>0.000235</td>\n",
              "      <td>0.000186</td>\n",
              "      <td>-0.000134</td>\n",
              "      <td>0.000161</td>\n",
              "      <td>-0.000062</td>\n",
              "      <td>0.000107</td>\n",
              "      <td>-0.000086</td>\n",
              "      <td>0.000154</td>\n",
              "      <td>-0.000020</td>\n",
              "      <td>0.000001</td>\n",
              "      <td>0.000093</td>\n",
              "      <td>0.000004</td>\n",
              "      <td>-0.000003</td>\n",
              "      <td>2.053972e-06</td>\n",
              "      <td>1.285055e-06</td>\n",
              "      <td>4.125033e-07</td>\n",
              "      <td>3.229756e-07</td>\n",
              "      <td>-2.084796e-09</td>\n",
              "      <td>7.445140e-16</td>\n",
              "      <td>4.942197e-17</td>\n",
              "      <td>-5.639631e-17</td>\n",
              "      <td>6.601658e-17</td>\n",
              "      <td>9.568830e-17</td>\n",
              "      <td>1.440572e-17</td>\n",
              "      <td>4.133301e-17</td>\n",
              "      <td>1.172384e-17</td>\n",
              "      <td>4.867232e-17</td>\n",
              "    </tr>\n",
              "    <tr>\n",
              "      <th>4</th>\n",
              "      <td>0.385390</td>\n",
              "      <td>-0.100582</td>\n",
              "      <td>-0.272434</td>\n",
              "      <td>-1.149030</td>\n",
              "      <td>-0.118184</td>\n",
              "      <td>-0.407311</td>\n",
              "      <td>0.289029</td>\n",
              "      <td>0.018260</td>\n",
              "      <td>-0.018262</td>\n",
              "      <td>-0.229393</td>\n",
              "      <td>-0.078740</td>\n",
              "      <td>0.136164</td>\n",
              "      <td>0.045215</td>\n",
              "      <td>-0.040308</td>\n",
              "      <td>0.019169</td>\n",
              "      <td>0.044751</td>\n",
              "      <td>0.033189</td>\n",
              "      <td>0.036765</td>\n",
              "      <td>0.047657</td>\n",
              "      <td>0.131724</td>\n",
              "      <td>-0.094340</td>\n",
              "      <td>-0.021822</td>\n",
              "      <td>0.024958</td>\n",
              "      <td>0.012653</td>\n",
              "      <td>0.006594</td>\n",
              "      <td>-0.002633</td>\n",
              "      <td>0.009401</td>\n",
              "      <td>0.016648</td>\n",
              "      <td>0.001393</td>\n",
              "      <td>-0.010418</td>\n",
              "      <td>-0.002976</td>\n",
              "      <td>-0.006587</td>\n",
              "      <td>0.000823</td>\n",
              "      <td>0.016598</td>\n",
              "      <td>-0.015491</td>\n",
              "      <td>-0.000356</td>\n",
              "      <td>0.007600</td>\n",
              "      <td>0.001463</td>\n",
              "      <td>-0.003105</td>\n",
              "      <td>0.007208</td>\n",
              "      <td>-0.004492</td>\n",
              "      <td>0.000583</td>\n",
              "      <td>0.003601</td>\n",
              "      <td>-0.000455</td>\n",
              "      <td>-0.001187</td>\n",
              "      <td>-0.000058</td>\n",
              "      <td>-0.001320</td>\n",
              "      <td>0.000175</td>\n",
              "      <td>0.000765</td>\n",
              "      <td>-0.000677</td>\n",
              "      <td>-0.000873</td>\n",
              "      <td>-0.000085</td>\n",
              "      <td>0.000615</td>\n",
              "      <td>0.000136</td>\n",
              "      <td>-0.000149</td>\n",
              "      <td>-0.000819</td>\n",
              "      <td>-0.000031</td>\n",
              "      <td>-0.000398</td>\n",
              "      <td>0.000078</td>\n",
              "      <td>-0.000002</td>\n",
              "      <td>0.000047</td>\n",
              "      <td>-0.000132</td>\n",
              "      <td>0.000004</td>\n",
              "      <td>-0.000003</td>\n",
              "      <td>8.073475e-07</td>\n",
              "      <td>7.248449e-06</td>\n",
              "      <td>-3.483708e-06</td>\n",
              "      <td>1.628854e-06</td>\n",
              "      <td>1.345458e-08</td>\n",
              "      <td>-9.077991e-15</td>\n",
              "      <td>1.100492e-17</td>\n",
              "      <td>-6.789763e-17</td>\n",
              "      <td>9.785755e-17</td>\n",
              "      <td>5.839002e-17</td>\n",
              "      <td>1.131353e-17</td>\n",
              "      <td>2.844696e-18</td>\n",
              "      <td>4.042168e-18</td>\n",
              "      <td>7.643776e-17</td>\n",
              "    </tr>\n",
              "    <tr>\n",
              "      <th>5</th>\n",
              "      <td>-0.950240</td>\n",
              "      <td>1.062221</td>\n",
              "      <td>0.254078</td>\n",
              "      <td>-0.201129</td>\n",
              "      <td>0.450436</td>\n",
              "      <td>-0.106995</td>\n",
              "      <td>0.064394</td>\n",
              "      <td>-0.115120</td>\n",
              "      <td>-0.258565</td>\n",
              "      <td>0.247042</td>\n",
              "      <td>-0.290402</td>\n",
              "      <td>0.019571</td>\n",
              "      <td>-0.056861</td>\n",
              "      <td>0.204908</td>\n",
              "      <td>0.312844</td>\n",
              "      <td>-0.144035</td>\n",
              "      <td>-0.074324</td>\n",
              "      <td>-0.016460</td>\n",
              "      <td>0.017403</td>\n",
              "      <td>0.096149</td>\n",
              "      <td>-0.109954</td>\n",
              "      <td>0.041044</td>\n",
              "      <td>0.042375</td>\n",
              "      <td>0.025975</td>\n",
              "      <td>0.002221</td>\n",
              "      <td>-0.017711</td>\n",
              "      <td>-0.055797</td>\n",
              "      <td>0.006284</td>\n",
              "      <td>-0.000731</td>\n",
              "      <td>0.007835</td>\n",
              "      <td>-0.024756</td>\n",
              "      <td>0.005381</td>\n",
              "      <td>0.000107</td>\n",
              "      <td>-0.007679</td>\n",
              "      <td>-0.007984</td>\n",
              "      <td>0.004290</td>\n",
              "      <td>-0.004503</td>\n",
              "      <td>-0.000366</td>\n",
              "      <td>-0.000433</td>\n",
              "      <td>-0.007423</td>\n",
              "      <td>0.002221</td>\n",
              "      <td>0.000779</td>\n",
              "      <td>-0.000589</td>\n",
              "      <td>-0.000238</td>\n",
              "      <td>0.000204</td>\n",
              "      <td>0.001758</td>\n",
              "      <td>0.002100</td>\n",
              "      <td>0.000905</td>\n",
              "      <td>-0.001644</td>\n",
              "      <td>-0.000399</td>\n",
              "      <td>-0.000893</td>\n",
              "      <td>-0.000642</td>\n",
              "      <td>-0.001351</td>\n",
              "      <td>-0.000239</td>\n",
              "      <td>-0.000308</td>\n",
              "      <td>0.000946</td>\n",
              "      <td>-0.000195</td>\n",
              "      <td>0.000268</td>\n",
              "      <td>-0.000009</td>\n",
              "      <td>0.000174</td>\n",
              "      <td>0.000016</td>\n",
              "      <td>0.000065</td>\n",
              "      <td>-0.000066</td>\n",
              "      <td>0.000015</td>\n",
              "      <td>-3.287675e-07</td>\n",
              "      <td>-1.056250e-05</td>\n",
              "      <td>3.433302e-06</td>\n",
              "      <td>-4.369818e-06</td>\n",
              "      <td>2.419419e-08</td>\n",
              "      <td>-4.448401e-15</td>\n",
              "      <td>-1.288013e-16</td>\n",
              "      <td>7.474092e-17</td>\n",
              "      <td>6.613886e-17</td>\n",
              "      <td>-2.196594e-17</td>\n",
              "      <td>3.014280e-17</td>\n",
              "      <td>2.273171e-17</td>\n",
              "      <td>-7.376614e-18</td>\n",
              "      <td>-5.454286e-17</td>\n",
              "    </tr>\n",
              "    <tr>\n",
              "      <th>6</th>\n",
              "      <td>2.115870</td>\n",
              "      <td>0.470686</td>\n",
              "      <td>0.403000</td>\n",
              "      <td>0.024049</td>\n",
              "      <td>-0.002507</td>\n",
              "      <td>-0.463517</td>\n",
              "      <td>-0.466972</td>\n",
              "      <td>-0.107948</td>\n",
              "      <td>0.035002</td>\n",
              "      <td>0.079194</td>\n",
              "      <td>0.058373</td>\n",
              "      <td>-0.058572</td>\n",
              "      <td>0.034821</td>\n",
              "      <td>-0.154894</td>\n",
              "      <td>-0.096132</td>\n",
              "      <td>-0.016243</td>\n",
              "      <td>0.004409</td>\n",
              "      <td>0.096707</td>\n",
              "      <td>0.039044</td>\n",
              "      <td>0.049727</td>\n",
              "      <td>-0.062521</td>\n",
              "      <td>0.139430</td>\n",
              "      <td>0.064474</td>\n",
              "      <td>-0.033708</td>\n",
              "      <td>-0.006584</td>\n",
              "      <td>-0.012505</td>\n",
              "      <td>0.003361</td>\n",
              "      <td>0.030429</td>\n",
              "      <td>-0.002658</td>\n",
              "      <td>0.007782</td>\n",
              "      <td>0.014665</td>\n",
              "      <td>0.022047</td>\n",
              "      <td>-0.020243</td>\n",
              "      <td>-0.014131</td>\n",
              "      <td>-0.007212</td>\n",
              "      <td>-0.000952</td>\n",
              "      <td>-0.003672</td>\n",
              "      <td>0.006071</td>\n",
              "      <td>0.000857</td>\n",
              "      <td>-0.000381</td>\n",
              "      <td>-0.002524</td>\n",
              "      <td>-0.004478</td>\n",
              "      <td>0.002261</td>\n",
              "      <td>-0.000732</td>\n",
              "      <td>-0.002195</td>\n",
              "      <td>-0.001162</td>\n",
              "      <td>0.001540</td>\n",
              "      <td>0.001573</td>\n",
              "      <td>0.001115</td>\n",
              "      <td>0.000682</td>\n",
              "      <td>-0.001526</td>\n",
              "      <td>-0.000283</td>\n",
              "      <td>0.002495</td>\n",
              "      <td>0.000485</td>\n",
              "      <td>-0.001661</td>\n",
              "      <td>0.000556</td>\n",
              "      <td>0.000046</td>\n",
              "      <td>0.002300</td>\n",
              "      <td>-0.001561</td>\n",
              "      <td>-0.000035</td>\n",
              "      <td>0.000137</td>\n",
              "      <td>-0.000069</td>\n",
              "      <td>-0.000053</td>\n",
              "      <td>0.000013</td>\n",
              "      <td>-6.899396e-06</td>\n",
              "      <td>-6.774172e-06</td>\n",
              "      <td>-1.094109e-06</td>\n",
              "      <td>-4.380810e-06</td>\n",
              "      <td>5.723609e-08</td>\n",
              "      <td>6.504444e-15</td>\n",
              "      <td>5.056218e-17</td>\n",
              "      <td>-2.240442e-17</td>\n",
              "      <td>7.228581e-17</td>\n",
              "      <td>1.509376e-17</td>\n",
              "      <td>-1.036537e-17</td>\n",
              "      <td>-4.453303e-17</td>\n",
              "      <td>3.869331e-18</td>\n",
              "      <td>7.514750e-17</td>\n",
              "    </tr>\n",
              "    <tr>\n",
              "      <th>7</th>\n",
              "      <td>-1.086118</td>\n",
              "      <td>1.097851</td>\n",
              "      <td>0.677604</td>\n",
              "      <td>-0.263568</td>\n",
              "      <td>0.544678</td>\n",
              "      <td>0.213681</td>\n",
              "      <td>0.123784</td>\n",
              "      <td>-0.364919</td>\n",
              "      <td>-0.132527</td>\n",
              "      <td>-0.193925</td>\n",
              "      <td>0.099783</td>\n",
              "      <td>-0.430426</td>\n",
              "      <td>0.105124</td>\n",
              "      <td>0.237928</td>\n",
              "      <td>0.107744</td>\n",
              "      <td>-0.074215</td>\n",
              "      <td>0.149988</td>\n",
              "      <td>0.155198</td>\n",
              "      <td>0.046534</td>\n",
              "      <td>0.112035</td>\n",
              "      <td>0.127288</td>\n",
              "      <td>0.033701</td>\n",
              "      <td>0.032766</td>\n",
              "      <td>-0.043731</td>\n",
              "      <td>0.029622</td>\n",
              "      <td>-0.032496</td>\n",
              "      <td>-0.008918</td>\n",
              "      <td>-0.003661</td>\n",
              "      <td>-0.000747</td>\n",
              "      <td>0.010236</td>\n",
              "      <td>0.004703</td>\n",
              "      <td>0.000762</td>\n",
              "      <td>0.005455</td>\n",
              "      <td>-0.000325</td>\n",
              "      <td>0.003091</td>\n",
              "      <td>0.000901</td>\n",
              "      <td>-0.004072</td>\n",
              "      <td>-0.001543</td>\n",
              "      <td>-0.001827</td>\n",
              "      <td>-0.012483</td>\n",
              "      <td>0.000981</td>\n",
              "      <td>-0.000007</td>\n",
              "      <td>-0.001481</td>\n",
              "      <td>0.000419</td>\n",
              "      <td>-0.000433</td>\n",
              "      <td>-0.000496</td>\n",
              "      <td>0.000197</td>\n",
              "      <td>-0.000143</td>\n",
              "      <td>-0.000049</td>\n",
              "      <td>-0.000248</td>\n",
              "      <td>-0.004741</td>\n",
              "      <td>-0.000797</td>\n",
              "      <td>0.000121</td>\n",
              "      <td>0.000114</td>\n",
              "      <td>-0.000294</td>\n",
              "      <td>0.000737</td>\n",
              "      <td>-0.000058</td>\n",
              "      <td>-0.000244</td>\n",
              "      <td>0.000093</td>\n",
              "      <td>-0.000036</td>\n",
              "      <td>0.000080</td>\n",
              "      <td>0.000116</td>\n",
              "      <td>-0.000040</td>\n",
              "      <td>-0.000002</td>\n",
              "      <td>9.108748e-06</td>\n",
              "      <td>-4.427061e-06</td>\n",
              "      <td>1.227877e-06</td>\n",
              "      <td>-2.764531e-06</td>\n",
              "      <td>-5.154350e-09</td>\n",
              "      <td>3.651776e-15</td>\n",
              "      <td>-1.176928e-16</td>\n",
              "      <td>9.631520e-17</td>\n",
              "      <td>-5.374426e-17</td>\n",
              "      <td>-9.270506e-17</td>\n",
              "      <td>4.432874e-17</td>\n",
              "      <td>-8.941912e-17</td>\n",
              "      <td>-4.208174e-17</td>\n",
              "      <td>1.611652e-16</td>\n",
              "    </tr>\n",
              "    <tr>\n",
              "      <th>8</th>\n",
              "      <td>-0.706228</td>\n",
              "      <td>0.551787</td>\n",
              "      <td>-0.573611</td>\n",
              "      <td>-0.000701</td>\n",
              "      <td>-0.455097</td>\n",
              "      <td>0.183618</td>\n",
              "      <td>-0.344518</td>\n",
              "      <td>0.015612</td>\n",
              "      <td>0.053065</td>\n",
              "      <td>-0.111768</td>\n",
              "      <td>0.094878</td>\n",
              "      <td>0.100832</td>\n",
              "      <td>0.013824</td>\n",
              "      <td>0.019627</td>\n",
              "      <td>-0.020470</td>\n",
              "      <td>-0.029276</td>\n",
              "      <td>-0.032115</td>\n",
              "      <td>0.040547</td>\n",
              "      <td>-0.023878</td>\n",
              "      <td>-0.024677</td>\n",
              "      <td>0.021891</td>\n",
              "      <td>-0.008143</td>\n",
              "      <td>-0.069512</td>\n",
              "      <td>0.018420</td>\n",
              "      <td>0.026582</td>\n",
              "      <td>-0.014380</td>\n",
              "      <td>-0.010583</td>\n",
              "      <td>0.004745</td>\n",
              "      <td>-0.006689</td>\n",
              "      <td>-0.000873</td>\n",
              "      <td>0.000508</td>\n",
              "      <td>0.011591</td>\n",
              "      <td>0.017653</td>\n",
              "      <td>-0.003032</td>\n",
              "      <td>-0.000094</td>\n",
              "      <td>-0.001799</td>\n",
              "      <td>0.004088</td>\n",
              "      <td>-0.000831</td>\n",
              "      <td>-0.000201</td>\n",
              "      <td>0.003115</td>\n",
              "      <td>0.000230</td>\n",
              "      <td>0.000348</td>\n",
              "      <td>0.001354</td>\n",
              "      <td>-0.001456</td>\n",
              "      <td>0.002869</td>\n",
              "      <td>0.000033</td>\n",
              "      <td>-0.001108</td>\n",
              "      <td>-0.000843</td>\n",
              "      <td>0.000148</td>\n",
              "      <td>0.000009</td>\n",
              "      <td>0.001630</td>\n",
              "      <td>0.000521</td>\n",
              "      <td>0.000083</td>\n",
              "      <td>0.000027</td>\n",
              "      <td>-0.000527</td>\n",
              "      <td>-0.001143</td>\n",
              "      <td>0.000015</td>\n",
              "      <td>-0.001544</td>\n",
              "      <td>-0.000103</td>\n",
              "      <td>-0.000023</td>\n",
              "      <td>0.000006</td>\n",
              "      <td>0.000078</td>\n",
              "      <td>0.000008</td>\n",
              "      <td>0.000010</td>\n",
              "      <td>-1.480808e-05</td>\n",
              "      <td>3.954640e-06</td>\n",
              "      <td>-1.030311e-06</td>\n",
              "      <td>1.508507e-06</td>\n",
              "      <td>-6.627337e-09</td>\n",
              "      <td>-2.803008e-15</td>\n",
              "      <td>-7.782320e-17</td>\n",
              "      <td>4.699257e-17</td>\n",
              "      <td>5.204161e-17</td>\n",
              "      <td>-8.337368e-17</td>\n",
              "      <td>-8.262404e-19</td>\n",
              "      <td>-4.260788e-17</td>\n",
              "      <td>-2.045641e-17</td>\n",
              "      <td>-1.128103e-16</td>\n",
              "    </tr>\n",
              "    <tr>\n",
              "      <th>9</th>\n",
              "      <td>0.164733</td>\n",
              "      <td>-0.285201</td>\n",
              "      <td>-0.600493</td>\n",
              "      <td>-0.789680</td>\n",
              "      <td>-0.477579</td>\n",
              "      <td>0.445212</td>\n",
              "      <td>0.289089</td>\n",
              "      <td>-0.115758</td>\n",
              "      <td>0.262846</td>\n",
              "      <td>0.498957</td>\n",
              "      <td>-0.034816</td>\n",
              "      <td>-0.154667</td>\n",
              "      <td>0.044556</td>\n",
              "      <td>0.075744</td>\n",
              "      <td>-0.040956</td>\n",
              "      <td>-0.086913</td>\n",
              "      <td>0.004060</td>\n",
              "      <td>-0.022052</td>\n",
              "      <td>-0.031734</td>\n",
              "      <td>-0.018252</td>\n",
              "      <td>0.030773</td>\n",
              "      <td>-0.068347</td>\n",
              "      <td>-0.034874</td>\n",
              "      <td>-0.025849</td>\n",
              "      <td>0.072895</td>\n",
              "      <td>-0.032605</td>\n",
              "      <td>-0.019593</td>\n",
              "      <td>-0.023409</td>\n",
              "      <td>-0.015352</td>\n",
              "      <td>-0.004923</td>\n",
              "      <td>0.001255</td>\n",
              "      <td>0.000367</td>\n",
              "      <td>-0.002437</td>\n",
              "      <td>-0.000875</td>\n",
              "      <td>-0.006627</td>\n",
              "      <td>0.003367</td>\n",
              "      <td>-0.003680</td>\n",
              "      <td>-0.001989</td>\n",
              "      <td>0.002366</td>\n",
              "      <td>0.000183</td>\n",
              "      <td>-0.003243</td>\n",
              "      <td>-0.001424</td>\n",
              "      <td>-0.002515</td>\n",
              "      <td>0.002913</td>\n",
              "      <td>-0.005951</td>\n",
              "      <td>-0.000303</td>\n",
              "      <td>0.001562</td>\n",
              "      <td>0.001534</td>\n",
              "      <td>-0.000969</td>\n",
              "      <td>0.000466</td>\n",
              "      <td>-0.000942</td>\n",
              "      <td>0.001277</td>\n",
              "      <td>0.000169</td>\n",
              "      <td>-0.000114</td>\n",
              "      <td>-0.000246</td>\n",
              "      <td>-0.000708</td>\n",
              "      <td>0.000059</td>\n",
              "      <td>-0.000653</td>\n",
              "      <td>-0.000007</td>\n",
              "      <td>-0.000187</td>\n",
              "      <td>0.000027</td>\n",
              "      <td>0.000120</td>\n",
              "      <td>0.000016</td>\n",
              "      <td>-0.000002</td>\n",
              "      <td>6.161955e-07</td>\n",
              "      <td>-3.332764e-06</td>\n",
              "      <td>6.178883e-07</td>\n",
              "      <td>1.544477e-06</td>\n",
              "      <td>-2.780651e-08</td>\n",
              "      <td>6.655686e-15</td>\n",
              "      <td>7.903426e-17</td>\n",
              "      <td>-5.665868e-17</td>\n",
              "      <td>5.905767e-17</td>\n",
              "      <td>1.440478e-16</td>\n",
              "      <td>7.964650e-18</td>\n",
              "      <td>9.236746e-17</td>\n",
              "      <td>2.086314e-17</td>\n",
              "      <td>5.533644e-17</td>\n",
              "    </tr>\n",
              "  </tbody>\n",
              "</table>\n",
              "</div>"
            ],
            "text/plain": [
              "         0         1         2   ...            75            76            77\n",
              "0 -0.488597  0.242597 -0.540661  ... -1.578207e-17 -1.511041e-17 -1.353358e-16\n",
              "1  0.263218 -0.044837 -0.166820  ...  6.335587e-17  1.550500e-17  4.173343e-17\n",
              "2 -0.938037  1.169584  0.154573  ...  4.434442e-17 -2.705708e-17 -2.683301e-16\n",
              "3  0.333071 -0.104661 -0.250695  ...  4.133301e-17  1.172384e-17  4.867232e-17\n",
              "4  0.385390 -0.100582 -0.272434  ...  2.844696e-18  4.042168e-18  7.643776e-17\n",
              "5 -0.950240  1.062221  0.254078  ...  2.273171e-17 -7.376614e-18 -5.454286e-17\n",
              "6  2.115870  0.470686  0.403000  ... -4.453303e-17  3.869331e-18  7.514750e-17\n",
              "7 -1.086118  1.097851  0.677604  ... -8.941912e-17 -4.208174e-17  1.611652e-16\n",
              "8 -0.706228  0.551787 -0.573611  ... -4.260788e-17 -2.045641e-17 -1.128103e-16\n",
              "9  0.164733 -0.285201 -0.600493  ...  9.236746e-17  2.086314e-17  5.533644e-17\n",
              "\n",
              "[10 rows x 78 columns]"
            ]
          },
          "metadata": {
            "tags": []
          },
          "execution_count": 37
        }
      ]
    },
    {
      "cell_type": "markdown",
      "metadata": {
        "id": "leIDYI_dXhwA"
      },
      "source": [
        "## Training and Making Predictions\n",
        "\n",
        "In this case we'll use random forest classification for making the predictions."
      ]
    },
    {
      "cell_type": "code",
      "metadata": {
        "id": "swXJ6_ydXhwA"
      },
      "source": [
        "pca = PCA(n_components=12)\n",
        "X_train_pca = pca.fit_transform(X_train)\n",
        "X_test_pca = pca.transform(X_test)"
      ],
      "execution_count": null,
      "outputs": []
    },
    {
      "cell_type": "code",
      "metadata": {
        "id": "c4Yt7PnkXhwA"
      },
      "source": [
        "classifier = RandomForestClassifier(max_depth=2, random_state=0)\n",
        "classifier.fit(X_train_pca, y_train)\n",
        "\n",
        "# Predicting the Test set results\n",
        "y_pred = classifier.predict(X_test_pca)"
      ],
      "execution_count": null,
      "outputs": []
    },
    {
      "cell_type": "code",
      "metadata": {
        "colab": {
          "base_uri": "https://localhost:8080/"
        },
        "id": "L7X48ybRXhwA",
        "outputId": "35049d68-effe-4247-9dc0-1007578f972e"
      },
      "source": [
        "print('Accuracy:%f' %accuracy_score(y_test, y_pred))\n",
        "print(\"Precision:%f\" %metrics.average_precision_score(y_test, y_pred, average='weighted'))\n",
        "print(\"Recall:%f\" %metrics.recall_score(y_test, y_pred, average='weighted'))\n",
        "print(\"F1-score:%f\" %metrics.f1_score(y_test, y_pred,average='weighted'))"
      ],
      "execution_count": null,
      "outputs": [
        {
          "output_type": "stream",
          "text": [
            "Accuracy:0.631446\n",
            "Precision:0.627443\n",
            "Recall:0.631446\n",
            "F1-score:0.623922\n"
          ],
          "name": "stdout"
        }
      ]
    },
    {
      "cell_type": "code",
      "metadata": {
        "id": "tfibn9gAXhwB",
        "scrolled": true,
        "outputId": "be99767f-51c7-4306-cdb3-c104d7f00ce7"
      },
      "source": [
        "#The confusion matrix takes a vector of labels (not the one-hot encoding). \n",
        "\n",
        "\n",
        "cm = metrics.confusion_matrix(y_test.argmax(axis=1), y_pred.argmax(axis=1))\n",
        "print(cm)"
      ],
      "execution_count": null,
      "outputs": [
        {
          "output_type": "stream",
          "text": [
            "[[138946      0      0      0      0      0      0      0      0      0\n",
            "     189      0      0      0      0]\n",
            " [   489      0      0      0      0      0      0      0      0      0\n",
            "       0      0      0      0      0]\n",
            " [ 31990      0      0      0      0      0      0      0      0      0\n",
            "      16      0      0      0      0]\n",
            " [  2573      0      0      0      0      0      0      0      0      0\n",
            "       0      0      0      0      0]\n",
            " [ 57531      0      0      0      0      0      0      0      0      0\n",
            "       0      0      0      0      0]\n",
            " [  1373      0      0      0      0      0      0      0      0      0\n",
            "       1      0      0      0      0]\n",
            " [  1444      0      0      0      0      0      0      0      0      0\n",
            "       5      0      0      0      0]\n",
            " [  1983      0      0      0      0      0      0      0      0      0\n",
            "       0      0      0      0      0]\n",
            " [     2      0      0      0      0      0      0      0      0      0\n",
            "       0      0      0      0      0]\n",
            " [     9      0      0      0      0      0      0      0      0      0\n",
            "       0      0      0      0      0]\n",
            " [  1667      0      0      0      0      0      0      0      0      0\n",
            "   38034      0      0      0      0]\n",
            " [  1474      0      0      0      0      0      0      0      0      0\n",
            "       0      0      0      0      0]\n",
            " [   376      0      0      0      0      0      0      0      0      0\n",
            "       0      0      0      0      0]\n",
            " [     5      0      0      0      0      0      0      0      0      0\n",
            "       0      0      0      0      0]\n",
            " [   162      0      0      0      0      0      0      0      0      0\n",
            "       1      0      0      0      0]]\n"
          ],
          "name": "stdout"
        }
      ]
    },
    {
      "cell_type": "markdown",
      "metadata": {
        "id": "VxRNywIXXhwC"
      },
      "source": [
        "Get the attacks' names"
      ]
    },
    {
      "cell_type": "code",
      "metadata": {
        "id": "q9AlIiTKXhwC"
      },
      "source": [
        "labels_d = make_value2index(df_test['Label'])"
      ],
      "execution_count": 74,
      "outputs": []
    },
    {
      "cell_type": "code",
      "metadata": {
        "colab": {
          "base_uri": "https://localhost:8080/"
        },
        "id": "l1vqAhE1XhwC",
        "outputId": "112094b3-09a9-4230-cdc3-29c3a4a48674"
      },
      "source": [
        "print(labels_d)"
      ],
      "execution_count": 75,
      "outputs": [
        {
          "output_type": "stream",
          "text": [
            "{'BENIGN': 139134, 'Bot': 139623, 'DDoS': 171629, 'DoS GoldenEye': 174202, 'DoS Hulk': 231733, 'DoS Slowhttptest': 233107, 'DoS slowloris': 234556, 'FTP-Patator': 236539, 'Heartbleed': 236542, 'Infiltration': 236551, 'PortScan': 276252, 'SSH-Patator': 277726, 'Web Attack � Brute Force': 278102, 'Web Attack � Sql Injection': 278107, 'Web Attack � XSS': 278270}\n"
          ],
          "name": "stdout"
        }
      ]
    },
    {
      "cell_type": "code",
      "metadata": {
        "colab": {
          "base_uri": "https://localhost:8080/"
        },
        "id": "KO4EmilxXhwD",
        "outputId": "db4a864f-ce2e-4828-e99c-1eed12db92e0"
      },
      "source": [
        "print(classification_report(y_test.argmax(axis=1), y_pred.argmax(axis=1), target_names=labels_d))"
      ],
      "execution_count": null,
      "outputs": [
        {
          "output_type": "stream",
          "text": [
            "/usr/local/lib/python3.6/dist-packages/sklearn/metrics/_classification.py:1272: UndefinedMetricWarning: Precision and F-score are ill-defined and being set to 0.0 in labels with no predicted samples. Use `zero_division` parameter to control this behavior.\n",
            "  _warn_prf(average, modifier, msg_start, len(result))\n"
          ],
          "name": "stderr"
        },
        {
          "output_type": "stream",
          "text": [
            "                            precision    recall  f1-score   support\n",
            "\n",
            "                    BENIGN       0.59      1.00      0.74    139135\n",
            "                       Bot       0.00      0.00      0.00       489\n",
            "                      DDoS       0.00      0.00      0.00     32006\n",
            "             DoS GoldenEye       0.00      0.00      0.00      2573\n",
            "                  DoS Hulk       1.00      0.08      0.15     57531\n",
            "          DoS Slowhttptest       0.00      0.00      0.00      1374\n",
            "             DoS slowloris       0.00      0.00      0.00      1449\n",
            "               FTP-Patator       0.00      0.00      0.00      1983\n",
            "                Heartbleed       0.00      0.00      0.00         3\n",
            "              Infiltration       0.00      0.00      0.00         9\n",
            "                  PortScan       1.00      0.92      0.96     39701\n",
            "               SSH-Patator       0.00      0.00      0.00      1474\n",
            "  Web Attack � Brute Force       0.00      0.00      0.00       376\n",
            "Web Attack � Sql Injection       0.00      0.00      0.00         5\n",
            "          Web Attack � XSS       0.00      0.00      0.00       163\n",
            "\n",
            "                  accuracy                           0.65    278271\n",
            "                 macro avg       0.17      0.13      0.12    278271\n",
            "              weighted avg       0.64      0.65      0.54    278271\n",
            "\n"
          ],
          "name": "stdout"
        }
      ]
    },
    {
      "cell_type": "markdown",
      "metadata": {
        "id": "IRtGAy_3gY2n"
      },
      "source": [
        "# Model : Naive Bayes model (GaussianNB)"
      ]
    },
    {
      "cell_type": "code",
      "metadata": {
        "id": "FxNz3yQch35o"
      },
      "source": [
        "from sklearn.naive_bayes import GaussianNB"
      ],
      "execution_count": null,
      "outputs": []
    },
    {
      "cell_type": "code",
      "metadata": {
        "colab": {
          "base_uri": "https://localhost:8080/"
        },
        "id": "Izw8QWLIgcTx",
        "outputId": "7bb23d80-4b57-4b21-b8d4-0131af8a7b90"
      },
      "source": [
        "model_gaussian = GaussianNB()\r\n",
        "model_gaussian.fit(X_train, y_train_ada)"
      ],
      "execution_count": null,
      "outputs": [
        {
          "output_type": "execute_result",
          "data": {
            "text/plain": [
              "GaussianNB(priors=None, var_smoothing=1e-09)"
            ]
          },
          "metadata": {
            "tags": []
          },
          "execution_count": 45
        }
      ]
    },
    {
      "cell_type": "code",
      "metadata": {
        "id": "c15lYNIdgs9V"
      },
      "source": [
        "# make predictions\r\n",
        "y_pred = model_gaussian.predict(X_test)"
      ],
      "execution_count": null,
      "outputs": []
    },
    {
      "cell_type": "code",
      "metadata": {
        "colab": {
          "base_uri": "https://localhost:8080/"
        },
        "id": "AQ6JwTSDg6iE",
        "outputId": "f9a72154-00bc-4cbb-a285-503d352f34d8"
      },
      "source": [
        "display_metrics(y_test_ada, y_pred, labels_d)"
      ],
      "execution_count": null,
      "outputs": [
        {
          "output_type": "stream",
          "text": [
            "\n",
            "Accuracy: 0.50\n",
            "\n",
            "Micro Precision: 0.50\n",
            "Micro Recall: 0.50\n",
            "Micro F1-score: 0.50\n",
            "\n",
            "Macro Precision: 0.03\n",
            "Macro Recall: 0.07\n"
          ],
          "name": "stdout"
        },
        {
          "output_type": "stream",
          "text": [
            "/usr/local/lib/python3.6/dist-packages/sklearn/metrics/_classification.py:1272: UndefinedMetricWarning: Precision is ill-defined and being set to 0.0 in labels with no predicted samples. Use `zero_division` parameter to control this behavior.\n",
            "  _warn_prf(average, modifier, msg_start, len(result))\n"
          ],
          "name": "stderr"
        },
        {
          "output_type": "stream",
          "text": [
            "Macro F1-score: 0.04\n",
            "\n",
            "Weighted Precision: 0.25\n",
            "Weighted Recall: 0.50\n",
            "Weighted F1-score: 0.33\n",
            "\n",
            "Classification Report\n",
            "\n"
          ],
          "name": "stdout"
        },
        {
          "output_type": "stream",
          "text": [
            "/usr/local/lib/python3.6/dist-packages/sklearn/metrics/_classification.py:1272: UndefinedMetricWarning: Precision and F-score are ill-defined and being set to 0.0 in labels with no predicted samples. Use `zero_division` parameter to control this behavior.\n",
            "  _warn_prf(average, modifier, msg_start, len(result))\n"
          ],
          "name": "stderr"
        },
        {
          "output_type": "stream",
          "text": [
            "                            precision    recall  f1-score   support\n",
            "\n",
            "                    BENIGN       0.50      1.00      0.67    139135\n",
            "                       Bot       0.00      0.00      0.00       489\n",
            "                      DDoS       0.00      0.00      0.00     32006\n",
            "             DoS GoldenEye       0.00      0.00      0.00      2573\n",
            "                  DoS Hulk       0.00      0.00      0.00     57531\n",
            "          DoS Slowhttptest       0.00      0.00      0.00      1374\n",
            "             DoS slowloris       0.00      0.00      0.00      1449\n",
            "               FTP-Patator       0.00      0.00      0.00      1983\n",
            "                Heartbleed       0.00      0.00      0.00         3\n",
            "              Infiltration       0.00      0.00      0.00         9\n",
            "                  PortScan       0.00      0.00      0.00     39701\n",
            "               SSH-Patator       0.00      0.00      0.00      1474\n",
            "  Web Attack � Brute Force       0.00      0.00      0.00       376\n",
            "Web Attack � Sql Injection       0.00      0.00      0.00         5\n",
            "          Web Attack � XSS       0.00      0.00      0.00       163\n",
            "\n",
            "                  accuracy                           0.50    278271\n",
            "                 macro avg       0.03      0.07      0.04    278271\n",
            "              weighted avg       0.25      0.50      0.33    278271\n",
            "\n"
          ],
          "name": "stdout"
        }
      ]
    },
    {
      "cell_type": "markdown",
      "metadata": {
        "id": "pXea3TMVXhwD"
      },
      "source": [
        "# Model 3: Decision Tree Classifier"
      ]
    },
    {
      "cell_type": "code",
      "metadata": {
        "id": "DOUaeJwiXhwD"
      },
      "source": [
        "from sklearn.tree import DecisionTreeClassifier"
      ],
      "execution_count": 25,
      "outputs": []
    },
    {
      "cell_type": "code",
      "metadata": {
        "id": "ZRMY85VyXhwE"
      },
      "source": [
        "model_dec = DecisionTreeClassifier()\n",
        "model_dec.fit(X_train, y_train_ada)\n",
        "y_pred = model_dec.predict(X_test)"
      ],
      "execution_count": null,
      "outputs": []
    },
    {
      "cell_type": "code",
      "metadata": {
        "colab": {
          "base_uri": "https://localhost:8080/"
        },
        "id": "lFQ6iCJjXhwE",
        "outputId": "42069f40-8f26-455c-ffe2-7f3ef297a390"
      },
      "source": [
        "print('\\nAccuracy: {:.2f}\\n'.format(accuracy_score(y_test_ada, y_pred)))\n",
        "\n",
        "print('Micro Precision: {:.2f}'.format(precision_score(y_test_ada, y_pred, average='micro')))\n",
        "print('Micro Recall: {:.2f}'.format(recall_score(y_test_ada, y_pred, average='micro')))\n",
        "print('Micro F1-score: {:.2f}\\n'.format(f1_score(y_test_ada, y_pred, average='micro')))\n",
        "\n",
        "print('Macro Precision: {:.2f}'.format(precision_score(y_test_ada, y_pred, average='macro')))\n",
        "print('Macro Recall: {:.2f}'.format(recall_score(y_test_ada, y_pred, average='macro')))\n",
        "print('Macro F1-score: {:.2f}\\n'.format(f1_score(y_test_ada, y_pred, average='macro')))\n",
        "\n",
        "print('Weighted Precision: {:.2f}'.format(precision_score(y_test_ada, y_pred, average='weighted')))\n",
        "print('Weighted Recall: {:.2f}'.format(recall_score(y_test_ada, y_pred, average='weighted')))\n",
        "print('Weighted F1-score: {:.2f}'.format(f1_score(y_test_ada, y_pred, average='weighted')))\n",
        " \n",
        "print('\\nClassification Report\\n')\n",
        "\n",
        "print(classification_report(y_test_ada , y_pred, target_names=labels_d))"
      ],
      "execution_count": null,
      "outputs": [
        {
          "output_type": "stream",
          "text": [
            "\n",
            "Accuracy: 0.96\n",
            "\n",
            "Micro Precision: 0.96\n",
            "Micro Recall: 0.96\n",
            "Micro F1-score: 0.96\n",
            "\n",
            "Macro Precision: 0.50\n",
            "Macro Recall: 0.61\n",
            "Macro F1-score: 0.53\n",
            "\n",
            "Weighted Precision: 0.96\n",
            "Weighted Recall: 0.96\n",
            "Weighted F1-score: 0.96\n",
            "\n",
            "Classification Report\n",
            "\n",
            "                            precision    recall  f1-score   support\n",
            "\n",
            "                    BENIGN       0.97      0.99      0.98    139135\n",
            "                       Bot       0.00      0.00      0.00       489\n",
            "                      DDoS       0.99      0.99      0.99     32006\n",
            "             DoS GoldenEye       0.50      0.87      0.63      2573\n",
            "                  DoS Hulk       0.99      0.93      0.96     57531\n",
            "          DoS Slowhttptest       0.11      0.05      0.06      1374\n",
            "             DoS slowloris       0.38      0.38      0.38      1449\n",
            "               FTP-Patator       0.00      0.00      0.00      1983\n",
            "                Heartbleed       1.00      1.00      1.00         3\n",
            "              Infiltration       0.07      0.33      0.12         9\n",
            "                  PortScan       1.00      0.99      0.99     39701\n",
            "               SSH-Patator       0.44      1.00      0.61      1474\n",
            "  Web Attack � Brute Force       0.57      0.97      0.72       376\n",
            "Web Attack � Sql Injection       0.43      0.60      0.50         5\n",
            "          Web Attack � XSS       0.03      0.02      0.02       163\n",
            "\n",
            "                  accuracy                           0.96    278271\n",
            "                 macro avg       0.50      0.61      0.53    278271\n",
            "              weighted avg       0.96      0.96      0.96    278271\n",
            "\n"
          ],
          "name": "stdout"
        }
      ]
    },
    {
      "cell_type": "markdown",
      "metadata": {
        "id": "ABYQjuBCXhwE"
      },
      "source": [
        "# Model 4: Random Foresty with DecisionTree"
      ]
    },
    {
      "cell_type": "code",
      "metadata": {
        "id": "kI6QGw9LXhwF"
      },
      "source": [
        "clf = RandomForestClassifier(n_estimators=10, random_state=10)\n",
        "clf.fit(X_train,y_train)\n",
        "    \n",
        "y_pred = clf.predict(X_test)"
      ],
      "execution_count": null,
      "outputs": []
    },
    {
      "cell_type": "code",
      "metadata": {
        "colab": {
          "base_uri": "https://localhost:8080/"
        },
        "id": "pFh6H0d3lNmz",
        "outputId": "0a27f10c-3d38-4e99-8c2e-570f577daaf2"
      },
      "source": [
        "print('\\nAccuracy: {:.2f}\\n'.format(accuracy_score(y_test_ada, np.argmax(y_pred, axis = 1))))\r\n",
        "\r\n",
        "print('Micro Precision: {:.2f}'.format(precision_score(y_test_ada, np.argmax(y_pred, axis = 1), average='micro')))\r\n",
        "print('Micro Recall: {:.2f}'.format(recall_score(y_test_ada, np.argmax(y_pred, axis = 1), average='micro')))\r\n",
        "print('Micro F1-score: {:.2f}\\n'.format(f1_score(y_test_ada, np.argmax(y_pred, axis = 1), average='micro')))\r\n",
        "\r\n",
        "print('Macro Precision: {:.2f}'.format(precision_score(y_test_ada, np.argmax(y_pred, axis = 1), average='macro')))\r\n",
        "print('Macro Recall: {:.2f}'.format(recall_score(y_test_ada, np.argmax(y_pred, axis = 1), average='macro')))\r\n",
        "print('Macro F1-score: {:.2f}\\n'.format(f1_score(y_test_ada, np.argmax(y_pred, axis = 1), average='macro')))\r\n",
        "\r\n",
        "print('Weighted Precision: {:.2f}'.format(precision_score(y_test_ada, np.argmax(y_pred, axis = 1), average='weighted')))\r\n",
        "print('Weighted Recall: {:.2f}'.format(recall_score(y_test_ada, np.argmax(y_pred, axis = 1), average='weighted')))\r\n",
        "print('Weighted F1-score: {:.2f}'.format(f1_score(y_test_ada, np.argmax(y_pred, axis = 1), average='weighted')))\r\n",
        " \r\n",
        "print('\\nClassification Report\\n')\r\n",
        "\r\n",
        "print(classification_report(y_test_ada ,np.argmax(y_pred, axis = 1), target_names=labels_d))"
      ],
      "execution_count": null,
      "outputs": [
        {
          "output_type": "stream",
          "text": [
            "\n",
            "Accuracy: 0.90\n",
            "\n",
            "Micro Precision: 0.90\n",
            "Micro Recall: 0.90\n",
            "Micro F1-score: 0.90\n",
            "\n"
          ],
          "name": "stdout"
        },
        {
          "output_type": "stream",
          "text": [
            "/usr/local/lib/python3.6/dist-packages/sklearn/metrics/_classification.py:1272: UndefinedMetricWarning: Precision is ill-defined and being set to 0.0 in labels with no predicted samples. Use `zero_division` parameter to control this behavior.\n",
            "  _warn_prf(average, modifier, msg_start, len(result))\n"
          ],
          "name": "stderr"
        },
        {
          "output_type": "stream",
          "text": [
            "Macro Precision: 0.73\n",
            "Macro Recall: 0.59\n",
            "Macro F1-score: 0.61\n",
            "\n",
            "Weighted Precision: 0.92\n",
            "Weighted Recall: 0.90\n",
            "Weighted F1-score: 0.89\n",
            "\n",
            "Classification Report\n",
            "\n"
          ],
          "name": "stdout"
        },
        {
          "output_type": "stream",
          "text": [
            "/usr/local/lib/python3.6/dist-packages/sklearn/metrics/_classification.py:1272: UndefinedMetricWarning: Precision and F-score are ill-defined and being set to 0.0 in labels with no predicted samples. Use `zero_division` parameter to control this behavior.\n",
            "  _warn_prf(average, modifier, msg_start, len(result))\n"
          ],
          "name": "stderr"
        },
        {
          "output_type": "stream",
          "text": [
            "                            precision    recall  f1-score   support\n",
            "\n",
            "                    BENIGN       0.84      1.00      0.91    139135\n",
            "                       Bot       0.00      0.00      0.00       489\n",
            "                      DDoS       1.00      0.99      0.99     32006\n",
            "             DoS GoldenEye       0.96      0.85      0.90      2573\n",
            "                  DoS Hulk       1.00      0.91      0.96     57531\n",
            "          DoS Slowhttptest       0.68      0.79      0.73      1374\n",
            "             DoS slowloris       0.99      0.29      0.45      1449\n",
            "               FTP-Patator       1.00      0.50      0.67      1983\n",
            "                Heartbleed       1.00      1.00      1.00         3\n",
            "              Infiltration       0.00      0.00      0.00         9\n",
            "                  PortScan       1.00      0.53      0.69     39701\n",
            "               SSH-Patator       1.00      0.98      0.99      1474\n",
            "  Web Attack � Brute Force       0.71      0.93      0.80       376\n",
            "Web Attack � Sql Injection       0.00      0.00      0.00         5\n",
            "          Web Attack � XSS       0.83      0.03      0.06       163\n",
            "\n",
            "                  accuracy                           0.90    278271\n",
            "                 macro avg       0.73      0.59      0.61    278271\n",
            "              weighted avg       0.92      0.90      0.89    278271\n",
            "\n"
          ],
          "name": "stdout"
        }
      ]
    },
    {
      "cell_type": "markdown",
      "metadata": {
        "id": "1xi2INVUk9p9"
      },
      "source": [
        "# Model 5: Logistic Regression Classifier"
      ]
    },
    {
      "cell_type": "code",
      "metadata": {
        "id": "6_AoQZpOnxuD"
      },
      "source": [
        "from sklearn import linear_model"
      ],
      "execution_count": null,
      "outputs": []
    },
    {
      "cell_type": "code",
      "metadata": {
        "id": "oBqJDnChnmxJ"
      },
      "source": [
        "attack_classifier = linear_model.LogisticRegression(solver='lbfgs',class_weight='balanced', max_iter=10000)\r\n",
        "attack_classifier.fit(X_train, y_train_ada)\r\n",
        "\r\n",
        "y_pred = attack_classifier.predict(X_test)"
      ],
      "execution_count": null,
      "outputs": []
    },
    {
      "cell_type": "code",
      "metadata": {
        "colab": {
          "base_uri": "https://localhost:8080/"
        },
        "id": "k3x76HdDorw7",
        "outputId": "4063a2b0-ff60-4976-c6fd-08894d952256"
      },
      "source": [
        "print('\\nAccuracy: {:.2f}\\n'.format(accuracy_score(y_test_ada, y_pred)))\r\n",
        "\r\n",
        "print('Micro Precision: {:.2f}'.format(precision_score(y_test_ada, y_pred, average='micro')))\r\n",
        "print('Micro Recall: {:.2f}'.format(recall_score(y_test_ada, y_pred, average='micro')))\r\n",
        "print('Micro F1-score: {:.2f}\\n'.format(f1_score(y_test_ada, y_pred, average='micro')))\r\n",
        "\r\n",
        "print('Macro Precision: {:.2f}'.format(precision_score(y_test_ada, y_pred, average='macro')))\r\n",
        "print('Macro Recall: {:.2f}'.format(recall_score(y_test_ada, y_pred, average='macro')))\r\n",
        "print('Macro F1-score: {:.2f}\\n'.format(f1_score(y_test_ada, y_pred, average='macro')))\r\n",
        "\r\n",
        "print('Weighted Precision: {:.2f}'.format(precision_score(y_test_ada, y_pred, average='weighted')))\r\n",
        "print('Weighted Recall: {:.2f}'.format(recall_score(y_test_ada, y_pred, average='weighted')))\r\n",
        "print('Weighted F1-score: {:.2f}'.format(f1_score(y_test_ada, y_pred, average='weighted')))\r\n",
        " \r\n",
        "print('\\nClassification Report\\n')\r\n",
        "\r\n",
        "print(classification_report(y_test_ada , y_pred, target_names=labels_d))"
      ],
      "execution_count": null,
      "outputs": [
        {
          "output_type": "stream",
          "text": [
            "\n",
            "Accuracy: 0.84\n",
            "\n",
            "Micro Precision: 0.84\n",
            "Micro Recall: 0.84\n",
            "Micro F1-score: 0.84\n",
            "\n",
            "Macro Precision: 0.51\n",
            "Macro Recall: 0.60\n",
            "Macro F1-score: 0.50\n",
            "\n",
            "Weighted Precision: 0.92\n",
            "Weighted Recall: 0.84\n",
            "Weighted F1-score: 0.85\n",
            "\n",
            "Classification Report\n",
            "\n",
            "                            precision    recall  f1-score   support\n",
            "\n",
            "                    BENIGN       0.97      0.91      0.94    139135\n",
            "                       Bot       0.05      1.00      0.10       489\n",
            "                      DDoS       0.53      1.00      0.69     32006\n",
            "             DoS GoldenEye       0.99      0.81      0.90      2573\n",
            "                  DoS Hulk       0.99      0.48      0.65     57531\n",
            "          DoS Slowhttptest       0.72      0.75      0.73      1374\n",
            "             DoS slowloris       0.91      0.33      0.48      1449\n",
            "               FTP-Patator       0.62      0.94      0.74      1983\n",
            "                Heartbleed       0.50      1.00      0.67         3\n",
            "              Infiltration       0.00      0.00      0.00         9\n",
            "                  PortScan       1.00      0.99      0.99     39701\n",
            "               SSH-Patator       0.00      0.00      0.00      1474\n",
            "  Web Attack � Brute Force       0.40      0.81      0.54       376\n",
            "Web Attack � Sql Injection       0.00      0.00      0.00         5\n",
            "          Web Attack � XSS       0.00      0.00      0.00       163\n",
            "\n",
            "                  accuracy                           0.84    278271\n",
            "                 macro avg       0.51      0.60      0.50    278271\n",
            "              weighted avg       0.92      0.84      0.85    278271\n",
            "\n"
          ],
          "name": "stdout"
        }
      ]
    },
    {
      "cell_type": "markdown",
      "metadata": {
        "id": "MfXJKq1zXhwF"
      },
      "source": [
        "# Model 6: AdaBoostClassifier"
      ]
    },
    {
      "cell_type": "code",
      "metadata": {
        "id": "SqqrLskIXhwF"
      },
      "source": [
        "from sklearn.ensemble import AdaBoostClassifier"
      ],
      "execution_count": 22,
      "outputs": []
    },
    {
      "cell_type": "code",
      "metadata": {
        "id": "xT8egNOEXhwG"
      },
      "source": [
        "model_ada = AdaBoostClassifier(n_estimators=100)\n",
        "model_ada.fit(X_train, y_train_ada)\n",
        "\n",
        "# make predictions\n",
        "expected = y_test_ada\n",
        "predicted = model_ada.predict(X_test)"
      ],
      "execution_count": 23,
      "outputs": []
    },
    {
      "cell_type": "code",
      "metadata": {
        "colab": {
          "base_uri": "https://localhost:8080/"
        },
        "id": "pJCcrCS4XhwG",
        "outputId": "382e7fda-51b8-44ce-ea55-ab4550a9ba15"
      },
      "source": [
        "y_pred = predicted\n",
        "\n",
        "print('\\nAccuracy: {:.2f}\\n'.format(accuracy_score(y_test_ada, y_pred)))\n",
        "\n",
        "print('Micro Precision: {:.2f}'.format(precision_score(y_test_ada, y_pred, average='micro')))\n",
        "print('Micro Recall: {:.2f}'.format(recall_score(y_test_ada, y_pred, average='micro')))\n",
        "print('Micro F1-score: {:.2f}\\n'.format(f1_score(y_test_ada, y_pred, average='micro')))\n",
        "\n",
        "print('Macro Precision: {:.2f}'.format(precision_score(y_test_ada, y_pred, average='macro')))\n",
        "print('Macro Recall: {:.2f}'.format(recall_score(y_test_ada, y_pred, average='macro')))\n",
        "print('Macro F1-score: {:.2f}\\n'.format(f1_score(y_test_ada, y_pred, average='macro')))\n",
        "\n",
        "print('Weighted Precision: {:.2f}'.format(precision_score(y_test_ada, y_pred, average='weighted')))\n",
        "print('Weighted Recall: {:.2f}'.format(recall_score(y_test_ada, y_pred, average='weighted')))\n",
        "print('Weighted F1-score: {:.2f}'.format(f1_score(y_test_ada, y_pred, average='weighted')))\n",
        " \n",
        "print('\\nClassification Report\\n')"
      ],
      "execution_count": 33,
      "outputs": [
        {
          "output_type": "stream",
          "text": [
            "\n",
            "Accuracy: 0.69\n",
            "\n",
            "Micro Precision: 0.69\n",
            "Micro Recall: 0.69\n",
            "Micro F1-score: 0.69\n",
            "\n",
            "Macro Precision: 0.14\n"
          ],
          "name": "stdout"
        },
        {
          "output_type": "stream",
          "text": [
            "/usr/local/lib/python3.6/dist-packages/sklearn/metrics/_classification.py:1272: UndefinedMetricWarning: Precision is ill-defined and being set to 0.0 in labels with no predicted samples. Use `zero_division` parameter to control this behavior.\n",
            "  _warn_prf(average, modifier, msg_start, len(result))\n"
          ],
          "name": "stderr"
        },
        {
          "output_type": "stream",
          "text": [
            "Macro Recall: 0.19\n",
            "Macro F1-score: 0.16\n",
            "\n",
            "Weighted Precision: 0.54\n",
            "Weighted Recall: 0.69\n",
            "Weighted F1-score: 0.59\n",
            "\n",
            "Classification Report\n",
            "\n"
          ],
          "name": "stdout"
        }
      ]
    },
    {
      "cell_type": "code",
      "metadata": {
        "colab": {
          "base_uri": "https://localhost:8080/"
        },
        "id": "z_lvcZVXXhwG",
        "scrolled": true,
        "outputId": "efd21686-c03b-460a-d135-6ac039daeabf"
      },
      "source": [
        "print(classification_report(y_test_ada, predicted, target_names=labels_d))"
      ],
      "execution_count": 32,
      "outputs": [
        {
          "output_type": "stream",
          "text": [
            "/usr/local/lib/python3.6/dist-packages/sklearn/metrics/_classification.py:1272: UndefinedMetricWarning: Precision and F-score are ill-defined and being set to 0.0 in labels with no predicted samples. Use `zero_division` parameter to control this behavior.\n",
            "  _warn_prf(average, modifier, msg_start, len(result))\n"
          ],
          "name": "stderr"
        },
        {
          "output_type": "stream",
          "text": [
            "                            precision    recall  f1-score   support\n",
            "\n",
            "                    BENIGN       0.90      1.00      0.95    139135\n",
            "                       Bot       0.00      0.00      0.00       489\n",
            "                      DDoS       0.00      0.00      0.00     32006\n",
            "             DoS GoldenEye       0.00      0.00      0.00      2573\n",
            "                  DoS Hulk       0.42      0.90      0.57     57531\n",
            "          DoS Slowhttptest       0.00      0.00      0.00      1374\n",
            "             DoS slowloris       0.00      0.00      0.00      1449\n",
            "               FTP-Patator       0.00      0.00      0.00      1983\n",
            "                Heartbleed       0.75      1.00      0.86         3\n",
            "              Infiltration       0.00      0.00      0.00         9\n",
            "                  PortScan       0.00      0.00      0.00     39701\n",
            "               SSH-Patator       0.00      0.00      0.00      1474\n",
            "  Web Attack � Brute Force       0.00      0.00      0.00       376\n",
            "Web Attack � Sql Injection       0.00      0.00      0.00         5\n",
            "          Web Attack � XSS       0.00      0.00      0.00       163\n",
            "\n",
            "                  accuracy                           0.69    278271\n",
            "                 macro avg       0.14      0.19      0.16    278271\n",
            "              weighted avg       0.54      0.69      0.59    278271\n",
            "\n"
          ],
          "name": "stdout"
        }
      ]
    },
    {
      "cell_type": "markdown",
      "metadata": {
        "id": "xn7bQX_Gvusc"
      },
      "source": [
        "# Model 6: XGBClassifier (very slow)"
      ]
    },
    {
      "cell_type": "code",
      "metadata": {
        "id": "1ttK187BvuLn"
      },
      "source": [
        "from xgboost import XGBClassifier"
      ],
      "execution_count": null,
      "outputs": []
    },
    {
      "cell_type": "code",
      "metadata": {
        "colab": {
          "base_uri": "https://localhost:8080/",
          "height": 354
        },
        "id": "53QHIzuAv5z9",
        "outputId": "0e392ce3-2300-4f4f-a1e0-44bdc7723ac0"
      },
      "source": [
        "xgboostc = XGBClassifier(learning_rate = 0.1, max_depth = 5,n_estimators = 1165, subsample=0.8,colsample_bytree=0.8,seed=27)\r\n",
        "xgboostc.fit(X_train,y_train)\r\n",
        "    \r\n",
        "y_pred = xgboostc.predict(X_test)"
      ],
      "execution_count": null,
      "outputs": [
        {
          "output_type": "error",
          "ename": "KeyboardInterrupt",
          "evalue": "ignored",
          "traceback": [
            "\u001b[0;31m---------------------------------------------------------------------------\u001b[0m",
            "\u001b[0;31mKeyboardInterrupt\u001b[0m                         Traceback (most recent call last)",
            "\u001b[0;32m<ipython-input-79-07eedb02b743>\u001b[0m in \u001b[0;36m<module>\u001b[0;34m()\u001b[0m\n\u001b[1;32m      1\u001b[0m \u001b[0mxgboostc\u001b[0m \u001b[0;34m=\u001b[0m \u001b[0mXGBClassifier\u001b[0m\u001b[0;34m(\u001b[0m\u001b[0mlearning_rate\u001b[0m \u001b[0;34m=\u001b[0m \u001b[0;36m0.1\u001b[0m\u001b[0;34m,\u001b[0m \u001b[0mmax_depth\u001b[0m \u001b[0;34m=\u001b[0m \u001b[0;36m5\u001b[0m\u001b[0;34m,\u001b[0m\u001b[0mn_estimators\u001b[0m \u001b[0;34m=\u001b[0m \u001b[0;36m1165\u001b[0m\u001b[0;34m,\u001b[0m \u001b[0msubsample\u001b[0m\u001b[0;34m=\u001b[0m\u001b[0;36m0.8\u001b[0m\u001b[0;34m,\u001b[0m\u001b[0mcolsample_bytree\u001b[0m\u001b[0;34m=\u001b[0m\u001b[0;36m0.8\u001b[0m\u001b[0;34m,\u001b[0m\u001b[0mseed\u001b[0m\u001b[0;34m=\u001b[0m\u001b[0;36m27\u001b[0m\u001b[0;34m)\u001b[0m\u001b[0;34m\u001b[0m\u001b[0;34m\u001b[0m\u001b[0m\n\u001b[0;32m----> 2\u001b[0;31m \u001b[0mxgboostc\u001b[0m\u001b[0;34m.\u001b[0m\u001b[0mfit\u001b[0m\u001b[0;34m(\u001b[0m\u001b[0mX_train\u001b[0m\u001b[0;34m,\u001b[0m\u001b[0my_train\u001b[0m\u001b[0;34m)\u001b[0m\u001b[0;34m\u001b[0m\u001b[0;34m\u001b[0m\u001b[0m\n\u001b[0m\u001b[1;32m      3\u001b[0m \u001b[0;34m\u001b[0m\u001b[0m\n\u001b[1;32m      4\u001b[0m \u001b[0my_pred\u001b[0m \u001b[0;34m=\u001b[0m \u001b[0mxgboostc\u001b[0m\u001b[0;34m.\u001b[0m\u001b[0mpredict\u001b[0m\u001b[0;34m(\u001b[0m\u001b[0mX_test\u001b[0m\u001b[0;34m)\u001b[0m\u001b[0;34m\u001b[0m\u001b[0;34m\u001b[0m\u001b[0m\n",
            "\u001b[0;32m/usr/local/lib/python3.6/dist-packages/xgboost/sklearn.py\u001b[0m in \u001b[0;36mfit\u001b[0;34m(self, X, y, sample_weight, eval_set, eval_metric, early_stopping_rounds, verbose, xgb_model, sample_weight_eval_set, callbacks)\u001b[0m\n\u001b[1;32m    730\u001b[0m                               \u001b[0mevals_result\u001b[0m\u001b[0;34m=\u001b[0m\u001b[0mevals_result\u001b[0m\u001b[0;34m,\u001b[0m \u001b[0mobj\u001b[0m\u001b[0;34m=\u001b[0m\u001b[0mobj\u001b[0m\u001b[0;34m,\u001b[0m \u001b[0mfeval\u001b[0m\u001b[0;34m=\u001b[0m\u001b[0mfeval\u001b[0m\u001b[0;34m,\u001b[0m\u001b[0;34m\u001b[0m\u001b[0;34m\u001b[0m\u001b[0m\n\u001b[1;32m    731\u001b[0m                               \u001b[0mverbose_eval\u001b[0m\u001b[0;34m=\u001b[0m\u001b[0mverbose\u001b[0m\u001b[0;34m,\u001b[0m \u001b[0mxgb_model\u001b[0m\u001b[0;34m=\u001b[0m\u001b[0mxgb_model\u001b[0m\u001b[0;34m,\u001b[0m\u001b[0;34m\u001b[0m\u001b[0;34m\u001b[0m\u001b[0m\n\u001b[0;32m--> 732\u001b[0;31m                               callbacks=callbacks)\n\u001b[0m\u001b[1;32m    733\u001b[0m \u001b[0;34m\u001b[0m\u001b[0m\n\u001b[1;32m    734\u001b[0m         \u001b[0mself\u001b[0m\u001b[0;34m.\u001b[0m\u001b[0mobjective\u001b[0m \u001b[0;34m=\u001b[0m \u001b[0mxgb_options\u001b[0m\u001b[0;34m[\u001b[0m\u001b[0;34m\"objective\"\u001b[0m\u001b[0;34m]\u001b[0m\u001b[0;34m\u001b[0m\u001b[0;34m\u001b[0m\u001b[0m\n",
            "\u001b[0;32m/usr/local/lib/python3.6/dist-packages/xgboost/training.py\u001b[0m in \u001b[0;36mtrain\u001b[0;34m(params, dtrain, num_boost_round, evals, obj, feval, maximize, early_stopping_rounds, evals_result, verbose_eval, xgb_model, callbacks, learning_rates)\u001b[0m\n\u001b[1;32m    214\u001b[0m                            \u001b[0mevals\u001b[0m\u001b[0;34m=\u001b[0m\u001b[0mevals\u001b[0m\u001b[0;34m,\u001b[0m\u001b[0;34m\u001b[0m\u001b[0;34m\u001b[0m\u001b[0m\n\u001b[1;32m    215\u001b[0m                            \u001b[0mobj\u001b[0m\u001b[0;34m=\u001b[0m\u001b[0mobj\u001b[0m\u001b[0;34m,\u001b[0m \u001b[0mfeval\u001b[0m\u001b[0;34m=\u001b[0m\u001b[0mfeval\u001b[0m\u001b[0;34m,\u001b[0m\u001b[0;34m\u001b[0m\u001b[0;34m\u001b[0m\u001b[0m\n\u001b[0;32m--> 216\u001b[0;31m                            xgb_model=xgb_model, callbacks=callbacks)\n\u001b[0m\u001b[1;32m    217\u001b[0m \u001b[0;34m\u001b[0m\u001b[0m\n\u001b[1;32m    218\u001b[0m \u001b[0;34m\u001b[0m\u001b[0m\n",
            "\u001b[0;32m/usr/local/lib/python3.6/dist-packages/xgboost/training.py\u001b[0m in \u001b[0;36m_train_internal\u001b[0;34m(params, dtrain, num_boost_round, evals, obj, feval, xgb_model, callbacks)\u001b[0m\n\u001b[1;32m     72\u001b[0m         \u001b[0;31m# Skip the first update if it is a recovery step.\u001b[0m\u001b[0;34m\u001b[0m\u001b[0;34m\u001b[0m\u001b[0;34m\u001b[0m\u001b[0m\n\u001b[1;32m     73\u001b[0m         \u001b[0;32mif\u001b[0m \u001b[0mversion\u001b[0m \u001b[0;34m%\u001b[0m \u001b[0;36m2\u001b[0m \u001b[0;34m==\u001b[0m \u001b[0;36m0\u001b[0m\u001b[0;34m:\u001b[0m\u001b[0;34m\u001b[0m\u001b[0;34m\u001b[0m\u001b[0m\n\u001b[0;32m---> 74\u001b[0;31m             \u001b[0mbst\u001b[0m\u001b[0;34m.\u001b[0m\u001b[0mupdate\u001b[0m\u001b[0;34m(\u001b[0m\u001b[0mdtrain\u001b[0m\u001b[0;34m,\u001b[0m \u001b[0mi\u001b[0m\u001b[0;34m,\u001b[0m \u001b[0mobj\u001b[0m\u001b[0;34m)\u001b[0m\u001b[0;34m\u001b[0m\u001b[0;34m\u001b[0m\u001b[0m\n\u001b[0m\u001b[1;32m     75\u001b[0m             \u001b[0mbst\u001b[0m\u001b[0;34m.\u001b[0m\u001b[0msave_rabit_checkpoint\u001b[0m\u001b[0;34m(\u001b[0m\u001b[0;34m)\u001b[0m\u001b[0;34m\u001b[0m\u001b[0;34m\u001b[0m\u001b[0m\n\u001b[1;32m     76\u001b[0m             \u001b[0mversion\u001b[0m \u001b[0;34m+=\u001b[0m \u001b[0;36m1\u001b[0m\u001b[0;34m\u001b[0m\u001b[0;34m\u001b[0m\u001b[0m\n",
            "\u001b[0;32m/usr/local/lib/python3.6/dist-packages/xgboost/core.py\u001b[0m in \u001b[0;36mupdate\u001b[0;34m(self, dtrain, iteration, fobj)\u001b[0m\n\u001b[1;32m   1107\u001b[0m         \u001b[0;32mif\u001b[0m \u001b[0mfobj\u001b[0m \u001b[0;32mis\u001b[0m \u001b[0;32mNone\u001b[0m\u001b[0;34m:\u001b[0m\u001b[0;34m\u001b[0m\u001b[0;34m\u001b[0m\u001b[0m\n\u001b[1;32m   1108\u001b[0m             _check_call(_LIB.XGBoosterUpdateOneIter(self.handle, ctypes.c_int(iteration),\n\u001b[0;32m-> 1109\u001b[0;31m                                                     dtrain.handle))\n\u001b[0m\u001b[1;32m   1110\u001b[0m         \u001b[0;32melse\u001b[0m\u001b[0;34m:\u001b[0m\u001b[0;34m\u001b[0m\u001b[0;34m\u001b[0m\u001b[0m\n\u001b[1;32m   1111\u001b[0m             \u001b[0mpred\u001b[0m \u001b[0;34m=\u001b[0m \u001b[0mself\u001b[0m\u001b[0;34m.\u001b[0m\u001b[0mpredict\u001b[0m\u001b[0;34m(\u001b[0m\u001b[0mdtrain\u001b[0m\u001b[0;34m)\u001b[0m\u001b[0;34m\u001b[0m\u001b[0;34m\u001b[0m\u001b[0m\n",
            "\u001b[0;31mKeyboardInterrupt\u001b[0m: "
          ]
        }
      ]
    },
    {
      "cell_type": "code",
      "metadata": {
        "id": "oz8IN3Jfwav0"
      },
      "source": [
        "print('\\nAccuracy: {:.2f}\\n'.format(accuracy_score(y_test_ada, y_pred)))\r\n",
        "\r\n",
        "print('Micro Precision: {:.2f}'.format(precision_score(y_test_ada, y_pred, average='micro')))\r\n",
        "print('Micro Recall: {:.2f}'.format(recall_score(y_test_ada, y_pred, average='micro')))\r\n",
        "print('Micro F1-score: {:.2f}\\n'.format(f1_score(y_test_ada, y_pred, average='micro')))\r\n",
        "\r\n",
        "print('Macro Precision: {:.2f}'.format(precision_score(y_test_ada, y_pred, average='macro')))\r\n",
        "print('Macro Recall: {:.2f}'.format(recall_score(y_test_ada, y_pred, average='macro')))\r\n",
        "print('Macro F1-score: {:.2f}\\n'.format(f1_score(y_test_ada, y_pred, average='macro')))\r\n",
        "\r\n",
        "print('Weighted Precision: {:.2f}'.format(precision_score(y_test_ada, y_pred, average='weighted')))\r\n",
        "print('Weighted Recall: {:.2f}'.format(recall_score(y_test_ada, y_pred, average='weighted')))\r\n",
        "print('Weighted F1-score: {:.2f}'.format(f1_score(y_test_ada, y_pred, average='weighted')))\r\n",
        " \r\n",
        "print('\\nClassification Report\\n')"
      ],
      "execution_count": null,
      "outputs": []
    },
    {
      "cell_type": "markdown",
      "metadata": {
        "id": "KznBGxa2yiLk"
      },
      "source": [
        "# Model 7: Voting "
      ]
    },
    {
      "cell_type": "code",
      "metadata": {
        "id": "PRfa2lmvytnh"
      },
      "source": [
        "from sklearn.ensemble import ExtraTreesClassifier, VotingClassifier"
      ],
      "execution_count": 76,
      "outputs": []
    },
    {
      "cell_type": "code",
      "metadata": {
        "colab": {
          "base_uri": "https://localhost:8080/"
        },
        "id": "IIYUdP7iyuRG",
        "outputId": "9fcfad8b-43b6-432f-f52c-524e26272080"
      },
      "source": [
        "rfc = RandomForestClassifier(n_jobs=-1, n_estimators=35, criterion=\"entropy\")\r\n",
        "ada = AdaBoostClassifier(n_estimators=75, learning_rate=1.5)\r\n",
        "etc = ExtraTreesClassifier(n_jobs=-1, criterion=\"entropy\", n_estimators=5)\r\n",
        "eclf = VotingClassifier(estimators=[('ada', ada), ('rfc', rfc), ('etc', etc)], voting='soft', weights=[2, 1, 3],n_jobs=1)\r\n",
        "eclf.fit(X_train,y_train_ada)"
      ],
      "execution_count": 77,
      "outputs": [
        {
          "output_type": "execute_result",
          "data": {
            "text/plain": [
              "VotingClassifier(estimators=[('ada',\n",
              "                              AdaBoostClassifier(algorithm='SAMME.R',\n",
              "                                                 base_estimator=None,\n",
              "                                                 learning_rate=1.5,\n",
              "                                                 n_estimators=75,\n",
              "                                                 random_state=None)),\n",
              "                             ('rfc',\n",
              "                              RandomForestClassifier(bootstrap=True,\n",
              "                                                     ccp_alpha=0.0,\n",
              "                                                     class_weight=None,\n",
              "                                                     criterion='entropy',\n",
              "                                                     max_depth=None,\n",
              "                                                     max_features='auto',\n",
              "                                                     max_leaf_nodes=None,\n",
              "                                                     max_samples=None,\n",
              "                                                     min_impurity_decrease=0.0,\n",
              "                                                     min_im...\n",
              "                                                   criterion='entropy',\n",
              "                                                   max_depth=None,\n",
              "                                                   max_features='auto',\n",
              "                                                   max_leaf_nodes=None,\n",
              "                                                   max_samples=None,\n",
              "                                                   min_impurity_decrease=0.0,\n",
              "                                                   min_impurity_split=None,\n",
              "                                                   min_samples_leaf=1,\n",
              "                                                   min_samples_split=2,\n",
              "                                                   min_weight_fraction_leaf=0.0,\n",
              "                                                   n_estimators=5, n_jobs=-1,\n",
              "                                                   oob_score=False,\n",
              "                                                   random_state=None, verbose=0,\n",
              "                                                   warm_start=False))],\n",
              "                 flatten_transform=True, n_jobs=1, voting='soft',\n",
              "                 weights=[2, 1, 3])"
            ]
          },
          "metadata": {
            "tags": []
          },
          "execution_count": 77
        }
      ]
    },
    {
      "cell_type": "code",
      "metadata": {
        "id": "Rig3c_bqzpim"
      },
      "source": [
        "y_pred = eclf.predict(X_test)"
      ],
      "execution_count": 78,
      "outputs": []
    },
    {
      "cell_type": "code",
      "metadata": {
        "colab": {
          "base_uri": "https://localhost:8080/"
        },
        "id": "ZuI-C6lZzqeV",
        "outputId": "73f607af-7c0b-4d6e-e7dc-25bf074be896"
      },
      "source": [
        "display_metrics(y_test_ada, y_pred,labels_d)"
      ],
      "execution_count": 79,
      "outputs": [
        {
          "output_type": "stream",
          "text": [
            "\n",
            "Accuracy: 0.98\n",
            "\n",
            "Micro Precision: 0.98\n",
            "Micro Recall: 0.98\n",
            "Micro F1-score: 0.98\n",
            "\n"
          ],
          "name": "stdout"
        },
        {
          "output_type": "stream",
          "text": [
            "/usr/local/lib/python3.6/dist-packages/sklearn/metrics/_classification.py:1272: UndefinedMetricWarning: Precision is ill-defined and being set to 0.0 in labels with no predicted samples. Use `zero_division` parameter to control this behavior.\n",
            "  _warn_prf(average, modifier, msg_start, len(result))\n"
          ],
          "name": "stderr"
        },
        {
          "output_type": "stream",
          "text": [
            "Macro Precision: 0.71\n",
            "Macro Recall: 0.57\n",
            "Macro F1-score: 0.59\n",
            "\n",
            "Weighted Precision: 0.98\n",
            "Weighted Recall: 0.98\n",
            "Weighted F1-score: 0.97\n",
            "\n",
            "Classification Report\n",
            "\n"
          ],
          "name": "stdout"
        },
        {
          "output_type": "stream",
          "text": [
            "/usr/local/lib/python3.6/dist-packages/sklearn/metrics/_classification.py:1272: UndefinedMetricWarning: Precision and F-score are ill-defined and being set to 0.0 in labels with no predicted samples. Use `zero_division` parameter to control this behavior.\n",
            "  _warn_prf(average, modifier, msg_start, len(result))\n"
          ],
          "name": "stderr"
        },
        {
          "output_type": "stream",
          "text": [
            "                            precision    recall  f1-score   support\n",
            "\n",
            "                    BENIGN       0.97      1.00      0.98    139135\n",
            "                       Bot       0.00      0.00      0.00       489\n",
            "                      DDoS       0.97      0.99      0.98     32006\n",
            "             DoS GoldenEye       1.00      0.77      0.87      2573\n",
            "                  DoS Hulk       1.00      0.97      0.99     57531\n",
            "          DoS Slowhttptest       0.73      0.77      0.75      1374\n",
            "             DoS slowloris       0.99      0.65      0.79      1449\n",
            "               FTP-Patator       1.00      0.66      0.79      1983\n",
            "                Heartbleed       1.00      1.00      1.00         3\n",
            "              Infiltration       0.00      0.00      0.00         9\n",
            "                  PortScan       1.00      1.00      1.00     39701\n",
            "               SSH-Patator       1.00      0.00      0.00      1474\n",
            "  Web Attack � Brute Force       0.69      0.77      0.73       376\n",
            "Web Attack � Sql Injection       0.00      0.00      0.00         5\n",
            "          Web Attack � XSS       0.23      0.02      0.03       163\n",
            "\n",
            "                  accuracy                           0.98    278271\n",
            "                 macro avg       0.71      0.57      0.59    278271\n",
            "              weighted avg       0.98      0.98      0.97    278271\n",
            "\n"
          ],
          "name": "stdout"
        }
      ]
    },
    {
      "cell_type": "markdown",
      "metadata": {
        "id": "cAuDnGKYXhwH"
      },
      "source": [
        "# Model 8: KNN Model"
      ]
    },
    {
      "cell_type": "code",
      "metadata": {
        "id": "g7fba3ZuXhwH"
      },
      "source": [
        "from sklearn.neighbors import KNeighborsClassifier"
      ],
      "execution_count": 80,
      "outputs": []
    },
    {
      "cell_type": "code",
      "metadata": {
        "id": "Dgx8g7vuXhwH"
      },
      "source": [
        "features_order = ['dst sport count', 'src dport count', 'dst src count', 'dport count', 'sport count', 'dst host count','src host count', 'Source Port', 'Destination Port',\n",
        "                      'Protocol', 'Flow Duration', 'Total Fwd Packets', 'Total Backward Packets', 'Total Length of Fwd Packets',\n",
        "                      'Total Length of Bwd Packets', 'Fwd Packet Length Max', 'Fwd Packet Length Min', 'Fwd Packet Length Mean',\n",
        "                      'Fwd Packet Length Std', 'Bwd Packet Length Max', 'Bwd Packet Length Min', 'Bwd Packet Length Mean', 'Bwd Packet Length Std',\n",
        "                      'Flow Bytes/s', 'Flow Packets/s', 'Flow IAT Mean', 'Flow IAT Std', 'Flow IAT Max', 'Flow IAT Min', 'Fwd IAT Total',\n",
        "                      'Fwd IAT Mean', 'Fwd IAT Std', 'Fwd IAT Max', 'Fwd IAT Min', 'Bwd IAT Total', 'Bwd IAT Mean', 'Bwd IAT Std', 'Bwd IAT Max',\n",
        "                      'Bwd IAT Min', 'Fwd PSH Flags', 'Fwd URG Flags', 'Fwd Header Length', 'Bwd Header Length',\n",
        "                      'Fwd Packets/s', 'Bwd Packets/s', 'Min Packet Length', 'Max Packet Length', 'Packet Length Mean', 'Packet Length Std',\n",
        "                      'Packet Length Variance', 'FIN Flag Count', 'SYN Flag Count', 'RST Flag Count', 'PSH Flag Count', 'ACK Flag Count',\n",
        "                      'URG Flag Count', 'CWE Flag Count', 'ECE Flag Count', 'Down/Up Ratio', 'Average Packet Size', 'Avg Fwd Segment Size',\n",
        "                      'Avg Bwd Segment Size','Subflow Fwd Packets', 'Subflow Fwd Bytes',\n",
        "                      'Subflow Bwd Packets', 'Subflow Bwd Bytes', 'Init_Win_bytes_forward', 'Init_Win_bytes_backward',\n",
        "                      'act_data_pkt_fwd', 'min_seg_size_forward', 'Active Mean', 'Active Std', 'Active Max', 'Active Min', 'Idle Mean',\n",
        "                      'Idle Std', 'Idle Max', 'Idle Min']"
      ],
      "execution_count": 82,
      "outputs": []
    },
    {
      "cell_type": "code",
      "metadata": {
        "id": "YyhoOfFgXhwH"
      },
      "source": [
        "features=['dst sport count', 'src dport count', 'dst src count', 'dport count', 'sport count', 'dst host count','src host count', \"Fwd Packet Length Max\",\"Flow IAT Std\",\"Fwd Packet Length Std\" ,\"Fwd IAT Total\",'Flow Packets/s', \"Fwd Packet Length Mean\",  \"Flow Bytes/s\",  \"Flow IAT Mean\", \"Bwd Packet Length Mean\",  \"Flow IAT Max\", \"Bwd Packet Length Std\", ]"
      ],
      "execution_count": 83,
      "outputs": []
    },
    {
      "cell_type": "code",
      "metadata": {
        "colab": {
          "base_uri": "https://localhost:8080/",
          "height": 350
        },
        "id": "GlhN1BDdXhwI",
        "outputId": "30a1e7ee-1b03-4c31-81e5-1002a01bc226"
      },
      "source": [
        "df_knn_train = pd.DataFrame(X_train, columns = features_order)\n",
        "df_knn_train.head()"
      ],
      "execution_count": 84,
      "outputs": [
        {
          "output_type": "execute_result",
          "data": {
            "text/html": [
              "<div>\n",
              "<style scoped>\n",
              "    .dataframe tbody tr th:only-of-type {\n",
              "        vertical-align: middle;\n",
              "    }\n",
              "\n",
              "    .dataframe tbody tr th {\n",
              "        vertical-align: top;\n",
              "    }\n",
              "\n",
              "    .dataframe thead th {\n",
              "        text-align: right;\n",
              "    }\n",
              "</style>\n",
              "<table border=\"1\" class=\"dataframe\">\n",
              "  <thead>\n",
              "    <tr style=\"text-align: right;\">\n",
              "      <th></th>\n",
              "      <th>dst sport count</th>\n",
              "      <th>src dport count</th>\n",
              "      <th>dst src count</th>\n",
              "      <th>dport count</th>\n",
              "      <th>sport count</th>\n",
              "      <th>dst host count</th>\n",
              "      <th>src host count</th>\n",
              "      <th>Source Port</th>\n",
              "      <th>Destination Port</th>\n",
              "      <th>Protocol</th>\n",
              "      <th>Flow Duration</th>\n",
              "      <th>Total Fwd Packets</th>\n",
              "      <th>Total Backward Packets</th>\n",
              "      <th>Total Length of Fwd Packets</th>\n",
              "      <th>Total Length of Bwd Packets</th>\n",
              "      <th>Fwd Packet Length Max</th>\n",
              "      <th>Fwd Packet Length Min</th>\n",
              "      <th>Fwd Packet Length Mean</th>\n",
              "      <th>Fwd Packet Length Std</th>\n",
              "      <th>Bwd Packet Length Max</th>\n",
              "      <th>Bwd Packet Length Min</th>\n",
              "      <th>Bwd Packet Length Mean</th>\n",
              "      <th>Bwd Packet Length Std</th>\n",
              "      <th>Flow Bytes/s</th>\n",
              "      <th>Flow Packets/s</th>\n",
              "      <th>Flow IAT Mean</th>\n",
              "      <th>Flow IAT Std</th>\n",
              "      <th>Flow IAT Max</th>\n",
              "      <th>Flow IAT Min</th>\n",
              "      <th>Fwd IAT Total</th>\n",
              "      <th>Fwd IAT Mean</th>\n",
              "      <th>Fwd IAT Std</th>\n",
              "      <th>Fwd IAT Max</th>\n",
              "      <th>Fwd IAT Min</th>\n",
              "      <th>Bwd IAT Total</th>\n",
              "      <th>Bwd IAT Mean</th>\n",
              "      <th>Bwd IAT Std</th>\n",
              "      <th>Bwd IAT Max</th>\n",
              "      <th>Bwd IAT Min</th>\n",
              "      <th>Fwd PSH Flags</th>\n",
              "      <th>Fwd URG Flags</th>\n",
              "      <th>Fwd Header Length</th>\n",
              "      <th>Bwd Header Length</th>\n",
              "      <th>Fwd Packets/s</th>\n",
              "      <th>Bwd Packets/s</th>\n",
              "      <th>Min Packet Length</th>\n",
              "      <th>Max Packet Length</th>\n",
              "      <th>Packet Length Mean</th>\n",
              "      <th>Packet Length Std</th>\n",
              "      <th>Packet Length Variance</th>\n",
              "      <th>FIN Flag Count</th>\n",
              "      <th>SYN Flag Count</th>\n",
              "      <th>RST Flag Count</th>\n",
              "      <th>PSH Flag Count</th>\n",
              "      <th>ACK Flag Count</th>\n",
              "      <th>URG Flag Count</th>\n",
              "      <th>CWE Flag Count</th>\n",
              "      <th>ECE Flag Count</th>\n",
              "      <th>Down/Up Ratio</th>\n",
              "      <th>Average Packet Size</th>\n",
              "      <th>Avg Fwd Segment Size</th>\n",
              "      <th>Avg Bwd Segment Size</th>\n",
              "      <th>Subflow Fwd Packets</th>\n",
              "      <th>Subflow Fwd Bytes</th>\n",
              "      <th>Subflow Bwd Packets</th>\n",
              "      <th>Subflow Bwd Bytes</th>\n",
              "      <th>Init_Win_bytes_forward</th>\n",
              "      <th>Init_Win_bytes_backward</th>\n",
              "      <th>act_data_pkt_fwd</th>\n",
              "      <th>min_seg_size_forward</th>\n",
              "      <th>Active Mean</th>\n",
              "      <th>Active Std</th>\n",
              "      <th>Active Max</th>\n",
              "      <th>Active Min</th>\n",
              "      <th>Idle Mean</th>\n",
              "      <th>Idle Std</th>\n",
              "      <th>Idle Max</th>\n",
              "      <th>Idle Min</th>\n",
              "    </tr>\n",
              "  </thead>\n",
              "  <tbody>\n",
              "    <tr>\n",
              "      <th>0</th>\n",
              "      <td>0.0</td>\n",
              "      <td>0.353535</td>\n",
              "      <td>0.353535</td>\n",
              "      <td>0.474747</td>\n",
              "      <td>0.0</td>\n",
              "      <td>0.474747</td>\n",
              "      <td>0.808081</td>\n",
              "      <td>0.854719</td>\n",
              "      <td>0.000809</td>\n",
              "      <td>1.000000</td>\n",
              "      <td>5.071335e-04</td>\n",
              "      <td>0.000005</td>\n",
              "      <td>0.000007</td>\n",
              "      <td>0.000033</td>\n",
              "      <td>3.604466e-07</td>\n",
              "      <td>0.001894</td>\n",
              "      <td>0.031929</td>\n",
              "      <td>0.007911</td>\n",
              "      <td>0.0</td>\n",
              "      <td>0.006503</td>\n",
              "      <td>0.077397</td>\n",
              "      <td>0.025854</td>\n",
              "      <td>0.0</td>\n",
              "      <td>0.085287</td>\n",
              "      <td>0.400013</td>\n",
              "      <td>1.691166e-04</td>\n",
              "      <td>0.000414</td>\n",
              "      <td>5.070749e-04</td>\n",
              "      <td>1.333333e-07</td>\n",
              "      <td>2.500000e-08</td>\n",
              "      <td>2.500000e-08</td>\n",
              "      <td>0.000000</td>\n",
              "      <td>2.500000e-08</td>\n",
              "      <td>1.250000e-07</td>\n",
              "      <td>3.333333e-08</td>\n",
              "      <td>3.333333e-08</td>\n",
              "      <td>0.0</td>\n",
              "      <td>3.333333e-08</td>\n",
              "      <td>3.333333e-08</td>\n",
              "      <td>0.0</td>\n",
              "      <td>0.0</td>\n",
              "      <td>0.000009</td>\n",
              "      <td>0.000007</td>\n",
              "      <td>1.095716e-05</td>\n",
              "      <td>0.000016</td>\n",
              "      <td>0.034584</td>\n",
              "      <td>0.004553</td>\n",
              "      <td>0.037897</td>\n",
              "      <td>0.007640</td>\n",
              "      <td>5.833929e-05</td>\n",
              "      <td>0.0</td>\n",
              "      <td>0.0</td>\n",
              "      <td>0.0</td>\n",
              "      <td>0.0</td>\n",
              "      <td>0.0</td>\n",
              "      <td>0.0</td>\n",
              "      <td>0.0</td>\n",
              "      <td>0.0</td>\n",
              "      <td>0.008065</td>\n",
              "      <td>0.036294</td>\n",
              "      <td>0.007911</td>\n",
              "      <td>0.025854</td>\n",
              "      <td>0.000005</td>\n",
              "      <td>0.000033</td>\n",
              "      <td>0.000007</td>\n",
              "      <td>3.604239e-07</td>\n",
              "      <td>0.000000</td>\n",
              "      <td>0.000000</td>\n",
              "      <td>0.000005</td>\n",
              "      <td>0.333333</td>\n",
              "      <td>0.0</td>\n",
              "      <td>0.0</td>\n",
              "      <td>0.0</td>\n",
              "      <td>0.0</td>\n",
              "      <td>0.0</td>\n",
              "      <td>0.0</td>\n",
              "      <td>0.0</td>\n",
              "      <td>0.0</td>\n",
              "    </tr>\n",
              "    <tr>\n",
              "      <th>1</th>\n",
              "      <td>0.0</td>\n",
              "      <td>0.959596</td>\n",
              "      <td>0.959596</td>\n",
              "      <td>0.959596</td>\n",
              "      <td>0.0</td>\n",
              "      <td>0.959596</td>\n",
              "      <td>0.959596</td>\n",
              "      <td>0.512795</td>\n",
              "      <td>0.001221</td>\n",
              "      <td>0.352941</td>\n",
              "      <td>1.250000e-07</td>\n",
              "      <td>0.000005</td>\n",
              "      <td>0.000000</td>\n",
              "      <td>0.000000</td>\n",
              "      <td>0.000000e+00</td>\n",
              "      <td>0.000000</td>\n",
              "      <td>0.000000</td>\n",
              "      <td>0.000000</td>\n",
              "      <td>0.0</td>\n",
              "      <td>0.000000</td>\n",
              "      <td>0.000000</td>\n",
              "      <td>0.000000</td>\n",
              "      <td>0.0</td>\n",
              "      <td>0.085285</td>\n",
              "      <td>0.600000</td>\n",
              "      <td>1.250000e-07</td>\n",
              "      <td>0.000000</td>\n",
              "      <td>1.250000e-07</td>\n",
              "      <td>1.250000e-07</td>\n",
              "      <td>1.666667e-08</td>\n",
              "      <td>1.666667e-08</td>\n",
              "      <td>0.000000</td>\n",
              "      <td>1.666667e-08</td>\n",
              "      <td>1.166667e-07</td>\n",
              "      <td>0.000000e+00</td>\n",
              "      <td>0.000000e+00</td>\n",
              "      <td>0.0</td>\n",
              "      <td>0.000000e+00</td>\n",
              "      <td>0.000000e+00</td>\n",
              "      <td>0.0</td>\n",
              "      <td>0.0</td>\n",
              "      <td>0.000015</td>\n",
              "      <td>0.000000</td>\n",
              "      <td>3.333333e-01</td>\n",
              "      <td>0.000000</td>\n",
              "      <td>0.000000</td>\n",
              "      <td>0.000000</td>\n",
              "      <td>0.000000</td>\n",
              "      <td>0.000000</td>\n",
              "      <td>0.000000e+00</td>\n",
              "      <td>0.0</td>\n",
              "      <td>0.0</td>\n",
              "      <td>0.0</td>\n",
              "      <td>0.0</td>\n",
              "      <td>1.0</td>\n",
              "      <td>0.0</td>\n",
              "      <td>0.0</td>\n",
              "      <td>0.0</td>\n",
              "      <td>0.000000</td>\n",
              "      <td>0.000000</td>\n",
              "      <td>0.000000</td>\n",
              "      <td>0.000000</td>\n",
              "      <td>0.000005</td>\n",
              "      <td>0.000000</td>\n",
              "      <td>0.000000</td>\n",
              "      <td>0.000000e+00</td>\n",
              "      <td>0.003845</td>\n",
              "      <td>0.000000</td>\n",
              "      <td>0.000000</td>\n",
              "      <td>0.533333</td>\n",
              "      <td>0.0</td>\n",
              "      <td>0.0</td>\n",
              "      <td>0.0</td>\n",
              "      <td>0.0</td>\n",
              "      <td>0.0</td>\n",
              "      <td>0.0</td>\n",
              "      <td>0.0</td>\n",
              "      <td>0.0</td>\n",
              "    </tr>\n",
              "    <tr>\n",
              "      <th>2</th>\n",
              "      <td>0.0</td>\n",
              "      <td>0.000000</td>\n",
              "      <td>0.000000</td>\n",
              "      <td>0.252525</td>\n",
              "      <td>0.0</td>\n",
              "      <td>0.000000</td>\n",
              "      <td>0.000000</td>\n",
              "      <td>0.828382</td>\n",
              "      <td>0.001221</td>\n",
              "      <td>0.352941</td>\n",
              "      <td>4.750002e-07</td>\n",
              "      <td>0.000000</td>\n",
              "      <td>0.000004</td>\n",
              "      <td>0.000003</td>\n",
              "      <td>0.000000e+00</td>\n",
              "      <td>0.000322</td>\n",
              "      <td>0.005435</td>\n",
              "      <td>0.001347</td>\n",
              "      <td>0.0</td>\n",
              "      <td>0.000000</td>\n",
              "      <td>0.000000</td>\n",
              "      <td>0.000000</td>\n",
              "      <td>0.0</td>\n",
              "      <td>0.085365</td>\n",
              "      <td>0.409091</td>\n",
              "      <td>4.749999e-07</td>\n",
              "      <td>0.000000</td>\n",
              "      <td>4.749999e-07</td>\n",
              "      <td>4.749999e-07</td>\n",
              "      <td>0.000000e+00</td>\n",
              "      <td>0.000000e+00</td>\n",
              "      <td>0.000000</td>\n",
              "      <td>0.000000e+00</td>\n",
              "      <td>9.999999e-08</td>\n",
              "      <td>0.000000e+00</td>\n",
              "      <td>0.000000e+00</td>\n",
              "      <td>0.0</td>\n",
              "      <td>0.000000e+00</td>\n",
              "      <td>0.000000e+00</td>\n",
              "      <td>1.0</td>\n",
              "      <td>0.0</td>\n",
              "      <td>0.000007</td>\n",
              "      <td>0.000006</td>\n",
              "      <td>7.575758e-03</td>\n",
              "      <td>0.011364</td>\n",
              "      <td>0.000000</td>\n",
              "      <td>0.000322</td>\n",
              "      <td>0.002754</td>\n",
              "      <td>0.000976</td>\n",
              "      <td>9.523810e-07</td>\n",
              "      <td>0.0</td>\n",
              "      <td>1.0</td>\n",
              "      <td>0.0</td>\n",
              "      <td>0.0</td>\n",
              "      <td>1.0</td>\n",
              "      <td>0.0</td>\n",
              "      <td>0.0</td>\n",
              "      <td>0.0</td>\n",
              "      <td>0.008065</td>\n",
              "      <td>0.003165</td>\n",
              "      <td>0.001347</td>\n",
              "      <td>0.000000</td>\n",
              "      <td>0.000000</td>\n",
              "      <td>0.000003</td>\n",
              "      <td>0.000004</td>\n",
              "      <td>0.000000e+00</td>\n",
              "      <td>0.003510</td>\n",
              "      <td>0.003601</td>\n",
              "      <td>0.000000</td>\n",
              "      <td>0.533333</td>\n",
              "      <td>0.0</td>\n",
              "      <td>0.0</td>\n",
              "      <td>0.0</td>\n",
              "      <td>0.0</td>\n",
              "      <td>0.0</td>\n",
              "      <td>0.0</td>\n",
              "      <td>0.0</td>\n",
              "      <td>0.0</td>\n",
              "    </tr>\n",
              "    <tr>\n",
              "      <th>3</th>\n",
              "      <td>0.0</td>\n",
              "      <td>1.000000</td>\n",
              "      <td>1.000000</td>\n",
              "      <td>1.000000</td>\n",
              "      <td>0.0</td>\n",
              "      <td>1.000000</td>\n",
              "      <td>1.000000</td>\n",
              "      <td>0.774670</td>\n",
              "      <td>0.001221</td>\n",
              "      <td>0.352941</td>\n",
              "      <td>1.250000e-07</td>\n",
              "      <td>0.000005</td>\n",
              "      <td>0.000000</td>\n",
              "      <td>0.000000</td>\n",
              "      <td>0.000000e+00</td>\n",
              "      <td>0.000000</td>\n",
              "      <td>0.000000</td>\n",
              "      <td>0.000000</td>\n",
              "      <td>0.0</td>\n",
              "      <td>0.000000</td>\n",
              "      <td>0.000000</td>\n",
              "      <td>0.000000</td>\n",
              "      <td>0.0</td>\n",
              "      <td>0.085285</td>\n",
              "      <td>0.600000</td>\n",
              "      <td>1.250000e-07</td>\n",
              "      <td>0.000000</td>\n",
              "      <td>1.250000e-07</td>\n",
              "      <td>1.250000e-07</td>\n",
              "      <td>1.666667e-08</td>\n",
              "      <td>1.666667e-08</td>\n",
              "      <td>0.000000</td>\n",
              "      <td>1.666667e-08</td>\n",
              "      <td>1.166667e-07</td>\n",
              "      <td>0.000000e+00</td>\n",
              "      <td>0.000000e+00</td>\n",
              "      <td>0.0</td>\n",
              "      <td>0.000000e+00</td>\n",
              "      <td>0.000000e+00</td>\n",
              "      <td>0.0</td>\n",
              "      <td>0.0</td>\n",
              "      <td>0.000015</td>\n",
              "      <td>0.000000</td>\n",
              "      <td>3.333333e-01</td>\n",
              "      <td>0.000000</td>\n",
              "      <td>0.000000</td>\n",
              "      <td>0.000000</td>\n",
              "      <td>0.000000</td>\n",
              "      <td>0.000000</td>\n",
              "      <td>0.000000e+00</td>\n",
              "      <td>0.0</td>\n",
              "      <td>0.0</td>\n",
              "      <td>0.0</td>\n",
              "      <td>0.0</td>\n",
              "      <td>1.0</td>\n",
              "      <td>0.0</td>\n",
              "      <td>0.0</td>\n",
              "      <td>0.0</td>\n",
              "      <td>0.000000</td>\n",
              "      <td>0.000000</td>\n",
              "      <td>0.000000</td>\n",
              "      <td>0.000000</td>\n",
              "      <td>0.000005</td>\n",
              "      <td>0.000000</td>\n",
              "      <td>0.000000</td>\n",
              "      <td>0.000000e+00</td>\n",
              "      <td>0.003845</td>\n",
              "      <td>0.000000</td>\n",
              "      <td>0.000000</td>\n",
              "      <td>0.533333</td>\n",
              "      <td>0.0</td>\n",
              "      <td>0.0</td>\n",
              "      <td>0.0</td>\n",
              "      <td>0.0</td>\n",
              "      <td>0.0</td>\n",
              "      <td>0.0</td>\n",
              "      <td>0.0</td>\n",
              "      <td>0.0</td>\n",
              "    </tr>\n",
              "    <tr>\n",
              "      <th>4</th>\n",
              "      <td>0.0</td>\n",
              "      <td>1.000000</td>\n",
              "      <td>1.000000</td>\n",
              "      <td>1.000000</td>\n",
              "      <td>0.0</td>\n",
              "      <td>1.000000</td>\n",
              "      <td>1.000000</td>\n",
              "      <td>0.947326</td>\n",
              "      <td>0.001221</td>\n",
              "      <td>0.352941</td>\n",
              "      <td>3.162789e-02</td>\n",
              "      <td>0.000014</td>\n",
              "      <td>0.000000</td>\n",
              "      <td>0.000008</td>\n",
              "      <td>0.000000e+00</td>\n",
              "      <td>0.000242</td>\n",
              "      <td>0.004076</td>\n",
              "      <td>0.001010</td>\n",
              "      <td>0.0</td>\n",
              "      <td>0.000000</td>\n",
              "      <td>0.000000</td>\n",
              "      <td>0.000000</td>\n",
              "      <td>0.0</td>\n",
              "      <td>0.085285</td>\n",
              "      <td>0.400000</td>\n",
              "      <td>1.054270e-02</td>\n",
              "      <td>0.025833</td>\n",
              "      <td>3.162206e-02</td>\n",
              "      <td>3.008333e-06</td>\n",
              "      <td>3.162778e-02</td>\n",
              "      <td>1.054259e-02</td>\n",
              "      <td>0.026267</td>\n",
              "      <td>3.162196e-02</td>\n",
              "      <td>3.000000e-06</td>\n",
              "      <td>0.000000e+00</td>\n",
              "      <td>0.000000e+00</td>\n",
              "      <td>0.0</td>\n",
              "      <td>0.000000e+00</td>\n",
              "      <td>0.000000e+00</td>\n",
              "      <td>0.0</td>\n",
              "      <td>0.0</td>\n",
              "      <td>0.000018</td>\n",
              "      <td>0.000000</td>\n",
              "      <td>3.513087e-07</td>\n",
              "      <td>0.000000</td>\n",
              "      <td>0.004415</td>\n",
              "      <td>0.000242</td>\n",
              "      <td>0.003098</td>\n",
              "      <td>0.000000</td>\n",
              "      <td>0.000000e+00</td>\n",
              "      <td>0.0</td>\n",
              "      <td>0.0</td>\n",
              "      <td>0.0</td>\n",
              "      <td>0.0</td>\n",
              "      <td>1.0</td>\n",
              "      <td>0.0</td>\n",
              "      <td>0.0</td>\n",
              "      <td>0.0</td>\n",
              "      <td>0.000000</td>\n",
              "      <td>0.002967</td>\n",
              "      <td>0.001010</td>\n",
              "      <td>0.000000</td>\n",
              "      <td>0.000014</td>\n",
              "      <td>0.000008</td>\n",
              "      <td>0.000000</td>\n",
              "      <td>0.000000e+00</td>\n",
              "      <td>0.003922</td>\n",
              "      <td>0.000000</td>\n",
              "      <td>0.000015</td>\n",
              "      <td>0.333333</td>\n",
              "      <td>0.0</td>\n",
              "      <td>0.0</td>\n",
              "      <td>0.0</td>\n",
              "      <td>0.0</td>\n",
              "      <td>0.0</td>\n",
              "      <td>0.0</td>\n",
              "      <td>0.0</td>\n",
              "      <td>0.0</td>\n",
              "    </tr>\n",
              "  </tbody>\n",
              "</table>\n",
              "</div>"
            ],
            "text/plain": [
              "   dst sport count  src dport count  ...  Idle Max  Idle Min\n",
              "0              0.0         0.353535  ...       0.0       0.0\n",
              "1              0.0         0.959596  ...       0.0       0.0\n",
              "2              0.0         0.000000  ...       0.0       0.0\n",
              "3              0.0         1.000000  ...       0.0       0.0\n",
              "4              0.0         1.000000  ...       0.0       0.0\n",
              "\n",
              "[5 rows x 78 columns]"
            ]
          },
          "metadata": {
            "tags": []
          },
          "execution_count": 84
        }
      ]
    },
    {
      "cell_type": "code",
      "metadata": {
        "id": "Eda-FM60XhwI"
      },
      "source": [
        "df_knn_test = pd.DataFrame(X_test, columns = features_order)"
      ],
      "execution_count": 85,
      "outputs": []
    },
    {
      "cell_type": "code",
      "metadata": {
        "colab": {
          "base_uri": "https://localhost:8080/",
          "height": 350
        },
        "id": "iv6nljzO5_Wd",
        "outputId": "aac397e8-a383-4cb7-f3fc-66ed68b04283"
      },
      "source": [
        "df_knn_test.head()"
      ],
      "execution_count": 86,
      "outputs": [
        {
          "output_type": "execute_result",
          "data": {
            "text/html": [
              "<div>\n",
              "<style scoped>\n",
              "    .dataframe tbody tr th:only-of-type {\n",
              "        vertical-align: middle;\n",
              "    }\n",
              "\n",
              "    .dataframe tbody tr th {\n",
              "        vertical-align: top;\n",
              "    }\n",
              "\n",
              "    .dataframe thead th {\n",
              "        text-align: right;\n",
              "    }\n",
              "</style>\n",
              "<table border=\"1\" class=\"dataframe\">\n",
              "  <thead>\n",
              "    <tr style=\"text-align: right;\">\n",
              "      <th></th>\n",
              "      <th>dst sport count</th>\n",
              "      <th>src dport count</th>\n",
              "      <th>dst src count</th>\n",
              "      <th>dport count</th>\n",
              "      <th>sport count</th>\n",
              "      <th>dst host count</th>\n",
              "      <th>src host count</th>\n",
              "      <th>Source Port</th>\n",
              "      <th>Destination Port</th>\n",
              "      <th>Protocol</th>\n",
              "      <th>Flow Duration</th>\n",
              "      <th>Total Fwd Packets</th>\n",
              "      <th>Total Backward Packets</th>\n",
              "      <th>Total Length of Fwd Packets</th>\n",
              "      <th>Total Length of Bwd Packets</th>\n",
              "      <th>Fwd Packet Length Max</th>\n",
              "      <th>Fwd Packet Length Min</th>\n",
              "      <th>Fwd Packet Length Mean</th>\n",
              "      <th>Fwd Packet Length Std</th>\n",
              "      <th>Bwd Packet Length Max</th>\n",
              "      <th>Bwd Packet Length Min</th>\n",
              "      <th>Bwd Packet Length Mean</th>\n",
              "      <th>Bwd Packet Length Std</th>\n",
              "      <th>Flow Bytes/s</th>\n",
              "      <th>Flow Packets/s</th>\n",
              "      <th>Flow IAT Mean</th>\n",
              "      <th>Flow IAT Std</th>\n",
              "      <th>Flow IAT Max</th>\n",
              "      <th>Flow IAT Min</th>\n",
              "      <th>Fwd IAT Total</th>\n",
              "      <th>Fwd IAT Mean</th>\n",
              "      <th>Fwd IAT Std</th>\n",
              "      <th>Fwd IAT Max</th>\n",
              "      <th>Fwd IAT Min</th>\n",
              "      <th>Bwd IAT Total</th>\n",
              "      <th>Bwd IAT Mean</th>\n",
              "      <th>Bwd IAT Std</th>\n",
              "      <th>Bwd IAT Max</th>\n",
              "      <th>Bwd IAT Min</th>\n",
              "      <th>Fwd PSH Flags</th>\n",
              "      <th>Fwd URG Flags</th>\n",
              "      <th>Fwd Header Length</th>\n",
              "      <th>Bwd Header Length</th>\n",
              "      <th>Fwd Packets/s</th>\n",
              "      <th>Bwd Packets/s</th>\n",
              "      <th>Min Packet Length</th>\n",
              "      <th>Max Packet Length</th>\n",
              "      <th>Packet Length Mean</th>\n",
              "      <th>Packet Length Std</th>\n",
              "      <th>Packet Length Variance</th>\n",
              "      <th>FIN Flag Count</th>\n",
              "      <th>SYN Flag Count</th>\n",
              "      <th>RST Flag Count</th>\n",
              "      <th>PSH Flag Count</th>\n",
              "      <th>ACK Flag Count</th>\n",
              "      <th>URG Flag Count</th>\n",
              "      <th>CWE Flag Count</th>\n",
              "      <th>ECE Flag Count</th>\n",
              "      <th>Down/Up Ratio</th>\n",
              "      <th>Average Packet Size</th>\n",
              "      <th>Avg Fwd Segment Size</th>\n",
              "      <th>Avg Bwd Segment Size</th>\n",
              "      <th>Subflow Fwd Packets</th>\n",
              "      <th>Subflow Fwd Bytes</th>\n",
              "      <th>Subflow Bwd Packets</th>\n",
              "      <th>Subflow Bwd Bytes</th>\n",
              "      <th>Init_Win_bytes_forward</th>\n",
              "      <th>Init_Win_bytes_backward</th>\n",
              "      <th>act_data_pkt_fwd</th>\n",
              "      <th>min_seg_size_forward</th>\n",
              "      <th>Active Mean</th>\n",
              "      <th>Active Std</th>\n",
              "      <th>Active Max</th>\n",
              "      <th>Active Min</th>\n",
              "      <th>Idle Mean</th>\n",
              "      <th>Idle Std</th>\n",
              "      <th>Idle Max</th>\n",
              "      <th>Idle Min</th>\n",
              "    </tr>\n",
              "  </thead>\n",
              "  <tbody>\n",
              "    <tr>\n",
              "      <th>0</th>\n",
              "      <td>0.010101</td>\n",
              "      <td>0.262626</td>\n",
              "      <td>0.010101</td>\n",
              "      <td>0.353535</td>\n",
              "      <td>0.010101</td>\n",
              "      <td>0.010101</td>\n",
              "      <td>0.343434</td>\n",
              "      <td>0.575671</td>\n",
              "      <td>0.006760</td>\n",
              "      <td>0.352941</td>\n",
              "      <td>3.333336e-08</td>\n",
              "      <td>0.000005</td>\n",
              "      <td>0.000000</td>\n",
              "      <td>0.000040</td>\n",
              "      <td>0.000000e+00</td>\n",
              "      <td>0.002269</td>\n",
              "      <td>0.000000</td>\n",
              "      <td>0.005713</td>\n",
              "      <td>0.005259</td>\n",
              "      <td>0.000000</td>\n",
              "      <td>0.000000</td>\n",
              "      <td>0.000000</td>\n",
              "      <td>0.000000</td>\n",
              "      <td>0.014242</td>\n",
              "      <td>0.533333</td>\n",
              "      <td>3.496731e-08</td>\n",
              "      <td>0.000000</td>\n",
              "      <td>3.333483e-08</td>\n",
              "      <td>1.398692e-07</td>\n",
              "      <td>2.500004e-08</td>\n",
              "      <td>2.500812e-08</td>\n",
              "      <td>0.000000</td>\n",
              "      <td>2.500108e-08</td>\n",
              "      <td>3.334416e-08</td>\n",
              "      <td>0.000000</td>\n",
              "      <td>0.000000</td>\n",
              "      <td>0.00000</td>\n",
              "      <td>0.000000</td>\n",
              "      <td>0.000000e+00</td>\n",
              "      <td>1.0</td>\n",
              "      <td>0.0</td>\n",
              "      <td>0.000014</td>\n",
              "      <td>0.000000</td>\n",
              "      <td>0.222222</td>\n",
              "      <td>0.000000</td>\n",
              "      <td>0.000000</td>\n",
              "      <td>0.002269</td>\n",
              "      <td>0.018822</td>\n",
              "      <td>0.006932</td>\n",
              "      <td>4.804610e-05</td>\n",
              "      <td>0.0</td>\n",
              "      <td>1.0</td>\n",
              "      <td>0.0</td>\n",
              "      <td>0.0</td>\n",
              "      <td>1.0</td>\n",
              "      <td>0.0</td>\n",
              "      <td>0.0</td>\n",
              "      <td>0.0</td>\n",
              "      <td>0.000000</td>\n",
              "      <td>0.025629</td>\n",
              "      <td>0.005713</td>\n",
              "      <td>0.000000</td>\n",
              "      <td>0.000005</td>\n",
              "      <td>0.000040</td>\n",
              "      <td>0.000000</td>\n",
              "      <td>0.000000e+00</td>\n",
              "      <td>0.004852</td>\n",
              "      <td>0.000000</td>\n",
              "      <td>0.000000</td>\n",
              "      <td>0.344086</td>\n",
              "      <td>0.0</td>\n",
              "      <td>0.0</td>\n",
              "      <td>0.0</td>\n",
              "      <td>0.0</td>\n",
              "      <td>0.0</td>\n",
              "      <td>0.0</td>\n",
              "      <td>0.0</td>\n",
              "      <td>0.0</td>\n",
              "    </tr>\n",
              "    <tr>\n",
              "      <th>1</th>\n",
              "      <td>0.000000</td>\n",
              "      <td>0.797980</td>\n",
              "      <td>0.020202</td>\n",
              "      <td>0.818182</td>\n",
              "      <td>0.000000</td>\n",
              "      <td>0.020202</td>\n",
              "      <td>0.838384</td>\n",
              "      <td>0.898816</td>\n",
              "      <td>0.006760</td>\n",
              "      <td>0.352941</td>\n",
              "      <td>1.141421e-02</td>\n",
              "      <td>0.000050</td>\n",
              "      <td>0.000034</td>\n",
              "      <td>0.001844</td>\n",
              "      <td>9.651340e-06</td>\n",
              "      <td>0.029580</td>\n",
              "      <td>0.000000</td>\n",
              "      <td>0.043832</td>\n",
              "      <td>0.042196</td>\n",
              "      <td>0.084024</td>\n",
              "      <td>0.000000</td>\n",
              "      <td>0.161079</td>\n",
              "      <td>0.089580</td>\n",
              "      <td>0.005764</td>\n",
              "      <td>0.400003</td>\n",
              "      <td>5.701852e-04</td>\n",
              "      <td>0.002727</td>\n",
              "      <td>8.925566e-03</td>\n",
              "      <td>1.748365e-07</td>\n",
              "      <td>1.141421e-02</td>\n",
              "      <td>1.037991e-03</td>\n",
              "      <td>0.003722</td>\n",
              "      <td>8.925544e-03</td>\n",
              "      <td>1.092021e-06</td>\n",
              "      <td>0.001968</td>\n",
              "      <td>0.000219</td>\n",
              "      <td>0.00030</td>\n",
              "      <td>0.000523</td>\n",
              "      <td>4.084213e-07</td>\n",
              "      <td>0.0</td>\n",
              "      <td>0.0</td>\n",
              "      <td>0.000054</td>\n",
              "      <td>0.000036</td>\n",
              "      <td>0.000003</td>\n",
              "      <td>0.000004</td>\n",
              "      <td>0.000000</td>\n",
              "      <td>0.062500</td>\n",
              "      <td>0.203023</td>\n",
              "      <td>0.112317</td>\n",
              "      <td>1.261520e-02</td>\n",
              "      <td>0.0</td>\n",
              "      <td>0.0</td>\n",
              "      <td>0.0</td>\n",
              "      <td>1.0</td>\n",
              "      <td>0.0</td>\n",
              "      <td>0.0</td>\n",
              "      <td>0.0</td>\n",
              "      <td>0.0</td>\n",
              "      <td>0.000000</td>\n",
              "      <td>0.192676</td>\n",
              "      <td>0.043832</td>\n",
              "      <td>0.161079</td>\n",
              "      <td>0.000050</td>\n",
              "      <td>0.001844</td>\n",
              "      <td>0.000034</td>\n",
              "      <td>9.651340e-06</td>\n",
              "      <td>0.125015</td>\n",
              "      <td>0.001938</td>\n",
              "      <td>0.000052</td>\n",
              "      <td>0.215054</td>\n",
              "      <td>0.0</td>\n",
              "      <td>0.0</td>\n",
              "      <td>0.0</td>\n",
              "      <td>0.0</td>\n",
              "      <td>0.0</td>\n",
              "      <td>0.0</td>\n",
              "      <td>0.0</td>\n",
              "      <td>0.0</td>\n",
              "    </tr>\n",
              "    <tr>\n",
              "      <th>2</th>\n",
              "      <td>0.010101</td>\n",
              "      <td>0.505051</td>\n",
              "      <td>0.494949</td>\n",
              "      <td>0.656566</td>\n",
              "      <td>0.010101</td>\n",
              "      <td>0.494949</td>\n",
              "      <td>0.545455</td>\n",
              "      <td>0.848689</td>\n",
              "      <td>0.006760</td>\n",
              "      <td>0.352941</td>\n",
              "      <td>6.808439e-03</td>\n",
              "      <td>0.000027</td>\n",
              "      <td>0.000031</td>\n",
              "      <td>0.000724</td>\n",
              "      <td>9.121935e-06</td>\n",
              "      <td>0.022132</td>\n",
              "      <td>0.000000</td>\n",
              "      <td>0.029502</td>\n",
              "      <td>0.030900</td>\n",
              "      <td>0.084427</td>\n",
              "      <td>0.000000</td>\n",
              "      <td>0.169159</td>\n",
              "      <td>0.111552</td>\n",
              "      <td>0.005765</td>\n",
              "      <td>0.400004</td>\n",
              "      <td>4.761533e-04</td>\n",
              "      <td>0.001325</td>\n",
              "      <td>2.265493e-03</td>\n",
              "      <td>1.311274e-07</td>\n",
              "      <td>6.807018e-03</td>\n",
              "      <td>1.134870e-03</td>\n",
              "      <td>0.001760</td>\n",
              "      <td>2.272240e-03</td>\n",
              "      <td>1.292086e-06</td>\n",
              "      <td>0.004546</td>\n",
              "      <td>0.000568</td>\n",
              "      <td>0.00149</td>\n",
              "      <td>0.002270</td>\n",
              "      <td>1.667026e-08</td>\n",
              "      <td>0.0</td>\n",
              "      <td>0.0</td>\n",
              "      <td>0.000050</td>\n",
              "      <td>0.000051</td>\n",
              "      <td>0.000003</td>\n",
              "      <td>0.000006</td>\n",
              "      <td>0.000000</td>\n",
              "      <td>0.062800</td>\n",
              "      <td>0.217368</td>\n",
              "      <td>0.139331</td>\n",
              "      <td>1.941306e-02</td>\n",
              "      <td>0.0</td>\n",
              "      <td>0.0</td>\n",
              "      <td>0.0</td>\n",
              "      <td>1.0</td>\n",
              "      <td>0.0</td>\n",
              "      <td>0.0</td>\n",
              "      <td>0.0</td>\n",
              "      <td>0.0</td>\n",
              "      <td>0.142857</td>\n",
              "      <td>0.209653</td>\n",
              "      <td>0.029502</td>\n",
              "      <td>0.169159</td>\n",
              "      <td>0.000027</td>\n",
              "      <td>0.000724</td>\n",
              "      <td>0.000031</td>\n",
              "      <td>9.121935e-06</td>\n",
              "      <td>0.445572</td>\n",
              "      <td>0.003723</td>\n",
              "      <td>0.000014</td>\n",
              "      <td>0.344086</td>\n",
              "      <td>0.0</td>\n",
              "      <td>0.0</td>\n",
              "      <td>0.0</td>\n",
              "      <td>0.0</td>\n",
              "      <td>0.0</td>\n",
              "      <td>0.0</td>\n",
              "      <td>0.0</td>\n",
              "      <td>0.0</td>\n",
              "    </tr>\n",
              "    <tr>\n",
              "      <th>3</th>\n",
              "      <td>0.000000</td>\n",
              "      <td>0.939394</td>\n",
              "      <td>0.939394</td>\n",
              "      <td>0.939394</td>\n",
              "      <td>0.000000</td>\n",
              "      <td>0.939394</td>\n",
              "      <td>0.939394</td>\n",
              "      <td>0.894162</td>\n",
              "      <td>0.001221</td>\n",
              "      <td>0.352941</td>\n",
              "      <td>1.666668e-08</td>\n",
              "      <td>0.000005</td>\n",
              "      <td>0.000000</td>\n",
              "      <td>0.000000</td>\n",
              "      <td>0.000000e+00</td>\n",
              "      <td>0.000000</td>\n",
              "      <td>0.000000</td>\n",
              "      <td>0.000000</td>\n",
              "      <td>0.000000</td>\n",
              "      <td>0.000000</td>\n",
              "      <td>0.000000</td>\n",
              "      <td>0.000000</td>\n",
              "      <td>0.000000</td>\n",
              "      <td>0.005761</td>\n",
              "      <td>0.800000</td>\n",
              "      <td>1.748365e-08</td>\n",
              "      <td>0.000000</td>\n",
              "      <td>1.666741e-08</td>\n",
              "      <td>1.223856e-07</td>\n",
              "      <td>8.333345e-09</td>\n",
              "      <td>8.336039e-09</td>\n",
              "      <td>0.000000</td>\n",
              "      <td>8.333693e-09</td>\n",
              "      <td>1.667208e-08</td>\n",
              "      <td>0.000000</td>\n",
              "      <td>0.000000</td>\n",
              "      <td>0.00000</td>\n",
              "      <td>0.000000</td>\n",
              "      <td>0.000000e+00</td>\n",
              "      <td>0.0</td>\n",
              "      <td>0.0</td>\n",
              "      <td>0.000014</td>\n",
              "      <td>0.000000</td>\n",
              "      <td>0.666667</td>\n",
              "      <td>0.000000</td>\n",
              "      <td>0.000000</td>\n",
              "      <td>0.000000</td>\n",
              "      <td>0.000000</td>\n",
              "      <td>0.000000</td>\n",
              "      <td>0.000000e+00</td>\n",
              "      <td>0.0</td>\n",
              "      <td>0.0</td>\n",
              "      <td>0.0</td>\n",
              "      <td>0.0</td>\n",
              "      <td>1.0</td>\n",
              "      <td>0.0</td>\n",
              "      <td>0.0</td>\n",
              "      <td>0.0</td>\n",
              "      <td>0.000000</td>\n",
              "      <td>0.000000</td>\n",
              "      <td>0.000000</td>\n",
              "      <td>0.000000</td>\n",
              "      <td>0.000005</td>\n",
              "      <td>0.000000</td>\n",
              "      <td>0.000000</td>\n",
              "      <td>0.000000e+00</td>\n",
              "      <td>0.004196</td>\n",
              "      <td>0.000000</td>\n",
              "      <td>0.000000</td>\n",
              "      <td>0.344086</td>\n",
              "      <td>0.0</td>\n",
              "      <td>0.0</td>\n",
              "      <td>0.0</td>\n",
              "      <td>0.0</td>\n",
              "      <td>0.0</td>\n",
              "      <td>0.0</td>\n",
              "      <td>0.0</td>\n",
              "      <td>0.0</td>\n",
              "    </tr>\n",
              "    <tr>\n",
              "      <th>4</th>\n",
              "      <td>1.000000</td>\n",
              "      <td>0.000000</td>\n",
              "      <td>1.000000</td>\n",
              "      <td>0.000000</td>\n",
              "      <td>1.000000</td>\n",
              "      <td>1.000000</td>\n",
              "      <td>1.000000</td>\n",
              "      <td>0.722358</td>\n",
              "      <td>0.000656</td>\n",
              "      <td>0.352941</td>\n",
              "      <td>1.500001e-07</td>\n",
              "      <td>0.000000</td>\n",
              "      <td>0.000003</td>\n",
              "      <td>0.000002</td>\n",
              "      <td>9.153974e-09</td>\n",
              "      <td>0.000086</td>\n",
              "      <td>0.000969</td>\n",
              "      <td>0.000431</td>\n",
              "      <td>0.000000</td>\n",
              "      <td>0.000345</td>\n",
              "      <td>0.002796</td>\n",
              "      <td>0.001528</td>\n",
              "      <td>0.000000</td>\n",
              "      <td>0.005987</td>\n",
              "      <td>0.423529</td>\n",
              "      <td>1.573529e-07</td>\n",
              "      <td>0.000000</td>\n",
              "      <td>1.500067e-07</td>\n",
              "      <td>2.622548e-07</td>\n",
              "      <td>0.000000e+00</td>\n",
              "      <td>0.000000e+00</td>\n",
              "      <td>0.000000</td>\n",
              "      <td>0.000000e+00</td>\n",
              "      <td>8.336039e-09</td>\n",
              "      <td>0.000000</td>\n",
              "      <td>0.000000</td>\n",
              "      <td>0.00000</td>\n",
              "      <td>0.000000</td>\n",
              "      <td>0.000000e+00</td>\n",
              "      <td>0.0</td>\n",
              "      <td>0.0</td>\n",
              "      <td>0.000005</td>\n",
              "      <td>0.000003</td>\n",
              "      <td>0.019608</td>\n",
              "      <td>0.029412</td>\n",
              "      <td>0.005141</td>\n",
              "      <td>0.000257</td>\n",
              "      <td>0.001776</td>\n",
              "      <td>0.000523</td>\n",
              "      <td>2.736695e-07</td>\n",
              "      <td>0.0</td>\n",
              "      <td>0.0</td>\n",
              "      <td>0.0</td>\n",
              "      <td>1.0</td>\n",
              "      <td>0.0</td>\n",
              "      <td>0.0</td>\n",
              "      <td>0.0</td>\n",
              "      <td>0.0</td>\n",
              "      <td>0.142857</td>\n",
              "      <td>0.002418</td>\n",
              "      <td>0.000431</td>\n",
              "      <td>0.001528</td>\n",
              "      <td>0.000000</td>\n",
              "      <td>0.000002</td>\n",
              "      <td>0.000003</td>\n",
              "      <td>9.153974e-09</td>\n",
              "      <td>0.015640</td>\n",
              "      <td>0.000015</td>\n",
              "      <td>0.000000</td>\n",
              "      <td>0.258065</td>\n",
              "      <td>0.0</td>\n",
              "      <td>0.0</td>\n",
              "      <td>0.0</td>\n",
              "      <td>0.0</td>\n",
              "      <td>0.0</td>\n",
              "      <td>0.0</td>\n",
              "      <td>0.0</td>\n",
              "      <td>0.0</td>\n",
              "    </tr>\n",
              "  </tbody>\n",
              "</table>\n",
              "</div>"
            ],
            "text/plain": [
              "   dst sport count  src dport count  ...  Idle Max  Idle Min\n",
              "0         0.010101         0.262626  ...       0.0       0.0\n",
              "1         0.000000         0.797980  ...       0.0       0.0\n",
              "2         0.010101         0.505051  ...       0.0       0.0\n",
              "3         0.000000         0.939394  ...       0.0       0.0\n",
              "4         1.000000         0.000000  ...       0.0       0.0\n",
              "\n",
              "[5 rows x 78 columns]"
            ]
          },
          "metadata": {
            "tags": []
          },
          "execution_count": 86
        }
      ]
    },
    {
      "cell_type": "markdown",
      "metadata": {
        "id": "T9T8Abk2XhwI"
      },
      "source": [
        "Select a subset of features from the dataframe"
      ]
    },
    {
      "cell_type": "code",
      "metadata": {
        "colab": {
          "base_uri": "https://localhost:8080/",
          "height": 330
        },
        "id": "LFABov84XhwK",
        "outputId": "d63d6057-5abf-43db-b1e8-fbff6aec4779"
      },
      "source": [
        "df_knn_sub=df_knn_train.loc[:, features]\n",
        "df_knn_sub.head()"
      ],
      "execution_count": 87,
      "outputs": [
        {
          "output_type": "execute_result",
          "data": {
            "text/html": [
              "<div>\n",
              "<style scoped>\n",
              "    .dataframe tbody tr th:only-of-type {\n",
              "        vertical-align: middle;\n",
              "    }\n",
              "\n",
              "    .dataframe tbody tr th {\n",
              "        vertical-align: top;\n",
              "    }\n",
              "\n",
              "    .dataframe thead th {\n",
              "        text-align: right;\n",
              "    }\n",
              "</style>\n",
              "<table border=\"1\" class=\"dataframe\">\n",
              "  <thead>\n",
              "    <tr style=\"text-align: right;\">\n",
              "      <th></th>\n",
              "      <th>dst sport count</th>\n",
              "      <th>src dport count</th>\n",
              "      <th>dst src count</th>\n",
              "      <th>dport count</th>\n",
              "      <th>sport count</th>\n",
              "      <th>dst host count</th>\n",
              "      <th>src host count</th>\n",
              "      <th>Fwd Packet Length Max</th>\n",
              "      <th>Flow IAT Std</th>\n",
              "      <th>Fwd Packet Length Std</th>\n",
              "      <th>Fwd IAT Total</th>\n",
              "      <th>Flow Packets/s</th>\n",
              "      <th>Fwd Packet Length Mean</th>\n",
              "      <th>Flow Bytes/s</th>\n",
              "      <th>Flow IAT Mean</th>\n",
              "      <th>Bwd Packet Length Mean</th>\n",
              "      <th>Flow IAT Max</th>\n",
              "      <th>Bwd Packet Length Std</th>\n",
              "    </tr>\n",
              "  </thead>\n",
              "  <tbody>\n",
              "    <tr>\n",
              "      <th>0</th>\n",
              "      <td>0.0</td>\n",
              "      <td>0.353535</td>\n",
              "      <td>0.353535</td>\n",
              "      <td>0.474747</td>\n",
              "      <td>0.0</td>\n",
              "      <td>0.474747</td>\n",
              "      <td>0.808081</td>\n",
              "      <td>0.001894</td>\n",
              "      <td>0.000414</td>\n",
              "      <td>0.0</td>\n",
              "      <td>2.500000e-08</td>\n",
              "      <td>0.400013</td>\n",
              "      <td>0.007911</td>\n",
              "      <td>0.085287</td>\n",
              "      <td>1.691166e-04</td>\n",
              "      <td>0.025854</td>\n",
              "      <td>5.070749e-04</td>\n",
              "      <td>0.0</td>\n",
              "    </tr>\n",
              "    <tr>\n",
              "      <th>1</th>\n",
              "      <td>0.0</td>\n",
              "      <td>0.959596</td>\n",
              "      <td>0.959596</td>\n",
              "      <td>0.959596</td>\n",
              "      <td>0.0</td>\n",
              "      <td>0.959596</td>\n",
              "      <td>0.959596</td>\n",
              "      <td>0.000000</td>\n",
              "      <td>0.000000</td>\n",
              "      <td>0.0</td>\n",
              "      <td>1.666667e-08</td>\n",
              "      <td>0.600000</td>\n",
              "      <td>0.000000</td>\n",
              "      <td>0.085285</td>\n",
              "      <td>1.250000e-07</td>\n",
              "      <td>0.000000</td>\n",
              "      <td>1.250000e-07</td>\n",
              "      <td>0.0</td>\n",
              "    </tr>\n",
              "    <tr>\n",
              "      <th>2</th>\n",
              "      <td>0.0</td>\n",
              "      <td>0.000000</td>\n",
              "      <td>0.000000</td>\n",
              "      <td>0.252525</td>\n",
              "      <td>0.0</td>\n",
              "      <td>0.000000</td>\n",
              "      <td>0.000000</td>\n",
              "      <td>0.000322</td>\n",
              "      <td>0.000000</td>\n",
              "      <td>0.0</td>\n",
              "      <td>0.000000e+00</td>\n",
              "      <td>0.409091</td>\n",
              "      <td>0.001347</td>\n",
              "      <td>0.085365</td>\n",
              "      <td>4.749999e-07</td>\n",
              "      <td>0.000000</td>\n",
              "      <td>4.749999e-07</td>\n",
              "      <td>0.0</td>\n",
              "    </tr>\n",
              "    <tr>\n",
              "      <th>3</th>\n",
              "      <td>0.0</td>\n",
              "      <td>1.000000</td>\n",
              "      <td>1.000000</td>\n",
              "      <td>1.000000</td>\n",
              "      <td>0.0</td>\n",
              "      <td>1.000000</td>\n",
              "      <td>1.000000</td>\n",
              "      <td>0.000000</td>\n",
              "      <td>0.000000</td>\n",
              "      <td>0.0</td>\n",
              "      <td>1.666667e-08</td>\n",
              "      <td>0.600000</td>\n",
              "      <td>0.000000</td>\n",
              "      <td>0.085285</td>\n",
              "      <td>1.250000e-07</td>\n",
              "      <td>0.000000</td>\n",
              "      <td>1.250000e-07</td>\n",
              "      <td>0.0</td>\n",
              "    </tr>\n",
              "    <tr>\n",
              "      <th>4</th>\n",
              "      <td>0.0</td>\n",
              "      <td>1.000000</td>\n",
              "      <td>1.000000</td>\n",
              "      <td>1.000000</td>\n",
              "      <td>0.0</td>\n",
              "      <td>1.000000</td>\n",
              "      <td>1.000000</td>\n",
              "      <td>0.000242</td>\n",
              "      <td>0.025833</td>\n",
              "      <td>0.0</td>\n",
              "      <td>3.162778e-02</td>\n",
              "      <td>0.400000</td>\n",
              "      <td>0.001010</td>\n",
              "      <td>0.085285</td>\n",
              "      <td>1.054270e-02</td>\n",
              "      <td>0.000000</td>\n",
              "      <td>3.162206e-02</td>\n",
              "      <td>0.0</td>\n",
              "    </tr>\n",
              "  </tbody>\n",
              "</table>\n",
              "</div>"
            ],
            "text/plain": [
              "   dst sport count  src dport count  ...  Flow IAT Max  Bwd Packet Length Std\n",
              "0              0.0         0.353535  ...  5.070749e-04                    0.0\n",
              "1              0.0         0.959596  ...  1.250000e-07                    0.0\n",
              "2              0.0         0.000000  ...  4.749999e-07                    0.0\n",
              "3              0.0         1.000000  ...  1.250000e-07                    0.0\n",
              "4              0.0         1.000000  ...  3.162206e-02                    0.0\n",
              "\n",
              "[5 rows x 18 columns]"
            ]
          },
          "metadata": {
            "tags": []
          },
          "execution_count": 87
        }
      ]
    },
    {
      "cell_type": "code",
      "metadata": {
        "colab": {
          "base_uri": "https://localhost:8080/",
          "height": 330
        },
        "id": "zhVGlgN5XhwK",
        "outputId": "dd4f039f-1ee8-407c-e616-237212c3717a"
      },
      "source": [
        "df_knn_test_sub=df_knn_test.loc[:, features]\n",
        "df_knn_test_sub.head()"
      ],
      "execution_count": 88,
      "outputs": [
        {
          "output_type": "execute_result",
          "data": {
            "text/html": [
              "<div>\n",
              "<style scoped>\n",
              "    .dataframe tbody tr th:only-of-type {\n",
              "        vertical-align: middle;\n",
              "    }\n",
              "\n",
              "    .dataframe tbody tr th {\n",
              "        vertical-align: top;\n",
              "    }\n",
              "\n",
              "    .dataframe thead th {\n",
              "        text-align: right;\n",
              "    }\n",
              "</style>\n",
              "<table border=\"1\" class=\"dataframe\">\n",
              "  <thead>\n",
              "    <tr style=\"text-align: right;\">\n",
              "      <th></th>\n",
              "      <th>dst sport count</th>\n",
              "      <th>src dport count</th>\n",
              "      <th>dst src count</th>\n",
              "      <th>dport count</th>\n",
              "      <th>sport count</th>\n",
              "      <th>dst host count</th>\n",
              "      <th>src host count</th>\n",
              "      <th>Fwd Packet Length Max</th>\n",
              "      <th>Flow IAT Std</th>\n",
              "      <th>Fwd Packet Length Std</th>\n",
              "      <th>Fwd IAT Total</th>\n",
              "      <th>Flow Packets/s</th>\n",
              "      <th>Fwd Packet Length Mean</th>\n",
              "      <th>Flow Bytes/s</th>\n",
              "      <th>Flow IAT Mean</th>\n",
              "      <th>Bwd Packet Length Mean</th>\n",
              "      <th>Flow IAT Max</th>\n",
              "      <th>Bwd Packet Length Std</th>\n",
              "    </tr>\n",
              "  </thead>\n",
              "  <tbody>\n",
              "    <tr>\n",
              "      <th>0</th>\n",
              "      <td>0.010101</td>\n",
              "      <td>0.262626</td>\n",
              "      <td>0.010101</td>\n",
              "      <td>0.353535</td>\n",
              "      <td>0.010101</td>\n",
              "      <td>0.010101</td>\n",
              "      <td>0.343434</td>\n",
              "      <td>0.002269</td>\n",
              "      <td>0.000000</td>\n",
              "      <td>0.005259</td>\n",
              "      <td>2.500004e-08</td>\n",
              "      <td>0.533333</td>\n",
              "      <td>0.005713</td>\n",
              "      <td>0.014242</td>\n",
              "      <td>3.496731e-08</td>\n",
              "      <td>0.000000</td>\n",
              "      <td>3.333483e-08</td>\n",
              "      <td>0.000000</td>\n",
              "    </tr>\n",
              "    <tr>\n",
              "      <th>1</th>\n",
              "      <td>0.000000</td>\n",
              "      <td>0.797980</td>\n",
              "      <td>0.020202</td>\n",
              "      <td>0.818182</td>\n",
              "      <td>0.000000</td>\n",
              "      <td>0.020202</td>\n",
              "      <td>0.838384</td>\n",
              "      <td>0.029580</td>\n",
              "      <td>0.002727</td>\n",
              "      <td>0.042196</td>\n",
              "      <td>1.141421e-02</td>\n",
              "      <td>0.400003</td>\n",
              "      <td>0.043832</td>\n",
              "      <td>0.005764</td>\n",
              "      <td>5.701852e-04</td>\n",
              "      <td>0.161079</td>\n",
              "      <td>8.925566e-03</td>\n",
              "      <td>0.089580</td>\n",
              "    </tr>\n",
              "    <tr>\n",
              "      <th>2</th>\n",
              "      <td>0.010101</td>\n",
              "      <td>0.505051</td>\n",
              "      <td>0.494949</td>\n",
              "      <td>0.656566</td>\n",
              "      <td>0.010101</td>\n",
              "      <td>0.494949</td>\n",
              "      <td>0.545455</td>\n",
              "      <td>0.022132</td>\n",
              "      <td>0.001325</td>\n",
              "      <td>0.030900</td>\n",
              "      <td>6.807018e-03</td>\n",
              "      <td>0.400004</td>\n",
              "      <td>0.029502</td>\n",
              "      <td>0.005765</td>\n",
              "      <td>4.761533e-04</td>\n",
              "      <td>0.169159</td>\n",
              "      <td>2.265493e-03</td>\n",
              "      <td>0.111552</td>\n",
              "    </tr>\n",
              "    <tr>\n",
              "      <th>3</th>\n",
              "      <td>0.000000</td>\n",
              "      <td>0.939394</td>\n",
              "      <td>0.939394</td>\n",
              "      <td>0.939394</td>\n",
              "      <td>0.000000</td>\n",
              "      <td>0.939394</td>\n",
              "      <td>0.939394</td>\n",
              "      <td>0.000000</td>\n",
              "      <td>0.000000</td>\n",
              "      <td>0.000000</td>\n",
              "      <td>8.333345e-09</td>\n",
              "      <td>0.800000</td>\n",
              "      <td>0.000000</td>\n",
              "      <td>0.005761</td>\n",
              "      <td>1.748365e-08</td>\n",
              "      <td>0.000000</td>\n",
              "      <td>1.666741e-08</td>\n",
              "      <td>0.000000</td>\n",
              "    </tr>\n",
              "    <tr>\n",
              "      <th>4</th>\n",
              "      <td>1.000000</td>\n",
              "      <td>0.000000</td>\n",
              "      <td>1.000000</td>\n",
              "      <td>0.000000</td>\n",
              "      <td>1.000000</td>\n",
              "      <td>1.000000</td>\n",
              "      <td>1.000000</td>\n",
              "      <td>0.000086</td>\n",
              "      <td>0.000000</td>\n",
              "      <td>0.000000</td>\n",
              "      <td>0.000000e+00</td>\n",
              "      <td>0.423529</td>\n",
              "      <td>0.000431</td>\n",
              "      <td>0.005987</td>\n",
              "      <td>1.573529e-07</td>\n",
              "      <td>0.001528</td>\n",
              "      <td>1.500067e-07</td>\n",
              "      <td>0.000000</td>\n",
              "    </tr>\n",
              "  </tbody>\n",
              "</table>\n",
              "</div>"
            ],
            "text/plain": [
              "   dst sport count  src dport count  ...  Flow IAT Max  Bwd Packet Length Std\n",
              "0         0.010101         0.262626  ...  3.333483e-08               0.000000\n",
              "1         0.000000         0.797980  ...  8.925566e-03               0.089580\n",
              "2         0.010101         0.505051  ...  2.265493e-03               0.111552\n",
              "3         0.000000         0.939394  ...  1.666741e-08               0.000000\n",
              "4         1.000000         0.000000  ...  1.500067e-07               0.000000\n",
              "\n",
              "[5 rows x 18 columns]"
            ]
          },
          "metadata": {
            "tags": []
          },
          "execution_count": 88
        }
      ]
    },
    {
      "cell_type": "markdown",
      "metadata": {
        "id": "k59G_b79XhwK"
      },
      "source": [
        "Convert dataframes to numpy array"
      ]
    },
    {
      "cell_type": "code",
      "metadata": {
        "id": "IJHMos8rXhwK"
      },
      "source": [
        "X_train_knn = df_knn_sub.to_numpy()\n",
        "X_test_knn = df_knn_test_sub.to_numpy()"
      ],
      "execution_count": 89,
      "outputs": []
    },
    {
      "cell_type": "code",
      "metadata": {
        "colab": {
          "base_uri": "https://localhost:8080/"
        },
        "id": "8hAzqyPsXhwK",
        "outputId": "0b265558-60bd-40fb-bf50-9e96c78ea0fa"
      },
      "source": [
        "for i in range(5,X_train_knn.shape[1]+1):\n",
        "    knn=KNeighborsClassifier(n_neighbors=i)\n",
        "    model_knn=knn.fit(X_train_knn,y_train)\n",
        "    y_pred=model_knn.predict(X_test_knn)\n",
        "    print(\"for \" , i,  \" as K, accuracy is : \", accuracy_score(y_test, y_pred))\n",
        "    display_metrics(y_test, y_pred, labels_d)"
      ],
      "execution_count": 90,
      "outputs": [
        {
          "output_type": "stream",
          "text": [
            "for  5  as K, accuracy is :  0.9452799609014234\n",
            "\n",
            "Accuracy: 0.95\n",
            "\n",
            "Micro Precision: 0.95\n",
            "Micro Recall: 0.95\n",
            "Micro F1-score: 0.95\n",
            "\n"
          ],
          "name": "stdout"
        },
        {
          "output_type": "stream",
          "text": [
            "/usr/local/lib/python3.6/dist-packages/sklearn/metrics/_classification.py:1272: UndefinedMetricWarning: Precision is ill-defined and being set to 0.0 in labels with no predicted samples. Use `zero_division` parameter to control this behavior.\n",
            "  _warn_prf(average, modifier, msg_start, len(result))\n"
          ],
          "name": "stderr"
        },
        {
          "output_type": "stream",
          "text": [
            "Macro Precision: 0.59\n",
            "Macro Recall: 0.64\n",
            "Macro F1-score: 0.60\n",
            "\n",
            "Weighted Precision: 0.95\n",
            "Weighted Recall: 0.95\n",
            "Weighted F1-score: 0.94\n",
            "\n",
            "Classification Report\n",
            "\n"
          ],
          "name": "stdout"
        },
        {
          "output_type": "stream",
          "text": [
            "/usr/local/lib/python3.6/dist-packages/sklearn/metrics/_classification.py:1272: UndefinedMetricWarning: Precision and F-score are ill-defined and being set to 0.0 in labels with no predicted samples. Use `zero_division` parameter to control this behavior.\n",
            "  _warn_prf(average, modifier, msg_start, len(result))\n",
            "/usr/local/lib/python3.6/dist-packages/sklearn/metrics/_classification.py:1272: UndefinedMetricWarning: Precision and F-score are ill-defined and being set to 0.0 in samples with no predicted labels. Use `zero_division` parameter to control this behavior.\n",
            "  _warn_prf(average, modifier, msg_start, len(result))\n"
          ],
          "name": "stderr"
        },
        {
          "output_type": "stream",
          "text": [
            "                            precision    recall  f1-score   support\n",
            "\n",
            "                    BENIGN       0.96      0.98      0.97    139135\n",
            "                       Bot       0.15      0.01      0.02       489\n",
            "                      DDoS       0.99      0.86      0.92     32006\n",
            "             DoS GoldenEye       0.73      0.95      0.83      2573\n",
            "                  DoS Hulk       0.91      0.93      0.92     57531\n",
            "          DoS Slowhttptest       0.81      0.98      0.89      1374\n",
            "             DoS slowloris       0.23      0.22      0.23      1449\n",
            "               FTP-Patator       0.73      0.86      0.79      1983\n",
            "                Heartbleed       0.75      1.00      0.86         3\n",
            "              Infiltration       0.00      0.00      0.00         9\n",
            "                  PortScan       1.00      0.96      0.98     39701\n",
            "               SSH-Patator       0.89      0.88      0.88      1474\n",
            "  Web Attack � Brute Force       0.40      0.56      0.47       376\n",
            "Web Attack � Sql Injection       0.00      0.00      0.00         5\n",
            "          Web Attack � XSS       0.26      0.33      0.29       163\n",
            "\n",
            "                 micro avg       0.95      0.95      0.95    278271\n",
            "                 macro avg       0.59      0.64      0.60    278271\n",
            "              weighted avg       0.95      0.95      0.94    278271\n",
            "               samples avg       0.95      0.95      0.95    278271\n",
            "\n",
            "for  6  as K, accuracy is :  0.9433933108372773\n",
            "\n",
            "Accuracy: 0.94\n",
            "\n",
            "Micro Precision: 0.95\n",
            "Micro Recall: 0.94\n",
            "Micro F1-score: 0.95\n",
            "\n"
          ],
          "name": "stdout"
        },
        {
          "output_type": "stream",
          "text": [
            "/usr/local/lib/python3.6/dist-packages/sklearn/metrics/_classification.py:1272: UndefinedMetricWarning: Precision is ill-defined and being set to 0.0 in labels with no predicted samples. Use `zero_division` parameter to control this behavior.\n",
            "  _warn_prf(average, modifier, msg_start, len(result))\n"
          ],
          "name": "stderr"
        },
        {
          "output_type": "stream",
          "text": [
            "Macro Precision: 0.60\n",
            "Macro Recall: 0.63\n",
            "Macro F1-score: 0.60\n",
            "\n",
            "Weighted Precision: 0.95\n",
            "Weighted Recall: 0.94\n",
            "Weighted F1-score: 0.94\n",
            "\n",
            "Classification Report\n",
            "\n"
          ],
          "name": "stdout"
        },
        {
          "output_type": "stream",
          "text": [
            "/usr/local/lib/python3.6/dist-packages/sklearn/metrics/_classification.py:1272: UndefinedMetricWarning: Precision and F-score are ill-defined and being set to 0.0 in labels with no predicted samples. Use `zero_division` parameter to control this behavior.\n",
            "  _warn_prf(average, modifier, msg_start, len(result))\n",
            "/usr/local/lib/python3.6/dist-packages/sklearn/metrics/_classification.py:1272: UndefinedMetricWarning: Precision and F-score are ill-defined and being set to 0.0 in samples with no predicted labels. Use `zero_division` parameter to control this behavior.\n",
            "  _warn_prf(average, modifier, msg_start, len(result))\n"
          ],
          "name": "stderr"
        },
        {
          "output_type": "stream",
          "text": [
            "                            precision    recall  f1-score   support\n",
            "\n",
            "                    BENIGN       0.96      0.98      0.97    139135\n",
            "                       Bot       0.25      0.01      0.02       489\n",
            "                      DDoS       0.99      0.86      0.92     32006\n",
            "             DoS GoldenEye       0.77      0.95      0.85      2573\n",
            "                  DoS Hulk       0.91      0.93      0.92     57531\n",
            "          DoS Slowhttptest       0.81      0.98      0.89      1374\n",
            "             DoS slowloris       0.25      0.22      0.23      1449\n",
            "               FTP-Patator       0.73      0.85      0.78      1983\n",
            "                Heartbleed       0.75      1.00      0.86         3\n",
            "              Infiltration       0.00      0.00      0.00         9\n",
            "                  PortScan       1.00      0.96      0.98     39701\n",
            "               SSH-Patator       0.89      0.87      0.88      1474\n",
            "  Web Attack � Brute Force       0.42      0.53      0.47       376\n",
            "Web Attack � Sql Injection       0.00      0.00      0.00         5\n",
            "          Web Attack � XSS       0.27      0.32      0.29       163\n",
            "\n",
            "                 micro avg       0.95      0.94      0.95    278271\n",
            "                 macro avg       0.60      0.63      0.60    278271\n",
            "              weighted avg       0.95      0.94      0.94    278271\n",
            "               samples avg       0.94      0.94      0.94    278271\n",
            "\n",
            "for  7  as K, accuracy is :  0.9456105738650452\n",
            "\n",
            "Accuracy: 0.95\n",
            "\n",
            "Micro Precision: 0.95\n",
            "Micro Recall: 0.95\n",
            "Micro F1-score: 0.95\n",
            "\n"
          ],
          "name": "stdout"
        },
        {
          "output_type": "stream",
          "text": [
            "/usr/local/lib/python3.6/dist-packages/sklearn/metrics/_classification.py:1272: UndefinedMetricWarning: Precision is ill-defined and being set to 0.0 in labels with no predicted samples. Use `zero_division` parameter to control this behavior.\n",
            "  _warn_prf(average, modifier, msg_start, len(result))\n"
          ],
          "name": "stderr"
        },
        {
          "output_type": "stream",
          "text": [
            "Macro Precision: 0.59\n",
            "Macro Recall: 0.64\n",
            "Macro F1-score: 0.60\n",
            "\n",
            "Weighted Precision: 0.95\n",
            "Weighted Recall: 0.95\n",
            "Weighted F1-score: 0.95\n",
            "\n",
            "Classification Report\n",
            "\n"
          ],
          "name": "stdout"
        },
        {
          "output_type": "stream",
          "text": [
            "/usr/local/lib/python3.6/dist-packages/sklearn/metrics/_classification.py:1272: UndefinedMetricWarning: Precision and F-score are ill-defined and being set to 0.0 in labels with no predicted samples. Use `zero_division` parameter to control this behavior.\n",
            "  _warn_prf(average, modifier, msg_start, len(result))\n",
            "/usr/local/lib/python3.6/dist-packages/sklearn/metrics/_classification.py:1272: UndefinedMetricWarning: Precision and F-score are ill-defined and being set to 0.0 in samples with no predicted labels. Use `zero_division` parameter to control this behavior.\n",
            "  _warn_prf(average, modifier, msg_start, len(result))\n"
          ],
          "name": "stderr"
        },
        {
          "output_type": "stream",
          "text": [
            "                            precision    recall  f1-score   support\n",
            "\n",
            "                    BENIGN       0.96      0.98      0.97    139135\n",
            "                       Bot       0.22      0.02      0.03       489\n",
            "                      DDoS       0.99      0.86      0.92     32006\n",
            "             DoS GoldenEye       0.75      0.95      0.84      2573\n",
            "                  DoS Hulk       0.91      0.93      0.92     57531\n",
            "          DoS Slowhttptest       0.81      0.98      0.89      1374\n",
            "             DoS slowloris       0.22      0.23      0.22      1449\n",
            "               FTP-Patator       0.72      0.85      0.78      1983\n",
            "                Heartbleed       0.75      1.00      0.86         3\n",
            "              Infiltration       0.00      0.00      0.00         9\n",
            "                  PortScan       1.00      0.96      0.98     39701\n",
            "               SSH-Patator       0.88      0.88      0.88      1474\n",
            "  Web Attack � Brute Force       0.40      0.56      0.46       376\n",
            "Web Attack � Sql Injection       0.00      0.00      0.00         5\n",
            "          Web Attack � XSS       0.25      0.33      0.29       163\n",
            "\n",
            "                 micro avg       0.95      0.95      0.95    278271\n",
            "                 macro avg       0.59      0.64      0.60    278271\n",
            "              weighted avg       0.95      0.95      0.95    278271\n",
            "               samples avg       0.95      0.95      0.95    278271\n",
            "\n",
            "for  8  as K, accuracy is :  0.9437239238008991\n",
            "\n",
            "Accuracy: 0.94\n",
            "\n",
            "Micro Precision: 0.95\n",
            "Micro Recall: 0.94\n",
            "Micro F1-score: 0.95\n",
            "\n"
          ],
          "name": "stdout"
        },
        {
          "output_type": "stream",
          "text": [
            "/usr/local/lib/python3.6/dist-packages/sklearn/metrics/_classification.py:1272: UndefinedMetricWarning: Precision is ill-defined and being set to 0.0 in labels with no predicted samples. Use `zero_division` parameter to control this behavior.\n",
            "  _warn_prf(average, modifier, msg_start, len(result))\n"
          ],
          "name": "stderr"
        },
        {
          "output_type": "stream",
          "text": [
            "Macro Precision: 0.60\n",
            "Macro Recall: 0.63\n",
            "Macro F1-score: 0.61\n",
            "\n",
            "Weighted Precision: 0.95\n",
            "Weighted Recall: 0.94\n",
            "Weighted F1-score: 0.95\n",
            "\n",
            "Classification Report\n",
            "\n"
          ],
          "name": "stdout"
        },
        {
          "output_type": "stream",
          "text": [
            "/usr/local/lib/python3.6/dist-packages/sklearn/metrics/_classification.py:1272: UndefinedMetricWarning: Precision and F-score are ill-defined and being set to 0.0 in labels with no predicted samples. Use `zero_division` parameter to control this behavior.\n",
            "  _warn_prf(average, modifier, msg_start, len(result))\n",
            "/usr/local/lib/python3.6/dist-packages/sklearn/metrics/_classification.py:1272: UndefinedMetricWarning: Precision and F-score are ill-defined and being set to 0.0 in samples with no predicted labels. Use `zero_division` parameter to control this behavior.\n",
            "  _warn_prf(average, modifier, msg_start, len(result))\n"
          ],
          "name": "stderr"
        },
        {
          "output_type": "stream",
          "text": [
            "                            precision    recall  f1-score   support\n",
            "\n",
            "                    BENIGN       0.96      0.98      0.97    139135\n",
            "                       Bot       0.27      0.02      0.03       489\n",
            "                      DDoS       0.99      0.86      0.92     32006\n",
            "             DoS GoldenEye       0.79      0.94      0.86      2573\n",
            "                  DoS Hulk       0.91      0.93      0.92     57531\n",
            "          DoS Slowhttptest       0.81      0.98      0.88      1374\n",
            "             DoS slowloris       0.23      0.22      0.23      1449\n",
            "               FTP-Patator       0.72      0.85      0.78      1983\n",
            "                Heartbleed       0.75      1.00      0.86         3\n",
            "              Infiltration       0.00      0.00      0.00         9\n",
            "                  PortScan       1.00      0.96      0.98     39701\n",
            "               SSH-Patator       0.89      0.86      0.88      1474\n",
            "  Web Attack � Brute Force       0.44      0.52      0.48       376\n",
            "Web Attack � Sql Injection       0.00      0.00      0.00         5\n",
            "          Web Attack � XSS       0.28      0.31      0.29       163\n",
            "\n",
            "                 micro avg       0.95      0.94      0.95    278271\n",
            "                 macro avg       0.60      0.63      0.61    278271\n",
            "              weighted avg       0.95      0.94      0.95    278271\n",
            "               samples avg       0.94      0.94      0.94    278271\n",
            "\n",
            "for  9  as K, accuracy is :  0.9453338651889704\n",
            "\n",
            "Accuracy: 0.95\n",
            "\n",
            "Micro Precision: 0.95\n",
            "Micro Recall: 0.95\n",
            "Micro F1-score: 0.95\n",
            "\n"
          ],
          "name": "stdout"
        },
        {
          "output_type": "stream",
          "text": [
            "/usr/local/lib/python3.6/dist-packages/sklearn/metrics/_classification.py:1272: UndefinedMetricWarning: Precision is ill-defined and being set to 0.0 in labels with no predicted samples. Use `zero_division` parameter to control this behavior.\n",
            "  _warn_prf(average, modifier, msg_start, len(result))\n"
          ],
          "name": "stderr"
        },
        {
          "output_type": "stream",
          "text": [
            "Macro Precision: 0.60\n",
            "Macro Recall: 0.64\n",
            "Macro F1-score: 0.60\n",
            "\n",
            "Weighted Precision: 0.95\n",
            "Weighted Recall: 0.95\n",
            "Weighted F1-score: 0.95\n",
            "\n",
            "Classification Report\n",
            "\n"
          ],
          "name": "stdout"
        },
        {
          "output_type": "stream",
          "text": [
            "/usr/local/lib/python3.6/dist-packages/sklearn/metrics/_classification.py:1272: UndefinedMetricWarning: Precision and F-score are ill-defined and being set to 0.0 in labels with no predicted samples. Use `zero_division` parameter to control this behavior.\n",
            "  _warn_prf(average, modifier, msg_start, len(result))\n",
            "/usr/local/lib/python3.6/dist-packages/sklearn/metrics/_classification.py:1272: UndefinedMetricWarning: Precision and F-score are ill-defined and being set to 0.0 in samples with no predicted labels. Use `zero_division` parameter to control this behavior.\n",
            "  _warn_prf(average, modifier, msg_start, len(result))\n"
          ],
          "name": "stderr"
        },
        {
          "output_type": "stream",
          "text": [
            "                            precision    recall  f1-score   support\n",
            "\n",
            "                    BENIGN       0.96      0.98      0.97    139135\n",
            "                       Bot       0.24      0.02      0.03       489\n",
            "                      DDoS       0.99      0.86      0.92     32006\n",
            "             DoS GoldenEye       0.75      0.94      0.84      2573\n",
            "                  DoS Hulk       0.91      0.93      0.92     57531\n",
            "          DoS Slowhttptest       0.80      0.98      0.88      1374\n",
            "             DoS slowloris       0.23      0.26      0.24      1449\n",
            "               FTP-Patator       0.72      0.86      0.78      1983\n",
            "                Heartbleed       0.75      1.00      0.86         3\n",
            "              Infiltration       0.00      0.00      0.00         9\n",
            "                  PortScan       1.00      0.96      0.98     39701\n",
            "               SSH-Patator       0.88      0.87      0.88      1474\n",
            "  Web Attack � Brute Force       0.42      0.54      0.48       376\n",
            "Web Attack � Sql Injection       0.00      0.00      0.00         5\n",
            "          Web Attack � XSS       0.27      0.33      0.30       163\n",
            "\n",
            "                 micro avg       0.95      0.95      0.95    278271\n",
            "                 macro avg       0.60      0.64      0.60    278271\n",
            "              weighted avg       0.95      0.95      0.95    278271\n",
            "               samples avg       0.95      0.95      0.95    278271\n",
            "\n",
            "for  10  as K, accuracy is :  0.9430303553011273\n",
            "\n",
            "Accuracy: 0.94\n",
            "\n",
            "Micro Precision: 0.95\n",
            "Micro Recall: 0.94\n",
            "Micro F1-score: 0.95\n",
            "\n"
          ],
          "name": "stdout"
        },
        {
          "output_type": "stream",
          "text": [
            "/usr/local/lib/python3.6/dist-packages/sklearn/metrics/_classification.py:1272: UndefinedMetricWarning: Precision is ill-defined and being set to 0.0 in labels with no predicted samples. Use `zero_division` parameter to control this behavior.\n",
            "  _warn_prf(average, modifier, msg_start, len(result))\n"
          ],
          "name": "stderr"
        },
        {
          "output_type": "stream",
          "text": [
            "Macro Precision: 0.56\n",
            "Macro Recall: 0.56\n",
            "Macro F1-score: 0.55\n",
            "\n",
            "Weighted Precision: 0.95\n",
            "Weighted Recall: 0.94\n",
            "Weighted F1-score: 0.95\n",
            "\n",
            "Classification Report\n",
            "\n"
          ],
          "name": "stdout"
        },
        {
          "output_type": "stream",
          "text": [
            "/usr/local/lib/python3.6/dist-packages/sklearn/metrics/_classification.py:1272: UndefinedMetricWarning: Precision and F-score are ill-defined and being set to 0.0 in labels with no predicted samples. Use `zero_division` parameter to control this behavior.\n",
            "  _warn_prf(average, modifier, msg_start, len(result))\n",
            "/usr/local/lib/python3.6/dist-packages/sklearn/metrics/_classification.py:1272: UndefinedMetricWarning: Precision and F-score are ill-defined and being set to 0.0 in samples with no predicted labels. Use `zero_division` parameter to control this behavior.\n",
            "  _warn_prf(average, modifier, msg_start, len(result))\n"
          ],
          "name": "stderr"
        },
        {
          "output_type": "stream",
          "text": [
            "                            precision    recall  f1-score   support\n",
            "\n",
            "                    BENIGN       0.96      0.98      0.97    139135\n",
            "                       Bot       0.30      0.02      0.03       489\n",
            "                      DDoS       0.99      0.86      0.92     32006\n",
            "             DoS GoldenEye       0.79      0.94      0.86      2573\n",
            "                  DoS Hulk       0.91      0.93      0.92     57531\n",
            "          DoS Slowhttptest       0.80      0.98      0.88      1374\n",
            "             DoS slowloris       0.24      0.26      0.25      1449\n",
            "               FTP-Patator       0.72      0.85      0.78      1983\n",
            "                Heartbleed       0.00      0.00      0.00         3\n",
            "              Infiltration       0.00      0.00      0.00         9\n",
            "                  PortScan       1.00      0.96      0.98     39701\n",
            "               SSH-Patator       0.89      0.87      0.88      1474\n",
            "  Web Attack � Brute Force       0.45      0.52      0.48       376\n",
            "Web Attack � Sql Injection       0.00      0.00      0.00         5\n",
            "          Web Attack � XSS       0.32      0.31      0.32       163\n",
            "\n",
            "                 micro avg       0.95      0.94      0.95    278271\n",
            "                 macro avg       0.56      0.56      0.55    278271\n",
            "              weighted avg       0.95      0.94      0.95    278271\n",
            "               samples avg       0.94      0.94      0.94    278271\n",
            "\n",
            "for  11  as K, accuracy is :  0.9454308929065551\n",
            "\n",
            "Accuracy: 0.95\n",
            "\n",
            "Micro Precision: 0.95\n",
            "Micro Recall: 0.95\n",
            "Micro F1-score: 0.95\n",
            "\n"
          ],
          "name": "stdout"
        },
        {
          "output_type": "stream",
          "text": [
            "/usr/local/lib/python3.6/dist-packages/sklearn/metrics/_classification.py:1272: UndefinedMetricWarning: Precision is ill-defined and being set to 0.0 in labels with no predicted samples. Use `zero_division` parameter to control this behavior.\n",
            "  _warn_prf(average, modifier, msg_start, len(result))\n"
          ],
          "name": "stderr"
        },
        {
          "output_type": "stream",
          "text": [
            "Macro Precision: 0.55\n",
            "Macro Recall: 0.57\n",
            "Macro F1-score: 0.55\n",
            "\n",
            "Weighted Precision: 0.95\n",
            "Weighted Recall: 0.95\n",
            "Weighted F1-score: 0.95\n",
            "\n",
            "Classification Report\n",
            "\n"
          ],
          "name": "stdout"
        },
        {
          "output_type": "stream",
          "text": [
            "/usr/local/lib/python3.6/dist-packages/sklearn/metrics/_classification.py:1272: UndefinedMetricWarning: Precision and F-score are ill-defined and being set to 0.0 in labels with no predicted samples. Use `zero_division` parameter to control this behavior.\n",
            "  _warn_prf(average, modifier, msg_start, len(result))\n",
            "/usr/local/lib/python3.6/dist-packages/sklearn/metrics/_classification.py:1272: UndefinedMetricWarning: Precision and F-score are ill-defined and being set to 0.0 in samples with no predicted labels. Use `zero_division` parameter to control this behavior.\n",
            "  _warn_prf(average, modifier, msg_start, len(result))\n"
          ],
          "name": "stderr"
        },
        {
          "output_type": "stream",
          "text": [
            "                            precision    recall  f1-score   support\n",
            "\n",
            "                    BENIGN       0.96      0.98      0.97    139135\n",
            "                       Bot       0.27      0.02      0.03       489\n",
            "                      DDoS       0.99      0.86      0.92     32006\n",
            "             DoS GoldenEye       0.79      0.94      0.86      2573\n",
            "                  DoS Hulk       0.91      0.93      0.92     57531\n",
            "          DoS Slowhttptest       0.80      0.98      0.88      1374\n",
            "             DoS slowloris       0.23      0.27      0.24      1449\n",
            "               FTP-Patator       0.71      0.85      0.78      1983\n",
            "                Heartbleed       0.00      0.00      0.00         3\n",
            "              Infiltration       0.00      0.00      0.00         9\n",
            "                  PortScan       1.00      0.97      0.98     39701\n",
            "               SSH-Patator       0.88      0.89      0.88      1474\n",
            "  Web Attack � Brute Force       0.45      0.58      0.51       376\n",
            "Web Attack � Sql Injection       0.00      0.00      0.00         5\n",
            "          Web Attack � XSS       0.30      0.32      0.31       163\n",
            "\n",
            "                 micro avg       0.95      0.95      0.95    278271\n",
            "                 macro avg       0.55      0.57      0.55    278271\n",
            "              weighted avg       0.95      0.95      0.95    278271\n",
            "               samples avg       0.95      0.95      0.95    278271\n",
            "\n",
            "for  12  as K, accuracy is :  0.9436340833216541\n",
            "\n",
            "Accuracy: 0.94\n",
            "\n",
            "Micro Precision: 0.95\n",
            "Micro Recall: 0.94\n",
            "Micro F1-score: 0.95\n",
            "\n"
          ],
          "name": "stdout"
        },
        {
          "output_type": "stream",
          "text": [
            "/usr/local/lib/python3.6/dist-packages/sklearn/metrics/_classification.py:1272: UndefinedMetricWarning: Precision is ill-defined and being set to 0.0 in labels with no predicted samples. Use `zero_division` parameter to control this behavior.\n",
            "  _warn_prf(average, modifier, msg_start, len(result))\n"
          ],
          "name": "stderr"
        },
        {
          "output_type": "stream",
          "text": [
            "Macro Precision: 0.56\n",
            "Macro Recall: 0.56\n",
            "Macro F1-score: 0.55\n",
            "\n",
            "Weighted Precision: 0.95\n",
            "Weighted Recall: 0.94\n",
            "Weighted F1-score: 0.95\n",
            "\n",
            "Classification Report\n",
            "\n"
          ],
          "name": "stdout"
        },
        {
          "output_type": "stream",
          "text": [
            "/usr/local/lib/python3.6/dist-packages/sklearn/metrics/_classification.py:1272: UndefinedMetricWarning: Precision and F-score are ill-defined and being set to 0.0 in labels with no predicted samples. Use `zero_division` parameter to control this behavior.\n",
            "  _warn_prf(average, modifier, msg_start, len(result))\n",
            "/usr/local/lib/python3.6/dist-packages/sklearn/metrics/_classification.py:1272: UndefinedMetricWarning: Precision and F-score are ill-defined and being set to 0.0 in samples with no predicted labels. Use `zero_division` parameter to control this behavior.\n",
            "  _warn_prf(average, modifier, msg_start, len(result))\n"
          ],
          "name": "stderr"
        },
        {
          "output_type": "stream",
          "text": [
            "                            precision    recall  f1-score   support\n",
            "\n",
            "                    BENIGN       0.96      0.98      0.97    139135\n",
            "                       Bot       0.28      0.01      0.02       489\n",
            "                      DDoS       0.99      0.86      0.92     32006\n",
            "             DoS GoldenEye       0.84      0.93      0.88      2573\n",
            "                  DoS Hulk       0.91      0.92      0.92     57531\n",
            "          DoS Slowhttptest       0.81      0.98      0.89      1374\n",
            "             DoS slowloris       0.23      0.26      0.25      1449\n",
            "               FTP-Patator       0.71      0.84      0.77      1983\n",
            "                Heartbleed       0.00      0.00      0.00         3\n",
            "              Infiltration       0.00      0.00      0.00         9\n",
            "                  PortScan       1.00      0.97      0.98     39701\n",
            "               SSH-Patator       0.88      0.88      0.88      1474\n",
            "  Web Attack � Brute Force       0.43      0.49      0.45       376\n",
            "Web Attack � Sql Injection       0.00      0.00      0.00         5\n",
            "          Web Attack � XSS       0.31      0.29      0.30       163\n",
            "\n",
            "                 micro avg       0.95      0.94      0.95    278271\n",
            "                 macro avg       0.56      0.56      0.55    278271\n",
            "              weighted avg       0.95      0.94      0.95    278271\n",
            "               samples avg       0.94      0.94      0.94    278271\n",
            "\n",
            "for  13  as K, accuracy is :  0.9451793395646689\n",
            "\n",
            "Accuracy: 0.95\n",
            "\n",
            "Micro Precision: 0.95\n",
            "Micro Recall: 0.95\n",
            "Micro F1-score: 0.95\n",
            "\n"
          ],
          "name": "stdout"
        },
        {
          "output_type": "stream",
          "text": [
            "/usr/local/lib/python3.6/dist-packages/sklearn/metrics/_classification.py:1272: UndefinedMetricWarning: Precision is ill-defined and being set to 0.0 in labels with no predicted samples. Use `zero_division` parameter to control this behavior.\n",
            "  _warn_prf(average, modifier, msg_start, len(result))\n"
          ],
          "name": "stderr"
        },
        {
          "output_type": "stream",
          "text": [
            "Macro Precision: 0.55\n",
            "Macro Recall: 0.56\n",
            "Macro F1-score: 0.55\n",
            "\n",
            "Weighted Precision: 0.95\n",
            "Weighted Recall: 0.95\n",
            "Weighted F1-score: 0.95\n",
            "\n",
            "Classification Report\n",
            "\n"
          ],
          "name": "stdout"
        },
        {
          "output_type": "stream",
          "text": [
            "/usr/local/lib/python3.6/dist-packages/sklearn/metrics/_classification.py:1272: UndefinedMetricWarning: Precision and F-score are ill-defined and being set to 0.0 in labels with no predicted samples. Use `zero_division` parameter to control this behavior.\n",
            "  _warn_prf(average, modifier, msg_start, len(result))\n",
            "/usr/local/lib/python3.6/dist-packages/sklearn/metrics/_classification.py:1272: UndefinedMetricWarning: Precision and F-score are ill-defined and being set to 0.0 in samples with no predicted labels. Use `zero_division` parameter to control this behavior.\n",
            "  _warn_prf(average, modifier, msg_start, len(result))\n"
          ],
          "name": "stderr"
        },
        {
          "output_type": "stream",
          "text": [
            "                            precision    recall  f1-score   support\n",
            "\n",
            "                    BENIGN       0.96      0.98      0.97    139135\n",
            "                       Bot       0.24      0.01      0.02       489\n",
            "                      DDoS       0.99      0.86      0.92     32006\n",
            "             DoS GoldenEye       0.83      0.93      0.88      2573\n",
            "                  DoS Hulk       0.91      0.92      0.92     57531\n",
            "          DoS Slowhttptest       0.81      0.98      0.89      1374\n",
            "             DoS slowloris       0.22      0.28      0.25      1449\n",
            "               FTP-Patator       0.70      0.84      0.77      1983\n",
            "                Heartbleed       0.00      0.00      0.00         3\n",
            "              Infiltration       0.00      0.00      0.00         9\n",
            "                  PortScan       1.00      0.97      0.98     39701\n",
            "               SSH-Patator       0.87      0.88      0.88      1474\n",
            "  Web Attack � Brute Force       0.42      0.53      0.47       376\n",
            "Web Attack � Sql Injection       0.00      0.00      0.00         5\n",
            "          Web Attack � XSS       0.27      0.29      0.28       163\n",
            "\n",
            "                 micro avg       0.95      0.95      0.95    278271\n",
            "                 macro avg       0.55      0.56      0.55    278271\n",
            "              weighted avg       0.95      0.95      0.95    278271\n",
            "               samples avg       0.95      0.95      0.95    278271\n",
            "\n",
            "for  14  as K, accuracy is :  0.9438065770418046\n",
            "\n",
            "Accuracy: 0.94\n",
            "\n",
            "Micro Precision: 0.95\n",
            "Micro Recall: 0.94\n",
            "Micro F1-score: 0.95\n",
            "\n"
          ],
          "name": "stdout"
        },
        {
          "output_type": "stream",
          "text": [
            "/usr/local/lib/python3.6/dist-packages/sklearn/metrics/_classification.py:1272: UndefinedMetricWarning: Precision is ill-defined and being set to 0.0 in labels with no predicted samples. Use `zero_division` parameter to control this behavior.\n",
            "  _warn_prf(average, modifier, msg_start, len(result))\n"
          ],
          "name": "stderr"
        },
        {
          "output_type": "stream",
          "text": [
            "Macro Precision: 0.56\n",
            "Macro Recall: 0.56\n",
            "Macro F1-score: 0.55\n",
            "\n",
            "Weighted Precision: 0.95\n",
            "Weighted Recall: 0.94\n",
            "Weighted F1-score: 0.95\n",
            "\n",
            "Classification Report\n",
            "\n"
          ],
          "name": "stdout"
        },
        {
          "output_type": "stream",
          "text": [
            "/usr/local/lib/python3.6/dist-packages/sklearn/metrics/_classification.py:1272: UndefinedMetricWarning: Precision and F-score are ill-defined and being set to 0.0 in labels with no predicted samples. Use `zero_division` parameter to control this behavior.\n",
            "  _warn_prf(average, modifier, msg_start, len(result))\n",
            "/usr/local/lib/python3.6/dist-packages/sklearn/metrics/_classification.py:1272: UndefinedMetricWarning: Precision and F-score are ill-defined and being set to 0.0 in samples with no predicted labels. Use `zero_division` parameter to control this behavior.\n",
            "  _warn_prf(average, modifier, msg_start, len(result))\n"
          ],
          "name": "stderr"
        },
        {
          "output_type": "stream",
          "text": [
            "                            precision    recall  f1-score   support\n",
            "\n",
            "                    BENIGN       0.96      0.98      0.97    139135\n",
            "                       Bot       0.36      0.01      0.02       489\n",
            "                      DDoS       0.99      0.86      0.92     32006\n",
            "             DoS GoldenEye       0.83      0.93      0.88      2573\n",
            "                  DoS Hulk       0.91      0.92      0.92     57531\n",
            "          DoS Slowhttptest       0.81      0.98      0.89      1374\n",
            "             DoS slowloris       0.24      0.28      0.26      1449\n",
            "               FTP-Patator       0.70      0.83      0.76      1983\n",
            "                Heartbleed       0.00      0.00      0.00         3\n",
            "              Infiltration       0.00      0.00      0.00         9\n",
            "                  PortScan       1.00      0.97      0.98     39701\n",
            "               SSH-Patator       0.88      0.88      0.88      1474\n",
            "  Web Attack � Brute Force       0.43      0.49      0.46       376\n",
            "Web Attack � Sql Injection       0.00      0.00      0.00         5\n",
            "          Web Attack � XSS       0.29      0.29      0.29       163\n",
            "\n",
            "                 micro avg       0.95      0.94      0.95    278271\n",
            "                 macro avg       0.56      0.56      0.55    278271\n",
            "              weighted avg       0.95      0.94      0.95    278271\n",
            "               samples avg       0.94      0.94      0.94    278271\n",
            "\n",
            "for  15  as K, accuracy is :  0.9447696669793115\n",
            "\n",
            "Accuracy: 0.94\n",
            "\n",
            "Micro Precision: 0.95\n",
            "Micro Recall: 0.94\n",
            "Micro F1-score: 0.95\n",
            "\n"
          ],
          "name": "stdout"
        },
        {
          "output_type": "stream",
          "text": [
            "/usr/local/lib/python3.6/dist-packages/sklearn/metrics/_classification.py:1272: UndefinedMetricWarning: Precision is ill-defined and being set to 0.0 in labels with no predicted samples. Use `zero_division` parameter to control this behavior.\n",
            "  _warn_prf(average, modifier, msg_start, len(result))\n"
          ],
          "name": "stderr"
        },
        {
          "output_type": "stream",
          "text": [
            "Macro Precision: 0.55\n",
            "Macro Recall: 0.56\n",
            "Macro F1-score: 0.55\n",
            "\n",
            "Weighted Precision: 0.95\n",
            "Weighted Recall: 0.94\n",
            "Weighted F1-score: 0.94\n",
            "\n",
            "Classification Report\n",
            "\n"
          ],
          "name": "stdout"
        },
        {
          "output_type": "stream",
          "text": [
            "/usr/local/lib/python3.6/dist-packages/sklearn/metrics/_classification.py:1272: UndefinedMetricWarning: Precision and F-score are ill-defined and being set to 0.0 in labels with no predicted samples. Use `zero_division` parameter to control this behavior.\n",
            "  _warn_prf(average, modifier, msg_start, len(result))\n",
            "/usr/local/lib/python3.6/dist-packages/sklearn/metrics/_classification.py:1272: UndefinedMetricWarning: Precision and F-score are ill-defined and being set to 0.0 in samples with no predicted labels. Use `zero_division` parameter to control this behavior.\n",
            "  _warn_prf(average, modifier, msg_start, len(result))\n"
          ],
          "name": "stderr"
        },
        {
          "output_type": "stream",
          "text": [
            "                            precision    recall  f1-score   support\n",
            "\n",
            "                    BENIGN       0.96      0.98      0.97    139135\n",
            "                       Bot       0.33      0.01      0.02       489\n",
            "                      DDoS       0.99      0.86      0.92     32006\n",
            "             DoS GoldenEye       0.82      0.93      0.87      2573\n",
            "                  DoS Hulk       0.91      0.92      0.92     57531\n",
            "          DoS Slowhttptest       0.80      0.98      0.88      1374\n",
            "             DoS slowloris       0.22      0.29      0.25      1449\n",
            "               FTP-Patator       0.68      0.84      0.75      1983\n",
            "                Heartbleed       0.00      0.00      0.00         3\n",
            "              Infiltration       0.00      0.00      0.00         9\n",
            "                  PortScan       1.00      0.97      0.98     39701\n",
            "               SSH-Patator       0.87      0.88      0.88      1474\n",
            "  Web Attack � Brute Force       0.43      0.52      0.47       376\n",
            "Web Attack � Sql Injection       0.00      0.00      0.00         5\n",
            "          Web Attack � XSS       0.27      0.30      0.29       163\n",
            "\n",
            "                 micro avg       0.95      0.94      0.95    278271\n",
            "                 macro avg       0.55      0.56      0.55    278271\n",
            "              weighted avg       0.95      0.94      0.94    278271\n",
            "               samples avg       0.94      0.94      0.94    278271\n",
            "\n",
            "for  16  as K, accuracy is :  0.9436484577983333\n",
            "\n",
            "Accuracy: 0.94\n",
            "\n",
            "Micro Precision: 0.95\n",
            "Micro Recall: 0.94\n",
            "Micro F1-score: 0.95\n",
            "\n"
          ],
          "name": "stdout"
        },
        {
          "output_type": "stream",
          "text": [
            "/usr/local/lib/python3.6/dist-packages/sklearn/metrics/_classification.py:1272: UndefinedMetricWarning: Precision is ill-defined and being set to 0.0 in labels with no predicted samples. Use `zero_division` parameter to control this behavior.\n",
            "  _warn_prf(average, modifier, msg_start, len(result))\n"
          ],
          "name": "stderr"
        },
        {
          "output_type": "stream",
          "text": [
            "Macro Precision: 0.56\n",
            "Macro Recall: 0.56\n",
            "Macro F1-score: 0.55\n",
            "\n",
            "Weighted Precision: 0.95\n",
            "Weighted Recall: 0.94\n",
            "Weighted F1-score: 0.95\n",
            "\n",
            "Classification Report\n",
            "\n"
          ],
          "name": "stdout"
        },
        {
          "output_type": "stream",
          "text": [
            "/usr/local/lib/python3.6/dist-packages/sklearn/metrics/_classification.py:1272: UndefinedMetricWarning: Precision and F-score are ill-defined and being set to 0.0 in labels with no predicted samples. Use `zero_division` parameter to control this behavior.\n",
            "  _warn_prf(average, modifier, msg_start, len(result))\n",
            "/usr/local/lib/python3.6/dist-packages/sklearn/metrics/_classification.py:1272: UndefinedMetricWarning: Precision and F-score are ill-defined and being set to 0.0 in samples with no predicted labels. Use `zero_division` parameter to control this behavior.\n",
            "  _warn_prf(average, modifier, msg_start, len(result))\n"
          ],
          "name": "stderr"
        },
        {
          "output_type": "stream",
          "text": [
            "                            precision    recall  f1-score   support\n",
            "\n",
            "                    BENIGN       0.96      0.98      0.97    139135\n",
            "                       Bot       0.38      0.01      0.02       489\n",
            "                      DDoS       0.99      0.86      0.92     32006\n",
            "             DoS GoldenEye       0.82      0.93      0.87      2573\n",
            "                  DoS Hulk       0.91      0.92      0.92     57531\n",
            "          DoS Slowhttptest       0.80      0.98      0.88      1374\n",
            "             DoS slowloris       0.24      0.28      0.26      1449\n",
            "               FTP-Patator       0.69      0.83      0.75      1983\n",
            "                Heartbleed       0.00      0.00      0.00         3\n",
            "              Infiltration       0.00      0.00      0.00         9\n",
            "                  PortScan       1.00      0.97      0.98     39701\n",
            "               SSH-Patator       0.91      0.88      0.89      1474\n",
            "  Web Attack � Brute Force       0.44      0.50      0.47       376\n",
            "Web Attack � Sql Injection       0.00      0.00      0.00         5\n",
            "          Web Attack � XSS       0.29      0.25      0.27       163\n",
            "\n",
            "                 micro avg       0.95      0.94      0.95    278271\n",
            "                 macro avg       0.56      0.56      0.55    278271\n",
            "              weighted avg       0.95      0.94      0.95    278271\n",
            "               samples avg       0.94      0.94      0.94    278271\n",
            "\n",
            "for  17  as K, accuracy is :  0.9449205989844432\n",
            "\n",
            "Accuracy: 0.94\n",
            "\n",
            "Micro Precision: 0.95\n",
            "Micro Recall: 0.94\n",
            "Micro F1-score: 0.95\n",
            "\n"
          ],
          "name": "stdout"
        },
        {
          "output_type": "stream",
          "text": [
            "/usr/local/lib/python3.6/dist-packages/sklearn/metrics/_classification.py:1272: UndefinedMetricWarning: Precision is ill-defined and being set to 0.0 in labels with no predicted samples. Use `zero_division` parameter to control this behavior.\n",
            "  _warn_prf(average, modifier, msg_start, len(result))\n"
          ],
          "name": "stderr"
        },
        {
          "output_type": "stream",
          "text": [
            "Macro Precision: 0.56\n",
            "Macro Recall: 0.56\n",
            "Macro F1-score: 0.55\n",
            "\n",
            "Weighted Precision: 0.95\n",
            "Weighted Recall: 0.94\n",
            "Weighted F1-score: 0.95\n",
            "\n",
            "Classification Report\n",
            "\n"
          ],
          "name": "stdout"
        },
        {
          "output_type": "stream",
          "text": [
            "/usr/local/lib/python3.6/dist-packages/sklearn/metrics/_classification.py:1272: UndefinedMetricWarning: Precision and F-score are ill-defined and being set to 0.0 in labels with no predicted samples. Use `zero_division` parameter to control this behavior.\n",
            "  _warn_prf(average, modifier, msg_start, len(result))\n",
            "/usr/local/lib/python3.6/dist-packages/sklearn/metrics/_classification.py:1272: UndefinedMetricWarning: Precision and F-score are ill-defined and being set to 0.0 in samples with no predicted labels. Use `zero_division` parameter to control this behavior.\n",
            "  _warn_prf(average, modifier, msg_start, len(result))\n"
          ],
          "name": "stderr"
        },
        {
          "output_type": "stream",
          "text": [
            "                            precision    recall  f1-score   support\n",
            "\n",
            "                    BENIGN       0.96      0.98      0.97    139135\n",
            "                       Bot       0.36      0.01      0.02       489\n",
            "                      DDoS       0.99      0.86      0.92     32006\n",
            "             DoS GoldenEye       0.81      0.93      0.87      2573\n",
            "                  DoS Hulk       0.91      0.92      0.92     57531\n",
            "          DoS Slowhttptest       0.80      0.98      0.88      1374\n",
            "             DoS slowloris       0.22      0.28      0.25      1449\n",
            "               FTP-Patator       0.68      0.84      0.75      1983\n",
            "                Heartbleed       0.00      0.00      0.00         3\n",
            "              Infiltration       0.00      0.00      0.00         9\n",
            "                  PortScan       1.00      0.97      0.98     39701\n",
            "               SSH-Patator       0.90      0.88      0.89      1474\n",
            "  Web Attack � Brute Force       0.43      0.53      0.47       376\n",
            "Web Attack � Sql Injection       0.00      0.00      0.00         5\n",
            "          Web Attack � XSS       0.28      0.25      0.26       163\n",
            "\n",
            "                 micro avg       0.95      0.94      0.95    278271\n",
            "                 macro avg       0.56      0.56      0.55    278271\n",
            "              weighted avg       0.95      0.94      0.95    278271\n",
            "               samples avg       0.94      0.94      0.94    278271\n",
            "\n",
            "for  18  as K, accuracy is :  0.9435693981765977\n",
            "\n",
            "Accuracy: 0.94\n",
            "\n",
            "Micro Precision: 0.95\n",
            "Micro Recall: 0.94\n",
            "Micro F1-score: 0.95\n",
            "\n"
          ],
          "name": "stdout"
        },
        {
          "output_type": "stream",
          "text": [
            "/usr/local/lib/python3.6/dist-packages/sklearn/metrics/_classification.py:1272: UndefinedMetricWarning: Precision is ill-defined and being set to 0.0 in labels with no predicted samples. Use `zero_division` parameter to control this behavior.\n",
            "  _warn_prf(average, modifier, msg_start, len(result))\n"
          ],
          "name": "stderr"
        },
        {
          "output_type": "stream",
          "text": [
            "Macro Precision: 0.56\n",
            "Macro Recall: 0.56\n",
            "Macro F1-score: 0.55\n",
            "\n",
            "Weighted Precision: 0.95\n",
            "Weighted Recall: 0.94\n",
            "Weighted F1-score: 0.95\n",
            "\n",
            "Classification Report\n",
            "\n"
          ],
          "name": "stdout"
        },
        {
          "output_type": "stream",
          "text": [
            "/usr/local/lib/python3.6/dist-packages/sklearn/metrics/_classification.py:1272: UndefinedMetricWarning: Precision and F-score are ill-defined and being set to 0.0 in labels with no predicted samples. Use `zero_division` parameter to control this behavior.\n",
            "  _warn_prf(average, modifier, msg_start, len(result))\n"
          ],
          "name": "stderr"
        },
        {
          "output_type": "stream",
          "text": [
            "                            precision    recall  f1-score   support\n",
            "\n",
            "                    BENIGN       0.96      0.98      0.97    139135\n",
            "                       Bot       0.38      0.01      0.02       489\n",
            "                      DDoS       0.99      0.86      0.92     32006\n",
            "             DoS GoldenEye       0.82      0.92      0.87      2573\n",
            "                  DoS Hulk       0.91      0.92      0.92     57531\n",
            "          DoS Slowhttptest       0.80      0.98      0.88      1374\n",
            "             DoS slowloris       0.23      0.28      0.25      1449\n",
            "               FTP-Patator       0.68      0.82      0.74      1983\n",
            "                Heartbleed       0.00      0.00      0.00         3\n",
            "              Infiltration       0.00      0.00      0.00         9\n",
            "                  PortScan       1.00      0.97      0.98     39701\n",
            "               SSH-Patator       0.91      0.88      0.89      1474\n",
            "  Web Attack � Brute Force       0.44      0.51      0.47       376\n",
            "Web Attack � Sql Injection       0.00      0.00      0.00         5\n",
            "          Web Attack � XSS       0.30      0.23      0.26       163\n",
            "\n",
            "                 micro avg       0.95      0.94      0.95    278271\n",
            "                 macro avg       0.56      0.56      0.55    278271\n",
            "              weighted avg       0.95      0.94      0.95    278271\n",
            "               samples avg       0.94      0.94      0.94    278271\n",
            "\n"
          ],
          "name": "stdout"
        },
        {
          "output_type": "stream",
          "text": [
            "/usr/local/lib/python3.6/dist-packages/sklearn/metrics/_classification.py:1272: UndefinedMetricWarning: Precision and F-score are ill-defined and being set to 0.0 in samples with no predicted labels. Use `zero_division` parameter to control this behavior.\n",
            "  _warn_prf(average, modifier, msg_start, len(result))\n"
          ],
          "name": "stderr"
        }
      ]
    },
    {
      "cell_type": "markdown",
      "metadata": {
        "id": "HQvcVlbmXhwL"
      },
      "source": [
        "# Model 9: DNN"
      ]
    },
    {
      "cell_type": "code",
      "metadata": {
        "id": "7tL-xBt_XhwL"
      },
      "source": [
        "def make_model(metrics=METRICS, output_bias=None):\n",
        "  if output_bias is not None:\n",
        "    output_bias = tf.keras.initializers.Constant(output_bias)\n",
        "  model = tf.keras.Sequential([\n",
        "      tf.keras.layers.Dense(\n",
        "          256, activation='relu',\n",
        "          input_shape=(X_train.shape[-1],)),\n",
        "      #tf.keras.layers.Dropout(0.9),\n",
        "      tf.keras.layers.Dense(256, activation ='relu'),\n",
        "      #tf.keras.layers.Dropout(0.4),\n",
        "      #tf.keras.layers.Dense(256, activation ='relu'),\n",
        "      #tf.keras.layers.Dropout(0.2),\n",
        "      tf.keras.layers.Dense(128, activation ='relu'),\n",
        "      #tf.keras.layers.Dropout(0.2),\n",
        "      tf.keras.layers.Dense(64, activation ='relu'),\n",
        "      tf.keras.layers.Dense(y_train.shape[-1], activation='softmax',\n",
        "                         bias_initializer=output_bias),\n",
        "  ])\n",
        " \n",
        "  model.compile(\n",
        "      optimizer=tf.keras.optimizers.Adam(lr=1e-4),\n",
        "      loss=tf.keras.losses.BinaryCrossentropy(),\n",
        "      metrics=metrics)\n",
        "\n",
        "  return model"
      ],
      "execution_count": 235,
      "outputs": []
    },
    {
      "cell_type": "code",
      "metadata": {
        "id": "QAzpGMEoXhwL"
      },
      "source": [
        "EPOCHS = 300\n",
        "BATCH_SIZE = 9000\n",
        "\n",
        "early_stopping = tf.keras.callbacks.EarlyStopping(\n",
        "    monitor='val_auc', \n",
        "    verbose=1,\n",
        "    patience=10,\n",
        "    mode='max',\n",
        "    restore_best_weights=True)"
      ],
      "execution_count": 236,
      "outputs": []
    },
    {
      "cell_type": "code",
      "metadata": {
        "colab": {
          "base_uri": "https://localhost:8080/"
        },
        "id": "iWmjTb9kXhwL",
        "outputId": "ad016762-be9b-4ae3-e2bb-e0b0d2b012c3"
      },
      "source": [
        "model_dnn = make_model()\n",
        "model_dnn.summary()"
      ],
      "execution_count": 237,
      "outputs": [
        {
          "output_type": "stream",
          "text": [
            "Model: \"sequential_31\"\n",
            "_________________________________________________________________\n",
            "Layer (type)                 Output Shape              Param #   \n",
            "=================================================================\n",
            "dense_155 (Dense)            (None, 256)               20224     \n",
            "_________________________________________________________________\n",
            "dense_156 (Dense)            (None, 256)               65792     \n",
            "_________________________________________________________________\n",
            "dense_157 (Dense)            (None, 128)               32896     \n",
            "_________________________________________________________________\n",
            "dense_158 (Dense)            (None, 64)                8256      \n",
            "_________________________________________________________________\n",
            "dense_159 (Dense)            (None, 15)                975       \n",
            "=================================================================\n",
            "Total params: 128,143\n",
            "Trainable params: 128,143\n",
            "Non-trainable params: 0\n",
            "_________________________________________________________________\n"
          ],
          "name": "stdout"
        }
      ]
    },
    {
      "cell_type": "markdown",
      "metadata": {
        "id": "ajWocDr4_30a"
      },
      "source": [
        "If loading the validation dataset has an issue, please load the csv files again, and encode it again. "
      ]
    },
    {
      "cell_type": "code",
      "metadata": {
        "colab": {
          "base_uri": "https://localhost:8080/",
          "height": 1000
        },
        "id": "DeRlOQj6XhwL",
        "outputId": "e0bbcd48-4e9b-4e90-a519-16fb0726fea1"
      },
      "source": [
        "baseline_history = model_dnn.fit(\n",
        "    X_train,\n",
        "    y_train,\n",
        "    batch_size=BATCH_SIZE,\n",
        "    epochs=EPOCHS,\n",
        "    #callbacks=[early_stopping],\n",
        "    validation_data=(X_val, y_val))"
      ],
      "execution_count": 238,
      "outputs": [
        {
          "output_type": "stream",
          "text": [
            "Epoch 1/300\n",
            "62/62 [==============================] - 4s 43ms/step - loss: 0.7372 - tp: 130776.0000 - fp: 2938.0000 - tn: 5930416.6667 - fn: 293035.0476 - accuracy: 0.9576 - precision: 0.9780 - recall: 0.3729 - auc: 0.7489 - val_loss: 0.4959 - val_tp: 0.0000e+00 - val_fp: 0.0000e+00 - val_tn: 3895794.0000 - val_fn: 278271.0000 - val_accuracy: 0.9333 - val_precision: 0.0000e+00 - val_recall: 0.0000e+00 - val_auc: 0.7435\n",
            "Epoch 2/300\n",
            "62/62 [==============================] - 2s 30ms/step - loss: 0.4167 - tp: 21331.6190 - fp: 4385.0476 - tn: 4024969.6190 - fn: 266479.4286 - accuracy: 0.9362 - precision: 0.7339 - recall: 0.0539 - auc: 0.7592 - val_loss: 0.1819 - val_tp: 49057.0000 - val_fp: 3886.0000 - val_tn: 3891908.0000 - val_fn: 229214.0000 - val_accuracy: 0.9442 - val_precision: 0.9266 - val_recall: 0.1763 - val_auc: 0.8753\n",
            "Epoch 3/300\n",
            "62/62 [==============================] - 2s 30ms/step - loss: 0.1699 - tp: 86619.5238 - fp: 6177.8889 - tn: 4023176.7778 - fn: 201191.5238 - accuracy: 0.9498 - precision: 0.9383 - recall: 0.2648 - auc: 0.9128 - val_loss: 0.1198 - val_tp: 179121.0000 - val_fp: 44693.0000 - val_tn: 3851101.0000 - val_fn: 99150.0000 - val_accuracy: 0.9655 - val_precision: 0.8003 - val_recall: 0.6437 - val_auc: 0.9579\n",
            "Epoch 4/300\n",
            "62/62 [==============================] - 2s 30ms/step - loss: 0.1063 - tp: 189424.4127 - fp: 16309.5079 - tn: 4013045.1587 - fn: 98386.6349 - accuracy: 0.9723 - precision: 0.9187 - recall: 0.6405 - auc: 0.9683 - val_loss: 0.0853 - val_tp: 180118.0000 - val_fp: 43898.0000 - val_tn: 3851896.0000 - val_fn: 98153.0000 - val_accuracy: 0.9660 - val_precision: 0.8040 - val_recall: 0.6473 - val_auc: 0.9710\n",
            "Epoch 5/300\n",
            "62/62 [==============================] - 2s 30ms/step - loss: 0.0692 - tp: 236245.3175 - fp: 22531.3651 - tn: 4006823.3016 - fn: 51565.7302 - accuracy: 0.9828 - precision: 0.9191 - recall: 0.8131 - auc: 0.9785 - val_loss: 0.0680 - val_tp: 228715.0000 - val_fp: 32210.0000 - val_tn: 3863584.0000 - val_fn: 49556.0000 - val_accuracy: 0.9804 - val_precision: 0.8766 - val_recall: 0.8219 - val_auc: 0.9760\n",
            "Epoch 6/300\n",
            "62/62 [==============================] - 2s 30ms/step - loss: 0.0519 - tp: 251672.8254 - fp: 32523.5873 - tn: 3996831.0794 - fn: 36138.2222 - accuracy: 0.9840 - precision: 0.8852 - recall: 0.8741 - auc: 0.9813 - val_loss: 0.0598 - val_tp: 230558.0000 - val_fp: 20448.0000 - val_tn: 3875346.0000 - val_fn: 47713.0000 - val_accuracy: 0.9837 - val_precision: 0.9185 - val_recall: 0.8285 - val_auc: 0.9774\n",
            "Epoch 7/300\n",
            "62/62 [==============================] - 2s 30ms/step - loss: 0.0433 - tp: 254490.5556 - fp: 28569.1905 - tn: 4000785.4762 - fn: 33320.4921 - accuracy: 0.9854 - precision: 0.8968 - recall: 0.8827 - auc: 0.9852 - val_loss: 0.0555 - val_tp: 235070.0000 - val_fp: 24073.0000 - val_tn: 3871721.0000 - val_fn: 43201.0000 - val_accuracy: 0.9839 - val_precision: 0.9071 - val_recall: 0.8448 - val_auc: 0.9785\n",
            "Epoch 8/300\n",
            "62/62 [==============================] - 2s 30ms/step - loss: 0.0374 - tp: 261104.7302 - fp: 21610.7937 - tn: 4007743.8730 - fn: 26706.3175 - accuracy: 0.9885 - precision: 0.9214 - recall: 0.9044 - auc: 0.9912 - val_loss: 0.0539 - val_tp: 238022.0000 - val_fp: 33110.0000 - val_tn: 3862684.0000 - val_fn: 40249.0000 - val_accuracy: 0.9824 - val_precision: 0.8779 - val_recall: 0.8554 - val_auc: 0.9789\n",
            "Epoch 9/300\n",
            "62/62 [==============================] - 2s 34ms/step - loss: 0.0329 - tp: 269670.9683 - fp: 15105.2381 - tn: 4014249.4286 - fn: 18140.0794 - accuracy: 0.9921 - precision: 0.9460 - recall: 0.9353 - auc: 0.9937 - val_loss: 0.0535 - val_tp: 240321.0000 - val_fp: 35891.0000 - val_tn: 3859903.0000 - val_fn: 37950.0000 - val_accuracy: 0.9823 - val_precision: 0.8701 - val_recall: 0.8636 - val_auc: 0.9790\n",
            "Epoch 10/300\n",
            "62/62 [==============================] - 2s 31ms/step - loss: 0.0288 - tp: 271812.6349 - fp: 13671.6667 - tn: 4015683.0000 - fn: 15998.4127 - accuracy: 0.9931 - precision: 0.9517 - recall: 0.9441 - auc: 0.9947 - val_loss: 0.0559 - val_tp: 238367.0000 - val_fp: 38885.0000 - val_tn: 3856909.0000 - val_fn: 39904.0000 - val_accuracy: 0.9811 - val_precision: 0.8597 - val_recall: 0.8566 - val_auc: 0.9800\n",
            "Epoch 11/300\n",
            "62/62 [==============================] - 2s 30ms/step - loss: 0.0247 - tp: 273185.1905 - fp: 11981.6508 - tn: 4017373.0159 - fn: 14625.8571 - accuracy: 0.9938 - precision: 0.9577 - recall: 0.9489 - auc: 0.9951 - val_loss: 0.0591 - val_tp: 236460.0000 - val_fp: 41380.0000 - val_tn: 3854414.0000 - val_fn: 41811.0000 - val_accuracy: 0.9801 - val_precision: 0.8511 - val_recall: 0.8497 - val_auc: 0.9818\n",
            "Epoch 12/300\n",
            "62/62 [==============================] - 2s 30ms/step - loss: 0.0212 - tp: 274111.8413 - fp: 10220.9206 - tn: 4019133.7460 - fn: 13699.2063 - accuracy: 0.9944 - precision: 0.9632 - recall: 0.9520 - auc: 0.9962 - val_loss: 0.0644 - val_tp: 235995.0000 - val_fp: 41775.0000 - val_tn: 3854019.0000 - val_fn: 42276.0000 - val_accuracy: 0.9799 - val_precision: 0.8496 - val_recall: 0.8481 - val_auc: 0.9686\n",
            "Epoch 13/300\n",
            "62/62 [==============================] - 2s 30ms/step - loss: 0.0178 - tp: 275220.1587 - fp: 7764.1270 - tn: 4021590.5397 - fn: 12590.8889 - accuracy: 0.9953 - precision: 0.9723 - recall: 0.9564 - auc: 0.9974 - val_loss: 0.0733 - val_tp: 236042.0000 - val_fp: 40350.0000 - val_tn: 3855444.0000 - val_fn: 42229.0000 - val_accuracy: 0.9802 - val_precision: 0.8540 - val_recall: 0.8482 - val_auc: 0.9356\n",
            "Epoch 14/300\n",
            "62/62 [==============================] - 2s 30ms/step - loss: 0.0156 - tp: 276114.5714 - fp: 6201.3175 - tn: 4023153.3492 - fn: 11696.4762 - accuracy: 0.9958 - precision: 0.9775 - recall: 0.9588 - auc: 0.9976 - val_loss: 0.0810 - val_tp: 236104.0000 - val_fp: 39875.0000 - val_tn: 3855919.0000 - val_fn: 42167.0000 - val_accuracy: 0.9803 - val_precision: 0.8555 - val_recall: 0.8485 - val_auc: 0.9325\n",
            "Epoch 15/300\n",
            "62/62 [==============================] - 2s 30ms/step - loss: 0.0137 - tp: 277305.2222 - fp: 5301.5397 - tn: 4024053.1270 - fn: 10505.8254 - accuracy: 0.9963 - precision: 0.9809 - recall: 0.9631 - auc: 0.9978 - val_loss: 0.0873 - val_tp: 236125.0000 - val_fp: 39712.0000 - val_tn: 3856082.0000 - val_fn: 42146.0000 - val_accuracy: 0.9804 - val_precision: 0.8560 - val_recall: 0.8485 - val_auc: 0.9337\n",
            "Epoch 16/300\n",
            "62/62 [==============================] - 2s 30ms/step - loss: 0.0124 - tp: 278400.5873 - fp: 4731.2222 - tn: 4024623.4444 - fn: 9410.4603 - accuracy: 0.9967 - precision: 0.9829 - recall: 0.9671 - auc: 0.9978 - val_loss: 0.0981 - val_tp: 236514.0000 - val_fp: 39294.0000 - val_tn: 3856500.0000 - val_fn: 41757.0000 - val_accuracy: 0.9806 - val_precision: 0.8575 - val_recall: 0.8499 - val_auc: 0.9337\n",
            "Epoch 17/300\n",
            "62/62 [==============================] - 2s 30ms/step - loss: 0.0113 - tp: 279457.3810 - fp: 4125.7778 - tn: 4025228.8889 - fn: 8353.6667 - accuracy: 0.9971 - precision: 0.9852 - recall: 0.9707 - auc: 0.9980 - val_loss: 0.1074 - val_tp: 237294.0000 - val_fp: 39261.0000 - val_tn: 3856533.0000 - val_fn: 40977.0000 - val_accuracy: 0.9808 - val_precision: 0.8580 - val_recall: 0.8527 - val_auc: 0.9338\n",
            "Epoch 18/300\n",
            "62/62 [==============================] - 2s 30ms/step - loss: 0.0103 - tp: 280085.2698 - fp: 3717.1429 - tn: 4025637.5238 - fn: 7725.7778 - accuracy: 0.9973 - precision: 0.9867 - recall: 0.9729 - auc: 0.9980 - val_loss: 0.1167 - val_tp: 238183.0000 - val_fp: 38553.0000 - val_tn: 3857241.0000 - val_fn: 40088.0000 - val_accuracy: 0.9812 - val_precision: 0.8607 - val_recall: 0.8559 - val_auc: 0.9340\n",
            "Epoch 19/300\n",
            "62/62 [==============================] - 2s 30ms/step - loss: 0.0095 - tp: 280596.0159 - fp: 3529.2540 - tn: 4025825.4127 - fn: 7215.0317 - accuracy: 0.9975 - precision: 0.9875 - recall: 0.9748 - auc: 0.9982 - val_loss: 0.1256 - val_tp: 238902.0000 - val_fp: 38347.0000 - val_tn: 3857447.0000 - val_fn: 39369.0000 - val_accuracy: 0.9814 - val_precision: 0.8617 - val_recall: 0.8585 - val_auc: 0.9336\n",
            "Epoch 20/300\n",
            "62/62 [==============================] - 2s 30ms/step - loss: 0.0089 - tp: 280843.4444 - fp: 3434.3175 - tn: 4025920.3492 - fn: 6967.6032 - accuracy: 0.9976 - precision: 0.9877 - recall: 0.9755 - auc: 0.9982 - val_loss: 0.1342 - val_tp: 239030.0000 - val_fp: 38623.0000 - val_tn: 3857171.0000 - val_fn: 39241.0000 - val_accuracy: 0.9813 - val_precision: 0.8609 - val_recall: 0.8590 - val_auc: 0.9337\n",
            "Epoch 21/300\n",
            "62/62 [==============================] - 2s 30ms/step - loss: 0.0083 - tp: 281156.5714 - fp: 3278.0952 - tn: 4026076.5714 - fn: 6654.4762 - accuracy: 0.9977 - precision: 0.9884 - recall: 0.9766 - auc: 0.9982 - val_loss: 0.1450 - val_tp: 239527.0000 - val_fp: 38029.0000 - val_tn: 3857765.0000 - val_fn: 38744.0000 - val_accuracy: 0.9816 - val_precision: 0.8630 - val_recall: 0.8608 - val_auc: 0.9347\n",
            "Epoch 22/300\n",
            "62/62 [==============================] - 2s 30ms/step - loss: 0.0078 - tp: 281475.5238 - fp: 3179.6190 - tn: 4026175.0476 - fn: 6335.5238 - accuracy: 0.9978 - precision: 0.9888 - recall: 0.9779 - auc: 0.9982 - val_loss: 0.1530 - val_tp: 239637.0000 - val_fp: 37899.0000 - val_tn: 3857895.0000 - val_fn: 38634.0000 - val_accuracy: 0.9817 - val_precision: 0.8634 - val_recall: 0.8612 - val_auc: 0.9349\n",
            "Epoch 23/300\n",
            "62/62 [==============================] - 2s 30ms/step - loss: 0.0073 - tp: 281898.7143 - fp: 2875.3492 - tn: 4026479.3175 - fn: 5912.3333 - accuracy: 0.9979 - precision: 0.9898 - recall: 0.9793 - auc: 0.9985 - val_loss: 0.1615 - val_tp: 239806.0000 - val_fp: 37785.0000 - val_tn: 3858009.0000 - val_fn: 38465.0000 - val_accuracy: 0.9817 - val_precision: 0.8639 - val_recall: 0.8618 - val_auc: 0.9350\n",
            "Epoch 24/300\n",
            "62/62 [==============================] - 2s 30ms/step - loss: 0.0069 - tp: 282227.5079 - fp: 2650.7778 - tn: 4026703.8889 - fn: 5583.5397 - accuracy: 0.9981 - precision: 0.9907 - recall: 0.9806 - auc: 0.9985 - val_loss: 0.1731 - val_tp: 239849.0000 - val_fp: 37764.0000 - val_tn: 3858030.0000 - val_fn: 38422.0000 - val_accuracy: 0.9817 - val_precision: 0.8640 - val_recall: 0.8619 - val_auc: 0.9349\n",
            "Epoch 25/300\n",
            "62/62 [==============================] - 2s 30ms/step - loss: 0.0066 - tp: 282622.5714 - fp: 2399.5556 - tn: 4026955.1111 - fn: 5188.4762 - accuracy: 0.9982 - precision: 0.9916 - recall: 0.9819 - auc: 0.9984 - val_loss: 0.1804 - val_tp: 239900.0000 - val_fp: 37773.0000 - val_tn: 3858021.0000 - val_fn: 38371.0000 - val_accuracy: 0.9818 - val_precision: 0.8640 - val_recall: 0.8621 - val_auc: 0.9349\n",
            "Epoch 26/300\n",
            "62/62 [==============================] - 2s 30ms/step - loss: 0.0064 - tp: 282969.2540 - fp: 2304.8413 - tn: 4027049.8254 - fn: 4841.7937 - accuracy: 0.9983 - precision: 0.9918 - recall: 0.9829 - auc: 0.9985 - val_loss: 0.1920 - val_tp: 240121.0000 - val_fp: 37507.0000 - val_tn: 3858287.0000 - val_fn: 38150.0000 - val_accuracy: 0.9819 - val_precision: 0.8649 - val_recall: 0.8629 - val_auc: 0.9350\n",
            "Epoch 27/300\n",
            "62/62 [==============================] - 2s 30ms/step - loss: 0.0061 - tp: 283473.9048 - fp: 2209.3175 - tn: 4027145.3492 - fn: 4337.1429 - accuracy: 0.9985 - precision: 0.9922 - recall: 0.9849 - auc: 0.9985 - val_loss: 0.1994 - val_tp: 240156.0000 - val_fp: 37479.0000 - val_tn: 3858315.0000 - val_fn: 38115.0000 - val_accuracy: 0.9819 - val_precision: 0.8650 - val_recall: 0.8630 - val_auc: 0.9350\n",
            "Epoch 28/300\n",
            "62/62 [==============================] - 2s 30ms/step - loss: 0.0058 - tp: 283731.7937 - fp: 2116.8889 - tn: 4027237.7778 - fn: 4079.2540 - accuracy: 0.9986 - precision: 0.9927 - recall: 0.9858 - auc: 0.9986 - val_loss: 0.2081 - val_tp: 240147.0000 - val_fp: 37546.0000 - val_tn: 3858248.0000 - val_fn: 38124.0000 - val_accuracy: 0.9819 - val_precision: 0.8648 - val_recall: 0.8630 - val_auc: 0.9349\n",
            "Epoch 29/300\n",
            "62/62 [==============================] - 2s 30ms/step - loss: 0.0056 - tp: 283893.3016 - fp: 2052.5873 - tn: 4027302.0794 - fn: 3917.7460 - accuracy: 0.9986 - precision: 0.9927 - recall: 0.9863 - auc: 0.9985 - val_loss: 0.2196 - val_tp: 240131.0000 - val_fp: 37489.0000 - val_tn: 3858305.0000 - val_fn: 38140.0000 - val_accuracy: 0.9819 - val_precision: 0.8650 - val_recall: 0.8629 - val_auc: 0.9345\n",
            "Epoch 30/300\n",
            "62/62 [==============================] - 2s 30ms/step - loss: 0.0054 - tp: 284043.1746 - fp: 1940.3333 - tn: 4027414.3333 - fn: 3767.8730 - accuracy: 0.9987 - precision: 0.9932 - recall: 0.9867 - auc: 0.9986 - val_loss: 0.2262 - val_tp: 240119.0000 - val_fp: 37677.0000 - val_tn: 3858117.0000 - val_fn: 38152.0000 - val_accuracy: 0.9818 - val_precision: 0.8644 - val_recall: 0.8629 - val_auc: 0.9342\n",
            "Epoch 31/300\n",
            "62/62 [==============================] - 2s 30ms/step - loss: 0.0052 - tp: 284204.7302 - fp: 1891.7302 - tn: 4027462.9365 - fn: 3606.3175 - accuracy: 0.9987 - precision: 0.9934 - recall: 0.9875 - auc: 0.9986 - val_loss: 0.2360 - val_tp: 240116.0000 - val_fp: 37829.0000 - val_tn: 3857965.0000 - val_fn: 38155.0000 - val_accuracy: 0.9818 - val_precision: 0.8639 - val_recall: 0.8629 - val_auc: 0.9338\n",
            "Epoch 32/300\n",
            "62/62 [==============================] - 2s 30ms/step - loss: 0.0051 - tp: 284272.1429 - fp: 1813.1270 - tn: 4027541.5397 - fn: 3538.9048 - accuracy: 0.9987 - precision: 0.9935 - recall: 0.9875 - auc: 0.9986 - val_loss: 0.2445 - val_tp: 239996.0000 - val_fp: 38070.0000 - val_tn: 3857724.0000 - val_fn: 38275.0000 - val_accuracy: 0.9817 - val_precision: 0.8631 - val_recall: 0.8625 - val_auc: 0.9330\n",
            "Epoch 33/300\n",
            "62/62 [==============================] - 2s 30ms/step - loss: 0.0050 - tp: 284428.7143 - fp: 1789.2063 - tn: 4027565.4603 - fn: 3382.3333 - accuracy: 0.9988 - precision: 0.9937 - recall: 0.9882 - auc: 0.9987 - val_loss: 0.2559 - val_tp: 240025.0000 - val_fp: 37848.0000 - val_tn: 3857946.0000 - val_fn: 38246.0000 - val_accuracy: 0.9818 - val_precision: 0.8638 - val_recall: 0.8626 - val_auc: 0.9334\n",
            "Epoch 34/300\n",
            "62/62 [==============================] - 2s 30ms/step - loss: 0.0047 - tp: 284529.8413 - fp: 1711.5079 - tn: 4027643.1587 - fn: 3281.2063 - accuracy: 0.9988 - precision: 0.9940 - recall: 0.9886 - auc: 0.9987 - val_loss: 0.2643 - val_tp: 239969.0000 - val_fp: 37946.0000 - val_tn: 3857848.0000 - val_fn: 38302.0000 - val_accuracy: 0.9817 - val_precision: 0.8635 - val_recall: 0.8624 - val_auc: 0.9329\n",
            "Epoch 35/300\n",
            "62/62 [==============================] - 2s 30ms/step - loss: 0.0045 - tp: 284582.9206 - fp: 1665.9841 - tn: 4027688.6825 - fn: 3228.1270 - accuracy: 0.9989 - precision: 0.9943 - recall: 0.9889 - auc: 0.9988 - val_loss: 0.2725 - val_tp: 239897.0000 - val_fp: 38018.0000 - val_tn: 3857776.0000 - val_fn: 38374.0000 - val_accuracy: 0.9817 - val_precision: 0.8632 - val_recall: 0.8621 - val_auc: 0.9316\n",
            "Epoch 36/300\n",
            "62/62 [==============================] - 2s 30ms/step - loss: 0.0044 - tp: 284646.2698 - fp: 1644.3492 - tn: 4027710.3175 - fn: 3164.7778 - accuracy: 0.9989 - precision: 0.9943 - recall: 0.9890 - auc: 0.9989 - val_loss: 0.2850 - val_tp: 239092.0000 - val_fp: 37976.0000 - val_tn: 3857818.0000 - val_fn: 39179.0000 - val_accuracy: 0.9815 - val_precision: 0.8629 - val_recall: 0.8592 - val_auc: 0.9318\n",
            "Epoch 37/300\n",
            "62/62 [==============================] - 2s 30ms/step - loss: 0.0043 - tp: 284709.2698 - fp: 1624.0476 - tn: 4027730.6190 - fn: 3101.7778 - accuracy: 0.9989 - precision: 0.9944 - recall: 0.9893 - auc: 0.9989 - val_loss: 0.2892 - val_tp: 239073.0000 - val_fp: 38168.0000 - val_tn: 3857626.0000 - val_fn: 39198.0000 - val_accuracy: 0.9815 - val_precision: 0.8623 - val_recall: 0.8591 - val_auc: 0.9298\n",
            "Epoch 38/300\n",
            "62/62 [==============================] - 2s 30ms/step - loss: 0.0042 - tp: 284897.1111 - fp: 1590.7937 - tn: 4027763.8730 - fn: 2913.9365 - accuracy: 0.9989 - precision: 0.9945 - recall: 0.9897 - auc: 0.9989 - val_loss: 0.3045 - val_tp: 238976.0000 - val_fp: 38795.0000 - val_tn: 3856999.0000 - val_fn: 39295.0000 - val_accuracy: 0.9813 - val_precision: 0.8603 - val_recall: 0.8588 - val_auc: 0.9296\n",
            "Epoch 39/300\n",
            "62/62 [==============================] - 2s 30ms/step - loss: 0.0041 - tp: 285048.8254 - fp: 1589.1746 - tn: 4027765.4921 - fn: 2762.2222 - accuracy: 0.9990 - precision: 0.9945 - recall: 0.9903 - auc: 0.9989 - val_loss: 0.3036 - val_tp: 238854.0000 - val_fp: 38401.0000 - val_tn: 3857393.0000 - val_fn: 39417.0000 - val_accuracy: 0.9814 - val_precision: 0.8615 - val_recall: 0.8584 - val_auc: 0.9293\n",
            "Epoch 40/300\n",
            "62/62 [==============================] - 2s 30ms/step - loss: 0.0041 - tp: 285231.2222 - fp: 1604.5397 - tn: 4027750.1270 - fn: 2579.8254 - accuracy: 0.9990 - precision: 0.9943 - recall: 0.9910 - auc: 0.9989 - val_loss: 0.3197 - val_tp: 238713.0000 - val_fp: 38950.0000 - val_tn: 3856844.0000 - val_fn: 39558.0000 - val_accuracy: 0.9812 - val_precision: 0.8597 - val_recall: 0.8578 - val_auc: 0.9293\n",
            "Epoch 41/300\n",
            "62/62 [==============================] - 2s 30ms/step - loss: 0.0039 - tp: 285470.0794 - fp: 1583.5873 - tn: 4027771.0794 - fn: 2340.9683 - accuracy: 0.9991 - precision: 0.9945 - recall: 0.9919 - auc: 0.9990 - val_loss: 0.3185 - val_tp: 238701.0000 - val_fp: 39138.0000 - val_tn: 3856656.0000 - val_fn: 39570.0000 - val_accuracy: 0.9811 - val_precision: 0.8591 - val_recall: 0.8578 - val_auc: 0.9290\n",
            "Epoch 42/300\n",
            "62/62 [==============================] - 2s 30ms/step - loss: 0.0038 - tp: 285613.6825 - fp: 1622.1429 - tn: 4027732.5238 - fn: 2197.3651 - accuracy: 0.9991 - precision: 0.9944 - recall: 0.9924 - auc: 0.9991 - val_loss: 0.3255 - val_tp: 238551.0000 - val_fp: 39370.0000 - val_tn: 3856424.0000 - val_fn: 39720.0000 - val_accuracy: 0.9811 - val_precision: 0.8583 - val_recall: 0.8573 - val_auc: 0.9288\n",
            "Epoch 43/300\n",
            "62/62 [==============================] - 2s 30ms/step - loss: 0.0037 - tp: 285722.5238 - fp: 1578.5079 - tn: 4027776.1587 - fn: 2088.5238 - accuracy: 0.9992 - precision: 0.9946 - recall: 0.9927 - auc: 0.9991 - val_loss: 0.3331 - val_tp: 238442.0000 - val_fp: 39396.0000 - val_tn: 3856398.0000 - val_fn: 39829.0000 - val_accuracy: 0.9810 - val_precision: 0.8582 - val_recall: 0.8569 - val_auc: 0.9286\n",
            "Epoch 44/300\n",
            "62/62 [==============================] - 2s 30ms/step - loss: 0.0036 - tp: 285791.8889 - fp: 1618.5238 - tn: 4027736.1429 - fn: 2019.1587 - accuracy: 0.9992 - precision: 0.9943 - recall: 0.9930 - auc: 0.9991 - val_loss: 0.3370 - val_tp: 238305.0000 - val_fp: 39546.0000 - val_tn: 3856248.0000 - val_fn: 39966.0000 - val_accuracy: 0.9810 - val_precision: 0.8577 - val_recall: 0.8564 - val_auc: 0.9284\n",
            "Epoch 45/300\n",
            "62/62 [==============================] - 2s 30ms/step - loss: 0.0035 - tp: 285833.3016 - fp: 1633.9048 - tn: 4027720.7619 - fn: 1977.7460 - accuracy: 0.9992 - precision: 0.9943 - recall: 0.9931 - auc: 0.9992 - val_loss: 0.3484 - val_tp: 238201.0000 - val_fp: 39678.0000 - val_tn: 3856116.0000 - val_fn: 40070.0000 - val_accuracy: 0.9809 - val_precision: 0.8572 - val_recall: 0.8560 - val_auc: 0.9282\n",
            "Epoch 46/300\n",
            "62/62 [==============================] - 2s 30ms/step - loss: 0.0035 - tp: 285903.3175 - fp: 1628.0794 - tn: 4027726.5873 - fn: 1907.7302 - accuracy: 0.9992 - precision: 0.9944 - recall: 0.9934 - auc: 0.9993 - val_loss: 0.3507 - val_tp: 237794.0000 - val_fp: 40093.0000 - val_tn: 3855701.0000 - val_fn: 40477.0000 - val_accuracy: 0.9807 - val_precision: 0.8557 - val_recall: 0.8545 - val_auc: 0.9277\n",
            "Epoch 47/300\n",
            "62/62 [==============================] - 2s 30ms/step - loss: 0.0033 - tp: 285991.9206 - fp: 1559.8889 - tn: 4027794.7778 - fn: 1819.1270 - accuracy: 0.9992 - precision: 0.9947 - recall: 0.9938 - auc: 0.9994 - val_loss: 0.3593 - val_tp: 236724.0000 - val_fp: 41140.0000 - val_tn: 3854654.0000 - val_fn: 41547.0000 - val_accuracy: 0.9802 - val_precision: 0.8519 - val_recall: 0.8507 - val_auc: 0.9276\n",
            "Epoch 48/300\n",
            "62/62 [==============================] - 2s 30ms/step - loss: 0.0033 - tp: 286024.5873 - fp: 1536.4921 - tn: 4027818.1746 - fn: 1786.4603 - accuracy: 0.9992 - precision: 0.9947 - recall: 0.9938 - auc: 0.9993 - val_loss: 0.3669 - val_tp: 234919.0000 - val_fp: 42991.0000 - val_tn: 3852803.0000 - val_fn: 43352.0000 - val_accuracy: 0.9793 - val_precision: 0.8453 - val_recall: 0.8442 - val_auc: 0.9273\n",
            "Epoch 49/300\n",
            "43/62 [===================>..........] - ETA: 0s - loss: 0.0032 - tp: 196810.7674 - fp: 1027.7907 - tn: 2770972.2093 - fn: 1189.2326 - accuracy: 0.9992 - precision: 0.9947 - recall: 0.9939 - auc: 0.9994"
          ],
          "name": "stdout"
        },
        {
          "output_type": "error",
          "ename": "KeyboardInterrupt",
          "evalue": "ignored",
          "traceback": [
            "\u001b[0;31m---------------------------------------------------------------------------\u001b[0m",
            "\u001b[0;31mKeyboardInterrupt\u001b[0m                         Traceback (most recent call last)",
            "\u001b[0;32m<ipython-input-238-87e8e49ce6de>\u001b[0m in \u001b[0;36m<module>\u001b[0;34m()\u001b[0m\n\u001b[1;32m      5\u001b[0m     \u001b[0mepochs\u001b[0m\u001b[0;34m=\u001b[0m\u001b[0mEPOCHS\u001b[0m\u001b[0;34m,\u001b[0m\u001b[0;34m\u001b[0m\u001b[0;34m\u001b[0m\u001b[0m\n\u001b[1;32m      6\u001b[0m     \u001b[0;31m#callbacks=[early_stopping],\u001b[0m\u001b[0;34m\u001b[0m\u001b[0;34m\u001b[0m\u001b[0;34m\u001b[0m\u001b[0m\n\u001b[0;32m----> 7\u001b[0;31m     validation_data=(X_val, y_val))\n\u001b[0m",
            "\u001b[0;32m/usr/local/lib/python3.6/dist-packages/tensorflow/python/keras/engine/training.py\u001b[0m in \u001b[0;36mfit\u001b[0;34m(self, x, y, batch_size, epochs, verbose, callbacks, validation_split, validation_data, shuffle, class_weight, sample_weight, initial_epoch, steps_per_epoch, validation_steps, validation_batch_size, validation_freq, max_queue_size, workers, use_multiprocessing)\u001b[0m\n\u001b[1;32m   1098\u001b[0m                 _r=1):\n\u001b[1;32m   1099\u001b[0m               \u001b[0mcallbacks\u001b[0m\u001b[0;34m.\u001b[0m\u001b[0mon_train_batch_begin\u001b[0m\u001b[0;34m(\u001b[0m\u001b[0mstep\u001b[0m\u001b[0;34m)\u001b[0m\u001b[0;34m\u001b[0m\u001b[0;34m\u001b[0m\u001b[0m\n\u001b[0;32m-> 1100\u001b[0;31m               \u001b[0mtmp_logs\u001b[0m \u001b[0;34m=\u001b[0m \u001b[0mself\u001b[0m\u001b[0;34m.\u001b[0m\u001b[0mtrain_function\u001b[0m\u001b[0;34m(\u001b[0m\u001b[0miterator\u001b[0m\u001b[0;34m)\u001b[0m\u001b[0;34m\u001b[0m\u001b[0;34m\u001b[0m\u001b[0m\n\u001b[0m\u001b[1;32m   1101\u001b[0m               \u001b[0;32mif\u001b[0m \u001b[0mdata_handler\u001b[0m\u001b[0;34m.\u001b[0m\u001b[0mshould_sync\u001b[0m\u001b[0;34m:\u001b[0m\u001b[0;34m\u001b[0m\u001b[0;34m\u001b[0m\u001b[0m\n\u001b[1;32m   1102\u001b[0m                 \u001b[0mcontext\u001b[0m\u001b[0;34m.\u001b[0m\u001b[0masync_wait\u001b[0m\u001b[0;34m(\u001b[0m\u001b[0;34m)\u001b[0m\u001b[0;34m\u001b[0m\u001b[0;34m\u001b[0m\u001b[0m\n",
            "\u001b[0;32m/usr/local/lib/python3.6/dist-packages/tensorflow/python/eager/def_function.py\u001b[0m in \u001b[0;36m__call__\u001b[0;34m(self, *args, **kwds)\u001b[0m\n\u001b[1;32m    826\u001b[0m     \u001b[0mtracing_count\u001b[0m \u001b[0;34m=\u001b[0m \u001b[0mself\u001b[0m\u001b[0;34m.\u001b[0m\u001b[0mexperimental_get_tracing_count\u001b[0m\u001b[0;34m(\u001b[0m\u001b[0;34m)\u001b[0m\u001b[0;34m\u001b[0m\u001b[0;34m\u001b[0m\u001b[0m\n\u001b[1;32m    827\u001b[0m     \u001b[0;32mwith\u001b[0m \u001b[0mtrace\u001b[0m\u001b[0;34m.\u001b[0m\u001b[0mTrace\u001b[0m\u001b[0;34m(\u001b[0m\u001b[0mself\u001b[0m\u001b[0;34m.\u001b[0m\u001b[0m_name\u001b[0m\u001b[0;34m)\u001b[0m \u001b[0;32mas\u001b[0m \u001b[0mtm\u001b[0m\u001b[0;34m:\u001b[0m\u001b[0;34m\u001b[0m\u001b[0;34m\u001b[0m\u001b[0m\n\u001b[0;32m--> 828\u001b[0;31m       \u001b[0mresult\u001b[0m \u001b[0;34m=\u001b[0m \u001b[0mself\u001b[0m\u001b[0;34m.\u001b[0m\u001b[0m_call\u001b[0m\u001b[0;34m(\u001b[0m\u001b[0;34m*\u001b[0m\u001b[0margs\u001b[0m\u001b[0;34m,\u001b[0m \u001b[0;34m**\u001b[0m\u001b[0mkwds\u001b[0m\u001b[0;34m)\u001b[0m\u001b[0;34m\u001b[0m\u001b[0;34m\u001b[0m\u001b[0m\n\u001b[0m\u001b[1;32m    829\u001b[0m       \u001b[0mcompiler\u001b[0m \u001b[0;34m=\u001b[0m \u001b[0;34m\"xla\"\u001b[0m \u001b[0;32mif\u001b[0m \u001b[0mself\u001b[0m\u001b[0;34m.\u001b[0m\u001b[0m_experimental_compile\u001b[0m \u001b[0;32melse\u001b[0m \u001b[0;34m\"nonXla\"\u001b[0m\u001b[0;34m\u001b[0m\u001b[0;34m\u001b[0m\u001b[0m\n\u001b[1;32m    830\u001b[0m       \u001b[0mnew_tracing_count\u001b[0m \u001b[0;34m=\u001b[0m \u001b[0mself\u001b[0m\u001b[0;34m.\u001b[0m\u001b[0mexperimental_get_tracing_count\u001b[0m\u001b[0;34m(\u001b[0m\u001b[0;34m)\u001b[0m\u001b[0;34m\u001b[0m\u001b[0;34m\u001b[0m\u001b[0m\n",
            "\u001b[0;32m/usr/local/lib/python3.6/dist-packages/tensorflow/python/eager/def_function.py\u001b[0m in \u001b[0;36m_call\u001b[0;34m(self, *args, **kwds)\u001b[0m\n\u001b[1;32m    853\u001b[0m       \u001b[0;31m# In this case we have created variables on the first call, so we run the\u001b[0m\u001b[0;34m\u001b[0m\u001b[0;34m\u001b[0m\u001b[0;34m\u001b[0m\u001b[0m\n\u001b[1;32m    854\u001b[0m       \u001b[0;31m# defunned version which is guaranteed to never create variables.\u001b[0m\u001b[0;34m\u001b[0m\u001b[0;34m\u001b[0m\u001b[0;34m\u001b[0m\u001b[0m\n\u001b[0;32m--> 855\u001b[0;31m       \u001b[0;32mreturn\u001b[0m \u001b[0mself\u001b[0m\u001b[0;34m.\u001b[0m\u001b[0m_stateless_fn\u001b[0m\u001b[0;34m(\u001b[0m\u001b[0;34m*\u001b[0m\u001b[0margs\u001b[0m\u001b[0;34m,\u001b[0m \u001b[0;34m**\u001b[0m\u001b[0mkwds\u001b[0m\u001b[0;34m)\u001b[0m  \u001b[0;31m# pylint: disable=not-callable\u001b[0m\u001b[0;34m\u001b[0m\u001b[0;34m\u001b[0m\u001b[0m\n\u001b[0m\u001b[1;32m    856\u001b[0m     \u001b[0;32melif\u001b[0m \u001b[0mself\u001b[0m\u001b[0;34m.\u001b[0m\u001b[0m_stateful_fn\u001b[0m \u001b[0;32mis\u001b[0m \u001b[0;32mnot\u001b[0m \u001b[0;32mNone\u001b[0m\u001b[0;34m:\u001b[0m\u001b[0;34m\u001b[0m\u001b[0;34m\u001b[0m\u001b[0m\n\u001b[1;32m    857\u001b[0m       \u001b[0;31m# Release the lock early so that multiple threads can perform the call\u001b[0m\u001b[0;34m\u001b[0m\u001b[0;34m\u001b[0m\u001b[0;34m\u001b[0m\u001b[0m\n",
            "\u001b[0;32m/usr/local/lib/python3.6/dist-packages/tensorflow/python/eager/function.py\u001b[0m in \u001b[0;36m__call__\u001b[0;34m(self, *args, **kwargs)\u001b[0m\n\u001b[1;32m   2941\u001b[0m        filtered_flat_args) = self._maybe_define_function(args, kwargs)\n\u001b[1;32m   2942\u001b[0m     return graph_function._call_flat(\n\u001b[0;32m-> 2943\u001b[0;31m         filtered_flat_args, captured_inputs=graph_function.captured_inputs)  # pylint: disable=protected-access\n\u001b[0m\u001b[1;32m   2944\u001b[0m \u001b[0;34m\u001b[0m\u001b[0m\n\u001b[1;32m   2945\u001b[0m   \u001b[0;34m@\u001b[0m\u001b[0mproperty\u001b[0m\u001b[0;34m\u001b[0m\u001b[0;34m\u001b[0m\u001b[0m\n",
            "\u001b[0;32m/usr/local/lib/python3.6/dist-packages/tensorflow/python/eager/function.py\u001b[0m in \u001b[0;36m_call_flat\u001b[0;34m(self, args, captured_inputs, cancellation_manager)\u001b[0m\n\u001b[1;32m   1917\u001b[0m       \u001b[0;31m# No tape is watching; skip to running the function.\u001b[0m\u001b[0;34m\u001b[0m\u001b[0;34m\u001b[0m\u001b[0;34m\u001b[0m\u001b[0m\n\u001b[1;32m   1918\u001b[0m       return self._build_call_outputs(self._inference_function.call(\n\u001b[0;32m-> 1919\u001b[0;31m           ctx, args, cancellation_manager=cancellation_manager))\n\u001b[0m\u001b[1;32m   1920\u001b[0m     forward_backward = self._select_forward_and_backward_functions(\n\u001b[1;32m   1921\u001b[0m         \u001b[0margs\u001b[0m\u001b[0;34m,\u001b[0m\u001b[0;34m\u001b[0m\u001b[0;34m\u001b[0m\u001b[0m\n",
            "\u001b[0;32m/usr/local/lib/python3.6/dist-packages/tensorflow/python/eager/function.py\u001b[0m in \u001b[0;36mcall\u001b[0;34m(self, ctx, args, cancellation_manager)\u001b[0m\n\u001b[1;32m    558\u001b[0m               \u001b[0minputs\u001b[0m\u001b[0;34m=\u001b[0m\u001b[0margs\u001b[0m\u001b[0;34m,\u001b[0m\u001b[0;34m\u001b[0m\u001b[0;34m\u001b[0m\u001b[0m\n\u001b[1;32m    559\u001b[0m               \u001b[0mattrs\u001b[0m\u001b[0;34m=\u001b[0m\u001b[0mattrs\u001b[0m\u001b[0;34m,\u001b[0m\u001b[0;34m\u001b[0m\u001b[0;34m\u001b[0m\u001b[0m\n\u001b[0;32m--> 560\u001b[0;31m               ctx=ctx)\n\u001b[0m\u001b[1;32m    561\u001b[0m         \u001b[0;32melse\u001b[0m\u001b[0;34m:\u001b[0m\u001b[0;34m\u001b[0m\u001b[0;34m\u001b[0m\u001b[0m\n\u001b[1;32m    562\u001b[0m           outputs = execute.execute_with_cancellation(\n",
            "\u001b[0;32m/usr/local/lib/python3.6/dist-packages/tensorflow/python/eager/execute.py\u001b[0m in \u001b[0;36mquick_execute\u001b[0;34m(op_name, num_outputs, inputs, attrs, ctx, name)\u001b[0m\n\u001b[1;32m     58\u001b[0m     \u001b[0mctx\u001b[0m\u001b[0;34m.\u001b[0m\u001b[0mensure_initialized\u001b[0m\u001b[0;34m(\u001b[0m\u001b[0;34m)\u001b[0m\u001b[0;34m\u001b[0m\u001b[0;34m\u001b[0m\u001b[0m\n\u001b[1;32m     59\u001b[0m     tensors = pywrap_tfe.TFE_Py_Execute(ctx._handle, device_name, op_name,\n\u001b[0;32m---> 60\u001b[0;31m                                         inputs, attrs, num_outputs)\n\u001b[0m\u001b[1;32m     61\u001b[0m   \u001b[0;32mexcept\u001b[0m \u001b[0mcore\u001b[0m\u001b[0;34m.\u001b[0m\u001b[0m_NotOkStatusException\u001b[0m \u001b[0;32mas\u001b[0m \u001b[0me\u001b[0m\u001b[0;34m:\u001b[0m\u001b[0;34m\u001b[0m\u001b[0;34m\u001b[0m\u001b[0m\n\u001b[1;32m     62\u001b[0m     \u001b[0;32mif\u001b[0m \u001b[0mname\u001b[0m \u001b[0;32mis\u001b[0m \u001b[0;32mnot\u001b[0m \u001b[0;32mNone\u001b[0m\u001b[0;34m:\u001b[0m\u001b[0;34m\u001b[0m\u001b[0;34m\u001b[0m\u001b[0m\n",
            "\u001b[0;31mKeyboardInterrupt\u001b[0m: "
          ]
        }
      ]
    },
    {
      "cell_type": "markdown",
      "metadata": {
        "id": "-7q_MD9Q5_Jd"
      },
      "source": [
        ""
      ]
    },
    {
      "cell_type": "code",
      "metadata": {
        "id": "sPDH0IA_8xee"
      },
      "source": [
        "y_pred=model_dnn.predict(X_test)"
      ],
      "execution_count": 181,
      "outputs": []
    },
    {
      "cell_type": "code",
      "metadata": {
        "colab": {
          "base_uri": "https://localhost:8080/"
        },
        "id": "1PdaWVhX9BvJ",
        "outputId": "f55da8d9-0aaf-45fe-b75e-98c7b4fca841"
      },
      "source": [
        "accuracy = model_dnn.evaluate(X_test, y_test, batch_size=BATCH_SIZE, verbose=1)\r\n",
        "print('Accuracy is: ', accuracy)"
      ],
      "execution_count": 182,
      "outputs": [
        {
          "output_type": "stream",
          "text": [
            "31/31 [==============================] - 1s 20ms/step - loss: 0.0593 - tp: 258242.0000 - fp: 19900.0000 - tn: 3875894.0000 - fn: 20029.0000 - accuracy: 0.9904 - precision: 0.9285 - recall: 0.9280 - auc: 0.9694\n",
            "Accuracy is:  [0.05925154313445091, 258242.0, 19900.0, 3875894.0, 20029.0, 0.9904339909553528, 0.928453803062439, 0.9280233979225159, 0.9694490432739258]\n"
          ],
          "name": "stdout"
        }
      ]
    },
    {
      "cell_type": "code",
      "metadata": {
        "colab": {
          "base_uri": "https://localhost:8080/"
        },
        "id": "3ZcyLQPqAlWS",
        "outputId": "cc8ea8a2-a1bc-40b6-c5e8-564b77207347"
      },
      "source": [
        "display_metrics(y_test_ada, np.argmax(y_pred, axis = 1), labels_d)"
      ],
      "execution_count": 183,
      "outputs": [
        {
          "output_type": "stream",
          "text": [
            "\n",
            "Accuracy: 0.93\n",
            "\n",
            "Micro Precision: 0.93\n",
            "Micro Recall: 0.93\n",
            "Micro F1-score: 0.93\n",
            "\n"
          ],
          "name": "stdout"
        },
        {
          "output_type": "stream",
          "text": [
            "/usr/local/lib/python3.6/dist-packages/sklearn/metrics/_classification.py:1272: UndefinedMetricWarning: Precision is ill-defined and being set to 0.0 in labels with no predicted samples. Use `zero_division` parameter to control this behavior.\n",
            "  _warn_prf(average, modifier, msg_start, len(result))\n"
          ],
          "name": "stderr"
        },
        {
          "output_type": "stream",
          "text": [
            "Macro Precision: 0.54\n",
            "Macro Recall: 0.42\n",
            "Macro F1-score: 0.43\n",
            "\n",
            "Weighted Precision: 0.94\n",
            "Weighted Recall: 0.93\n",
            "Weighted F1-score: 0.92\n",
            "\n",
            "Classification Report\n",
            "\n"
          ],
          "name": "stdout"
        },
        {
          "output_type": "stream",
          "text": [
            "/usr/local/lib/python3.6/dist-packages/sklearn/metrics/_classification.py:1272: UndefinedMetricWarning: Precision and F-score are ill-defined and being set to 0.0 in labels with no predicted samples. Use `zero_division` parameter to control this behavior.\n",
            "  _warn_prf(average, modifier, msg_start, len(result))\n"
          ],
          "name": "stderr"
        },
        {
          "output_type": "stream",
          "text": [
            "                            precision    recall  f1-score   support\n",
            "\n",
            "                    BENIGN       0.96      1.00      0.98    139135\n",
            "                       Bot       0.00      0.00      0.00       489\n",
            "                      DDoS       0.71      1.00      0.83     32006\n",
            "             DoS GoldenEye       0.94      0.82      0.88      2573\n",
            "                  DoS Hulk       1.00      0.75      0.86     57531\n",
            "          DoS Slowhttptest       0.58      0.84      0.69      1374\n",
            "             DoS slowloris       0.92      0.47      0.63      1449\n",
            "               FTP-Patator       1.00      0.30      0.46      1983\n",
            "                Heartbleed       0.00      0.00      0.00         3\n",
            "              Infiltration       0.00      0.00      0.00         9\n",
            "                  PortScan       1.00      0.99      1.00     39701\n",
            "               SSH-Patator       0.00      0.00      0.00      1474\n",
            "  Web Attack � Brute Force       1.00      0.10      0.17       376\n",
            "Web Attack � Sql Injection       0.00      0.00      0.00         5\n",
            "          Web Attack � XSS       0.00      0.00      0.00       163\n",
            "\n",
            "                  accuracy                           0.93    278271\n",
            "                 macro avg       0.54      0.42      0.43    278271\n",
            "              weighted avg       0.94      0.93      0.92    278271\n",
            "\n"
          ],
          "name": "stdout"
        }
      ]
    },
    {
      "cell_type": "markdown",
      "metadata": {
        "id": "erUa8gpIZ04U"
      },
      "source": [
        "# Model 10: CNN1D "
      ]
    },
    {
      "cell_type": "code",
      "metadata": {
        "id": "yTmLBZDpZ04U"
      },
      "source": [
        "from tensorflow.keras.models import Sequential\n",
        "from tensorflow.keras.layers import Conv1D, BatchNormalization, Flatten, Dense, Activation,Dropout\n",
        "from tensorflow.keras.constraints import max_norm"
      ],
      "execution_count": null,
      "outputs": []
    },
    {
      "cell_type": "code",
      "metadata": {
        "colab": {
          "base_uri": "https://localhost:8080/"
        },
        "id": "xLXy3meMZ04U",
        "outputId": "f144a82f-a850-49c4-974e-1d2ae9ca3ca2"
      },
      "source": [
        "#hyper-params\n",
        "batch_size = 1024 # increasing batch size with more gpu added\n",
        "input_dim = X_train.shape[1]\n",
        "num_class = 15                   # 15 intrusion classes, including benign traffic class\n",
        "num_epochs = 30\n",
        "learning_rates = 1e-3\n",
        "regularizations = 1e-3\n",
        "optim = tf.keras.optimizers.Adam(lr=learning_rates, beta_1=0.9, beta_2=0.999, epsilon=1e-8)\n",
        "\n",
        "print(input_dim)\n",
        "print(num_class)"
      ],
      "execution_count": null,
      "outputs": [
        {
          "output_type": "stream",
          "text": [
            "71\n",
            "15\n"
          ],
          "name": "stdout"
        }
      ]
    },
    {
      "cell_type": "code",
      "metadata": {
        "colab": {
          "base_uri": "https://localhost:8080/"
        },
        "id": "mNRbsq6CZ04V",
        "outputId": "148ee859-e320-4a22-c118-cabe52ab7d56"
      },
      "source": [
        "#X_train_r = np.reshape(X_train, (X_train.shape[0], X_train.shape[1], 1))\n",
        "X_train_r = np.zeros((len(X_train), input_dim, 1))\n",
        "X_train_r[:, :, 0] = X_train[:, :input_dim]\n",
        "print(X_train_r.shape)"
      ],
      "execution_count": null,
      "outputs": [
        {
          "output_type": "stream",
          "text": [
            "(556548, 71, 1)\n"
          ],
          "name": "stdout"
        }
      ]
    },
    {
      "cell_type": "code",
      "metadata": {
        "colab": {
          "base_uri": "https://localhost:8080/"
        },
        "id": "UjmIpn1HZ04W",
        "outputId": "2c1c2f93-014b-4c08-8435-e739318768fc"
      },
      "source": [
        "X_test_r = np.zeros((len(X_test), input_dim, 1))\n",
        "X_test_r[:, :, 0] = X_test[:, :input_dim]\n",
        "print(X_test_r.shape)"
      ],
      "execution_count": null,
      "outputs": [
        {
          "output_type": "stream",
          "text": [
            "(278270, 71, 1)\n"
          ],
          "name": "stdout"
        }
      ]
    },
    {
      "cell_type": "code",
      "metadata": {
        "colab": {
          "base_uri": "https://localhost:8080/"
        },
        "id": "m_KlI1VeZ04W",
        "outputId": "68ffab00-7db7-42ca-d671-16330e9fa8f9"
      },
      "source": [
        "X_val_r = np.zeros((len(X_val), input_dim, 1))\n",
        "X_val_r[:, :, 0] = X_val[:, :input_dim]\n",
        "print(X_val_r.shape)"
      ],
      "execution_count": null,
      "outputs": [
        {
          "output_type": "stream",
          "text": [
            "(278270, 71, 1)\n"
          ],
          "name": "stdout"
        }
      ]
    },
    {
      "cell_type": "code",
      "metadata": {
        "colab": {
          "base_uri": "https://localhost:8080/"
        },
        "id": "AkQlzQU0ajuD",
        "outputId": "71d58c31-8c34-435a-934b-9006668ffdc5"
      },
      "source": [
        "X_train_r"
      ],
      "execution_count": null,
      "outputs": [
        {
          "output_type": "execute_result",
          "data": {
            "text/plain": [
              "array([[[7.66048676e-01],\n",
              "        [5.93603125e-03],\n",
              "        [1.00000000e+00],\n",
              "        ...,\n",
              "        [0.00000000e+00],\n",
              "        [0.00000000e+00],\n",
              "        [0.00000000e+00]],\n",
              "\n",
              "       [[7.29167620e-01],\n",
              "        [1.22077764e-03],\n",
              "        [3.52941176e-01],\n",
              "        ...,\n",
              "        [0.00000000e+00],\n",
              "        [7.12500000e-01],\n",
              "        [7.12500000e-01]],\n",
              "\n",
              "       [[7.86144808e-01],\n",
              "        [6.76005616e-03],\n",
              "        [3.52941176e-01],\n",
              "        ...,\n",
              "        [8.96864890e-03],\n",
              "        [4.90833333e-01],\n",
              "        [4.83333333e-01]],\n",
              "\n",
              "       ...,\n",
              "\n",
              "       [[2.53009842e-01],\n",
              "        [1.22077764e-03],\n",
              "        [3.52941176e-01],\n",
              "        ...,\n",
              "        [0.00000000e+00],\n",
              "        [0.00000000e+00],\n",
              "        [0.00000000e+00]],\n",
              "\n",
              "       [[7.85610742e-01],\n",
              "        [8.08765183e-04],\n",
              "        [1.00000000e+00],\n",
              "        ...,\n",
              "        [0.00000000e+00],\n",
              "        [0.00000000e+00],\n",
              "        [0.00000000e+00]],\n",
              "\n",
              "       [[8.26276036e-01],\n",
              "        [1.22077764e-03],\n",
              "        [3.52941176e-01],\n",
              "        ...,\n",
              "        [0.00000000e+00],\n",
              "        [0.00000000e+00],\n",
              "        [0.00000000e+00]]])"
            ]
          },
          "metadata": {
            "tags": []
          },
          "execution_count": 247
        }
      ]
    },
    {
      "cell_type": "code",
      "metadata": {
        "colab": {
          "base_uri": "https://localhost:8080/"
        },
        "id": "jpTZU5OPZ04W",
        "outputId": "31aa9725-0fe7-4c0d-9ab7-1b4176ad7fcd"
      },
      "source": [
        "model = Sequential()\n",
        "\n",
        "# input layer\n",
        "model.add(Conv1D(filters=32, kernel_size=3, padding='same', input_shape=(71,1)))\n",
        "model.add(BatchNormalization(axis=1))\n",
        "model.add(Activation('relu'))\n",
        "\n",
        "\n",
        "model.add(Conv1D(filters=128, kernel_size=3))\n",
        "model.add(BatchNormalization(axis=1))\n",
        "model.add(Activation('relu'))\n",
        "\n",
        "model.add(Flatten())\n",
        "model.add(Dense(100, activation='relu'))\n",
        "model.add(Dropout(0.2))\n",
        "model.add(Dense(num_class))\n",
        "model.add(Activation('softmax'))\n",
        "\n",
        "\n",
        "model.summary()"
      ],
      "execution_count": null,
      "outputs": [
        {
          "output_type": "stream",
          "text": [
            "Model: \"sequential_6\"\n",
            "_________________________________________________________________\n",
            "Layer (type)                 Output Shape              Param #   \n",
            "=================================================================\n",
            "conv1d_8 (Conv1D)            (None, 71, 32)            128       \n",
            "_________________________________________________________________\n",
            "batch_normalization_8 (Batch (None, 71, 32)            284       \n",
            "_________________________________________________________________\n",
            "activation_12 (Activation)   (None, 71, 32)            0         \n",
            "_________________________________________________________________\n",
            "conv1d_9 (Conv1D)            (None, 69, 128)           12416     \n",
            "_________________________________________________________________\n",
            "batch_normalization_9 (Batch (None, 69, 128)           276       \n",
            "_________________________________________________________________\n",
            "activation_13 (Activation)   (None, 69, 128)           0         \n",
            "_________________________________________________________________\n",
            "flatten_4 (Flatten)          (None, 8832)              0         \n",
            "_________________________________________________________________\n",
            "dense_12 (Dense)             (None, 100)               883300    \n",
            "_________________________________________________________________\n",
            "dropout_4 (Dropout)          (None, 100)               0         \n",
            "_________________________________________________________________\n",
            "dense_13 (Dense)             (None, 15)                1515      \n",
            "_________________________________________________________________\n",
            "activation_14 (Activation)   (None, 15)                0         \n",
            "=================================================================\n",
            "Total params: 897,919\n",
            "Trainable params: 897,639\n",
            "Non-trainable params: 280\n",
            "_________________________________________________________________\n"
          ],
          "name": "stdout"
        }
      ]
    },
    {
      "cell_type": "code",
      "metadata": {
        "id": "tEpzDBNyC7P2"
      },
      "source": [
        "early_stopping = tf.keras.callbacks.EarlyStopping(\r\n",
        "    monitor='val_accuracy', \r\n",
        "    verbose=1,\r\n",
        "    patience=10,\r\n",
        "    mode='max',\r\n",
        "    restore_best_weights=True)"
      ],
      "execution_count": null,
      "outputs": []
    },
    {
      "cell_type": "code",
      "metadata": {
        "id": "Tb52JhHSZ04W"
      },
      "source": [
        "model.compile(loss='categorical_crossentropy', optimizer=optim, metrics=['accuracy']) "
      ],
      "execution_count": null,
      "outputs": []
    },
    {
      "cell_type": "markdown",
      "metadata": {
        "id": "wFJZ11t1Z04X"
      },
      "source": [
        "## Step 5. Training the model"
      ]
    },
    {
      "cell_type": "code",
      "metadata": {
        "colab": {
          "base_uri": "https://localhost:8080/"
        },
        "id": "Lq31n_0YZ04X",
        "outputId": "ad9b4e62-35a9-429f-9d10-4086725a878f"
      },
      "source": [
        "# fit network\n",
        "epochs = 50\n",
        "model.fit(X_train_r, y_train, epochs=epochs, batch_size=batch_size, validation_data=(X_test_r, y_test), verbose=1, callbacks=[early_stopping])"
      ],
      "execution_count": null,
      "outputs": [
        {
          "output_type": "stream",
          "text": [
            "Epoch 1/50\n",
            "544/544 [==============================] - 10s 19ms/step - loss: 0.0110 - accuracy: 0.9962 - val_loss: 0.9541 - val_accuracy: 0.8272\n",
            "Epoch 2/50\n",
            "544/544 [==============================] - 10s 19ms/step - loss: 0.0107 - accuracy: 0.9962 - val_loss: 0.5939 - val_accuracy: 0.8978\n",
            "Epoch 3/50\n",
            "544/544 [==============================] - 10s 19ms/step - loss: 0.0106 - accuracy: 0.9963 - val_loss: 0.4867 - val_accuracy: 0.9373\n",
            "Epoch 4/50\n",
            "544/544 [==============================] - 10s 19ms/step - loss: 0.0101 - accuracy: 0.9964 - val_loss: 1.2544 - val_accuracy: 0.7860\n",
            "Epoch 5/50\n",
            "544/544 [==============================] - 10s 19ms/step - loss: 0.0103 - accuracy: 0.9963 - val_loss: 0.5194 - val_accuracy: 0.9147\n",
            "Epoch 6/50\n",
            "544/544 [==============================] - 10s 19ms/step - loss: 0.0098 - accuracy: 0.9965 - val_loss: 0.7574 - val_accuracy: 0.8717\n",
            "Epoch 7/50\n",
            "544/544 [==============================] - 10s 19ms/step - loss: 0.0095 - accuracy: 0.9965 - val_loss: 0.4678 - val_accuracy: 0.9551\n",
            "Epoch 8/50\n",
            "544/544 [==============================] - 10s 19ms/step - loss: 0.0095 - accuracy: 0.9966 - val_loss: 0.3560 - val_accuracy: 0.9581\n",
            "Epoch 9/50\n",
            "544/544 [==============================] - 10s 19ms/step - loss: 0.0094 - accuracy: 0.9965 - val_loss: 0.7849 - val_accuracy: 0.8832\n",
            "Epoch 10/50\n",
            "544/544 [==============================] - 10s 19ms/step - loss: 0.0091 - accuracy: 0.9967 - val_loss: 0.3110 - val_accuracy: 0.9654\n",
            "Epoch 11/50\n",
            "544/544 [==============================] - 10s 19ms/step - loss: 0.0093 - accuracy: 0.9966 - val_loss: 0.7204 - val_accuracy: 0.8893\n",
            "Epoch 12/50\n",
            "544/544 [==============================] - 10s 19ms/step - loss: 0.0088 - accuracy: 0.9968 - val_loss: 0.5198 - val_accuracy: 0.9458\n",
            "Epoch 13/50\n",
            "544/544 [==============================] - 10s 19ms/step - loss: 0.0090 - accuracy: 0.9967 - val_loss: 0.9469 - val_accuracy: 0.8524\n",
            "Epoch 14/50\n",
            "544/544 [==============================] - 10s 19ms/step - loss: 0.0085 - accuracy: 0.9968 - val_loss: 0.3824 - val_accuracy: 0.9637\n",
            "Epoch 15/50\n",
            "544/544 [==============================] - 10s 19ms/step - loss: 0.0101 - accuracy: 0.9964 - val_loss: 0.3664 - val_accuracy: 0.9600\n",
            "Epoch 16/50\n",
            "544/544 [==============================] - 10s 19ms/step - loss: 0.0088 - accuracy: 0.9967 - val_loss: 0.5777 - val_accuracy: 0.9319\n",
            "Epoch 17/50\n",
            "544/544 [==============================] - 10s 19ms/step - loss: 0.0087 - accuracy: 0.9967 - val_loss: 0.3704 - val_accuracy: 0.9621\n",
            "Epoch 18/50\n",
            "544/544 [==============================] - 10s 19ms/step - loss: 0.0086 - accuracy: 0.9968 - val_loss: 0.4081 - val_accuracy: 0.9647\n",
            "Epoch 19/50\n",
            "544/544 [==============================] - 10s 19ms/step - loss: 0.0084 - accuracy: 0.9970 - val_loss: 0.4933 - val_accuracy: 0.9559\n",
            "Epoch 20/50\n",
            "544/544 [==============================] - 10s 19ms/step - loss: 0.0081 - accuracy: 0.9969 - val_loss: 1.0666 - val_accuracy: 0.8716\n",
            "Restoring model weights from the end of the best epoch.\n",
            "Epoch 00020: early stopping\n"
          ],
          "name": "stdout"
        },
        {
          "output_type": "execute_result",
          "data": {
            "text/plain": [
              "<tensorflow.python.keras.callbacks.History at 0x7f7fd100bba8>"
            ]
          },
          "metadata": {
            "tags": []
          },
          "execution_count": 265
        }
      ]
    },
    {
      "cell_type": "code",
      "metadata": {
        "colab": {
          "base_uri": "https://localhost:8080/"
        },
        "id": "VSo0TpT5Z04X",
        "outputId": "d07be9f6-400d-481c-8ee2-ebceae01716b"
      },
      "source": [
        "# evaluate model\n",
        "accuracy = model.evaluate(X_val_r, y_val, batch_size=batch_size, verbose=1)"
      ],
      "execution_count": null,
      "outputs": [
        {
          "output_type": "stream",
          "text": [
            "272/272 [==============================] - 2s 6ms/step - loss: 79.3116 - accuracy: 0.5000\n"
          ],
          "name": "stdout"
        }
      ]
    },
    {
      "cell_type": "code",
      "metadata": {
        "id": "kqGNmOrhH1CL"
      },
      "source": [
        "y_pred=model.predict(X_val_r)"
      ],
      "execution_count": null,
      "outputs": []
    },
    {
      "cell_type": "code",
      "metadata": {
        "colab": {
          "base_uri": "https://localhost:8080/"
        },
        "id": "ltyd2KVLIBCK",
        "outputId": "aad22263-814e-4f9e-a3c2-621c490ef3df"
      },
      "source": [
        "display_metrics(y_val_ada, np.argmax(y_pred, axis = 1), labels_d)"
      ],
      "execution_count": null,
      "outputs": [
        {
          "output_type": "stream",
          "text": [
            "\n",
            "Accuracy: 0.50\n",
            "\n",
            "Micro Precision: 0.50\n",
            "Micro Recall: 0.50\n",
            "Micro F1-score: 0.50\n",
            "\n",
            "Macro Precision: 0.03\n",
            "Macro Recall: 0.07\n"
          ],
          "name": "stdout"
        },
        {
          "output_type": "stream",
          "text": [
            "/usr/local/lib/python3.6/dist-packages/sklearn/metrics/_classification.py:1272: UndefinedMetricWarning: Precision is ill-defined and being set to 0.0 in labels with no predicted samples. Use `zero_division` parameter to control this behavior.\n",
            "  _warn_prf(average, modifier, msg_start, len(result))\n"
          ],
          "name": "stderr"
        },
        {
          "output_type": "stream",
          "text": [
            "Macro F1-score: 0.04\n",
            "\n",
            "Weighted Precision: 0.25\n",
            "Weighted Recall: 0.50\n",
            "Weighted F1-score: 0.33\n",
            "\n",
            "Classification Report\n",
            "\n"
          ],
          "name": "stdout"
        },
        {
          "output_type": "stream",
          "text": [
            "/usr/local/lib/python3.6/dist-packages/sklearn/metrics/_classification.py:1272: UndefinedMetricWarning: Precision and F-score are ill-defined and being set to 0.0 in labels with no predicted samples. Use `zero_division` parameter to control this behavior.\n",
            "  _warn_prf(average, modifier, msg_start, len(result))\n"
          ],
          "name": "stderr"
        },
        {
          "output_type": "stream",
          "text": [
            "                            precision    recall  f1-score   support\n",
            "\n",
            "                    BENIGN       0.50      1.00      0.67    139135\n",
            "                       Bot       0.00      0.00      0.00       489\n",
            "                      DDoS       0.00      0.00      0.00     32006\n",
            "             DoS GoldenEye       0.00      0.00      0.00      2573\n",
            "                  DoS Hulk       0.00      0.00      0.00     57531\n",
            "          DoS Slowhttptest       0.00      0.00      0.00      1374\n",
            "             DoS slowloris       0.00      0.00      0.00      1449\n",
            "               FTP-Patator       0.00      0.00      0.00      1983\n",
            "                Heartbleed       0.00      0.00      0.00         2\n",
            "              Infiltration       0.00      0.00      0.00         9\n",
            "                  PortScan       0.00      0.00      0.00     39701\n",
            "               SSH-Patator       0.00      0.00      0.00      1474\n",
            "  Web Attack � Brute Force       0.00      0.00      0.00       376\n",
            "Web Attack � Sql Injection       0.00      0.00      0.00         5\n",
            "          Web Attack � XSS       0.00      0.00      0.00       163\n",
            "\n",
            "                  accuracy                           0.50    278270\n",
            "                 macro avg       0.03      0.07      0.04    278270\n",
            "              weighted avg       0.25      0.50      0.33    278270\n",
            "\n"
          ],
          "name": "stdout"
        }
      ]
    },
    {
      "cell_type": "markdown",
      "metadata": {
        "id": "kbhp6oW_Z04X"
      },
      "source": [
        ""
      ]
    }
  ]
}